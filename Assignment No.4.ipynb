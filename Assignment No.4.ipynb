{
 "cells": [
  {
   "cell_type": "markdown",
   "metadata": {},
   "source": [
    "### 1.Scrape the details of most viewed videos on YouTube from Wikipedia:\n",
    "Url = https://en.wikipedia.org/wiki/List_of_most-viewed_YouTube_videos/"
   ]
  },
  {
   "cell_type": "code",
   "execution_count": 1,
   "metadata": {},
   "outputs": [],
   "source": [
    "# Importing Libraries\n",
    "import selenium\n",
    "import pandas as pd\n",
    "import time\n",
    "from bs4 import BeautifulSoup\n",
    "\n",
    "# Importing selenium webdriver \n",
    "from selenium import webdriver\n",
    "\n",
    "# Importing required Exceptions which needs to handled\n",
    "from selenium.common.exceptions import StaleElementReferenceException, NoSuchElementException"
   ]
  },
  {
   "cell_type": "code",
   "execution_count": 2,
   "metadata": {},
   "outputs": [],
   "source": [
    "# Activating the chrome browser\n",
    "driver=webdriver.Chrome(r\"C:\\Users\\Hp\\Desktop\\chromedriver.exe\")"
   ]
  },
  {
   "cell_type": "code",
   "execution_count": 3,
   "metadata": {},
   "outputs": [],
   "source": [
    "driver.get(\"https://en.wikipedia.org/wiki/List_of_most-viewed_YouTube_videos\")"
   ]
  },
  {
   "cell_type": "code",
   "execution_count": 4,
   "metadata": {},
   "outputs": [],
   "source": [
    "ranks=[]\n",
    "name=[]\n",
    "artist=[]\n",
    "upload_date=[]\n",
    "views=[]"
   ]
  },
  {
   "cell_type": "code",
   "execution_count": 5,
   "metadata": {},
   "outputs": [
    {
     "data": {
      "text/plain": [
       "[<selenium.webdriver.remote.webelement.WebElement (session=\"a62793ca21961f810dbc5bb70ea3c91e\", element=\"31f9b5a0-fbdc-4834-b3f4-d98717bfd4a5\")>,\n",
       " <selenium.webdriver.remote.webelement.WebElement (session=\"a62793ca21961f810dbc5bb70ea3c91e\", element=\"8761c6d4-556a-4b79-b2cf-4cdab7e9523f\")>,\n",
       " <selenium.webdriver.remote.webelement.WebElement (session=\"a62793ca21961f810dbc5bb70ea3c91e\", element=\"f69ca087-107f-4f5d-80dd-9e5d9abeb969\")>,\n",
       " <selenium.webdriver.remote.webelement.WebElement (session=\"a62793ca21961f810dbc5bb70ea3c91e\", element=\"eeafec7b-b077-4b1d-9fd1-9773b2e40fa2\")>]"
      ]
     },
     "execution_count": 5,
     "metadata": {},
     "output_type": "execute_result"
    }
   ],
   "source": [
    "rank_tags=driver.find_elements_by_xpath(\"//table[@class='wikitable sortable jquery-tablesorter']/tbody/tr/td\")\n",
    "rank_tags[0:4]"
   ]
  },
  {
   "cell_type": "code",
   "execution_count": 6,
   "metadata": {},
   "outputs": [
    {
     "data": {
      "text/plain": [
       "['1.', '\"Baby Shark Dance\"[28]', \"Pinkfong Kids' Songs & Stories\", '7.91']"
      ]
     },
     "execution_count": 6,
     "metadata": {},
     "output_type": "execute_result"
    }
   ],
   "source": [
    "ranki=[]\n",
    "for i in rank_tags:\n",
    "    title=i.text\n",
    "    ranki.append(title)\n",
    "ranki[0:4]"
   ]
  },
  {
   "cell_type": "code",
   "execution_count": 7,
   "metadata": {},
   "outputs": [
    {
     "data": {
      "text/plain": [
       "['1.',\n",
       " '\"Baby Shark Dance\"[28]',\n",
       " \"Pinkfong Kids' Songs & Stories\",\n",
       " '7.91',\n",
       " 'June 17, 2016',\n",
       " '[B]',\n",
       " '2.',\n",
       " '\"Despacito\"[30]',\n",
       " 'Luis Fonsi featuring Daddy Yankee',\n",
       " '7.20',\n",
       " 'January 12, 2017',\n",
       " '[C]',\n",
       " '3.',\n",
       " '\"Shape of You\"[31]',\n",
       " 'Ed Sheeran',\n",
       " '5.18']"
      ]
     },
     "execution_count": 7,
     "metadata": {},
     "output_type": "execute_result"
    }
   ],
   "source": [
    "ranki[0:16]"
   ]
  },
  {
   "cell_type": "code",
   "execution_count": 8,
   "metadata": {},
   "outputs": [
    {
     "data": {
      "text/plain": [
       "['\"Baby Shark Dance\"[28]',\n",
       " '\"Despacito\"[30]',\n",
       " '\"Shape of You\"[31]',\n",
       " '\"See You Again\"[32]']"
      ]
     },
     "execution_count": 8,
     "metadata": {},
     "output_type": "execute_result"
    }
   ],
   "source": [
    "names=ranki[1::6]\n",
    "names[0:4]"
   ]
  },
  {
   "cell_type": "code",
   "execution_count": 9,
   "metadata": {},
   "outputs": [
    {
     "data": {
      "text/plain": [
       "['1.', '2.', '3.', '4.']"
      ]
     },
     "execution_count": 9,
     "metadata": {},
     "output_type": "execute_result"
    }
   ],
   "source": [
    "rank=ranki[0::6]\n",
    "rank[0:4]"
   ]
  },
  {
   "cell_type": "code",
   "execution_count": 10,
   "metadata": {},
   "outputs": [
    {
     "data": {
      "text/plain": [
       "[\"Pinkfong Kids' Songs & Stories\",\n",
       " 'Luis Fonsi featuring Daddy Yankee',\n",
       " 'Ed Sheeran',\n",
       " 'Wiz Khalifa featuring Charlie Puth']"
      ]
     },
     "execution_count": 10,
     "metadata": {},
     "output_type": "execute_result"
    }
   ],
   "source": [
    "artist=ranki[2::6]\n",
    "artist[0:4]"
   ]
  },
  {
   "cell_type": "code",
   "execution_count": 11,
   "metadata": {},
   "outputs": [
    {
     "data": {
      "text/plain": [
       "['June 17, 2016', 'January 12, 2017', 'January 30, 2017', 'April 6, 2015']"
      ]
     },
     "execution_count": 11,
     "metadata": {},
     "output_type": "execute_result"
    }
   ],
   "source": [
    "date=ranki[4::6]\n",
    "date[0:4]"
   ]
  },
  {
   "cell_type": "code",
   "execution_count": 12,
   "metadata": {},
   "outputs": [
    {
     "data": {
      "text/plain": [
       "['7.91', '7.20', '5.18', '4.96']"
      ]
     },
     "execution_count": 12,
     "metadata": {},
     "output_type": "execute_result"
    }
   ],
   "source": [
    "views=ranki[3::6]\n",
    "views[0:4]"
   ]
  },
  {
   "cell_type": "code",
   "execution_count": 13,
   "metadata": {},
   "outputs": [
    {
     "data": {
      "text/html": [
       "<div>\n",
       "<style scoped>\n",
       "    .dataframe tbody tr th:only-of-type {\n",
       "        vertical-align: middle;\n",
       "    }\n",
       "\n",
       "    .dataframe tbody tr th {\n",
       "        vertical-align: top;\n",
       "    }\n",
       "\n",
       "    .dataframe thead th {\n",
       "        text-align: right;\n",
       "    }\n",
       "</style>\n",
       "<table border=\"1\" class=\"dataframe\">\n",
       "  <thead>\n",
       "    <tr style=\"text-align: right;\">\n",
       "      <th></th>\n",
       "      <th>rank</th>\n",
       "      <th>name</th>\n",
       "      <th>artist</th>\n",
       "      <th>date</th>\n",
       "      <th>views(billions)</th>\n",
       "    </tr>\n",
       "  </thead>\n",
       "  <tbody>\n",
       "    <tr>\n",
       "      <th>0</th>\n",
       "      <td>1.</td>\n",
       "      <td>\"Baby Shark Dance\"[28]</td>\n",
       "      <td>Pinkfong Kids' Songs &amp; Stories</td>\n",
       "      <td>June 17, 2016</td>\n",
       "      <td>7.91</td>\n",
       "    </tr>\n",
       "    <tr>\n",
       "      <th>1</th>\n",
       "      <td>2.</td>\n",
       "      <td>\"Despacito\"[30]</td>\n",
       "      <td>Luis Fonsi featuring Daddy Yankee</td>\n",
       "      <td>January 12, 2017</td>\n",
       "      <td>7.20</td>\n",
       "    </tr>\n",
       "    <tr>\n",
       "      <th>2</th>\n",
       "      <td>3.</td>\n",
       "      <td>\"Shape of You\"[31]</td>\n",
       "      <td>Ed Sheeran</td>\n",
       "      <td>January 30, 2017</td>\n",
       "      <td>5.18</td>\n",
       "    </tr>\n",
       "    <tr>\n",
       "      <th>3</th>\n",
       "      <td>4.</td>\n",
       "      <td>\"See You Again\"[32]</td>\n",
       "      <td>Wiz Khalifa featuring Charlie Puth</td>\n",
       "      <td>April 6, 2015</td>\n",
       "      <td>4.96</td>\n",
       "    </tr>\n",
       "    <tr>\n",
       "      <th>4</th>\n",
       "      <td>5.</td>\n",
       "      <td>\"Johny Johny Yes Papa\"[35]</td>\n",
       "      <td>LooLoo Kids</td>\n",
       "      <td>October 8, 2016</td>\n",
       "      <td>4.77</td>\n",
       "    </tr>\n",
       "    <tr>\n",
       "      <th>5</th>\n",
       "      <td>6.</td>\n",
       "      <td>\"Masha and the Bear – Recipe for Disaster\"[36]</td>\n",
       "      <td>Get Movies</td>\n",
       "      <td>January 31, 2012</td>\n",
       "      <td>4.41</td>\n",
       "    </tr>\n",
       "    <tr>\n",
       "      <th>6</th>\n",
       "      <td>7.</td>\n",
       "      <td>\"Uptown Funk\"[37]</td>\n",
       "      <td>Mark Ronson featuring Bruno Mars</td>\n",
       "      <td>November 19, 2014</td>\n",
       "      <td>4.09</td>\n",
       "    </tr>\n",
       "    <tr>\n",
       "      <th>7</th>\n",
       "      <td>8.</td>\n",
       "      <td>\"Gangnam Style\"[38]</td>\n",
       "      <td>Psy</td>\n",
       "      <td>July 15, 2012</td>\n",
       "      <td>3.97</td>\n",
       "    </tr>\n",
       "    <tr>\n",
       "      <th>8</th>\n",
       "      <td>9.</td>\n",
       "      <td>\"Learning Colors – Colorful Eggs on a Farm\"[40]</td>\n",
       "      <td>Miroshka TV</td>\n",
       "      <td>February 27, 2018</td>\n",
       "      <td>3.69</td>\n",
       "    </tr>\n",
       "    <tr>\n",
       "      <th>9</th>\n",
       "      <td>10.</td>\n",
       "      <td>\"Bath Song\"[41]</td>\n",
       "      <td>Cocomelon – Nursery Rhymes</td>\n",
       "      <td>May 2, 2018</td>\n",
       "      <td>3.64</td>\n",
       "    </tr>\n",
       "    <tr>\n",
       "      <th>10</th>\n",
       "      <td>11.</td>\n",
       "      <td>\"Phonics Song with Two Words\"[42]</td>\n",
       "      <td>ChuChu TV</td>\n",
       "      <td>March 6, 2014</td>\n",
       "      <td>3.53</td>\n",
       "    </tr>\n",
       "    <tr>\n",
       "      <th>11</th>\n",
       "      <td>12.</td>\n",
       "      <td>\"Sorry\"[43]</td>\n",
       "      <td>Justin Bieber</td>\n",
       "      <td>October 22, 2015</td>\n",
       "      <td>3.40</td>\n",
       "    </tr>\n",
       "    <tr>\n",
       "      <th>12</th>\n",
       "      <td>13.</td>\n",
       "      <td>\"Sugar\"[44]</td>\n",
       "      <td>Maroon 5</td>\n",
       "      <td>January 14, 2015</td>\n",
       "      <td>3.39</td>\n",
       "    </tr>\n",
       "    <tr>\n",
       "      <th>13</th>\n",
       "      <td>14.</td>\n",
       "      <td>\"Roar\"[45]</td>\n",
       "      <td>Katy Perry</td>\n",
       "      <td>September 5, 2013</td>\n",
       "      <td>3.27</td>\n",
       "    </tr>\n",
       "    <tr>\n",
       "      <th>14</th>\n",
       "      <td>15.</td>\n",
       "      <td>\"Counting Stars\"[46]</td>\n",
       "      <td>OneRepublic</td>\n",
       "      <td>May 31, 2013</td>\n",
       "      <td>3.19</td>\n",
       "    </tr>\n",
       "    <tr>\n",
       "      <th>15</th>\n",
       "      <td>16.</td>\n",
       "      <td>\"Thinking Out Loud\"[47]</td>\n",
       "      <td>Ed Sheeran</td>\n",
       "      <td>October 7, 2014</td>\n",
       "      <td>3.18</td>\n",
       "    </tr>\n",
       "    <tr>\n",
       "      <th>16</th>\n",
       "      <td>17.</td>\n",
       "      <td>\"Dame Tu Cosita\"[48]</td>\n",
       "      <td>El Chombo featuring Cutty Ranks</td>\n",
       "      <td>April 5, 2018</td>\n",
       "      <td>3.11</td>\n",
       "    </tr>\n",
       "    <tr>\n",
       "      <th>17</th>\n",
       "      <td>18.</td>\n",
       "      <td>\"Shake It Off\"[49]</td>\n",
       "      <td>Taylor Swift</td>\n",
       "      <td>August 18, 2014</td>\n",
       "      <td>3.02</td>\n",
       "    </tr>\n",
       "    <tr>\n",
       "      <th>18</th>\n",
       "      <td>19.</td>\n",
       "      <td>\"Faded\"[50]</td>\n",
       "      <td>Alan Walker</td>\n",
       "      <td>December 3, 2015</td>\n",
       "      <td>2.98</td>\n",
       "    </tr>\n",
       "    <tr>\n",
       "      <th>19</th>\n",
       "      <td>20.</td>\n",
       "      <td>\"Lean On\"[51]</td>\n",
       "      <td>Major Lazer and DJ Snake featuring MØ</td>\n",
       "      <td>March 22, 2015</td>\n",
       "      <td>2.97</td>\n",
       "    </tr>\n",
       "    <tr>\n",
       "      <th>20</th>\n",
       "      <td>21.</td>\n",
       "      <td>\"Bailando\"[52]</td>\n",
       "      <td>Enrique Iglesias featuring Descemer Bueno and ...</td>\n",
       "      <td>April 11, 2014</td>\n",
       "      <td>2.97</td>\n",
       "    </tr>\n",
       "    <tr>\n",
       "      <th>21</th>\n",
       "      <td>22.</td>\n",
       "      <td>\"Dark Horse\"[53]</td>\n",
       "      <td>Katy Perry featuring Juicy J</td>\n",
       "      <td>February 20, 2014</td>\n",
       "      <td>2.97</td>\n",
       "    </tr>\n",
       "    <tr>\n",
       "      <th>22</th>\n",
       "      <td>23.</td>\n",
       "      <td>\"Girls Like You\"[54]</td>\n",
       "      <td>Maroon 5 featuring Cardi B</td>\n",
       "      <td>May 31, 2018</td>\n",
       "      <td>2.96</td>\n",
       "    </tr>\n",
       "    <tr>\n",
       "      <th>23</th>\n",
       "      <td>24.</td>\n",
       "      <td>\"Let Her Go\"[55]</td>\n",
       "      <td>Passenger</td>\n",
       "      <td>July 25, 2012</td>\n",
       "      <td>2.91</td>\n",
       "    </tr>\n",
       "    <tr>\n",
       "      <th>24</th>\n",
       "      <td>25.</td>\n",
       "      <td>\"Mi Gente\"[56]</td>\n",
       "      <td>J Balvin and Willy William</td>\n",
       "      <td>June 29, 2017</td>\n",
       "      <td>2.86</td>\n",
       "    </tr>\n",
       "    <tr>\n",
       "      <th>25</th>\n",
       "      <td>26.</td>\n",
       "      <td>\"Hello\"[57]</td>\n",
       "      <td>Adele</td>\n",
       "      <td>October 22, 2015</td>\n",
       "      <td>2.79</td>\n",
       "    </tr>\n",
       "    <tr>\n",
       "      <th>26</th>\n",
       "      <td>27.</td>\n",
       "      <td>\"Perfect\"[58]</td>\n",
       "      <td>Ed Sheeran</td>\n",
       "      <td>November 9, 2017</td>\n",
       "      <td>2.74</td>\n",
       "    </tr>\n",
       "    <tr>\n",
       "      <th>27</th>\n",
       "      <td>28.</td>\n",
       "      <td>\"Waka Waka (This Time for Africa)\"[59]</td>\n",
       "      <td>Shakira featuring Freshlyground</td>\n",
       "      <td>June 4, 2010</td>\n",
       "      <td>2.74</td>\n",
       "    </tr>\n",
       "    <tr>\n",
       "      <th>28</th>\n",
       "      <td>29.</td>\n",
       "      <td>\"Blank Space\"[60]</td>\n",
       "      <td>Taylor Swift</td>\n",
       "      <td>November 10, 2014</td>\n",
       "      <td>2.72</td>\n",
       "    </tr>\n",
       "    <tr>\n",
       "      <th>29</th>\n",
       "      <td>30.</td>\n",
       "      <td>\"Chantaje\"[61]</td>\n",
       "      <td>Shakira featuring Maluma</td>\n",
       "      <td>November 18, 2016</td>\n",
       "      <td>2.62</td>\n",
       "    </tr>\n",
       "  </tbody>\n",
       "</table>\n",
       "</div>"
      ],
      "text/plain": [
       "   rank                                             name  \\\n",
       "0    1.                           \"Baby Shark Dance\"[28]   \n",
       "1    2.                                  \"Despacito\"[30]   \n",
       "2    3.                               \"Shape of You\"[31]   \n",
       "3    4.                              \"See You Again\"[32]   \n",
       "4    5.                       \"Johny Johny Yes Papa\"[35]   \n",
       "5    6.   \"Masha and the Bear – Recipe for Disaster\"[36]   \n",
       "6    7.                                \"Uptown Funk\"[37]   \n",
       "7    8.                              \"Gangnam Style\"[38]   \n",
       "8    9.  \"Learning Colors – Colorful Eggs on a Farm\"[40]   \n",
       "9   10.                                  \"Bath Song\"[41]   \n",
       "10  11.                \"Phonics Song with Two Words\"[42]   \n",
       "11  12.                                      \"Sorry\"[43]   \n",
       "12  13.                                      \"Sugar\"[44]   \n",
       "13  14.                                       \"Roar\"[45]   \n",
       "14  15.                             \"Counting Stars\"[46]   \n",
       "15  16.                          \"Thinking Out Loud\"[47]   \n",
       "16  17.                             \"Dame Tu Cosita\"[48]   \n",
       "17  18.                               \"Shake It Off\"[49]   \n",
       "18  19.                                      \"Faded\"[50]   \n",
       "19  20.                                    \"Lean On\"[51]   \n",
       "20  21.                                   \"Bailando\"[52]   \n",
       "21  22.                                 \"Dark Horse\"[53]   \n",
       "22  23.                             \"Girls Like You\"[54]   \n",
       "23  24.                                 \"Let Her Go\"[55]   \n",
       "24  25.                                   \"Mi Gente\"[56]   \n",
       "25  26.                                      \"Hello\"[57]   \n",
       "26  27.                                    \"Perfect\"[58]   \n",
       "27  28.           \"Waka Waka (This Time for Africa)\"[59]   \n",
       "28  29.                                \"Blank Space\"[60]   \n",
       "29  30.                                   \"Chantaje\"[61]   \n",
       "\n",
       "                                               artist               date  \\\n",
       "0                      Pinkfong Kids' Songs & Stories      June 17, 2016   \n",
       "1                   Luis Fonsi featuring Daddy Yankee   January 12, 2017   \n",
       "2                                          Ed Sheeran   January 30, 2017   \n",
       "3                  Wiz Khalifa featuring Charlie Puth      April 6, 2015   \n",
       "4                                         LooLoo Kids    October 8, 2016   \n",
       "5                                          Get Movies   January 31, 2012   \n",
       "6                    Mark Ronson featuring Bruno Mars  November 19, 2014   \n",
       "7                                                 Psy      July 15, 2012   \n",
       "8                                         Miroshka TV  February 27, 2018   \n",
       "9                          Cocomelon – Nursery Rhymes        May 2, 2018   \n",
       "10                                          ChuChu TV      March 6, 2014   \n",
       "11                                      Justin Bieber   October 22, 2015   \n",
       "12                                           Maroon 5   January 14, 2015   \n",
       "13                                         Katy Perry  September 5, 2013   \n",
       "14                                        OneRepublic       May 31, 2013   \n",
       "15                                         Ed Sheeran    October 7, 2014   \n",
       "16                    El Chombo featuring Cutty Ranks      April 5, 2018   \n",
       "17                                       Taylor Swift    August 18, 2014   \n",
       "18                                        Alan Walker   December 3, 2015   \n",
       "19              Major Lazer and DJ Snake featuring MØ     March 22, 2015   \n",
       "20  Enrique Iglesias featuring Descemer Bueno and ...     April 11, 2014   \n",
       "21                       Katy Perry featuring Juicy J  February 20, 2014   \n",
       "22                         Maroon 5 featuring Cardi B       May 31, 2018   \n",
       "23                                          Passenger      July 25, 2012   \n",
       "24                         J Balvin and Willy William      June 29, 2017   \n",
       "25                                              Adele   October 22, 2015   \n",
       "26                                         Ed Sheeran   November 9, 2017   \n",
       "27                    Shakira featuring Freshlyground       June 4, 2010   \n",
       "28                                       Taylor Swift  November 10, 2014   \n",
       "29                           Shakira featuring Maluma  November 18, 2016   \n",
       "\n",
       "   views(billions)  \n",
       "0             7.91  \n",
       "1             7.20  \n",
       "2             5.18  \n",
       "3             4.96  \n",
       "4             4.77  \n",
       "5             4.41  \n",
       "6             4.09  \n",
       "7             3.97  \n",
       "8             3.69  \n",
       "9             3.64  \n",
       "10            3.53  \n",
       "11            3.40  \n",
       "12            3.39  \n",
       "13            3.27  \n",
       "14            3.19  \n",
       "15            3.18  \n",
       "16            3.11  \n",
       "17            3.02  \n",
       "18            2.98  \n",
       "19            2.97  \n",
       "20            2.97  \n",
       "21            2.97  \n",
       "22            2.96  \n",
       "23            2.91  \n",
       "24            2.86  \n",
       "25            2.79  \n",
       "26            2.74  \n",
       "27            2.74  \n",
       "28            2.72  \n",
       "29            2.62  "
      ]
     },
     "execution_count": 13,
     "metadata": {},
     "output_type": "execute_result"
    }
   ],
   "source": [
    "videos=pd.DataFrame({})\n",
    "videos['rank']=rank[0:30]\n",
    "videos['name']=names[0:30]\n",
    "videos['artist']=artist[0:30]\n",
    "videos['date']=date[0:30]\n",
    "videos['views(billions)']=views[0:30]\n",
    "videos"
   ]
  },
  {
   "cell_type": "markdown",
   "metadata": {},
   "source": [
    "### 2.Scrape the details team India’s international fixtures from bcci.tv.\n",
    "Url = https://www.bcci.tv/.\n"
   ]
  },
  {
   "cell_type": "code",
   "execution_count": 62,
   "metadata": {},
   "outputs": [],
   "source": [
    "# Activating the chrome browser\n",
    "driver=webdriver.Chrome(r\"C:\\Users\\Hp\\Desktop\\chromedriver.exe\")"
   ]
  },
  {
   "cell_type": "code",
   "execution_count": 63,
   "metadata": {},
   "outputs": [],
   "source": [
    "driver.get(\"https://www.bcci.tv/\")"
   ]
  },
  {
   "cell_type": "code",
   "execution_count": 64,
   "metadata": {},
   "outputs": [],
   "source": [
    "search_button=driver.find_element_by_xpath(\"//div[@class='navigation__drop-down drop-down drop-down--reveal-on-hover']\")\n",
    "search_button.click()"
   ]
  },
  {
   "cell_type": "code",
   "execution_count": 65,
   "metadata": {},
   "outputs": [],
   "source": [
    "# Importing required Exceptions which needs to handled\n",
    "from selenium.common.exceptions import StaleElementReferenceException, NoSuchElementException\n"
   ]
  },
  {
   "cell_type": "code",
   "execution_count": 66,
   "metadata": {},
   "outputs": [],
   "source": [
    "fixture_button=driver.find_element_by_xpath(\"//a[@class='navigation__link navigation__link--in-drop-down']\")\n",
    "fixture_button.click()"
   ]
  },
  {
   "cell_type": "code",
   "execution_count": 67,
   "metadata": {},
   "outputs": [],
   "source": [
    "titles=[]\n",
    "series=[]\n",
    "place=[]\n",
    "date=[]\n",
    "time=[]"
   ]
  },
  {
   "cell_type": "code",
   "execution_count": 68,
   "metadata": {},
   "outputs": [],
   "source": [
    "tags=driver.find_elements_by_xpath(\"//p[@class='fixture__additional-info']/strong\")"
   ]
  },
  {
   "cell_type": "code",
   "execution_count": 69,
   "metadata": {},
   "outputs": [
    {
     "data": {
      "text/plain": [
       "['2nd Test', '3rd Test', '4th Test', '1st T20I']"
      ]
     },
     "execution_count": 69,
     "metadata": {},
     "output_type": "execute_result"
    }
   ],
   "source": [
    "for i in tags:\n",
    "    title=i.text\n",
    "    titles.append(title)\n",
    "titles[0:4]"
   ]
  },
  {
   "cell_type": "code",
   "execution_count": 70,
   "metadata": {},
   "outputs": [
    {
     "data": {
      "text/plain": [
       "['TEST', 'TEST', 'TEST', 'T20I']"
      ]
     },
     "execution_count": 70,
     "metadata": {},
     "output_type": "execute_result"
    }
   ],
   "source": [
    "tags=driver.find_elements_by_xpath(\"//div[@class='fixture__format-strip']/span[1]\")\n",
    "for i in tags:\n",
    "    title=i.text\n",
    "    series.append(title)\n",
    "series[0:4]"
   ]
  },
  {
   "cell_type": "code",
   "execution_count": 71,
   "metadata": {},
   "outputs": [
    {
     "data": {
      "text/plain": [
       "['M. A. Chidambaram Stadium, Chennai',\n",
       " 'Sardar Patel Stadium, Ahmedabad',\n",
       " 'Sardar Patel Stadium, Ahmedabad',\n",
       " 'Sardar Patel Stadium, Ahmedabad']"
      ]
     },
     "execution_count": 71,
     "metadata": {},
     "output_type": "execute_result"
    }
   ],
   "source": [
    "tags=driver.find_elements_by_xpath(\"//p[@class='fixture__additional-info']/span[1]\")\n",
    "for i in tags:\n",
    "    title=i.text\n",
    "    place.append(title)\n",
    "place[0:4]"
   ]
  },
  {
   "cell_type": "code",
   "execution_count": 72,
   "metadata": {},
   "outputs": [
    {
     "data": {
      "text/plain": [
       "['13\\nFEBRUARY\\n09:30 IST',\n",
       " '24\\nFEBRUARY\\n14:30 IST',\n",
       " '04\\nMARCH\\n09:30 IST',\n",
       " '12\\nMARCH\\n19:00 IST']"
      ]
     },
     "execution_count": 72,
     "metadata": {},
     "output_type": "execute_result"
    }
   ],
   "source": [
    "dates=[]\n",
    "tags=driver.find_elements_by_xpath(\"//div[@class='fixture__full-date']\")\n",
    "for i in tags:\n",
    "    title=i.text\n",
    "    dates.append(title)\n",
    "dates[0:4]"
   ]
  },
  {
   "cell_type": "code",
   "execution_count": 73,
   "metadata": {},
   "outputs": [],
   "source": [
    "res=[]\n",
    "for i in dates:\n",
    "    res.append(i.replace(\"\\n\",\" \"))"
   ]
  },
  {
   "cell_type": "code",
   "execution_count": 74,
   "metadata": {},
   "outputs": [
    {
     "data": {
      "text/plain": [
       "['13 FEBRUARY 09:30 IST',\n",
       " '24 FEBRUARY 14:30 IST',\n",
       " '04 MARCH 09:30 IST',\n",
       " '12 MARCH 19:00 IST']"
      ]
     },
     "execution_count": 74,
     "metadata": {},
     "output_type": "execute_result"
    }
   ],
   "source": [
    "res[0:4]"
   ]
  },
  {
   "cell_type": "code",
   "execution_count": 75,
   "metadata": {},
   "outputs": [],
   "source": [
    "time=[i.split(\" \")[-2] for i in res]"
   ]
  },
  {
   "cell_type": "code",
   "execution_count": 76,
   "metadata": {},
   "outputs": [
    {
     "data": {
      "text/plain": [
       "['09:30', '14:30', '09:30', '19:00']"
      ]
     },
     "execution_count": 76,
     "metadata": {},
     "output_type": "execute_result"
    }
   ],
   "source": [
    "time[0:4]"
   ]
  },
  {
   "cell_type": "code",
   "execution_count": 78,
   "metadata": {},
   "outputs": [
    {
     "data": {
      "text/plain": [
       "['13', '24', '04']"
      ]
     },
     "execution_count": 78,
     "metadata": {},
     "output_type": "execute_result"
    }
   ],
   "source": [
    "da=[i.split(\" \")[0] for i in res]\n",
    "da[0:3]"
   ]
  },
  {
   "cell_type": "code",
   "execution_count": 79,
   "metadata": {},
   "outputs": [
    {
     "data": {
      "text/plain": [
       "['FEBRUARY', 'FEBRUARY', 'MARCH']"
      ]
     },
     "execution_count": 79,
     "metadata": {},
     "output_type": "execute_result"
    }
   ],
   "source": [
    "te=[i.split(\" \")[1] for i in res]\n",
    "te[0:3]"
   ]
  },
  {
   "cell_type": "code",
   "execution_count": 84,
   "metadata": {},
   "outputs": [
    {
     "data": {
      "text/html": [
       "<div>\n",
       "<style scoped>\n",
       "    .dataframe tbody tr th:only-of-type {\n",
       "        vertical-align: middle;\n",
       "    }\n",
       "\n",
       "    .dataframe tbody tr th {\n",
       "        vertical-align: top;\n",
       "    }\n",
       "\n",
       "    .dataframe thead th {\n",
       "        text-align: right;\n",
       "    }\n",
       "</style>\n",
       "<table border=\"1\" class=\"dataframe\">\n",
       "  <thead>\n",
       "    <tr style=\"text-align: right;\">\n",
       "      <th></th>\n",
       "      <th>Match Title</th>\n",
       "      <th>Series</th>\n",
       "      <th>Place</th>\n",
       "      <th>Date</th>\n",
       "      <th>month</th>\n",
       "      <th>Time</th>\n",
       "    </tr>\n",
       "  </thead>\n",
       "  <tbody>\n",
       "    <tr>\n",
       "      <th>0</th>\n",
       "      <td>2nd Test</td>\n",
       "      <td>TEST</td>\n",
       "      <td>M. A. Chidambaram Stadium, Chennai</td>\n",
       "      <td>13</td>\n",
       "      <td>FEBRUARY</td>\n",
       "      <td>09:30</td>\n",
       "    </tr>\n",
       "    <tr>\n",
       "      <th>1</th>\n",
       "      <td>3rd Test</td>\n",
       "      <td>TEST</td>\n",
       "      <td>Sardar Patel Stadium, Ahmedabad</td>\n",
       "      <td>24</td>\n",
       "      <td>FEBRUARY</td>\n",
       "      <td>14:30</td>\n",
       "    </tr>\n",
       "    <tr>\n",
       "      <th>2</th>\n",
       "      <td>4th Test</td>\n",
       "      <td>TEST</td>\n",
       "      <td>Sardar Patel Stadium, Ahmedabad</td>\n",
       "      <td>04</td>\n",
       "      <td>MARCH</td>\n",
       "      <td>09:30</td>\n",
       "    </tr>\n",
       "    <tr>\n",
       "      <th>3</th>\n",
       "      <td>1st T20I</td>\n",
       "      <td>T20I</td>\n",
       "      <td>Sardar Patel Stadium, Ahmedabad</td>\n",
       "      <td>12</td>\n",
       "      <td>MARCH</td>\n",
       "      <td>19:00</td>\n",
       "    </tr>\n",
       "    <tr>\n",
       "      <th>4</th>\n",
       "      <td>2nd T20I</td>\n",
       "      <td>T20I</td>\n",
       "      <td>Sardar Patel Stadium, Ahmedabad</td>\n",
       "      <td>14</td>\n",
       "      <td>MARCH</td>\n",
       "      <td>19:00</td>\n",
       "    </tr>\n",
       "    <tr>\n",
       "      <th>5</th>\n",
       "      <td>3rd T20I</td>\n",
       "      <td>T20I</td>\n",
       "      <td>Sardar Patel Stadium, Ahmedabad</td>\n",
       "      <td>16</td>\n",
       "      <td>MARCH</td>\n",
       "      <td>19:00</td>\n",
       "    </tr>\n",
       "    <tr>\n",
       "      <th>6</th>\n",
       "      <td>4th T20I</td>\n",
       "      <td>T20I</td>\n",
       "      <td>Sardar Patel Stadium, Ahmedabad</td>\n",
       "      <td>18</td>\n",
       "      <td>MARCH</td>\n",
       "      <td>19:00</td>\n",
       "    </tr>\n",
       "    <tr>\n",
       "      <th>7</th>\n",
       "      <td>5th T20I</td>\n",
       "      <td>T20I</td>\n",
       "      <td>Sardar Patel Stadium, Ahmedabad</td>\n",
       "      <td>20</td>\n",
       "      <td>MARCH</td>\n",
       "      <td>19:00</td>\n",
       "    </tr>\n",
       "    <tr>\n",
       "      <th>8</th>\n",
       "      <td>1st ODI</td>\n",
       "      <td>ODI</td>\n",
       "      <td>Maharashtra Cricket Association Stadium, Pune</td>\n",
       "      <td>23</td>\n",
       "      <td>MARCH</td>\n",
       "      <td>13:30</td>\n",
       "    </tr>\n",
       "    <tr>\n",
       "      <th>9</th>\n",
       "      <td>2nd ODI</td>\n",
       "      <td>ODI</td>\n",
       "      <td>Maharashtra Cricket Association Stadium, Pune</td>\n",
       "      <td>26</td>\n",
       "      <td>MARCH</td>\n",
       "      <td>13:30</td>\n",
       "    </tr>\n",
       "    <tr>\n",
       "      <th>10</th>\n",
       "      <td>3rd ODI</td>\n",
       "      <td>ODI</td>\n",
       "      <td>Maharashtra Cricket Association Stadium, Pune</td>\n",
       "      <td>28</td>\n",
       "      <td>MARCH</td>\n",
       "      <td>13:30</td>\n",
       "    </tr>\n",
       "    <tr>\n",
       "      <th>11</th>\n",
       "      <td>1st Test</td>\n",
       "      <td>TEST</td>\n",
       "      <td>Trent Bridge, Nottingham</td>\n",
       "      <td>04</td>\n",
       "      <td>AUGUST</td>\n",
       "      <td>15:30</td>\n",
       "    </tr>\n",
       "    <tr>\n",
       "      <th>12</th>\n",
       "      <td>2nd Test</td>\n",
       "      <td>TEST</td>\n",
       "      <td>Lord's, London</td>\n",
       "      <td>12</td>\n",
       "      <td>AUGUST</td>\n",
       "      <td>15:30</td>\n",
       "    </tr>\n",
       "    <tr>\n",
       "      <th>13</th>\n",
       "      <td>3rd Test</td>\n",
       "      <td>TEST</td>\n",
       "      <td>Headingley, Leeds</td>\n",
       "      <td>25</td>\n",
       "      <td>AUGUST</td>\n",
       "      <td>15:30</td>\n",
       "    </tr>\n",
       "    <tr>\n",
       "      <th>14</th>\n",
       "      <td>4th Test</td>\n",
       "      <td>TEST</td>\n",
       "      <td>The Oval, London</td>\n",
       "      <td>02</td>\n",
       "      <td>SEPTEMBER</td>\n",
       "      <td>15:30</td>\n",
       "    </tr>\n",
       "    <tr>\n",
       "      <th>15</th>\n",
       "      <td>5th Test</td>\n",
       "      <td>TEST</td>\n",
       "      <td>Old Trafford, Manchester</td>\n",
       "      <td>10</td>\n",
       "      <td>SEPTEMBER</td>\n",
       "      <td>15:30</td>\n",
       "    </tr>\n",
       "  </tbody>\n",
       "</table>\n",
       "</div>"
      ],
      "text/plain": [
       "   Match Title Series                                          Place Date  \\\n",
       "0     2nd Test   TEST             M. A. Chidambaram Stadium, Chennai   13   \n",
       "1     3rd Test   TEST                Sardar Patel Stadium, Ahmedabad   24   \n",
       "2     4th Test   TEST                Sardar Patel Stadium, Ahmedabad   04   \n",
       "3     1st T20I   T20I                Sardar Patel Stadium, Ahmedabad   12   \n",
       "4     2nd T20I   T20I                Sardar Patel Stadium, Ahmedabad   14   \n",
       "5     3rd T20I   T20I                Sardar Patel Stadium, Ahmedabad   16   \n",
       "6     4th T20I   T20I                Sardar Patel Stadium, Ahmedabad   18   \n",
       "7     5th T20I   T20I                Sardar Patel Stadium, Ahmedabad   20   \n",
       "8      1st ODI    ODI  Maharashtra Cricket Association Stadium, Pune   23   \n",
       "9      2nd ODI    ODI  Maharashtra Cricket Association Stadium, Pune   26   \n",
       "10     3rd ODI    ODI  Maharashtra Cricket Association Stadium, Pune   28   \n",
       "11    1st Test   TEST                       Trent Bridge, Nottingham   04   \n",
       "12    2nd Test   TEST                                 Lord's, London   12   \n",
       "13    3rd Test   TEST                              Headingley, Leeds   25   \n",
       "14    4th Test   TEST                               The Oval, London   02   \n",
       "15    5th Test   TEST                       Old Trafford, Manchester   10   \n",
       "\n",
       "        month   Time  \n",
       "0    FEBRUARY  09:30  \n",
       "1    FEBRUARY  14:30  \n",
       "2       MARCH  09:30  \n",
       "3       MARCH  19:00  \n",
       "4       MARCH  19:00  \n",
       "5       MARCH  19:00  \n",
       "6       MARCH  19:00  \n",
       "7       MARCH  19:00  \n",
       "8       MARCH  13:30  \n",
       "9       MARCH  13:30  \n",
       "10      MARCH  13:30  \n",
       "11     AUGUST  15:30  \n",
       "12     AUGUST  15:30  \n",
       "13     AUGUST  15:30  \n",
       "14  SEPTEMBER  15:30  \n",
       "15  SEPTEMBER  15:30  "
      ]
     },
     "execution_count": 84,
     "metadata": {},
     "output_type": "execute_result"
    }
   ],
   "source": [
    "fixtures=pd.DataFrame({'Match Title':titles,'Series':series,'Place':place,'Date':da,'month':te,'Time':time})\n",
    "fixtures"
   ]
  },
  {
   "cell_type": "markdown",
   "metadata": {},
   "source": [
    "### 3.Scrape the details of selenium exception from guru99.com.\n",
    "Url = https://www.guru99.com/\n"
   ]
  },
  {
   "cell_type": "code",
   "execution_count": 130,
   "metadata": {},
   "outputs": [],
   "source": [
    "driver.get(\"https://www.guru99.com/\")"
   ]
  },
  {
   "cell_type": "code",
   "execution_count": 127,
   "metadata": {},
   "outputs": [],
   "source": [
    "selenium_button=driver.find_element_by_xpath(\"//li[@class='fa fa-chevron-circle-right']/a\")\n",
    "selenium_button.click()"
   ]
  },
  {
   "cell_type": "code",
   "execution_count": 131,
   "metadata": {},
   "outputs": [],
   "source": [
    "urls=driver.find_elements_by_xpath(\"//li[@class='fa fa-chevron-circle-right']/a\")\n",
    "UR=[]\n",
    "for i in urls:\n",
    "    UR.append(i.get_attribute('href'))\n",
    "urls[2].click()"
   ]
  },
  {
   "cell_type": "code",
   "execution_count": 132,
   "metadata": {},
   "outputs": [],
   "source": [
    "driver.get(\"https://www.guru99.com/exception-handling-selenium.html\")"
   ]
  },
  {
   "cell_type": "code",
   "execution_count": 148,
   "metadata": {},
   "outputs": [
    {
     "data": {
      "text/plain": [
       "[<selenium.webdriver.remote.webelement.WebElement (session=\"12b044f14ce43b368634b6ef3832a461\", element=\"4edc0417-5149-4b15-876b-8bbb498c4dd9\")>,\n",
       " <selenium.webdriver.remote.webelement.WebElement (session=\"12b044f14ce43b368634b6ef3832a461\", element=\"0c63b552-4a7b-4a76-b7b2-94d3a1ce1811\")>,\n",
       " <selenium.webdriver.remote.webelement.WebElement (session=\"12b044f14ce43b368634b6ef3832a461\", element=\"d9f3d217-2f61-4a8d-82fb-8a1a21a51c0e\")>,\n",
       " <selenium.webdriver.remote.webelement.WebElement (session=\"12b044f14ce43b368634b6ef3832a461\", element=\"19795cad-b636-4110-9ab6-88410f932859\")>]"
      ]
     },
     "execution_count": 148,
     "metadata": {},
     "output_type": "execute_result"
    }
   ],
   "source": [
    "name_tags=driver.find_elements_by_xpath(\"//table[@class='table table-striped']/tbody/tr/td[1]\")\n",
    "name_tags[0:4]"
   ]
  },
  {
   "cell_type": "code",
   "execution_count": 149,
   "metadata": {},
   "outputs": [
    {
     "data": {
      "text/plain": [
       "['Exception name',\n",
       " 'ElementNotVisibleException',\n",
       " 'ElementNotSelectableException',\n",
       " 'NoSuchElementException',\n",
       " 'NoSuchFrameException',\n",
       " 'NoAlertPresentException',\n",
       " 'NoSuchWindowException',\n",
       " 'StaleElementReferenceException',\n",
       " 'SessionNotFoundException',\n",
       " 'TimeoutException',\n",
       " 'WebDriverException',\n",
       " 'ConnectionClosedException',\n",
       " 'ElementClickInterceptedException',\n",
       " 'ElementNotInteractableException',\n",
       " 'ErrorInResponseException',\n",
       " 'ErrorHandler.UnknownServerException',\n",
       " 'ImeActivationFailedException',\n",
       " 'ImeNotAvailableException',\n",
       " 'InsecureCertificateException',\n",
       " 'InvalidArgumentException',\n",
       " 'InvalidCookieDomainException',\n",
       " 'InvalidCoordinatesException',\n",
       " 'InvalidElementStateExceptio',\n",
       " 'InvalidSessionIdException',\n",
       " 'InvalidSwitchToTargetException',\n",
       " 'JavascriptException',\n",
       " 'JsonException',\n",
       " 'NoSuchAttributeException',\n",
       " 'MoveTargetOutOfBoundsException',\n",
       " 'NoSuchContextException',\n",
       " 'NoSuchCookieException',\n",
       " 'NotFoundException',\n",
       " 'RemoteDriverServerException',\n",
       " 'ScreenshotException',\n",
       " 'SessionNotCreatedException',\n",
       " 'UnableToSetCookieException',\n",
       " 'UnexpectedTagNameException',\n",
       " 'UnhandledAlertException',\n",
       " 'UnexpectedAlertPresentException',\n",
       " 'UnknownMethodException',\n",
       " 'UnreachableBrowserException',\n",
       " 'UnsupportedCommandException']"
      ]
     },
     "execution_count": 149,
     "metadata": {},
     "output_type": "execute_result"
    }
   ],
   "source": [
    "names=[]\n",
    "for i in name_tags:\n",
    "    title=i.text\n",
    "    names.append(title)\n",
    "names"
   ]
  },
  {
   "cell_type": "code",
   "execution_count": 147,
   "metadata": {},
   "outputs": [
    {
     "data": {
      "text/plain": [
       "[<selenium.webdriver.remote.webelement.WebElement (session=\"12b044f14ce43b368634b6ef3832a461\", element=\"e848e381-ad00-471f-bc89-40f273b1ce19\")>,\n",
       " <selenium.webdriver.remote.webelement.WebElement (session=\"12b044f14ce43b368634b6ef3832a461\", element=\"0898251d-3e05-4a04-b979-3856e9aad467\")>,\n",
       " <selenium.webdriver.remote.webelement.WebElement (session=\"12b044f14ce43b368634b6ef3832a461\", element=\"a430b172-2ac6-45b3-92f0-8670aea235ae\")>,\n",
       " <selenium.webdriver.remote.webelement.WebElement (session=\"12b044f14ce43b368634b6ef3832a461\", element=\"64ae7239-3268-4e8d-a1a3-80ba240cccad\")>]"
      ]
     },
     "execution_count": 147,
     "metadata": {},
     "output_type": "execute_result"
    }
   ],
   "source": [
    "tags=driver.find_elements_by_xpath(\"//table[@class='table table-striped']/tbody/tr/td[2]\")\n",
    "tags[0:4]"
   ]
  },
  {
   "cell_type": "code",
   "execution_count": 152,
   "metadata": {},
   "outputs": [
    {
     "data": {
      "text/plain": [
       "['This type of Selenium exception occurs when an existing element in DOM has a feature set as hidden.',\n",
       " 'This Selenium exception occurs when an element is presented in the DOM, but you can be able to select. Therefore, it is not possible to interact.',\n",
       " 'This Exception occurs if an element could not be found.',\n",
       " 'This Exception occurs if the frame target to be switched to does not exist.']"
      ]
     },
     "execution_count": 152,
     "metadata": {},
     "output_type": "execute_result"
    }
   ],
   "source": [
    "description=[]\n",
    "for i in tags:\n",
    "    title=i.text\n",
    "    description.append(title)\n",
    "description[1:5]"
   ]
  },
  {
   "cell_type": "code",
   "execution_count": 153,
   "metadata": {},
   "outputs": [
    {
     "data": {
      "text/html": [
       "<div>\n",
       "<style scoped>\n",
       "    .dataframe tbody tr th:only-of-type {\n",
       "        vertical-align: middle;\n",
       "    }\n",
       "\n",
       "    .dataframe tbody tr th {\n",
       "        vertical-align: top;\n",
       "    }\n",
       "\n",
       "    .dataframe thead th {\n",
       "        text-align: right;\n",
       "    }\n",
       "</style>\n",
       "<table border=\"1\" class=\"dataframe\">\n",
       "  <thead>\n",
       "    <tr style=\"text-align: right;\">\n",
       "      <th></th>\n",
       "      <th>EXception Name</th>\n",
       "      <th>Description</th>\n",
       "    </tr>\n",
       "  </thead>\n",
       "  <tbody>\n",
       "    <tr>\n",
       "      <th>0</th>\n",
       "      <td>ElementNotVisibleException</td>\n",
       "      <td>This type of Selenium exception occurs when an...</td>\n",
       "    </tr>\n",
       "    <tr>\n",
       "      <th>1</th>\n",
       "      <td>ElementNotSelectableException</td>\n",
       "      <td>This Selenium exception occurs when an element...</td>\n",
       "    </tr>\n",
       "    <tr>\n",
       "      <th>2</th>\n",
       "      <td>NoSuchElementException</td>\n",
       "      <td>This Exception occurs if an element could not ...</td>\n",
       "    </tr>\n",
       "    <tr>\n",
       "      <th>3</th>\n",
       "      <td>NoSuchFrameException</td>\n",
       "      <td>This Exception occurs if the frame target to b...</td>\n",
       "    </tr>\n",
       "    <tr>\n",
       "      <th>4</th>\n",
       "      <td>NoAlertPresentException</td>\n",
       "      <td>This Exception occurs when you switch to no pr...</td>\n",
       "    </tr>\n",
       "    <tr>\n",
       "      <th>5</th>\n",
       "      <td>NoSuchWindowException</td>\n",
       "      <td>This Exception occurs if the window target to ...</td>\n",
       "    </tr>\n",
       "    <tr>\n",
       "      <th>6</th>\n",
       "      <td>StaleElementReferenceException</td>\n",
       "      <td>This Selenium exception occurs happens when th...</td>\n",
       "    </tr>\n",
       "    <tr>\n",
       "      <th>7</th>\n",
       "      <td>SessionNotFoundException</td>\n",
       "      <td>The WebDriver is acting after you quit the bro...</td>\n",
       "    </tr>\n",
       "    <tr>\n",
       "      <th>8</th>\n",
       "      <td>TimeoutException</td>\n",
       "      <td>Thrown when there is not enough time for a com...</td>\n",
       "    </tr>\n",
       "    <tr>\n",
       "      <th>9</th>\n",
       "      <td>WebDriverException</td>\n",
       "      <td>This Exception takes place when the WebDriver ...</td>\n",
       "    </tr>\n",
       "    <tr>\n",
       "      <th>10</th>\n",
       "      <td>ConnectionClosedException</td>\n",
       "      <td>This type of Exception takes place when there ...</td>\n",
       "    </tr>\n",
       "    <tr>\n",
       "      <th>11</th>\n",
       "      <td>ElementClickInterceptedException</td>\n",
       "      <td>The command may not be completed as the elemen...</td>\n",
       "    </tr>\n",
       "    <tr>\n",
       "      <th>12</th>\n",
       "      <td>ElementNotInteractableException</td>\n",
       "      <td>This Selenium exception is thrown when any ele...</td>\n",
       "    </tr>\n",
       "    <tr>\n",
       "      <th>13</th>\n",
       "      <td>ErrorInResponseException</td>\n",
       "      <td>This happens while interacting with the Firefo...</td>\n",
       "    </tr>\n",
       "    <tr>\n",
       "      <th>14</th>\n",
       "      <td>ErrorHandler.UnknownServerException</td>\n",
       "      <td>Exception is used as a placeholder in case if ...</td>\n",
       "    </tr>\n",
       "    <tr>\n",
       "      <th>15</th>\n",
       "      <td>ImeActivationFailedException</td>\n",
       "      <td>This expectation will occur when IME engine ac...</td>\n",
       "    </tr>\n",
       "    <tr>\n",
       "      <th>16</th>\n",
       "      <td>ImeNotAvailableException</td>\n",
       "      <td>It takes place when IME support is unavailable.</td>\n",
       "    </tr>\n",
       "    <tr>\n",
       "      <th>17</th>\n",
       "      <td>InsecureCertificateException</td>\n",
       "      <td>Navigation made the user agent to hit a certif...</td>\n",
       "    </tr>\n",
       "    <tr>\n",
       "      <th>18</th>\n",
       "      <td>InvalidArgumentException</td>\n",
       "      <td>It occurs when an argument does not belong to ...</td>\n",
       "    </tr>\n",
       "    <tr>\n",
       "      <th>19</th>\n",
       "      <td>InvalidCookieDomainException</td>\n",
       "      <td>This happens when you try to add a cookie unde...</td>\n",
       "    </tr>\n",
       "    <tr>\n",
       "      <th>20</th>\n",
       "      <td>InvalidCoordinatesException</td>\n",
       "      <td>This type of Exception matches an interacting ...</td>\n",
       "    </tr>\n",
       "    <tr>\n",
       "      <th>21</th>\n",
       "      <td>InvalidElementStateExceptio</td>\n",
       "      <td>It occurs when command can't be finished when ...</td>\n",
       "    </tr>\n",
       "    <tr>\n",
       "      <th>22</th>\n",
       "      <td>InvalidSessionIdException</td>\n",
       "      <td>This Exception took place when the given sessi...</td>\n",
       "    </tr>\n",
       "    <tr>\n",
       "      <th>23</th>\n",
       "      <td>InvalidSwitchToTargetException</td>\n",
       "      <td>This occurs when the frame or window target to...</td>\n",
       "    </tr>\n",
       "    <tr>\n",
       "      <th>24</th>\n",
       "      <td>JavascriptException</td>\n",
       "      <td>This issue occurs while executing JavaScript g...</td>\n",
       "    </tr>\n",
       "    <tr>\n",
       "      <th>25</th>\n",
       "      <td>JsonException</td>\n",
       "      <td>It occurs when you afford to get the session w...</td>\n",
       "    </tr>\n",
       "    <tr>\n",
       "      <th>26</th>\n",
       "      <td>NoSuchAttributeException</td>\n",
       "      <td>This kind of Exception occurs when the attribu...</td>\n",
       "    </tr>\n",
       "    <tr>\n",
       "      <th>27</th>\n",
       "      <td>MoveTargetOutOfBoundsException</td>\n",
       "      <td>It takes place if the target provided to the A...</td>\n",
       "    </tr>\n",
       "    <tr>\n",
       "      <th>28</th>\n",
       "      <td>NoSuchContextException</td>\n",
       "      <td>ContextAware does mobile device testing.</td>\n",
       "    </tr>\n",
       "    <tr>\n",
       "      <th>29</th>\n",
       "      <td>NoSuchCookieException</td>\n",
       "      <td>This Exception occurs when no cookie matching ...</td>\n",
       "    </tr>\n",
       "    <tr>\n",
       "      <th>30</th>\n",
       "      <td>NotFoundException</td>\n",
       "      <td>This Exception is a subclass of WebDriverExcep...</td>\n",
       "    </tr>\n",
       "    <tr>\n",
       "      <th>31</th>\n",
       "      <td>RemoteDriverServerException</td>\n",
       "      <td>This Selenium exception is thrown when the ser...</td>\n",
       "    </tr>\n",
       "    <tr>\n",
       "      <th>32</th>\n",
       "      <td>ScreenshotException</td>\n",
       "      <td>It is not possible to capture a screen.</td>\n",
       "    </tr>\n",
       "    <tr>\n",
       "      <th>33</th>\n",
       "      <td>SessionNotCreatedException</td>\n",
       "      <td>It happens when a new session could not be suc...</td>\n",
       "    </tr>\n",
       "    <tr>\n",
       "      <th>34</th>\n",
       "      <td>UnableToSetCookieException</td>\n",
       "      <td>This occurs if a driver is unable to set a coo...</td>\n",
       "    </tr>\n",
       "    <tr>\n",
       "      <th>35</th>\n",
       "      <td>UnexpectedTagNameException</td>\n",
       "      <td>Happens if a support class did not get a web e...</td>\n",
       "    </tr>\n",
       "    <tr>\n",
       "      <th>36</th>\n",
       "      <td>UnhandledAlertException</td>\n",
       "      <td>This expectation occurs when there is an alert...</td>\n",
       "    </tr>\n",
       "    <tr>\n",
       "      <th>37</th>\n",
       "      <td>UnexpectedAlertPresentException</td>\n",
       "      <td>It occurs when there is the appearance of an u...</td>\n",
       "    </tr>\n",
       "    <tr>\n",
       "      <th>38</th>\n",
       "      <td>UnknownMethodException</td>\n",
       "      <td>This Exception happens when the requested comm...</td>\n",
       "    </tr>\n",
       "    <tr>\n",
       "      <th>39</th>\n",
       "      <td>UnreachableBrowserException</td>\n",
       "      <td>This Exception occurs only when the browser is...</td>\n",
       "    </tr>\n",
       "    <tr>\n",
       "      <th>40</th>\n",
       "      <td>UnsupportedCommandException</td>\n",
       "      <td>This occurs when remote WebDriver does n't sen...</td>\n",
       "    </tr>\n",
       "  </tbody>\n",
       "</table>\n",
       "</div>"
      ],
      "text/plain": [
       "                         EXception Name  \\\n",
       "0            ElementNotVisibleException   \n",
       "1         ElementNotSelectableException   \n",
       "2                NoSuchElementException   \n",
       "3                  NoSuchFrameException   \n",
       "4               NoAlertPresentException   \n",
       "5                 NoSuchWindowException   \n",
       "6        StaleElementReferenceException   \n",
       "7              SessionNotFoundException   \n",
       "8                      TimeoutException   \n",
       "9                    WebDriverException   \n",
       "10            ConnectionClosedException   \n",
       "11     ElementClickInterceptedException   \n",
       "12      ElementNotInteractableException   \n",
       "13             ErrorInResponseException   \n",
       "14  ErrorHandler.UnknownServerException   \n",
       "15         ImeActivationFailedException   \n",
       "16             ImeNotAvailableException   \n",
       "17         InsecureCertificateException   \n",
       "18             InvalidArgumentException   \n",
       "19         InvalidCookieDomainException   \n",
       "20          InvalidCoordinatesException   \n",
       "21          InvalidElementStateExceptio   \n",
       "22            InvalidSessionIdException   \n",
       "23       InvalidSwitchToTargetException   \n",
       "24                  JavascriptException   \n",
       "25                        JsonException   \n",
       "26             NoSuchAttributeException   \n",
       "27       MoveTargetOutOfBoundsException   \n",
       "28               NoSuchContextException   \n",
       "29                NoSuchCookieException   \n",
       "30                    NotFoundException   \n",
       "31          RemoteDriverServerException   \n",
       "32                  ScreenshotException   \n",
       "33           SessionNotCreatedException   \n",
       "34           UnableToSetCookieException   \n",
       "35           UnexpectedTagNameException   \n",
       "36              UnhandledAlertException   \n",
       "37      UnexpectedAlertPresentException   \n",
       "38               UnknownMethodException   \n",
       "39          UnreachableBrowserException   \n",
       "40          UnsupportedCommandException   \n",
       "\n",
       "                                          Description  \n",
       "0   This type of Selenium exception occurs when an...  \n",
       "1   This Selenium exception occurs when an element...  \n",
       "2   This Exception occurs if an element could not ...  \n",
       "3   This Exception occurs if the frame target to b...  \n",
       "4   This Exception occurs when you switch to no pr...  \n",
       "5   This Exception occurs if the window target to ...  \n",
       "6   This Selenium exception occurs happens when th...  \n",
       "7   The WebDriver is acting after you quit the bro...  \n",
       "8   Thrown when there is not enough time for a com...  \n",
       "9   This Exception takes place when the WebDriver ...  \n",
       "10  This type of Exception takes place when there ...  \n",
       "11  The command may not be completed as the elemen...  \n",
       "12  This Selenium exception is thrown when any ele...  \n",
       "13  This happens while interacting with the Firefo...  \n",
       "14  Exception is used as a placeholder in case if ...  \n",
       "15  This expectation will occur when IME engine ac...  \n",
       "16    It takes place when IME support is unavailable.  \n",
       "17  Navigation made the user agent to hit a certif...  \n",
       "18  It occurs when an argument does not belong to ...  \n",
       "19  This happens when you try to add a cookie unde...  \n",
       "20  This type of Exception matches an interacting ...  \n",
       "21  It occurs when command can't be finished when ...  \n",
       "22  This Exception took place when the given sessi...  \n",
       "23  This occurs when the frame or window target to...  \n",
       "24  This issue occurs while executing JavaScript g...  \n",
       "25  It occurs when you afford to get the session w...  \n",
       "26  This kind of Exception occurs when the attribu...  \n",
       "27  It takes place if the target provided to the A...  \n",
       "28           ContextAware does mobile device testing.  \n",
       "29  This Exception occurs when no cookie matching ...  \n",
       "30  This Exception is a subclass of WebDriverExcep...  \n",
       "31  This Selenium exception is thrown when the ser...  \n",
       "32            It is not possible to capture a screen.  \n",
       "33  It happens when a new session could not be suc...  \n",
       "34  This occurs if a driver is unable to set a coo...  \n",
       "35  Happens if a support class did not get a web e...  \n",
       "36  This expectation occurs when there is an alert...  \n",
       "37  It occurs when there is the appearance of an u...  \n",
       "38  This Exception happens when the requested comm...  \n",
       "39  This Exception occurs only when the browser is...  \n",
       "40  This occurs when remote WebDriver does n't sen...  "
      ]
     },
     "execution_count": 153,
     "metadata": {},
     "output_type": "execute_result"
    }
   ],
   "source": [
    "exceptions=pd.DataFrame({})\n",
    "exceptions['EXception Name']=name[1:]\n",
    "exceptions['Description']=description[1:]\n",
    "exceptions"
   ]
  },
  {
   "cell_type": "markdown",
   "metadata": {},
   "source": [
    "### 4.Scrape the details of State-wise GDP of India from statisticstime.com.\n",
    "Url = http://statisticstimes.com/\n"
   ]
  },
  {
   "cell_type": "code",
   "execution_count": 83,
   "metadata": {},
   "outputs": [],
   "source": [
    "# Importing Libraries\n",
    "import selenium\n",
    "import pandas as pd\n",
    "import time\n",
    "from bs4 import BeautifulSoup\n",
    "\n",
    "# Importing selenium webdriver \n",
    "from selenium import webdriver\n",
    "\n",
    "# Importing required Exceptions which needs to handled\n",
    "from selenium.common.exceptions import StaleElementReferenceException, NoSuchElementException"
   ]
  },
  {
   "cell_type": "code",
   "execution_count": 84,
   "metadata": {},
   "outputs": [],
   "source": [
    "# Activating the chrome browser\n",
    "driver=webdriver.Chrome(r\"C:\\Users\\Hp\\Desktop\\chromedriver.exe\")"
   ]
  },
  {
   "cell_type": "code",
   "execution_count": 86,
   "metadata": {},
   "outputs": [],
   "source": [
    "driver.get(\"http://statisticstimes.com/\")"
   ]
  },
  {
   "cell_type": "code",
   "execution_count": 87,
   "metadata": {},
   "outputs": [],
   "source": [
    "button=driver.find_element_by_xpath(\"//div[@class='dropdown']/button\")\n",
    "button.click()"
   ]
  },
  {
   "cell_type": "code",
   "execution_count": 89,
   "metadata": {},
   "outputs": [],
   "source": [
    "driver.get(\"http://statisticstimes.com/economy/india/indian-states-gdp.php\")"
   ]
  },
  {
   "cell_type": "code",
   "execution_count": 90,
   "metadata": {},
   "outputs": [],
   "source": [
    "rank=[]\n",
    "state=[]\n",
    "GSDP=[]\n",
    "share=[]\n",
    "GDP=[]"
   ]
  },
  {
   "cell_type": "code",
   "execution_count": 91,
   "metadata": {},
   "outputs": [],
   "source": [
    "tags=driver.find_element_by_xpath(\"//div[@class='dataTables_wrapper']\")\n"
   ]
  },
  {
   "cell_type": "code",
   "execution_count": 92,
   "metadata": {},
   "outputs": [
    {
     "data": {
      "text/plain": [
       "[<selenium.webdriver.remote.webelement.WebElement (session=\"553f91bf44618c062f1eeb4edf50b681\", element=\"5ba5114f-4dd2-47a7-ac65-12f458559984\")>,\n",
       " <selenium.webdriver.remote.webelement.WebElement (session=\"553f91bf44618c062f1eeb4edf50b681\", element=\"025e34be-e2af-4171-8c36-c8f23d7f7561\")>,\n",
       " <selenium.webdriver.remote.webelement.WebElement (session=\"553f91bf44618c062f1eeb4edf50b681\", element=\"62453346-277d-403e-8981-2207399bf84f\")>,\n",
       " <selenium.webdriver.remote.webelement.WebElement (session=\"553f91bf44618c062f1eeb4edf50b681\", element=\"e8c487dc-3a3c-46e9-85fc-5f324d5dc08b\")>]"
      ]
     },
     "execution_count": 92,
     "metadata": {},
     "output_type": "execute_result"
    }
   ],
   "source": [
    "tags=driver.find_elements_by_xpath(\"//table[@id='table_id']/tbody/tr/td\")\n",
    "tags[0:4]"
   ]
  },
  {
   "cell_type": "code",
   "execution_count": 93,
   "metadata": {},
   "outputs": [
    {
     "data": {
      "text/plain": [
       "['1', 'Maharashtra', '-', '2,632,792', '13.88%']"
      ]
     },
     "execution_count": 93,
     "metadata": {},
     "output_type": "execute_result"
    }
   ],
   "source": [
    "for i in tags:\n",
    "    title=i.text\n",
    "    rank.append(title)\n",
    "rank[0:5]"
   ]
  },
  {
   "cell_type": "code",
   "execution_count": 94,
   "metadata": {},
   "outputs": [
    {
     "data": {
      "text/plain": [
       "['1', '2', '3', '4']"
      ]
     },
     "execution_count": 94,
     "metadata": {},
     "output_type": "execute_result"
    }
   ],
   "source": [
    "ranks=rank[0::8]\n",
    "ranks[0:4]"
   ]
  },
  {
   "cell_type": "code",
   "execution_count": 95,
   "metadata": {},
   "outputs": [
    {
     "data": {
      "text/plain": [
       "['Maharashtra', 'Uttar Pradesh', 'Tamil Nadu', 'Karnataka']"
      ]
     },
     "execution_count": 95,
     "metadata": {},
     "output_type": "execute_result"
    }
   ],
   "source": [
    "state=rank[1::8]\n",
    "state[0:4]"
   ]
  },
  {
   "cell_type": "code",
   "execution_count": 96,
   "metadata": {},
   "outputs": [
    {
     "data": {
      "text/plain": [
       "['-', '1,794,508', '1,845,853', '1,699,115']"
      ]
     },
     "execution_count": 96,
     "metadata": {},
     "output_type": "execute_result"
    }
   ],
   "source": [
    "GSDP1=rank[2::8]\n",
    "GSDP1[0:4]"
   ]
  },
  {
   "cell_type": "code",
   "execution_count": 97,
   "metadata": {},
   "outputs": [
    {
     "data": {
      "text/plain": [
       "['2,632,792', '1,668,229', '1,630,208', '1,544,399']"
      ]
     },
     "execution_count": 97,
     "metadata": {},
     "output_type": "execute_result"
    }
   ],
   "source": [
    "GS=rank[3::8]\n",
    "GS[0:4]"
   ]
  },
  {
   "cell_type": "code",
   "execution_count": 98,
   "metadata": {},
   "outputs": [
    {
     "data": {
      "text/plain": [
       "['13.88%', '8.79%', '8.59%', '8.14%']"
      ]
     },
     "execution_count": 98,
     "metadata": {},
     "output_type": "execute_result"
    }
   ],
   "source": [
    "share=rank[4::8]\n",
    "share[0:4]"
   ]
  },
  {
   "cell_type": "code",
   "execution_count": 99,
   "metadata": {},
   "outputs": [
    {
     "data": {
      "text/plain": [
       "['398.145', '252.278', '246.529', '233.552']"
      ]
     },
     "execution_count": 99,
     "metadata": {},
     "output_type": "execute_result"
    }
   ],
   "source": [
    "GDP=rank[5::8]\n",
    "GDP[0:4]"
   ]
  },
  {
   "cell_type": "code",
   "execution_count": 102,
   "metadata": {},
   "outputs": [
    {
     "data": {
      "text/html": [
       "<div>\n",
       "<style scoped>\n",
       "    .dataframe tbody tr th:only-of-type {\n",
       "        vertical-align: middle;\n",
       "    }\n",
       "\n",
       "    .dataframe tbody tr th {\n",
       "        vertical-align: top;\n",
       "    }\n",
       "\n",
       "    .dataframe thead th {\n",
       "        text-align: right;\n",
       "    }\n",
       "</style>\n",
       "<table border=\"1\" class=\"dataframe\">\n",
       "  <thead>\n",
       "    <tr style=\"text-align: right;\">\n",
       "      <th></th>\n",
       "      <th>Rank</th>\n",
       "      <th>State</th>\n",
       "      <th>GSDP(19-20)</th>\n",
       "      <th>GSDP(18-19)</th>\n",
       "      <th>Share(18-19)</th>\n",
       "      <th>GDP</th>\n",
       "    </tr>\n",
       "  </thead>\n",
       "  <tbody>\n",
       "    <tr>\n",
       "      <th>0</th>\n",
       "      <td>1</td>\n",
       "      <td>Maharashtra</td>\n",
       "      <td>-</td>\n",
       "      <td>2,632,792</td>\n",
       "      <td>13.88%</td>\n",
       "      <td>398.145</td>\n",
       "    </tr>\n",
       "    <tr>\n",
       "      <th>1</th>\n",
       "      <td>2</td>\n",
       "      <td>Uttar Pradesh</td>\n",
       "      <td>1,794,508</td>\n",
       "      <td>1,668,229</td>\n",
       "      <td>8.79%</td>\n",
       "      <td>252.278</td>\n",
       "    </tr>\n",
       "    <tr>\n",
       "      <th>2</th>\n",
       "      <td>3</td>\n",
       "      <td>Tamil Nadu</td>\n",
       "      <td>1,845,853</td>\n",
       "      <td>1,630,208</td>\n",
       "      <td>8.59%</td>\n",
       "      <td>246.529</td>\n",
       "    </tr>\n",
       "    <tr>\n",
       "      <th>3</th>\n",
       "      <td>4</td>\n",
       "      <td>Karnataka</td>\n",
       "      <td>1,699,115</td>\n",
       "      <td>1,544,399</td>\n",
       "      <td>8.14%</td>\n",
       "      <td>233.552</td>\n",
       "    </tr>\n",
       "    <tr>\n",
       "      <th>4</th>\n",
       "      <td>5</td>\n",
       "      <td>Gujarat</td>\n",
       "      <td>-</td>\n",
       "      <td>1,502,899</td>\n",
       "      <td>7.92%</td>\n",
       "      <td>227.276</td>\n",
       "    </tr>\n",
       "    <tr>\n",
       "      <th>5</th>\n",
       "      <td>6</td>\n",
       "      <td>West Bengal</td>\n",
       "      <td>1,253,832</td>\n",
       "      <td>1,089,898</td>\n",
       "      <td>5.75%</td>\n",
       "      <td>164.820</td>\n",
       "    </tr>\n",
       "    <tr>\n",
       "      <th>6</th>\n",
       "      <td>7</td>\n",
       "      <td>Rajasthan</td>\n",
       "      <td>1,020,989</td>\n",
       "      <td>942,586</td>\n",
       "      <td>4.97%</td>\n",
       "      <td>142.543</td>\n",
       "    </tr>\n",
       "    <tr>\n",
       "      <th>7</th>\n",
       "      <td>8</td>\n",
       "      <td>Andhra Pradesh</td>\n",
       "      <td>972,782</td>\n",
       "      <td>862,957</td>\n",
       "      <td>4.55%</td>\n",
       "      <td>130.501</td>\n",
       "    </tr>\n",
       "    <tr>\n",
       "      <th>8</th>\n",
       "      <td>9</td>\n",
       "      <td>Telangana</td>\n",
       "      <td>969,604</td>\n",
       "      <td>861,031</td>\n",
       "      <td>4.54%</td>\n",
       "      <td>130.210</td>\n",
       "    </tr>\n",
       "    <tr>\n",
       "      <th>9</th>\n",
       "      <td>10</td>\n",
       "      <td>Madhya Pradesh</td>\n",
       "      <td>906,672</td>\n",
       "      <td>809,592</td>\n",
       "      <td>4.27%</td>\n",
       "      <td>122.431</td>\n",
       "    </tr>\n",
       "    <tr>\n",
       "      <th>10</th>\n",
       "      <td>11</td>\n",
       "      <td>Kerala</td>\n",
       "      <td>-</td>\n",
       "      <td>781,653</td>\n",
       "      <td>4.12%</td>\n",
       "      <td>118.206</td>\n",
       "    </tr>\n",
       "    <tr>\n",
       "      <th>11</th>\n",
       "      <td>12</td>\n",
       "      <td>Delhi</td>\n",
       "      <td>856,112</td>\n",
       "      <td>774,870</td>\n",
       "      <td>4.08%</td>\n",
       "      <td>117.180</td>\n",
       "    </tr>\n",
       "    <tr>\n",
       "      <th>12</th>\n",
       "      <td>13</td>\n",
       "      <td>Haryana</td>\n",
       "      <td>831,610</td>\n",
       "      <td>734,163</td>\n",
       "      <td>3.87%</td>\n",
       "      <td>111.024</td>\n",
       "    </tr>\n",
       "    <tr>\n",
       "      <th>13</th>\n",
       "      <td>14</td>\n",
       "      <td>Bihar</td>\n",
       "      <td>611,804</td>\n",
       "      <td>530,363</td>\n",
       "      <td>2.80%</td>\n",
       "      <td>80.204</td>\n",
       "    </tr>\n",
       "    <tr>\n",
       "      <th>14</th>\n",
       "      <td>15</td>\n",
       "      <td>Punjab</td>\n",
       "      <td>574,760</td>\n",
       "      <td>526,376</td>\n",
       "      <td>2.77%</td>\n",
       "      <td>79.601</td>\n",
       "    </tr>\n",
       "    <tr>\n",
       "      <th>15</th>\n",
       "      <td>16</td>\n",
       "      <td>Odisha</td>\n",
       "      <td>531,374</td>\n",
       "      <td>492,229</td>\n",
       "      <td>2.59%</td>\n",
       "      <td>74.437</td>\n",
       "    </tr>\n",
       "    <tr>\n",
       "      <th>16</th>\n",
       "      <td>17</td>\n",
       "      <td>Assam</td>\n",
       "      <td>-</td>\n",
       "      <td>315,881</td>\n",
       "      <td>1.67%</td>\n",
       "      <td>47.769</td>\n",
       "    </tr>\n",
       "    <tr>\n",
       "      <th>17</th>\n",
       "      <td>18</td>\n",
       "      <td>Chhattisgarh</td>\n",
       "      <td>329,180</td>\n",
       "      <td>304,063</td>\n",
       "      <td>1.60%</td>\n",
       "      <td>45.982</td>\n",
       "    </tr>\n",
       "    <tr>\n",
       "      <th>18</th>\n",
       "      <td>19</td>\n",
       "      <td>Jharkhand</td>\n",
       "      <td>328,598</td>\n",
       "      <td>297,204</td>\n",
       "      <td>1.57%</td>\n",
       "      <td>44.945</td>\n",
       "    </tr>\n",
       "    <tr>\n",
       "      <th>19</th>\n",
       "      <td>20</td>\n",
       "      <td>Uttarakhand</td>\n",
       "      <td>-</td>\n",
       "      <td>245,895</td>\n",
       "      <td>1.30%</td>\n",
       "      <td>37.186</td>\n",
       "    </tr>\n",
       "    <tr>\n",
       "      <th>20</th>\n",
       "      <td>21</td>\n",
       "      <td>Jammu &amp; Kashmir</td>\n",
       "      <td>-</td>\n",
       "      <td>155,956</td>\n",
       "      <td>0.82%</td>\n",
       "      <td>23.584</td>\n",
       "    </tr>\n",
       "    <tr>\n",
       "      <th>21</th>\n",
       "      <td>22</td>\n",
       "      <td>Himachal Pradesh</td>\n",
       "      <td>165,472</td>\n",
       "      <td>153,845</td>\n",
       "      <td>0.81%</td>\n",
       "      <td>23.265</td>\n",
       "    </tr>\n",
       "    <tr>\n",
       "      <th>22</th>\n",
       "      <td>23</td>\n",
       "      <td>Goa</td>\n",
       "      <td>-</td>\n",
       "      <td>73,170</td>\n",
       "      <td>0.39%</td>\n",
       "      <td>11.065</td>\n",
       "    </tr>\n",
       "    <tr>\n",
       "      <th>23</th>\n",
       "      <td>24</td>\n",
       "      <td>Tripura</td>\n",
       "      <td>55,358</td>\n",
       "      <td>49,845</td>\n",
       "      <td>0.26%</td>\n",
       "      <td>7.538</td>\n",
       "    </tr>\n",
       "    <tr>\n",
       "      <th>24</th>\n",
       "      <td>25</td>\n",
       "      <td>Chandigarh</td>\n",
       "      <td>-</td>\n",
       "      <td>42,114</td>\n",
       "      <td>0.22%</td>\n",
       "      <td>6.369</td>\n",
       "    </tr>\n",
       "    <tr>\n",
       "      <th>25</th>\n",
       "      <td>26</td>\n",
       "      <td>Puducherry</td>\n",
       "      <td>40,802</td>\n",
       "      <td>36,656</td>\n",
       "      <td>0.19%</td>\n",
       "      <td>5.543</td>\n",
       "    </tr>\n",
       "    <tr>\n",
       "      <th>26</th>\n",
       "      <td>27</td>\n",
       "      <td>Meghalaya</td>\n",
       "      <td>36,572</td>\n",
       "      <td>33,481</td>\n",
       "      <td>0.18%</td>\n",
       "      <td>5.063</td>\n",
       "    </tr>\n",
       "    <tr>\n",
       "      <th>27</th>\n",
       "      <td>28</td>\n",
       "      <td>Sikkim</td>\n",
       "      <td>32,496</td>\n",
       "      <td>28,723</td>\n",
       "      <td>0.15%</td>\n",
       "      <td>4.344</td>\n",
       "    </tr>\n",
       "    <tr>\n",
       "      <th>28</th>\n",
       "      <td>29</td>\n",
       "      <td>Manipur</td>\n",
       "      <td>-</td>\n",
       "      <td>27,869</td>\n",
       "      <td>0.15%</td>\n",
       "      <td>4.214</td>\n",
       "    </tr>\n",
       "    <tr>\n",
       "      <th>29</th>\n",
       "      <td>30</td>\n",
       "      <td>Nagaland</td>\n",
       "      <td>-</td>\n",
       "      <td>27,283</td>\n",
       "      <td>0.14%</td>\n",
       "      <td>4.126</td>\n",
       "    </tr>\n",
       "    <tr>\n",
       "      <th>30</th>\n",
       "      <td>31</td>\n",
       "      <td>Arunachal Pradesh</td>\n",
       "      <td>-</td>\n",
       "      <td>24,603</td>\n",
       "      <td>0.13%</td>\n",
       "      <td>3.721</td>\n",
       "    </tr>\n",
       "    <tr>\n",
       "      <th>31</th>\n",
       "      <td>32</td>\n",
       "      <td>Mizoram</td>\n",
       "      <td>-</td>\n",
       "      <td>19,520</td>\n",
       "      <td>0.10%</td>\n",
       "      <td>2.952</td>\n",
       "    </tr>\n",
       "    <tr>\n",
       "      <th>32</th>\n",
       "      <td>33</td>\n",
       "      <td>Andaman &amp; Nicobar Islands</td>\n",
       "      <td>-</td>\n",
       "      <td>-</td>\n",
       "      <td>-</td>\n",
       "      <td>-</td>\n",
       "    </tr>\n",
       "  </tbody>\n",
       "</table>\n",
       "</div>"
      ],
      "text/plain": [
       "   Rank                      State GSDP(19-20) GSDP(18-19) Share(18-19)  \\\n",
       "0     1                Maharashtra           -   2,632,792       13.88%   \n",
       "1     2              Uttar Pradesh   1,794,508   1,668,229        8.79%   \n",
       "2     3                 Tamil Nadu   1,845,853   1,630,208        8.59%   \n",
       "3     4                  Karnataka   1,699,115   1,544,399        8.14%   \n",
       "4     5                    Gujarat           -   1,502,899        7.92%   \n",
       "5     6                West Bengal   1,253,832   1,089,898        5.75%   \n",
       "6     7                  Rajasthan   1,020,989     942,586        4.97%   \n",
       "7     8             Andhra Pradesh     972,782     862,957        4.55%   \n",
       "8     9                  Telangana     969,604     861,031        4.54%   \n",
       "9    10             Madhya Pradesh     906,672     809,592        4.27%   \n",
       "10   11                     Kerala           -     781,653        4.12%   \n",
       "11   12                      Delhi     856,112     774,870        4.08%   \n",
       "12   13                    Haryana     831,610     734,163        3.87%   \n",
       "13   14                      Bihar     611,804     530,363        2.80%   \n",
       "14   15                     Punjab     574,760     526,376        2.77%   \n",
       "15   16                     Odisha     531,374     492,229        2.59%   \n",
       "16   17                      Assam           -     315,881        1.67%   \n",
       "17   18               Chhattisgarh     329,180     304,063        1.60%   \n",
       "18   19                  Jharkhand     328,598     297,204        1.57%   \n",
       "19   20                Uttarakhand           -     245,895        1.30%   \n",
       "20   21            Jammu & Kashmir           -     155,956        0.82%   \n",
       "21   22           Himachal Pradesh     165,472     153,845        0.81%   \n",
       "22   23                        Goa           -      73,170        0.39%   \n",
       "23   24                    Tripura      55,358      49,845        0.26%   \n",
       "24   25                 Chandigarh           -      42,114        0.22%   \n",
       "25   26                 Puducherry      40,802      36,656        0.19%   \n",
       "26   27                  Meghalaya      36,572      33,481        0.18%   \n",
       "27   28                     Sikkim      32,496      28,723        0.15%   \n",
       "28   29                    Manipur           -      27,869        0.15%   \n",
       "29   30                   Nagaland           -      27,283        0.14%   \n",
       "30   31          Arunachal Pradesh           -      24,603        0.13%   \n",
       "31   32                    Mizoram           -      19,520        0.10%   \n",
       "32   33  Andaman & Nicobar Islands           -           -            -   \n",
       "\n",
       "        GDP  \n",
       "0   398.145  \n",
       "1   252.278  \n",
       "2   246.529  \n",
       "3   233.552  \n",
       "4   227.276  \n",
       "5   164.820  \n",
       "6   142.543  \n",
       "7   130.501  \n",
       "8   130.210  \n",
       "9   122.431  \n",
       "10  118.206  \n",
       "11  117.180  \n",
       "12  111.024  \n",
       "13   80.204  \n",
       "14   79.601  \n",
       "15   74.437  \n",
       "16   47.769  \n",
       "17   45.982  \n",
       "18   44.945  \n",
       "19   37.186  \n",
       "20   23.584  \n",
       "21   23.265  \n",
       "22   11.065  \n",
       "23    7.538  \n",
       "24    6.369  \n",
       "25    5.543  \n",
       "26    5.063  \n",
       "27    4.344  \n",
       "28    4.214  \n",
       "29    4.126  \n",
       "30    3.721  \n",
       "31    2.952  \n",
       "32        -  "
      ]
     },
     "execution_count": 102,
     "metadata": {},
     "output_type": "execute_result"
    }
   ],
   "source": [
    "GDP_state=pd.DataFrame({'Rank':ranks,'State':state,'GSDP(19-20)':GSDP1,'GSDP(18-19)':GS,'Share(18-19)':share,'GDP':GDP})\n",
    "GDP_state"
   ]
  },
  {
   "cell_type": "markdown",
   "metadata": {},
   "source": [
    "### 5. Scrape the details of trending repositories on Github.com.\n",
    "Url = https://github.com/"
   ]
  },
  {
   "cell_type": "code",
   "execution_count": 150,
   "metadata": {},
   "outputs": [],
   "source": [
    "# Importing Libraries\n",
    "import selenium\n",
    "import pandas as pd\n",
    "import time\n",
    "from bs4 import BeautifulSoup\n",
    "\n",
    "# Importing selenium webdriver \n",
    "from selenium import webdriver\n",
    "\n",
    "# Importing required Exceptions which needs to handled\n",
    "from selenium.common.exceptions import StaleElementReferenceException, NoSuchElementException  \n"
   ]
  },
  {
   "cell_type": "code",
   "execution_count": 151,
   "metadata": {},
   "outputs": [],
   "source": [
    "# Activating the chrome browser\n",
    "driver=webdriver.Chrome(r\"C:\\Users\\Hp\\Desktop\\chromedriver.exe\")"
   ]
  },
  {
   "cell_type": "code",
   "execution_count": 152,
   "metadata": {},
   "outputs": [],
   "source": [
    "driver.get(\"https://github.com/\")"
   ]
  },
  {
   "cell_type": "code",
   "execution_count": 153,
   "metadata": {},
   "outputs": [],
   "source": [
    "search_button=driver.find_element_by_xpath(\"/html/body/div[1]/header/div/div[2]/nav/ul/li[4]/details/summary\")\n",
    "search_button.click()"
   ]
  },
  {
   "cell_type": "code",
   "execution_count": 154,
   "metadata": {},
   "outputs": [],
   "source": [
    "button=driver.find_element_by_xpath(\"//ul[@class='d-lg-flex list-style-none']/li[4]/details/div/ul[2]/li[3]/a\")\n",
    "button.click()"
   ]
  },
  {
   "cell_type": "code",
   "execution_count": 155,
   "metadata": {},
   "outputs": [],
   "source": [
    "title=[]\n",
    "desc=[]\n",
    "count=[]\n",
    "language_used=[]"
   ]
  },
  {
   "cell_type": "code",
   "execution_count": 156,
   "metadata": {},
   "outputs": [
    {
     "data": {
      "text/plain": [
       "['Melvin-Abraham / Google-Assistant-Unofficial-Desktop-Client',\n",
       " 'benawad / dogehouse']"
      ]
     },
     "execution_count": 156,
     "metadata": {},
     "output_type": "execute_result"
    }
   ],
   "source": [
    "tags=driver.find_elements_by_xpath(\"//h1[@class='h3 lh-condensed']/a\")\n",
    "for i in tags:\n",
    "    if i.text is None :\n",
    "        title.append(\"--\") \n",
    "    else:\n",
    "        title.append(i.text)\n",
    "title[0:2]"
   ]
  },
  {
   "cell_type": "code",
   "execution_count": 157,
   "metadata": {},
   "outputs": [
    {
     "data": {
      "text/plain": [
       "['A cross-platform unofficial Google Assistant Client for Desktop (powered by Google Assistant SDK)',\n",
       " 'The home for voice conversations.']"
      ]
     },
     "execution_count": 157,
     "metadata": {},
     "output_type": "execute_result"
    }
   ],
   "source": [
    "tags=driver.find_elements_by_xpath(\"//p[@class='col-9 text-gray my-1 pr-4']\")\n",
    "for i in tags:\n",
    "    if i.text is None :\n",
    "        desc.append(\"--\") \n",
    "    else:\n",
    "        desc.append(i.text)\n",
    "desc[0:2]"
   ]
  },
  {
   "cell_type": "code",
   "execution_count": 163,
   "metadata": {},
   "outputs": [
    {
     "data": {
      "text/plain": [
       "['JavaScript', 'TypeScript', 'C++', 'Zig']"
      ]
     },
     "execution_count": 163,
     "metadata": {},
     "output_type": "execute_result"
    }
   ],
   "source": [
    "lang_used=[]\n",
    "tags=driver.find_elements_by_xpath(\"/html/body/div[4]/main/div[3]/div/div[2]/article/div[2]/span[1]/span[2]\")\n",
    "for i in tags:\n",
    "    lang_used.append(i.text)\n",
    "lang_used[0:4]"
   ]
  },
  {
   "cell_type": "code",
   "execution_count": 164,
   "metadata": {},
   "outputs": [
    {
     "data": {
      "text/plain": [
       "['773', '812', '8,696', '361']"
      ]
     },
     "execution_count": 164,
     "metadata": {},
     "output_type": "execute_result"
    }
   ],
   "source": [
    "tags=driver.find_elements_by_xpath(\"/html/body/div[4]/main/div[3]/div/div[2]/article/div[2]/a[1]\")\n",
    "for i in tags:\n",
    "    count.append(i.text)\n",
    "count[0:4]"
   ]
  },
  {
   "cell_type": "code",
   "execution_count": 166,
   "metadata": {},
   "outputs": [
    {
     "data": {
      "text/html": [
       "<div>\n",
       "<style scoped>\n",
       "    .dataframe tbody tr th:only-of-type {\n",
       "        vertical-align: middle;\n",
       "    }\n",
       "\n",
       "    .dataframe tbody tr th {\n",
       "        vertical-align: top;\n",
       "    }\n",
       "\n",
       "    .dataframe thead th {\n",
       "        text-align: right;\n",
       "    }\n",
       "</style>\n",
       "<table border=\"1\" class=\"dataframe\">\n",
       "  <thead>\n",
       "    <tr style=\"text-align: right;\">\n",
       "      <th></th>\n",
       "      <th>Repository title</th>\n",
       "      <th>Repository description</th>\n",
       "      <th>Contributors count</th>\n",
       "      <th>Language used</th>\n",
       "    </tr>\n",
       "  </thead>\n",
       "  <tbody>\n",
       "    <tr>\n",
       "      <th>0</th>\n",
       "      <td>Melvin-Abraham / Google-Assistant-Unofficial-D...</td>\n",
       "      <td>A cross-platform unofficial Google Assistant C...</td>\n",
       "      <td>773</td>\n",
       "      <td>JavaScript</td>\n",
       "    </tr>\n",
       "    <tr>\n",
       "      <th>1</th>\n",
       "      <td>benawad / dogehouse</td>\n",
       "      <td>The home for voice conversations.</td>\n",
       "      <td>812</td>\n",
       "      <td>TypeScript</td>\n",
       "    </tr>\n",
       "    <tr>\n",
       "      <th>2</th>\n",
       "      <td>flameshot-org / flameshot</td>\n",
       "      <td>Powerful yet simple to use screenshot software</td>\n",
       "      <td>8,696</td>\n",
       "      <td>C++</td>\n",
       "    </tr>\n",
       "    <tr>\n",
       "      <th>3</th>\n",
       "      <td>ratfactor / ziglings</td>\n",
       "      <td>Learn the Zig programming language by fixing t...</td>\n",
       "      <td>361</td>\n",
       "      <td>Zig</td>\n",
       "    </tr>\n",
       "    <tr>\n",
       "      <th>4</th>\n",
       "      <td>adityatelange / hugo-PaperMod</td>\n",
       "      <td>A fast, clean, responsive Hugo theme</td>\n",
       "      <td>678</td>\n",
       "      <td>HTML</td>\n",
       "    </tr>\n",
       "    <tr>\n",
       "      <th>5</th>\n",
       "      <td>libsdl-org / SDL</td>\n",
       "      <td>Simple Directmedia Layer</td>\n",
       "      <td>569</td>\n",
       "      <td>C</td>\n",
       "    </tr>\n",
       "    <tr>\n",
       "      <th>6</th>\n",
       "      <td>satwikkansal / wtfpython</td>\n",
       "      <td>What the f*ck Python?</td>\n",
       "      <td>24,775</td>\n",
       "      <td>Python</td>\n",
       "    </tr>\n",
       "    <tr>\n",
       "      <th>7</th>\n",
       "      <td>mbround18 / valheim-docker</td>\n",
       "      <td>Valheim Docker server with Odin the CLI tool.</td>\n",
       "      <td>123</td>\n",
       "      <td>Rust</td>\n",
       "    </tr>\n",
       "    <tr>\n",
       "      <th>8</th>\n",
       "      <td>deepmind / deepmind-research</td>\n",
       "      <td>This repository contains implementations and i...</td>\n",
       "      <td>5,281</td>\n",
       "      <td>Jupyter Notebook</td>\n",
       "    </tr>\n",
       "    <tr>\n",
       "      <th>9</th>\n",
       "      <td>TheAlgorithms / Java</td>\n",
       "      <td>All Algorithms implemented in Java</td>\n",
       "      <td>35,052</td>\n",
       "      <td>Java</td>\n",
       "    </tr>\n",
       "    <tr>\n",
       "      <th>10</th>\n",
       "      <td>trekhleb / javascript-algorithms</td>\n",
       "      <td>Algorithms and data structures implemented in ...</td>\n",
       "      <td>96,043</td>\n",
       "      <td>JavaScript</td>\n",
       "    </tr>\n",
       "    <tr>\n",
       "      <th>11</th>\n",
       "      <td>skerkour / bloom</td>\n",
       "      <td>The simplest way to de-Google your life and bu...</td>\n",
       "      <td>311</td>\n",
       "      <td>Rust</td>\n",
       "    </tr>\n",
       "    <tr>\n",
       "      <th>12</th>\n",
       "      <td>serhii-londar / open-source-mac-os-apps</td>\n",
       "      <td>Awesome list of open source applications for m...</td>\n",
       "      <td>24,940</td>\n",
       "      <td>Swift</td>\n",
       "    </tr>\n",
       "    <tr>\n",
       "      <th>13</th>\n",
       "      <td>PojavLauncherTeam / PojavLauncher_iOS</td>\n",
       "      <td>Minecraft: Java Edition launcher for iOS</td>\n",
       "      <td>88</td>\n",
       "      <td>Java</td>\n",
       "    </tr>\n",
       "    <tr>\n",
       "      <th>14</th>\n",
       "      <td>yugedata / Options_Data_Science</td>\n",
       "      <td>Collecting, analyzing, visualizing &amp; paper tra...</td>\n",
       "      <td>128</td>\n",
       "      <td>Python</td>\n",
       "    </tr>\n",
       "  </tbody>\n",
       "</table>\n",
       "</div>"
      ],
      "text/plain": [
       "                                     Repository title  \\\n",
       "0   Melvin-Abraham / Google-Assistant-Unofficial-D...   \n",
       "1                                 benawad / dogehouse   \n",
       "2                           flameshot-org / flameshot   \n",
       "3                                ratfactor / ziglings   \n",
       "4                       adityatelange / hugo-PaperMod   \n",
       "5                                    libsdl-org / SDL   \n",
       "6                            satwikkansal / wtfpython   \n",
       "7                          mbround18 / valheim-docker   \n",
       "8                        deepmind / deepmind-research   \n",
       "9                                TheAlgorithms / Java   \n",
       "10                   trekhleb / javascript-algorithms   \n",
       "11                                   skerkour / bloom   \n",
       "12            serhii-londar / open-source-mac-os-apps   \n",
       "13              PojavLauncherTeam / PojavLauncher_iOS   \n",
       "14                    yugedata / Options_Data_Science   \n",
       "\n",
       "                               Repository description Contributors count  \\\n",
       "0   A cross-platform unofficial Google Assistant C...                773   \n",
       "1                   The home for voice conversations.                812   \n",
       "2      Powerful yet simple to use screenshot software              8,696   \n",
       "3   Learn the Zig programming language by fixing t...                361   \n",
       "4                A fast, clean, responsive Hugo theme                678   \n",
       "5                            Simple Directmedia Layer                569   \n",
       "6                               What the f*ck Python?             24,775   \n",
       "7       Valheim Docker server with Odin the CLI tool.                123   \n",
       "8   This repository contains implementations and i...              5,281   \n",
       "9                  All Algorithms implemented in Java             35,052   \n",
       "10  Algorithms and data structures implemented in ...             96,043   \n",
       "11  The simplest way to de-Google your life and bu...                311   \n",
       "12  Awesome list of open source applications for m...             24,940   \n",
       "13           Minecraft: Java Edition launcher for iOS                 88   \n",
       "14  Collecting, analyzing, visualizing & paper tra...                128   \n",
       "\n",
       "       Language used  \n",
       "0         JavaScript  \n",
       "1         TypeScript  \n",
       "2                C++  \n",
       "3                Zig  \n",
       "4               HTML  \n",
       "5                  C  \n",
       "6             Python  \n",
       "7               Rust  \n",
       "8   Jupyter Notebook  \n",
       "9               Java  \n",
       "10        JavaScript  \n",
       "11              Rust  \n",
       "12             Swift  \n",
       "13              Java  \n",
       "14            Python  "
      ]
     },
     "execution_count": 166,
     "metadata": {},
     "output_type": "execute_result"
    }
   ],
   "source": [
    "Github=pd.DataFrame({'Repository title':title[0:15],'Repository description':desc[0:15],'Contributors count':count[0:15],'Language used':lang_used[0:15]})\n",
    "Github"
   ]
  },
  {
   "cell_type": "markdown",
   "metadata": {},
   "source": [
    "### 6.Scrape the details of top 100 songs on billiboard.com.\n",
    "Url = https://www.billiboard.com/\n"
   ]
  },
  {
   "cell_type": "code",
   "execution_count": 177,
   "metadata": {},
   "outputs": [],
   "source": [
    "# Importing Libraries\n",
    "import selenium\n",
    "import pandas as pd\n",
    "import time\n",
    "from bs4 import BeautifulSoup\n",
    "\n",
    "# Importing selenium webdriver \n",
    "from selenium import webdriver\n",
    "\n",
    "# Importing required Exceptions which needs to handled\n",
    "from selenium.common.exceptions import StaleElementReferenceException, NoSuchElementException  \n"
   ]
  },
  {
   "cell_type": "code",
   "execution_count": 178,
   "metadata": {},
   "outputs": [],
   "source": [
    "# Activating the chrome browser\n",
    "driver=webdriver.Chrome(r\"C:\\Users\\Hp\\Desktop\\chromedriver.exe\")"
   ]
  },
  {
   "cell_type": "code",
   "execution_count": 179,
   "metadata": {},
   "outputs": [],
   "source": [
    "driver.get(\"https://www.billboard.com/\")"
   ]
  },
  {
   "cell_type": "code",
   "execution_count": 181,
   "metadata": {},
   "outputs": [],
   "source": [
    "chart_button=driver.find_element_by_xpath(\"//div[@class='header__sticky__child']/header/div/ul/li[1]/a\")\n",
    "chart_button.click()"
   ]
  },
  {
   "cell_type": "code",
   "execution_count": 183,
   "metadata": {},
   "outputs": [],
   "source": [
    "button=driver.find_element_by_xpath(\"//div[@class='charts-landing__info--top charts-landing__info--top--hot-100']\")\n",
    "button.click()"
   ]
  },
  {
   "cell_type": "code",
   "execution_count": 184,
   "metadata": {},
   "outputs": [],
   "source": [
    "song=[]\n",
    "artist=[]\n",
    "last_week=[]\n",
    "peak_rank=[]\n",
    "wks=[]"
   ]
  },
  {
   "cell_type": "code",
   "execution_count": 185,
   "metadata": {},
   "outputs": [
    {
     "data": {
      "text/plain": [
       "['Drivers License', 'Mood']"
      ]
     },
     "execution_count": 185,
     "metadata": {},
     "output_type": "execute_result"
    }
   ],
   "source": [
    "tags=driver.find_elements_by_xpath(\"//span[@class='chart-element__information__song text--truncate color--primary']\")\n",
    "for i in tags:\n",
    "    if i.text is None :\n",
    "        song.append(\"--\") \n",
    "    else:\n",
    "        song.append(i.text)\n",
    "song[0:2]"
   ]
  },
  {
   "cell_type": "code",
   "execution_count": 186,
   "metadata": {},
   "outputs": [
    {
     "data": {
      "text/plain": [
       "['Olivia Rodrigo', '24kGoldn Featuring iann dior']"
      ]
     },
     "execution_count": 186,
     "metadata": {},
     "output_type": "execute_result"
    }
   ],
   "source": [
    "tags=driver.find_elements_by_xpath(\"//span[@class='chart-element__information__artist text--truncate color--secondary']\")\n",
    "for i in tags:\n",
    "    if i.text is None :\n",
    "        artist.append(\"--\") \n",
    "    else:\n",
    "        artist.append(i.text)\n",
    "artist[0:2]"
   ]
  },
  {
   "cell_type": "code",
   "execution_count": 188,
   "metadata": {},
   "outputs": [
    {
     "data": {
      "text/plain": [
       "['1', '2']"
      ]
     },
     "execution_count": 188,
     "metadata": {},
     "output_type": "execute_result"
    }
   ],
   "source": [
    "tags=driver.find_elements_by_xpath(\"//div[@class='chart-element__meta text--center color--secondary text--last']\")\n",
    "for i in tags:\n",
    "    if i.text is None :\n",
    "        last_week.append(\"--\") \n",
    "    else:\n",
    "        last_week.append(i.text)\n",
    "last_week[0:2]"
   ]
  },
  {
   "cell_type": "code",
   "execution_count": 189,
   "metadata": {},
   "outputs": [
    {
     "data": {
      "text/plain": [
       "['1', '1']"
      ]
     },
     "execution_count": 189,
     "metadata": {},
     "output_type": "execute_result"
    }
   ],
   "source": [
    "tags=driver.find_elements_by_xpath(\"//div[@class='chart-element__meta text--center color--secondary text--peak']\")\n",
    "for i in tags:\n",
    "    if i.text is None :\n",
    "        peak_rank.append(\"--\") \n",
    "    else:\n",
    "        peak_rank.append(i.text)\n",
    "peak_rank[0:2]"
   ]
  },
  {
   "cell_type": "code",
   "execution_count": 190,
   "metadata": {},
   "outputs": [
    {
     "data": {
      "text/plain": [
       "['4', '26']"
      ]
     },
     "execution_count": 190,
     "metadata": {},
     "output_type": "execute_result"
    }
   ],
   "source": [
    "tags=driver.find_elements_by_xpath(\"//div[@class='chart-element__meta text--center color--secondary text--week']\")\n",
    "for i in tags:\n",
    "    if i.text is None :\n",
    "        wks.append(\"--\") \n",
    "    else:\n",
    "        wks.append(i.text)\n",
    "wks[0:2]"
   ]
  },
  {
   "cell_type": "code",
   "execution_count": 192,
   "metadata": {},
   "outputs": [
    {
     "data": {
      "text/html": [
       "<div>\n",
       "<style scoped>\n",
       "    .dataframe tbody tr th:only-of-type {\n",
       "        vertical-align: middle;\n",
       "    }\n",
       "\n",
       "    .dataframe tbody tr th {\n",
       "        vertical-align: top;\n",
       "    }\n",
       "\n",
       "    .dataframe thead th {\n",
       "        text-align: right;\n",
       "    }\n",
       "</style>\n",
       "<table border=\"1\" class=\"dataframe\">\n",
       "  <thead>\n",
       "    <tr style=\"text-align: right;\">\n",
       "      <th></th>\n",
       "      <th>Song name</th>\n",
       "      <th>Artist name</th>\n",
       "      <th>Last week rank</th>\n",
       "      <th>Peak rank</th>\n",
       "      <th>Weeks on board</th>\n",
       "    </tr>\n",
       "  </thead>\n",
       "  <tbody>\n",
       "    <tr>\n",
       "      <th>0</th>\n",
       "      <td>Drivers License</td>\n",
       "      <td>Olivia Rodrigo</td>\n",
       "      <td>1</td>\n",
       "      <td>1</td>\n",
       "      <td>4</td>\n",
       "    </tr>\n",
       "    <tr>\n",
       "      <th>1</th>\n",
       "      <td>Mood</td>\n",
       "      <td>24kGoldn Featuring iann dior</td>\n",
       "      <td>2</td>\n",
       "      <td>1</td>\n",
       "      <td>26</td>\n",
       "    </tr>\n",
       "    <tr>\n",
       "      <th>2</th>\n",
       "      <td>Blinding Lights</td>\n",
       "      <td>The Weeknd</td>\n",
       "      <td>3</td>\n",
       "      <td>1</td>\n",
       "      <td>61</td>\n",
       "    </tr>\n",
       "    <tr>\n",
       "      <th>3</th>\n",
       "      <td>34+35</td>\n",
       "      <td>Ariana Grande</td>\n",
       "      <td>4</td>\n",
       "      <td>2</td>\n",
       "      <td>14</td>\n",
       "    </tr>\n",
       "    <tr>\n",
       "      <th>4</th>\n",
       "      <td>Levitating</td>\n",
       "      <td>Dua Lipa Featuring DaBaby</td>\n",
       "      <td>5</td>\n",
       "      <td>5</td>\n",
       "      <td>18</td>\n",
       "    </tr>\n",
       "    <tr>\n",
       "      <th>...</th>\n",
       "      <td>...</td>\n",
       "      <td>...</td>\n",
       "      <td>...</td>\n",
       "      <td>...</td>\n",
       "      <td>...</td>\n",
       "    </tr>\n",
       "    <tr>\n",
       "      <th>95</th>\n",
       "      <td>Fake Woke</td>\n",
       "      <td>Tom MacDonald</td>\n",
       "      <td>-</td>\n",
       "      <td>96</td>\n",
       "      <td>1</td>\n",
       "    </tr>\n",
       "    <tr>\n",
       "      <th>96</th>\n",
       "      <td>Prisoner</td>\n",
       "      <td>Miley Cyrus Featuring Dua Lipa</td>\n",
       "      <td>81</td>\n",
       "      <td>54</td>\n",
       "      <td>11</td>\n",
       "    </tr>\n",
       "    <tr>\n",
       "      <th>97</th>\n",
       "      <td>Dangerous</td>\n",
       "      <td>Morgan Wallen</td>\n",
       "      <td>-</td>\n",
       "      <td>62</td>\n",
       "      <td>3</td>\n",
       "    </tr>\n",
       "    <tr>\n",
       "      <th>98</th>\n",
       "      <td>Almost Maybes</td>\n",
       "      <td>Jordan Davis</td>\n",
       "      <td>-</td>\n",
       "      <td>95</td>\n",
       "      <td>2</td>\n",
       "    </tr>\n",
       "    <tr>\n",
       "      <th>99</th>\n",
       "      <td>Mr. Right Now</td>\n",
       "      <td>21 Savage &amp; Metro Boomin Featuring Drake</td>\n",
       "      <td>80</td>\n",
       "      <td>10</td>\n",
       "      <td>18</td>\n",
       "    </tr>\n",
       "  </tbody>\n",
       "</table>\n",
       "<p>100 rows × 5 columns</p>\n",
       "</div>"
      ],
      "text/plain": [
       "          Song name                               Artist name Last week rank  \\\n",
       "0   Drivers License                            Olivia Rodrigo              1   \n",
       "1              Mood              24kGoldn Featuring iann dior              2   \n",
       "2   Blinding Lights                                The Weeknd              3   \n",
       "3             34+35                             Ariana Grande              4   \n",
       "4        Levitating                 Dua Lipa Featuring DaBaby              5   \n",
       "..              ...                                       ...            ...   \n",
       "95        Fake Woke                             Tom MacDonald              -   \n",
       "96         Prisoner            Miley Cyrus Featuring Dua Lipa             81   \n",
       "97        Dangerous                             Morgan Wallen              -   \n",
       "98    Almost Maybes                              Jordan Davis              -   \n",
       "99    Mr. Right Now  21 Savage & Metro Boomin Featuring Drake             80   \n",
       "\n",
       "   Peak rank Weeks on board  \n",
       "0          1              4  \n",
       "1          1             26  \n",
       "2          1             61  \n",
       "3          2             14  \n",
       "4          5             18  \n",
       "..       ...            ...  \n",
       "95        96              1  \n",
       "96        54             11  \n",
       "97        62              3  \n",
       "98        95              2  \n",
       "99        10             18  \n",
       "\n",
       "[100 rows x 5 columns]"
      ]
     },
     "execution_count": 192,
     "metadata": {},
     "output_type": "execute_result"
    }
   ],
   "source": [
    "billboard=pd.DataFrame({'Song name':song[0:100],'Artist name':artist[0:100],'Last week rank':last_week[0:100],'Peak rank':peak_rank[0:100],'Weeks on board':wks[0:100]})\n",
    "billboard"
   ]
  },
  {
   "cell_type": "markdown",
   "metadata": {},
   "source": [
    "### 7.Scrape the details of Data science recruiters from naukri.com.\n",
    "Url = https://www.naukri.com/"
   ]
  },
  {
   "cell_type": "code",
   "execution_count": 33,
   "metadata": {},
   "outputs": [],
   "source": [
    "# Importing Libraries\n",
    "import selenium\n",
    "import pandas as pd\n",
    "import time\n",
    "from bs4 import BeautifulSoup\n",
    "\n",
    "# Importing selenium webdriver \n",
    "from selenium import webdriver\n",
    "\n",
    "# Importing required Exceptions which needs to handled\n",
    "from selenium.common.exceptions import StaleElementReferenceException, NoSuchElementException  \n"
   ]
  },
  {
   "cell_type": "code",
   "execution_count": 34,
   "metadata": {},
   "outputs": [],
   "source": [
    "driver=webdriver.Chrome(r\"C:\\Users\\Hp\\Desktop\\chromedriver.exe\")"
   ]
  },
  {
   "cell_type": "code",
   "execution_count": 35,
   "metadata": {},
   "outputs": [],
   "source": [
    "driver.get(\"https://www.naukri.com/\")"
   ]
  },
  {
   "cell_type": "code",
   "execution_count": 36,
   "metadata": {},
   "outputs": [
    {
     "data": {
      "text/plain": [
       "<selenium.webdriver.remote.webelement.WebElement (session=\"63b24442c657af786e8f98b24d21870c\", element=\"f17b503b-34f4-4ef5-a5af-d50a92ed9dbb\")>"
      ]
     },
     "execution_count": 36,
     "metadata": {},
     "output_type": "execute_result"
    }
   ],
   "source": [
    "button=driver.find_element_by_xpath(\"//div[@class='headGNBWrap initial fixed']/div/ul[1]/li[2]/a\")\n",
    "button"
   ]
  },
  {
   "cell_type": "code",
   "execution_count": 37,
   "metadata": {},
   "outputs": [
    {
     "data": {
      "text/plain": [
       "['https://www.naukri.com/recruiters']"
      ]
     },
     "execution_count": 37,
     "metadata": {},
     "output_type": "execute_result"
    }
   ],
   "source": [
    "UR=[]\n",
    "UR.append(button.get_attribute('href'))\n",
    "UR"
   ]
  },
  {
   "cell_type": "code",
   "execution_count": 38,
   "metadata": {},
   "outputs": [],
   "source": [
    "for i in UR:\n",
    "    driver.get(i)"
   ]
  },
  {
   "cell_type": "code",
   "execution_count": 39,
   "metadata": {},
   "outputs": [],
   "source": [
    "search_field_designation=driver.find_element_by_xpath(\"//input[@class='sugInp']\")\n",
    "search_field_designation.send_keys(\"Data Scientist\")"
   ]
  },
  {
   "cell_type": "code",
   "execution_count": 43,
   "metadata": {},
   "outputs": [],
   "source": [
    "search_field=driver.find_element_by_id(\"qsbFormBtn\")\n",
    "search_field.click()"
   ]
  },
  {
   "cell_type": "code",
   "execution_count": 44,
   "metadata": {},
   "outputs": [],
   "source": [
    "name=[]\n",
    "designation=[]\n",
    "company=[]\n",
    "location=[]\n",
    "skills=[]"
   ]
  },
  {
   "cell_type": "code",
   "execution_count": 45,
   "metadata": {},
   "outputs": [
    {
     "data": {
      "text/plain": [
       "['Tanushree', 'sashi bhushan']"
      ]
     },
     "execution_count": 45,
     "metadata": {},
     "output_type": "execute_result"
    }
   ],
   "source": [
    "#scraping the company_name \n",
    "tags=driver.find_elements_by_xpath(\"//span[@class='fl ellipsis']\")\n",
    "for i in tags:\n",
    "    if i.text is None :\n",
    "        name.append(\"--\") \n",
    "    else:\n",
    "        name.append(i.text)\n",
    "name[0:2]"
   ]
  },
  {
   "cell_type": "code",
   "execution_count": 46,
   "metadata": {},
   "outputs": [
    {
     "data": {
      "text/plain": [
       "['Lead Recruiter', 'Senior Specialist']"
      ]
     },
     "execution_count": 46,
     "metadata": {},
     "output_type": "execute_result"
    }
   ],
   "source": [
    "#scraping the job-titles\n",
    "titles=driver.find_elements_by_xpath(\"//span[@class='ellipsis clr']\")\n",
    "for i in titles:\n",
    "    if i.text is None :\n",
    "        designation.append(\"--\") \n",
    "    else:\n",
    "        designation.append(i.text)\n",
    "    \n",
    "designation[0:2]"
   ]
  },
  {
   "cell_type": "code",
   "execution_count": 47,
   "metadata": {},
   "outputs": [
    {
     "data": {
      "text/plain": [
       "['Noida', 'Bengaluru / Bangalore']"
      ]
     },
     "execution_count": 47,
     "metadata": {},
     "output_type": "execute_result"
    }
   ],
   "source": [
    "#scraping the job-location\n",
    "locations=driver.find_elements_by_xpath(\"//small[@class='ellipsis']\")\n",
    "for i in locations:\n",
    "    if i.text is None :\n",
    "        location.append(\"--\") \n",
    "    else:\n",
    "        location.append(i.text)\n",
    "location[0:2]"
   ]
  },
  {
   "cell_type": "code",
   "execution_count": 48,
   "metadata": {},
   "outputs": [
    {
     "data": {
      "text/plain": [
       "['UI Developers, Software Engineers, Quality Assurance, Principal Engineers, Data Scientists, Product Manager, Android Developer, Web Developer, Design, coding',\n",
       " 'pig, hbase, sas, spss, apache, python, nosql, php, Cloud Computing, hadoop, r, Hadoop Architect, spark, flume, Advanced Excel, statistics']"
      ]
     },
     "execution_count": 48,
     "metadata": {},
     "output_type": "execute_result"
    }
   ],
   "source": [
    "skillss=driver.find_elements_by_xpath(\"//div[@class='hireSec highlightable']\")\n",
    "for i in skillss:\n",
    "    if i.text is None :\n",
    "        skills.append(\"--\") \n",
    "    else:\n",
    "        skills.append(i.text)\n",
    "skills[0:2]"
   ]
  },
  {
   "cell_type": "code",
   "execution_count": 49,
   "metadata": {},
   "outputs": [
    {
     "data": {
      "text/plain": [
       "['Tanushree', 'RecRoots']"
      ]
     },
     "execution_count": 49,
     "metadata": {},
     "output_type": "execute_result"
    }
   ],
   "source": [
    "companys=driver.find_elements_by_xpath(\"//a[@class='ellipsis']\")\n",
    "for i in companys:\n",
    "    if i.text is None :\n",
    "        company.append(\"--\") \n",
    "    else:\n",
    "        company.append(i.text)\n",
    "company[0:2]"
   ]
  },
  {
   "cell_type": "code",
   "execution_count": 51,
   "metadata": {},
   "outputs": [
    {
     "data": {
      "text/plain": [
       "['RecRoots', 'Wipro', 'Anvaya']"
      ]
     },
     "execution_count": 51,
     "metadata": {},
     "output_type": "execute_result"
    }
   ],
   "source": [
    "comp=company[1::2]\n",
    "comp[0:3]"
   ]
  },
  {
   "cell_type": "code",
   "execution_count": 57,
   "metadata": {},
   "outputs": [
    {
     "data": {
      "text/html": [
       "<div>\n",
       "<style scoped>\n",
       "    .dataframe tbody tr th:only-of-type {\n",
       "        vertical-align: middle;\n",
       "    }\n",
       "\n",
       "    .dataframe tbody tr th {\n",
       "        vertical-align: top;\n",
       "    }\n",
       "\n",
       "    .dataframe thead th {\n",
       "        text-align: right;\n",
       "    }\n",
       "</style>\n",
       "<table border=\"1\" class=\"dataframe\">\n",
       "  <thead>\n",
       "    <tr style=\"text-align: right;\">\n",
       "      <th></th>\n",
       "      <th>Name</th>\n",
       "      <th>Designation</th>\n",
       "      <th>Company</th>\n",
       "      <th>Skills they hire for</th>\n",
       "      <th>Location</th>\n",
       "    </tr>\n",
       "  </thead>\n",
       "  <tbody>\n",
       "    <tr>\n",
       "      <th>0</th>\n",
       "      <td>Tanushree</td>\n",
       "      <td>Lead Recruiter</td>\n",
       "      <td>RecRoots</td>\n",
       "      <td>UI Developers, Software Engineers, Quality Ass...</td>\n",
       "      <td>Noida</td>\n",
       "    </tr>\n",
       "    <tr>\n",
       "      <th>1</th>\n",
       "      <td>sashi bhushan</td>\n",
       "      <td>Senior Specialist</td>\n",
       "      <td>Wipro</td>\n",
       "      <td>pig, hbase, sas, spss, apache, python, nosql, ...</td>\n",
       "      <td>Bengaluru / Bangalore</td>\n",
       "    </tr>\n",
       "    <tr>\n",
       "      <th>2</th>\n",
       "      <td>Bitapi</td>\n",
       "      <td>HR and Operation Manager</td>\n",
       "      <td>Anvaya</td>\n",
       "      <td>Hadoop, Big Data, Data Scientists, Java, Sprin...</td>\n",
       "      <td>Bengaluru / Bangalore</td>\n",
       "    </tr>\n",
       "    <tr>\n",
       "      <th>3</th>\n",
       "      <td>Gajendra Singh</td>\n",
       "      <td>Head of Recruitment - Product &amp;amp;...</td>\n",
       "      <td>A Leading of Product Start-UP Company</td>\n",
       "      <td>Data Scientist, Big Data, Hadoop, Web Analytic...</td>\n",
       "      <td>Noida</td>\n",
       "    </tr>\n",
       "    <tr>\n",
       "      <th>4</th>\n",
       "      <td>Sadashiv Kulkarni</td>\n",
       "      <td>Company HR</td>\n",
       "      <td>Digitially Insights Pvt Ltd</td>\n",
       "      <td>Big Data Engineer, Data Scientist, Solutions, ...</td>\n",
       "      <td>Pune</td>\n",
       "    </tr>\n",
       "    <tr>\n",
       "      <th>5</th>\n",
       "      <td>Invelopment</td>\n",
       "      <td>Company HR</td>\n",
       "      <td>Invelopment</td>\n",
       "      <td>Scandinavian Startups</td>\n",
       "      <td>Ahmedabad</td>\n",
       "    </tr>\n",
       "    <tr>\n",
       "      <th>6</th>\n",
       "      <td>Anjali Srivastava</td>\n",
       "      <td>Director HR</td>\n",
       "      <td>CodeFire Technologies Pvt. Ltd.</td>\n",
       "      <td>Technical, Business Development Executive, Sof...</td>\n",
       "      <td>Noida</td>\n",
       "    </tr>\n",
       "    <tr>\n",
       "      <th>7</th>\n",
       "      <td>Anoop Somarajan</td>\n",
       "      <td>Assistant Manager Talent Acquisition</td>\n",
       "      <td>Access Healthcare</td>\n",
       "      <td>Asp.net, Hl7, Mirth, Perl, Xamarin, Javascript...</td>\n",
       "      <td>Chennai</td>\n",
       "    </tr>\n",
       "    <tr>\n",
       "      <th>8</th>\n",
       "      <td>Helly Vyas</td>\n",
       "      <td>HR Business Partner</td>\n",
       "      <td>AM - TA &amp;amp; HR</td>\n",
       "      <td>Big Data technology, PLSQL, Web Developer, Jav...</td>\n",
       "      <td>Pune</td>\n",
       "    </tr>\n",
       "    <tr>\n",
       "      <th>9</th>\n",
       "      <td>Ashish Verma</td>\n",
       "      <td>Senior Associate Human Resources</td>\n",
       "      <td>Evalueserve.com Private Limited</td>\n",
       "      <td>SAS, VBA, Business Information Services(BIS), ...</td>\n",
       "      <td>Gurgaon</td>\n",
       "    </tr>\n",
       "    <tr>\n",
       "      <th>10</th>\n",
       "      <td>Bhuwneshari Devi</td>\n",
       "      <td>Lead Talent Acquisition</td>\n",
       "      <td>Success Pact Consulting</td>\n",
       "      <td>Amazon, Olacabs, Quikr, Bankbazzar, Uber, Flip...</td>\n",
       "      <td>Delhi</td>\n",
       "    </tr>\n",
       "    <tr>\n",
       "      <th>11</th>\n",
       "      <td>Naresh</td>\n",
       "      <td>IT Recruitment Consultant</td>\n",
       "      <td>Waterleaf Consultants Pvt. Ltd.</td>\n",
       "      <td>Managers, Operational Head, Directors, Ceo, Da...</td>\n",
       "      <td>Hyderabad / Secunderabad</td>\n",
       "    </tr>\n",
       "    <tr>\n",
       "      <th>12</th>\n",
       "      <td>HS Sandesh</td>\n",
       "      <td>Talent Evangelist www staffiohr co</td>\n",
       "      <td>Staffio HR</td>\n",
       "      <td>Digital Marketing, General Manager, Business D...</td>\n",
       "      <td>Bengaluru / Bangalore</td>\n",
       "    </tr>\n",
       "    <tr>\n",
       "      <th>13</th>\n",
       "      <td>Datafoundry</td>\n",
       "      <td>Company HR</td>\n",
       "      <td>JAITRA SOFTWARE SOLUTIONS PVT LTD</td>\n",
       "      <td>Webmethods Developer, Mean Stack, Business Ana...</td>\n",
       "      <td>Bengaluru / Bangalore</td>\n",
       "    </tr>\n",
       "    <tr>\n",
       "      <th>14</th>\n",
       "      <td>A Valsa Florina</td>\n",
       "      <td>Recruitment Specialist</td>\n",
       "      <td>Redbus.in</td>\n",
       "      <td>Business Analyst, Front end developer, legal, ...</td>\n",
       "      <td>Bengaluru / Bangalore</td>\n",
       "    </tr>\n",
       "    <tr>\n",
       "      <th>15</th>\n",
       "      <td>Kalaivani M V</td>\n",
       "      <td>HR Manager</td>\n",
       "      <td>ZYUDLY LABS DATA SOLUTIONS PRIVATE LIMITED</td>\n",
       "      <td>Data Scientist, Cloud Computing, Mobile Applic...</td>\n",
       "      <td>Chennai</td>\n",
       "    </tr>\n",
       "    <tr>\n",
       "      <th>16</th>\n",
       "      <td>Prashant K</td>\n",
       "      <td>Sr HR</td>\n",
       "      <td>Confidential</td>\n",
       "      <td>Data Analyst, Statistical Analysis, Data Scien...</td>\n",
       "      <td>Bengaluru / Bangalore</td>\n",
       "    </tr>\n",
       "    <tr>\n",
       "      <th>17</th>\n",
       "      <td>Radhika</td>\n",
       "      <td>HR Associate</td>\n",
       "      <td>Bright Bridge Info-tech Pvt Ltd</td>\n",
       "      <td>business analyst - IT (python), pay per click,...</td>\n",
       "      <td>Coimbatore</td>\n",
       "    </tr>\n",
       "    <tr>\n",
       "      <th>18</th>\n",
       "      <td>Rakhi</td>\n",
       "      <td>HR recruiter</td>\n",
       "      <td>Constalytics</td>\n",
       "      <td>Data Scientist, Data Research Analyst, Big Dat...</td>\n",
       "      <td>Singapore - (singapore)</td>\n",
       "    </tr>\n",
       "    <tr>\n",
       "      <th>19</th>\n",
       "      <td>Monika Jain</td>\n",
       "      <td>Talent Aquistion Lead</td>\n",
       "      <td>Info Edge India Limited</td>\n",
       "      <td>Lamp Developer, Ui/ux Developer, Qa Engineer, ...</td>\n",
       "      <td>Noida</td>\n",
       "    </tr>\n",
       "  </tbody>\n",
       "</table>\n",
       "</div>"
      ],
      "text/plain": [
       "                 Name                             Designation  \\\n",
       "0           Tanushree                          Lead Recruiter   \n",
       "1       sashi bhushan                       Senior Specialist   \n",
       "2              Bitapi                HR and Operation Manager   \n",
       "3      Gajendra Singh  Head of Recruitment - Product &amp;...   \n",
       "4   Sadashiv Kulkarni                              Company HR   \n",
       "5         Invelopment                              Company HR   \n",
       "6   Anjali Srivastava                             Director HR   \n",
       "7     Anoop Somarajan    Assistant Manager Talent Acquisition   \n",
       "8          Helly Vyas                     HR Business Partner   \n",
       "9        Ashish Verma        Senior Associate Human Resources   \n",
       "10   Bhuwneshari Devi                 Lead Talent Acquisition   \n",
       "11             Naresh               IT Recruitment Consultant   \n",
       "12         HS Sandesh      Talent Evangelist www staffiohr co   \n",
       "13        Datafoundry                              Company HR   \n",
       "14    A Valsa Florina                  Recruitment Specialist   \n",
       "15      Kalaivani M V                              HR Manager   \n",
       "16         Prashant K                                   Sr HR   \n",
       "17            Radhika                            HR Associate   \n",
       "18              Rakhi                            HR recruiter   \n",
       "19        Monika Jain                   Talent Aquistion Lead   \n",
       "\n",
       "                                       Company  \\\n",
       "0                                     RecRoots   \n",
       "1                                        Wipro   \n",
       "2                                       Anvaya   \n",
       "3        A Leading of Product Start-UP Company   \n",
       "4                  Digitially Insights Pvt Ltd   \n",
       "5                                  Invelopment   \n",
       "6              CodeFire Technologies Pvt. Ltd.   \n",
       "7                            Access Healthcare   \n",
       "8                             AM - TA &amp; HR   \n",
       "9              Evalueserve.com Private Limited   \n",
       "10                     Success Pact Consulting   \n",
       "11             Waterleaf Consultants Pvt. Ltd.   \n",
       "12                                  Staffio HR   \n",
       "13           JAITRA SOFTWARE SOLUTIONS PVT LTD   \n",
       "14                                   Redbus.in   \n",
       "15  ZYUDLY LABS DATA SOLUTIONS PRIVATE LIMITED   \n",
       "16                                Confidential   \n",
       "17             Bright Bridge Info-tech Pvt Ltd   \n",
       "18                                Constalytics   \n",
       "19                     Info Edge India Limited   \n",
       "\n",
       "                                 Skills they hire for  \\\n",
       "0   UI Developers, Software Engineers, Quality Ass...   \n",
       "1   pig, hbase, sas, spss, apache, python, nosql, ...   \n",
       "2   Hadoop, Big Data, Data Scientists, Java, Sprin...   \n",
       "3   Data Scientist, Big Data, Hadoop, Web Analytic...   \n",
       "4   Big Data Engineer, Data Scientist, Solutions, ...   \n",
       "5                               Scandinavian Startups   \n",
       "6   Technical, Business Development Executive, Sof...   \n",
       "7   Asp.net, Hl7, Mirth, Perl, Xamarin, Javascript...   \n",
       "8   Big Data technology, PLSQL, Web Developer, Jav...   \n",
       "9   SAS, VBA, Business Information Services(BIS), ...   \n",
       "10  Amazon, Olacabs, Quikr, Bankbazzar, Uber, Flip...   \n",
       "11  Managers, Operational Head, Directors, Ceo, Da...   \n",
       "12  Digital Marketing, General Manager, Business D...   \n",
       "13  Webmethods Developer, Mean Stack, Business Ana...   \n",
       "14  Business Analyst, Front end developer, legal, ...   \n",
       "15  Data Scientist, Cloud Computing, Mobile Applic...   \n",
       "16  Data Analyst, Statistical Analysis, Data Scien...   \n",
       "17  business analyst - IT (python), pay per click,...   \n",
       "18  Data Scientist, Data Research Analyst, Big Dat...   \n",
       "19  Lamp Developer, Ui/ux Developer, Qa Engineer, ...   \n",
       "\n",
       "                    Location  \n",
       "0                      Noida  \n",
       "1      Bengaluru / Bangalore  \n",
       "2      Bengaluru / Bangalore  \n",
       "3                      Noida  \n",
       "4                       Pune  \n",
       "5                  Ahmedabad  \n",
       "6                      Noida  \n",
       "7                    Chennai  \n",
       "8                       Pune  \n",
       "9                    Gurgaon  \n",
       "10                     Delhi  \n",
       "11  Hyderabad / Secunderabad  \n",
       "12     Bengaluru / Bangalore  \n",
       "13     Bengaluru / Bangalore  \n",
       "14     Bengaluru / Bangalore  \n",
       "15                   Chennai  \n",
       "16     Bengaluru / Bangalore  \n",
       "17                Coimbatore  \n",
       "18   Singapore - (singapore)  \n",
       "19                     Noida  "
      ]
     },
     "execution_count": 57,
     "metadata": {},
     "output_type": "execute_result"
    }
   ],
   "source": [
    "dt=pd.DataFrame({'Name':name[0:20],'Designation':designation[0:20],'Company':comp[0:20],'Skills they hire for':skills[0:20],'Location':location[0:20]})\n",
    "dt"
   ]
  },
  {
   "cell_type": "markdown",
   "metadata": {},
   "source": [
    "### 8.Scrape the details of Highest selling novels.\n",
    "Url = https://www.theguardian.com/news/datablog/2012/aug/09/best-selling-books-all-time-fifty-shades-greycompare/\n"
   ]
  },
  {
   "cell_type": "code",
   "execution_count": 35,
   "metadata": {},
   "outputs": [],
   "source": [
    "import selenium\n",
    "import pandas as pd\n",
    "import time\n",
    "from bs4 import BeautifulSoup\n",
    "\n",
    "# Importing selenium webdriver \n",
    "from selenium import webdriver\n",
    "\n",
    "# Importing required Exceptions which needs to handled\n",
    "from selenium.common.exceptions import StaleElementReferenceException, NoSuchElementException\n"
   ]
  },
  {
   "cell_type": "code",
   "execution_count": 36,
   "metadata": {},
   "outputs": [],
   "source": [
    "# Activating the chrome browser\n",
    "driver=webdriver.Chrome(r\"C:\\Users\\Hp\\Desktop\\chromedriver.exe\")"
   ]
  },
  {
   "cell_type": "code",
   "execution_count": 37,
   "metadata": {},
   "outputs": [],
   "source": [
    "driver.get(\"https://www.theguardian.com/news/datablog/2012/aug/09/best-selling-books-all-time-fifty-shades-grey-compare\")"
   ]
  },
  {
   "cell_type": "code",
   "execution_count": 38,
   "metadata": {},
   "outputs": [],
   "source": [
    "name=[]\n",
    "author=[]\n",
    "volume_sold=[]\n",
    "publisher=[]\n",
    "genre=[]"
   ]
  },
  {
   "cell_type": "code",
   "execution_count": 62,
   "metadata": {},
   "outputs": [
    {
     "data": {
      "text/plain": [
       "[<selenium.webdriver.remote.webelement.WebElement (session=\"503b6994222e564db08fe7c414a0c644\", element=\"0b87bbb1-a466-406f-924e-3b82053a8189\")>,\n",
       " <selenium.webdriver.remote.webelement.WebElement (session=\"503b6994222e564db08fe7c414a0c644\", element=\"5c67d96d-c694-4d4a-aee9-2be5d97bfeed\")>,\n",
       " <selenium.webdriver.remote.webelement.WebElement (session=\"503b6994222e564db08fe7c414a0c644\", element=\"07b49838-7dd3-46c6-90a4-a4fdc45cdfc0\")>,\n",
       " <selenium.webdriver.remote.webelement.WebElement (session=\"503b6994222e564db08fe7c414a0c644\", element=\"9ed71fda-9f30-42eb-8577-69c0d5118162\")>]"
      ]
     },
     "execution_count": 62,
     "metadata": {},
     "output_type": "execute_result"
    }
   ],
   "source": [
    "tags=driver.find_elements_by_xpath(\"//table[@class='in-article sortable']/tbody/tr/td[2]\")\n"
   ]
  },
  {
   "cell_type": "code",
   "execution_count": 63,
   "metadata": {},
   "outputs": [
    {
     "data": {
      "text/plain": [
       "['Da Vinci Code,The',\n",
       " 'Harry Potter and the Deathly Hallows',\n",
       " \"Harry Potter and the Philosopher's Stone\",\n",
       " 'Harry Potter and the Order of the Phoenix']"
      ]
     },
     "execution_count": 63,
     "metadata": {},
     "output_type": "execute_result"
    }
   ],
   "source": [
    "names=[]\n",
    "for i in tags:\n",
    "    title=i.text\n",
    "    names.append(title)\n",
    "names[0:4]"
   ]
  },
  {
   "cell_type": "code",
   "execution_count": 64,
   "metadata": {},
   "outputs": [
    {
     "data": {
      "text/plain": [
       "[<selenium.webdriver.remote.webelement.WebElement (session=\"503b6994222e564db08fe7c414a0c644\", element=\"ede9d172-3140-4202-ba6f-256b68498053\")>,\n",
       " <selenium.webdriver.remote.webelement.WebElement (session=\"503b6994222e564db08fe7c414a0c644\", element=\"706dc3f2-ad18-4cca-91a3-11f611af3a39\")>,\n",
       " <selenium.webdriver.remote.webelement.WebElement (session=\"503b6994222e564db08fe7c414a0c644\", element=\"cd2d75f1-af07-476c-a014-331e4e9ec7e1\")>,\n",
       " <selenium.webdriver.remote.webelement.WebElement (session=\"503b6994222e564db08fe7c414a0c644\", element=\"9b862190-6d21-4d3e-93cf-b2275dd8356b\")>]"
      ]
     },
     "execution_count": 64,
     "metadata": {},
     "output_type": "execute_result"
    }
   ],
   "source": [
    "tags=driver.find_elements_by_xpath(\"//table[@class='in-article sortable']/tbody/tr/td[3]\")"
   ]
  },
  {
   "cell_type": "code",
   "execution_count": 65,
   "metadata": {},
   "outputs": [
    {
     "data": {
      "text/plain": [
       "['Brown, Dan', 'Rowling, J.K.', 'Rowling, J.K.', 'Rowling, J.K.']"
      ]
     },
     "execution_count": 65,
     "metadata": {},
     "output_type": "execute_result"
    }
   ],
   "source": [
    "for i in tags:\n",
    "    title=i.text\n",
    "    author.append(title)\n",
    "author[0:4]"
   ]
  },
  {
   "cell_type": "code",
   "execution_count": 66,
   "metadata": {},
   "outputs": [
    {
     "data": {
      "text/plain": [
       "[<selenium.webdriver.remote.webelement.WebElement (session=\"503b6994222e564db08fe7c414a0c644\", element=\"651faeef-2e70-4f6e-979b-262604445725\")>,\n",
       " <selenium.webdriver.remote.webelement.WebElement (session=\"503b6994222e564db08fe7c414a0c644\", element=\"ff4738d3-c01e-4cb5-ac10-654b41437ca7\")>,\n",
       " <selenium.webdriver.remote.webelement.WebElement (session=\"503b6994222e564db08fe7c414a0c644\", element=\"397cc2ea-835d-4f37-bf86-8c5bff7e380c\")>,\n",
       " <selenium.webdriver.remote.webelement.WebElement (session=\"503b6994222e564db08fe7c414a0c644\", element=\"b28ca9d2-7d25-4cec-ad08-13a2efeba10b\")>]"
      ]
     },
     "execution_count": 66,
     "metadata": {},
     "output_type": "execute_result"
    }
   ],
   "source": [
    "tags=driver.find_elements_by_xpath(\"//table[@class='in-article sortable']/tbody/tr/td[4]\")\n"
   ]
  },
  {
   "cell_type": "code",
   "execution_count": 67,
   "metadata": {},
   "outputs": [
    {
     "data": {
      "text/plain": [
       "['5,094,805', '4,475,152', '4,200,654', '4,179,479']"
      ]
     },
     "execution_count": 67,
     "metadata": {},
     "output_type": "execute_result"
    }
   ],
   "source": [
    "for i in tags:\n",
    "    title=i.text\n",
    "    volume_sold.append(title)\n",
    "volume_sold[0:4]"
   ]
  },
  {
   "cell_type": "code",
   "execution_count": 68,
   "metadata": {},
   "outputs": [],
   "source": [
    "tags=driver.find_elements_by_xpath(\"//table[@class='in-article sortable']/tbody/tr/td[5]\")"
   ]
  },
  {
   "cell_type": "code",
   "execution_count": 69,
   "metadata": {},
   "outputs": [
    {
     "data": {
      "text/plain": [
       "['Transworld', 'Bloomsbury', 'Bloomsbury', 'Bloomsbury']"
      ]
     },
     "execution_count": 69,
     "metadata": {},
     "output_type": "execute_result"
    }
   ],
   "source": [
    "for i in tags:\n",
    "    title=i.text\n",
    "    publisher.append(title)\n",
    "publisher[0:4]"
   ]
  },
  {
   "cell_type": "code",
   "execution_count": 70,
   "metadata": {},
   "outputs": [],
   "source": [
    "tags=driver.find_elements_by_xpath(\"//table[@class='in-article sortable']/tbody/tr/td[6]\")"
   ]
  },
  {
   "cell_type": "code",
   "execution_count": 71,
   "metadata": {},
   "outputs": [
    {
     "data": {
      "text/plain": [
       "['Adventure', 'Fiction', 'Fiction', 'Fiction']"
      ]
     },
     "execution_count": 71,
     "metadata": {},
     "output_type": "execute_result"
    }
   ],
   "source": [
    "for i in tags:\n",
    "    title=i.text\n",
    "    genre.append(title)\n",
    "genre[0:4]"
   ]
  },
  {
   "cell_type": "code",
   "execution_count": 72,
   "metadata": {},
   "outputs": [],
   "source": [
    "tags=driver.find_elements_by_xpath(\"//table[@class='in-article sortable']/tbody/tr/td[1]\")"
   ]
  },
  {
   "cell_type": "code",
   "execution_count": 73,
   "metadata": {},
   "outputs": [
    {
     "data": {
      "text/plain": [
       "['1', '2', '3', '4']"
      ]
     },
     "execution_count": 73,
     "metadata": {},
     "output_type": "execute_result"
    }
   ],
   "source": [
    "for i in tags:\n",
    "    title=i.text\n",
    "    rank.append(title)\n",
    "rank[0:4]"
   ]
  },
  {
   "cell_type": "code",
   "execution_count": 76,
   "metadata": {},
   "outputs": [
    {
     "data": {
      "text/html": [
       "<div>\n",
       "<style scoped>\n",
       "    .dataframe tbody tr th:only-of-type {\n",
       "        vertical-align: middle;\n",
       "    }\n",
       "\n",
       "    .dataframe tbody tr th {\n",
       "        vertical-align: top;\n",
       "    }\n",
       "\n",
       "    .dataframe thead th {\n",
       "        text-align: right;\n",
       "    }\n",
       "</style>\n",
       "<table border=\"1\" class=\"dataframe\">\n",
       "  <thead>\n",
       "    <tr style=\"text-align: right;\">\n",
       "      <th></th>\n",
       "      <th>Rank</th>\n",
       "      <th>Book Name</th>\n",
       "      <th>Author Name</th>\n",
       "      <th>Volumes sold</th>\n",
       "      <th>Publisher</th>\n",
       "      <th>Genre</th>\n",
       "    </tr>\n",
       "  </thead>\n",
       "  <tbody>\n",
       "    <tr>\n",
       "      <th>0</th>\n",
       "      <td>1</td>\n",
       "      <td>Da Vinci Code,The</td>\n",
       "      <td>Brown, Dan</td>\n",
       "      <td>5,094,805</td>\n",
       "      <td>Transworld</td>\n",
       "      <td>Adventure</td>\n",
       "    </tr>\n",
       "    <tr>\n",
       "      <th>1</th>\n",
       "      <td>2</td>\n",
       "      <td>Harry Potter and the Deathly Hallows</td>\n",
       "      <td>Rowling, J.K.</td>\n",
       "      <td>4,475,152</td>\n",
       "      <td>Bloomsbury</td>\n",
       "      <td>Fiction</td>\n",
       "    </tr>\n",
       "    <tr>\n",
       "      <th>2</th>\n",
       "      <td>3</td>\n",
       "      <td>Harry Potter and the Philosopher's Stone</td>\n",
       "      <td>Rowling, J.K.</td>\n",
       "      <td>4,200,654</td>\n",
       "      <td>Bloomsbury</td>\n",
       "      <td>Fiction</td>\n",
       "    </tr>\n",
       "    <tr>\n",
       "      <th>3</th>\n",
       "      <td>4</td>\n",
       "      <td>Harry Potter and the Order of the Phoenix</td>\n",
       "      <td>Rowling, J.K.</td>\n",
       "      <td>4,179,479</td>\n",
       "      <td>Bloomsbury</td>\n",
       "      <td>Fiction</td>\n",
       "    </tr>\n",
       "    <tr>\n",
       "      <th>4</th>\n",
       "      <td>5</td>\n",
       "      <td>Fifty Shades of Grey</td>\n",
       "      <td>James, E. L.</td>\n",
       "      <td>3,758,936</td>\n",
       "      <td>Random House</td>\n",
       "      <td>Sagas</td>\n",
       "    </tr>\n",
       "    <tr>\n",
       "      <th>5</th>\n",
       "      <td>6</td>\n",
       "      <td>Harry Potter and the Goblet of Fire</td>\n",
       "      <td>Rowling, J.K.</td>\n",
       "      <td>3,583,215</td>\n",
       "      <td>Bloomsbury</td>\n",
       "      <td>Fiction</td>\n",
       "    </tr>\n",
       "    <tr>\n",
       "      <th>6</th>\n",
       "      <td>7</td>\n",
       "      <td>Harry Potter and the Chamber of Secrets</td>\n",
       "      <td>Rowling, J.K.</td>\n",
       "      <td>3,484,047</td>\n",
       "      <td>Bloomsbury</td>\n",
       "      <td>Fiction</td>\n",
       "    </tr>\n",
       "    <tr>\n",
       "      <th>7</th>\n",
       "      <td>8</td>\n",
       "      <td>Harry Potter and the Prisoner of Azkaban</td>\n",
       "      <td>Rowling, J.K.</td>\n",
       "      <td>3,377,906</td>\n",
       "      <td>Bloomsbury</td>\n",
       "      <td>Fiction</td>\n",
       "    </tr>\n",
       "    <tr>\n",
       "      <th>8</th>\n",
       "      <td>9</td>\n",
       "      <td>Angels and Demons</td>\n",
       "      <td>Brown, Dan</td>\n",
       "      <td>3,193,946</td>\n",
       "      <td>Transworld</td>\n",
       "      <td>Adventure</td>\n",
       "    </tr>\n",
       "    <tr>\n",
       "      <th>9</th>\n",
       "      <td>10</td>\n",
       "      <td>Harry Potter and the Half-blood Prince:Childre...</td>\n",
       "      <td>Rowling, J.K.</td>\n",
       "      <td>2,950,264</td>\n",
       "      <td>Bloomsbury</td>\n",
       "      <td>Fiction</td>\n",
       "    </tr>\n",
       "    <tr>\n",
       "      <th>10</th>\n",
       "      <td>11</td>\n",
       "      <td>Fifty Shades Darker</td>\n",
       "      <td>James, E. L.</td>\n",
       "      <td>2,479,784</td>\n",
       "      <td>Random House</td>\n",
       "      <td>Sagas</td>\n",
       "    </tr>\n",
       "    <tr>\n",
       "      <th>11</th>\n",
       "      <td>12</td>\n",
       "      <td>Twilight</td>\n",
       "      <td>Meyer, Stephenie</td>\n",
       "      <td>2,315,405</td>\n",
       "      <td>Little, Brown Book</td>\n",
       "      <td>Fiction</td>\n",
       "    </tr>\n",
       "    <tr>\n",
       "      <th>12</th>\n",
       "      <td>13</td>\n",
       "      <td>Girl with the Dragon Tattoo,The:Millennium Tri...</td>\n",
       "      <td>Larsson, Stieg</td>\n",
       "      <td>2,233,570</td>\n",
       "      <td>Quercus</td>\n",
       "      <td>Adventure</td>\n",
       "    </tr>\n",
       "    <tr>\n",
       "      <th>13</th>\n",
       "      <td>14</td>\n",
       "      <td>Fifty Shades Freed</td>\n",
       "      <td>James, E. L.</td>\n",
       "      <td>2,193,928</td>\n",
       "      <td>Random House</td>\n",
       "      <td>Sagas</td>\n",
       "    </tr>\n",
       "    <tr>\n",
       "      <th>14</th>\n",
       "      <td>15</td>\n",
       "      <td>Lost Symbol,The</td>\n",
       "      <td>Brown, Dan</td>\n",
       "      <td>2,183,031</td>\n",
       "      <td>Transworld</td>\n",
       "      <td>Adventure</td>\n",
       "    </tr>\n",
       "    <tr>\n",
       "      <th>15</th>\n",
       "      <td>16</td>\n",
       "      <td>New Moon</td>\n",
       "      <td>Meyer, Stephenie</td>\n",
       "      <td>2,152,737</td>\n",
       "      <td>Little, Brown Book</td>\n",
       "      <td>Fiction</td>\n",
       "    </tr>\n",
       "    <tr>\n",
       "      <th>16</th>\n",
       "      <td>17</td>\n",
       "      <td>Deception Point</td>\n",
       "      <td>Brown, Dan</td>\n",
       "      <td>2,062,145</td>\n",
       "      <td>Transworld</td>\n",
       "      <td>Adventure</td>\n",
       "    </tr>\n",
       "    <tr>\n",
       "      <th>17</th>\n",
       "      <td>18</td>\n",
       "      <td>Eclipse</td>\n",
       "      <td>Meyer, Stephenie</td>\n",
       "      <td>2,052,876</td>\n",
       "      <td>Little, Brown Book</td>\n",
       "      <td>Fiction</td>\n",
       "    </tr>\n",
       "    <tr>\n",
       "      <th>18</th>\n",
       "      <td>19</td>\n",
       "      <td>Lovely Bones,The</td>\n",
       "      <td>Sebold, Alice</td>\n",
       "      <td>2,005,598</td>\n",
       "      <td>Pan Macmillan</td>\n",
       "      <td>Fiction</td>\n",
       "    </tr>\n",
       "    <tr>\n",
       "      <th>19</th>\n",
       "      <td>20</td>\n",
       "      <td>Curious Incident of the Dog in the Night-time,The</td>\n",
       "      <td>Haddon, Mark</td>\n",
       "      <td>1,979,552</td>\n",
       "      <td>Random House</td>\n",
       "      <td>Fiction</td>\n",
       "    </tr>\n",
       "    <tr>\n",
       "      <th>20</th>\n",
       "      <td>21</td>\n",
       "      <td>Digital Fortress</td>\n",
       "      <td>Brown, Dan</td>\n",
       "      <td>1,928,900</td>\n",
       "      <td>Transworld</td>\n",
       "      <td>Adventure</td>\n",
       "    </tr>\n",
       "    <tr>\n",
       "      <th>21</th>\n",
       "      <td>22</td>\n",
       "      <td>Short History of Nearly Everything,A</td>\n",
       "      <td>Bryson, Bill</td>\n",
       "      <td>1,852,919</td>\n",
       "      <td>Transworld</td>\n",
       "      <td>Science</td>\n",
       "    </tr>\n",
       "    <tr>\n",
       "      <th>22</th>\n",
       "      <td>23</td>\n",
       "      <td>Girl Who Played with Fire,The:Millennium Trilogy</td>\n",
       "      <td>Larsson, Stieg</td>\n",
       "      <td>1,814,784</td>\n",
       "      <td>Quercus</td>\n",
       "      <td>Adventure</td>\n",
       "    </tr>\n",
       "    <tr>\n",
       "      <th>23</th>\n",
       "      <td>24</td>\n",
       "      <td>Breaking Dawn</td>\n",
       "      <td>Meyer, Stephenie</td>\n",
       "      <td>1,787,118</td>\n",
       "      <td>Little, Brown Book</td>\n",
       "      <td>Fiction</td>\n",
       "    </tr>\n",
       "    <tr>\n",
       "      <th>24</th>\n",
       "      <td>25</td>\n",
       "      <td>Very Hungry Caterpillar,The:The Very Hungry Ca...</td>\n",
       "      <td>Carle, Eric</td>\n",
       "      <td>1,783,535</td>\n",
       "      <td>Penguin</td>\n",
       "      <td>Books</td>\n",
       "    </tr>\n",
       "    <tr>\n",
       "      <th>25</th>\n",
       "      <td>26</td>\n",
       "      <td>Gruffalo,The</td>\n",
       "      <td>Donaldson, Julia</td>\n",
       "      <td>1,781,269</td>\n",
       "      <td>Pan Macmillan</td>\n",
       "      <td>Books</td>\n",
       "    </tr>\n",
       "    <tr>\n",
       "      <th>26</th>\n",
       "      <td>27</td>\n",
       "      <td>Jamie's 30-Minute Meals</td>\n",
       "      <td>Oliver, Jamie</td>\n",
       "      <td>1,743,266</td>\n",
       "      <td>Penguin</td>\n",
       "      <td>General</td>\n",
       "    </tr>\n",
       "    <tr>\n",
       "      <th>27</th>\n",
       "      <td>28</td>\n",
       "      <td>Kite Runner,The</td>\n",
       "      <td>Hosseini, Khaled</td>\n",
       "      <td>1,629,119</td>\n",
       "      <td>Bloomsbury</td>\n",
       "      <td>Fiction</td>\n",
       "    </tr>\n",
       "    <tr>\n",
       "      <th>28</th>\n",
       "      <td>29</td>\n",
       "      <td>One Day</td>\n",
       "      <td>Nicholls, David</td>\n",
       "      <td>1,616,068</td>\n",
       "      <td>Hodder &amp; Stoughton</td>\n",
       "      <td>Fiction</td>\n",
       "    </tr>\n",
       "    <tr>\n",
       "      <th>29</th>\n",
       "      <td>30</td>\n",
       "      <td>Thousand Splendid Suns,A</td>\n",
       "      <td>Hosseini, Khaled</td>\n",
       "      <td>1,583,992</td>\n",
       "      <td>Bloomsbury</td>\n",
       "      <td>Fiction</td>\n",
       "    </tr>\n",
       "  </tbody>\n",
       "</table>\n",
       "</div>"
      ],
      "text/plain": [
       "   Rank                                          Book Name       Author Name  \\\n",
       "0     1                                  Da Vinci Code,The        Brown, Dan   \n",
       "1     2               Harry Potter and the Deathly Hallows     Rowling, J.K.   \n",
       "2     3           Harry Potter and the Philosopher's Stone     Rowling, J.K.   \n",
       "3     4          Harry Potter and the Order of the Phoenix     Rowling, J.K.   \n",
       "4     5                               Fifty Shades of Grey      James, E. L.   \n",
       "5     6                Harry Potter and the Goblet of Fire     Rowling, J.K.   \n",
       "6     7            Harry Potter and the Chamber of Secrets     Rowling, J.K.   \n",
       "7     8           Harry Potter and the Prisoner of Azkaban     Rowling, J.K.   \n",
       "8     9                                  Angels and Demons        Brown, Dan   \n",
       "9    10  Harry Potter and the Half-blood Prince:Childre...     Rowling, J.K.   \n",
       "10   11                                Fifty Shades Darker      James, E. L.   \n",
       "11   12                                           Twilight  Meyer, Stephenie   \n",
       "12   13  Girl with the Dragon Tattoo,The:Millennium Tri...    Larsson, Stieg   \n",
       "13   14                                 Fifty Shades Freed      James, E. L.   \n",
       "14   15                                    Lost Symbol,The        Brown, Dan   \n",
       "15   16                                           New Moon  Meyer, Stephenie   \n",
       "16   17                                    Deception Point        Brown, Dan   \n",
       "17   18                                            Eclipse  Meyer, Stephenie   \n",
       "18   19                                   Lovely Bones,The     Sebold, Alice   \n",
       "19   20  Curious Incident of the Dog in the Night-time,The      Haddon, Mark   \n",
       "20   21                                   Digital Fortress        Brown, Dan   \n",
       "21   22               Short History of Nearly Everything,A      Bryson, Bill   \n",
       "22   23   Girl Who Played with Fire,The:Millennium Trilogy    Larsson, Stieg   \n",
       "23   24                                      Breaking Dawn  Meyer, Stephenie   \n",
       "24   25  Very Hungry Caterpillar,The:The Very Hungry Ca...       Carle, Eric   \n",
       "25   26                                       Gruffalo,The  Donaldson, Julia   \n",
       "26   27                            Jamie's 30-Minute Meals     Oliver, Jamie   \n",
       "27   28                                    Kite Runner,The  Hosseini, Khaled   \n",
       "28   29                                            One Day   Nicholls, David   \n",
       "29   30                           Thousand Splendid Suns,A  Hosseini, Khaled   \n",
       "\n",
       "   Volumes sold           Publisher      Genre  \n",
       "0     5,094,805          Transworld  Adventure  \n",
       "1     4,475,152          Bloomsbury    Fiction  \n",
       "2     4,200,654          Bloomsbury    Fiction  \n",
       "3     4,179,479          Bloomsbury    Fiction  \n",
       "4     3,758,936        Random House      Sagas  \n",
       "5     3,583,215          Bloomsbury    Fiction  \n",
       "6     3,484,047          Bloomsbury    Fiction  \n",
       "7     3,377,906          Bloomsbury    Fiction  \n",
       "8     3,193,946          Transworld  Adventure  \n",
       "9     2,950,264          Bloomsbury    Fiction  \n",
       "10    2,479,784        Random House      Sagas  \n",
       "11    2,315,405  Little, Brown Book    Fiction  \n",
       "12    2,233,570             Quercus  Adventure  \n",
       "13    2,193,928        Random House      Sagas  \n",
       "14    2,183,031          Transworld  Adventure  \n",
       "15    2,152,737  Little, Brown Book    Fiction  \n",
       "16    2,062,145          Transworld  Adventure  \n",
       "17    2,052,876  Little, Brown Book    Fiction  \n",
       "18    2,005,598       Pan Macmillan    Fiction  \n",
       "19    1,979,552        Random House    Fiction  \n",
       "20    1,928,900          Transworld  Adventure  \n",
       "21    1,852,919          Transworld    Science  \n",
       "22    1,814,784             Quercus  Adventure  \n",
       "23    1,787,118  Little, Brown Book    Fiction  \n",
       "24    1,783,535             Penguin      Books  \n",
       "25    1,781,269       Pan Macmillan      Books  \n",
       "26    1,743,266             Penguin    General  \n",
       "27    1,629,119          Bloomsbury    Fiction  \n",
       "28    1,616,068  Hodder & Stoughton    Fiction  \n",
       "29    1,583,992          Bloomsbury    Fiction  "
      ]
     },
     "execution_count": 76,
     "metadata": {},
     "output_type": "execute_result"
    }
   ],
   "source": [
    "novels=pd.DataFrame({})\n",
    "novels['Rank']=rank[0:30]\n",
    "novels['Book Name']=names[0:30]\n",
    "novels['Author Name']=author[0:30]\n",
    "novels['Volumes sold']=volume_sold[0:30]\n",
    "novels['Publisher']=publisher[0:30]\n",
    "novels['Genre']=genre[0:30]\n",
    "novels"
   ]
  },
  {
   "cell_type": "markdown",
   "metadata": {},
   "source": [
    "### 9.. Scrape the details most watched tv series of all time from imdb.com.\n",
    "Url = https://www.imdb.com/list/ls09596445"
   ]
  },
  {
   "cell_type": "code",
   "execution_count": 78,
   "metadata": {},
   "outputs": [],
   "source": [
    "driver.get(\"https://www.imdb.com/list/ls095964455/\")"
   ]
  },
  {
   "cell_type": "code",
   "execution_count": 77,
   "metadata": {},
   "outputs": [],
   "source": [
    "Name=[]\n",
    "Year_span=[]\n",
    "Genre =[]\n",
    "Runtime=[]\n",
    "Ratings=[]\n",
    "Votes=[]"
   ]
  },
  {
   "cell_type": "code",
   "execution_count": 79,
   "metadata": {},
   "outputs": [
    {
     "data": {
      "text/plain": [
       "['Game of Thrones', 'Stranger Things']"
      ]
     },
     "execution_count": 79,
     "metadata": {},
     "output_type": "execute_result"
    }
   ],
   "source": [
    "tags=driver.find_elements_by_xpath(\"//h3[@class='lister-item-header']/a\")\n",
    "for i in tags:\n",
    "    if i.text is None :\n",
    "        Name.append(\"--\") \n",
    "    else:\n",
    "        Name.append(i.text)\n",
    "Name[0:2]"
   ]
  },
  {
   "cell_type": "code",
   "execution_count": 80,
   "metadata": {},
   "outputs": [
    {
     "data": {
      "text/plain": [
       "['(2011–2019)', '(2016– )']"
      ]
     },
     "execution_count": 80,
     "metadata": {},
     "output_type": "execute_result"
    }
   ],
   "source": [
    "tags=driver.find_elements_by_xpath(\"//h3[@class='lister-item-header']/span[2]\")\n",
    "for i in tags:\n",
    "    if i.text is None :\n",
    "        Year_span.append(\"--\") \n",
    "    else:\n",
    "        Year_span.append(i.text)\n",
    "Year_span[0:2]"
   ]
  },
  {
   "cell_type": "code",
   "execution_count": 81,
   "metadata": {},
   "outputs": [
    {
     "data": {
      "text/plain": [
       "['Action, Adventure, Drama', 'Drama, Fantasy, Horror']"
      ]
     },
     "execution_count": 81,
     "metadata": {},
     "output_type": "execute_result"
    }
   ],
   "source": [
    "tags=driver.find_elements_by_xpath(\"//p[@class='text-muted text-small']/span[5]\")\n",
    "for i in tags:\n",
    "    if i.text is None :\n",
    "        Genre.append(\"--\") \n",
    "    else:\n",
    "        Genre.append(i.text)\n",
    "Genre[0:2]"
   ]
  },
  {
   "cell_type": "code",
   "execution_count": 82,
   "metadata": {},
   "outputs": [
    {
     "data": {
      "text/plain": [
       "['57 min', '51 min']"
      ]
     },
     "execution_count": 82,
     "metadata": {},
     "output_type": "execute_result"
    }
   ],
   "source": [
    "tags=driver.find_elements_by_xpath(\"//p[@class='text-muted text-small']/span[3]\")\n",
    "for i in tags:\n",
    "    if i.text is None :\n",
    "        Runtime.append(\"--\") \n",
    "    else:\n",
    "        Runtime.append(i.text)\n",
    "Runtime[0:2]"
   ]
  },
  {
   "cell_type": "code",
   "execution_count": 83,
   "metadata": {},
   "outputs": [
    {
     "data": {
      "text/plain": [
       "['9.3', '8.7']"
      ]
     },
     "execution_count": 83,
     "metadata": {},
     "output_type": "execute_result"
    }
   ],
   "source": [
    "tags=driver.find_elements_by_xpath(\"//div[@class='ipl-rating-star small']/span[2]\")\n",
    "for i in tags:\n",
    "    if i.text is None :\n",
    "        Ratings.append(\"--\") \n",
    "    else:\n",
    "        Ratings.append(i.text)\n",
    "Ratings[0:2]"
   ]
  },
  {
   "cell_type": "code",
   "execution_count": 84,
   "metadata": {},
   "outputs": [
    {
     "data": {
      "text/plain": [
       "['|', '1,768,795']"
      ]
     },
     "execution_count": 84,
     "metadata": {},
     "output_type": "execute_result"
    }
   ],
   "source": [
    "tags=driver.find_elements_by_xpath(\"//p[@class='text-muted text-small']/span[2]\")\n",
    "for i in tags:\n",
    "    if i.text is None :\n",
    "        Votes.append(\"--\") \n",
    "    else:\n",
    "        Votes.append(i.text)\n",
    "Votes[0:2]"
   ]
  },
  {
   "cell_type": "code",
   "execution_count": 86,
   "metadata": {},
   "outputs": [
    {
     "data": {
      "text/plain": [
       "['|', '1,768,795', '|', '821,278', '|', '852,923', '|']"
      ]
     },
     "execution_count": 86,
     "metadata": {},
     "output_type": "execute_result"
    }
   ],
   "source": [
    "Votes[0:7]"
   ]
  },
  {
   "cell_type": "code",
   "execution_count": 88,
   "metadata": {},
   "outputs": [
    {
     "data": {
      "text/plain": [
       "['1,768,795', '821,278', '852,923', '256,067', '216,277', '278,832', '117,803']"
      ]
     },
     "execution_count": 88,
     "metadata": {},
     "output_type": "execute_result"
    }
   ],
   "source": [
    "votes=Votes[1::2]\n",
    "votes[0:7]"
   ]
  },
  {
   "cell_type": "code",
   "execution_count": 89,
   "metadata": {},
   "outputs": [
    {
     "data": {
      "text/html": [
       "<div>\n",
       "<style scoped>\n",
       "    .dataframe tbody tr th:only-of-type {\n",
       "        vertical-align: middle;\n",
       "    }\n",
       "\n",
       "    .dataframe tbody tr th {\n",
       "        vertical-align: top;\n",
       "    }\n",
       "\n",
       "    .dataframe thead th {\n",
       "        text-align: right;\n",
       "    }\n",
       "</style>\n",
       "<table border=\"1\" class=\"dataframe\">\n",
       "  <thead>\n",
       "    <tr style=\"text-align: right;\">\n",
       "      <th></th>\n",
       "      <th>Name</th>\n",
       "      <th>Year_span</th>\n",
       "      <th>Genre</th>\n",
       "      <th>Runtime</th>\n",
       "      <th>Ratings</th>\n",
       "      <th>Votes</th>\n",
       "    </tr>\n",
       "  </thead>\n",
       "  <tbody>\n",
       "    <tr>\n",
       "      <th>0</th>\n",
       "      <td>Game of Thrones</td>\n",
       "      <td>(2011–2019)</td>\n",
       "      <td>Action, Adventure, Drama</td>\n",
       "      <td>57 min</td>\n",
       "      <td>9.3</td>\n",
       "      <td>1,768,795</td>\n",
       "    </tr>\n",
       "    <tr>\n",
       "      <th>1</th>\n",
       "      <td>Stranger Things</td>\n",
       "      <td>(2016– )</td>\n",
       "      <td>Drama, Fantasy, Horror</td>\n",
       "      <td>51 min</td>\n",
       "      <td>8.7</td>\n",
       "      <td>821,278</td>\n",
       "    </tr>\n",
       "    <tr>\n",
       "      <th>2</th>\n",
       "      <td>The Walking Dead</td>\n",
       "      <td>(2010– )</td>\n",
       "      <td>Drama, Horror, Thriller</td>\n",
       "      <td>44 min</td>\n",
       "      <td>8.2</td>\n",
       "      <td>852,923</td>\n",
       "    </tr>\n",
       "    <tr>\n",
       "      <th>3</th>\n",
       "      <td>13 Reasons Why</td>\n",
       "      <td>(2017–2020)</td>\n",
       "      <td>Drama, Mystery, Thriller</td>\n",
       "      <td>60 min</td>\n",
       "      <td>7.6</td>\n",
       "      <td>256,067</td>\n",
       "    </tr>\n",
       "    <tr>\n",
       "      <th>4</th>\n",
       "      <td>The 100</td>\n",
       "      <td>(2014–2020)</td>\n",
       "      <td>Drama, Mystery, Sci-Fi</td>\n",
       "      <td>43 min</td>\n",
       "      <td>7.6</td>\n",
       "      <td>216,277</td>\n",
       "    </tr>\n",
       "    <tr>\n",
       "      <th>...</th>\n",
       "      <td>...</td>\n",
       "      <td>...</td>\n",
       "      <td>...</td>\n",
       "      <td>...</td>\n",
       "      <td>...</td>\n",
       "      <td>...</td>\n",
       "    </tr>\n",
       "    <tr>\n",
       "      <th>95</th>\n",
       "      <td>Reign</td>\n",
       "      <td>(2013–2017)</td>\n",
       "      <td>Drama, Fantasy</td>\n",
       "      <td>42 min</td>\n",
       "      <td>7.5</td>\n",
       "      <td>43,557</td>\n",
       "    </tr>\n",
       "    <tr>\n",
       "      <th>96</th>\n",
       "      <td>A Series of Unfortunate Events</td>\n",
       "      <td>(2017–2019)</td>\n",
       "      <td>Adventure, Comedy, Drama</td>\n",
       "      <td>50 min</td>\n",
       "      <td>7.8</td>\n",
       "      <td>53,847</td>\n",
       "    </tr>\n",
       "    <tr>\n",
       "      <th>97</th>\n",
       "      <td>Criminal Minds</td>\n",
       "      <td>(2005–2020)</td>\n",
       "      <td>Crime, Drama, Mystery</td>\n",
       "      <td>42 min</td>\n",
       "      <td>8.1</td>\n",
       "      <td>161,059</td>\n",
       "    </tr>\n",
       "    <tr>\n",
       "      <th>98</th>\n",
       "      <td>Scream: The TV Series</td>\n",
       "      <td>(2015–2019)</td>\n",
       "      <td>Crime, Drama, Horror</td>\n",
       "      <td>45 min</td>\n",
       "      <td>7.2</td>\n",
       "      <td>34,079</td>\n",
       "    </tr>\n",
       "    <tr>\n",
       "      <th>99</th>\n",
       "      <td>The Haunting of Hill House</td>\n",
       "      <td>(2018)</td>\n",
       "      <td>Drama, Horror, Mystery</td>\n",
       "      <td>572 min</td>\n",
       "      <td>8.6</td>\n",
       "      <td>182,139</td>\n",
       "    </tr>\n",
       "  </tbody>\n",
       "</table>\n",
       "<p>100 rows × 6 columns</p>\n",
       "</div>"
      ],
      "text/plain": [
       "                              Name    Year_span                     Genre  \\\n",
       "0                  Game of Thrones  (2011–2019)  Action, Adventure, Drama   \n",
       "1                  Stranger Things     (2016– )    Drama, Fantasy, Horror   \n",
       "2                 The Walking Dead     (2010– )   Drama, Horror, Thriller   \n",
       "3                   13 Reasons Why  (2017–2020)  Drama, Mystery, Thriller   \n",
       "4                          The 100  (2014–2020)    Drama, Mystery, Sci-Fi   \n",
       "..                             ...          ...                       ...   \n",
       "95                           Reign  (2013–2017)            Drama, Fantasy   \n",
       "96  A Series of Unfortunate Events  (2017–2019)  Adventure, Comedy, Drama   \n",
       "97                  Criminal Minds  (2005–2020)     Crime, Drama, Mystery   \n",
       "98           Scream: The TV Series  (2015–2019)      Crime, Drama, Horror   \n",
       "99      The Haunting of Hill House       (2018)    Drama, Horror, Mystery   \n",
       "\n",
       "    Runtime Ratings      Votes  \n",
       "0    57 min     9.3  1,768,795  \n",
       "1    51 min     8.7    821,278  \n",
       "2    44 min     8.2    852,923  \n",
       "3    60 min     7.6    256,067  \n",
       "4    43 min     7.6    216,277  \n",
       "..      ...     ...        ...  \n",
       "95   42 min     7.5     43,557  \n",
       "96   50 min     7.8     53,847  \n",
       "97   42 min     8.1    161,059  \n",
       "98   45 min     7.2     34,079  \n",
       "99  572 min     8.6    182,139  \n",
       "\n",
       "[100 rows x 6 columns]"
      ]
     },
     "execution_count": 89,
     "metadata": {},
     "output_type": "execute_result"
    }
   ],
   "source": [
    "tv_series=pd.DataFrame({})\n",
    "tv_series['Name']=Name\n",
    "tv_series['Year_span']=Year_span\n",
    "tv_series['Genre']=Genre\n",
    "tv_series['Runtime']=Runtime\n",
    "tv_series['Ratings']=Ratings\n",
    "tv_series['Votes']=votes\n",
    "tv_series"
   ]
  },
  {
   "cell_type": "markdown",
   "metadata": {},
   "source": [
    "### 10.Details of Datasets from UCI machine learning repositories.\n",
    "Url = https://archive.ics.uci.edu/"
   ]
  },
  {
   "cell_type": "code",
   "execution_count": 90,
   "metadata": {},
   "outputs": [],
   "source": [
    "driver.get(\"https://archive.ics.uci.edu/ml/index.php\")"
   ]
  },
  {
   "cell_type": "code",
   "execution_count": 92,
   "metadata": {},
   "outputs": [],
   "source": [
    "button=driver.find_element_by_xpath(\"//span[@class='whitetext']/a/font/b\")\n",
    "button.click()"
   ]
  },
  {
   "cell_type": "code",
   "execution_count": 93,
   "metadata": {},
   "outputs": [],
   "source": [
    "name=[]\n",
    "time=[]\n",
    "task=[]\n",
    "attribute_type=[]\n",
    "no_instances=[]\n",
    "no_attributes=[]\n",
    "year=[]"
   ]
  },
  {
   "cell_type": "code",
   "execution_count": 94,
   "metadata": {},
   "outputs": [
    {
     "data": {
      "text/plain": [
       "['Abalone', 'Adult']"
      ]
     },
     "execution_count": 94,
     "metadata": {},
     "output_type": "execute_result"
    }
   ],
   "source": [
    "tags=driver.find_elements_by_xpath(\"//p[@class='normal']/b/a\")\n",
    "for i in tags:\n",
    "    if i.text is None :\n",
    "        name.append(\"--\") \n",
    "    else:\n",
    "        name.append(i.text)\n",
    "name[0:2]"
   ]
  },
  {
   "cell_type": "code",
   "execution_count": 110,
   "metadata": {},
   "outputs": [
    {
     "data": {
      "text/plain": [
       "['Data Types', 'Multivariate ', 'Multivariate ', 'Multivariate ']"
      ]
     },
     "execution_count": 110,
     "metadata": {},
     "output_type": "execute_result"
    }
   ],
   "source": [
    "types=[]\n",
    "tags=driver.find_elements_by_xpath(\"/html/body/table[2]/tbody/tr/td[2]/table[2]/tbody/tr/td[2]/p\")\n",
    "for i in tags:\n",
    "    if i.text is None :\n",
    "        types.append(\"--\") \n",
    "    else:\n",
    "        types.append(i.text)\n",
    "types[0:4]"
   ]
  },
  {
   "cell_type": "code",
   "execution_count": 101,
   "metadata": {},
   "outputs": [
    {
     "data": {
      "text/plain": [
       "['Default Task']"
      ]
     },
     "execution_count": 101,
     "metadata": {},
     "output_type": "execute_result"
    }
   ],
   "source": [
    "tasks=[]\n",
    "tags=driver.find_elements_by_xpath(\"/html/body/table[2]/tbody/tr/td[2]/table[2]/tbody/tr/td[3]/p\")\n",
    "for i in tags:\n",
    "    if i.text is None :\n",
    "        tasks.append(\"--\") \n",
    "    else:\n",
    "        tasks.append(i.text)\n",
    "tasks[0:1]"
   ]
  },
  {
   "cell_type": "code",
   "execution_count": 102,
   "metadata": {},
   "outputs": [
    {
     "data": {
      "text/plain": [
       "['Classification ', 'Classification ', 'Recommender-Systems ']"
      ]
     },
     "execution_count": 102,
     "metadata": {},
     "output_type": "execute_result"
    }
   ],
   "source": [
    "tasks[2:5]"
   ]
  },
  {
   "cell_type": "code",
   "execution_count": 103,
   "metadata": {},
   "outputs": [
    {
     "data": {
      "text/plain": [
       "['Attribute Types',\n",
       " 'Categorical, Integer, Real ',\n",
       " 'Categorical, Integer ',\n",
       " 'Categorical, Integer, Real ']"
      ]
     },
     "execution_count": 103,
     "metadata": {},
     "output_type": "execute_result"
    }
   ],
   "source": [
    "tags=driver.find_elements_by_xpath(\"/html/body/table[2]/tbody/tr/td[2]/table[2]/tbody/tr/td[4]/p\")\n",
    "for i in tags:\n",
    "    if i.text is None :\n",
    "        attribute_type.append(\"--\") \n",
    "    else:\n",
    "        attribute_type.append(i.text)\n",
    "attribute_type[0:4]"
   ]
  },
  {
   "cell_type": "code",
   "execution_count": 104,
   "metadata": {},
   "outputs": [
    {
     "data": {
      "text/plain": [
       "['# Instances', '4177 ', '48842 ', '798 ']"
      ]
     },
     "execution_count": 104,
     "metadata": {},
     "output_type": "execute_result"
    }
   ],
   "source": [
    "tags=driver.find_elements_by_xpath(\"/html/body/table[2]/tbody/tr/td[2]/table[2]/tbody/tr/td[5]/p\")\n",
    "for i in tags:\n",
    "    if i.text is None :\n",
    "        no_instances.append(\"--\") \n",
    "    else:\n",
    "        no_instances.append(i.text)\n",
    "no_instances[0:4]"
   ]
  },
  {
   "cell_type": "code",
   "execution_count": 108,
   "metadata": {},
   "outputs": [
    {
     "data": {
      "text/plain": [
       "['# Attributes', '8 ', '14 ', '38 ']"
      ]
     },
     "execution_count": 108,
     "metadata": {},
     "output_type": "execute_result"
    }
   ],
   "source": [
    "no_attribute=[]\n",
    "tags=driver.find_elements_by_xpath(\"/html/body/table[2]/tbody/tr/td[2]/table[2]/tbody/tr/td[6]/p\")\n",
    "for i in tags:\n",
    "    if i.text is None :\n",
    "        no_attribute.append(\"--\") \n",
    "    else:\n",
    "        no_attribute.append(i.text)\n",
    "no_attribute[0:4]"
   ]
  },
  {
   "cell_type": "code",
   "execution_count": 109,
   "metadata": {},
   "outputs": [
    {
     "data": {
      "text/plain": [
       "['Year', '1995 ', '1996 ', ' ']"
      ]
     },
     "execution_count": 109,
     "metadata": {},
     "output_type": "execute_result"
    }
   ],
   "source": [
    "tags=driver.find_elements_by_xpath(\"/html/body/table[2]/tbody/tr/td[2]/table[2]/tbody/tr/td[7]/p\")\n",
    "for i in tags:\n",
    "    if i.text is None :\n",
    "        year.append(\"--\") \n",
    "    else:\n",
    "        year.append(i.text)\n",
    "year[0:4]"
   ]
  },
  {
   "cell_type": "code",
   "execution_count": 114,
   "metadata": {},
   "outputs": [
    {
     "data": {
      "text/html": [
       "<div>\n",
       "<style scoped>\n",
       "    .dataframe tbody tr th:only-of-type {\n",
       "        vertical-align: middle;\n",
       "    }\n",
       "\n",
       "    .dataframe tbody tr th {\n",
       "        vertical-align: top;\n",
       "    }\n",
       "\n",
       "    .dataframe thead th {\n",
       "        text-align: right;\n",
       "    }\n",
       "</style>\n",
       "<table border=\"1\" class=\"dataframe\">\n",
       "  <thead>\n",
       "    <tr style=\"text-align: right;\">\n",
       "      <th></th>\n",
       "      <th>Dataset Name</th>\n",
       "      <th>Data type</th>\n",
       "      <th>Task</th>\n",
       "      <th>Attribute Type</th>\n",
       "      <th>No of instances</th>\n",
       "      <th>No of attributes</th>\n",
       "      <th>Year</th>\n",
       "    </tr>\n",
       "  </thead>\n",
       "  <tbody>\n",
       "    <tr>\n",
       "      <th>0</th>\n",
       "      <td>Abalone</td>\n",
       "      <td>Multivariate</td>\n",
       "      <td>Classification</td>\n",
       "      <td>Categorical, Integer, Real</td>\n",
       "      <td>4177</td>\n",
       "      <td>8</td>\n",
       "      <td>1995</td>\n",
       "    </tr>\n",
       "    <tr>\n",
       "      <th>1</th>\n",
       "      <td>Adult</td>\n",
       "      <td>Multivariate</td>\n",
       "      <td>Classification</td>\n",
       "      <td>Categorical, Integer</td>\n",
       "      <td>48842</td>\n",
       "      <td>14</td>\n",
       "      <td>1996</td>\n",
       "    </tr>\n",
       "    <tr>\n",
       "      <th>2</th>\n",
       "      <td>Annealing</td>\n",
       "      <td>Multivariate</td>\n",
       "      <td>Classification</td>\n",
       "      <td>Categorical, Integer, Real</td>\n",
       "      <td>798</td>\n",
       "      <td>38</td>\n",
       "      <td></td>\n",
       "    </tr>\n",
       "    <tr>\n",
       "      <th>3</th>\n",
       "      <td>Anonymous Microsoft Web Data</td>\n",
       "      <td></td>\n",
       "      <td>Recommender-Systems</td>\n",
       "      <td>Categorical</td>\n",
       "      <td>37711</td>\n",
       "      <td>294</td>\n",
       "      <td>1998</td>\n",
       "    </tr>\n",
       "    <tr>\n",
       "      <th>4</th>\n",
       "      <td>Arrhythmia</td>\n",
       "      <td>Multivariate</td>\n",
       "      <td>Classification</td>\n",
       "      <td>Categorical, Integer, Real</td>\n",
       "      <td>452</td>\n",
       "      <td>279</td>\n",
       "      <td>1998</td>\n",
       "    </tr>\n",
       "    <tr>\n",
       "      <th>...</th>\n",
       "      <td>...</td>\n",
       "      <td>...</td>\n",
       "      <td>...</td>\n",
       "      <td>...</td>\n",
       "      <td>...</td>\n",
       "      <td>...</td>\n",
       "      <td>...</td>\n",
       "    </tr>\n",
       "    <tr>\n",
       "      <th>554</th>\n",
       "      <td>IIWA14-R820-Gazebo-Dataset-10Trajectories</td>\n",
       "      <td></td>\n",
       "      <td>Regression</td>\n",
       "      <td>Integer</td>\n",
       "      <td></td>\n",
       "      <td></td>\n",
       "      <td>2020</td>\n",
       "    </tr>\n",
       "    <tr>\n",
       "      <th>555</th>\n",
       "      <td>Guitar Chords finger positions</td>\n",
       "      <td>Text</td>\n",
       "      <td>Classification</td>\n",
       "      <td></td>\n",
       "      <td>2633</td>\n",
       "      <td>5</td>\n",
       "      <td>2020</td>\n",
       "    </tr>\n",
       "    <tr>\n",
       "      <th>556</th>\n",
       "      <td>Russian Corpus of Biographical Texts</td>\n",
       "      <td>Text</td>\n",
       "      <td>Classification</td>\n",
       "      <td></td>\n",
       "      <td>200</td>\n",
       "      <td>2</td>\n",
       "      <td>2020</td>\n",
       "    </tr>\n",
       "    <tr>\n",
       "      <th>557</th>\n",
       "      <td>Codon usage</td>\n",
       "      <td>Multivariate</td>\n",
       "      <td>Classification, Clustering</td>\n",
       "      <td></td>\n",
       "      <td>13028</td>\n",
       "      <td>69</td>\n",
       "      <td>2020</td>\n",
       "    </tr>\n",
       "    <tr>\n",
       "      <th>558</th>\n",
       "      <td>Intelligent Media Accelerometer and Gyroscope ...</td>\n",
       "      <td>Time-Series</td>\n",
       "      <td>Classification</td>\n",
       "      <td>Real</td>\n",
       "      <td>800</td>\n",
       "      <td>9</td>\n",
       "      <td>2020</td>\n",
       "    </tr>\n",
       "  </tbody>\n",
       "</table>\n",
       "<p>559 rows × 7 columns</p>\n",
       "</div>"
      ],
      "text/plain": [
       "                                          Dataset Name      Data type  \\\n",
       "0                                              Abalone  Multivariate    \n",
       "1                                                Adult  Multivariate    \n",
       "2                                            Annealing  Multivariate    \n",
       "3                         Anonymous Microsoft Web Data                  \n",
       "4                                           Arrhythmia  Multivariate    \n",
       "..                                                 ...            ...   \n",
       "554          IIWA14-R820-Gazebo-Dataset-10Trajectories                  \n",
       "555                     Guitar Chords finger positions          Text    \n",
       "556               Russian Corpus of Biographical Texts          Text    \n",
       "557                                        Codon usage  Multivariate    \n",
       "558  Intelligent Media Accelerometer and Gyroscope ...   Time-Series    \n",
       "\n",
       "                            Task               Attribute Type No of instances  \\\n",
       "0                Classification   Categorical, Integer, Real            4177    \n",
       "1                Classification         Categorical, Integer           48842    \n",
       "2                Classification   Categorical, Integer, Real             798    \n",
       "3           Recommender-Systems                  Categorical           37711    \n",
       "4                Classification   Categorical, Integer, Real             452    \n",
       "..                           ...                          ...             ...   \n",
       "554                  Regression                      Integer                    \n",
       "555              Classification                                         2633    \n",
       "556              Classification                                          200    \n",
       "557  Classification, Clustering                                        13028    \n",
       "558              Classification                         Real             800    \n",
       "\n",
       "    No of attributes   Year  \n",
       "0                 8   1995   \n",
       "1                14   1996   \n",
       "2                38          \n",
       "3               294   1998   \n",
       "4               279   1998   \n",
       "..               ...    ...  \n",
       "554                   2020   \n",
       "555               5   2020   \n",
       "556               2   2020   \n",
       "557              69   2020   \n",
       "558               9   2020   \n",
       "\n",
       "[559 rows x 7 columns]"
      ]
     },
     "execution_count": 114,
     "metadata": {},
     "output_type": "execute_result"
    }
   ],
   "source": [
    "UCI_ML=pd.DataFrame({})\n",
    "UCI_ML['Dataset Name']=name[0:]\n",
    "UCI_ML['Data type']=types[1:]\n",
    "UCI_ML['Task']=tasks[1:]\n",
    "UCI_ML['Attribute Type']=attribute_type[1:]\n",
    "UCI_ML['No of instances']=no_instances[1:]\n",
    "UCI_ML['No of attributes']=no_attribute[1:]\n",
    "UCI_ML['Year']=year[1:]\n",
    "UCI_ML"
   ]
  }
 ],
 "metadata": {
  "kernelspec": {
   "display_name": "Python 3",
   "language": "python",
   "name": "python3"
  },
  "language_info": {
   "codemirror_mode": {
    "name": "ipython",
    "version": 3
   },
   "file_extension": ".py",
   "mimetype": "text/x-python",
   "name": "python",
   "nbconvert_exporter": "python",
   "pygments_lexer": "ipython3",
   "version": "3.7.6"
  }
 },
 "nbformat": 4,
 "nbformat_minor": 4
}
