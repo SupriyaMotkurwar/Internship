{
 "cells": [
  {
   "cell_type": "markdown",
   "metadata": {},
   "source": [
    "### 1.Program to scrape data for “Data Analyst” Job position in“Bangalore” location"
   ]
  },
  {
   "cell_type": "code",
   "execution_count": 1,
   "metadata": {},
   "outputs": [],
   "source": [
    "import selenium\n",
    "import pandas as pd\n",
    "from selenium import webdriver"
   ]
  },
  {
   "cell_type": "code",
   "execution_count": 2,
   "metadata": {},
   "outputs": [],
   "source": [
    "#lets connect to the webdriver\n",
    "driver=webdriver.Chrome(r\"C:\\Users\\Hp\\Desktop\\chromedriver.exe\")\n",
    "#specifying the url of the webpage to be scraped by opening driver\n",
    "driver.get(\"https://www.naukri.com/\")\n",
    "search_field_designation=driver.find_element_by_id(\"qsb-keyword-sugg\")\n",
    "search_field_location=driver.find_element_by_id('qsb-location-sugg')\n",
    "search_field_designation.send_keys(\"Data Analyst\")\n",
    "search_field_location.send_keys(\"Bangalore\")\n",
    "\n",
    "# clicking the search button\n",
    "search_button=driver.find_element_by_xpath(\"//div[@class='search-btn']/button\")\n",
    "search_button.click()"
   ]
  },
  {
   "cell_type": "code",
   "execution_count": 3,
   "metadata": {},
   "outputs": [],
   "source": [
    "job_title=[]\n",
    "job_location=[]\n",
    "company_name=[]\n",
    "experience_required=[]"
   ]
  },
  {
   "cell_type": "code",
   "execution_count": 4,
   "metadata": {},
   "outputs": [],
   "source": [
    "title_tags=driver.find_elements_by_xpath(\"//a[@class='title fw500 ellipsis']\")"
   ]
  },
  {
   "cell_type": "code",
   "execution_count": 5,
   "metadata": {},
   "outputs": [
    {
     "data": {
      "text/plain": [
       "['Data Scientist/Data Analyst-immediate',\n",
       " 'Immediate openings For MIS executive /Data analyst For Bangalore',\n",
       " 'Data Analyst',\n",
       " 'Data Analyst']"
      ]
     },
     "execution_count": 5,
     "metadata": {},
     "output_type": "execute_result"
    }
   ],
   "source": [
    "for i in title_tags:\n",
    "    title=i.text\n",
    "    job_title.append(title)\n",
    "job_title[0:4]"
   ]
  },
  {
   "cell_type": "code",
   "execution_count": 6,
   "metadata": {},
   "outputs": [],
   "source": [
    "location_tags=driver.find_elements_by_xpath(\"//li[@class='fleft grey-text br2 placeHolderLi location']/span\")\n"
   ]
  },
  {
   "cell_type": "code",
   "execution_count": 7,
   "metadata": {},
   "outputs": [
    {
     "data": {
      "text/plain": [
       "['Chennai, Pune, Bengaluru, Hyderabad',\n",
       " 'Bengaluru',\n",
       " 'Bengaluru',\n",
       " 'Mumbai, Bengaluru, Hyderabad',\n",
       " 'Bengaluru',\n",
       " 'Bengaluru',\n",
       " 'Bengaluru(Koramangala)',\n",
       " 'Bengaluru',\n",
       " 'Bengaluru, Kolkata']"
      ]
     },
     "execution_count": 7,
     "metadata": {},
     "output_type": "execute_result"
    }
   ],
   "source": [
    "for i in location_tags:\n",
    "    title=i.text\n",
    "    job_location.append(title)\n",
    "job_location[0:9]"
   ]
  },
  {
   "cell_type": "code",
   "execution_count": 8,
   "metadata": {},
   "outputs": [],
   "source": [
    "exp_tags=driver.find_elements_by_xpath(\"//li[@class='fleft grey-text br2 placeHolderLi experience']/span\")\n"
   ]
  },
  {
   "cell_type": "code",
   "execution_count": 9,
   "metadata": {},
   "outputs": [
    {
     "data": {
      "text/plain": [
       "['0-3 Yrs',\n",
       " '3-8 Yrs',\n",
       " '6-11 Yrs',\n",
       " '2-3 Yrs',\n",
       " '0-4 Yrs',\n",
       " '0-3 Yrs',\n",
       " '0-3 Yrs',\n",
       " '2-7 Yrs',\n",
       " '3-4 Yrs',\n",
       " '2-5 Yrs']"
      ]
     },
     "execution_count": 9,
     "metadata": {},
     "output_type": "execute_result"
    }
   ],
   "source": [
    "for i in exp_tags:\n",
    "    title=i.text\n",
    "    experience_required.append(title)\n",
    "experience_required[0:10]"
   ]
  },
  {
   "cell_type": "code",
   "execution_count": 10,
   "metadata": {},
   "outputs": [],
   "source": [
    "company_tags=driver.find_elements_by_xpath(\"//div[@class='mt-7 companyInfo subheading lh16']/a[1]\")\n"
   ]
  },
  {
   "cell_type": "code",
   "execution_count": 11,
   "metadata": {},
   "outputs": [
    {
     "data": {
      "text/plain": [
       "['CAIA-Center For Artificial Intelligence & Advanced Analytics',\n",
       " 'RANDSTAD INDIA PVT LTD',\n",
       " 'Applied Materials',\n",
       " 'Cognizant Technology Solutions India Pvt Ltd',\n",
       " 'St. John’s Research Institute',\n",
       " 'Siemens Limited',\n",
       " 'Sunstream Global Technologies LLP',\n",
       " 'GlaxoSmithKline Pharmaceuticals Limited',\n",
       " 'Cognizant Technology Solutions India Pvt Ltd']"
      ]
     },
     "execution_count": 11,
     "metadata": {},
     "output_type": "execute_result"
    }
   ],
   "source": [
    "for i in company_tags:\n",
    "    title=i.text\n",
    "    company_name.append(title)\n",
    "company_name[0:9]"
   ]
  },
  {
   "cell_type": "code",
   "execution_count": 12,
   "metadata": {},
   "outputs": [],
   "source": [
    "jobs_description=pd.DataFrame({})\n",
    "jobs_description['job_title']=job_title[0:10]\n",
    "jobs_description['job_location']=job_location[0:10]\n",
    "jobs_description['company_name']=company_name[0:10]\n",
    "jobs_description['experience_required']=experience_required[0:10]"
   ]
  },
  {
   "cell_type": "code",
   "execution_count": 13,
   "metadata": {},
   "outputs": [
    {
     "data": {
      "text/html": [
       "<div>\n",
       "<style scoped>\n",
       "    .dataframe tbody tr th:only-of-type {\n",
       "        vertical-align: middle;\n",
       "    }\n",
       "\n",
       "    .dataframe tbody tr th {\n",
       "        vertical-align: top;\n",
       "    }\n",
       "\n",
       "    .dataframe thead th {\n",
       "        text-align: right;\n",
       "    }\n",
       "</style>\n",
       "<table border=\"1\" class=\"dataframe\">\n",
       "  <thead>\n",
       "    <tr style=\"text-align: right;\">\n",
       "      <th></th>\n",
       "      <th>job_title</th>\n",
       "      <th>job_location</th>\n",
       "      <th>company_name</th>\n",
       "      <th>experience_required</th>\n",
       "    </tr>\n",
       "  </thead>\n",
       "  <tbody>\n",
       "    <tr>\n",
       "      <th>0</th>\n",
       "      <td>Data Scientist/Data Analyst-immediate</td>\n",
       "      <td>Chennai, Pune, Bengaluru, Hyderabad</td>\n",
       "      <td>CAIA-Center For Artificial Intelligence &amp; Adva...</td>\n",
       "      <td>0-3 Yrs</td>\n",
       "    </tr>\n",
       "    <tr>\n",
       "      <th>1</th>\n",
       "      <td>Immediate openings For MIS executive /Data ana...</td>\n",
       "      <td>Bengaluru</td>\n",
       "      <td>RANDSTAD INDIA PVT LTD</td>\n",
       "      <td>3-8 Yrs</td>\n",
       "    </tr>\n",
       "    <tr>\n",
       "      <th>2</th>\n",
       "      <td>Data Analyst</td>\n",
       "      <td>Bengaluru</td>\n",
       "      <td>Applied Materials</td>\n",
       "      <td>6-11 Yrs</td>\n",
       "    </tr>\n",
       "    <tr>\n",
       "      <th>3</th>\n",
       "      <td>Data Analyst</td>\n",
       "      <td>Mumbai, Bengaluru, Hyderabad</td>\n",
       "      <td>Cognizant Technology Solutions India Pvt Ltd</td>\n",
       "      <td>2-3 Yrs</td>\n",
       "    </tr>\n",
       "    <tr>\n",
       "      <th>4</th>\n",
       "      <td>Data Analyst</td>\n",
       "      <td>Bengaluru</td>\n",
       "      <td>St. John’s Research Institute</td>\n",
       "      <td>0-4 Yrs</td>\n",
       "    </tr>\n",
       "    <tr>\n",
       "      <th>5</th>\n",
       "      <td>Data Analyst</td>\n",
       "      <td>Bengaluru</td>\n",
       "      <td>Siemens Limited</td>\n",
       "      <td>0-3 Yrs</td>\n",
       "    </tr>\n",
       "    <tr>\n",
       "      <th>6</th>\n",
       "      <td>Procurement Data Analyst ( 0.6 To 3 Yrs, Banga...</td>\n",
       "      <td>Bengaluru(Koramangala)</td>\n",
       "      <td>Sunstream Global Technologies LLP</td>\n",
       "      <td>0-3 Yrs</td>\n",
       "    </tr>\n",
       "    <tr>\n",
       "      <th>7</th>\n",
       "      <td>Data Analyst</td>\n",
       "      <td>Bengaluru</td>\n",
       "      <td>GlaxoSmithKline Pharmaceuticals Limited</td>\n",
       "      <td>2-7 Yrs</td>\n",
       "    </tr>\n",
       "    <tr>\n",
       "      <th>8</th>\n",
       "      <td>Data Analyst</td>\n",
       "      <td>Bengaluru, Kolkata</td>\n",
       "      <td>Cognizant Technology Solutions India Pvt Ltd</td>\n",
       "      <td>3-4 Yrs</td>\n",
       "    </tr>\n",
       "    <tr>\n",
       "      <th>9</th>\n",
       "      <td>Business Analyst / Data Analyst</td>\n",
       "      <td>Bengaluru</td>\n",
       "      <td>Schneider Electric India Pvt. Ltd.</td>\n",
       "      <td>2-5 Yrs</td>\n",
       "    </tr>\n",
       "  </tbody>\n",
       "</table>\n",
       "</div>"
      ],
      "text/plain": [
       "                                           job_title  \\\n",
       "0              Data Scientist/Data Analyst-immediate   \n",
       "1  Immediate openings For MIS executive /Data ana...   \n",
       "2                                       Data Analyst   \n",
       "3                                       Data Analyst   \n",
       "4                                       Data Analyst   \n",
       "5                                       Data Analyst   \n",
       "6  Procurement Data Analyst ( 0.6 To 3 Yrs, Banga...   \n",
       "7                                       Data Analyst   \n",
       "8                                       Data Analyst   \n",
       "9                    Business Analyst / Data Analyst   \n",
       "\n",
       "                          job_location  \\\n",
       "0  Chennai, Pune, Bengaluru, Hyderabad   \n",
       "1                            Bengaluru   \n",
       "2                            Bengaluru   \n",
       "3         Mumbai, Bengaluru, Hyderabad   \n",
       "4                            Bengaluru   \n",
       "5                            Bengaluru   \n",
       "6               Bengaluru(Koramangala)   \n",
       "7                            Bengaluru   \n",
       "8                   Bengaluru, Kolkata   \n",
       "9                            Bengaluru   \n",
       "\n",
       "                                        company_name experience_required  \n",
       "0  CAIA-Center For Artificial Intelligence & Adva...             0-3 Yrs  \n",
       "1                             RANDSTAD INDIA PVT LTD             3-8 Yrs  \n",
       "2                                  Applied Materials            6-11 Yrs  \n",
       "3       Cognizant Technology Solutions India Pvt Ltd             2-3 Yrs  \n",
       "4                      St. John’s Research Institute             0-4 Yrs  \n",
       "5                                    Siemens Limited             0-3 Yrs  \n",
       "6                  Sunstream Global Technologies LLP             0-3 Yrs  \n",
       "7            GlaxoSmithKline Pharmaceuticals Limited             2-7 Yrs  \n",
       "8       Cognizant Technology Solutions India Pvt Ltd             3-4 Yrs  \n",
       "9                 Schneider Electric India Pvt. Ltd.             2-5 Yrs  "
      ]
     },
     "execution_count": 13,
     "metadata": {},
     "output_type": "execute_result"
    }
   ],
   "source": [
    "jobs_description"
   ]
  },
  {
   "cell_type": "markdown",
   "metadata": {},
   "source": [
    "### 2.Program to scrape data for “Data Scientist” Job position in “Bangalore” location"
   ]
  },
  {
   "cell_type": "code",
   "execution_count": 14,
   "metadata": {},
   "outputs": [],
   "source": [
    "driver=webdriver.Chrome(r\"C:\\Users\\Hp\\Desktop\\chromedriver.exe\")\n",
    "#specifying the url of the webpage to be scraped by opening driver\n",
    "driver.get(\"https://www.naukri.com/\")\n",
    "# entering “Data Scientist” in “Skill,Designations,Companies” field and enter “Bangalore” in “enter the location” field.\n",
    "\n",
    "search_field_designation=driver.find_element_by_id(\"qsb-keyword-sugg\")\n",
    "search_field_location=driver.find_element_by_id('qsb-location-sugg')\n",
    "search_field_designation.send_keys(\"Data Scientist\")\n",
    "search_field_location.send_keys(\"Bangalore\")\n",
    "\n",
    "# clicking the search button\n",
    "search_button=driver.find_element_by_xpath(\"//div[@class='search-btn']/button\")\n",
    "search_button.click()\n",
    "\n",
    "# creating empty lists for scraping data\n",
    "job_title=[]\n",
    "job_location=[]\n",
    "company_name=[]\n",
    "full_job_description=[]\n"
   ]
  },
  {
   "cell_type": "code",
   "execution_count": 15,
   "metadata": {},
   "outputs": [
    {
     "data": {
      "text/plain": [
       "['Data Scientist/Data Analyst-immediate',\n",
       " 'HCL hiring Data scientist with exp in machine learning &SQL-Bangalore!',\n",
       " 'Data Scientist -Machine Learning',\n",
       " 'Data Scientist - Machine Learning',\n",
       " 'Data Scientist',\n",
       " 'Software Developer - Data Scientist / NLP / Machine Learning',\n",
       " 'Data Scientist - Machine Learning - Remote Working',\n",
       " 'Lead Data Scientist - Complete Remote Work',\n",
       " 'Data Scientist (Healthcare/Pharma Domain preferred)',\n",
       " 'Data Scientist',\n",
       " 'Data Scientist',\n",
       " 'Tech Mahindra hiring For Data Scientist- Bangalore',\n",
       " 'Senior Data Scientist',\n",
       " 'Lead Data Scientist',\n",
       " 'Principal Data Scientist',\n",
       " 'Data Scientist',\n",
       " 'Lead Data Scientist - Bangalore /Banking & Financial Domain is must',\n",
       " 'Data Scientist (machine Learning /AI)',\n",
       " 'Sr. Data Scientist',\n",
       " 'Sr . Data Scientist']"
      ]
     },
     "execution_count": 15,
     "metadata": {},
     "output_type": "execute_result"
    }
   ],
   "source": [
    "#scraping the job-titles\n",
    "titles=driver.find_elements_by_xpath(\"//a[@class='title fw500 ellipsis']\")\n",
    "for i in titles:\n",
    "    if i.text is None :\n",
    "        job_title.append(\"--\") \n",
    "    else:\n",
    "        job_title.append(i.text)\n",
    "    \n",
    "job_title"
   ]
  },
  {
   "cell_type": "code",
   "execution_count": 16,
   "metadata": {},
   "outputs": [
    {
     "data": {
      "text/plain": [
       "['CAIA-Center For Artificial Intelligence & Advanced Analytics',\n",
       " 'HCL Technologies Limited']"
      ]
     },
     "execution_count": 16,
     "metadata": {},
     "output_type": "execute_result"
    }
   ],
   "source": [
    "#scraping the company_name \n",
    "companies=driver.find_elements_by_xpath(\"//div[@class='mt-7 companyInfo subheading lh16']/a\")\n",
    "for i in companies:\n",
    "    if i.text is None :\n",
    "        company_name.append(\"--\") \n",
    "    else:\n",
    "        company_name.append(i.text)\n",
    "company_name[0:2]"
   ]
  },
  {
   "cell_type": "code",
   "execution_count": 17,
   "metadata": {},
   "outputs": [
    {
     "data": {
      "text/plain": [
       "['Chennai, Pune, Bengaluru, Hyderabad', 'Bengaluru']"
      ]
     },
     "execution_count": 17,
     "metadata": {},
     "output_type": "execute_result"
    }
   ],
   "source": [
    "#scraping the job-location\n",
    "locations=driver.find_elements_by_xpath(\"//li[@class='fleft grey-text br2 placeHolderLi location']/span[1]\")\n",
    "for i in locations:\n",
    "    if i.text is None :\n",
    "        job_location.append(\"--\") \n",
    "    else:\n",
    "        job_location.append(i.text)\n",
    "job_location[0:2]"
   ]
  },
  {
   "cell_type": "code",
   "execution_count": 18,
   "metadata": {},
   "outputs": [],
   "source": [
    "from selenium.common.exceptions import StaleElementReferenceException, NoSuchElementException\n"
   ]
  },
  {
   "cell_type": "code",
   "execution_count": 19,
   "metadata": {},
   "outputs": [],
   "source": [
    "job_description=[]\n",
    "# scraping the full job-description, for scraping full job description we have to go in each of the jobs separately\n",
    "urls=[i.get_attribute(\"href\")for i in driver.find_elements_by_xpath(\"//a[@class='title fw500 ellipsis']\")]\n"
   ]
  },
  {
   "cell_type": "code",
   "execution_count": 20,
   "metadata": {},
   "outputs": [],
   "source": [
    "import time"
   ]
  },
  {
   "cell_type": "code",
   "execution_count": 21,
   "metadata": {},
   "outputs": [],
   "source": [
    "for url in urls[0:10]:\n",
    "    try:\n",
    "        \n",
    "        driver.get(url)\n",
    "        raw_description=driver.find_element_by_xpath(\"//section[@class='job-desc']/div[1]\").text\n",
    "        description=raw_description.replace(\"Contact Person\",\"@@@@@\")\n",
    "        description= description.split(\"@@@@@\")\n",
    "        job_description.append(description[0])\n",
    "    except NoSuchElementException :\n",
    "        job_description.append(\"---\")\n",
    "\n"
   ]
  },
  {
   "cell_type": "code",
   "execution_count": 22,
   "metadata": {},
   "outputs": [
    {
     "data": {
      "text/plain": [
       "['Dear Candidate\\n\\nSchedule a Telephonic Interview ( Please call for confirmation) : Mon- Sat from 11:00am to 5:00pm\\n\\nOR Walk-In to the Corporate office between Monday to Friday from 11:00am to 5:00pm\\nContact person :\\n\\nManigandan -+91 7299917200\\nShantha +91 9790993237\\n\\n\\nSystech Solutions\\nTemple Steps\\nTower 3, 6th Floor\\n184-187 Anna Salai\\nSaidapet, Chennai 600015\\nIndia (Near Little Mount Metro Station)\\nRoles and Responsibilities\\n\\nGreetings from CAIA !\\nA great opportunity to enter the world of future technologies - Data Science, Analytics, AI, Data Visualization\\nApplications invited from all Freshers and experienced candidates aspiring to make a career in Artificial Intelligence and Advanced Analytics and Data Science.\\nIn case you are trying to shift your career to Analytics and/or AI domain please do connect with us to know more.\\nWhat is needed from you?\\n- An Educational background in any one of the following- BE/B.Tech, ME/M Tech, MSc, BSc/MSc Maths and Statistics, B Com, BCA, BSc CS, BSC IT, MSC IT, MCA\\n- Skills relating to Mathematics/Statistics.\\n- Natural passion towards numbers, business, coding, Analytics and Artificial Intelligence, Machine Learning, visualization\\n- Good verbal and written communication skills\\n- Ability to understand domains in businesses across various sectors\\n- Freshers who wish to start their career in Analytics and AI and professionals who wish to up skill or change their domain to analytics and emerging technologies are free to apply.\\nSelection procedure includes\\n- Online Aptitude Test\\n- Logical Ability Test / Written Test\\nOn being shortlisted, you will be have to undergo a one-one discussion with our counsellor for further evaluation and processing of your Resume.\\nWhat you can expect from us?\\nYou will get trained on the following modules for a period of 12-14 weeks:\\n-SQL & PLSQL\\n-Data Wrangling using Python\\n-Statistics for Machine Learning,\\n-Artificial Intelligence, Data Interpretation\\n-Supervised & Unsupervised Learning,\\n-NLP & Deep Learning\\n-Cloud Data Lake\\n-Business intelligence & Data Visualization\\n-Simulation Projects\\nWhat is the expected Outcome?\\nAt the end of the Training you are expected to be well versed with the following:\\n- Analysis of large and complex data sets from multiple sources\\n- Development and evaluation of data analytics models, algorithms and solutions\\n- Understanding/implementation of ML algorithms, performance tuning and reporting\\n- Implementation of algorithms to mine targeted data and the ability to convert data into a business story\\n- Translation of business requirements into technical requirements; Data extraction, preparation and transformation\\n- Identification, development and implementation of statistical techniques and algorithms that address business challenges and adds value to the organisation\\n- Requirement Analysis and communication of findings in the form of a meaningful story with the stakeholders\\nCenter for Artificial Intelligence & Advanced Analytics (CAIA) focuses on the following:\\n1. Global Research on emerging trends, technologies and applications in AI and Advanced Analytics\\n2. Advanced Training programs for readying the future ready workforce\\n3. Solutions to herald the futuristic lifestyle and workspaces in the field of AI and Data Science.\\nhttp://www.centerforaia.com/\\nCenter for Artificial Intelligence and Advanced Analytics (Center for AIA) is the brainchild of experienced and visionary alumni of IIT Madras and Bombay. Digital leaders 5F World and Systech Solutions have joined hands to create a venture for architecting the future of society, workforce, governments and businesses. 5F World specializes in designing solutions around digital platforms and Systech Solutions has an expertise in architecting Artificial Intelligence and Advanced Analytics solutions for Fortune 500 companies through specialized programmed.\\n5F World\\n5F World is a leader in digital transformational journeys and has brought together the best minds in industry, academia and technology domains to develop a unique framework to transform stakeholder journeys through innovation and digitalization of businesses and education institutions.\\nSystech Solutions\\nSystech Solutions is a leading organisation in Data Strategy, Management & Analytics services provider with deep technology expertise and over 20 years of industry experience. Systech Solutions helps empower clients with innovative, data-driven solutions to reimagine their enterprise and has forged partnerships with industry-leading technology providers to develop a full spectrum of data services.\\n\\nWebsite\\nhttp://www.centerforaia.com/\\n\\nhttps://inflexion-analytix-private-limited.business.site/?m=true\\n\\n\\n\\n',\n",
       " \"Dear Candidate,\\n\\nGreetings from HCL!!!\\nWe are looking for Data scientists with experience in machine learning algorithms and strong SQL experience.\\nIf you are Keen with Below Skill Set. Please do send the Updated CV with details such as current ctc, expected ctc and notice period to m_divvya@hcl.com / 8754448290.We are looking only for immediate joiners. Candidates with more than 30 days notice please don't apply.\\n\\n\\nTechnical Skills:\\nOverall 5+ years of experience in advanced analytics and leading/mentoring team members\\nProficient in Python & SQL with minimum 2-3 years of hands on experience\\nSolid fundamentals, knowledge of supervised, unsupervised, reinforcement learning machine learning and deep learning algorithms, such as classifiers, cluster analysis, dimension reduction, regression, CNN, RNN, DQN, temporal difference methods, sequence modeling, probability theory, algorithm design and theory of computation, information retrieval\\nAbility to work and execute projects on both structured and unstructured data in a big data environment • Strong at preparing data for analysis using SQL and experience working with the industry leading BI tools like Tableau, visualizing the data and executing to specifications\\nExperience of end to end implementation of predictive analytics projects for at least 1-3 years • Exposure to text analytics, web scraping, big data technologies and graph databases would be desirable • Exposure to visualization tools • Experience of intent to learn software domain related to VMware products and the way virtualization software/hardware\\n\\nPreferred Skills:\\nGood understanding of API connections and data pipelining • Knowledge with Natural Language Processing (e.g. word2vec, doc2vec, attention, LDA) • Understanding of different model performance metrics and hyperparameter optimization • Business Acumen, ability to translate business needs into a set of workable, specific requirements • Well versed with MS PowerPoint/Visio\\nAbility to understand business requirements, KPIs and convert into analytical hypothesis in a structured and logical manner along with solution identification • Ability to handle multiple projects at a time in terms of multitasking, prioritization, allocation and team management • Ability to coordinate and work within multiple business units from project management perspective • Ability to work across geographies and interact with global stakeholders • Prior experience working in Agile methodologies/JIRA would be a plus\\nWhat we are looking for:\\nBS/BE in Computer Sciences, Math, Statistics or related field. Masters preferred.\\nProficient in SQL and experience with efficient processing of large data sets. Ability to write sophisticated and optimized queries against large databases • Proficient in data visualization tools such as Mode Analytics or Tableau • Proficient in Excel • Experience in statistical computing with Python/R • Ability to handle several concurrent activities with strong organizational skills and attention to detail We're team players. You'll do well if you're one too\",\n",
       " '---',\n",
       " 'Roles and Responsibilities\\n\\n\\n- Selecting features, building and optimizing classifiers using machine learning techniques\\n\\n- Data mining using state-of-the-art methods\\n\\n- Enhancing data collection procedures to include information that is relevant for building analytic systems\\n\\n- Processing, cleansing, and verifying the integrity of data used for analysis\\n\\n- Doing ad-hoc analysis and presenting results in a clear manner\\n\\n- Creating automated anomaly detection systems and constant tracking of its performance\\n\\nSkills Required :\\n\\n- Excellent understanding of machine learning techniques and algorithms, such as k-NN, Naive Bayes, SVM, Decision Forests, etc.\\n\\n- Experiences with one or more of the following is highly desirable: HPC/Parallelization, operationalizing ML models; cloud computing (e.g. Google Cloud, AWS, etc.); familiarity with ML frameworks such as Tensorflow, Theano, MXNet, etc\\n\\n- Good experience in a few of the following areas: deep neural networks, reinforcement learning, Markov Random Fields, Bayesian networks, semi-supervised learning, computer vision, image processing, signal processing, distributed computing, and/or numerical optimization\\n\\n- 2+ years of experience with computer vision and deep learning solutions, including image classification, object detection, segmentation, and equivalent computer vision-based vision tasks\\n\\n- Experience with common data science toolkits, such as R, Weka, NumPy, etc . Excellence in at least one of these is highly desirable\\n\\n- Proficiency in using query languages such as SQL, Hive, Pig\\n\\n- Good applied statistics skills, such as distributions, statistical testing, regression, etc.\\n\\n- Good scripting and programming skills\\n\\n- Data-oriented personality\\n\\n- B.Tech/M.Tech degree in from reputed institutes like IIT / NIT / BITS',\n",
       " 'Mailkit is an European Marketing Automation company in search of a Data Scientist with knowledge in Python and Machine Learning to join our R&D team. Applicants should have knowledge of algorithms, statistical analysis, data mining / text mining with / NLP / NLTK , Text analytics, etc.\\n\\nKeeping in mind the current pandemic threat, we are offering remote job facility as well, that means selected candidate can work from his/her home comfort. But preference will be given to candidates who are willing to work from our office location in Kolkata. He or She should have minimum 3 years of experience in the said technology. Interested candidates should be able to present a good project portfolio. Developer(s) should be able to tactfully resolve complex issues and implement new things by himself or herself. Applicants should be able to speak and write good English.\\n\\nRoles and Responsibilities\\nKnowledge in deep learning algorithms and AI system design and architecture.\\nExcellent understanding of complex system architecture, components and requirements\\nInnovative and creative, logical thinker,.\\nAdvanced level proficiency in Python programming\\nBe able to read, write and speak good English\\n\\nResponsibilities\\nResponsible for machine learning technology and application analysis, understand the latest industrial and academic developments in AI/ML\\nStudy and innovate in Deep Learning/machine learning and its application in diverse domains\\nDesign competitive AI/ML services and user experience.\\nWork with the team to integrate these algorithms into larger solutions.\\nPerks and Benefits\\nCandidates might get the opportunity to work from home.\\nSaturdays and Sundays, fixed weekend offs.\\nemployees get 6 sick leaves, 18 casual leaves and 14 calendar holidays every year.\\non time salary, usually last working day of every month.',\n",
       " 'Roles and Responsibilities\\nWe are looking for a competent and enthusiastic candidate with the below requirement. This vital role ensures Cunesoft India Pvt Ltd (a Phlexglobal Company) Bangalore can provide a high-quality end product to internal and external users. This position requires strong technical and communication skills as well as both independent and team working, including working closely with all other areas of the software delivery team and the rest of the Technology department.\\n\\nRoles and Responsibilities\\n\\nKey Activities\\nDevelop and improve the existing data mining and NLP related processes within our Regulatory Data Management platform\\nDevelop new ways of improving and transforming the regulatory processes of Phlexglobal customers.\\nInteract with product management, project management and development teams to develop additional modules and functions within the Phlexglobal Cloud Platform\\nDesign and create solutions for pre specified modules and functions\\nUse existing tools and techniques to develop and test new and existing work\\nDefine, create and execute automated test cases, i.e. unit tests\\nParticipate in troubleshooting and triaging of issues with different teams to drive towards root cause identification and resolution\\nSupport production deployment of applications and perform validation testing during the off-hours maintenance windows\\nSupport and fix existing and new identified issues by either customers or internal test teams.\\n\\n\\nDesired Candidate Profile\\n\\nRequired Skills & Experience\\nMinimum 3+ years working experience in NLP, Artificial Intelligence, Machine Learning, Text Mining, Neural Networks\\nStrong programming skills using PYTHON\\nIn depth experience with OpenNLP, Stanford NLP or related NLP / data mining technologies\\nIn depth experience with Python and data libraries such as scikit learn, pandas, numpy, etc.\\nSelecting features, building and optimizing classifiers using machine learning techniques\\nExcellent understanding of Machine Learning Techniques and Algorithms.\\nMust have Data mining / Natural Language Processing experience\\nMust have very good understanding ofGIT\\nProcessing, Cleansing, and verifying the integrity of data\\nDevelop custom data models and algorithms to apply to data sets.\\nDefining validation strategies\\nDefining the preprocessing or feature engineering to be done on a given dataset\\nDefining data augmentation pipelines\\nTraining models and tuning their hyperparameters\\nAnalyzing the errors of the model and designing strategies to overcome them\\nDeploying models to production\\n\\nAdded advantages\\n3+ years experience using Microsoft .NET / C#\\nExposure to ML.Net, AutoML, NimbusML, etc\\nGood knowledge of Microsoft Visual Studio is preferred\\nGood to have Microsoft SQL Server, preferably Microsoft SQL Azure\\nPrevious experience in the Life sciences area\\nOther requirements\\nExcellent verbal and written communication skills\\nMust be flexible, independent and self motivated\\nPunctual, Regular and consistent attendance\\n\\nEducation:\\nBS degree in Information Systems, Computer Science, Web Systems, Electrical Engineering, Mathematics or domain related working experience\\nAs part of the Interview process, could you please complete the Titanic project and share the predication results on Kaggle.com to move forward with interview.\\n\\nhttps://www.kaggle.com/c/titanic\\n\\nCandidates with relevant experience kindly contact me.\\n\\nWe are looking for a candidate who can join us immediately or in less than 15-20 days\\n\\nSrini\\n+91 9731007277\\nsarumugam@phlexglobal.com',\n",
       " \"Please note that this role will be Remote / Home-based for next 6 to 12 months.\\n\\nIn DOJI, we are building a next generation marketplace and setting new standards for e-commerce buyers and sellers worldwide. We are a UK based tech start-up, founded by three passionate entrepreneurs with a track record of building and exiting successful ventures.\\nWe're excited to build this world-class team that is going to reshape the way people buy and sell consumer goods.\\n\\nRoles and Responsibilities\\n\\nPerform exploratory and statistical analyses to understand and predict our customer behaviours, identify bottlenecks, and answer critical business questions.\\nBuild and deploy scalable machine learning models and oversee their performance against KPIs.\\nForecast our users conversion, engagement, and churn with rigorous statistical models\\nBuild overall data capability of our organisation by performing complex data processing, building data pipelines and developing data products which can be directly used by our business users such as marketing and product teams\\n\\nRequirements\\n\\nFollowing are the mandatory skills & experience requirements for this role:\\nBeen a data scientist for 2+ years in a commercial set-up\\nDirect experience in performing statistical analyses or building a variety of machine learning models from complex, specialised or large data pools.\\nPassion for understanding user behaviour and building solutions to optimise customer experience and growth.\\nDemonstrated competency with unsupervised machine learning algorithms (k-means clustering, isolation forests etc.) and / or supervised algorithms (logistic regression, SVM, Random Forests, GBM etc.)\\nDirect experience using programming languages such as Python or R for statistical and/or numeric computing\\nUndergraduate degree in a quantitative discipline (maths, statistics, econometrics etc.) or computer science\\n\\nAlthough the following requirements are not mandatory, however we would strongly prefer candidates with this skill and experience.\\nWe would prefer someone who also has experience in: data engineering, building data pipelines and cloud (AWS, Azure or GCP).\\nExperience with additional programming languages used for data processing such as SQL, Hive, PySpark, Scala etc.\\nExperience with consumer retail or e-commerce data\\nPostgraduate degree in a quantitative discipline or computer science\\n\\nPerks and Benefits\\n\\nA very competitive package of 15 to 20 Lacs\\nBe part of a start-up with an entrepreneurial mindset that thinks big, with a long-term vision.\\nBe the owner of your own development in an environment that is full of opportunities, learning, growth, expansion and challenging projects.\\nShare and learn with the team, amongst great professionals and experts.\\nAn excellent work environment, with everything that you need to enjoy a great experience\\n\\nSince this role will be 'Remote' (e.g. home office) during the initial stages, you will be responsible to ensure proper working conditions (computer and related equipment, reliable internet connection, etc) and availability during normal business working hours. As per business needs, you could be asked to work from an office based office location in the future.\\nIn Doji, we work hard to promote a culture of inclusiveness and diversity that seeks equality and values from different perspectives. We believe in building trust and fairness amongst people and making a positive impact on the environment.\\nShould you require reasonable adjustments throughout the hiring process, please don't hesitate to get in touch with us.\",\n",
       " \"We are looking for qualified Lead Data Scientist, who can independently drive Data Science initiatives and manage the data science team, planning projects and building analytics models.\\n\\nTitle : Lead Data Scientist\\nLocation: Complete Remote work\\nPlease note , We are looking for someone who can travel to Mauritius on the need basis.\\n\\nJob Responsibilities:\\nDefine the Advanced Analytics Roadmap and drive the execution of same to drive business value for the organization.\\nCoach the Analytics team on state-of-the-art advanced analytic, quantitative tools and modeling techniques required to derive business insights, solve complex business problems and improve decisions.\\nPartner with the Analytics Translator lead to facilitate strategic workshops with Business Leaders to identify opportunities for leveraging company data to drive business solutions.\\nSet up the advanced analytics environment that will enable the sustainable execution of the analytics roadmap (including exploring cloud and on-premise solutions such as Hadoop).\\nMake daily prioritization decisions on data sources and environment capabilities accordance the roadmap.\\nOversee the portfolio of analytics projects to ensure alignment and consistency across.\\nDevelop standards and processes for analytics solution development and implementation across all critical functions of the company.\\nOversee processes for extracting, analyzing and interpreting data to ensure that data integrity and accuracy prior to the development of analytical models.\\nCollaborate with software engineers to map, produce, transform and test new data feeds for data owners and end-users\\nInstill a culture of data-informed decision making across the bank by championing broader analytics initiatives across the Bank.\\nOversee the quality and effectiveness of analytics models deployed across the bank.\\nEnsure optimal staffing across analytics use cases and customer journey squads.\\nSet up a community of practice for data practitioners to explore new techniques/ technologies to ensure sustained learning and growth.\\nProvide thought leadership by researching best practices, conducting experiments and staying abreast of latest trends in analytical techniques such as machine learning, deep learning and text analytics to drive continuous innovative.\\nQualifications & Experience:\\nAdvanced degree in Computer Science, Economics, Mathematics)\\n7-10 years experience in analytics of which at least 5 years in a team leadership position\\nDeep rooted knowledge and understanding of analytics tools (e.g. SAS, R, Hadoop) & advanced modeling techniques (e.g. random forests, time series etc.)\\nGood knowledge of data structures and databases (e.g. Teradata), database management softwares (e.g. SQL, Sybase) & workflow integrations with different systems (e.g. CRM, Finacle)\\nPrior experience in model development & maintenance for acquisition, underwriting and collections based use cases is an added plus\\nWhy Join Techolution?\\nBe part of the next most admired high tech brand in the world and launch the next most exciting billion-dollar IPO. We are looking for talent with amazing technical skills with a great foundation for the open role. The type of personality which do very well at our company are people who are looking to contribute a larger than life cause. People who are looking for a very high growth environment where they are helping the company grow and also personally growing through a very unique and world-class exposure.\\nWork-Life at Techolution:\\nAt Techolution, we do things a bit differently. There's no corporate nonsense, and no old-fashioned hierarchy. Instead, we work in dozens of self-sufficient, autonomous teams. Think of them like start-ups within a start-up that learn from each other. You are your own boss! We're going to be upfront, the way we work doesn't suit everyone. But if freedom, autonomy, and life-affirming, head-scratching professional challenges rock your world, we could be a match made in heaven.\\nWhy Join Techolution?\\nBe part of the next most admired high tech brand in the world and launch the next most exciting billion dollar IPO. We are looking for talent with amazing technical skills with a great foundation for the open role. The type of personalities that do very well at our company are people who are looking to contribute to a larger than life cause. People who are looking for a very high growth environment where they are helping the company grow and also personally growing through a very unique and world-class exposure.\\nWork Life at Techolution:\\nAt Techolution, we do things a bit differently. There's no corporate nonsense, and no old-fashioned hierarchy. Instead, we work in dozens of self-sufficient, autonomous teams. Think of them like start-ups within a start-up that learn from each other. You are your own boss! We're going to be upfront the way we work doesn't suit everyone. But if freedom, autonomy, and life-affirming, head-scratching professional challenges rock your world, we could be a match made in heaven.\\n\\nRegards,\\nMadhav\\nMadhav@techolution.com\",\n",
       " '---',\n",
       " 'As a data scientist, you d be working towards developing cutting edge products and solutions that are based on state of the art machine learning algorithms. You will be joining the 247s core R&D team, which is based in Bangalore. The core R&D team works on real-world challenging problems in the NLP and Conversational AI domain.\\nWe need a Data scientist who have experience in building deep learning models for NLP using Tensorflow .\\nSome of the attractive pluses of the job are:\\nThe opportunity to work with a world class team of talented data scientists with strong background in machine learning, and who are extremely passionate about solving real-world applied problems in the web-analytics domain.\\nA real opportunity to expand your skill-sets and a chance to learn and use the latest advances and approaches in machine learning and data mining on real world datasets\\nA big plus is the opportunity to play and work with what are really big-data datasets.\\nWorking in a university like work-environment where you are expected to be self-motivated and are measured on your performance.\\nDetailed Description:\\nIn this role, you will be required to have the following skills:\\nIntermediate to advanced knowledge of machine learning, probability theory, statistics and algorithms. You will be required to discuss and use various algorithms and approaches on a daily basis.\\nStrong programming skills: Since most of the core R&D teams work involves solving problems in the big-data domain, preparing datasets for algorithmic exploration is a significant part of the job. You should have strong programming skills (preferably in python), in order to play around with the raw data, and also for deploying various algorithms\\nStrong analytical skills: We seek individuals who try to look at a problem from various angles, and who have deep analytical skills to understand, grasp and discuss deeply technical and significantly complicated problems, and the solutions that the R&D team is working on.\\nEducational Qualification & Work Experience\\nCandidates from a reputable institution like IITs, IISc, or equivalent\\n2-4 years of work experience in machine learning and data mining domain, where you have been actively involved in industry research.']"
      ]
     },
     "execution_count": 22,
     "metadata": {},
     "output_type": "execute_result"
    }
   ],
   "source": [
    "job_description"
   ]
  },
  {
   "cell_type": "code",
   "execution_count": 23,
   "metadata": {},
   "outputs": [
    {
     "data": {
      "text/html": [
       "<div>\n",
       "<style scoped>\n",
       "    .dataframe tbody tr th:only-of-type {\n",
       "        vertical-align: middle;\n",
       "    }\n",
       "\n",
       "    .dataframe tbody tr th {\n",
       "        vertical-align: top;\n",
       "    }\n",
       "\n",
       "    .dataframe thead th {\n",
       "        text-align: right;\n",
       "    }\n",
       "</style>\n",
       "<table border=\"1\" class=\"dataframe\">\n",
       "  <thead>\n",
       "    <tr style=\"text-align: right;\">\n",
       "      <th></th>\n",
       "      <th>job_title</th>\n",
       "      <th>company_name</th>\n",
       "      <th>job_location</th>\n",
       "      <th>job_description</th>\n",
       "    </tr>\n",
       "  </thead>\n",
       "  <tbody>\n",
       "    <tr>\n",
       "      <th>0</th>\n",
       "      <td>Data Scientist/Data Analyst-immediate</td>\n",
       "      <td>CAIA-Center For Artificial Intelligence &amp; Adva...</td>\n",
       "      <td>Chennai, Pune, Bengaluru, Hyderabad</td>\n",
       "      <td>Dear Candidate\\n\\nSchedule a Telephonic Interv...</td>\n",
       "    </tr>\n",
       "    <tr>\n",
       "      <th>1</th>\n",
       "      <td>HCL hiring Data scientist with exp in machine ...</td>\n",
       "      <td>HCL Technologies Limited</td>\n",
       "      <td>Bengaluru</td>\n",
       "      <td>Dear Candidate,\\n\\nGreetings from HCL!!!\\nWe a...</td>\n",
       "    </tr>\n",
       "    <tr>\n",
       "      <th>2</th>\n",
       "      <td>Data Scientist -Machine Learning</td>\n",
       "      <td>(9599 Reviews)</td>\n",
       "      <td>Bengaluru</td>\n",
       "      <td>---</td>\n",
       "    </tr>\n",
       "    <tr>\n",
       "      <th>3</th>\n",
       "      <td>Data Scientist - Machine Learning</td>\n",
       "      <td>BLUE YONDER INDIA PRIVATE LIMITED</td>\n",
       "      <td>Bengaluru</td>\n",
       "      <td>Roles and Responsibilities\\n\\n\\n- Selecting fe...</td>\n",
       "    </tr>\n",
       "    <tr>\n",
       "      <th>4</th>\n",
       "      <td>Data Scientist</td>\n",
       "      <td>(119 Reviews)</td>\n",
       "      <td>Chennai, Pune, Delhi NCR, Mumbai, Bengaluru, G...</td>\n",
       "      <td>Mailkit is an European Marketing Automation co...</td>\n",
       "    </tr>\n",
       "  </tbody>\n",
       "</table>\n",
       "</div>"
      ],
      "text/plain": [
       "                                           job_title  \\\n",
       "0              Data Scientist/Data Analyst-immediate   \n",
       "1  HCL hiring Data scientist with exp in machine ...   \n",
       "2                   Data Scientist -Machine Learning   \n",
       "3                  Data Scientist - Machine Learning   \n",
       "4                                     Data Scientist   \n",
       "\n",
       "                                        company_name  \\\n",
       "0  CAIA-Center For Artificial Intelligence & Adva...   \n",
       "1                           HCL Technologies Limited   \n",
       "2                                     (9599 Reviews)   \n",
       "3                  BLUE YONDER INDIA PRIVATE LIMITED   \n",
       "4                                      (119 Reviews)   \n",
       "\n",
       "                                        job_location  \\\n",
       "0                Chennai, Pune, Bengaluru, Hyderabad   \n",
       "1                                          Bengaluru   \n",
       "2                                          Bengaluru   \n",
       "3                                          Bengaluru   \n",
       "4  Chennai, Pune, Delhi NCR, Mumbai, Bengaluru, G...   \n",
       "\n",
       "                                     job_description  \n",
       "0  Dear Candidate\\n\\nSchedule a Telephonic Interv...  \n",
       "1  Dear Candidate,\\n\\nGreetings from HCL!!!\\nWe a...  \n",
       "2                                                ---  \n",
       "3  Roles and Responsibilities\\n\\n\\n- Selecting fe...  \n",
       "4  Mailkit is an European Marketing Automation co...  "
      ]
     },
     "execution_count": 23,
     "metadata": {},
     "output_type": "execute_result"
    }
   ],
   "source": [
    " # creating the dataframe from the scraped data and taking only first 10 jobs\n",
    "df=pd.DataFrame({\"job_title\":job_title[0:10],\"company_name\":company_name[0:10],\"job_location\":job_location[0:10],\n",
    "                \"job_description\":job_description[0:10]})\n",
    "df.head()\n",
    "    "
   ]
  },
  {
   "cell_type": "markdown",
   "metadata": {},
   "source": [
    "### 3.“Data Scientist”,“Delhi/NCR”,“3-6” lakhs"
   ]
  },
  {
   "cell_type": "code",
   "execution_count": 24,
   "metadata": {},
   "outputs": [],
   "source": [
    "#specifying the url of the webpage to be scraped by opening driver\n",
    "driver=webdriver.Chrome(r\"C:\\Users\\Hp\\Desktop\\chromedriver.exe\")\n",
    "#specifying the url of the webpage to be scraped by opening driver\n",
    "driver.get(\"https://www.naukri.com/\")\n",
    "# entering “Data Scientist” in “Skill,Designations,Companies” field and enter “Bangalore” in “enter the location” field.\n",
    "\n",
    "search_field_designation=driver.find_element_by_id(\"qsb-keyword-sugg\")\n",
    "search_field_location=driver.find_element_by_id('qsb-location-sugg')\n",
    "search_field_designation.send_keys(\"Data Scientist\")\n",
    "search_field_location.send_keys(\"Delhi/NCR\")\n",
    "\n",
    "# clicking the search button\n",
    "search_button=driver.find_element_by_xpath(\"//div[@class='search-btn']/button\")\n",
    "search_button.click()"
   ]
  },
  {
   "cell_type": "code",
   "execution_count": 25,
   "metadata": {},
   "outputs": [],
   "source": [
    "job_title=[]\n",
    "job_location=[]\n",
    "company_name=[]\n",
    "experience_required=[]"
   ]
  },
  {
   "cell_type": "code",
   "execution_count": 26,
   "metadata": {},
   "outputs": [
    {
     "data": {
      "text/plain": [
       "['Data Scientist', 'Data Scientist - Machine Learning - Remote Working']"
      ]
     },
     "execution_count": 26,
     "metadata": {},
     "output_type": "execute_result"
    }
   ],
   "source": [
    "#scraping the job-titles\n",
    "titles=driver.find_elements_by_xpath(\"//a[@class='title fw500 ellipsis']\")\n",
    "for i in titles:\n",
    "    if i.text is None :\n",
    "        job_title.append(\"--\") \n",
    "    else:\n",
    "        job_title.append(i.text)\n",
    "    \n",
    "job_title[0:2]\n"
   ]
  },
  {
   "cell_type": "code",
   "execution_count": 27,
   "metadata": {},
   "outputs": [],
   "source": [
    "location_tags=driver.find_elements_by_xpath(\"//li[@class='fleft grey-text br2 placeHolderLi location']/span\")"
   ]
  },
  {
   "cell_type": "code",
   "execution_count": 28,
   "metadata": {},
   "outputs": [
    {
     "data": {
      "text/plain": [
       "['Chennai, Pune, Delhi NCR, Mumbai, Bengaluru, Greater Noida, Hyderabad, Gurgaon, Kolkata',\n",
       " 'Delhi NCR, Bengaluru, Anywhere in India',\n",
       " 'Chennai, Pune, Delhi NCR, Mumbai, Bengaluru, Hyderabad',\n",
       " 'Noida',\n",
       " 'Noida',\n",
       " 'Noida',\n",
       " 'Gurgaon',\n",
       " 'Gurgaon Gurugram',\n",
       " 'Delhi NCR, Gurgaon']"
      ]
     },
     "execution_count": 28,
     "metadata": {},
     "output_type": "execute_result"
    }
   ],
   "source": [
    "for i in location_tags:\n",
    "    title=i.text\n",
    "    job_location.append(title)\n",
    "job_location[0:9]"
   ]
  },
  {
   "cell_type": "code",
   "execution_count": 29,
   "metadata": {},
   "outputs": [],
   "source": [
    "exp_tags=driver.find_elements_by_xpath(\"//li[@class='fleft grey-text br2 placeHolderLi experience']/span\")"
   ]
  },
  {
   "cell_type": "code",
   "execution_count": 30,
   "metadata": {},
   "outputs": [
    {
     "data": {
      "text/plain": [
       "['4-9 Yrs',\n",
       " '2-5 Yrs',\n",
       " '9-14 Yrs',\n",
       " '5-8 Yrs',\n",
       " '5-10 Yrs',\n",
       " '5-10 Yrs',\n",
       " '6-11 Yrs',\n",
       " '3-6 Yrs',\n",
       " '1-6 Yrs',\n",
       " '2-4 Yrs']"
      ]
     },
     "execution_count": 30,
     "metadata": {},
     "output_type": "execute_result"
    }
   ],
   "source": [
    "for i in exp_tags:\n",
    "    title=i.text\n",
    "    experience_required.append(title)\n",
    "experience_required[0:10]"
   ]
  },
  {
   "cell_type": "code",
   "execution_count": 31,
   "metadata": {},
   "outputs": [],
   "source": [
    "company_tags=driver.find_elements_by_xpath(\"//div[@class='mt-7 companyInfo subheading lh16']/a[1]\")"
   ]
  },
  {
   "cell_type": "code",
   "execution_count": 32,
   "metadata": {},
   "outputs": [
    {
     "data": {
      "text/plain": [
       "['Mailkit Private Limited',\n",
       " 'Doji Ltd',\n",
       " 'Techolution India Private Limited',\n",
       " 'Jubna',\n",
       " 'tech mahindra ltd',\n",
       " 'tech mahindra ltd',\n",
       " 'Indegene Private Limited',\n",
       " 'TransOrg Analytics',\n",
       " 'Air Asia India Limited']"
      ]
     },
     "execution_count": 32,
     "metadata": {},
     "output_type": "execute_result"
    }
   ],
   "source": [
    "for i in company_tags:\n",
    "    title=i.text\n",
    "    company_name.append(title)\n",
    "company_name[0:9]"
   ]
  },
  {
   "cell_type": "code",
   "execution_count": 33,
   "metadata": {},
   "outputs": [
    {
     "data": {
      "text/html": [
       "<div>\n",
       "<style scoped>\n",
       "    .dataframe tbody tr th:only-of-type {\n",
       "        vertical-align: middle;\n",
       "    }\n",
       "\n",
       "    .dataframe tbody tr th {\n",
       "        vertical-align: top;\n",
       "    }\n",
       "\n",
       "    .dataframe thead th {\n",
       "        text-align: right;\n",
       "    }\n",
       "</style>\n",
       "<table border=\"1\" class=\"dataframe\">\n",
       "  <thead>\n",
       "    <tr style=\"text-align: right;\">\n",
       "      <th></th>\n",
       "      <th>job_title</th>\n",
       "      <th>job_location</th>\n",
       "      <th>company_name</th>\n",
       "      <th>experience_required</th>\n",
       "    </tr>\n",
       "  </thead>\n",
       "  <tbody>\n",
       "    <tr>\n",
       "      <th>0</th>\n",
       "      <td>Data Scientist</td>\n",
       "      <td>Chennai, Pune, Delhi NCR, Mumbai, Bengaluru, G...</td>\n",
       "      <td>Mailkit Private Limited</td>\n",
       "      <td>4-9 Yrs</td>\n",
       "    </tr>\n",
       "    <tr>\n",
       "      <th>1</th>\n",
       "      <td>Data Scientist - Machine Learning - Remote Wor...</td>\n",
       "      <td>Delhi NCR, Bengaluru, Anywhere in India</td>\n",
       "      <td>Doji Ltd</td>\n",
       "      <td>2-5 Yrs</td>\n",
       "    </tr>\n",
       "    <tr>\n",
       "      <th>2</th>\n",
       "      <td>Lead Data Scientist - Complete Remote Work</td>\n",
       "      <td>Chennai, Pune, Delhi NCR, Mumbai, Bengaluru, H...</td>\n",
       "      <td>Techolution India Private Limited</td>\n",
       "      <td>9-14 Yrs</td>\n",
       "    </tr>\n",
       "    <tr>\n",
       "      <th>3</th>\n",
       "      <td>Data Scientist - Python/Machine Learning</td>\n",
       "      <td>Noida</td>\n",
       "      <td>Jubna</td>\n",
       "      <td>5-8 Yrs</td>\n",
       "    </tr>\n",
       "    <tr>\n",
       "      <th>4</th>\n",
       "      <td>Tech Mahindra is Hiring For Data Scientist- Noida</td>\n",
       "      <td>Noida</td>\n",
       "      <td>tech mahindra ltd</td>\n",
       "      <td>5-10 Yrs</td>\n",
       "    </tr>\n",
       "    <tr>\n",
       "      <th>5</th>\n",
       "      <td>Tech Mahindra hiring For Data Scientist- Noida</td>\n",
       "      <td>Noida</td>\n",
       "      <td>tech mahindra ltd</td>\n",
       "      <td>5-10 Yrs</td>\n",
       "    </tr>\n",
       "    <tr>\n",
       "      <th>6</th>\n",
       "      <td>Associate Data Scientist</td>\n",
       "      <td>Gurgaon</td>\n",
       "      <td>Indegene Private Limited</td>\n",
       "      <td>6-11 Yrs</td>\n",
       "    </tr>\n",
       "    <tr>\n",
       "      <th>7</th>\n",
       "      <td>Data Scientist</td>\n",
       "      <td>Gurgaon Gurugram</td>\n",
       "      <td>TransOrg Analytics</td>\n",
       "      <td>3-6 Yrs</td>\n",
       "    </tr>\n",
       "    <tr>\n",
       "      <th>8</th>\n",
       "      <td>Data Scientist - Commercial Planning and Analysis</td>\n",
       "      <td>Delhi NCR, Gurgaon</td>\n",
       "      <td>Air Asia India Limited</td>\n",
       "      <td>1-6 Yrs</td>\n",
       "    </tr>\n",
       "    <tr>\n",
       "      <th>9</th>\n",
       "      <td>Analyst/Senior Analyst - DATA Scientist</td>\n",
       "      <td>Chennai, Delhi NCR, Bengaluru</td>\n",
       "      <td>Tredence</td>\n",
       "      <td>2-4 Yrs</td>\n",
       "    </tr>\n",
       "  </tbody>\n",
       "</table>\n",
       "</div>"
      ],
      "text/plain": [
       "                                           job_title  \\\n",
       "0                                     Data Scientist   \n",
       "1  Data Scientist - Machine Learning - Remote Wor...   \n",
       "2         Lead Data Scientist - Complete Remote Work   \n",
       "3           Data Scientist - Python/Machine Learning   \n",
       "4  Tech Mahindra is Hiring For Data Scientist- Noida   \n",
       "5     Tech Mahindra hiring For Data Scientist- Noida   \n",
       "6                           Associate Data Scientist   \n",
       "7                                     Data Scientist   \n",
       "8  Data Scientist - Commercial Planning and Analysis   \n",
       "9            Analyst/Senior Analyst - DATA Scientist   \n",
       "\n",
       "                                        job_location  \\\n",
       "0  Chennai, Pune, Delhi NCR, Mumbai, Bengaluru, G...   \n",
       "1            Delhi NCR, Bengaluru, Anywhere in India   \n",
       "2  Chennai, Pune, Delhi NCR, Mumbai, Bengaluru, H...   \n",
       "3                                              Noida   \n",
       "4                                              Noida   \n",
       "5                                              Noida   \n",
       "6                                            Gurgaon   \n",
       "7                                   Gurgaon Gurugram   \n",
       "8                                 Delhi NCR, Gurgaon   \n",
       "9                      Chennai, Delhi NCR, Bengaluru   \n",
       "\n",
       "                        company_name experience_required  \n",
       "0            Mailkit Private Limited             4-9 Yrs  \n",
       "1                           Doji Ltd             2-5 Yrs  \n",
       "2  Techolution India Private Limited            9-14 Yrs  \n",
       "3                              Jubna             5-8 Yrs  \n",
       "4                  tech mahindra ltd            5-10 Yrs  \n",
       "5                  tech mahindra ltd            5-10 Yrs  \n",
       "6           Indegene Private Limited            6-11 Yrs  \n",
       "7                 TransOrg Analytics             3-6 Yrs  \n",
       "8             Air Asia India Limited             1-6 Yrs  \n",
       "9                           Tredence             2-4 Yrs  "
      ]
     },
     "execution_count": 33,
     "metadata": {},
     "output_type": "execute_result"
    }
   ],
   "source": [
    "jobs_description=pd.DataFrame({})\n",
    "jobs_description['job_title']=job_title[0:10]\n",
    "jobs_description['job_location']=job_location[0:10]\n",
    "jobs_description['company_name']=company_name[0:10]\n",
    "jobs_description['experience_required']=experience_required[0:10]\n",
    "jobs_description"
   ]
  },
  {
   "cell_type": "markdown",
   "metadata": {},
   "source": [
    "### 4.web scraping from https://www.glassdoor.co.in/index.htm"
   ]
  },
  {
   "cell_type": "code",
   "execution_count": 41,
   "metadata": {},
   "outputs": [],
   "source": [
    "#specifying the url of the webpage to be scraped by opening driver\n",
    "driver.get(\"https://www.glassdoor.co.in/Job/noida-data-scientist-jobs-SRCH_IL.0,5_IC4477468_KO6,20.htm\")"
   ]
  },
  {
   "cell_type": "markdown",
   "metadata": {},
   "source": [
    "from selenium.common.exceptions import StaleElementReferenceException, NoSuchElementException\n",
    "\n",
    "search_field_designation=driver.find_element_by_id('sc.keyword') search_field_location=driver.find_element_by_id('sc.location') search_field_designation.send_keys(\"Data Scientist\") search_field_location.send_keys(\"Noida\") search_button=driver.find_element_by_xpath(\"//button[@class='gd-ui-button ml-std col-auto SearchStyles__newSearchButton css-iixdfr']/span\") search_button.click()\n",
    "\n",
    "company_name=[]"
   ]
  },
  {
   "cell_type": "code",
   "execution_count": 42,
   "metadata": {},
   "outputs": [],
   "source": [
    "company_name=[]\n",
    "days_ago=[]\n",
    "rating=[]\n"
   ]
  },
  {
   "cell_type": "code",
   "execution_count": 43,
   "metadata": {},
   "outputs": [],
   "source": [
    "company_tags=driver.find_elements_by_xpath(\"//div[@class='jobHeader d-flex justify-content-between align-items-start']/a/span\")"
   ]
  },
  {
   "cell_type": "code",
   "execution_count": 44,
   "metadata": {},
   "outputs": [
    {
     "data": {
      "text/plain": [
       "['UnitedHealth Group',\n",
       " 'Genpact',\n",
       " 'Builder.ai - What would you Build?',\n",
       " 'Techlive']"
      ]
     },
     "execution_count": 44,
     "metadata": {},
     "output_type": "execute_result"
    }
   ],
   "source": [
    "for i in company_tags:\n",
    "    title=i.text\n",
    "    company_name.append(title)\n",
    "company_name[0:4]"
   ]
  },
  {
   "cell_type": "code",
   "execution_count": 45,
   "metadata": {},
   "outputs": [],
   "source": [
    "days_tags=driver.find_elements_by_xpath(\"//div[@class='d-flex align-items-end pl-std css-mi55ob']\")"
   ]
  },
  {
   "cell_type": "code",
   "execution_count": 46,
   "metadata": {},
   "outputs": [
    {
     "data": {
      "text/plain": [
       "['2d', '10d', '25d', '16d']"
      ]
     },
     "execution_count": 46,
     "metadata": {},
     "output_type": "execute_result"
    }
   ],
   "source": [
    "days=[]\n",
    "for i in days_tags:\n",
    "    title=i.text\n",
    "    days.append(title)\n",
    "days[0:4]"
   ]
  },
  {
   "cell_type": "code",
   "execution_count": 47,
   "metadata": {},
   "outputs": [],
   "source": [
    "rating_tags=driver.find_elements_by_xpath(\"//div[@class='d-flex flex-column css-fbt9gv e1rrn5ka2']/span\")"
   ]
  },
  {
   "cell_type": "code",
   "execution_count": 48,
   "metadata": {},
   "outputs": [
    {
     "data": {
      "text/plain": [
       "['3.5', '3.8', '3.6', '5']"
      ]
     },
     "execution_count": 48,
     "metadata": {},
     "output_type": "execute_result"
    }
   ],
   "source": [
    "for i in rating_tags:\n",
    "    title=i.text\n",
    "    rating.append(title)\n",
    "rating[0:4]"
   ]
  },
  {
   "cell_type": "code",
   "execution_count": 49,
   "metadata": {},
   "outputs": [
    {
     "data": {
      "text/html": [
       "<div>\n",
       "<style scoped>\n",
       "    .dataframe tbody tr th:only-of-type {\n",
       "        vertical-align: middle;\n",
       "    }\n",
       "\n",
       "    .dataframe tbody tr th {\n",
       "        vertical-align: top;\n",
       "    }\n",
       "\n",
       "    .dataframe thead th {\n",
       "        text-align: right;\n",
       "    }\n",
       "</style>\n",
       "<table border=\"1\" class=\"dataframe\">\n",
       "  <thead>\n",
       "    <tr style=\"text-align: right;\">\n",
       "      <th></th>\n",
       "      <th>company_name</th>\n",
       "      <th>days_ago</th>\n",
       "      <th>rating</th>\n",
       "    </tr>\n",
       "  </thead>\n",
       "  <tbody>\n",
       "    <tr>\n",
       "      <th>0</th>\n",
       "      <td>UnitedHealth Group</td>\n",
       "      <td>2d</td>\n",
       "      <td>3.5</td>\n",
       "    </tr>\n",
       "    <tr>\n",
       "      <th>1</th>\n",
       "      <td>Genpact</td>\n",
       "      <td>10d</td>\n",
       "      <td>3.8</td>\n",
       "    </tr>\n",
       "    <tr>\n",
       "      <th>2</th>\n",
       "      <td>Builder.ai - What would you Build?</td>\n",
       "      <td>25d</td>\n",
       "      <td>3.6</td>\n",
       "    </tr>\n",
       "    <tr>\n",
       "      <th>3</th>\n",
       "      <td>Techlive</td>\n",
       "      <td>16d</td>\n",
       "      <td>5</td>\n",
       "    </tr>\n",
       "    <tr>\n",
       "      <th>4</th>\n",
       "      <td>Sentieo</td>\n",
       "      <td>17d</td>\n",
       "      <td>4.1</td>\n",
       "    </tr>\n",
       "    <tr>\n",
       "      <th>5</th>\n",
       "      <td>Brickred</td>\n",
       "      <td>1d</td>\n",
       "      <td>3.7</td>\n",
       "    </tr>\n",
       "    <tr>\n",
       "      <th>6</th>\n",
       "      <td>Mahajan Imaging</td>\n",
       "      <td>10d</td>\n",
       "      <td>4</td>\n",
       "    </tr>\n",
       "    <tr>\n",
       "      <th>7</th>\n",
       "      <td>abc consultants</td>\n",
       "      <td>10d</td>\n",
       "      <td>4.2</td>\n",
       "    </tr>\n",
       "    <tr>\n",
       "      <th>8</th>\n",
       "      <td>Terra Economics &amp; Analytics Lab (TEAL)</td>\n",
       "      <td>11d</td>\n",
       "      <td>4.9</td>\n",
       "    </tr>\n",
       "    <tr>\n",
       "      <th>9</th>\n",
       "      <td>XCEEDANCE</td>\n",
       "      <td>18d</td>\n",
       "      <td>3.4</td>\n",
       "    </tr>\n",
       "  </tbody>\n",
       "</table>\n",
       "</div>"
      ],
      "text/plain": [
       "                             company_name days_ago rating\n",
       "0                      UnitedHealth Group       2d    3.5\n",
       "1                                 Genpact      10d    3.8\n",
       "2      Builder.ai - What would you Build?      25d    3.6\n",
       "3                                Techlive      16d      5\n",
       "4                                 Sentieo      17d    4.1\n",
       "5                                Brickred       1d    3.7\n",
       "6                         Mahajan Imaging      10d      4\n",
       "7                         abc consultants      10d    4.2\n",
       "8  Terra Economics & Analytics Lab (TEAL)      11d    4.9\n",
       "9                               XCEEDANCE      18d    3.4"
      ]
     },
     "execution_count": 49,
     "metadata": {},
     "output_type": "execute_result"
    }
   ],
   "source": [
    "jobs_description=pd.DataFrame({})\n",
    "jobs_description['company_name']=company_name[0:10]\n",
    "jobs_description['days_ago']=days[0:10]\n",
    "jobs_description['rating']=rating[0:10]\n",
    "jobs_description"
   ]
  },
  {
   "cell_type": "markdown",
   "metadata": {},
   "source": [
    "### 5.Data Scientist designation in Noida location from glassdoor\n"
   ]
  },
  {
   "cell_type": "code",
   "execution_count": 50,
   "metadata": {},
   "outputs": [],
   "source": [
    "#specifying the url of the webpage to be scraped by opening driver\n",
    "driver.get(\"https://www.glassdoor.co.in/Salaries/new-delhi-data-scientist-salary-SRCH_IL.0,9_IM1083_KO10,24.htm?clickSource=searchBtn\")"
   ]
  },
  {
   "cell_type": "code",
   "execution_count": 51,
   "metadata": {},
   "outputs": [],
   "source": [
    "company_name=[]\n",
    "salaries=[]\n",
    "avg_salary=[]\n",
    "min_salary=[]\n",
    "max_salary=[]"
   ]
  },
  {
   "cell_type": "code",
   "execution_count": 52,
   "metadata": {},
   "outputs": [],
   "source": [
    "company_tags=driver.find_elements_by_xpath(\"//div[@class='d-flex']/div[2]/p[2]\")"
   ]
  },
  {
   "cell_type": "code",
   "execution_count": 53,
   "metadata": {},
   "outputs": [
    {
     "data": {
      "text/plain": [
       "['Delhivery', 'Ericsson-Worldwide', 'Accenture', 'Tata Consultancy Services']"
      ]
     },
     "execution_count": 53,
     "metadata": {},
     "output_type": "execute_result"
    }
   ],
   "source": [
    "for i in company_tags:\n",
    "    title=i.text\n",
    "    company_name.append(title)\n",
    "company_name[0:4]"
   ]
  },
  {
   "cell_type": "code",
   "execution_count": 54,
   "metadata": {},
   "outputs": [],
   "source": [
    "sal_tags=driver.find_elements_by_xpath(\"//div[@class='d-flex']/div[2]/p[5]\")"
   ]
  },
  {
   "cell_type": "code",
   "execution_count": 55,
   "metadata": {},
   "outputs": [
    {
     "data": {
      "text/plain": [
       "['13 salaries', '11 salaries', '10 salaries', '9 salaries']"
      ]
     },
     "execution_count": 55,
     "metadata": {},
     "output_type": "execute_result"
    }
   ],
   "source": [
    "salarie=[]\n",
    "for i in sal_tags:\n",
    "    title=i.text\n",
    "    salarie.append(title)\n",
    "salarie[0:4]"
   ]
  },
  {
   "cell_type": "code",
   "execution_count": 56,
   "metadata": {},
   "outputs": [],
   "source": [
    "sal_tags=driver.find_elements_by_xpath(\"//div[@class='col-2 d-none d-md-flex flex-row justify-content-end']\")"
   ]
  },
  {
   "cell_type": "code",
   "execution_count": 57,
   "metadata": {},
   "outputs": [
    {
     "data": {
      "text/plain": [
       "['₹ 12,81,419/yr', '₹ 7,52,052/yr', '₹ 9,98,925/yr', '₹ 6,02,000/yr']"
      ]
     },
     "execution_count": 57,
     "metadata": {},
     "output_type": "execute_result"
    }
   ],
   "source": [
    "for i in sal_tags:\n",
    "    title=i.text.replace(\"\\n\",\"\")\n",
    "    avg_salary.append(title)\n",
    "avg_salary[0:4]"
   ]
  },
  {
   "cell_type": "markdown",
   "metadata": {},
   "source": [
    "min_tags=driver.find_elements_by_xpath(\"//div[@class='adSlot adSlot__GamAdSlotStyle__adSlot  module']/div[8]/span[1]\")\n",
    "min_tags[0:3]"
   ]
  },
  {
   "cell_type": "markdown",
   "metadata": {},
   "source": [
    "//*[@id=\"SalariesByCompany\"]/div[1]/div[4]/div/div[3]/div/div[2]/span[1]"
   ]
  },
  {
   "cell_type": "code",
   "execution_count": 58,
   "metadata": {},
   "outputs": [
    {
     "data": {
      "text/html": [
       "<div>\n",
       "<style scoped>\n",
       "    .dataframe tbody tr th:only-of-type {\n",
       "        vertical-align: middle;\n",
       "    }\n",
       "\n",
       "    .dataframe tbody tr th {\n",
       "        vertical-align: top;\n",
       "    }\n",
       "\n",
       "    .dataframe thead th {\n",
       "        text-align: right;\n",
       "    }\n",
       "</style>\n",
       "<table border=\"1\" class=\"dataframe\">\n",
       "  <thead>\n",
       "    <tr style=\"text-align: right;\">\n",
       "      <th></th>\n",
       "      <th>company_name</th>\n",
       "      <th>salaries</th>\n",
       "      <th>average_salary</th>\n",
       "    </tr>\n",
       "  </thead>\n",
       "  <tbody>\n",
       "    <tr>\n",
       "      <th>0</th>\n",
       "      <td>Delhivery</td>\n",
       "      <td>13 salaries</td>\n",
       "      <td>₹ 12,81,419/yr</td>\n",
       "    </tr>\n",
       "    <tr>\n",
       "      <th>1</th>\n",
       "      <td>Ericsson-Worldwide</td>\n",
       "      <td>11 salaries</td>\n",
       "      <td>₹ 7,52,052/yr</td>\n",
       "    </tr>\n",
       "    <tr>\n",
       "      <th>2</th>\n",
       "      <td>Accenture</td>\n",
       "      <td>10 salaries</td>\n",
       "      <td>₹ 9,98,925/yr</td>\n",
       "    </tr>\n",
       "    <tr>\n",
       "      <th>3</th>\n",
       "      <td>Tata Consultancy Services</td>\n",
       "      <td>9 salaries</td>\n",
       "      <td>₹ 6,02,000/yr</td>\n",
       "    </tr>\n",
       "    <tr>\n",
       "      <th>4</th>\n",
       "      <td>IBM</td>\n",
       "      <td>9 salaries</td>\n",
       "      <td>₹ 7,71,657/yr</td>\n",
       "    </tr>\n",
       "    <tr>\n",
       "      <th>5</th>\n",
       "      <td>UnitedHealth Group</td>\n",
       "      <td>8 salaries</td>\n",
       "      <td>₹ 12,22,902/yr</td>\n",
       "    </tr>\n",
       "    <tr>\n",
       "      <th>6</th>\n",
       "      <td>Valiance Solutions</td>\n",
       "      <td>8 salaries</td>\n",
       "      <td>₹ 7,91,015/yr</td>\n",
       "    </tr>\n",
       "    <tr>\n",
       "      <th>7</th>\n",
       "      <td>Innovaccer</td>\n",
       "      <td>7 salaries</td>\n",
       "      <td>₹ 12,15,138/yr</td>\n",
       "    </tr>\n",
       "    <tr>\n",
       "      <th>8</th>\n",
       "      <td>Cognizant Technology Solutions</td>\n",
       "      <td>6 salaries</td>\n",
       "      <td>₹ 10,21,889/yr</td>\n",
       "    </tr>\n",
       "    <tr>\n",
       "      <th>9</th>\n",
       "      <td>ZS Associates</td>\n",
       "      <td>5 salaries</td>\n",
       "      <td>₹ 10,00,000/yr</td>\n",
       "    </tr>\n",
       "  </tbody>\n",
       "</table>\n",
       "</div>"
      ],
      "text/plain": [
       "                     company_name     salaries  average_salary\n",
       "0                       Delhivery  13 salaries  ₹ 12,81,419/yr\n",
       "1              Ericsson-Worldwide  11 salaries   ₹ 7,52,052/yr\n",
       "2                       Accenture  10 salaries   ₹ 9,98,925/yr\n",
       "3       Tata Consultancy Services   9 salaries   ₹ 6,02,000/yr\n",
       "4                             IBM   9 salaries   ₹ 7,71,657/yr\n",
       "5              UnitedHealth Group   8 salaries  ₹ 12,22,902/yr\n",
       "6              Valiance Solutions   8 salaries   ₹ 7,91,015/yr\n",
       "7                      Innovaccer   7 salaries  ₹ 12,15,138/yr\n",
       "8  Cognizant Technology Solutions   6 salaries  ₹ 10,21,889/yr\n",
       "9                   ZS Associates   5 salaries  ₹ 10,00,000/yr"
      ]
     },
     "execution_count": 58,
     "metadata": {},
     "output_type": "execute_result"
    }
   ],
   "source": [
    "salary=pd.DataFrame({})\n",
    "salary['company_name']=company_name[0:10]\n",
    "salary['salaries']=salarie[0:10]\n",
    "salary['average_salary']=avg_salary[0:10]\n",
    "salary"
   ]
  },
  {
   "cell_type": "markdown",
   "metadata": {},
   "source": [
    "### 6.To Scrape data of first 100 sunglasses listings on flipkart.com"
   ]
  },
  {
   "cell_type": "code",
   "execution_count": 59,
   "metadata": {},
   "outputs": [],
   "source": [
    "#specifying the url of the webpage to be scraped by opening driver\n",
    "driver.get(\"https://www.flipkart.com/search?q=sunglasses&otracker=search&otracker1=search&marketplace=FLIPKART&as-show=on&as=off\")"
   ]
  },
  {
   "cell_type": "code",
   "execution_count": 60,
   "metadata": {},
   "outputs": [],
   "source": [
    "brands=[]\n",
    "product_descr=[]\n",
    "prices=[]\n",
    "discount_=[]\n"
   ]
  },
  {
   "cell_type": "code",
   "execution_count": 61,
   "metadata": {},
   "outputs": [],
   "source": [
    "for i in range(0,3):\n",
    "    for i in driver.find_elements_by_xpath(\"//div[@class='_2B099V']/div[1]\"):\n",
    "        brands.append(i.text)\n",
    "    for j in driver.find_elements_by_xpath(\"//div[@class='_2B099V']/a\"):\n",
    "        product_descr.append(j.text)\n",
    "    for k in driver.find_elements_by_xpath(\"//div[@class='_25b18c']/div[1]\"):\n",
    "        prices.append(k.text)\n",
    "    for l in driver.find_elements_by_xpath(\"//div[@class='_25b18c']/div[3]/span\"):\n",
    "        discount_.append(l.text)\n",
    "    driver.find_element_by_xpath(\"//a[@class='_1LKTO3']/span\").click()\n",
    "    time.sleep(3)\n"
   ]
  },
  {
   "cell_type": "code",
   "execution_count": 62,
   "metadata": {},
   "outputs": [
    {
     "data": {
      "text/plain": [
       "['Royal Son', 'ROZZETTA CRAFT', 'FDA COLLECTION']"
      ]
     },
     "execution_count": 62,
     "metadata": {},
     "output_type": "execute_result"
    }
   ],
   "source": [
    "brands[0:3]"
   ]
  },
  {
   "cell_type": "code",
   "execution_count": 63,
   "metadata": {},
   "outputs": [
    {
     "data": {
      "text/plain": [
       "['Polarized, Mirrored Round Sunglasses (49)',\n",
       " '₹615₹1,99969% off',\n",
       " 'Polarized, Gradient, UV Protection Round Sunglasses (Fr...']"
      ]
     },
     "execution_count": 63,
     "metadata": {},
     "output_type": "execute_result"
    }
   ],
   "source": [
    "product_descr[0:3]"
   ]
  },
  {
   "cell_type": "code",
   "execution_count": 64,
   "metadata": {},
   "outputs": [],
   "source": [
    "product_description=product_descr[::2]"
   ]
  },
  {
   "cell_type": "code",
   "execution_count": 65,
   "metadata": {},
   "outputs": [
    {
     "data": {
      "text/plain": [
       "['₹615', '₹426', '₹199']"
      ]
     },
     "execution_count": 65,
     "metadata": {},
     "output_type": "execute_result"
    }
   ],
   "source": [
    "prices[0:3]"
   ]
  },
  {
   "cell_type": "code",
   "execution_count": 66,
   "metadata": {},
   "outputs": [
    {
     "data": {
      "text/plain": [
       "['69% off', '78% off', '84% off']"
      ]
     },
     "execution_count": 66,
     "metadata": {},
     "output_type": "execute_result"
    }
   ],
   "source": [
    "discount_[0:3]"
   ]
  },
  {
   "cell_type": "code",
   "execution_count": 67,
   "metadata": {},
   "outputs": [],
   "source": [
    "glasses=pd.DataFrame({})\n",
    "glasses['Brand']=brands[0:100]\n",
    "glasses['Product_description']=product_description[0:100]\n",
    "glasses['Price']=prices[0:100]\n",
    "glasses['Discount']=discount_[0:100]"
   ]
  },
  {
   "cell_type": "code",
   "execution_count": 68,
   "metadata": {},
   "outputs": [
    {
     "data": {
      "text/html": [
       "<div>\n",
       "<style scoped>\n",
       "    .dataframe tbody tr th:only-of-type {\n",
       "        vertical-align: middle;\n",
       "    }\n",
       "\n",
       "    .dataframe tbody tr th {\n",
       "        vertical-align: top;\n",
       "    }\n",
       "\n",
       "    .dataframe thead th {\n",
       "        text-align: right;\n",
       "    }\n",
       "</style>\n",
       "<table border=\"1\" class=\"dataframe\">\n",
       "  <thead>\n",
       "    <tr style=\"text-align: right;\">\n",
       "      <th></th>\n",
       "      <th>Brand</th>\n",
       "      <th>Product_description</th>\n",
       "      <th>Price</th>\n",
       "      <th>Discount</th>\n",
       "    </tr>\n",
       "  </thead>\n",
       "  <tbody>\n",
       "    <tr>\n",
       "      <th>0</th>\n",
       "      <td>Royal Son</td>\n",
       "      <td>Polarized, Mirrored Round Sunglasses (49)</td>\n",
       "      <td>₹615</td>\n",
       "      <td>69% off</td>\n",
       "    </tr>\n",
       "    <tr>\n",
       "      <th>1</th>\n",
       "      <td>ROZZETTA CRAFT</td>\n",
       "      <td>Polarized, Gradient, UV Protection Round Sungl...</td>\n",
       "      <td>₹426</td>\n",
       "      <td>78% off</td>\n",
       "    </tr>\n",
       "    <tr>\n",
       "      <th>2</th>\n",
       "      <td>FDA COLLECTION</td>\n",
       "      <td>Gradient, Mirrored, UV Protection Round, Round...</td>\n",
       "      <td>₹199</td>\n",
       "      <td>84% off</td>\n",
       "    </tr>\n",
       "    <tr>\n",
       "      <th>3</th>\n",
       "      <td>shah collections</td>\n",
       "      <td>UV Protection, Polarized, Mirrored Rectangular...</td>\n",
       "      <td>₹219</td>\n",
       "      <td>78% off</td>\n",
       "    </tr>\n",
       "    <tr>\n",
       "      <th>4</th>\n",
       "      <td>Phenomenal</td>\n",
       "      <td>UV Protection, Mirrored Retro Square Sunglasse...</td>\n",
       "      <td>₹399</td>\n",
       "      <td>80% off</td>\n",
       "    </tr>\n",
       "    <tr>\n",
       "      <th>...</th>\n",
       "      <td>...</td>\n",
       "      <td>...</td>\n",
       "      <td>...</td>\n",
       "      <td>...</td>\n",
       "    </tr>\n",
       "    <tr>\n",
       "      <th>95</th>\n",
       "      <td>FDA COLLECTION</td>\n",
       "      <td>Gradient, Mirrored, UV Protection Round, Round...</td>\n",
       "      <td>₹559</td>\n",
       "      <td>87% off</td>\n",
       "    </tr>\n",
       "    <tr>\n",
       "      <th>96</th>\n",
       "      <td>ROZZETTA CRAFT</td>\n",
       "      <td>UV Protection Retro Square Sunglasses (Free Size)</td>\n",
       "      <td>₹244</td>\n",
       "      <td>79% off</td>\n",
       "    </tr>\n",
       "    <tr>\n",
       "      <th>97</th>\n",
       "      <td>kingsunglasses</td>\n",
       "      <td>Mirrored, UV Protection Wayfarer, Wayfarer, Wa...</td>\n",
       "      <td>₹181</td>\n",
       "      <td>81% off</td>\n",
       "    </tr>\n",
       "    <tr>\n",
       "      <th>98</th>\n",
       "      <td>funglasses</td>\n",
       "      <td>UV Protection, Night Vision, Riding Glasses Ro...</td>\n",
       "      <td>₹331</td>\n",
       "      <td>83% off</td>\n",
       "    </tr>\n",
       "    <tr>\n",
       "      <th>99</th>\n",
       "      <td>Flizz</td>\n",
       "      <td>UV Protection, Polarized Rectangular Sunglasse...</td>\n",
       "      <td>₹179</td>\n",
       "      <td>81% off</td>\n",
       "    </tr>\n",
       "  </tbody>\n",
       "</table>\n",
       "<p>100 rows × 4 columns</p>\n",
       "</div>"
      ],
      "text/plain": [
       "               Brand                                Product_description Price  \\\n",
       "0          Royal Son          Polarized, Mirrored Round Sunglasses (49)  ₹615   \n",
       "1     ROZZETTA CRAFT  Polarized, Gradient, UV Protection Round Sungl...  ₹426   \n",
       "2     FDA COLLECTION  Gradient, Mirrored, UV Protection Round, Round...  ₹199   \n",
       "3   shah collections  UV Protection, Polarized, Mirrored Rectangular...  ₹219   \n",
       "4         Phenomenal  UV Protection, Mirrored Retro Square Sunglasse...  ₹399   \n",
       "..               ...                                                ...   ...   \n",
       "95    FDA COLLECTION  Gradient, Mirrored, UV Protection Round, Round...  ₹559   \n",
       "96    ROZZETTA CRAFT  UV Protection Retro Square Sunglasses (Free Size)  ₹244   \n",
       "97    kingsunglasses  Mirrored, UV Protection Wayfarer, Wayfarer, Wa...  ₹181   \n",
       "98        funglasses  UV Protection, Night Vision, Riding Glasses Ro...  ₹331   \n",
       "99             Flizz  UV Protection, Polarized Rectangular Sunglasse...  ₹179   \n",
       "\n",
       "   Discount  \n",
       "0   69% off  \n",
       "1   78% off  \n",
       "2   84% off  \n",
       "3   78% off  \n",
       "4   80% off  \n",
       "..      ...  \n",
       "95  87% off  \n",
       "96  79% off  \n",
       "97  81% off  \n",
       "98  83% off  \n",
       "99  81% off  \n",
       "\n",
       "[100 rows x 4 columns]"
      ]
     },
     "execution_count": 68,
     "metadata": {},
     "output_type": "execute_result"
    }
   ],
   "source": [
    "glasses"
   ]
  },
  {
   "cell_type": "markdown",
   "metadata": {},
   "source": [
    "### 7.Scrape 100 reviews data from flipkart.com for iphone11 phone"
   ]
  },
  {
   "cell_type": "code",
   "execution_count": 69,
   "metadata": {},
   "outputs": [],
   "source": [
    "#specifying the url of the webpage to be scraped by opening driver\n",
    "driver.get(\"https://www.flipkart.com/apple-iphone-11-black-64-gb-includes-earpods-power-adapter/product-reviews/itm0f37c2240b217?pid=MOBFKCTSVZAXUHGR&lid=LSTMOBFKCTSVZAXUHGR3QP11A&marketplace=FLIPKART\")"
   ]
  },
  {
   "cell_type": "code",
   "execution_count": 70,
   "metadata": {},
   "outputs": [],
   "source": [
    "ratingss=[]\n",
    "review_summariess=[]\n",
    "full_reviewss=[]"
   ]
  },
  {
   "cell_type": "code",
   "execution_count": 72,
   "metadata": {},
   "outputs": [],
   "source": [
    "for l in range(0,13):\n",
    "    for i in driver.find_elements_by_xpath(\"//div[@class='_3LWZlK _1BLPMq']\"):\n",
    "        ratingss.append(i.text)\n",
    "    for j in driver.find_elements_by_xpath(\"//p[@class='_2-N8zT']\"):\n",
    "        review_summariess.append(j.text)\n",
    "    for k in driver.find_elements_by_xpath(\"//div[@class='t-ZTKy']/div/div[1]\"):\n",
    "        full_reviewss.append(k.text)\n",
    "    driver.find_element_by_xpath(\"//a[@class='_1LKTO3']/span\").click()\n",
    "    time.sleep(3)\n"
   ]
  },
  {
   "cell_type": "code",
   "execution_count": 73,
   "metadata": {},
   "outputs": [
    {
     "data": {
      "text/html": [
       "<div>\n",
       "<style scoped>\n",
       "    .dataframe tbody tr th:only-of-type {\n",
       "        vertical-align: middle;\n",
       "    }\n",
       "\n",
       "    .dataframe tbody tr th {\n",
       "        vertical-align: top;\n",
       "    }\n",
       "\n",
       "    .dataframe thead th {\n",
       "        text-align: right;\n",
       "    }\n",
       "</style>\n",
       "<table border=\"1\" class=\"dataframe\">\n",
       "  <thead>\n",
       "    <tr style=\"text-align: right;\">\n",
       "      <th></th>\n",
       "      <th>rating</th>\n",
       "      <th>review_summary</th>\n",
       "      <th>full_summary</th>\n",
       "    </tr>\n",
       "  </thead>\n",
       "  <tbody>\n",
       "    <tr>\n",
       "      <th>0</th>\n",
       "      <td>5</td>\n",
       "      <td>Perfect product!</td>\n",
       "      <td>Amazing phone with great cameras and better ba...</td>\n",
       "    </tr>\n",
       "    <tr>\n",
       "      <th>1</th>\n",
       "      <td>5</td>\n",
       "      <td>Great product</td>\n",
       "      <td>Amazing Powerful and Durable Gadget.\\n\\nI’m am...</td>\n",
       "    </tr>\n",
       "    <tr>\n",
       "      <th>2</th>\n",
       "      <td>5</td>\n",
       "      <td>Highly recommended</td>\n",
       "      <td>iphone 11 is a very good phone to buy only if ...</td>\n",
       "    </tr>\n",
       "    <tr>\n",
       "      <th>3</th>\n",
       "      <td>5</td>\n",
       "      <td>Perfect product!</td>\n",
       "      <td>It’s a must buy who is looking for an upgrade ...</td>\n",
       "    </tr>\n",
       "    <tr>\n",
       "      <th>4</th>\n",
       "      <td>5</td>\n",
       "      <td>Perfect product!</td>\n",
       "      <td>Value for money❤️❤️\\nIts awesome mobile phone ...</td>\n",
       "    </tr>\n",
       "    <tr>\n",
       "      <th>...</th>\n",
       "      <td>...</td>\n",
       "      <td>...</td>\n",
       "      <td>...</td>\n",
       "    </tr>\n",
       "    <tr>\n",
       "      <th>95</th>\n",
       "      <td>5</td>\n",
       "      <td>Highly recommended</td>\n",
       "      <td>It's my first time to use iOS phone and I am l...</td>\n",
       "    </tr>\n",
       "    <tr>\n",
       "      <th>96</th>\n",
       "      <td>5</td>\n",
       "      <td>Terrific purchase</td>\n",
       "      <td>The built quality is not very premium.\\nThe ba...</td>\n",
       "    </tr>\n",
       "    <tr>\n",
       "      <th>97</th>\n",
       "      <td>5</td>\n",
       "      <td>Mind-blowing purchase</td>\n",
       "      <td>First thanks to Flipkart for this amazing deal...</td>\n",
       "    </tr>\n",
       "    <tr>\n",
       "      <th>98</th>\n",
       "      <td>5</td>\n",
       "      <td>Simply awesome</td>\n",
       "      <td>Excellent camera, good performance, no lag. Th...</td>\n",
       "    </tr>\n",
       "    <tr>\n",
       "      <th>99</th>\n",
       "      <td>5</td>\n",
       "      <td>Wonderful</td>\n",
       "      <td>I just directly switch from iphone 6s to iphon...</td>\n",
       "    </tr>\n",
       "  </tbody>\n",
       "</table>\n",
       "<p>100 rows × 3 columns</p>\n",
       "</div>"
      ],
      "text/plain": [
       "   rating         review_summary  \\\n",
       "0       5       Perfect product!   \n",
       "1       5          Great product   \n",
       "2       5     Highly recommended   \n",
       "3       5       Perfect product!   \n",
       "4       5       Perfect product!   \n",
       "..    ...                    ...   \n",
       "95      5     Highly recommended   \n",
       "96      5      Terrific purchase   \n",
       "97      5  Mind-blowing purchase   \n",
       "98      5         Simply awesome   \n",
       "99      5              Wonderful   \n",
       "\n",
       "                                         full_summary  \n",
       "0   Amazing phone with great cameras and better ba...  \n",
       "1   Amazing Powerful and Durable Gadget.\\n\\nI’m am...  \n",
       "2   iphone 11 is a very good phone to buy only if ...  \n",
       "3   It’s a must buy who is looking for an upgrade ...  \n",
       "4   Value for money❤️❤️\\nIts awesome mobile phone ...  \n",
       "..                                                ...  \n",
       "95  It's my first time to use iOS phone and I am l...  \n",
       "96  The built quality is not very premium.\\nThe ba...  \n",
       "97  First thanks to Flipkart for this amazing deal...  \n",
       "98  Excellent camera, good performance, no lag. Th...  \n",
       "99  I just directly switch from iphone 6s to iphon...  \n",
       "\n",
       "[100 rows x 3 columns]"
      ]
     },
     "execution_count": 73,
     "metadata": {},
     "output_type": "execute_result"
    }
   ],
   "source": [
    "apple_phone=pd.DataFrame({})\n",
    "apple_phone['rating']=ratingss[0:100]\n",
    "apple_phone['review_summary']=review_summariess[0:100]\n",
    "apple_phone['full_summary']=full_reviewss[0:100]\n",
    "apple_phone"
   ]
  },
  {
   "cell_type": "markdown",
   "metadata": {},
   "source": [
    "### 8.Scrape data for first 100 sneakers from flipkart"
   ]
  },
  {
   "cell_type": "code",
   "execution_count": 74,
   "metadata": {},
   "outputs": [],
   "source": [
    "#specifying the url of the webpage to be scraped by opening driver\n",
    "driver.get(\"https://www.flipkart.com/search?q=sneakers&otracker=search&otracker1=search&marketplace=FLIPKART&as-show=on&as=off\")"
   ]
  },
  {
   "cell_type": "code",
   "execution_count": 75,
   "metadata": {},
   "outputs": [],
   "source": [
    "brands=[]\n",
    "product_descr=[]\n",
    "prices=[]\n",
    "discount_=[]\n"
   ]
  },
  {
   "cell_type": "code",
   "execution_count": 76,
   "metadata": {},
   "outputs": [],
   "source": [
    "for i in range(0,3):\n",
    "    for i in driver.find_elements_by_xpath(\"//div[@class='_2B099V']/div[1]\"):\n",
    "        brands.append(i.text)\n",
    "    for j in driver.find_elements_by_xpath(\"//div[@class='_2B099V']/a\"):\n",
    "        product_descr.append(j.text)\n",
    "    for k in driver.find_elements_by_xpath(\"//div[@class='_25b18c']/div[1]\"):\n",
    "        prices.append(k.text)\n",
    "    for l in driver.find_elements_by_xpath(\"//div[@class='_25b18c']/div[3]/span\"):\n",
    "        discount_.append(l.text)\n",
    "    driver.find_element_by_xpath(\"//a[@class='_1LKTO3']/span\").click()\n",
    "    time.sleep(3)\n"
   ]
  },
  {
   "cell_type": "code",
   "execution_count": 77,
   "metadata": {},
   "outputs": [
    {
     "data": {
      "text/plain": [
       "[\"MULTICOLOUR SHOES FOR MEN'S Sneakers For Men\",\n",
       " '₹398₹99960% off',\n",
       " 'X-Ray 2 Square PACK Sneakers For Men',\n",
       " '₹4,339₹6,99938% off',\n",
       " 'Combo Pack of 4 Casual Sneakers With Sneakers For Men',\n",
       " '₹499₹1,99675% off']"
      ]
     },
     "execution_count": 77,
     "metadata": {},
     "output_type": "execute_result"
    }
   ],
   "source": [
    "product_descr[0:6]"
   ]
  },
  {
   "cell_type": "code",
   "execution_count": 78,
   "metadata": {},
   "outputs": [
    {
     "data": {
      "text/plain": [
       "[\"MULTICOLOUR SHOES FOR MEN'S Sneakers For Men\",\n",
       " 'X-Ray 2 Square PACK Sneakers For Men',\n",
       " 'Combo Pack of 4 Casual Sneakers With Sneakers For Men']"
      ]
     },
     "execution_count": 78,
     "metadata": {},
     "output_type": "execute_result"
    }
   ],
   "source": [
    "product_description=product_descr[::2]\n",
    "product_description[0:3]"
   ]
  },
  {
   "cell_type": "code",
   "execution_count": 79,
   "metadata": {},
   "outputs": [
    {
     "data": {
      "text/html": [
       "<div>\n",
       "<style scoped>\n",
       "    .dataframe tbody tr th:only-of-type {\n",
       "        vertical-align: middle;\n",
       "    }\n",
       "\n",
       "    .dataframe tbody tr th {\n",
       "        vertical-align: top;\n",
       "    }\n",
       "\n",
       "    .dataframe thead th {\n",
       "        text-align: right;\n",
       "    }\n",
       "</style>\n",
       "<table border=\"1\" class=\"dataframe\">\n",
       "  <thead>\n",
       "    <tr style=\"text-align: right;\">\n",
       "      <th></th>\n",
       "      <th>Brand</th>\n",
       "      <th>Product_description</th>\n",
       "      <th>Price</th>\n",
       "      <th>Discount</th>\n",
       "    </tr>\n",
       "  </thead>\n",
       "  <tbody>\n",
       "    <tr>\n",
       "      <th>0</th>\n",
       "      <td>MISHTOO</td>\n",
       "      <td>MULTICOLOUR SHOES FOR MEN'S Sneakers For Men</td>\n",
       "      <td>₹398</td>\n",
       "      <td>60% off</td>\n",
       "    </tr>\n",
       "    <tr>\n",
       "      <th>1</th>\n",
       "      <td>Puma</td>\n",
       "      <td>X-Ray 2 Square PACK Sneakers For Men</td>\n",
       "      <td>₹4,339</td>\n",
       "      <td>38% off</td>\n",
       "    </tr>\n",
       "    <tr>\n",
       "      <th>2</th>\n",
       "      <td>Chevit</td>\n",
       "      <td>Combo Pack of 4 Casual Sneakers With Sneakers ...</td>\n",
       "      <td>₹499</td>\n",
       "      <td>75% off</td>\n",
       "    </tr>\n",
       "    <tr>\n",
       "      <th>3</th>\n",
       "      <td>World Wear Footwear</td>\n",
       "      <td>Combo Pack of 4 Latest Collection Stylish Casu...</td>\n",
       "      <td>₹499</td>\n",
       "      <td>75% off</td>\n",
       "    </tr>\n",
       "    <tr>\n",
       "      <th>4</th>\n",
       "      <td>Robbie jones</td>\n",
       "      <td>Casual Sneakers Shoes For Men Sneakers For Men</td>\n",
       "      <td>₹378</td>\n",
       "      <td>62% off</td>\n",
       "    </tr>\n",
       "    <tr>\n",
       "      <th>...</th>\n",
       "      <td>...</td>\n",
       "      <td>...</td>\n",
       "      <td>...</td>\n",
       "      <td>...</td>\n",
       "    </tr>\n",
       "    <tr>\n",
       "      <th>95</th>\n",
       "      <td>Chevit</td>\n",
       "      <td>168 Smart Red Lace-Ups Casuals for Men Sneaker...</td>\n",
       "      <td>₹224</td>\n",
       "      <td>64% off</td>\n",
       "    </tr>\n",
       "    <tr>\n",
       "      <th>96</th>\n",
       "      <td>Red Rose</td>\n",
       "      <td>Sneakers For Men</td>\n",
       "      <td>₹398</td>\n",
       "      <td>70% off</td>\n",
       "    </tr>\n",
       "    <tr>\n",
       "      <th>97</th>\n",
       "      <td>Chevit</td>\n",
       "      <td>Smart Casuals Canvas Shoes Combo pack of 2 Sne...</td>\n",
       "      <td>₹260</td>\n",
       "      <td>59% off</td>\n",
       "    </tr>\n",
       "    <tr>\n",
       "      <th>98</th>\n",
       "      <td>Hotstyle</td>\n",
       "      <td>Sneakers For Men</td>\n",
       "      <td>₹499</td>\n",
       "      <td>62% off</td>\n",
       "    </tr>\n",
       "    <tr>\n",
       "      <th>99</th>\n",
       "      <td>DIGITRENDZZ</td>\n",
       "      <td>Sneakers For Men</td>\n",
       "      <td>₹349</td>\n",
       "      <td>85% off</td>\n",
       "    </tr>\n",
       "  </tbody>\n",
       "</table>\n",
       "<p>100 rows × 4 columns</p>\n",
       "</div>"
      ],
      "text/plain": [
       "                  Brand                                Product_description  \\\n",
       "0               MISHTOO       MULTICOLOUR SHOES FOR MEN'S Sneakers For Men   \n",
       "1                  Puma               X-Ray 2 Square PACK Sneakers For Men   \n",
       "2                Chevit  Combo Pack of 4 Casual Sneakers With Sneakers ...   \n",
       "3   World Wear Footwear  Combo Pack of 4 Latest Collection Stylish Casu...   \n",
       "4          Robbie jones     Casual Sneakers Shoes For Men Sneakers For Men   \n",
       "..                  ...                                                ...   \n",
       "95               Chevit  168 Smart Red Lace-Ups Casuals for Men Sneaker...   \n",
       "96             Red Rose                                   Sneakers For Men   \n",
       "97               Chevit  Smart Casuals Canvas Shoes Combo pack of 2 Sne...   \n",
       "98             Hotstyle                                   Sneakers For Men   \n",
       "99          DIGITRENDZZ                                   Sneakers For Men   \n",
       "\n",
       "     Price Discount  \n",
       "0     ₹398  60% off  \n",
       "1   ₹4,339  38% off  \n",
       "2     ₹499  75% off  \n",
       "3     ₹499  75% off  \n",
       "4     ₹378  62% off  \n",
       "..     ...      ...  \n",
       "95    ₹224  64% off  \n",
       "96    ₹398  70% off  \n",
       "97    ₹260  59% off  \n",
       "98    ₹499  62% off  \n",
       "99    ₹349  85% off  \n",
       "\n",
       "[100 rows x 4 columns]"
      ]
     },
     "execution_count": 79,
     "metadata": {},
     "output_type": "execute_result"
    }
   ],
   "source": [
    "sneakers=pd.DataFrame({})\n",
    "sneakers['Brand']=brands[0:100]\n",
    "sneakers['Product_description']=product_description[0:100]\n",
    "sneakers['Price']=prices[0:100]\n",
    "sneakers['Discount']=discount_[0:100]\n",
    "sneakers"
   ]
  },
  {
   "cell_type": "markdown",
   "metadata": {},
   "source": [
    "### 9.Go to the link - https://www.myntra.com/shoes ,Set Price filter to “Rs. 6649 to Rs. 13099” , Color filter to “Black\""
   ]
  },
  {
   "cell_type": "code",
   "execution_count": 83,
   "metadata": {},
   "outputs": [],
   "source": [
    "#specifying the url of the webpage to be scraped by opening driver\n",
    "driver.get(\"https://www.myntra.com/shoes?f=Color%3ABlack_36454f&plaEnabled=false&rf=Price%3A5839.0_11559.0_5839.0%20TO%2011559.0\")"
   ]
  },
  {
   "cell_type": "code",
   "execution_count": 84,
   "metadata": {},
   "outputs": [],
   "source": [
    "brands=[]\n",
    "product_descr=[]\n",
    "prices=[]"
   ]
  },
  {
   "cell_type": "code",
   "execution_count": 88,
   "metadata": {},
   "outputs": [],
   "source": [
    "for i in range(0,5):\n",
    "    for i in driver.find_elements_by_xpath(\"//div[@class='product-productMetaInfo']/h3\"):\n",
    "        brands.append(i.text)\n",
    "    for j in driver.find_elements_by_xpath(\"//div[@class='product-productMetaInfo']/h4\"):\n",
    "        product_descr.append(j.text)\n",
    "    for k in driver.find_elements_by_xpath(\"//span[@class='product-discountedPrice']\"):\n",
    "        prices.append(k.text)\n",
    "    driver.find_element_by_xpath(\"//li[@class='pagination-next']/a\").click()\n",
    "    time.sleep(3)\n"
   ]
  },
  {
   "cell_type": "code",
   "execution_count": 89,
   "metadata": {},
   "outputs": [],
   "source": [
    "product_description=product_descr[::2]"
   ]
  },
  {
   "cell_type": "code",
   "execution_count": 90,
   "metadata": {},
   "outputs": [
    {
     "data": {
      "text/html": [
       "<div>\n",
       "<style scoped>\n",
       "    .dataframe tbody tr th:only-of-type {\n",
       "        vertical-align: middle;\n",
       "    }\n",
       "\n",
       "    .dataframe tbody tr th {\n",
       "        vertical-align: top;\n",
       "    }\n",
       "\n",
       "    .dataframe thead th {\n",
       "        text-align: right;\n",
       "    }\n",
       "</style>\n",
       "<table border=\"1\" class=\"dataframe\">\n",
       "  <thead>\n",
       "    <tr style=\"text-align: right;\">\n",
       "      <th></th>\n",
       "      <th>Brand</th>\n",
       "      <th>Product_description</th>\n",
       "      <th>Price</th>\n",
       "    </tr>\n",
       "  </thead>\n",
       "  <tbody>\n",
       "    <tr>\n",
       "      <th>0</th>\n",
       "      <td>Nike</td>\n",
       "      <td>Men JORDAN DELTA Basketball</td>\n",
       "      <td>Rs. 9999</td>\n",
       "    </tr>\n",
       "    <tr>\n",
       "      <th>1</th>\n",
       "      <td>Puma</td>\n",
       "      <td>Men HYBRID NETFIT Running Shoe</td>\n",
       "      <td>Rs. 6599</td>\n",
       "    </tr>\n",
       "    <tr>\n",
       "      <th>2</th>\n",
       "      <td>Nike</td>\n",
       "      <td>Men Solid SKYVE MAX Sneakers</td>\n",
       "      <td>Rs. 6999</td>\n",
       "    </tr>\n",
       "    <tr>\n",
       "      <th>3</th>\n",
       "      <td>Nike</td>\n",
       "      <td>Men JORDAN DELTA Sneakers</td>\n",
       "      <td>Rs. 8199</td>\n",
       "    </tr>\n",
       "    <tr>\n",
       "      <th>4</th>\n",
       "      <td>Nike</td>\n",
       "      <td>Men Zoom Running Shoes</td>\n",
       "      <td>Rs. 6399</td>\n",
       "    </tr>\n",
       "    <tr>\n",
       "      <th>...</th>\n",
       "      <td>...</td>\n",
       "      <td>...</td>\n",
       "      <td>...</td>\n",
       "    </tr>\n",
       "    <tr>\n",
       "      <th>95</th>\n",
       "      <td>Nike</td>\n",
       "      <td>Women AIR MAX VERONA Sneakers</td>\n",
       "      <td>Rs. 6742</td>\n",
       "    </tr>\n",
       "    <tr>\n",
       "      <th>96</th>\n",
       "      <td>Heel &amp; Buckle London</td>\n",
       "      <td>Men Leather Formal Oxfords</td>\n",
       "      <td>Rs. 5949</td>\n",
       "    </tr>\n",
       "    <tr>\n",
       "      <th>97</th>\n",
       "      <td>Xtep</td>\n",
       "      <td>AIR MEGA Energy Ring Shoes</td>\n",
       "      <td>Rs. 8099</td>\n",
       "    </tr>\n",
       "    <tr>\n",
       "      <th>98</th>\n",
       "      <td>Tommy Hilfiger</td>\n",
       "      <td>Men Solid TS Sport 2 Sneakers</td>\n",
       "      <td>Rs. 5949</td>\n",
       "    </tr>\n",
       "    <tr>\n",
       "      <th>99</th>\n",
       "      <td>Tommy Hilfiger</td>\n",
       "      <td>CHUNKY TECH Leather Sneakers</td>\n",
       "      <td>Rs. 9443</td>\n",
       "    </tr>\n",
       "  </tbody>\n",
       "</table>\n",
       "<p>100 rows × 3 columns</p>\n",
       "</div>"
      ],
      "text/plain": [
       "                   Brand             Product_description     Price\n",
       "0                   Nike     Men JORDAN DELTA Basketball  Rs. 9999\n",
       "1                   Puma  Men HYBRID NETFIT Running Shoe  Rs. 6599\n",
       "2                   Nike    Men Solid SKYVE MAX Sneakers  Rs. 6999\n",
       "3                   Nike       Men JORDAN DELTA Sneakers  Rs. 8199\n",
       "4                   Nike          Men Zoom Running Shoes  Rs. 6399\n",
       "..                   ...                             ...       ...\n",
       "95                  Nike   Women AIR MAX VERONA Sneakers  Rs. 6742\n",
       "96  Heel & Buckle London      Men Leather Formal Oxfords  Rs. 5949\n",
       "97                  Xtep      AIR MEGA Energy Ring Shoes  Rs. 8099\n",
       "98        Tommy Hilfiger   Men Solid TS Sport 2 Sneakers  Rs. 5949\n",
       "99        Tommy Hilfiger    CHUNKY TECH Leather Sneakers  Rs. 9443\n",
       "\n",
       "[100 rows x 3 columns]"
      ]
     },
     "execution_count": 90,
     "metadata": {},
     "output_type": "execute_result"
    }
   ],
   "source": [
    "shoes=pd.DataFrame({})\n",
    "shoes['Brand']=brands[0:100]\n",
    "shoes['Product_description']=product_description[0:100]\n",
    "shoes['Price']=prices[0:100]\n",
    "shoes"
   ]
  },
  {
   "cell_type": "markdown",
   "metadata": {},
   "source": [
    "### 10.Go to webpage https://www.amazon.in/ then search for laptop"
   ]
  },
  {
   "cell_type": "code",
   "execution_count": 91,
   "metadata": {},
   "outputs": [],
   "source": [
    "#specifying the url of the webpage to be scraped by opening driver\n",
    "driver.get(\"https://www.amazon.in/s?k=laptop&i=computers&rh=n%3A1375424031%2Cp_n_feature_thirteen_browse-bin%3A12598163031%7C16757432031&dc&qid=1611304960&rnid=12598141031&ref=sr_nr_p_n_feature_thirteen_browse-bin_17\")"
   ]
  },
  {
   "cell_type": "code",
   "execution_count": 92,
   "metadata": {},
   "outputs": [],
   "source": [
    "title=[]\n",
    "ratings=[]\n",
    "price=[]"
   ]
  },
  {
   "cell_type": "code",
   "execution_count": 93,
   "metadata": {},
   "outputs": [],
   "source": [
    "for i in driver.find_elements_by_xpath(\"//span[@class='a-size-medium a-color-base a-text-normal']\"):\n",
    "    title.append(i.text)"
   ]
  },
  {
   "cell_type": "code",
   "execution_count": 94,
   "metadata": {},
   "outputs": [],
   "source": [
    "for i in driver.find_elements_by_xpath(\"//span[@class='a-price-whole']\"):\n",
    "    price.append(i.text)"
   ]
  },
  {
   "cell_type": "code",
   "execution_count": 95,
   "metadata": {},
   "outputs": [],
   "source": [
    "for i in range(0,11):\n",
    "    driver.find_element_by_xpath(\"//i[@class='a-icon a-icon-star-small a-star-small-4-5 aok-align-bottom']\").click()\n",
    "    for i in driver.find_elements_by_xpath(\"//span[@class='a-size-medium a-color-base a-text-beside-button a-text-bold']\"):\n",
    "        ratings.append(i.text)"
   ]
  },
  {
   "cell_type": "code",
   "execution_count": 96,
   "metadata": {},
   "outputs": [
    {
     "data": {
      "text/html": [
       "<div>\n",
       "<style scoped>\n",
       "    .dataframe tbody tr th:only-of-type {\n",
       "        vertical-align: middle;\n",
       "    }\n",
       "\n",
       "    .dataframe tbody tr th {\n",
       "        vertical-align: top;\n",
       "    }\n",
       "\n",
       "    .dataframe thead th {\n",
       "        text-align: right;\n",
       "    }\n",
       "</style>\n",
       "<table border=\"1\" class=\"dataframe\">\n",
       "  <thead>\n",
       "    <tr style=\"text-align: right;\">\n",
       "      <th></th>\n",
       "      <th>Title</th>\n",
       "      <th>ratings</th>\n",
       "      <th>Price</th>\n",
       "    </tr>\n",
       "  </thead>\n",
       "  <tbody>\n",
       "    <tr>\n",
       "      <th>0</th>\n",
       "      <td>Mi Notebook Horizon Edition 14 Intel Core i5-1...</td>\n",
       "      <td>4.4 out of 5</td>\n",
       "      <td>51,999</td>\n",
       "    </tr>\n",
       "    <tr>\n",
       "      <th>1</th>\n",
       "      <td>Dell XPS 9570 15.6-inch FHD Laptop (8th Gen Co...</td>\n",
       "      <td>4.4 out of 5</td>\n",
       "      <td>1,27,990</td>\n",
       "    </tr>\n",
       "    <tr>\n",
       "      <th>2</th>\n",
       "      <td>(Renewed) Dell Latitude E7470 14-inch Laptop (...</td>\n",
       "      <td>4.4 out of 5</td>\n",
       "      <td>53,599</td>\n",
       "    </tr>\n",
       "    <tr>\n",
       "      <th>3</th>\n",
       "      <td>Mi Notebook Horizon Edition 14 Intel Core i5-1...</td>\n",
       "      <td>4.4 out of 5</td>\n",
       "      <td>51,999</td>\n",
       "    </tr>\n",
       "    <tr>\n",
       "      <th>4</th>\n",
       "      <td>(Renewed) Dell Latitude E6420 14 Inch Laptop (...</td>\n",
       "      <td>4.4 out of 5</td>\n",
       "      <td>45,000</td>\n",
       "    </tr>\n",
       "    <tr>\n",
       "      <th>5</th>\n",
       "      <td>(Renewed) Dell Latitude E7470 14-inch Laptop (...</td>\n",
       "      <td>4.4 out of 5</td>\n",
       "      <td>52,699</td>\n",
       "    </tr>\n",
       "    <tr>\n",
       "      <th>6</th>\n",
       "      <td>(Renewed) Dell Latitude E7470 14-inch Laptop (...</td>\n",
       "      <td>4.4 out of 5</td>\n",
       "      <td>54,399</td>\n",
       "    </tr>\n",
       "    <tr>\n",
       "      <th>7</th>\n",
       "      <td>(Renewed) Dell Latitude E7470 14-inch Laptop (...</td>\n",
       "      <td>4.4 out of 5</td>\n",
       "      <td>55,299</td>\n",
       "    </tr>\n",
       "    <tr>\n",
       "      <th>8</th>\n",
       "      <td>Lenovo Yoga S740 Intel Core i7 10th Gen 14 inc...</td>\n",
       "      <td>4.4 out of 5</td>\n",
       "      <td>97,700</td>\n",
       "    </tr>\n",
       "    <tr>\n",
       "      <th>9</th>\n",
       "      <td>Acer Nitro 5 Intel Core i7 10750H 15.6\" FHD IP...</td>\n",
       "      <td>4.4 out of 5</td>\n",
       "      <td>78,990</td>\n",
       "    </tr>\n",
       "  </tbody>\n",
       "</table>\n",
       "</div>"
      ],
      "text/plain": [
       "                                               Title       ratings     Price\n",
       "0  Mi Notebook Horizon Edition 14 Intel Core i5-1...  4.4 out of 5    51,999\n",
       "1  Dell XPS 9570 15.6-inch FHD Laptop (8th Gen Co...  4.4 out of 5  1,27,990\n",
       "2  (Renewed) Dell Latitude E7470 14-inch Laptop (...  4.4 out of 5    53,599\n",
       "3  Mi Notebook Horizon Edition 14 Intel Core i5-1...  4.4 out of 5    51,999\n",
       "4  (Renewed) Dell Latitude E6420 14 Inch Laptop (...  4.4 out of 5    45,000\n",
       "5  (Renewed) Dell Latitude E7470 14-inch Laptop (...  4.4 out of 5    52,699\n",
       "6  (Renewed) Dell Latitude E7470 14-inch Laptop (...  4.4 out of 5    54,399\n",
       "7  (Renewed) Dell Latitude E7470 14-inch Laptop (...  4.4 out of 5    55,299\n",
       "8  Lenovo Yoga S740 Intel Core i7 10th Gen 14 inc...  4.4 out of 5    97,700\n",
       "9  Acer Nitro 5 Intel Core i7 10750H 15.6\" FHD IP...  4.4 out of 5    78,990"
      ]
     },
     "execution_count": 96,
     "metadata": {},
     "output_type": "execute_result"
    }
   ],
   "source": [
    "laptops=pd.DataFrame({})\n",
    "laptops['Title']=title[0:10]\n",
    "laptops['ratings']=ratings[0:10]\n",
    "laptops['Price']=price[0:10]\n",
    "laptops"
   ]
  }
 ],
 "metadata": {
  "kernelspec": {
   "display_name": "Python 3",
   "language": "python",
   "name": "python3"
  },
  "language_info": {
   "codemirror_mode": {
    "name": "ipython",
    "version": 3
   },
   "file_extension": ".py",
   "mimetype": "text/x-python",
   "name": "python",
   "nbconvert_exporter": "python",
   "pygments_lexer": "ipython3",
   "version": "3.7.6"
  }
 },
 "nbformat": 4,
 "nbformat_minor": 4
}
