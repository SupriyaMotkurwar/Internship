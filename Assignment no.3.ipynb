{
 "cells": [
  {
   "cell_type": "markdown",
   "metadata": {},
   "source": [
    "### 1.Write a python program which searches all the product under a particular product vertical from www.amazon.in"
   ]
  },
  {
   "cell_type": "code",
   "execution_count": 67,
   "metadata": {},
   "outputs": [],
   "source": [
    "#import all the required libraries\n",
    "import pandas as pd\n",
    "import selenium\n",
    "from selenium import webdriver\n",
    "from selenium.common.exceptions import StaleElementReferenceException, NoSuchElementException\n"
   ]
  },
  {
   "cell_type": "code",
   "execution_count": 68,
   "metadata": {},
   "outputs": [],
   "source": [
    "driver=webdriver.Chrome(r\"C:\\Users\\Hp\\Desktop\\chromedriver.exe\")"
   ]
  },
  {
   "cell_type": "code",
   "execution_count": 69,
   "metadata": {},
   "outputs": [],
   "source": [
    "driver.get(\"https://www.amazon.in/\")\n"
   ]
  },
  {
   "cell_type": "code",
   "execution_count": 70,
   "metadata": {},
   "outputs": [],
   "source": [
    "search_field=driver.find_element_by_id(\"twotabsearchtextbox\")\n",
    "search_field.send_keys(\"bags for women\")\n"
   ]
  },
  {
   "cell_type": "code",
   "execution_count": 71,
   "metadata": {},
   "outputs": [],
   "source": [
    "# clicking the search button\n",
    "search_button=driver.find_element_by_xpath(\"//div[@class='nav-search-submit nav-sprite']/span/input\")\n",
    "search_button.click()\n",
    "    "
   ]
  },
  {
   "cell_type": "markdown",
   "metadata": {},
   "source": [
    "### 2.Details to be scraped are: \"Brand Name\", \"Name of the Product\", \"Rating\", \"No. of Ratings\", \"Price\", \"Return/Exchange\", \"Expected Delivery\", \"Availability\", \"Other Details\"and “Product URL”."
   ]
  },
  {
   "cell_type": "code",
   "execution_count": 72,
   "metadata": {},
   "outputs": [],
   "source": [
    "Name=[]\n",
    "Product=[]\n",
    "rating=[]\n",
    "no_of_ratings=[]\n",
    "price=[]\n",
    "reurn=[]\n",
    "delivery=[]\n",
    "availability=[]\n",
    "details=[]\n",
    "URL=[]"
   ]
  },
  {
   "cell_type": "code",
   "execution_count": 73,
   "metadata": {},
   "outputs": [],
   "source": [
    "import time"
   ]
  },
  {
   "cell_type": "code",
   "execution_count": 74,
   "metadata": {},
   "outputs": [],
   "source": [
    "for i in range(0,3):\n",
    "    for i in driver.find_elements_by_xpath(\"//h5[@class='s-line-clamp-1']/span\"):\n",
    "        Name.append(i.text)\n",
    "    for j in driver.find_elements_by_xpath(\"//h2[@class='a-size-mini a-spacing-none a-color-base s-line-clamp-2']/a/span\"):\n",
    "        Product.append(j.text)\n",
    "    for k in driver.find_elements_by_xpath(\"//span[@class='a-price-whole']\"):\n",
    "        price.append(k.text)\n",
    "    driver.find_element_by_xpath(\"//li[@class='a-last']/a\").click()\n",
    "    time.sleep(3)\n"
   ]
  },
  {
   "cell_type": "code",
   "execution_count": 75,
   "metadata": {},
   "outputs": [],
   "source": [
    "for i in range(3):\n",
    "    url=driver.find_element_by_xpath(\"//a[@class='a-link-normal a-text-normal']\").get_attribute('href')\n",
    "    driver.get(url)"
   ]
  },
  {
   "cell_type": "code",
   "execution_count": 88,
   "metadata": {},
   "outputs": [],
   "source": [
    "ratings=[]\n",
    "urls=driver.find_elements_by_xpath(\"//a[@class='a-link-normal a-text-normal']\")\n",
    "UR=[]\n",
    "for i in urls:\n",
    "    UR.append(i.get_attribute('href'))\n",
    "for url in UR:\n",
    "    driver.get(url)\n",
    "    try:                 \n",
    "        rate=driver.find_element_by_xpath(\"//i[@class='a-icon a-icon-star a-star-4']\")\n",
    "        rate.click()                                                      \n",
    "        rating=driver.find_element_by_xpath(\"//div[@class='a-icon-row a-spacing-small a-padding-none']/i/span\")\n",
    "        ratings.append(rating.text)\n",
    "        \n",
    "    except NoSuchElementException   as e:\n",
    "        ratings.append(\"-\")"
   ]
  },
  {
   "cell_type": "code",
   "execution_count": 92,
   "metadata": {},
   "outputs": [],
   "source": [
    "ratingss=[]\n",
    "for i in range(0,3):\n",
    "    for url in UR:\n",
    "        driver.get(url)\n",
    "        try:                                                         \n",
    "            rating=driver.find_element_by_xpath(\"//a[@class='a-link-normal']/span\")\n",
    "            ratingss.append(rating.text)\n",
    "        \n",
    "        except NoSuchElementException   as e:\n",
    "            ratingss.append(\"-\")\n",
    "    "
   ]
  },
  {
   "cell_type": "code",
   "execution_count": 94,
   "metadata": {},
   "outputs": [
    {
     "data": {
      "text/plain": [
       "['81 ratings', '87 ratings', '87 ratings']"
      ]
     },
     "execution_count": 94,
     "metadata": {},
     "output_type": "execute_result"
    }
   ],
   "source": [
    "ratingss[0:3]"
   ]
  },
  {
   "cell_type": "code",
   "execution_count": 95,
   "metadata": {},
   "outputs": [],
   "source": [
    "ratings=[]\n",
    "urls=driver.find_elements_by_xpath(\"//a[@class='a-link-normal a-text-normal']\")\n",
    "UR=[]\n",
    "for i in urls:\n",
    "    UR.append(i.get_attribute('href'))\n",
    "for url in UR:\n",
    "    driver.get(url)\n",
    "    try:                                                                   \n",
    "        rating=driver.find_element_by_xpath(\"//div[@class='a-icon-row a-spacing-small a-padding-none']/i/span\")\n",
    "        ratings.append(rating.text)\n",
    "        \n",
    "    except NoSuchElementException   as e:\n",
    "        ratings.append(\"-\")"
   ]
  },
  {
   "cell_type": "code",
   "execution_count": 97,
   "metadata": {},
   "outputs": [],
   "source": [
    "for i in range(0,3):\n",
    "    for url in UR:\n",
    "        driver.get(url)\n",
    "        try:                                                         \n",
    "            deli=driver.find_element_by_xpath(\"//div[@class='a-section a-spacing-mini']/b\")\n",
    "            delivery.append(deli.text)\n",
    "        \n",
    "        except NoSuchElementException   as e:\n",
    "            delivery.append(\"-\")\n",
    "    "
   ]
  },
  {
   "cell_type": "code",
   "execution_count": 105,
   "metadata": {},
   "outputs": [],
   "source": [
    "for i in range(0,3):\n",
    "    for url in UR:\n",
    "        driver.get(url)\n",
    "        try:                                                         \n",
    "            ava=driver.find_element_by_xpath(\"//div[@class='a-section a-spacing-none']/span\")\n",
    "            availability.append(ava.text)\n",
    "        \n",
    "        except NoSuchElementException   as e:\n",
    "            availability.append(\"-\")\n",
    "    "
   ]
  },
  {
   "cell_type": "code",
   "execution_count": 104,
   "metadata": {},
   "outputs": [],
   "source": [
    "\n",
    "for i in range(0,3):\n",
    "    for url in UR:\n",
    "        driver.get(url)\n",
    "        try:                                                         \n",
    "            ava=driver.find_element_by_xpath(\"//div[@class='a-section a-spacing-none  icon-content']/a\")\n",
    "            reurn.append(ava.text)\n",
    "        \n",
    "        except NoSuchElementException   as e:\n",
    "            reurn.append(\"-\")\n",
    "    "
   ]
  },
  {
   "cell_type": "code",
   "execution_count": 106,
   "metadata": {},
   "outputs": [
    {
     "name": "stdout",
     "output_type": "stream",
     "text": [
      "184\n",
      "184\n",
      "192\n",
      "47\n",
      "108\n",
      "423\n",
      "141\n",
      "141\n",
      "47\n"
     ]
    }
   ],
   "source": [
    "print(len(Name))\n",
    "print(len(Product))\n",
    "print(len(price))\n",
    "print(len(ratings))\n",
    "print(len(ratingss))\n",
    "print(len(availability))\n",
    "print(len(delivery))\n",
    "print(len(reurn))\n",
    "print(len(UR))"
   ]
  },
  {
   "cell_type": "code",
   "execution_count": 107,
   "metadata": {},
   "outputs": [
    {
     "data": {
      "text/html": [
       "<div>\n",
       "<style scoped>\n",
       "    .dataframe tbody tr th:only-of-type {\n",
       "        vertical-align: middle;\n",
       "    }\n",
       "\n",
       "    .dataframe tbody tr th {\n",
       "        vertical-align: top;\n",
       "    }\n",
       "\n",
       "    .dataframe thead th {\n",
       "        text-align: right;\n",
       "    }\n",
       "</style>\n",
       "<table border=\"1\" class=\"dataframe\">\n",
       "  <thead>\n",
       "    <tr style=\"text-align: right;\">\n",
       "      <th></th>\n",
       "      <th>brand name</th>\n",
       "      <th>product name</th>\n",
       "      <th>price</th>\n",
       "      <th>availability</th>\n",
       "      <th>delivery</th>\n",
       "      <th>Ratings</th>\n",
       "      <th>no_of_ratings</th>\n",
       "      <th>return</th>\n",
       "      <th>URL</th>\n",
       "    </tr>\n",
       "  </thead>\n",
       "  <tbody>\n",
       "    <tr>\n",
       "      <th>0</th>\n",
       "      <td>Lavie</td>\n",
       "      <td>Betula Women's Tote Bag</td>\n",
       "      <td>629</td>\n",
       "      <td>Only 2 left in stock.</td>\n",
       "      <td>Tuesday, Feb 9</td>\n",
       "      <td>-</td>\n",
       "      <td>81 ratings</td>\n",
       "      <td>30 Days Returns</td>\n",
       "      <td>https://www.amazon.in/dp/B08NXP5H9R/ref=sspa_d...</td>\n",
       "    </tr>\n",
       "    <tr>\n",
       "      <th>1</th>\n",
       "      <td>BELLISSA</td>\n",
       "      <td>Maroon PU Leather Combo Handbag for Women</td>\n",
       "      <td>629</td>\n",
       "      <td>Only 3 left in stock.</td>\n",
       "      <td>Tuesday, Feb 9</td>\n",
       "      <td>-</td>\n",
       "      <td>87 ratings</td>\n",
       "      <td>30 Days Returns</td>\n",
       "      <td>https://www.amazon.in/Satya-Paul-Womens-Should...</td>\n",
       "    </tr>\n",
       "    <tr>\n",
       "      <th>2</th>\n",
       "      <td>BELLISSA</td>\n",
       "      <td>Brown Handbag for Women</td>\n",
       "      <td></td>\n",
       "      <td>Only 3 left in stock.</td>\n",
       "      <td>Tuesday, Feb 9</td>\n",
       "      <td>-</td>\n",
       "      <td>87 ratings</td>\n",
       "      <td>30 Days Returns</td>\n",
       "      <td>https://www.amazon.in/Satya-Paul-Womens-Should...</td>\n",
       "    </tr>\n",
       "    <tr>\n",
       "      <th>3</th>\n",
       "      <td>BELLISSA</td>\n",
       "      <td>Women's Handbag (Set of 2, Pink)</td>\n",
       "      <td>1,490</td>\n",
       "      <td>Only 2 left in stock.</td>\n",
       "      <td>Tuesday, Feb 9</td>\n",
       "      <td>-</td>\n",
       "      <td></td>\n",
       "      <td>30 Days Returns</td>\n",
       "      <td>https://www.amazon.in/Satya-Paul-Womens-Should...</td>\n",
       "    </tr>\n",
       "    <tr>\n",
       "      <th>4</th>\n",
       "      <td>Star Dust</td>\n",
       "      <td>Women's Tote Bag</td>\n",
       "      <td>1,599</td>\n",
       "      <td>Only 1 left in stock.</td>\n",
       "      <td>Feb 8 - 9</td>\n",
       "      <td>-</td>\n",
       "      <td></td>\n",
       "      <td>30 Days Returns</td>\n",
       "      <td>https://www.amazon.in/Fastrack-Womens-Shoulder...</td>\n",
       "    </tr>\n",
       "    <tr>\n",
       "      <th>5</th>\n",
       "      <td>Vintage</td>\n",
       "      <td>Women's Handbag with Pouch (Off-White) (Set of 3)</td>\n",
       "      <td>1,399</td>\n",
       "      <td>In stock.</td>\n",
       "      <td>Saturday, Feb 6</td>\n",
       "      <td>-</td>\n",
       "      <td></td>\n",
       "      <td>Pay on Delivery</td>\n",
       "      <td>https://www.amazon.in/TOUARETAILS-Womens-Shoul...</td>\n",
       "    </tr>\n",
       "    <tr>\n",
       "      <th>6</th>\n",
       "      <td>Speed X Fashion</td>\n",
       "      <td>Women's Handbag (NSB-010-Tan_Tan)</td>\n",
       "      <td>1,599</td>\n",
       "      <td>Only 2 left in stock.</td>\n",
       "      <td>Tuesday, Feb 9</td>\n",
       "      <td>-</td>\n",
       "      <td></td>\n",
       "      <td>30 Days Returns</td>\n",
       "      <td>https://www.amazon.in/Satya-Paul-Womens-Tote-B...</td>\n",
       "    </tr>\n",
       "    <tr>\n",
       "      <th>7</th>\n",
       "      <td>WOMEN MARKS</td>\n",
       "      <td>Women's Handbag (NSB000059_Tan)</td>\n",
       "      <td>389</td>\n",
       "      <td>Only 3 left in stock.</td>\n",
       "      <td>Tuesday, Feb 9</td>\n",
       "      <td>-</td>\n",
       "      <td>25 ratings</td>\n",
       "      <td>30 Days Returns</td>\n",
       "      <td>https://www.amazon.in/gp/slredirect/picassoRed...</td>\n",
       "    </tr>\n",
       "    <tr>\n",
       "      <th>8</th>\n",
       "      <td>Fostelo</td>\n",
       "      <td>Women's Westside Handbag (Tan) (FSB-551)</td>\n",
       "      <td>566</td>\n",
       "      <td>Only 3 left in stock.</td>\n",
       "      <td>Tuesday, Feb 9</td>\n",
       "      <td>-</td>\n",
       "      <td>25 ratings</td>\n",
       "      <td>30 Days Returns</td>\n",
       "      <td>https://www.amazon.in/gp/slredirect/picassoRed...</td>\n",
       "    </tr>\n",
       "    <tr>\n",
       "      <th>9</th>\n",
       "      <td></td>\n",
       "      <td></td>\n",
       "      <td>597</td>\n",
       "      <td>Only 3 left in stock.</td>\n",
       "      <td>Tuesday, Feb 9</td>\n",
       "      <td>-</td>\n",
       "      <td></td>\n",
       "      <td>30 Days Returns</td>\n",
       "      <td>https://www.amazon.in/gp/slredirect/picassoRed...</td>\n",
       "    </tr>\n",
       "    <tr>\n",
       "      <th>10</th>\n",
       "      <td></td>\n",
       "      <td></td>\n",
       "      <td>424</td>\n",
       "      <td>Only 3 left in stock.</td>\n",
       "      <td>Tuesday, Feb 9</td>\n",
       "      <td>-</td>\n",
       "      <td></td>\n",
       "      <td>30 Days Returns</td>\n",
       "      <td>https://www.amazon.in/gp/slredirect/picassoRed...</td>\n",
       "    </tr>\n",
       "    <tr>\n",
       "      <th>11</th>\n",
       "      <td>Speed X Fashion</td>\n",
       "      <td>Women's Handbag (Set of 4, Black)</td>\n",
       "      <td>629</td>\n",
       "      <td>Only 3 left in stock.</td>\n",
       "      <td>Tuesday, Feb 9</td>\n",
       "      <td>-</td>\n",
       "      <td>1,273 ratings</td>\n",
       "      <td>30 Days Returns</td>\n",
       "      <td>https://www.amazon.in/gp/slredirect/picassoRed...</td>\n",
       "    </tr>\n",
       "    <tr>\n",
       "      <th>12</th>\n",
       "      <td>Mammon</td>\n",
       "      <td>Women's Handbag With Sling Bag &amp; Wristlet (Set...</td>\n",
       "      <td></td>\n",
       "      <td>Only 3 left in stock.</td>\n",
       "      <td>Tuesday, Feb 9</td>\n",
       "      <td>-</td>\n",
       "      <td>217 ratings</td>\n",
       "      <td>30 Days Returns</td>\n",
       "      <td>https://www.amazon.in/gp/slredirect/picassoRed...</td>\n",
       "    </tr>\n",
       "    <tr>\n",
       "      <th>13</th>\n",
       "      <td>Fristo</td>\n",
       "      <td>Women's Handbag (FRB-315_Red)</td>\n",
       "      <td></td>\n",
       "      <td>Only 2 left in stock.</td>\n",
       "      <td>Tuesday, Feb 9</td>\n",
       "      <td>-</td>\n",
       "      <td>142 ratings</td>\n",
       "      <td>30 Days Returns</td>\n",
       "      <td>https://www.amazon.in/gp/slredirect/picassoRed...</td>\n",
       "    </tr>\n",
       "    <tr>\n",
       "      <th>14</th>\n",
       "      <td>Mammon</td>\n",
       "      <td>Women's Handbag With Sling Bag &amp; Pouch (Set of...</td>\n",
       "      <td>606</td>\n",
       "      <td>Only 2 left in stock.</td>\n",
       "      <td>Tuesday, Feb 9</td>\n",
       "      <td>-</td>\n",
       "      <td>373 ratings</td>\n",
       "      <td>30 Days Returns</td>\n",
       "      <td>https://www.amazon.in/gp/slredirect/picassoRed...</td>\n",
       "    </tr>\n",
       "    <tr>\n",
       "      <th>15</th>\n",
       "      <td>INOVERA (LABEL)</td>\n",
       "      <td>Women Handbags Shoulder Hobo Bag Purse With Lo...</td>\n",
       "      <td>599</td>\n",
       "      <td>Only 2 left in stock.</td>\n",
       "      <td>Tuesday, Feb 9</td>\n",
       "      <td>-</td>\n",
       "      <td>24 ratings</td>\n",
       "      <td>30 Days Returns</td>\n",
       "      <td>https://www.amazon.in/gp/slredirect/picassoRed...</td>\n",
       "    </tr>\n",
       "    <tr>\n",
       "      <th>16</th>\n",
       "      <td>Sleema Fashion</td>\n",
       "      <td>Women's Shoulder Bag (Set of 2) (Sleema Fashio...</td>\n",
       "      <td>520</td>\n",
       "      <td>Only 2 left in stock.</td>\n",
       "      <td>Tuesday, Feb 9</td>\n",
       "      <td>-</td>\n",
       "      <td></td>\n",
       "      <td>30 Days Returns</td>\n",
       "      <td>https://www.amazon.in/gp/slredirect/picassoRed...</td>\n",
       "    </tr>\n",
       "    <tr>\n",
       "      <th>17</th>\n",
       "      <td>Fargo</td>\n",
       "      <td>PU Leather Latest Handbags For Women's Ladies ...</td>\n",
       "      <td>610</td>\n",
       "      <td>Only 3 left in stock.</td>\n",
       "      <td>Tuesday, Feb 9</td>\n",
       "      <td>-</td>\n",
       "      <td></td>\n",
       "      <td>30 Days Returns</td>\n",
       "      <td>https://www.amazon.in/gp/slredirect/picassoRed...</td>\n",
       "    </tr>\n",
       "    <tr>\n",
       "      <th>18</th>\n",
       "      <td>Fostelo</td>\n",
       "      <td>Women's Catlin Handbag (Maroon) (FSB-1033)</td>\n",
       "      <td>1,399</td>\n",
       "      <td>Only 3 left in stock.</td>\n",
       "      <td>Tuesday, Feb 9</td>\n",
       "      <td>-</td>\n",
       "      <td></td>\n",
       "      <td>30 Days Returns</td>\n",
       "      <td>https://www.amazon.in/gp/slredirect/picassoRed...</td>\n",
       "    </tr>\n",
       "    <tr>\n",
       "      <th>19</th>\n",
       "      <td>Fristo</td>\n",
       "      <td>Women's Handbag (FRB-321_Brown)</td>\n",
       "      <td>499</td>\n",
       "      <td>Only 2 left in stock.</td>\n",
       "      <td>Tuesday, Feb 9</td>\n",
       "      <td>-</td>\n",
       "      <td></td>\n",
       "      <td>30 Days Returns</td>\n",
       "      <td>https://www.amazon.in/gp/slredirect/picassoRed...</td>\n",
       "    </tr>\n",
       "    <tr>\n",
       "      <th>20</th>\n",
       "      <td>Mammon</td>\n",
       "      <td>Women's Tote Handbag (35X35 CM) (Tote-cycle-pi...</td>\n",
       "      <td>679</td>\n",
       "      <td>Only 2 left in stock.</td>\n",
       "      <td>Tuesday, Feb 9</td>\n",
       "      <td>-</td>\n",
       "      <td></td>\n",
       "      <td>30 Days Returns</td>\n",
       "      <td>https://www.amazon.in/gp/slredirect/picassoRed...</td>\n",
       "    </tr>\n",
       "    <tr>\n",
       "      <th>21</th>\n",
       "      <td>Mammon</td>\n",
       "      <td>Women's PU Leather Handbag Combo (4-teddy-pink)</td>\n",
       "      <td>629</td>\n",
       "      <td>Only 1 left in stock.</td>\n",
       "      <td>Tuesday, Feb 9</td>\n",
       "      <td>-</td>\n",
       "      <td></td>\n",
       "      <td>30 Days Returns</td>\n",
       "      <td>https://www.amazon.in/gp/slredirect/picassoRed...</td>\n",
       "    </tr>\n",
       "    <tr>\n",
       "      <th>22</th>\n",
       "      <td>Fiesto Fashion</td>\n",
       "      <td>Women's Handbag (Set of 3) (FIESTO33_Blue)</td>\n",
       "      <td>520</td>\n",
       "      <td>Only 1 left in stock.</td>\n",
       "      <td>Tuesday, Feb 9</td>\n",
       "      <td>-</td>\n",
       "      <td>87 ratings</td>\n",
       "      <td>30 Days Returns</td>\n",
       "      <td>https://www.amazon.in/gp/slredirect/picassoRed...</td>\n",
       "    </tr>\n",
       "    <tr>\n",
       "      <th>23</th>\n",
       "      <td>Bellina</td>\n",
       "      <td>Women's Handbag in Premium maroon color Should...</td>\n",
       "      <td>339</td>\n",
       "      <td>Only 3 left in stock.</td>\n",
       "      <td>Tuesday, Feb 9</td>\n",
       "      <td>-</td>\n",
       "      <td>87 ratings</td>\n",
       "      <td>30 Days Returns</td>\n",
       "      <td>https://www.amazon.in/gp/slredirect/picassoRed...</td>\n",
       "    </tr>\n",
       "    <tr>\n",
       "      <th>24</th>\n",
       "      <td>BELLISSA</td>\n",
       "      <td>Black Handbag for Women</td>\n",
       "      <td>699</td>\n",
       "      <td>Only 3 left in stock.</td>\n",
       "      <td>Tuesday, Feb 9</td>\n",
       "      <td>-</td>\n",
       "      <td></td>\n",
       "      <td>30 Days Returns</td>\n",
       "      <td>https://www.amazon.in/gp/slredirect/picassoRed...</td>\n",
       "    </tr>\n",
       "    <tr>\n",
       "      <th>25</th>\n",
       "      <td>Lino Perros</td>\n",
       "      <td>LEATHERETTE Satchel</td>\n",
       "      <td>652</td>\n",
       "      <td>In stock.</td>\n",
       "      <td>Tuesday, Feb 9</td>\n",
       "      <td>-</td>\n",
       "      <td></td>\n",
       "      <td>30 Days Returns</td>\n",
       "      <td>https://www.amazon.in/gp/slredirect/picassoRed...</td>\n",
       "    </tr>\n",
       "    <tr>\n",
       "      <th>26</th>\n",
       "      <td>Amazon Brand - Eden &amp; Ivy</td>\n",
       "      <td>Autumn-Winter'20 womens Amazon Brand - Eden &amp; ...</td>\n",
       "      <td>399</td>\n",
       "      <td>In stock.</td>\n",
       "      <td>Tuesday, Feb 9</td>\n",
       "      <td>-</td>\n",
       "      <td>1 rating</td>\n",
       "      <td>30 Days Returns</td>\n",
       "      <td>https://www.amazon.in/gp/slredirect/picassoRed...</td>\n",
       "    </tr>\n",
       "    <tr>\n",
       "      <th>27</th>\n",
       "      <td>Lino Perros</td>\n",
       "      <td>Womens Leatherette Hand Bag</td>\n",
       "      <td>1,399</td>\n",
       "      <td>Only 3 left in stock.</td>\n",
       "      <td>Tuesday, Feb 9</td>\n",
       "      <td>-</td>\n",
       "      <td>1 rating</td>\n",
       "      <td>30 Days Returns</td>\n",
       "      <td>https://www.amazon.in/gp/slredirect/picassoRed...</td>\n",
       "    </tr>\n",
       "    <tr>\n",
       "      <th>28</th>\n",
       "      <td>Envias</td>\n",
       "      <td>Women's Sling Bag (Blue)</td>\n",
       "      <td>1,499</td>\n",
       "      <td>Only 3 left in stock.</td>\n",
       "      <td>Tuesday, Feb 9</td>\n",
       "      <td>-</td>\n",
       "      <td>108 ratings</td>\n",
       "      <td>30 Days Returns</td>\n",
       "      <td>https://www.amazon.in/gp/slredirect/picassoRed...</td>\n",
       "    </tr>\n",
       "    <tr>\n",
       "      <th>29</th>\n",
       "      <td>Mammon</td>\n",
       "      <td>Women's Handbag (Set of 4) (4L-bib-Bpink_Pink)</td>\n",
       "      <td>520</td>\n",
       "      <td>Only 4 left in stock.</td>\n",
       "      <td>Tuesday, Feb 9</td>\n",
       "      <td>-</td>\n",
       "      <td>108 ratings</td>\n",
       "      <td>30 Days Returns</td>\n",
       "      <td>https://www.amazon.in/gp/slredirect/picassoRed...</td>\n",
       "    </tr>\n",
       "    <tr>\n",
       "      <th>30</th>\n",
       "      <td>ECOTARA</td>\n",
       "      <td>Premium Quality Natural Jute Lunch Bag for Men...</td>\n",
       "      <td>1,399</td>\n",
       "      <td>Only 4 left in stock.</td>\n",
       "      <td>Tuesday, Feb 9</td>\n",
       "      <td>-</td>\n",
       "      <td></td>\n",
       "      <td>30 Days Returns</td>\n",
       "      <td>https://www.amazon.in/gp/slredirect/picassoRed...</td>\n",
       "    </tr>\n",
       "    <tr>\n",
       "      <th>31</th>\n",
       "      <td>Mammon</td>\n",
       "      <td>Women's Handbag (LR-bib-blk_Black)</td>\n",
       "      <td>349</td>\n",
       "      <td>Only 1 left in stock.</td>\n",
       "      <td>Tuesday, Feb 9</td>\n",
       "      <td>-</td>\n",
       "      <td></td>\n",
       "      <td>30 Days Returns</td>\n",
       "      <td>https://www.amazon.in/gp/slredirect/picassoRed...</td>\n",
       "    </tr>\n",
       "    <tr>\n",
       "      <th>32</th>\n",
       "      <td>Fristo</td>\n",
       "      <td>Women's Handbag (Green)</td>\n",
       "      <td>704</td>\n",
       "      <td>Only 1 left in stock.</td>\n",
       "      <td>Tuesday, Feb 9</td>\n",
       "      <td>-</td>\n",
       "      <td></td>\n",
       "      <td>30 Days Returns</td>\n",
       "      <td>https://www.amazon.in/gp/slredirect/picassoRed...</td>\n",
       "    </tr>\n",
       "    <tr>\n",
       "      <th>33</th>\n",
       "      <td>Mammon</td>\n",
       "      <td>Women's Stylish Handbags Combo(3LR-bib-Green-Tie)</td>\n",
       "      <td>349</td>\n",
       "      <td>Only 3 left in stock.</td>\n",
       "      <td>Tuesday, Feb 9</td>\n",
       "      <td>-</td>\n",
       "      <td></td>\n",
       "      <td>30 Days Returns</td>\n",
       "      <td>https://www.amazon.in/gp/slredirect/picassoRed...</td>\n",
       "    </tr>\n",
       "    <tr>\n",
       "      <th>34</th>\n",
       "      <td>ASTIR COLLEEN</td>\n",
       "      <td>Women's Shoulder Bag</td>\n",
       "      <td>403</td>\n",
       "      <td>Only 3 left in stock.</td>\n",
       "      <td>Tuesday, Feb 9</td>\n",
       "      <td>-</td>\n",
       "      <td></td>\n",
       "      <td>30 Days Returns</td>\n",
       "      <td>https://www.amazon.in/gp/slredirect/picassoRed...</td>\n",
       "    </tr>\n",
       "    <tr>\n",
       "      <th>35</th>\n",
       "      <td>Le Platinum</td>\n",
       "      <td>PU Leather Handbags For Women's Ladies Combo O...</td>\n",
       "      <td>520</td>\n",
       "      <td>In stock.</td>\n",
       "      <td>Tuesday, Feb 9</td>\n",
       "      <td>-</td>\n",
       "      <td></td>\n",
       "      <td>30 Days Returns</td>\n",
       "      <td>https://www.amazon.in/gp/slredirect/picassoRed...</td>\n",
       "    </tr>\n",
       "    <tr>\n",
       "      <th>36</th>\n",
       "      <td>Fargo</td>\n",
       "      <td>PU Leather Latest Handbags For Women's Ladies ...</td>\n",
       "      <td>610</td>\n",
       "      <td>In stock.</td>\n",
       "      <td>Tuesday, Feb 9</td>\n",
       "      <td>-</td>\n",
       "      <td>81 ratings</td>\n",
       "      <td>30 Days Returns</td>\n",
       "      <td>https://www.amazon.in/gp/slredirect/picassoRed...</td>\n",
       "    </tr>\n",
       "    <tr>\n",
       "      <th>37</th>\n",
       "      <td>BABES &amp; BABAS</td>\n",
       "      <td>Girls, Women's Printed Faux Leather Tote Bag |...</td>\n",
       "      <td>329</td>\n",
       "      <td>Only 2 left in stock.</td>\n",
       "      <td>Tuesday, Feb 9</td>\n",
       "      <td>-</td>\n",
       "      <td>87 ratings</td>\n",
       "      <td>30 Days Returns</td>\n",
       "      <td>https://www.amazon.in/gp/slredirect/picassoRed...</td>\n",
       "    </tr>\n",
       "    <tr>\n",
       "      <th>38</th>\n",
       "      <td>Aisna</td>\n",
       "      <td>Women's Handbag (ASN-135_Purple)</td>\n",
       "      <td>499</td>\n",
       "      <td>Only 2 left in stock.</td>\n",
       "      <td>Tuesday, Feb 9</td>\n",
       "      <td>-</td>\n",
       "      <td>87 ratings</td>\n",
       "      <td>30 Days Returns</td>\n",
       "      <td>https://www.amazon.in/gp/slredirect/picassoRed...</td>\n",
       "    </tr>\n",
       "    <tr>\n",
       "      <th>39</th>\n",
       "      <td>Mammon</td>\n",
       "      <td>Women's Handbag &amp; Sling Bag (Set of 3) (3LR-bi...</td>\n",
       "      <td>679</td>\n",
       "      <td>Only 2 left in stock.</td>\n",
       "      <td>Tuesday, Feb 9</td>\n",
       "      <td>-</td>\n",
       "      <td></td>\n",
       "      <td>30 Days Returns</td>\n",
       "      <td>https://www.amazon.in/gp/slredirect/picassoRed...</td>\n",
       "    </tr>\n",
       "    <tr>\n",
       "      <th>40</th>\n",
       "      <td>addixon</td>\n",
       "      <td>Women's Handbag</td>\n",
       "      <td>599</td>\n",
       "      <td>Only 2 left in stock.</td>\n",
       "      <td>Tuesday, Feb 9</td>\n",
       "      <td>-</td>\n",
       "      <td></td>\n",
       "      <td>30 Days Returns</td>\n",
       "      <td>https://www.amazon.in/gp/slredirect/picassoRed...</td>\n",
       "    </tr>\n",
       "    <tr>\n",
       "      <th>41</th>\n",
       "      <td>Fostelo</td>\n",
       "      <td>Women's Style Diva Handbag (Tan) (FSB-396)</td>\n",
       "      <td>559</td>\n",
       "      <td>Only 3 left in stock.</td>\n",
       "      <td>Tuesday, Feb 9</td>\n",
       "      <td>-</td>\n",
       "      <td></td>\n",
       "      <td>30 Days Returns</td>\n",
       "      <td>https://www.amazon.in/gp/slredirect/picassoRed...</td>\n",
       "    </tr>\n",
       "    <tr>\n",
       "      <th>42</th>\n",
       "      <td>Mammon</td>\n",
       "      <td>Women's Handbag Set (Pista)</td>\n",
       "      <td>610</td>\n",
       "      <td>Only 3 left in stock.</td>\n",
       "      <td>Tuesday, Feb 9</td>\n",
       "      <td>-</td>\n",
       "      <td></td>\n",
       "      <td>30 Days Returns</td>\n",
       "      <td>https://www.amazon.in/gp/slredirect/picassoRed...</td>\n",
       "    </tr>\n",
       "    <tr>\n",
       "      <th>43</th>\n",
       "      <td>Bizanne Fashion</td>\n",
       "      <td>Women Handbag Combo (Set of 4) (Grey)</td>\n",
       "      <td>699</td>\n",
       "      <td>Only 3 left in stock.</td>\n",
       "      <td>Tuesday, Feb 9</td>\n",
       "      <td>-</td>\n",
       "      <td>25 ratings</td>\n",
       "      <td>30 Days Returns</td>\n",
       "      <td>https://www.amazon.in/gp/slredirect/picassoRed...</td>\n",
       "    </tr>\n",
       "    <tr>\n",
       "      <th>44</th>\n",
       "      <td>Bellina</td>\n",
       "      <td>Women's Shoulder bag &amp; wallet (Maroon)</td>\n",
       "      <td>629</td>\n",
       "      <td>Only 3 left in stock.</td>\n",
       "      <td>Tuesday, Feb 9</td>\n",
       "      <td>-</td>\n",
       "      <td>25 ratings</td>\n",
       "      <td>30 Days Returns</td>\n",
       "      <td>https://www.amazon.in/gp/slredirect/picassoRed...</td>\n",
       "    </tr>\n",
       "    <tr>\n",
       "      <th>45</th>\n",
       "      <td>Da Milano</td>\n",
       "      <td>Genuine Leather Blue Women Sling Bag</td>\n",
       "      <td>699</td>\n",
       "      <td>Only 2 left in stock.</td>\n",
       "      <td>Tuesday, Feb 9</td>\n",
       "      <td>-</td>\n",
       "      <td></td>\n",
       "      <td>30 Days Returns</td>\n",
       "      <td>https://www.amazon.in/gp/slredirect/picassoRed...</td>\n",
       "    </tr>\n",
       "    <tr>\n",
       "      <th>46</th>\n",
       "      <td>Bellina</td>\n",
       "      <td>Women's Shoulder Bag with Wallet (Set of 2, Bl...</td>\n",
       "      <td>649</td>\n",
       "      <td>Only 2 left in stock.</td>\n",
       "      <td>Tuesday, Feb 9</td>\n",
       "      <td>-</td>\n",
       "      <td></td>\n",
       "      <td>30 Days Returns</td>\n",
       "      <td>https://www.amazon.in/gp/slredirect/picassoRed...</td>\n",
       "    </tr>\n",
       "  </tbody>\n",
       "</table>\n",
       "</div>"
      ],
      "text/plain": [
       "                   brand name  \\\n",
       "0                       Lavie   \n",
       "1                    BELLISSA   \n",
       "2                    BELLISSA   \n",
       "3                    BELLISSA   \n",
       "4                   Star Dust   \n",
       "5                     Vintage   \n",
       "6             Speed X Fashion   \n",
       "7                 WOMEN MARKS   \n",
       "8                     Fostelo   \n",
       "9                               \n",
       "10                              \n",
       "11            Speed X Fashion   \n",
       "12                     Mammon   \n",
       "13                     Fristo   \n",
       "14                     Mammon   \n",
       "15            INOVERA (LABEL)   \n",
       "16             Sleema Fashion   \n",
       "17                      Fargo   \n",
       "18                    Fostelo   \n",
       "19                     Fristo   \n",
       "20                     Mammon   \n",
       "21                     Mammon   \n",
       "22             Fiesto Fashion   \n",
       "23                    Bellina   \n",
       "24                   BELLISSA   \n",
       "25                Lino Perros   \n",
       "26  Amazon Brand - Eden & Ivy   \n",
       "27                Lino Perros   \n",
       "28                     Envias   \n",
       "29                     Mammon   \n",
       "30                    ECOTARA   \n",
       "31                     Mammon   \n",
       "32                     Fristo   \n",
       "33                     Mammon   \n",
       "34              ASTIR COLLEEN   \n",
       "35                Le Platinum   \n",
       "36                      Fargo   \n",
       "37              BABES & BABAS   \n",
       "38                      Aisna   \n",
       "39                     Mammon   \n",
       "40                    addixon   \n",
       "41                    Fostelo   \n",
       "42                     Mammon   \n",
       "43            Bizanne Fashion   \n",
       "44                    Bellina   \n",
       "45                  Da Milano   \n",
       "46                    Bellina   \n",
       "\n",
       "                                         product name  price  \\\n",
       "0                             Betula Women's Tote Bag    629   \n",
       "1           Maroon PU Leather Combo Handbag for Women    629   \n",
       "2                             Brown Handbag for Women          \n",
       "3                    Women's Handbag (Set of 2, Pink)  1,490   \n",
       "4                                    Women's Tote Bag  1,599   \n",
       "5   Women's Handbag with Pouch (Off-White) (Set of 3)  1,399   \n",
       "6                   Women's Handbag (NSB-010-Tan_Tan)  1,599   \n",
       "7                     Women's Handbag (NSB000059_Tan)    389   \n",
       "8            Women's Westside Handbag (Tan) (FSB-551)    566   \n",
       "9                                                        597   \n",
       "10                                                       424   \n",
       "11                  Women's Handbag (Set of 4, Black)    629   \n",
       "12  Women's Handbag With Sling Bag & Wristlet (Set...          \n",
       "13                      Women's Handbag (FRB-315_Red)          \n",
       "14  Women's Handbag With Sling Bag & Pouch (Set of...    606   \n",
       "15  Women Handbags Shoulder Hobo Bag Purse With Lo...    599   \n",
       "16  Women's Shoulder Bag (Set of 2) (Sleema Fashio...    520   \n",
       "17  PU Leather Latest Handbags For Women's Ladies ...    610   \n",
       "18         Women's Catlin Handbag (Maroon) (FSB-1033)  1,399   \n",
       "19                    Women's Handbag (FRB-321_Brown)    499   \n",
       "20  Women's Tote Handbag (35X35 CM) (Tote-cycle-pi...    679   \n",
       "21    Women's PU Leather Handbag Combo (4-teddy-pink)    629   \n",
       "22         Women's Handbag (Set of 3) (FIESTO33_Blue)    520   \n",
       "23  Women's Handbag in Premium maroon color Should...    339   \n",
       "24                            Black Handbag for Women    699   \n",
       "25                                LEATHERETTE Satchel    652   \n",
       "26  Autumn-Winter'20 womens Amazon Brand - Eden & ...    399   \n",
       "27                        Womens Leatherette Hand Bag  1,399   \n",
       "28                           Women's Sling Bag (Blue)  1,499   \n",
       "29     Women's Handbag (Set of 4) (4L-bib-Bpink_Pink)    520   \n",
       "30  Premium Quality Natural Jute Lunch Bag for Men...  1,399   \n",
       "31                 Women's Handbag (LR-bib-blk_Black)    349   \n",
       "32                            Women's Handbag (Green)    704   \n",
       "33  Women's Stylish Handbags Combo(3LR-bib-Green-Tie)    349   \n",
       "34                               Women's Shoulder Bag    403   \n",
       "35  PU Leather Handbags For Women's Ladies Combo O...    520   \n",
       "36  PU Leather Latest Handbags For Women's Ladies ...    610   \n",
       "37  Girls, Women's Printed Faux Leather Tote Bag |...    329   \n",
       "38                   Women's Handbag (ASN-135_Purple)    499   \n",
       "39  Women's Handbag & Sling Bag (Set of 3) (3LR-bi...    679   \n",
       "40                                    Women's Handbag    599   \n",
       "41         Women's Style Diva Handbag (Tan) (FSB-396)    559   \n",
       "42                        Women's Handbag Set (Pista)    610   \n",
       "43              Women Handbag Combo (Set of 4) (Grey)    699   \n",
       "44             Women's Shoulder bag & wallet (Maroon)    629   \n",
       "45               Genuine Leather Blue Women Sling Bag    699   \n",
       "46  Women's Shoulder Bag with Wallet (Set of 2, Bl...    649   \n",
       "\n",
       "             availability         delivery Ratings  no_of_ratings  \\\n",
       "0   Only 2 left in stock.   Tuesday, Feb 9       -     81 ratings   \n",
       "1   Only 3 left in stock.   Tuesday, Feb 9       -     87 ratings   \n",
       "2   Only 3 left in stock.   Tuesday, Feb 9       -     87 ratings   \n",
       "3   Only 2 left in stock.   Tuesday, Feb 9       -                  \n",
       "4   Only 1 left in stock.        Feb 8 - 9       -                  \n",
       "5               In stock.  Saturday, Feb 6       -                  \n",
       "6   Only 2 left in stock.   Tuesday, Feb 9       -                  \n",
       "7   Only 3 left in stock.   Tuesday, Feb 9       -     25 ratings   \n",
       "8   Only 3 left in stock.   Tuesday, Feb 9       -     25 ratings   \n",
       "9   Only 3 left in stock.   Tuesday, Feb 9       -                  \n",
       "10  Only 3 left in stock.   Tuesday, Feb 9       -                  \n",
       "11  Only 3 left in stock.   Tuesday, Feb 9       -  1,273 ratings   \n",
       "12  Only 3 left in stock.   Tuesday, Feb 9       -    217 ratings   \n",
       "13  Only 2 left in stock.   Tuesday, Feb 9       -    142 ratings   \n",
       "14  Only 2 left in stock.   Tuesday, Feb 9       -    373 ratings   \n",
       "15  Only 2 left in stock.   Tuesday, Feb 9       -     24 ratings   \n",
       "16  Only 2 left in stock.   Tuesday, Feb 9       -                  \n",
       "17  Only 3 left in stock.   Tuesday, Feb 9       -                  \n",
       "18  Only 3 left in stock.   Tuesday, Feb 9       -                  \n",
       "19  Only 2 left in stock.   Tuesday, Feb 9       -                  \n",
       "20  Only 2 left in stock.   Tuesday, Feb 9       -                  \n",
       "21  Only 1 left in stock.   Tuesday, Feb 9       -                  \n",
       "22  Only 1 left in stock.   Tuesday, Feb 9       -     87 ratings   \n",
       "23  Only 3 left in stock.   Tuesday, Feb 9       -     87 ratings   \n",
       "24  Only 3 left in stock.   Tuesday, Feb 9       -                  \n",
       "25              In stock.   Tuesday, Feb 9       -                  \n",
       "26              In stock.   Tuesday, Feb 9       -       1 rating   \n",
       "27  Only 3 left in stock.   Tuesday, Feb 9       -       1 rating   \n",
       "28  Only 3 left in stock.   Tuesday, Feb 9       -    108 ratings   \n",
       "29  Only 4 left in stock.   Tuesday, Feb 9       -    108 ratings   \n",
       "30  Only 4 left in stock.   Tuesday, Feb 9       -                  \n",
       "31  Only 1 left in stock.   Tuesday, Feb 9       -                  \n",
       "32  Only 1 left in stock.   Tuesday, Feb 9       -                  \n",
       "33  Only 3 left in stock.   Tuesday, Feb 9       -                  \n",
       "34  Only 3 left in stock.   Tuesday, Feb 9       -                  \n",
       "35              In stock.   Tuesday, Feb 9       -                  \n",
       "36              In stock.   Tuesday, Feb 9       -     81 ratings   \n",
       "37  Only 2 left in stock.   Tuesday, Feb 9       -     87 ratings   \n",
       "38  Only 2 left in stock.   Tuesday, Feb 9       -     87 ratings   \n",
       "39  Only 2 left in stock.   Tuesday, Feb 9       -                  \n",
       "40  Only 2 left in stock.   Tuesday, Feb 9       -                  \n",
       "41  Only 3 left in stock.   Tuesday, Feb 9       -                  \n",
       "42  Only 3 left in stock.   Tuesday, Feb 9       -                  \n",
       "43  Only 3 left in stock.   Tuesday, Feb 9       -     25 ratings   \n",
       "44  Only 3 left in stock.   Tuesday, Feb 9       -     25 ratings   \n",
       "45  Only 2 left in stock.   Tuesday, Feb 9       -                  \n",
       "46  Only 2 left in stock.   Tuesday, Feb 9       -                  \n",
       "\n",
       "             return                                                URL  \n",
       "0   30 Days Returns  https://www.amazon.in/dp/B08NXP5H9R/ref=sspa_d...  \n",
       "1   30 Days Returns  https://www.amazon.in/Satya-Paul-Womens-Should...  \n",
       "2   30 Days Returns  https://www.amazon.in/Satya-Paul-Womens-Should...  \n",
       "3   30 Days Returns  https://www.amazon.in/Satya-Paul-Womens-Should...  \n",
       "4   30 Days Returns  https://www.amazon.in/Fastrack-Womens-Shoulder...  \n",
       "5   Pay on Delivery  https://www.amazon.in/TOUARETAILS-Womens-Shoul...  \n",
       "6   30 Days Returns  https://www.amazon.in/Satya-Paul-Womens-Tote-B...  \n",
       "7   30 Days Returns  https://www.amazon.in/gp/slredirect/picassoRed...  \n",
       "8   30 Days Returns  https://www.amazon.in/gp/slredirect/picassoRed...  \n",
       "9   30 Days Returns  https://www.amazon.in/gp/slredirect/picassoRed...  \n",
       "10  30 Days Returns  https://www.amazon.in/gp/slredirect/picassoRed...  \n",
       "11  30 Days Returns  https://www.amazon.in/gp/slredirect/picassoRed...  \n",
       "12  30 Days Returns  https://www.amazon.in/gp/slredirect/picassoRed...  \n",
       "13  30 Days Returns  https://www.amazon.in/gp/slredirect/picassoRed...  \n",
       "14  30 Days Returns  https://www.amazon.in/gp/slredirect/picassoRed...  \n",
       "15  30 Days Returns  https://www.amazon.in/gp/slredirect/picassoRed...  \n",
       "16  30 Days Returns  https://www.amazon.in/gp/slredirect/picassoRed...  \n",
       "17  30 Days Returns  https://www.amazon.in/gp/slredirect/picassoRed...  \n",
       "18  30 Days Returns  https://www.amazon.in/gp/slredirect/picassoRed...  \n",
       "19  30 Days Returns  https://www.amazon.in/gp/slredirect/picassoRed...  \n",
       "20  30 Days Returns  https://www.amazon.in/gp/slredirect/picassoRed...  \n",
       "21  30 Days Returns  https://www.amazon.in/gp/slredirect/picassoRed...  \n",
       "22  30 Days Returns  https://www.amazon.in/gp/slredirect/picassoRed...  \n",
       "23  30 Days Returns  https://www.amazon.in/gp/slredirect/picassoRed...  \n",
       "24  30 Days Returns  https://www.amazon.in/gp/slredirect/picassoRed...  \n",
       "25  30 Days Returns  https://www.amazon.in/gp/slredirect/picassoRed...  \n",
       "26  30 Days Returns  https://www.amazon.in/gp/slredirect/picassoRed...  \n",
       "27  30 Days Returns  https://www.amazon.in/gp/slredirect/picassoRed...  \n",
       "28  30 Days Returns  https://www.amazon.in/gp/slredirect/picassoRed...  \n",
       "29  30 Days Returns  https://www.amazon.in/gp/slredirect/picassoRed...  \n",
       "30  30 Days Returns  https://www.amazon.in/gp/slredirect/picassoRed...  \n",
       "31  30 Days Returns  https://www.amazon.in/gp/slredirect/picassoRed...  \n",
       "32  30 Days Returns  https://www.amazon.in/gp/slredirect/picassoRed...  \n",
       "33  30 Days Returns  https://www.amazon.in/gp/slredirect/picassoRed...  \n",
       "34  30 Days Returns  https://www.amazon.in/gp/slredirect/picassoRed...  \n",
       "35  30 Days Returns  https://www.amazon.in/gp/slredirect/picassoRed...  \n",
       "36  30 Days Returns  https://www.amazon.in/gp/slredirect/picassoRed...  \n",
       "37  30 Days Returns  https://www.amazon.in/gp/slredirect/picassoRed...  \n",
       "38  30 Days Returns  https://www.amazon.in/gp/slredirect/picassoRed...  \n",
       "39  30 Days Returns  https://www.amazon.in/gp/slredirect/picassoRed...  \n",
       "40  30 Days Returns  https://www.amazon.in/gp/slredirect/picassoRed...  \n",
       "41  30 Days Returns  https://www.amazon.in/gp/slredirect/picassoRed...  \n",
       "42  30 Days Returns  https://www.amazon.in/gp/slredirect/picassoRed...  \n",
       "43  30 Days Returns  https://www.amazon.in/gp/slredirect/picassoRed...  \n",
       "44  30 Days Returns  https://www.amazon.in/gp/slredirect/picassoRed...  \n",
       "45  30 Days Returns  https://www.amazon.in/gp/slredirect/picassoRed...  \n",
       "46  30 Days Returns  https://www.amazon.in/gp/slredirect/picassoRed...  "
      ]
     },
     "execution_count": 107,
     "metadata": {},
     "output_type": "execute_result"
    }
   ],
   "source": [
    "bags=pd.DataFrame({'brand name':Name[0:47],'product name':Product[0:47],'price':price[0:47],'availability':availability[0:47],'delivery':delivery[0:47],\n",
    "'Ratings':ratings[0:47],'no_of_ratings':ratingss[0:47],'return':reurn[0:47],'URL':UR[0:47]})\n",
    "bags"
   ]
  },
  {
   "cell_type": "markdown",
   "metadata": {},
   "source": [
    "### 3. Write a python program to access the search bar and search button on images.google.com and scrape 100 images each for keywords ‘fruits’, ‘cars’ and ‘Machine Learning’"
   ]
  },
  {
   "cell_type": "code",
   "execution_count": 51,
   "metadata": {},
   "outputs": [],
   "source": [
    "#import all the required libraries\n",
    "import pandas as pd\n",
    "import selenium\n",
    "from selenium import webdriver\n",
    "from selenium.common.exceptions import StaleElementReferenceException, NoSuchElementException\n"
   ]
  },
  {
   "cell_type": "code",
   "execution_count": 102,
   "metadata": {},
   "outputs": [],
   "source": [
    "driver=webdriver.Chrome(r\"C:\\Users\\Hp\\Desktop\\chromedriver.exe\")"
   ]
  },
  {
   "cell_type": "code",
   "execution_count": 15,
   "metadata": {},
   "outputs": [],
   "source": [
    "driver.get(\"https://images.google.com/?gws_rd=ssl\")\n"
   ]
  },
  {
   "cell_type": "code",
   "execution_count": 7,
   "metadata": {},
   "outputs": [],
   "source": [
    "search_field_things=driver.find_element_by_xpath(\"//div[@class='a4bIc']/input\")\n",
    "\n",
    "search_field_things.send_keys(\"fruits\")\n",
    "\n",
    "# clicking the search button\n",
    "search_button=driver.find_element_by_xpath(\"//span[@class='z1asCe MZy1Rb']\")\n",
    "search_button.click()"
   ]
  },
  {
   "cell_type": "code",
   "execution_count": 8,
   "metadata": {},
   "outputs": [],
   "source": [
    "fruits=[]"
   ]
  },
  {
   "cell_type": "code",
   "execution_count": 9,
   "metadata": {},
   "outputs": [
    {
     "data": {
      "text/plain": [
       "[<selenium.webdriver.remote.webelement.WebElement (session=\"6fa8f1139a024df13d044d4c9fa9a3b1\", element=\"4cfdbf59-8ea4-4f57-9455-dcc7cba3a518\")>,\n",
       " <selenium.webdriver.remote.webelement.WebElement (session=\"6fa8f1139a024df13d044d4c9fa9a3b1\", element=\"bc6a9ff7-404f-411a-b1e8-e46c1215de1f\")>,\n",
       " <selenium.webdriver.remote.webelement.WebElement (session=\"6fa8f1139a024df13d044d4c9fa9a3b1\", element=\"4aa46620-4855-4adf-8089-a182340121c3\")>,\n",
       " <selenium.webdriver.remote.webelement.WebElement (session=\"6fa8f1139a024df13d044d4c9fa9a3b1\", element=\"31f08a0d-5356-4073-8a09-30e3025eeb1c\")>]"
      ]
     },
     "execution_count": 9,
     "metadata": {},
     "output_type": "execute_result"
    }
   ],
   "source": [
    "image_tags=driver.find_elements_by_xpath(\"//div[@class='bRMDJf islir']/img\")\n",
    "image_tags[0:4]"
   ]
  },
  {
   "cell_type": "code",
   "execution_count": 11,
   "metadata": {},
   "outputs": [
    {
     "data": {
      "text/plain": [
       "['data:image/jpeg;base64,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',\n",
       " 'data:image/jpeg;base64,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']"
      ]
     },
     "execution_count": 11,
     "metadata": {},
     "output_type": "execute_result"
    }
   ],
   "source": [
    "for i in image_tags:\n",
    "    fruits.append(i.get_attribute('src'))\n",
    "fruits[0:2]"
   ]
  },
  {
   "cell_type": "code",
   "execution_count": null,
   "metadata": {},
   "outputs": [],
   "source": [
    "driver.get(\"https://images.google.com/?gws_rd=ssl\")\n"
   ]
  },
  {
   "cell_type": "code",
   "execution_count": 16,
   "metadata": {},
   "outputs": [],
   "source": [
    "search_field_things=driver.find_element_by_xpath(\"//div[@class='a4bIc']/input\")\n",
    "\n",
    "search_field_things.send_keys(\"cars\")\n",
    "\n",
    "# clicking the search button\n",
    "search_button=driver.find_element_by_xpath(\"//span[@class='z1asCe MZy1Rb']\")\n",
    "search_button.click()"
   ]
  },
  {
   "cell_type": "code",
   "execution_count": 17,
   "metadata": {},
   "outputs": [
    {
     "data": {
      "text/plain": [
       "[<selenium.webdriver.remote.webelement.WebElement (session=\"92457be438f2010312f23a202cf957ef\", element=\"48b36ab3-f63e-448b-9849-cee20bf9222f\")>,\n",
       " <selenium.webdriver.remote.webelement.WebElement (session=\"92457be438f2010312f23a202cf957ef\", element=\"0fc6ebd4-6d2e-4d1c-8ff1-e822dde7f242\")>,\n",
       " <selenium.webdriver.remote.webelement.WebElement (session=\"92457be438f2010312f23a202cf957ef\", element=\"c3f48f45-6f64-4aa8-849f-469431a30748\")>,\n",
       " <selenium.webdriver.remote.webelement.WebElement (session=\"92457be438f2010312f23a202cf957ef\", element=\"176ef7da-3fe1-4eef-b115-b08db21ffcc6\")>]"
      ]
     },
     "execution_count": 17,
     "metadata": {},
     "output_type": "execute_result"
    }
   ],
   "source": [
    "image_tags=driver.find_elements_by_xpath(\"//div[@class='bRMDJf islir']/img\")\n",
    "image_tags[0:4]"
   ]
  },
  {
   "cell_type": "code",
   "execution_count": 29,
   "metadata": {},
   "outputs": [
    {
     "data": {
      "text/plain": [
       "['data:image/jpeg;base64,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',\n",
       " 'data:image/jpeg;base64,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']"
      ]
     },
     "execution_count": 29,
     "metadata": {},
     "output_type": "execute_result"
    }
   ],
   "source": [
    "car=[]\n",
    "for j in range(0,2):\n",
    "    for i in image_tags:\n",
    "        if i.text is None :\n",
    "            car.append(\"--\") \n",
    "        else:\n",
    "            car.append(i.get_attribute('src'))\n",
    "            \n",
    "car[0:2]"
   ]
  },
  {
   "cell_type": "code",
   "execution_count": 31,
   "metadata": {},
   "outputs": [],
   "source": [
    "driver.get(\"https://images.google.com/?gws_rd=ssl\")\n"
   ]
  },
  {
   "cell_type": "code",
   "execution_count": 32,
   "metadata": {},
   "outputs": [],
   "source": [
    "search_field_things=driver.find_element_by_xpath(\"//div[@class='a4bIc']/input\")\n",
    "\n",
    "search_field_things.send_keys(\"Machine Learning\")\n",
    "\n",
    "# clicking the search button\n",
    "search_button=driver.find_element_by_xpath(\"//span[@class='z1asCe MZy1Rb']\")\n",
    "search_button.click()"
   ]
  },
  {
   "cell_type": "code",
   "execution_count": 33,
   "metadata": {},
   "outputs": [
    {
     "data": {
      "text/plain": [
       "[<selenium.webdriver.remote.webelement.WebElement (session=\"92457be438f2010312f23a202cf957ef\", element=\"d4436e51-637b-49d9-b636-1498b0a53460\")>,\n",
       " <selenium.webdriver.remote.webelement.WebElement (session=\"92457be438f2010312f23a202cf957ef\", element=\"33c7f8da-828d-44fd-9359-739544dd1af0\")>,\n",
       " <selenium.webdriver.remote.webelement.WebElement (session=\"92457be438f2010312f23a202cf957ef\", element=\"536a68cc-fff6-4a8d-9c5d-456769734d3e\")>,\n",
       " <selenium.webdriver.remote.webelement.WebElement (session=\"92457be438f2010312f23a202cf957ef\", element=\"5750d866-891d-4df9-866d-496ceea93aef\")>]"
      ]
     },
     "execution_count": 33,
     "metadata": {},
     "output_type": "execute_result"
    }
   ],
   "source": [
    "image_tags=driver.find_elements_by_xpath(\"//div[@class='bRMDJf islir']/img\")\n",
    "image_tags[0:4]"
   ]
  },
  {
   "cell_type": "code",
   "execution_count": 45,
   "metadata": {},
   "outputs": [
    {
     "data": {
      "text/plain": [
       "['data:image/jpeg;base64,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',\n",
       " 'data:image/jpeg;base64,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']"
      ]
     },
     "execution_count": 45,
     "metadata": {},
     "output_type": "execute_result"
    }
   ],
   "source": [
    "mlrngs=[]\n",
    "for j in range(0,2):\n",
    "    for i in image_tags:\n",
    "        if i.get_attribute('src') is None :\n",
    "            mlrngs.append(\"--\") \n",
    "        else:\n",
    "            mlrngs.append(i.get_attribute('src'))\n",
    "            \n",
    "mlrngs[0:2]"
   ]
  },
  {
   "cell_type": "code",
   "execution_count": 46,
   "metadata": {},
   "outputs": [],
   "source": [
    "images=pd.DataFrame({})\n",
    "images['fruits']=fruits[0:100]\n",
    "images['cars']=car[0:100]\n",
    "images['Machine Learning ']=mlrngs[0:100]\n"
   ]
  },
  {
   "cell_type": "code",
   "execution_count": 47,
   "metadata": {},
   "outputs": [
    {
     "data": {
      "text/html": [
       "<div>\n",
       "<style scoped>\n",
       "    .dataframe tbody tr th:only-of-type {\n",
       "        vertical-align: middle;\n",
       "    }\n",
       "\n",
       "    .dataframe tbody tr th {\n",
       "        vertical-align: top;\n",
       "    }\n",
       "\n",
       "    .dataframe thead th {\n",
       "        text-align: right;\n",
       "    }\n",
       "</style>\n",
       "<table border=\"1\" class=\"dataframe\">\n",
       "  <thead>\n",
       "    <tr style=\"text-align: right;\">\n",
       "      <th></th>\n",
       "      <th>fruits</th>\n",
       "      <th>cars</th>\n",
       "      <th>Machine Learning</th>\n",
       "    </tr>\n",
       "  </thead>\n",
       "  <tbody>\n",
       "    <tr>\n",
       "      <th>0</th>\n",
       "      <td>data:image/jpeg;base64,/9j/4AAQSkZJRgABAQAAAQA...</td>\n",
       "      <td>data:image/jpeg;base64,/9j/4AAQSkZJRgABAQAAAQA...</td>\n",
       "      <td>data:image/jpeg;base64,/9j/4AAQSkZJRgABAQAAAQA...</td>\n",
       "    </tr>\n",
       "    <tr>\n",
       "      <th>1</th>\n",
       "      <td>data:image/jpeg;base64,/9j/4AAQSkZJRgABAQAAAQA...</td>\n",
       "      <td>data:image/jpeg;base64,/9j/4AAQSkZJRgABAQAAAQA...</td>\n",
       "      <td>data:image/jpeg;base64,/9j/4AAQSkZJRgABAQAAAQA...</td>\n",
       "    </tr>\n",
       "    <tr>\n",
       "      <th>2</th>\n",
       "      <td>data:image/jpeg;base64,/9j/4AAQSkZJRgABAQAAAQA...</td>\n",
       "      <td>data:image/jpeg;base64,/9j/4AAQSkZJRgABAQAAAQA...</td>\n",
       "      <td>data:image/jpeg;base64,/9j/4AAQSkZJRgABAQAAAQA...</td>\n",
       "    </tr>\n",
       "    <tr>\n",
       "      <th>3</th>\n",
       "      <td>data:image/jpeg;base64,/9j/4AAQSkZJRgABAQAAAQA...</td>\n",
       "      <td>data:image/jpeg;base64,/9j/4AAQSkZJRgABAQAAAQA...</td>\n",
       "      <td>data:image/jpeg;base64,/9j/4AAQSkZJRgABAQAAAQA...</td>\n",
       "    </tr>\n",
       "    <tr>\n",
       "      <th>4</th>\n",
       "      <td>data:image/jpeg;base64,/9j/4AAQSkZJRgABAQAAAQA...</td>\n",
       "      <td>data:image/png;base64,iVBORw0KGgoAAAANSUhEUgAA...</td>\n",
       "      <td>data:image/png;base64,iVBORw0KGgoAAAANSUhEUgAA...</td>\n",
       "    </tr>\n",
       "    <tr>\n",
       "      <th>...</th>\n",
       "      <td>...</td>\n",
       "      <td>...</td>\n",
       "      <td>...</td>\n",
       "    </tr>\n",
       "    <tr>\n",
       "      <th>93</th>\n",
       "      <td>None</td>\n",
       "      <td>None</td>\n",
       "      <td>--</td>\n",
       "    </tr>\n",
       "    <tr>\n",
       "      <th>94</th>\n",
       "      <td>None</td>\n",
       "      <td>None</td>\n",
       "      <td>--</td>\n",
       "    </tr>\n",
       "    <tr>\n",
       "      <th>95</th>\n",
       "      <td>None</td>\n",
       "      <td>None</td>\n",
       "      <td>--</td>\n",
       "    </tr>\n",
       "    <tr>\n",
       "      <th>96</th>\n",
       "      <td>None</td>\n",
       "      <td>None</td>\n",
       "      <td>--</td>\n",
       "    </tr>\n",
       "    <tr>\n",
       "      <th>97</th>\n",
       "      <td>None</td>\n",
       "      <td>None</td>\n",
       "      <td>--</td>\n",
       "    </tr>\n",
       "  </tbody>\n",
       "</table>\n",
       "<p>98 rows × 3 columns</p>\n",
       "</div>"
      ],
      "text/plain": [
       "                                               fruits  \\\n",
       "0   data:image/jpeg;base64,/9j/4AAQSkZJRgABAQAAAQA...   \n",
       "1   data:image/jpeg;base64,/9j/4AAQSkZJRgABAQAAAQA...   \n",
       "2   data:image/jpeg;base64,/9j/4AAQSkZJRgABAQAAAQA...   \n",
       "3   data:image/jpeg;base64,/9j/4AAQSkZJRgABAQAAAQA...   \n",
       "4   data:image/jpeg;base64,/9j/4AAQSkZJRgABAQAAAQA...   \n",
       "..                                                ...   \n",
       "93                                               None   \n",
       "94                                               None   \n",
       "95                                               None   \n",
       "96                                               None   \n",
       "97                                               None   \n",
       "\n",
       "                                                 cars  \\\n",
       "0   data:image/jpeg;base64,/9j/4AAQSkZJRgABAQAAAQA...   \n",
       "1   data:image/jpeg;base64,/9j/4AAQSkZJRgABAQAAAQA...   \n",
       "2   data:image/jpeg;base64,/9j/4AAQSkZJRgABAQAAAQA...   \n",
       "3   data:image/jpeg;base64,/9j/4AAQSkZJRgABAQAAAQA...   \n",
       "4   data:image/png;base64,iVBORw0KGgoAAAANSUhEUgAA...   \n",
       "..                                                ...   \n",
       "93                                               None   \n",
       "94                                               None   \n",
       "95                                               None   \n",
       "96                                               None   \n",
       "97                                               None   \n",
       "\n",
       "                                    Machine Learning   \n",
       "0   data:image/jpeg;base64,/9j/4AAQSkZJRgABAQAAAQA...  \n",
       "1   data:image/jpeg;base64,/9j/4AAQSkZJRgABAQAAAQA...  \n",
       "2   data:image/jpeg;base64,/9j/4AAQSkZJRgABAQAAAQA...  \n",
       "3   data:image/jpeg;base64,/9j/4AAQSkZJRgABAQAAAQA...  \n",
       "4   data:image/png;base64,iVBORw0KGgoAAAANSUhEUgAA...  \n",
       "..                                                ...  \n",
       "93                                                 --  \n",
       "94                                                 --  \n",
       "95                                                 --  \n",
       "96                                                 --  \n",
       "97                                                 --  \n",
       "\n",
       "[98 rows x 3 columns]"
      ]
     },
     "execution_count": 47,
     "metadata": {},
     "output_type": "execute_result"
    }
   ],
   "source": [
    "images"
   ]
  },
  {
   "cell_type": "code",
   "execution_count": null,
   "metadata": {},
   "outputs": [],
   "source": []
  },
  {
   "cell_type": "markdown",
   "metadata": {},
   "source": [
    "### 4.Write a python program to search for a smartphone(e.g.: Oneplus Nord, pixel 4A, etc.) on www.flipkart.com and scrape following details for all the search results displayed on 1st page. "
   ]
  },
  {
   "cell_type": "code",
   "execution_count": 181,
   "metadata": {},
   "outputs": [],
   "source": [
    "from selenium.common.exceptions import StaleElementReferenceException, NoSuchElementException\n",
    "driver=webdriver.Chrome(r\"C:\\Users\\Hp\\Desktop\\chromedriver.exe\")"
   ]
  },
  {
   "cell_type": "code",
   "execution_count": 182,
   "metadata": {},
   "outputs": [],
   "source": [
    "driver.get(\"https://www.flipkart.com/search?q=smartphone&sid=tyy%2C4io&as=on&as-show=on&otracker=AS_QueryStore_OrganicAutoSuggest_2_10_na_na_na&otracker1=AS_QueryStore_OrganicAutoSuggest_2_10_na_na_na&as-pos=2&as-type=RECENT&suggestionId=smartphone%7CMobiles&requestId=d74c283a-5e00-4d3f-af41-7b8879162f45&as-searchtext=smartphone\")"
   ]
  },
  {
   "cell_type": "code",
   "execution_count": 183,
   "metadata": {},
   "outputs": [],
   "source": [
    "brand=[]\n",
    "product=[]\n",
    "color=[]\n",
    "ram=[]\n",
    "rom=[]\n",
    "pcan=[]\n",
    "scam=[]\n",
    "dsize=[]\n",
    "dreso=[]\n",
    "processor=[]\n",
    "processor_cores=[]\n",
    "battery=[]\n",
    "price=[]\n",
    "URL=[]"
   ]
  },
  {
   "cell_type": "code",
   "execution_count": 184,
   "metadata": {},
   "outputs": [
    {
     "data": {
      "text/plain": [
       "['POCO M2 (Slate Blue, 64 GB)', 'POCO C3 (Arctic Blue, 64 GB)']"
      ]
     },
     "execution_count": 184,
     "metadata": {},
     "output_type": "execute_result"
    }
   ],
   "source": [
    "brands=driver.find_elements_by_xpath(\"//div[@class='col col-7-12']/div[1]\")\n",
    "for i in brands:\n",
    "    if i.text is None :\n",
    "        brand.append(\"--\") \n",
    "    else:\n",
    "        brand.append(i.text)\n",
    "brand[0:2]"
   ]
  },
  {
   "cell_type": "code",
   "execution_count": 185,
   "metadata": {},
   "outputs": [
    {
     "data": {
      "text/plain": [
       "['6 GB RAM | 64 GB ROM | Expandable Upto 512 GB',\n",
       " '4 GB RAM | 64 GB ROM | Expandable Upto 512 GB']"
      ]
     },
     "execution_count": 185,
     "metadata": {},
     "output_type": "execute_result"
    }
   ],
   "source": [
    "RAM=[]\n",
    "rams=driver.find_elements_by_xpath(\"//ul[@class='_1xgFaf']/li[1]\")\n",
    "for i in rams:\n",
    "    if i.text is None :\n",
    "        RAM.append(\"--\") \n",
    "    else:\n",
    "        RAM.append(i.text)\n",
    "RAM[0:2]"
   ]
  },
  {
   "cell_type": "code",
   "execution_count": 186,
   "metadata": {},
   "outputs": [
    {
     "data": {
      "text/plain": [
       "['16.59 cm (6.53 inch) Full HD+ Display', '16.59 cm (6.53 inch) HD+ Display']"
      ]
     },
     "execution_count": 186,
     "metadata": {},
     "output_type": "execute_result"
    }
   ],
   "source": [
    "display=[]\n",
    "displays=driver.find_elements_by_xpath(\"//ul[@class='_1xgFaf']/li[2]\")\n",
    "for i in displays:\n",
    "    if i.text is None :\n",
    "        display.append(\"--\") \n",
    "    else:\n",
    "        display.append(i.text)\n",
    "display[0:2]"
   ]
  },
  {
   "cell_type": "code",
   "execution_count": 187,
   "metadata": {},
   "outputs": [
    {
     "data": {
      "text/plain": [
       "['13MP + 8MP + 5MP + 2MP | 8MP Front Camera',\n",
       " '13MP + 2MP + 2MP | 5MP Front Camera']"
      ]
     },
     "execution_count": 187,
     "metadata": {},
     "output_type": "execute_result"
    }
   ],
   "source": [
    "scame=[]\n",
    "scams=driver.find_elements_by_xpath(\"//ul[@class='_1xgFaf']/li[3]\")\n",
    "for i in scams:\n",
    "    if i.text is None :\n",
    "        scame.append(\"--\") \n",
    "    else:\n",
    "        scame.append(i.text)\n",
    "scame[0:2]"
   ]
  },
  {
   "cell_type": "code",
   "execution_count": 188,
   "metadata": {},
   "outputs": [
    {
     "data": {
      "text/plain": [
       "['5000 mAh Lithium Polymer Battery', '5000 mAh Li-ion Polymer Battery']"
      ]
     },
     "execution_count": 188,
     "metadata": {},
     "output_type": "execute_result"
    }
   ],
   "source": [
    "batteries=driver.find_elements_by_xpath(\"//ul[@class='_1xgFaf']/li[4]\")\n",
    "for i in batteries:\n",
    "    if i.text is None :\n",
    "        battery.append(\"--\") \n",
    "    else:\n",
    "        battery.append(i.text)\n",
    "battery[0:2]"
   ]
  },
  {
   "cell_type": "code",
   "execution_count": 189,
   "metadata": {},
   "outputs": [
    {
     "data": {
      "text/plain": [
       "['MediaTek Helio G80 Processor', 'Mediatek Helio G35 Processor']"
      ]
     },
     "execution_count": 189,
     "metadata": {},
     "output_type": "execute_result"
    }
   ],
   "source": [
    "processors=driver.find_elements_by_xpath(\"//ul[@class='_1xgFaf']/li[5]\")\n",
    "for i in processors:\n",
    "    if i.text is None :\n",
    "        processor.append(\"--\") \n",
    "    else:\n",
    "        processor.append(i.text)\n",
    "processor[0:2]"
   ]
  },
  {
   "cell_type": "code",
   "execution_count": 190,
   "metadata": {},
   "outputs": [
    {
     "data": {
      "text/plain": [
       "[<selenium.webdriver.remote.webelement.WebElement (session=\"9ba293ce20dc75e60b0bea58bdfc651d\", element=\"8dc3a099-8347-47bf-981d-21e77113aa3e\")>]"
      ]
     },
     "execution_count": 190,
     "metadata": {},
     "output_type": "execute_result"
    }
   ],
   "source": [
    "prices=driver.find_elements_by_xpath(\"//div[@class='_36fx1h _6t1WkM _3HqJxg']/div[1]/div[2]/div[2]/div/div/div/a/div[2]/div[2]/div[1]/div/div[1]\")\n",
    "prices"
   ]
  },
  {
   "cell_type": "code",
   "execution_count": 191,
   "metadata": {},
   "outputs": [],
   "source": [
    "prices=driver.find_elements_by_xpath(\"//div[@class='_30jeq3 _1_WHN1']\")"
   ]
  },
  {
   "cell_type": "code",
   "execution_count": 192,
   "metadata": {},
   "outputs": [
    {
     "data": {
      "text/plain": [
       "['₹9,999',\n",
       " '₹8,499',\n",
       " '₹9,999',\n",
       " '₹3,799',\n",
       " '₹9,499',\n",
       " '₹9,499',\n",
       " '₹11,499',\n",
       " '₹11,499',\n",
       " '₹10,499',\n",
       " '₹10,499',\n",
       " '₹10,999',\n",
       " '₹8,499',\n",
       " '₹9,499',\n",
       " '₹9,499',\n",
       " '₹9,499',\n",
       " '₹9,999',\n",
       " '₹10,999',\n",
       " '₹8,299',\n",
       " '₹12,999',\n",
       " '₹13,999',\n",
       " '₹12,999',\n",
       " '₹12,999',\n",
       " '₹10,999',\n",
       " '₹7,999']"
      ]
     },
     "execution_count": 192,
     "metadata": {},
     "output_type": "execute_result"
    }
   ],
   "source": [
    "\n",
    "for i in prices:\n",
    "    if i.text is None :\n",
    "        price.append(\"--\") \n",
    "    else:\n",
    "        price.append(i.text)\n",
    "price"
   ]
  },
  {
   "cell_type": "code",
   "execution_count": 193,
   "metadata": {},
   "outputs": [
    {
     "data": {
      "text/plain": [
       "[<selenium.webdriver.remote.webelement.WebElement (session=\"9ba293ce20dc75e60b0bea58bdfc651d\", element=\"6902fc7d-1499-4b77-a4a7-b2411d385165\")>,\n",
       " <selenium.webdriver.remote.webelement.WebElement (session=\"9ba293ce20dc75e60b0bea58bdfc651d\", element=\"0aba11e6-8210-4cc1-b32c-fd7fdc05a387\")>,\n",
       " <selenium.webdriver.remote.webelement.WebElement (session=\"9ba293ce20dc75e60b0bea58bdfc651d\", element=\"8a20aae2-5b47-4536-9e5b-ae7980788b8e\")>,\n",
       " <selenium.webdriver.remote.webelement.WebElement (session=\"9ba293ce20dc75e60b0bea58bdfc651d\", element=\"a9d212c5-8c93-489a-8b3f-22930ad2a85c\")>]"
      ]
     },
     "execution_count": 193,
     "metadata": {},
     "output_type": "execute_result"
    }
   ],
   "source": [
    "tags=driver.find_elements_by_xpath(\"//div[@class='_2kHMtA']/a\")\n",
    "tags[0:4]"
   ]
  },
  {
   "cell_type": "code",
   "execution_count": 194,
   "metadata": {},
   "outputs": [
    {
     "data": {
      "text/plain": [
       "['https://www.flipkart.com/poco-m2-slate-blue-64-gb/p/itmfd82e37cf60fb?pid=MOBFV9V96DHYMUHJ&lid=LSTMOBFV9V96DHYMUHJLEC0DY&marketplace=FLIPKART&srno=s_1_1&otracker=AS_QueryStore_OrganicAutoSuggest_2_10_na_na_na&otracker1=AS_QueryStore_OrganicAutoSuggest_2_10_na_na_na&fm=organic&iid=e9c7bd7f-65ab-43e4-abda-6a4927012836.MOBFV9V96DHYMUHJ.SEARCH&ssid=evs54dyc9c0000001612271799303&qH=1036ba3c4ed2c021',\n",
       " 'https://www.flipkart.com/poco-c3-arctic-blue-64-gb/p/itm7f632fdb49b3b?pid=MOBFVQJ5NV9ZSYEF&lid=LSTMOBFVQJ5NV9ZSYEFDNRK58&marketplace=FLIPKART&srno=s_1_2&otracker=AS_QueryStore_OrganicAutoSuggest_2_10_na_na_na&otracker1=AS_QueryStore_OrganicAutoSuggest_2_10_na_na_na&fm=organic&iid=e9c7bd7f-65ab-43e4-abda-6a4927012836.MOBFVQJ5NV9ZSYEF.SEARCH&ssid=evs54dyc9c0000001612271799303&qH=1036ba3c4ed2c021',\n",
       " 'https://www.flipkart.com/poco-m2-pitch-black-64-gb/p/itm630300707d0a5?pid=MOBFV9V92KHMFCVF&lid=LSTMOBFV9V92KHMFCVFEXYXG8&marketplace=FLIPKART&srno=s_1_3&otracker=AS_QueryStore_OrganicAutoSuggest_2_10_na_na_na&otracker1=AS_QueryStore_OrganicAutoSuggest_2_10_na_na_na&fm=organic&iid=e9c7bd7f-65ab-43e4-abda-6a4927012836.MOBFV9V92KHMFCVF.SEARCH&ssid=evs54dyc9c0000001612271799303&qH=1036ba3c4ed2c021',\n",
       " 'https://www.flipkart.com/kall-k-1-black-8-gb/p/itmffy7rcdevzcvs?pid=MOBEYDHXKAVQR9HH&lid=LSTMOBEYDHXKAVQR9HHRPWX6R&marketplace=FLIPKART&srno=s_1_4&otracker=AS_QueryStore_OrganicAutoSuggest_2_10_na_na_na&otracker1=AS_QueryStore_OrganicAutoSuggest_2_10_na_na_na&fm=organic&iid=en_5%2FkebKsXu7QArt1Oxc3f%2BCXwT59FpAuvtGr5uSH3Xab5pHskhH5Nq0nTIuvFm4QrRaRM5A3aXXOeDyz%2BIVO2JQ%3D%3D&ssid=evs54dyc9c0000001612271799303&qH=1036ba3c4ed2c021']"
      ]
     },
     "execution_count": 194,
     "metadata": {},
     "output_type": "execute_result"
    }
   ],
   "source": [
    "for i in tags:\n",
    "    URL.append(i.get_attribute('href'))\n",
    "URL[0:4]"
   ]
  },
  {
   "cell_type": "code",
   "execution_count": 195,
   "metadata": {},
   "outputs": [],
   "source": [
    "smartphone=pd.DataFrame({})\n",
    "smartphone['Name(colour)']=brand\n",
    "smartphone['RAM|ROM']=RAM\n",
    "smartphone['Primary Camera|Secondary Camera']=scame\n",
    "smartphone['Display size display resolution']=display\n",
    "smartphone['Processor|processor core']=processor\n",
    "smartphone['Battery capacity']=battery\n",
    "smartphone['Price']=price\n",
    "smartphone['URL']=URL"
   ]
  },
  {
   "cell_type": "code",
   "execution_count": 196,
   "metadata": {},
   "outputs": [
    {
     "data": {
      "text/html": [
       "<div>\n",
       "<style scoped>\n",
       "    .dataframe tbody tr th:only-of-type {\n",
       "        vertical-align: middle;\n",
       "    }\n",
       "\n",
       "    .dataframe tbody tr th {\n",
       "        vertical-align: top;\n",
       "    }\n",
       "\n",
       "    .dataframe thead th {\n",
       "        text-align: right;\n",
       "    }\n",
       "</style>\n",
       "<table border=\"1\" class=\"dataframe\">\n",
       "  <thead>\n",
       "    <tr style=\"text-align: right;\">\n",
       "      <th></th>\n",
       "      <th>Name(colour)</th>\n",
       "      <th>RAM|ROM</th>\n",
       "      <th>Primary Camera|Secondary Camera</th>\n",
       "      <th>Display size display resolution</th>\n",
       "      <th>Processor|processor core</th>\n",
       "      <th>Battery capacity</th>\n",
       "      <th>Price</th>\n",
       "      <th>URL</th>\n",
       "    </tr>\n",
       "  </thead>\n",
       "  <tbody>\n",
       "    <tr>\n",
       "      <th>0</th>\n",
       "      <td>POCO M2 (Slate Blue, 64 GB)</td>\n",
       "      <td>6 GB RAM | 64 GB ROM | Expandable Upto 512 GB</td>\n",
       "      <td>13MP + 8MP + 5MP + 2MP | 8MP Front Camera</td>\n",
       "      <td>16.59 cm (6.53 inch) Full HD+ Display</td>\n",
       "      <td>MediaTek Helio G80 Processor</td>\n",
       "      <td>5000 mAh Lithium Polymer Battery</td>\n",
       "      <td>₹9,999</td>\n",
       "      <td>https://www.flipkart.com/poco-m2-slate-blue-64...</td>\n",
       "    </tr>\n",
       "    <tr>\n",
       "      <th>1</th>\n",
       "      <td>POCO C3 (Arctic Blue, 64 GB)</td>\n",
       "      <td>4 GB RAM | 64 GB ROM | Expandable Upto 512 GB</td>\n",
       "      <td>13MP + 2MP + 2MP | 5MP Front Camera</td>\n",
       "      <td>16.59 cm (6.53 inch) HD+ Display</td>\n",
       "      <td>Mediatek Helio G35 Processor</td>\n",
       "      <td>5000 mAh Li-ion Polymer Battery</td>\n",
       "      <td>₹8,499</td>\n",
       "      <td>https://www.flipkart.com/poco-c3-arctic-blue-6...</td>\n",
       "    </tr>\n",
       "    <tr>\n",
       "      <th>2</th>\n",
       "      <td>POCO M2 (Pitch Black, 64 GB)</td>\n",
       "      <td>6 GB RAM | 64 GB ROM | Expandable Upto 512 GB</td>\n",
       "      <td>13MP + 8MP + 5MP + 2MP | 8MP Front Camera</td>\n",
       "      <td>16.59 cm (6.53 inch) Full HD+ Display</td>\n",
       "      <td>MediaTek Helio G80 Processor</td>\n",
       "      <td>5000 mAh Lithium Polymer Battery</td>\n",
       "      <td>₹9,999</td>\n",
       "      <td>https://www.flipkart.com/poco-m2-pitch-black-6...</td>\n",
       "    </tr>\n",
       "    <tr>\n",
       "      <th>3</th>\n",
       "      <td>I Kall K-1 (Black, 8 GB)</td>\n",
       "      <td>1 GB RAM | 8 GB ROM | Expandable Upto 32 GB</td>\n",
       "      <td>5MP Rear Camera | 2MP Front Camera</td>\n",
       "      <td>12.7 cm (5 inch) HD Display</td>\n",
       "      <td>1.3 QUAD CORE PROCESSOR Processor</td>\n",
       "      <td>2200 mAh Battery</td>\n",
       "      <td>₹3,799</td>\n",
       "      <td>https://www.flipkart.com/kall-k-1-black-8-gb/p...</td>\n",
       "    </tr>\n",
       "    <tr>\n",
       "      <th>4</th>\n",
       "      <td>Realme Narzo 20A (Glory Silver, 64 GB)</td>\n",
       "      <td>4 GB RAM | 64 GB ROM | Expandable Upto 256 GB</td>\n",
       "      <td>12MP + 2MP + 2MP | 8MP Front Camera</td>\n",
       "      <td>16.51 cm (6.5 inch) HD+ Display</td>\n",
       "      <td>Qualcomm Snapdragon 665 Processor</td>\n",
       "      <td>5000 mAh Lithium-ion Battery</td>\n",
       "      <td>₹9,499</td>\n",
       "      <td>https://www.flipkart.com/realme-narzo-20a-glor...</td>\n",
       "    </tr>\n",
       "    <tr>\n",
       "      <th>5</th>\n",
       "      <td>Realme Narzo 20A (Victory Blue, 64 GB)</td>\n",
       "      <td>4 GB RAM | 64 GB ROM | Expandable Upto 256 GB</td>\n",
       "      <td>12MP + 2MP + 2MP | 8MP Front Camera</td>\n",
       "      <td>16.51 cm (6.5 inch) HD+ Display</td>\n",
       "      <td>Qualcomm Snapdragon 665 Processor</td>\n",
       "      <td>5000 mAh Lithium-ion Battery</td>\n",
       "      <td>₹9,499</td>\n",
       "      <td>https://www.flipkart.com/realme-narzo-20a-vict...</td>\n",
       "    </tr>\n",
       "    <tr>\n",
       "      <th>6</th>\n",
       "      <td>Realme Narzo 20 (Glory Silver, 128 GB)</td>\n",
       "      <td>4 GB RAM | 128 GB ROM | Expandable Upto 256 GB</td>\n",
       "      <td>48MP + 8MP + 2MP | 8MP Front Camera</td>\n",
       "      <td>16.56 cm (6.52 inch) HD+ Display</td>\n",
       "      <td>MediaTek Helio G85 Processor</td>\n",
       "      <td>6000 mAh Lithium-ion Battery</td>\n",
       "      <td>₹11,499</td>\n",
       "      <td>https://www.flipkart.com/realme-narzo-20-glory...</td>\n",
       "    </tr>\n",
       "    <tr>\n",
       "      <th>7</th>\n",
       "      <td>Realme Narzo 20 (Victory Blue, 128 GB)</td>\n",
       "      <td>4 GB RAM | 128 GB ROM | Expandable Upto 256 GB</td>\n",
       "      <td>48MP + 8MP + 2MP | 8MP Front Camera</td>\n",
       "      <td>16.56 cm (6.52 inch) HD+ Display</td>\n",
       "      <td>MediaTek Helio G85 Processor</td>\n",
       "      <td>6000 mAh Lithium-ion Battery</td>\n",
       "      <td>₹11,499</td>\n",
       "      <td>https://www.flipkart.com/realme-narzo-20-victo...</td>\n",
       "    </tr>\n",
       "    <tr>\n",
       "      <th>8</th>\n",
       "      <td>Realme Narzo 20 (Glory Silver, 64 GB)</td>\n",
       "      <td>4 GB RAM | 64 GB ROM | Expandable Upto 256 GB</td>\n",
       "      <td>48MP + 8MP + 2MP | 8MP Front Camera</td>\n",
       "      <td>16.56 cm (6.52 inch) HD+ Display</td>\n",
       "      <td>MediaTek Helio G85 Processor</td>\n",
       "      <td>6000 mAh Lithium-ion Battery</td>\n",
       "      <td>₹10,499</td>\n",
       "      <td>https://www.flipkart.com/realme-narzo-20-glory...</td>\n",
       "    </tr>\n",
       "    <tr>\n",
       "      <th>9</th>\n",
       "      <td>Realme Narzo 20 (Victory Blue, 64 GB)</td>\n",
       "      <td>4 GB RAM | 64 GB ROM | Expandable Upto 256 GB</td>\n",
       "      <td>48MP + 8MP + 2MP | 8MP Front Camera</td>\n",
       "      <td>16.56 cm (6.52 inch) HD+ Display</td>\n",
       "      <td>MediaTek Helio G85 Processor</td>\n",
       "      <td>6000 mAh Lithium-ion Battery</td>\n",
       "      <td>₹10,499</td>\n",
       "      <td>https://www.flipkart.com/realme-narzo-20-victo...</td>\n",
       "    </tr>\n",
       "    <tr>\n",
       "      <th>10</th>\n",
       "      <td>POCO M2 (Pitch Black, 128 GB)</td>\n",
       "      <td>6 GB RAM | 128 GB ROM | Expandable Upto 512 GB</td>\n",
       "      <td>13MP + 8MP + 5MP + 2MP | 8MP Front Camera</td>\n",
       "      <td>16.59 cm (6.53 inch) Full HD+ Display</td>\n",
       "      <td>MediaTek Helio G80 Processor</td>\n",
       "      <td>5000 mAh Lithium Polymer Battery</td>\n",
       "      <td>₹10,999</td>\n",
       "      <td>https://www.flipkart.com/poco-m2-pitch-black-1...</td>\n",
       "    </tr>\n",
       "    <tr>\n",
       "      <th>11</th>\n",
       "      <td>POCO C3 (Matte Black, 64 GB)</td>\n",
       "      <td>4 GB RAM | 64 GB ROM | Expandable Upto 512 GB</td>\n",
       "      <td>13MP + 2MP + 2MP | 5MP Front Camera</td>\n",
       "      <td>16.59 cm (6.53 inch) HD+ Display</td>\n",
       "      <td>Mediatek Helio G35 Processor</td>\n",
       "      <td>5000 mAh Li-ion Polymer Battery</td>\n",
       "      <td>₹8,499</td>\n",
       "      <td>https://www.flipkart.com/poco-c3-matte-black-6...</td>\n",
       "    </tr>\n",
       "    <tr>\n",
       "      <th>12</th>\n",
       "      <td>Infinix Hot 10 (Ocean Wave, 64 GB)</td>\n",
       "      <td>4 GB RAM | 64 GB ROM | Expandable Upto 256 GB</td>\n",
       "      <td>16MP + 2MP + 2MP + Low Light Sensor | 8MP Fron...</td>\n",
       "      <td>17.22 cm (6.78 inch) HD+ Display</td>\n",
       "      <td>MediaTek Helio G70 Processor</td>\n",
       "      <td>5200 mAh Li-ion Polymer Battery</td>\n",
       "      <td>₹9,499</td>\n",
       "      <td>https://www.flipkart.com/infinix-hot-10-ocean-...</td>\n",
       "    </tr>\n",
       "    <tr>\n",
       "      <th>13</th>\n",
       "      <td>Infinix Hot 10 (Obsidian Black, 64 GB)</td>\n",
       "      <td>4 GB RAM | 64 GB ROM | Expandable Upto 256 GB</td>\n",
       "      <td>16MP + 2MP + 2MP + Low Light Sensor | 8MP Fron...</td>\n",
       "      <td>17.22 cm (6.78 inch) HD+ Display</td>\n",
       "      <td>MediaTek Helio G70 Processor</td>\n",
       "      <td>5200 mAh Li-ion Polymer Battery</td>\n",
       "      <td>₹9,499</td>\n",
       "      <td>https://www.flipkart.com/infinix-hot-10-obsidi...</td>\n",
       "    </tr>\n",
       "    <tr>\n",
       "      <th>14</th>\n",
       "      <td>Infinix Hot 10 (Moonlight Jade, 64 GB)</td>\n",
       "      <td>4 GB RAM | 64 GB ROM | Expandable Upto 256 GB</td>\n",
       "      <td>16MP + 2MP + 2MP + Low Light Sensor | 8MP Fron...</td>\n",
       "      <td>17.22 cm (6.78 inch) HD+ Display</td>\n",
       "      <td>MediaTek Helio G70 Processor</td>\n",
       "      <td>5200 mAh Li-ion Polymer Battery</td>\n",
       "      <td>₹9,499</td>\n",
       "      <td>https://www.flipkart.com/infinix-hot-10-moonli...</td>\n",
       "    </tr>\n",
       "    <tr>\n",
       "      <th>15</th>\n",
       "      <td>POCO M2 (Brick Red, 64 GB)</td>\n",
       "      <td>6 GB RAM | 64 GB ROM | Expandable Upto 512 GB</td>\n",
       "      <td>13MP + 8MP + 5MP + 2MP | 8MP Front Camera</td>\n",
       "      <td>16.59 cm (6.53 inch) Full HD+ Display</td>\n",
       "      <td>MediaTek Helio G80 Processor</td>\n",
       "      <td>5000 mAh Lithium Polymer Battery</td>\n",
       "      <td>₹9,999</td>\n",
       "      <td>https://www.flipkart.com/poco-m2-brick-red-64-...</td>\n",
       "    </tr>\n",
       "    <tr>\n",
       "      <th>16</th>\n",
       "      <td>POCO M2 (Brick Red, 128 GB)</td>\n",
       "      <td>6 GB RAM | 128 GB ROM | Expandable Upto 512 GB</td>\n",
       "      <td>13MP + 8MP + 5MP + 2MP | 8MP Front Camera</td>\n",
       "      <td>16.59 cm (6.53 inch) Full HD+ Display</td>\n",
       "      <td>MediaTek Helio G80 Processor</td>\n",
       "      <td>5000 mAh Lithium Polymer Battery</td>\n",
       "      <td>₹10,999</td>\n",
       "      <td>https://www.flipkart.com/poco-m2-brick-red-128...</td>\n",
       "    </tr>\n",
       "    <tr>\n",
       "      <th>17</th>\n",
       "      <td>Redmi 9i (Sea Blue, 64 GB)</td>\n",
       "      <td>4 GB RAM | 64 GB ROM | Expandable Upto 512 GB</td>\n",
       "      <td>13MP Rear Camera | 5MP Front Camera</td>\n",
       "      <td>16.59 cm (6.53 inch) HD+ Display</td>\n",
       "      <td>MediaTek Helio G25 Processor</td>\n",
       "      <td>5000 mAh Lithium Polymer Battery</td>\n",
       "      <td>₹8,299</td>\n",
       "      <td>https://www.flipkart.com/redmi-9i-sea-blue-64-...</td>\n",
       "    </tr>\n",
       "    <tr>\n",
       "      <th>18</th>\n",
       "      <td>Realme 7i (Fusion Green, 128 GB)</td>\n",
       "      <td>4 GB RAM | 128 GB ROM | Expandable Upto 256 GB</td>\n",
       "      <td>64MP + 8MP + 2MP + 2MP | 16MP Front Camera</td>\n",
       "      <td>16.51 cm (6.5 inch) HD+ Display</td>\n",
       "      <td>Qualcomm Snapdragon 662 Processor</td>\n",
       "      <td>5000 mAh Lithium-ion Battery</td>\n",
       "      <td>₹12,999</td>\n",
       "      <td>https://www.flipkart.com/realme-7i-fusion-gree...</td>\n",
       "    </tr>\n",
       "    <tr>\n",
       "      <th>19</th>\n",
       "      <td>POCO M2 Pro (Green and Greener, 64 GB)</td>\n",
       "      <td>6 GB RAM | 64 GB ROM | Expandable Upto 512 GB</td>\n",
       "      <td>48MP + 8MP + 5MP + 2MP | 16MP Front Camera</td>\n",
       "      <td>16.94 cm (6.67 inch) Full HD+ Display</td>\n",
       "      <td>Qualcomm Snapdragon 720G Processor</td>\n",
       "      <td>5000 mAh Lithium-ion Polymer Battery</td>\n",
       "      <td>₹13,999</td>\n",
       "      <td>https://www.flipkart.com/poco-m2-pro-green-gre...</td>\n",
       "    </tr>\n",
       "    <tr>\n",
       "      <th>20</th>\n",
       "      <td>POCO M2 Pro (Green and Greener, 64 GB)</td>\n",
       "      <td>4 GB RAM | 64 GB ROM | Expandable Upto 512 GB</td>\n",
       "      <td>48MP + 8MP + 5MP + 2MP | 16MP Front Camera</td>\n",
       "      <td>16.94 cm (6.67 inch) Full HD+ Display</td>\n",
       "      <td>Qualcomm Snapdragon 720G Processor</td>\n",
       "      <td>5000 mAh Lithium-ion Polymer Battery</td>\n",
       "      <td>₹12,999</td>\n",
       "      <td>https://www.flipkart.com/poco-m2-pro-green-gre...</td>\n",
       "    </tr>\n",
       "    <tr>\n",
       "      <th>21</th>\n",
       "      <td>POCO M2 Pro (Out of the Blue, 64 GB)</td>\n",
       "      <td>4 GB RAM | 64 GB ROM | Expandable Upto 512 GB</td>\n",
       "      <td>48MP + 8MP + 5MP + 2MP | 16MP Front Camera</td>\n",
       "      <td>16.94 cm (6.67 inch) Full HD+ Display</td>\n",
       "      <td>Qualcomm Snapdragon 720G Processor</td>\n",
       "      <td>5000 mAh Lithium-ion Polymer Battery</td>\n",
       "      <td>₹12,999</td>\n",
       "      <td>https://www.flipkart.com/poco-m2-pro-out-blue-...</td>\n",
       "    </tr>\n",
       "    <tr>\n",
       "      <th>22</th>\n",
       "      <td>POCO M2 (Slate Blue, 128 GB)</td>\n",
       "      <td>6 GB RAM | 128 GB ROM | Expandable Upto 512 GB</td>\n",
       "      <td>13MP + 8MP + 5MP + 2MP | 8MP Front Camera</td>\n",
       "      <td>16.59 cm (6.53 inch) Full HD+ Display</td>\n",
       "      <td>MediaTek Helio G80 Processor</td>\n",
       "      <td>5000 mAh Lithium Polymer Battery</td>\n",
       "      <td>₹10,999</td>\n",
       "      <td>https://www.flipkart.com/poco-m2-slate-blue-12...</td>\n",
       "    </tr>\n",
       "    <tr>\n",
       "      <th>23</th>\n",
       "      <td>Infinix Smart 4 Plus (Ocean Wave, 32 GB)</td>\n",
       "      <td>3 GB RAM | 32 GB ROM | Expandable Upto 256 GB</td>\n",
       "      <td>13MP + Depth Sensor | 8MP Front Camera</td>\n",
       "      <td>17.32 cm (6.82 inch) HD+ Display</td>\n",
       "      <td>Mediatek Helio A25 Processor</td>\n",
       "      <td>6000 mAh Lithium-ion Polymer Battery</td>\n",
       "      <td>₹7,999</td>\n",
       "      <td>https://www.flipkart.com/infinix-smart-4-plus-...</td>\n",
       "    </tr>\n",
       "  </tbody>\n",
       "</table>\n",
       "</div>"
      ],
      "text/plain": [
       "                                Name(colour)  \\\n",
       "0                POCO M2 (Slate Blue, 64 GB)   \n",
       "1               POCO C3 (Arctic Blue, 64 GB)   \n",
       "2               POCO M2 (Pitch Black, 64 GB)   \n",
       "3                   I Kall K-1 (Black, 8 GB)   \n",
       "4     Realme Narzo 20A (Glory Silver, 64 GB)   \n",
       "5     Realme Narzo 20A (Victory Blue, 64 GB)   \n",
       "6     Realme Narzo 20 (Glory Silver, 128 GB)   \n",
       "7     Realme Narzo 20 (Victory Blue, 128 GB)   \n",
       "8      Realme Narzo 20 (Glory Silver, 64 GB)   \n",
       "9      Realme Narzo 20 (Victory Blue, 64 GB)   \n",
       "10             POCO M2 (Pitch Black, 128 GB)   \n",
       "11              POCO C3 (Matte Black, 64 GB)   \n",
       "12        Infinix Hot 10 (Ocean Wave, 64 GB)   \n",
       "13    Infinix Hot 10 (Obsidian Black, 64 GB)   \n",
       "14    Infinix Hot 10 (Moonlight Jade, 64 GB)   \n",
       "15                POCO M2 (Brick Red, 64 GB)   \n",
       "16               POCO M2 (Brick Red, 128 GB)   \n",
       "17                Redmi 9i (Sea Blue, 64 GB)   \n",
       "18          Realme 7i (Fusion Green, 128 GB)   \n",
       "19    POCO M2 Pro (Green and Greener, 64 GB)   \n",
       "20    POCO M2 Pro (Green and Greener, 64 GB)   \n",
       "21      POCO M2 Pro (Out of the Blue, 64 GB)   \n",
       "22              POCO M2 (Slate Blue, 128 GB)   \n",
       "23  Infinix Smart 4 Plus (Ocean Wave, 32 GB)   \n",
       "\n",
       "                                           RAM|ROM  \\\n",
       "0    6 GB RAM | 64 GB ROM | Expandable Upto 512 GB   \n",
       "1    4 GB RAM | 64 GB ROM | Expandable Upto 512 GB   \n",
       "2    6 GB RAM | 64 GB ROM | Expandable Upto 512 GB   \n",
       "3      1 GB RAM | 8 GB ROM | Expandable Upto 32 GB   \n",
       "4    4 GB RAM | 64 GB ROM | Expandable Upto 256 GB   \n",
       "5    4 GB RAM | 64 GB ROM | Expandable Upto 256 GB   \n",
       "6   4 GB RAM | 128 GB ROM | Expandable Upto 256 GB   \n",
       "7   4 GB RAM | 128 GB ROM | Expandable Upto 256 GB   \n",
       "8    4 GB RAM | 64 GB ROM | Expandable Upto 256 GB   \n",
       "9    4 GB RAM | 64 GB ROM | Expandable Upto 256 GB   \n",
       "10  6 GB RAM | 128 GB ROM | Expandable Upto 512 GB   \n",
       "11   4 GB RAM | 64 GB ROM | Expandable Upto 512 GB   \n",
       "12   4 GB RAM | 64 GB ROM | Expandable Upto 256 GB   \n",
       "13   4 GB RAM | 64 GB ROM | Expandable Upto 256 GB   \n",
       "14   4 GB RAM | 64 GB ROM | Expandable Upto 256 GB   \n",
       "15   6 GB RAM | 64 GB ROM | Expandable Upto 512 GB   \n",
       "16  6 GB RAM | 128 GB ROM | Expandable Upto 512 GB   \n",
       "17   4 GB RAM | 64 GB ROM | Expandable Upto 512 GB   \n",
       "18  4 GB RAM | 128 GB ROM | Expandable Upto 256 GB   \n",
       "19   6 GB RAM | 64 GB ROM | Expandable Upto 512 GB   \n",
       "20   4 GB RAM | 64 GB ROM | Expandable Upto 512 GB   \n",
       "21   4 GB RAM | 64 GB ROM | Expandable Upto 512 GB   \n",
       "22  6 GB RAM | 128 GB ROM | Expandable Upto 512 GB   \n",
       "23   3 GB RAM | 32 GB ROM | Expandable Upto 256 GB   \n",
       "\n",
       "                      Primary Camera|Secondary Camera  \\\n",
       "0           13MP + 8MP + 5MP + 2MP | 8MP Front Camera   \n",
       "1                 13MP + 2MP + 2MP | 5MP Front Camera   \n",
       "2           13MP + 8MP + 5MP + 2MP | 8MP Front Camera   \n",
       "3                  5MP Rear Camera | 2MP Front Camera   \n",
       "4                 12MP + 2MP + 2MP | 8MP Front Camera   \n",
       "5                 12MP + 2MP + 2MP | 8MP Front Camera   \n",
       "6                 48MP + 8MP + 2MP | 8MP Front Camera   \n",
       "7                 48MP + 8MP + 2MP | 8MP Front Camera   \n",
       "8                 48MP + 8MP + 2MP | 8MP Front Camera   \n",
       "9                 48MP + 8MP + 2MP | 8MP Front Camera   \n",
       "10          13MP + 8MP + 5MP + 2MP | 8MP Front Camera   \n",
       "11                13MP + 2MP + 2MP | 5MP Front Camera   \n",
       "12  16MP + 2MP + 2MP + Low Light Sensor | 8MP Fron...   \n",
       "13  16MP + 2MP + 2MP + Low Light Sensor | 8MP Fron...   \n",
       "14  16MP + 2MP + 2MP + Low Light Sensor | 8MP Fron...   \n",
       "15          13MP + 8MP + 5MP + 2MP | 8MP Front Camera   \n",
       "16          13MP + 8MP + 5MP + 2MP | 8MP Front Camera   \n",
       "17                13MP Rear Camera | 5MP Front Camera   \n",
       "18         64MP + 8MP + 2MP + 2MP | 16MP Front Camera   \n",
       "19         48MP + 8MP + 5MP + 2MP | 16MP Front Camera   \n",
       "20         48MP + 8MP + 5MP + 2MP | 16MP Front Camera   \n",
       "21         48MP + 8MP + 5MP + 2MP | 16MP Front Camera   \n",
       "22          13MP + 8MP + 5MP + 2MP | 8MP Front Camera   \n",
       "23             13MP + Depth Sensor | 8MP Front Camera   \n",
       "\n",
       "          Display size display resolution            Processor|processor core  \\\n",
       "0   16.59 cm (6.53 inch) Full HD+ Display        MediaTek Helio G80 Processor   \n",
       "1        16.59 cm (6.53 inch) HD+ Display        Mediatek Helio G35 Processor   \n",
       "2   16.59 cm (6.53 inch) Full HD+ Display        MediaTek Helio G80 Processor   \n",
       "3             12.7 cm (5 inch) HD Display   1.3 QUAD CORE PROCESSOR Processor   \n",
       "4         16.51 cm (6.5 inch) HD+ Display   Qualcomm Snapdragon 665 Processor   \n",
       "5         16.51 cm (6.5 inch) HD+ Display   Qualcomm Snapdragon 665 Processor   \n",
       "6        16.56 cm (6.52 inch) HD+ Display        MediaTek Helio G85 Processor   \n",
       "7        16.56 cm (6.52 inch) HD+ Display        MediaTek Helio G85 Processor   \n",
       "8        16.56 cm (6.52 inch) HD+ Display        MediaTek Helio G85 Processor   \n",
       "9        16.56 cm (6.52 inch) HD+ Display        MediaTek Helio G85 Processor   \n",
       "10  16.59 cm (6.53 inch) Full HD+ Display        MediaTek Helio G80 Processor   \n",
       "11       16.59 cm (6.53 inch) HD+ Display        Mediatek Helio G35 Processor   \n",
       "12       17.22 cm (6.78 inch) HD+ Display        MediaTek Helio G70 Processor   \n",
       "13       17.22 cm (6.78 inch) HD+ Display        MediaTek Helio G70 Processor   \n",
       "14       17.22 cm (6.78 inch) HD+ Display        MediaTek Helio G70 Processor   \n",
       "15  16.59 cm (6.53 inch) Full HD+ Display        MediaTek Helio G80 Processor   \n",
       "16  16.59 cm (6.53 inch) Full HD+ Display        MediaTek Helio G80 Processor   \n",
       "17       16.59 cm (6.53 inch) HD+ Display        MediaTek Helio G25 Processor   \n",
       "18        16.51 cm (6.5 inch) HD+ Display   Qualcomm Snapdragon 662 Processor   \n",
       "19  16.94 cm (6.67 inch) Full HD+ Display  Qualcomm Snapdragon 720G Processor   \n",
       "20  16.94 cm (6.67 inch) Full HD+ Display  Qualcomm Snapdragon 720G Processor   \n",
       "21  16.94 cm (6.67 inch) Full HD+ Display  Qualcomm Snapdragon 720G Processor   \n",
       "22  16.59 cm (6.53 inch) Full HD+ Display        MediaTek Helio G80 Processor   \n",
       "23       17.32 cm (6.82 inch) HD+ Display        Mediatek Helio A25 Processor   \n",
       "\n",
       "                        Battery capacity    Price  \\\n",
       "0       5000 mAh Lithium Polymer Battery   ₹9,999   \n",
       "1        5000 mAh Li-ion Polymer Battery   ₹8,499   \n",
       "2       5000 mAh Lithium Polymer Battery   ₹9,999   \n",
       "3                       2200 mAh Battery   ₹3,799   \n",
       "4           5000 mAh Lithium-ion Battery   ₹9,499   \n",
       "5           5000 mAh Lithium-ion Battery   ₹9,499   \n",
       "6           6000 mAh Lithium-ion Battery  ₹11,499   \n",
       "7           6000 mAh Lithium-ion Battery  ₹11,499   \n",
       "8           6000 mAh Lithium-ion Battery  ₹10,499   \n",
       "9           6000 mAh Lithium-ion Battery  ₹10,499   \n",
       "10      5000 mAh Lithium Polymer Battery  ₹10,999   \n",
       "11       5000 mAh Li-ion Polymer Battery   ₹8,499   \n",
       "12       5200 mAh Li-ion Polymer Battery   ₹9,499   \n",
       "13       5200 mAh Li-ion Polymer Battery   ₹9,499   \n",
       "14       5200 mAh Li-ion Polymer Battery   ₹9,499   \n",
       "15      5000 mAh Lithium Polymer Battery   ₹9,999   \n",
       "16      5000 mAh Lithium Polymer Battery  ₹10,999   \n",
       "17      5000 mAh Lithium Polymer Battery   ₹8,299   \n",
       "18          5000 mAh Lithium-ion Battery  ₹12,999   \n",
       "19  5000 mAh Lithium-ion Polymer Battery  ₹13,999   \n",
       "20  5000 mAh Lithium-ion Polymer Battery  ₹12,999   \n",
       "21  5000 mAh Lithium-ion Polymer Battery  ₹12,999   \n",
       "22      5000 mAh Lithium Polymer Battery  ₹10,999   \n",
       "23  6000 mAh Lithium-ion Polymer Battery   ₹7,999   \n",
       "\n",
       "                                                  URL  \n",
       "0   https://www.flipkart.com/poco-m2-slate-blue-64...  \n",
       "1   https://www.flipkart.com/poco-c3-arctic-blue-6...  \n",
       "2   https://www.flipkart.com/poco-m2-pitch-black-6...  \n",
       "3   https://www.flipkart.com/kall-k-1-black-8-gb/p...  \n",
       "4   https://www.flipkart.com/realme-narzo-20a-glor...  \n",
       "5   https://www.flipkart.com/realme-narzo-20a-vict...  \n",
       "6   https://www.flipkart.com/realme-narzo-20-glory...  \n",
       "7   https://www.flipkart.com/realme-narzo-20-victo...  \n",
       "8   https://www.flipkart.com/realme-narzo-20-glory...  \n",
       "9   https://www.flipkart.com/realme-narzo-20-victo...  \n",
       "10  https://www.flipkart.com/poco-m2-pitch-black-1...  \n",
       "11  https://www.flipkart.com/poco-c3-matte-black-6...  \n",
       "12  https://www.flipkart.com/infinix-hot-10-ocean-...  \n",
       "13  https://www.flipkart.com/infinix-hot-10-obsidi...  \n",
       "14  https://www.flipkart.com/infinix-hot-10-moonli...  \n",
       "15  https://www.flipkart.com/poco-m2-brick-red-64-...  \n",
       "16  https://www.flipkart.com/poco-m2-brick-red-128...  \n",
       "17  https://www.flipkart.com/redmi-9i-sea-blue-64-...  \n",
       "18  https://www.flipkart.com/realme-7i-fusion-gree...  \n",
       "19  https://www.flipkart.com/poco-m2-pro-green-gre...  \n",
       "20  https://www.flipkart.com/poco-m2-pro-green-gre...  \n",
       "21  https://www.flipkart.com/poco-m2-pro-out-blue-...  \n",
       "22  https://www.flipkart.com/poco-m2-slate-blue-12...  \n",
       "23  https://www.flipkart.com/infinix-smart-4-plus-...  "
      ]
     },
     "execution_count": 196,
     "metadata": {},
     "output_type": "execute_result"
    }
   ],
   "source": [
    "smartphone"
   ]
  },
  {
   "cell_type": "markdown",
   "metadata": {},
   "source": [
    "### 5.Write a program to scrap geospatial coordinates (latitude, longitude) of a city searched on google maps"
   ]
  },
  {
   "cell_type": "code",
   "execution_count": 2,
   "metadata": {},
   "outputs": [],
   "source": [
    "#import all the required libraries\n",
    "import pandas as pd\n",
    "import selenium\n",
    "from selenium import webdriver\n",
    "from selenium.common.exceptions import StaleElementReferenceException, NoSuchElementException\n"
   ]
  },
  {
   "cell_type": "code",
   "execution_count": 3,
   "metadata": {},
   "outputs": [],
   "source": [
    "driver=webdriver.Chrome(r\"C:\\Users\\Hp\\Desktop\\chromedriver.exe\")"
   ]
  },
  {
   "cell_type": "code",
   "execution_count": 4,
   "metadata": {},
   "outputs": [],
   "source": [
    "driver.get(\"https://www.google.com/maps/@21.1613484,78.9324213,11z\")\n"
   ]
  },
  {
   "cell_type": "code",
   "execution_count": 5,
   "metadata": {},
   "outputs": [],
   "source": [
    "search_field_things=driver.find_element_by_id(\"searchboxinput\")\n",
    "\n",
    "search_field_things.send_keys(\"Nagpur\")\n",
    "\n",
    "# clicking the search button\n",
    "search_button=driver.find_element_by_xpath(\"//div[@class='searchbox-searchbutton-container']/button\")\n",
    "search_button.click()"
   ]
  },
  {
   "cell_type": "markdown",
   "metadata": {},
   "source": [
    "### 6. Write a program to scrap details of all the funding deals for second quarter (i.e. July 20 –September 20) from trak.in.\n"
   ]
  },
  {
   "cell_type": "code",
   "execution_count": 1,
   "metadata": {},
   "outputs": [],
   "source": [
    "#import all the required libraries\n",
    "import pandas as pd\n",
    "import selenium\n",
    "from selenium import webdriver\n",
    "from selenium.common.exceptions import StaleElementReferenceException, NoSuchElementException\n"
   ]
  },
  {
   "cell_type": "code",
   "execution_count": 3,
   "metadata": {},
   "outputs": [],
   "source": [
    "driver=webdriver.Chrome(r\"C:\\Users\\Hp\\Desktop\\chromedriver.exe\")"
   ]
  },
  {
   "cell_type": "code",
   "execution_count": 4,
   "metadata": {},
   "outputs": [],
   "source": [
    "driver.get(\"https://trak.in/india-startup-funding-investment-2015/\")\n"
   ]
  },
  {
   "cell_type": "code",
   "execution_count": 5,
   "metadata": {},
   "outputs": [],
   "source": [
    "entry=[]"
   ]
  },
  {
   "cell_type": "code",
   "execution_count": 8,
   "metadata": {},
   "outputs": [
    {
     "data": {
      "text/plain": [
       "[<selenium.webdriver.remote.webelement.WebElement (session=\"56ff6d407a758a7990805d9305da4653\", element=\"c7d2309a-132c-428f-9d3b-873d6339dc9c\")>,\n",
       " <selenium.webdriver.remote.webelement.WebElement (session=\"56ff6d407a758a7990805d9305da4653\", element=\"54876e08-4aa2-4f04-b586-af8751937fa6\")>,\n",
       " <selenium.webdriver.remote.webelement.WebElement (session=\"56ff6d407a758a7990805d9305da4653\", element=\"9f2b9a98-127c-4db4-904b-f9ddec756fd0\")>,\n",
       " <selenium.webdriver.remote.webelement.WebElement (session=\"56ff6d407a758a7990805d9305da4653\", element=\"d8124479-cdb3-4b89-b9cb-85d7b61b7798\")>]"
      ]
     },
     "execution_count": 8,
     "metadata": {},
     "output_type": "execute_result"
    }
   ],
   "source": [
    "tags=driver.find_elements_by_xpath(\"//tbody[@class='row-hover']\")\n",
    "tags[0:4]"
   ]
  },
  {
   "cell_type": "code",
   "execution_count": 12,
   "metadata": {},
   "outputs": [
    {
     "data": {
      "text/plain": [
       "['1 08/09/2020 Byju’s EduTech Online Tutoring Bangalore Silver Lake, Tiger Global, General Atlantic and Owl Ventures\\nPrivate Equity 500,000,000\\n2 12/09/2020 mCaffeine Personal Care Skincare & Haircare Mumbai Amicus Capital Private Equity I LLP, Amicus Capital Partners India Fund I and RP-SG Venture Fund 1 Series B 3,000,000\\n3 09/09/2020 Qshala EduTech Online Curiosity Platform for Kids Bangalore Rainmatter Capital Angel 370,000\\n4 02/09/2020 Winzo Online Gaming Online Gaming New Delhi Kalaari Capital Partners, IndigoEdge Management Consultancy Series B 15,500,000\\n5 09/09/2020 Hippo Video Video Customer Experience(CX) Platform Video Customer Experience(CX) Platform Newark, Delaware, United States of Amercia Alpha Wave Incubation, Exfinity Venture Partners and existing backers.\\nSeries A 4,500,000\\n6 07/09/2020 Melorra E-commerce Online Jewelry Store\\nBangalore Shadow Holdings, Lightbox. Debt Financing upto 8,900,000\\n7 07/09/2020 1mg E-commerce Online Pharmacy Gurgaon Gaja Capital, Tata Capital, Partners Group In Progress 100,000,000\\n8 31/08/2020 mfine HealthTech On-Demand Healthcare Services Bangalore Caretech Pte Inc Series B 5,400,000\\n9 31/08/2020 Apna Human Resources Recruitment Platform Bangalore Lightspeed India and Sequoia Capital India Series A 8,000,000\\n10 03/09/2020 Railofy Transportation WL & RAC protection platform Mumbai Chiratae Ventures Seed 950,000',\n",
       " '1 15/08/2020 Practo HealthTech Health care and Wellness Bangalore A1A Company\\nSeries F 32,000,000\\n2 13/08/2020 Medlife E-commerce Online Pharmacy Bangalore Prasid Uno Family Trust and SC Credit Fund 23,000,000\\n3 13/08/2020 HungerBox\\nFoodTech Online Food Delivery Service Bangalore One97, Sabre Partners Trust, Pratithi Investment Trust, and Srihari Kumar Series D1 1,560,000\\n4 04/08/2020 Dunzo Hyper-local Logistics Online Delivery Services Bangalore Existing Backers In Progress 30,000,000\\n5 11/08/2020 Terra.do EduTech Online Climate School, E-learning Stanford, California, Stanford Angels and Entrepreneurs (India), BEENEXT Emerging Asia, Rainmatter Capital\\n\\nSeed 1,400,000\\n6 12/08/2020 Classplus EduTech E-learning, Online Tutoring\\n\\nNoida Falcon Edge In Progress upto 15,000,000\\n7 14/08/2020 Niyo FinTech Financial Services Bangalore Niyo Solutions Inc. 6,000,000\\n8 10/08/2020 ZestMoney FinTech Financial Services Bangalore Primrose Hills Ventures 10,670,000\\n9 07/08/2020 FreshToHome E-commerce Food Delivery Bangalore Ascent Capital Venture 16,200,000\\n10 13/08/2020 Eduvanz FinTech Financial Services Mumbai Sequoia India, Unitus Series A 5,000,000',\n",
       " '1 15/07/2020 Flipkart E-commerce E-commerce Bangalore Walmart Inc\\nM&A 1,200,000,000\\n2 16/07/2020 Vedantu EduTech Online Tutoring Bangalore Coatue Management Series D 100,000,000\\n3 16/07/2020 Crio EduTech Learning Platform for Developers Bangalore 021 Capital pre-Series A 934,160\\n4 14/07/2020 goDutch FinTech Group Payments Mumbai Matrix India,Y Combinator, Global Founders Capital, Soma Capital, and VentureSouq. Seed 1,700,000\\n5 13/07/2020 Mystifly\\nAirfare Marketplace Ticketing, Airline Retailing, and Post-Ticketing Services Singapore and Bangalore Recruit Co. Ltd.\\n\\npre-Series B 3,300,000\\n6 09/07/2020 JetSynthesys Gaming and Entertainment Gaming and Entertainment\\n\\nPune Adar Poonawalla and Kris Gopalakrishnan.\\nVenture-Series Unknown 400,000\\n7 10/07/2020 gigIndia\\nMarketplace Crowd Sourcing, Freelance Pune Incubate Fund India and Beyond Next Ventures pre-Series A 974,200\\n8 15/07/2020 PumPumPum Automotive Rental Used Car-leasing platform Gurgaon Early Adapters Syndicate Seed 292,800\\n9 14/07/2020 FLYX OTT Player Streaming Social Network New York and Delhi Raj Mishra, founder of AIT Global Inc pre-Seed 200,000\\n10 13/07/2020 Open Appliances Pvt. Ltd. Information Technology Internet-of-Things Security Solutions Bangalore Unicorn India Ventures Venture-Series Unknown 500,000']"
      ]
     },
     "execution_count": 12,
     "metadata": {},
     "output_type": "execute_result"
    }
   ],
   "source": [
    "entries=[]\n",
    "for i in tags:\n",
    "    if i.text is None :\n",
    "        entries.append(\"--\") \n",
    "    else:\n",
    "        entries.append(i.text)"
   ]
  },
  {
   "cell_type": "code",
   "execution_count": 121,
   "metadata": {},
   "outputs": [],
   "source": [
    "val=\"\"\"1 08/09/2020 Byju’s EduTech Online Tutoring Bangalore Silver Lake, Tiger Global, General Atlantic and Owl Ventures\\nPrivate Equity 500,000,000\\n2 12/09/2020 mCaffeine Personal Care Skincare & Haircare Mumbai Amicus Capital Private Equity I LLP, Amicus Capital Partners India Fund I and RP-SG Venture Fund 1 Series B 3,000,000\\n3 09/09/2020 Qshala EduTech Online Curiosity Platform for Kids Bangalore Rainmatter Capital Angel 370,000\\n4 02/09/2020 Winzo Online Gaming Online Gaming New Delhi Kalaari Capital Partners, IndigoEdge Management Consultancy Series B 15,500,000\\n5 09/09/2020 Hippo Video Video Customer Experience(CX) Platform Video Customer Experience(CX) Platform Newark, Delaware, United States of Amercia Alpha Wave Incubation, Exfinity Venture Partners and existing backers.\\nSeries A 4,500,000\\n6 07/09/2020 Melorra E-commerce Online Jewelry Store\\nBangalore Shadow Holdings, Lightbox. Debt Financing upto 8,900,000\\n7 07/09/2020 1mg E-commerce Online Pharmacy Gurgaon Gaja Capital, Tata Capital, Partners Group In Progress 100,000,000\\n8 31/08/2020 mfine HealthTech On-Demand Healthcare Services Bangalore Caretech Pte Inc Series B 5,400,000\\n9 31/08/2020 Apna Human Resources Recruitment Platform Bangalore Lightspeed India and Sequoia Capital India Series A 8,000,000\\n10 03/09/2020 Railofy Transportation WL & RAC protection platform Mumbai Chiratae Ventures Seed 950,000',\n",
    "'1 15/08/2020 Practo HealthTech Health care and Wellness Bangalore A1A Company\\nSeries F 32,000,000\\n2 13/08/2020 Medlife E-commerce Online Pharmacy Bangalore Prasid Uno Family Trust and SC Credit Fund 23,000,000\\n3 13/08/2020 HungerBox\\nFoodTech Online Food Delivery Service Bangalore One97, Sabre Partners Trust, Pratithi Investment Trust, and Srihari Kumar Series D1 1,560,000\\n4 04/08/2020 Dunzo Hyper-local Logistics Online Delivery Services Bangalore Existing Backers In Progress 30,000,000\\n5 11/08/2020 Terra.do EduTech Online Climate School, E-learning Stanford, California, Stanford Angels and Entrepreneurs (India), BEENEXT Emerging Asia, Rainmatter Capital\\n\\nSeed 1,400,000\\n6 12/08/2020 Classplus EduTech E-learning, Online Tutoring\\n\\nNoida Falcon Edge In Progress upto 15,000,000\\n7 14/08/2020 Niyo FinTech Financial Services Bangalore Niyo Solutions Inc. 6,000,000\\n8 10/08/2020 ZestMoney FinTech Financial Services Bangalore Primrose Hills Ventures 10,670,000\\n9 07/08/2020 FreshToHome E-commerce Food Delivery Bangalore Ascent Capital Venture 16,200,000\\n10 13/08/2020 Eduvanz FinTech Financial Services Mumbai Sequoia India, Unitus Series A 5,000,000',\n",
    " '1 15/07/2020 Flipkart E-commerce E-commerce Bangalore Walmart Inc\\nM&A 1,200,000,000\\n2 16/07/2020 Vedantu EduTech Online Tutoring Bangalore Coatue Management Series D 100,000,000\\n3 16/07/2020 Crio EduTech Learning Platform for Developers Bangalore 021 Capital pre-Series A 934,160\\n4 14/07/2020 goDutch FinTech Group Payments Mumbai Matrix India,Y Combinator, Global Founders Capital, Soma Capital, and VentureSouq. Seed 1,700,000\\n5 13/07/2020 Mystifly\\nAirfare Marketplace Ticketing, Airline Retailing, and Post-Ticketing Services Singapore and Bangalore Recruit Co. Ltd.\\n\\npre-Series B 3,300,000\\n6 09/07/2020 JetSynthesys Gaming and Entertainment Gaming and Entertainment\\n\\nPune Adar Poonawalla and Kris Gopalakrishnan.\\nVenture-Series Unknown 400,000\\n7 10/07/2020 gigIndia\\nMarketplace Crowd Sourcing, Freelance Pune Incubate Fund India and Beyond Next Ventures pre-Series A 974,200\\n8 15/07/2020 PumPumPum Automotive Rental Used Car-leasing platform Gurgaon Early Adapters Syndicate Seed 292,800\\n9 14/07/2020 FLYX OTT Player Streaming Social Network New York and Delhi Raj Mishra, founder of AIT Global Inc pre-Seed 200,000\\n10 13/07/2020 Open Appliances Pvt. Ltd. Information Technology Internet-of-Things Security Solutions Bangalore Unicorn India Ventures Venture-Series Unknown 500,000\"\"\""
   ]
  },
  {
   "cell_type": "code",
   "execution_count": 122,
   "metadata": {},
   "outputs": [
    {
     "data": {
      "text/plain": [
       "['1 08/09/2020 Byju’s EduTech Online Tutoring Bangalore Silver Lake, Tiger Global, General Atlantic and Owl Ventures',\n",
       " 'Private Equity 500,000,000',\n",
       " '2 12/09/2020 mCaffeine Personal Care Skincare & Haircare Mumbai Amicus Capital Private Equity I LLP, Amicus Capital Partners India Fund I and RP-SG Venture Fund 1 Series B 3,000,000',\n",
       " '3 09/09/2020 Qshala EduTech Online Curiosity Platform for Kids Bangalore Rainmatter Capital Angel 370,000',\n",
       " '4 02/09/2020 Winzo Online Gaming Online Gaming New Delhi Kalaari Capital Partners, IndigoEdge Management Consultancy Series B 15,500,000',\n",
       " '5 09/09/2020 Hippo Video Video Customer Experience(CX) Platform Video Customer Experience(CX) Platform Newark, Delaware, United States of Amercia Alpha Wave Incubation, Exfinity Venture Partners and existing backers.',\n",
       " 'Series A 4,500,000',\n",
       " '6 07/09/2020 Melorra E-commerce Online Jewelry Store',\n",
       " 'Bangalore Shadow Holdings, Lightbox. Debt Financing upto 8,900,000',\n",
       " '7 07/09/2020 1mg E-commerce Online Pharmacy Gurgaon Gaja Capital, Tata Capital, Partners Group In Progress 100,000,000',\n",
       " '8 31/08/2020 mfine HealthTech On-Demand Healthcare Services Bangalore Caretech Pte Inc Series B 5,400,000',\n",
       " '9 31/08/2020 Apna Human Resources Recruitment Platform Bangalore Lightspeed India and Sequoia Capital India Series A 8,000,000',\n",
       " \"10 03/09/2020 Railofy Transportation WL & RAC protection platform Mumbai Chiratae Ventures Seed 950,000',\",\n",
       " \"'1 15/08/2020 Practo HealthTech Health care and Wellness Bangalore A1A Company\",\n",
       " 'Series F 32,000,000',\n",
       " '2 13/08/2020 Medlife E-commerce Online Pharmacy Bangalore Prasid Uno Family Trust and SC Credit Fund 23,000,000',\n",
       " '3 13/08/2020 HungerBox',\n",
       " 'FoodTech Online Food Delivery Service Bangalore One97, Sabre Partners Trust, Pratithi Investment Trust, and Srihari Kumar Series D1 1,560,000',\n",
       " '4 04/08/2020 Dunzo Hyper-local Logistics Online Delivery Services Bangalore Existing Backers In Progress 30,000,000',\n",
       " '5 11/08/2020 Terra.do EduTech Online Climate School, E-learning Stanford, California, Stanford Angels and Entrepreneurs (India), BEENEXT Emerging Asia, Rainmatter Capital',\n",
       " '',\n",
       " 'Seed 1,400,000',\n",
       " '6 12/08/2020 Classplus EduTech E-learning, Online Tutoring',\n",
       " '',\n",
       " 'Noida Falcon Edge In Progress upto 15,000,000',\n",
       " '7 14/08/2020 Niyo FinTech Financial Services Bangalore Niyo Solutions Inc. 6,000,000',\n",
       " '8 10/08/2020 ZestMoney FinTech Financial Services Bangalore Primrose Hills Ventures 10,670,000',\n",
       " '9 07/08/2020 FreshToHome E-commerce Food Delivery Bangalore Ascent Capital Venture 16,200,000',\n",
       " \"10 13/08/2020 Eduvanz FinTech Financial Services Mumbai Sequoia India, Unitus Series A 5,000,000',\",\n",
       " \" '1 15/07/2020 Flipkart E-commerce E-commerce Bangalore Walmart Inc\",\n",
       " 'M&A 1,200,000,000',\n",
       " '2 16/07/2020 Vedantu EduTech Online Tutoring Bangalore Coatue Management Series D 100,000,000',\n",
       " '3 16/07/2020 Crio EduTech Learning Platform for Developers Bangalore 021 Capital pre-Series A 934,160',\n",
       " '4 14/07/2020 goDutch FinTech Group Payments Mumbai Matrix India,Y Combinator, Global Founders Capital, Soma Capital, and VentureSouq. Seed 1,700,000',\n",
       " '5 13/07/2020 Mystifly',\n",
       " 'Airfare Marketplace Ticketing, Airline Retailing, and Post-Ticketing Services Singapore and Bangalore Recruit Co. Ltd.',\n",
       " '',\n",
       " 'pre-Series B 3,300,000',\n",
       " '6 09/07/2020 JetSynthesys Gaming and Entertainment Gaming and Entertainment',\n",
       " '',\n",
       " 'Pune Adar Poonawalla and Kris Gopalakrishnan.',\n",
       " 'Venture-Series Unknown 400,000',\n",
       " '7 10/07/2020 gigIndia',\n",
       " 'Marketplace Crowd Sourcing, Freelance Pune Incubate Fund India and Beyond Next Ventures pre-Series A 974,200',\n",
       " '8 15/07/2020 PumPumPum Automotive Rental Used Car-leasing platform Gurgaon Early Adapters Syndicate Seed 292,800',\n",
       " '9 14/07/2020 FLYX OTT Player Streaming Social Network New York and Delhi Raj Mishra, founder of AIT Global Inc pre-Seed 200,000',\n",
       " '10 13/07/2020 Open Appliances Pvt. Ltd. Information Technology Internet-of-Things Security Solutions Bangalore Unicorn India Ventures Venture-Series Unknown 500,000']"
      ]
     },
     "execution_count": 122,
     "metadata": {},
     "output_type": "execute_result"
    }
   ],
   "source": [
    "val=val.split('\\n')\n",
    "val"
   ]
  },
  {
   "cell_type": "code",
   "execution_count": null,
   "metadata": {},
   "outputs": [],
   "source": []
  },
  {
   "cell_type": "markdown",
   "metadata": {},
   "source": [
    "### 7. Write a program to scrap all the available details of top 10 gaming laptops from digit.in. "
   ]
  },
  {
   "cell_type": "code",
   "execution_count": 95,
   "metadata": {},
   "outputs": [],
   "source": [
    "#import all the required libraries\n",
    "import pandas as pd\n",
    "import selenium\n",
    "from selenium import webdriver\n",
    "from selenium.common.exceptions import StaleElementReferenceException, NoSuchElementException\n"
   ]
  },
  {
   "cell_type": "code",
   "execution_count": 96,
   "metadata": {},
   "outputs": [],
   "source": [
    "driver=webdriver.Chrome(r\"C:\\Users\\Hp\\Desktop\\chromedriver.exe\")"
   ]
  },
  {
   "cell_type": "code",
   "execution_count": 97,
   "metadata": {},
   "outputs": [],
   "source": [
    "driver.get(\"https://www.digit.in/top-products/best-gaming-laptops-40.html\")\n"
   ]
  },
  {
   "cell_type": "code",
   "execution_count": 98,
   "metadata": {},
   "outputs": [],
   "source": [
    "product_name=[]\n",
    "seller=[]\n",
    "price=[]"
   ]
  },
  {
   "cell_type": "code",
   "execution_count": 99,
   "metadata": {},
   "outputs": [
    {
     "data": {
      "text/plain": [
       "[<selenium.webdriver.remote.webelement.WebElement (session=\"f6277324ca77aee5c4b2ec14f866dcda\", element=\"77e1bc6e-06a2-43fe-90dc-fbcc0c60af8c\")>]"
      ]
     },
     "execution_count": 99,
     "metadata": {},
     "output_type": "execute_result"
    }
   ],
   "source": [
    "tags=driver.find_elements_by_xpath(\"//div[@class='Top10-Seller']\")\n",
    "tags[0:4]"
   ]
  },
  {
   "cell_type": "code",
   "execution_count": 100,
   "metadata": {},
   "outputs": [
    {
     "data": {
      "text/plain": [
       "['List Of Best Gaming Laptops In India\\nPRODUCT NAME SELLER PRICE\\nMSI GT76 TITAN DT 9SG N/A ₹379990\\nAlienware 17 Area-51m amazon ₹489909\\nHP Omen 15 2020 Tatacliq ₹117790\\nAsus Zephyrus G14 amazon ₹164990\\nLenovo Legion Y540 flipkart ₹79990\\nAsus ROG Zephyrus G GA502 flipkart ₹79990\\nAsus ROG Zephyrus S GX531 amazon ₹146000\\nMSI GT83VR 7RE Titan SLI N/A ₹349990\\nASUS ROG ZEPHYRUS DUO 15 amazon ₹269975\\nDell G3 amazon ₹61990']"
      ]
     },
     "execution_count": 100,
     "metadata": {},
     "output_type": "execute_result"
    }
   ],
   "source": [
    "product=[]\n",
    "for i in tags:\n",
    "    if i.text is None :\n",
    "        product.append(\"--\") \n",
    "    else:\n",
    "        product.append(i.text)\n",
    "product"
   ]
  },
  {
   "cell_type": "code",
   "execution_count": 101,
   "metadata": {},
   "outputs": [],
   "source": [
    "val=\"\"\"MSI GT76 TITAN DT 9SG N/A ₹379990\\nAlienware 17 Area-51m amazon ₹489909\\nHP Omen 15 2020 Tatacliq ₹117790\\nAsus Zephyrus G14 amazon ₹164990\\nLenovo Legion Y540 flipkart ₹79990\\nAsus ROG Zephyrus G GA502 flipkart ₹79990\\nAsus ROG Zephyrus S GX531 amazon ₹146000\\nMSI GT83VR 7RE Titan SLI N/A ₹349990\\nASUS ROG ZEPHYRUS DUO 15 amazon ₹269975\\nDell G3 amazon ₹61990'\"\"\""
   ]
  },
  {
   "cell_type": "code",
   "execution_count": 102,
   "metadata": {},
   "outputs": [
    {
     "data": {
      "text/plain": [
       "['MSI GT76 TITAN DT 9SG N/A ₹379990',\n",
       " 'Alienware 17 Area-51m amazon ₹489909',\n",
       " 'HP Omen 15 2020 Tatacliq ₹117790',\n",
       " 'Asus Zephyrus G14 amazon ₹164990',\n",
       " 'Lenovo Legion Y540 flipkart ₹79990',\n",
       " 'Asus ROG Zephyrus G GA502 flipkart ₹79990',\n",
       " 'Asus ROG Zephyrus S GX531 amazon ₹146000',\n",
       " 'MSI GT83VR 7RE Titan SLI N/A ₹349990',\n",
       " 'ASUS ROG ZEPHYRUS DUO 15 amazon ₹269975',\n",
       " \"Dell G3 amazon ₹61990'\"]"
      ]
     },
     "execution_count": 102,
     "metadata": {},
     "output_type": "execute_result"
    }
   ],
   "source": [
    "val=val.split('\\n')\n",
    "val"
   ]
  },
  {
   "cell_type": "code",
   "execution_count": 103,
   "metadata": {},
   "outputs": [
    {
     "data": {
      "text/plain": [
       "['N/A',\n",
       " 'amazon',\n",
       " 'Tatacliq',\n",
       " 'amazon',\n",
       " 'flipkart',\n",
       " 'flipkart',\n",
       " 'amazon',\n",
       " 'N/A',\n",
       " 'amazon',\n",
       " 'amazon']"
      ]
     },
     "execution_count": 103,
     "metadata": {},
     "output_type": "execute_result"
    }
   ],
   "source": [
    "seller=[i.split(\" \")[-2] for i in val]\n",
    "seller"
   ]
  },
  {
   "cell_type": "code",
   "execution_count": 104,
   "metadata": {},
   "outputs": [
    {
     "data": {
      "text/plain": [
       "['₹379990',\n",
       " '₹489909',\n",
       " '₹117790',\n",
       " '₹164990',\n",
       " '₹79990',\n",
       " '₹79990',\n",
       " '₹146000',\n",
       " '₹349990',\n",
       " '₹269975',\n",
       " \"₹61990'\"]"
      ]
     },
     "execution_count": 104,
     "metadata": {},
     "output_type": "execute_result"
    }
   ],
   "source": [
    "price=[i.split(\" \")[-1] for i in val]\n",
    "price"
   ]
  },
  {
   "cell_type": "code",
   "execution_count": 105,
   "metadata": {},
   "outputs": [],
   "source": [
    "val=\"MSI GT76 TITAN DT 9SG,Alienware 17 Area-51m,HP Omen 15 2020,Asus Zephyrus G14,Lenovo Legion Y540,Asus ROG Zephyrus G GA502,Asus ROG Zephyrus S GX531,MSI GT83VR 7RE Titan SLI,ASUS ROG ZEPHYRUS DUO 15,Dell G3\""
   ]
  },
  {
   "cell_type": "code",
   "execution_count": 106,
   "metadata": {},
   "outputs": [
    {
     "data": {
      "text/plain": [
       "['MSI GT76 TITAN DT 9SG,Alienware 17 Area-51m,HP Omen 15 2020,Asus Zephyrus G14,Lenovo Legion Y540,Asus ROG Zephyrus G GA502,Asus ROG Zephyrus S GX531,MSI GT83VR 7RE Titan SLI,ASUS ROG ZEPHYRUS DUO 15,Dell G3']"
      ]
     },
     "execution_count": 106,
     "metadata": {},
     "output_type": "execute_result"
    }
   ],
   "source": [
    "val=val.split(\"\\n\")\n",
    "val"
   ]
  },
  {
   "cell_type": "code",
   "execution_count": 115,
   "metadata": {},
   "outputs": [],
   "source": [
    "value=[i.split(',')[0:10] for i in val]"
   ]
  },
  {
   "cell_type": "code",
   "execution_count": 116,
   "metadata": {},
   "outputs": [
    {
     "data": {
      "text/plain": [
       "['MSI GT76 TITAN DT 9SG',\n",
       " 'Alienware 17 Area-51m',\n",
       " 'HP Omen 15 2020',\n",
       " 'Asus Zephyrus G14',\n",
       " 'Lenovo Legion Y540',\n",
       " 'Asus ROG Zephyrus G GA502',\n",
       " 'Asus ROG Zephyrus S GX531',\n",
       " 'MSI GT83VR 7RE Titan SLI',\n",
       " 'ASUS ROG ZEPHYRUS DUO 15',\n",
       " 'Dell G3']"
      ]
     },
     "execution_count": 116,
     "metadata": {},
     "output_type": "execute_result"
    }
   ],
   "source": [
    "product_name=value[0]\n",
    "product_name"
   ]
  },
  {
   "cell_type": "code",
   "execution_count": 118,
   "metadata": {},
   "outputs": [
    {
     "data": {
      "text/html": [
       "<div>\n",
       "<style scoped>\n",
       "    .dataframe tbody tr th:only-of-type {\n",
       "        vertical-align: middle;\n",
       "    }\n",
       "\n",
       "    .dataframe tbody tr th {\n",
       "        vertical-align: top;\n",
       "    }\n",
       "\n",
       "    .dataframe thead th {\n",
       "        text-align: right;\n",
       "    }\n",
       "</style>\n",
       "<table border=\"1\" class=\"dataframe\">\n",
       "  <thead>\n",
       "    <tr style=\"text-align: right;\">\n",
       "      <th></th>\n",
       "      <th>product</th>\n",
       "      <th>seller</th>\n",
       "      <th>price</th>\n",
       "    </tr>\n",
       "  </thead>\n",
       "  <tbody>\n",
       "    <tr>\n",
       "      <th>0</th>\n",
       "      <td>MSI GT76 TITAN DT 9SG</td>\n",
       "      <td>N/A</td>\n",
       "      <td>₹379990</td>\n",
       "    </tr>\n",
       "    <tr>\n",
       "      <th>1</th>\n",
       "      <td>Alienware 17 Area-51m</td>\n",
       "      <td>amazon</td>\n",
       "      <td>₹489909</td>\n",
       "    </tr>\n",
       "    <tr>\n",
       "      <th>2</th>\n",
       "      <td>HP Omen 15 2020</td>\n",
       "      <td>Tatacliq</td>\n",
       "      <td>₹117790</td>\n",
       "    </tr>\n",
       "    <tr>\n",
       "      <th>3</th>\n",
       "      <td>Asus Zephyrus G14</td>\n",
       "      <td>amazon</td>\n",
       "      <td>₹164990</td>\n",
       "    </tr>\n",
       "    <tr>\n",
       "      <th>4</th>\n",
       "      <td>Lenovo Legion Y540</td>\n",
       "      <td>flipkart</td>\n",
       "      <td>₹79990</td>\n",
       "    </tr>\n",
       "    <tr>\n",
       "      <th>5</th>\n",
       "      <td>Asus ROG Zephyrus G GA502</td>\n",
       "      <td>flipkart</td>\n",
       "      <td>₹79990</td>\n",
       "    </tr>\n",
       "    <tr>\n",
       "      <th>6</th>\n",
       "      <td>Asus ROG Zephyrus S GX531</td>\n",
       "      <td>amazon</td>\n",
       "      <td>₹146000</td>\n",
       "    </tr>\n",
       "    <tr>\n",
       "      <th>7</th>\n",
       "      <td>MSI GT83VR 7RE Titan SLI</td>\n",
       "      <td>N/A</td>\n",
       "      <td>₹349990</td>\n",
       "    </tr>\n",
       "    <tr>\n",
       "      <th>8</th>\n",
       "      <td>ASUS ROG ZEPHYRUS DUO 15</td>\n",
       "      <td>amazon</td>\n",
       "      <td>₹269975</td>\n",
       "    </tr>\n",
       "    <tr>\n",
       "      <th>9</th>\n",
       "      <td>Dell G3</td>\n",
       "      <td>amazon</td>\n",
       "      <td>₹61990'</td>\n",
       "    </tr>\n",
       "  </tbody>\n",
       "</table>\n",
       "</div>"
      ],
      "text/plain": [
       "                     product    seller    price\n",
       "0      MSI GT76 TITAN DT 9SG       N/A  ₹379990\n",
       "1      Alienware 17 Area-51m    amazon  ₹489909\n",
       "2            HP Omen 15 2020  Tatacliq  ₹117790\n",
       "3          Asus Zephyrus G14    amazon  ₹164990\n",
       "4         Lenovo Legion Y540  flipkart   ₹79990\n",
       "5  Asus ROG Zephyrus G GA502  flipkart   ₹79990\n",
       "6  Asus ROG Zephyrus S GX531    amazon  ₹146000\n",
       "7   MSI GT83VR 7RE Titan SLI       N/A  ₹349990\n",
       "8   ASUS ROG ZEPHYRUS DUO 15    amazon  ₹269975\n",
       "9                    Dell G3    amazon  ₹61990'"
      ]
     },
     "execution_count": 118,
     "metadata": {},
     "output_type": "execute_result"
    }
   ],
   "source": [
    "gaming_laptops=pd.DataFrame({})\n",
    "gaming_laptops['product']=product_name\n",
    "gaming_laptops['seller']=seller\n",
    "gaming_laptops['price']=price\n",
    "gaming_laptops"
   ]
  }
 ],
 "metadata": {
  "kernelspec": {
   "display_name": "Python 3",
   "language": "python",
   "name": "python3"
  },
  "language_info": {
   "codemirror_mode": {
    "name": "ipython",
    "version": 3
   },
   "file_extension": ".py",
   "mimetype": "text/x-python",
   "name": "python",
   "nbconvert_exporter": "python",
   "pygments_lexer": "ipython3",
   "version": "3.7.6"
  }
 },
 "nbformat": 4,
 "nbformat_minor": 4
}
