{
 "cells": [
  {
   "cell_type": "markdown",
   "metadata": {},
   "source": [
    "##  1.  Displaying header tags"
   ]
  },
  {
   "cell_type": "code",
   "execution_count": 1,
   "metadata": {},
   "outputs": [],
   "source": [
    "from bs4 import BeautifulSoup\n",
    "import requests"
   ]
  },
  {
   "cell_type": "code",
   "execution_count": 2,
   "metadata": {},
   "outputs": [],
   "source": [
    "page=requests.get(\"https://en.wikipedia.org/wiki/Main_Page\")"
   ]
  },
  {
   "cell_type": "code",
   "execution_count": 3,
   "metadata": {},
   "outputs": [
    {
     "data": {
      "text/plain": [
       "b'<!DOCTYPE html>\\n<html class=\"client-nojs\" lang=\"en\" dir=\"ltr\">\\n<head>\\n<meta charset=\"UTF-8\"/>\\n<title>Wikipedia, the free encyclopedia</title>\\n<script>document.documentElement.className=\"client-js\";RLCONF={\"wgBreakFrames\":!1,\"wgSeparatorTransformTable\":[\"\",\"\"],\"wgDigitTransformTable\":[\"\",\"\"],\"wgDefaultDateFormat\":\"dmy\",\"wgMonthNames\":[\"\",\"January\",\"February\",\"March\",\"April\",\"May\",\"June\",\"July\",\"August\",\"September\",\"October\",\"November\",\"December\"],\"wgRequestId\":\"YAT2eApAMNUAAKaATHAAAAAF\",\"wgCSPNonce\":!1,\"wgCanonicalNamespace\":\"\",\"wgCanonicalSpecialPageName\":!1,\"wgNamespaceNumber\":0,\"wgPageName\":\"Main_Page\",\"wgTitle\":\"Main Page\",\"wgCurRevisionId\":987965326,\"wgRevisionId\":987965326,\"wgArticleId\":15580374,\"wgIsArticle\":!0,\"wgIsRedirect\":!1,\"wgAction\":\"view\",\"wgUserName\":null,\"wgUserGroups\":[\"*\"],\"wgCategories\":[],\"wgPageContentLanguage\":\"en\",\"wgPageContentModel\":\"wikitext\",\"wgRelevantPageName\":\"Main_Page\",\"wgRelevantArticleId\":15580374,\"wgIsProbablyEditable\":!1,\"wgRelevantPageIsProbablyEditable\":!1,\"wgRestrictionEdit\":[\"sysop\"],\"wgRestrictionMove\":[\"sysop\"],\"wgIsMainPage\":!0,\"wgMediaViewerOnClick\":!0,\\n\"wgMediaViewerEnabledByDefault\":!0,\"wgPopupsReferencePreviews\":!1,\"wgPopupsConflictsWithNavPopupGadget\":!1,\"wgPopupsConflictsWithRefTooltipsGadget\":!0,\"wgVisualEditor\":{\"pageLanguageCode\":\"en\",\"pageLanguageDir\":\"ltr\",\"pageVariantFallbacks\":\"en\"},\"wgMFDisplayWikibaseDescriptions\":{\"search\":!0,\"nearby\":!0,\"watchlist\":!0,\"tagline\":!1},\"wgWMESchemaEditAttemptStepOversample\":!1,\"wgULSCurrentAutonym\":\"English\",\"wgNoticeProject\":\"wikipedia\",\"wgCentralAuthMobileDomain\":!1,\"wgEditSubmitButtonLabelPublish\":!0,\"wgULSPosition\":\"interlanguage\",\"wgWikibaseItemId\":\"Q5296\"};RLSTATE={\"ext.globalCssJs.user.styles\":\"ready\",\"site.styles\":\"ready\",\"noscript\":\"ready\",\"user.styles\":\"ready\",\"ext.globalCssJs.user\":\"ready\",\"user\":\"ready\",\"user.options\":\"loading\",\"skins.vector.styles.legacy\":\"ready\",\"ext.visualEditor.desktopArticleTarget.noscript\":\"ready\",\"ext.uls.interlanguage\":\"ready\",\"ext.wikimediaBadges\":\"ready\"};RLPAGEMODULES=[\"site\",\"mediawiki.page.ready\",\"skins.vector.legacy.js\",\\n\"ext.gadget.ReferenceTooltips\",\"ext.gadget.charinsert\",\"ext.gadget.extra-toolbar-buttons\",\"ext.gadget.refToolbar\",\"ext.gadget.switcher\",\"ext.centralauth.centralautologin\",\"mmv.head\",\"mmv.bootstrap.autostart\",\"ext.popups\",\"ext.visualEditor.desktopArticleTarget.init\",\"ext.visualEditor.targetLoader\",\"ext.eventLogging\",\"ext.wikimediaEvents\",\"ext.navigationTiming\",\"ext.uls.interface\",\"ext.cx.eventlogging.campaigns\",\"ext.centralNotice.geoIP\",\"ext.centralNotice.startUp\"];</script>\\n<script>(RLQ=window.RLQ||[]).push(function(){mw.loader.implement(\"user.options@1hzgi\",function($,jQuery,require,module){/*@nomin*/mw.user.tokens.set({\"patrolToken\":\"+\\\\\\\\\",\"watchToken\":\"+\\\\\\\\\",\"csrfToken\":\"+\\\\\\\\\"});\\n});});</script>\\n<link rel=\"stylesheet\" href=\"/w/load.php?lang=en&amp;modules=ext.uls.interlanguage%7Cext.visualEditor.desktopArticleTarget.noscript%7Cext.wikimediaBadges%7Cskins.vector.styles.legacy&amp;only=styles&amp;skin=vector\"/>\\n<script async=\"\" src=\"/w/load.php?lang=en&amp;modules=startup&amp;only=scripts&amp;raw=1&amp;skin=vector\"></script>\\n<meta name=\"ResourceLoaderDynamicStyles\" content=\"\"/>\\n<link rel=\"stylesheet\" href=\"/w/load.php?lang=en&amp;modules=site.styles&amp;only=styles&amp;skin=vector\"/>\\n<meta name=\"generator\" content=\"MediaWiki 1.36.0-wmf.26\"/>\\n<meta name=\"referrer\" content=\"origin\"/>\\n<meta name=\"referrer\" content=\"origin-when-crossorigin\"/>\\n<meta name=\"referrer\" content=\"origin-when-cross-origin\"/>\\n<meta property=\"og:image\" content=\"https://upload.wikimedia.org/wikipedia/commons/thumb/a/a4/Porlock_Stone_Circle_I.jpg/1200px-Porlock_Stone_Circle_I.jpg\"/>\\n<link rel=\"preconnect\" href=\"//upload.wikimedia.org\"/>\\n<link rel=\"alternate\" media=\"only screen and (max-width: 720px)\" href=\"//en.m.wikipedia.org/wiki/Main_Page\"/>\\n<link rel=\"alternate\" type=\"application/atom+xml\" title=\"Wikipedia picture of the day feed\" href=\"/w/api.php?action=featuredfeed&amp;feed=potd&amp;feedformat=atom\"/>\\n<link rel=\"alternate\" type=\"application/atom+xml\" title=\"Wikipedia featured articles feed\" href=\"/w/api.php?action=featuredfeed&amp;feed=featured&amp;feedformat=atom\"/>\\n<link rel=\"alternate\" type=\"application/atom+xml\" title=\"Wikipedia &quot;On this day...&quot; feed\" href=\"/w/api.php?action=featuredfeed&amp;feed=onthisday&amp;feedformat=atom\"/>\\n<link rel=\"apple-touch-icon\" href=\"/static/apple-touch/wikipedia.png\"/>\\n<link rel=\"shortcut icon\" href=\"/static/favicon/wikipedia.ico\"/>\\n<link rel=\"search\" type=\"application/opensearchdescription+xml\" href=\"/w/opensearch_desc.php\" title=\"Wikipedia (en)\"/>\\n<link rel=\"EditURI\" type=\"application/rsd+xml\" href=\"//en.wikipedia.org/w/api.php?action=rsd\"/>\\n<link rel=\"license\" href=\"//creativecommons.org/licenses/by-sa/3.0/\"/>\\n<link rel=\"canonical\" href=\"https://en.wikipedia.org/wiki/Main_Page\"/>\\n<link rel=\"dns-prefetch\" href=\"//login.wikimedia.org\"/>\\n<link rel=\"dns-prefetch\" href=\"//meta.wikimedia.org\" />\\n</head>\\n<body class=\"mediawiki ltr sitedir-ltr mw-hide-empty-elt ns-0 ns-subject page-Main_Page rootpage-Main_Page skin-vector action-view skin-vector-legacy\"><div id=\"mw-page-base\" class=\"noprint\"></div>\\n<div id=\"mw-head-base\" class=\"noprint\"></div>\\n<div id=\"content\" class=\"mw-body\" role=\"main\">\\n\\t<a id=\"top\"></a>\\n\\t<div id=\"siteNotice\" class=\"mw-body-content\"><!-- CentralNotice --></div>\\n\\t<div class=\"mw-indicators mw-body-content\">\\n\\t</div>\\n\\t<h1 id=\"firstHeading\" class=\"firstHeading\" lang=\"en\">Main Page</h1>\\n\\t<div id=\"bodyContent\" class=\"mw-body-content\">\\n\\t\\t<div id=\"siteSub\" class=\"noprint\">From Wikipedia, the free encyclopedia</div>\\n\\t\\t<div id=\"contentSub\"></div>\\n\\t\\t<div id=\"contentSub2\"></div>\\n\\t\\t\\n\\t\\t<div id=\"jump-to-nav\"></div>\\n\\t\\t<a class=\"mw-jump-link\" href=\"#mw-head\">Jump to navigation</a>\\n\\t\\t<a class=\"mw-jump-link\" href=\"#searchInput\">Jump to search</a>\\n\\t\\t<div id=\"mw-content-text\" lang=\"en\" dir=\"ltr\" class=\"mw-content-ltr\"><div class=\"mw-parser-output\"><style data-mw-deduplicate=\"TemplateStyles:r979842806\">.mw-parser-output #mp-topbanner{clear:both;position:relative;box-sizing:border-box;width:100%;margin-top:1.2em;min-width:47em;border-color:#ddd;background-color:#f9f9f9;white-space:nowrap}.mw-parser-output .mp-bordered,.mw-parser-output .mp-h2,body.skin-timeless .mw-parser-output .mp-h2{border-width:1px;border-style:solid}.mw-parser-output #mp-topbanner,.mw-parser-output .mp-h2,.mw-parser-output #mp-left{color:#000}.mw-parser-output #mp-welcomecount{margin:0.4em;width:22em;text-align:center}.mw-parser-output #mp-welcome{font-size:162%;padding:0.1em}.mw-parser-output #mp-free{font-size:95%}.mw-parser-output #articlecount{font-size:85%}.mw-parser-output #mp-portals{position:absolute;right:-1em;top:50%;margin-top:-2.4em;width:38%;min-width:25em;font-size:95%}.mw-parser-output #mp-portals li{position:absolute;left:0;top:0}.mw-parser-output #mp-portals .portal-hmid{left:33%}.mw-parser-output #mp-portals .portal-hright{left:66%}.mw-parser-output #mp-portals .portal-vmid{top:1.6em}.mw-parser-output #mp-portals .portal-vbot{top:3.2em}.mw-parser-output .portal-hright.portal-vbot{font-weight:bold}.mw-parser-output #mp-banner{margin-top:4px;padding:0.5em;background-color:#fffaf5;border-color:#f2e0ce}.mw-parser-output .mp-h2,body.skin-timeless .mw-parser-output .mp-h2{margin:0.5em;padding:0.2em 0.4em;font-size:120%;font-weight:bold;font-family:inherit}.mw-parser-output h2.mp-h2::after{border:none}.mw-parser-output .mp-later{font-size:85%;font-weight:normal}.mw-parser-output #mp-upper{width:100%;margin-top:4px;margin-bottom:0;border-spacing:0;border-collapse:separate}.mw-parser-output #mp-upper .mid-table{border-color:transparent}.mw-parser-output #mp-left{width:55%;border-color:#cef2e0;background:#f5fffa}.mw-parser-output #mp-right{width:45%;border-color:#cedff2;background:#f5faff}.mw-parser-output #mp-left,.mw-parser-output #mp-right{padding:0;vertical-align:top}.mw-parser-output #mp-left .mp-h2{background:#cef2e0;border-color:#a3bfb1}.mw-parser-output #mp-right .mp-h2{background:#cedff2;border-color:#a3b0bf}.mw-parser-output #mp-tfa,.mw-parser-output #mp-dyk,.mw-parser-output #mp-itn,.mw-parser-output #mp-otd,.mw-parser-output #mp-other-lower>div{padding:0.1em 0.6em}.mw-parser-output #mp-dyk-h2,.mw-parser-output #mp-otd-h2{clear:both}.mw-parser-output #mp-middle{margin-top:4px;border-color:#f2cedd;background:#fff5fa}.mw-parser-output #mp-middle,.mw-parser-output #mp-lower,.mw-parser-output #mp-other-lower{overflow:auto}.mw-parser-output #mp-tfl-h2{background:#f2cedd;border-color:#bfa3af}.mw-parser-output #mp-tfl{padding:0.3em 0.7em}.mw-parser-output #mp-lower{margin-top:4px;border-color:#ddcef2;background:#faf5ff}.mw-parser-output #mp-tfp-h2{background:#ddcef2;border-color:#afa3bf}.mw-parser-output #mp-tfp{margin:0.1em 0.4em 0.6em}.mw-parser-output #mp-other-lower{padding:0;border-color:#e2e2e2;margin-top:4px}.mw-parser-output #mp-dyk,.mw-parser-output #mp-otd,.mw-parser-output #mp-other-lower{padding-bottom:0.5em}.mw-parser-output #mp-other-lower .mp-h2{background:#eee;border-color:#ddd;color:#222}@media(max-width:875px){body.skin--responsive .mw-parser-output #mp-welcomecount{width:auto}body.skin--responsive .mw-parser-output #mp-topbanner{min-width:0;white-space:normal}body.skin--responsive .mw-parser-output #mp-portals{display:block;position:static;width:auto;min-width:0;text-align:center;border-top:1px solid #ddd;padding:0.4em 0;margin:0 0.4em}body.skin--responsive .mw-parser-output #mp-portals li{position:static;display:inline;padding:0 5px}body.skin--responsive .mw-parser-output #mp-topbanner .portal-hright{white-space:nowrap}body.skin--responsive .mw-parser-output table,body.skin--responsive .mw-parser-output tr,body.skin--responsive .mw-parser-output td,body.skin--responsive .mw-parser-output tbody{display:block!important;width:100%!important;box-sizing:border-box}body.skin--responsive .mw-parser-output #mp-tfp tr:first-child td:first-child a{text-align:center;display:table;margin:0 auto}}</style>\\n<div id=\"mp-topbanner\" class=\"mp-bordered\">\\n<div id=\"mp-welcomecount\">\\n<div id=\"mp-welcome\">Welcome to <a href=\"/wiki/Wikipedia\" title=\"Wikipedia\">Wikipedia</a>,</div>\\n<div id=\"mp-free\">the <a href=\"/wiki/Free_content\" title=\"Free content\">free</a> <a href=\"/wiki/Encyclopedia\" title=\"Encyclopedia\">encyclopedia</a> that <a href=\"/wiki/Help:Introduction_to_Wikipedia\" title=\"Help:Introduction to Wikipedia\">anyone can edit</a>.</div>\\n<div id=\"articlecount\"><a href=\"/wiki/Special:Statistics\" title=\"Special:Statistics\">6,231,317</a> articles in <a href=\"/wiki/English_language\" title=\"English language\">English</a></div>\\n</div>\\n<ul id=\"mp-portals\">\\n<li><a href=\"/wiki/Portal:The_arts\" title=\"Portal:The arts\">The arts</a></li>\\n<li class=\"portal-vmid\"><a href=\"/wiki/Portal:Biography\" title=\"Portal:Biography\">Biography</a></li>\\n<li class=\"portal-vbot\"><a href=\"/wiki/Portal:Geography\" title=\"Portal:Geography\">Geography</a></li>\\n<li class=\"portal-hmid\"><a href=\"/wiki/Portal:History\" title=\"Portal:History\">History</a></li>\\n<li class=\"portal-hmid portal-vmid\"><a href=\"/wiki/Portal:Mathematics\" title=\"Portal:Mathematics\">Mathematics</a></li>\\n<li class=\"portal-hmid portal-vbot\"><a href=\"/wiki/Portal:Science\" title=\"Portal:Science\">Science</a></li>\\n<li class=\"portal-hright\"><a href=\"/wiki/Portal:Society\" title=\"Portal:Society\">Society</a></li>\\n<li class=\"portal-hright portal-vmid\"><a href=\"/wiki/Portal:Technology\" title=\"Portal:Technology\">Technology</a></li>\\n<li class=\"portal-hright portal-vbot\"><a href=\"/wiki/Wikipedia:Contents/Portals\" title=\"Wikipedia:Contents/Portals\">All portals</a></li>\\n</ul>\\n</div>\\n<div id=\"mp-banner\" class=\"MainPageBG mp-bordered\">\\n<div class=\"center\" style=\"padding: .2em;\">Wikipedia is celebrating its 20th birthday! <b><a href=\"/wiki/Wikipedia:20th_anniversary\" title=\"Wikipedia:20th anniversary\">Learn how you can take part</a></b> in the encyclopedia\\'s continued improvement.</div>\\n</div>\\n<table role=\"presentation\" id=\"mp-upper\">\\n<tbody><tr>\\n<td id=\"mp-left\" class=\"MainPageBG mp-bordered\">\\n<h2 id=\"mp-tfa-h2\" class=\"mp-h2\"><span id=\"From_today.27s_featured_article\"></span><span class=\"mw-headline\" id=\"From_today\\'s_featured_article\">From today\\'s featured article</span></h2>\\n<div id=\"mp-tfa\"><div id=\"mp-tfa-img\" style=\"float: left; margin: 0.5em 0.9em 0.4em 0em;\">\\n<div class=\"thumbinner mp-thumb\" style=\"background: transparent; border: none; padding: 0; max-width: 181px;\">\\n<a href=\"/wiki/File:Porlock_Stone_Circle_I.jpg\" class=\"image\" title=\"Site of the Porlock Stone Circle in 2014\"><img alt=\"Site of the Porlock Stone Circle in 2014\" src=\"//upload.wikimedia.org/wikipedia/commons/thumb/a/a4/Porlock_Stone_Circle_I.jpg/181px-Porlock_Stone_Circle_I.jpg\" decoding=\"async\" width=\"181\" height=\"108\" srcset=\"//upload.wikimedia.org/wikipedia/commons/thumb/a/a4/Porlock_Stone_Circle_I.jpg/272px-Porlock_Stone_Circle_I.jpg 1.5x, //upload.wikimedia.org/wikipedia/commons/thumb/a/a4/Porlock_Stone_Circle_I.jpg/362px-Porlock_Stone_Circle_I.jpg 2x\" data-file-width=\"2592\" data-file-height=\"1552\" /></a></div>\\n</div>\\n<p><b><a href=\"/wiki/Porlock_Stone_Circle\" title=\"Porlock Stone Circle\">Porlock Stone Circle</a></b>, on <a href=\"/wiki/Exmoor\" title=\"Exmoor\">Exmoor</a> in the <a href=\"/wiki/South_West_England\" title=\"South West England\">south-western English</a> county of <a href=\"/wiki/Somerset\" title=\"Somerset\">Somerset</a>, is part of a tradition of <a href=\"/wiki/Stone_circles_in_the_British_Isles_and_Brittany\" title=\"Stone circles in the British Isles and Brittany\">stone circle</a> construction that spread throughout much of Britain, Ireland, and <a href=\"/wiki/Brittany\" title=\"Brittany\">Brittany</a> during the <a href=\"/wiki/Neolithic_British_Isles\" title=\"Neolithic British Isles\">Late Neolithic</a> and <a href=\"/wiki/Bronze_Age_Britain\" title=\"Bronze Age Britain\">Early Bronze Age</a> between 3,300 and 900&#160;BCE. The purpose of such monuments is unknown, although archaeologists speculate that the stones represented <a href=\"/wiki/Supernatural\" title=\"Supernatural\">supernatural</a> entities for the circles\\' builders. Many monuments were built in Exmoor during the Bronze Age, but the only other surviving stone circle in the area is <a href=\"/wiki/Withypool_Stone_Circle\" title=\"Withypool Stone Circle\">the one near Withypool</a>. The circle near <a href=\"/wiki/Porlock\" title=\"Porlock\">Porlock</a> is about 24 metres (79 feet) in diameter and has thirteen green <a href=\"/wiki/Mica\" title=\"Mica\">micaceous</a> sandstone rocks. Directly to the north-east of the ring is a <a href=\"/wiki/Cairn\" title=\"Cairn\">cairn</a> apparently connected to a linear stone row. A small lead wheel inside the circle suggests that the site was visited during the <a href=\"/wiki/Roman_Britain\" title=\"Roman Britain\">Romano-British</a> period. The site was rediscovered in the 1920s. (<b><a href=\"/wiki/Porlock_Stone_Circle\" title=\"Porlock Stone Circle\">Full&#160;article...</a></b>)\\n</p>\\n<div class=\"tfa-recent\" style=\"text-align: right;\">\\nRecently featured: <div class=\"hlist hlist-separated inline\">\\n<ul><li><a href=\"/wiki/Elizabeth_Willing_Powel\" title=\"Elizabeth Willing Powel\">Elizabeth Willing Powel</a></li>\\n<li><a href=\"/wiki/John_C._Breckinridge\" title=\"John C. Breckinridge\">John C. Breckinridge</a></li>\\n<li><a href=\"/wiki/Mercenary_War\" title=\"Mercenary War\">Mercenary War</a></li></ul>\\n</div></div>\\n<div class=\"tfa-footer hlist hlist-separated noprint\" style=\"text-align: right;\">\\n<ul><li><b><a href=\"/wiki/Wikipedia:Today%27s_featured_article/January_2021\" title=\"Wikipedia:Today&#39;s featured article/January 2021\">Archive</a></b></li>\\n<li><b><a href=\"https://lists.wikimedia.org/mailman/listinfo/daily-article-l\" class=\"extiw\" title=\"mail:daily-article-l\">By email</a></b></li>\\n<li><b><a href=\"/wiki/Wikipedia:Featured_articles\" title=\"Wikipedia:Featured articles\">More featured articles</a></b></li></ul>\\n</div></div>\\n<h2 id=\"mp-dyk-h2\" class=\"mp-h2\"><span class=\"mw-headline\" id=\"Did_you_know_...\">Did you know&#160;...</span></h2>\\n<div id=\"mp-dyk\">\\n<div class=\"dyk-img\" style=\"float: right; margin-left: 0.5em;\">\\n<div class=\"thumbinner mp-thumb\" style=\"background: transparent; border: none; padding: 0; max-width: 124px;\">\\n<a href=\"/wiki/File:Theme_and_Variations_KCBallet_1_(cropped).jpg\" class=\"image\" title=\"Kansas City Ballet dancers in Theme and Variations\"><img alt=\"refer to caption\" src=\"//upload.wikimedia.org/wikipedia/commons/thumb/e/ed/Theme_and_Variations_KCBallet_1_%28cropped%29.jpg/124px-Theme_and_Variations_KCBallet_1_%28cropped%29.jpg\" decoding=\"async\" width=\"124\" height=\"157\" srcset=\"//upload.wikimedia.org/wikipedia/commons/thumb/e/ed/Theme_and_Variations_KCBallet_1_%28cropped%29.jpg/186px-Theme_and_Variations_KCBallet_1_%28cropped%29.jpg 1.5x, //upload.wikimedia.org/wikipedia/commons/thumb/e/ed/Theme_and_Variations_KCBallet_1_%28cropped%29.jpg/248px-Theme_and_Variations_KCBallet_1_%28cropped%29.jpg 2x\" data-file-width=\"1470\" data-file-height=\"1867\" /></a><div class=\"thumbcaption\" style=\"padding: 0.25em 0; word-wrap: break-word;\"><a href=\"/wiki/Kansas_City_Ballet\" title=\"Kansas City Ballet\">Kansas City Ballet</a> dancers in <i>Theme and Variations</i></div></div>\\n</div>\\n<ul><li>... that <a href=\"/wiki/George_Balanchine\" title=\"George Balanchine\">George Balanchine</a> choreographed the ballet <i><b><a href=\"/wiki/Theme_and_Variations_(ballet)\" title=\"Theme and Variations (ballet)\">Theme and Variations</a></b></i> <i>(pictured)</i> as a tribute to the imperial <a href=\"/wiki/Russian_ballet\" title=\"Russian ballet\">Russian ballet</a> style?</li>\\n<li>... that according to a chaplain at <a href=\"/wiki/Nonnberg_Abbey\" title=\"Nonnberg Abbey\">Nonnberg Abbey</a>, an abbot was immediately struck blind after stealing one of <b><a href=\"/wiki/Erentrude\" title=\"Erentrude\">Saint Erentrude</a></b><span class=\"nowrap\">&#39;s</span> relics 300&#160;years after her death?</li>\\n<li>... that <i><b><a href=\"/wiki/City_of_Champaign_v._Madigan\" title=\"City of Champaign v. Madigan\">City of Champaign v. Madigan</a></b></i> was the first decision by an <a href=\"/wiki/Illinois\" title=\"Illinois\">Illinois</a> court addressing whether the private emails of government officials are subject to public disclosure?</li>\\n<li>... that Chinese bandit <b><a href=\"/wiki/Ma_Xiang\" title=\"Ma Xiang\">Ma Xiang</a></b> raised a thousands-strong rebel army in just one or two days, conquered three <a href=\"/wiki/Commandery_(China)\" title=\"Commandery (China)\">commanderies</a>, and declared himself emperor, only to be killed by a much weaker opponent?</li>\\n<li>... that a mental-health hotline in <a href=\"/wiki/Puerto_Rico\" title=\"Puerto Rico\">Puerto Rico</a> recorded a spike in calls leading up to <b><a href=\"/wiki/Hurricane_Beryl\" title=\"Hurricane Beryl\">Hurricane Beryl</a></b>?</li>\\n<li>... that <b><a href=\"/wiki/Georgina_Schuyler\" title=\"Georgina Schuyler\">Georgina Schuyler</a></b> led the campaign to have the poem \"<a href=\"/wiki/The_New_Colossus\" title=\"The New Colossus\">The New Colossus</a>\" by <a href=\"/wiki/Emma_Lazarus\" title=\"Emma Lazarus\">Emma Lazarus</a> placed inside the pedestal of the <a href=\"/wiki/Statue_of_Liberty\" title=\"Statue of Liberty\">Statue of Liberty</a>?</li>\\n<li>... that the gill chambers of the <b><a href=\"/wiki/Codakia_orbicularis\" title=\"Codakia orbicularis\">tiger lucine</a></b>, the <b><a href=\"/wiki/Ctena_orbiculata\" title=\"Ctena orbiculata\">dwarf tiger lucine</a></b>, and the <b><a href=\"/wiki/Lucina_pensylvanica\" title=\"Lucina pensylvanica\">Pennsylvania lucine</a></b> contain <a href=\"/wiki/Symbiosis\" title=\"Symbiosis\">symbiotic</a> bacteria which help them live in sediments not suited to other <a href=\"/wiki/Bivalvia\" title=\"Bivalvia\">bivalves</a>?</li>\\n<li>... that upon completing their apprenticeships, British printers might be <b><a href=\"/wiki/Banging_out\" title=\"Banging out\">doused in ink and paper shavings and paraded through the streets</a></b>?</li></ul>\\n<div class=\"dyk-footer hlist hlist-separated noprint\" style=\"margin-top: 0.5em; text-align: right;\">\\n<ul><li><b><a href=\"/wiki/Wikipedia:Recent_additions\" title=\"Wikipedia:Recent additions\">Archive</a></b></li>\\n<li><b><a href=\"/wiki/Help:Your_first_article\" title=\"Help:Your first article\">Start a new article</a></b></li>\\n<li><b><a href=\"/wiki/Template_talk:Did_you_know\" title=\"Template talk:Did you know\">Nominate an article</a></b></li></ul>\\n</div>\\n</div>\\n</td>\\n<td class=\"mp-bordered mid-table\">\\n</td>\\n<td id=\"mp-right\" class=\"MainPageBG mp-bordered\">\\n<h2 id=\"mp-itn-h2\" class=\"mp-h2\"><span class=\"mw-headline\" id=\"In_the_news\">In the news</span></h2>\\n<div id=\"mp-itn\"><style data-mw-deduplicate=\"TemplateStyles:r976327607\">.mw-parser-output .itn-special{margin:0px 1px 4px 1px;padding:5px;text-align:center;border-style:solid;background:#fafcfe;border:1px solid #a3b0bf}</style><div class=\"itn-special hlist hlist-separated\">\\n<dl><dt><a href=\"/wiki/COVID-19_pandemic\" title=\"COVID-19 pandemic\"><span class=\"nowrap\">COVID-19</span> pandemic</a></dt>\\n<dd><a href=\"/wiki/Coronavirus_disease_2019\" title=\"Coronavirus disease 2019\">Disease</a></dd>\\n<dd><a href=\"/wiki/Severe_acute_respiratory_syndrome_coronavirus_2\" title=\"Severe acute respiratory syndrome coronavirus 2\">Virus</a></dd>\\n<dd><a href=\"/wiki/COVID-19_pandemic_by_country_and_territory\" title=\"COVID-19 pandemic by country and territory\"><span class=\"nowrap\">By location</span></a></dd>\\n<dd><a href=\"/wiki/Impact_of_the_COVID-19_pandemic\" title=\"Impact of the COVID-19 pandemic\">Impact</a></dd>\\n<dd><a href=\"/wiki/COVID-19_vaccine\" title=\"COVID-19 vaccine\">Vaccines</a></dd>\\n<dd><a href=\"/wiki/Portal:Coronavirus_disease_2019\" title=\"Portal:Coronavirus disease 2019\">Portal</a></dd></dl>\\n</div>\\n<div role=\"figure\" class=\"itn-img\" style=\"float: right; margin-left: 0.5em; margin-top: 0.2em;\">\\n<div class=\"thumbinner mp-thumb\" style=\"background: transparent; border: none; padding: 0; max-width: 121px;\">\\n<a href=\"/wiki/File:Mark_Rutte,_2017.jpg\" class=\"image\" title=\"Mark Rutte\"><img alt=\"Mark Rutte\" src=\"//upload.wikimedia.org/wikipedia/commons/thumb/e/ef/Mark_Rutte%2C_2017.jpg/121px-Mark_Rutte%2C_2017.jpg\" decoding=\"async\" width=\"121\" height=\"161\" srcset=\"//upload.wikimedia.org/wikipedia/commons/thumb/e/ef/Mark_Rutte%2C_2017.jpg/182px-Mark_Rutte%2C_2017.jpg 1.5x, //upload.wikimedia.org/wikipedia/commons/thumb/e/ef/Mark_Rutte%2C_2017.jpg/242px-Mark_Rutte%2C_2017.jpg 2x\" data-file-width=\"531\" data-file-height=\"708\" /></a><div class=\"thumbcaption\" style=\"padding: 0.25em 0; word-wrap: break-word; text-align: left;\">Mark Rutte</div></div>\\n</div>\\n<ul><li>Dutch prime minister <a href=\"/wiki/Mark_Rutte\" title=\"Mark Rutte\">Mark Rutte</a> (<i>pictured</i>) and <a href=\"/wiki/Third_Rutte_cabinet\" title=\"Third Rutte cabinet\">his cabinet</a> resign as a result of <b><a href=\"/wiki/Netherlands_child_welfare_fraud_scandal\" class=\"mw-redirect\" title=\"Netherlands child welfare fraud scandal\">a child welfare fraud scandal</a></b>.</li>\\n<li><b><a href=\"/wiki/2021_Sulawesi_earthquake\" title=\"2021 Sulawesi earthquake\">An earthquake</a></b> on the Indonesian island of <a href=\"/wiki/Sulawesi\" title=\"Sulawesi\">Sulawesi</a> kills at least 77 people and injures more than 800 others.</li>\\n<li><a href=\"/wiki/Donald_Trump\" title=\"Donald Trump\">Donald Trump</a> becomes the first U.S. president <b><a href=\"/wiki/Second_impeachment_of_Donald_Trump\" title=\"Second impeachment of Donald Trump\">to be impeached twice</a></b> after the <a href=\"/wiki/United_States_House_of_Representatives\" title=\"United States House of Representatives\">House of Representatives</a> charges him with <a href=\"/wiki/Incitement\" title=\"Incitement\">incitement</a> of <a href=\"/wiki/Rebellion\" title=\"Rebellion\">insurrection</a>.</li>\\n<li>In Ireland, <b><a href=\"/wiki/Mother_and_Baby_Homes_Commission_of_Investigation\" title=\"Mother and Baby Homes Commission of Investigation\">an inves&#173;ti&#173;gation</a></b> into church-run homes for unwed mothers and their babies details the deaths of 9,000 children between 1922 and 1998.</li></ul>\\n<div class=\"itn-footer\" style=\"margin-top: 0.5em;\">\\n<div><b><a href=\"/wiki/Portal:Current_events\" title=\"Portal:Current events\">Ongoing</a></b>: <div class=\"hlist hlist-separated inline\">\\n<ul><li><a href=\"/wiki/2020%E2%80%932021_Indian_farmers%27_protest\" title=\"2020\\xe2\\x80\\x932021 Indian farmers&#39; protest\">Indian farmers\\' protest</a></li></ul></div></div>\\n<div><b><a href=\"/wiki/Deaths_in_2021\" title=\"Deaths in 2021\">Recent deaths</a></b>&#58; <div class=\"hlist hlist-separated inline\">\\n<ul><li><a href=\"/wiki/Osian_Ellis\" title=\"Osian Ellis\">Osian Ellis</a></li>\\n<li><a href=\"/wiki/Seyoum_Mesfin\" title=\"Seyoum Mesfin\">Seyoum Mesfin</a></li>\\n<li><a href=\"/wiki/Ndubuisi_Kanu\" title=\"Ndubuisi Kanu\">Ndubuisi Kanu</a></li>\\n<li><a href=\"/wiki/Grace_Robertson\" title=\"Grace Robertson\">Grace Robertson</a></li>\\n<li><a href=\"/wiki/Gerry_Cottle\" title=\"Gerry Cottle\">Gerry Cottle</a></li>\\n<li><a href=\"/wiki/Bryan_Monroe\" title=\"Bryan Monroe\">Bryan Monroe</a></li></ul></div></div></div>\\n<div class=\"itn-footer hlist hlist-separated noprint\" style=\"text-align: right;\">\\n<ul><li><b><a href=\"/wiki/Wikipedia:In_the_news/Candidates\" title=\"Wikipedia:In the news/Candidates\">Nominate an article</a></b></li></ul></div></div>\\n<h2 id=\"mp-otd-h2\" class=\"mp-h2\"><span class=\"mw-headline\" id=\"On_this_day\">On this day</span></h2>\\n<div id=\"mp-otd\">\\n<p><b><a href=\"/wiki/January_18\" title=\"January 18\">January 18</a></b>: <b><a href=\"/wiki/Martin_Luther_King_Jr._Day\" title=\"Martin Luther King Jr. Day\">Martin Luther King&#160;Jr. Day</a></b> in the United States (2021)\\n</p>\\n<div style=\"float:right;margin-left:0.5em;\" id=\"mp-otd-img\">\\n<div style=\"float:right;margin-left:0.5em;\" id=\"mp-otd-img\">\\n<div class=\"thumbinner mp-thumb\" style=\"background: transparent; border: none; padding: 0; max-width: 120px;\">\\n<a href=\"/wiki/File:OKUMA_Shigenobu.jpg\" class=\"image\" title=\"\\xc5\\x8ckuma Shigenobu\"><img alt=\"\\xc5\\x8ckuma Shigenobu\" src=\"//upload.wikimedia.org/wikipedia/commons/thumb/2/2f/OKUMA_Shigenobu.jpg/120px-OKUMA_Shigenobu.jpg\" decoding=\"async\" width=\"120\" height=\"164\" srcset=\"//upload.wikimedia.org/wikipedia/commons/thumb/2/2f/OKUMA_Shigenobu.jpg/180px-OKUMA_Shigenobu.jpg 1.5x, //upload.wikimedia.org/wikipedia/commons/thumb/2/2f/OKUMA_Shigenobu.jpg/240px-OKUMA_Shigenobu.jpg 2x\" data-file-width=\"1024\" data-file-height=\"1397\" /></a><div class=\"thumbcaption\" style=\"padding: 0.25em 0; word-wrap: break-word;\">\\xc5\\x8ckuma Shigenobu</div></div>\\n</div>\\n</div>\\n<ul><li><a href=\"/wiki/1535\" title=\"1535\">1535</a> \\xe2\\x80\\x93 <a href=\"/wiki/Francisco_Pizarro\" title=\"Francisco Pizarro\">Francisco Pizarro</a> <b><a href=\"/wiki/History_of_Lima\" title=\"History of Lima\">founded Ciudad de los Reyes</a></b> (present-day <a href=\"/wiki/Lima\" title=\"Lima\">Lima</a>, Peru) as the capital of the lands conquered for the <a href=\"/wiki/Monarchy_of_Spain\" title=\"Monarchy of Spain\">Spanish crown</a>.</li>\\n<li><a href=\"/wiki/1871\" title=\"1871\">1871</a> \\xe2\\x80\\x93 A number of independent German states <b><a href=\"/wiki/Unification_of_Germany\" title=\"Unification of Germany\">unified</a></b> to form the <a href=\"/wiki/German_Empire\" title=\"German Empire\">German Empire</a>, with King <a href=\"/wiki/William_I,_German_Emperor\" title=\"William I, German Emperor\">Wilhelm&#160;I</a> of Prussia as <a href=\"/wiki/German_Emperor\" title=\"German Emperor\">emperor</a>.</li>\\n<li><a href=\"/wiki/1915\" title=\"1915\">1915</a> \\xe2\\x80\\x93 Japanese prime minister <a href=\"/wiki/%C5%8Ckuma_Shigenobu\" title=\"\\xc5\\x8ckuma Shigenobu\">\\xc5\\x8ckuma Shigenobu</a> <i>(pictured)</i> issued the <b><a href=\"/wiki/Twenty-One_Demands\" title=\"Twenty-One Demands\">Twenty-One Demands</a></b> to China in a bid to increase Japan\\'s power in East Asia.</li>\\n<li><a href=\"/wiki/1943\" title=\"1943\">1943</a> \\xe2\\x80\\x93 <a href=\"/wiki/World_War_II\" title=\"World War II\">World War&#160;II</a>: In <b><a href=\"/wiki/Operation_Iskra\" title=\"Operation Iskra\">Operation Iskra</a></b>, the <a href=\"/wiki/Red_Army\" title=\"Red Army\">Red Army</a> established a narrow land corridor to <a href=\"/wiki/Saint_Petersburg\" title=\"Saint Petersburg\">Leningrad</a>, partially easing <a href=\"/wiki/Siege_of_Leningrad\" title=\"Siege of Leningrad\">the protracted German siege</a>.</li></ul>\\n<div class=\"hlist hlist-separated\" style=\"margin-top: 0.5em;\"><ul><li><b><a href=\"/wiki/C%C3%A9sar_Cui\" title=\"C\\xc3\\xa9sar Cui\">C\\xc3\\xa9sar Cui</a></b>  (<abbr title=\"born\">b.</abbr>&#160;1835)</li><li><b><a href=\"/wiki/Edward_Bulwer-Lytton\" title=\"Edward Bulwer-Lytton\">Edward Bulwer-Lytton</a></b>  (<abbr title=\"died\">d.</abbr>&#160;1873)</li><li><b><a href=\"/wiki/Philippe_Starck\" title=\"Philippe Starck\">Philippe Starck</a></b>  (<abbr title=\"born\">b.</abbr>&#160;1949)</li></ul></div>\\n<div style=\"margin-top: 0.5em;\">\\nMore anniversaries: <div class=\"hlist hlist-separated inline nowraplinks\">\\n<ul><li><a href=\"/wiki/January_17\" title=\"January 17\">January 17</a></li>\\n<li><b><a href=\"/wiki/January_18\" title=\"January 18\">January 18</a></b></li>\\n<li><a href=\"/wiki/January_19\" title=\"January 19\">January 19</a></li></ul>\\n</div></div>\\n<div class=\"otd-footer hlist hlist-separated noprint\" style=\"text-align: right;\">\\n<ul><li><b><a href=\"/wiki/Wikipedia:Selected_anniversaries/January\" title=\"Wikipedia:Selected anniversaries/January\">Archive</a></b></li>\\n<li><b><a href=\"https://lists.wikimedia.org/mailman/listinfo/daily-article-l\" class=\"extiw\" title=\"mail:daily-article-l\">By email</a></b></li>\\n<li><b><a href=\"/wiki/List_of_days_of_the_year\" title=\"List of days of the year\">List of days of the year</a></b></li></ul>\\n</div></div>\\n</td></tr></tbody></table>\\n<div id=\"mp-middle\" class=\"MainPageBG mp-bordered\">\\n<div id=\"mp-center\">\\n<h2 id=\"mp-tfl-h2\" class=\"mp-h2\"><span id=\"From_today.27s_featured_list\"></span><span class=\"mw-headline\" id=\"From_today\\'s_featured_list\">From today\\'s featured list</span></h2>\\n<div id=\"mp-tfl\"><div id=\"mp-tfl-img\" style=\"float:right;margin:0.5em 0 0.4em 0.9em;\"><div class=\"thumbinner mp-thumb\" style=\"background: transparent; border: none; padding: 0; max-width: 133px;\">\\n<a href=\"/wiki/File:Kevin_Feige_(48462887397)_(cropped).jpg\" class=\"image\" title=\"Kevin Feige\"><img alt=\"Kevin Feige\" src=\"//upload.wikimedia.org/wikipedia/commons/thumb/e/e0/Kevin_Feige_%2848462887397%29_%28cropped%29.jpg/133px-Kevin_Feige_%2848462887397%29_%28cropped%29.jpg\" decoding=\"async\" width=\"133\" height=\"147\" srcset=\"//upload.wikimedia.org/wikipedia/commons/thumb/e/e0/Kevin_Feige_%2848462887397%29_%28cropped%29.jpg/200px-Kevin_Feige_%2848462887397%29_%28cropped%29.jpg 1.5x, //upload.wikimedia.org/wikipedia/commons/thumb/e/e0/Kevin_Feige_%2848462887397%29_%28cropped%29.jpg/266px-Kevin_Feige_%2848462887397%29_%28cropped%29.jpg 2x\" data-file-width=\"1788\" data-file-height=\"1977\" /></a><div class=\"thumbcaption\" style=\"padding: 0.25em 0; word-wrap: break-word;\">Kevin Feige</div></div>\\n</div>\\n<p>The 2019 American superhero film <i><a href=\"/wiki/Avengers:_Endgame\" title=\"Avengers: Endgame\">Avengers: Endgame</a></i> <b><a href=\"/wiki/List_of_accolades_received_by_Avengers:_Endgame\" title=\"List of accolades received by Avengers: Endgame\">was nominated</a></b> for one <a href=\"/wiki/Academy_Awards\" title=\"Academy Awards\">Academy Award</a>, one <a href=\"/wiki/Annie_Awards\" title=\"Annie Awards\">Annie Award</a> (which it won), one <a href=\"/wiki/British_Academy_Film_Awards\" title=\"British Academy Film Awards\">British Academy Film Award</a>, three <a href=\"/wiki/Critics%27_Choice_Movie_Awards\" title=\"Critics&#39; Choice Movie Awards\">Critics\\' Choice Awards</a> (winning two), one <a href=\"/wiki/Grammy_Award\" title=\"Grammy Award\">Grammy Award</a>, one <a href=\"/wiki/Hollywood_Film_Awards\" title=\"Hollywood Film Awards\">Hollywood Film Award</a> (which it won), seven <a href=\"/wiki/People%27s_Choice_Awards\" title=\"People&#39;s Choice Awards\">People\\'s Choice Awards</a> (winning three), and two <a href=\"/wiki/Satellite_Awards\" title=\"Satellite Awards\">Satellite Awards</a>. The film is the direct sequel to <i><a href=\"/wiki/Avengers:_Infinity_War\" title=\"Avengers: Infinity War\">Avengers: Infinity War</a></i> (2018) and <a href=\"/wiki/List_of_Marvel_Cinematic_Universe_films\" title=\"List of Marvel Cinematic Universe films\">the 22nd film</a> in the <a href=\"/wiki/Marvel_Cinematic_Universe\" title=\"Marvel Cinematic Universe\">Marvel Cinematic Universe</a>. It was directed by <a href=\"/wiki/Russo_brothers\" title=\"Russo brothers\">Anthony and Joe Russo</a>, produced by <a href=\"/wiki/Kevin_Feige\" title=\"Kevin Feige\">Kevin Feige</a> <i>(pictured)</i>, and written by <a href=\"/wiki/Christopher_Markus_and_Stephen_McFeely\" title=\"Christopher Markus and Stephen McFeely\">Christopher Markus and Stephen McFeely</a>, and features an <a href=\"/wiki/Ensemble_cast\" title=\"Ensemble cast\">ensemble cast</a>. Many of the actors were recognized for their work, including <a href=\"/wiki/Robert_Downey_Jr.\" title=\"Robert Downey Jr.\">Robert Downey&#160;Jr.</a> (seven nominations), <a href=\"/wiki/Scarlett_Johansson\" title=\"Scarlett Johansson\">Scarlett Johansson</a> (six nominations), <a href=\"/wiki/Chris_Evans_(actor)\" title=\"Chris Evans (actor)\">Chris Evans</a> (five nominations), and <a href=\"/wiki/Josh_Brolin\" title=\"Josh Brolin\">Josh Brolin</a> (five nominations). (<b><a href=\"/wiki/List_of_accolades_received_by_Avengers:_Endgame\" title=\"List of accolades received by Avengers: Endgame\">Full&#160;list...</a></b>)\\n</p>\\n<div class=\"tfl-recent\" style=\"text-align: right;\">\\nRecently featured: <div class=\"hlist inline\">\\n<ul><li><a href=\"/wiki/Wikimedian_of_the_Year\" title=\"Wikimedian of the Year\">Wikimedian of the Year</a></li>\\n<li><a href=\"/wiki/List_of_World_Heritage_Sites_in_Montenegro\" title=\"List of World Heritage Sites in Montenegro\">World Heritage Sites in Montenegro</a></li>\\n<li><a href=\"/wiki/Lecrae_discography\" title=\"Lecrae discography\">Lecrae discography</a></li></ul>\\n</div></div>\\n<div class=\"tfl-footer hlist noprint\" style=\"text-align: right;\">\\n<ul><li><b><a href=\"/wiki/Wikipedia:Today%27s_featured_list/January_2021\" title=\"Wikipedia:Today&#39;s featured list/January 2021\">Archive</a></b></li>\\n<li><b><a href=\"/wiki/Wikipedia:Featured_lists\" title=\"Wikipedia:Featured lists\">More featured lists</a></b></li></ul>\\n</div></div>\\n</div>\\n</div>\\n<div id=\"mp-lower\" class=\"MainPageBG mp-bordered\">\\n<div id=\"mp-bottom\">\\n<h2 id=\"mp-tfp-h2\" class=\"mp-h2\"><span id=\"Today.27s_featured_picture\"></span><span class=\"mw-headline\" id=\"Today\\'s_featured_picture\">Today\\'s featured picture</span></h2>\\n<div id=\"mp-tfp\">\\n<table role=\"presentation\" style=\"margin:0 3px 3px; width:100%; box-sizing:border-box; text-align:left; background-color:transparent; border-collapse:collapse;\">\\n<tbody><tr>\\n<td style=\"padding:0 0.9em 0 0; width:350px;\"><a href=\"/wiki/File:Black_darter_(Sympetrum_danae)_male.jpg\" class=\"image\" title=\"Sympetrum danae\"><img alt=\"Sympetrum danae\" src=\"//upload.wikimedia.org/wikipedia/commons/thumb/8/8d/Black_darter_%28Sympetrum_danae%29_male.jpg/350px-Black_darter_%28Sympetrum_danae%29_male.jpg\" decoding=\"async\" width=\"350\" height=\"233\" srcset=\"//upload.wikimedia.org/wikipedia/commons/thumb/8/8d/Black_darter_%28Sympetrum_danae%29_male.jpg/525px-Black_darter_%28Sympetrum_danae%29_male.jpg 1.5x, //upload.wikimedia.org/wikipedia/commons/thumb/8/8d/Black_darter_%28Sympetrum_danae%29_male.jpg/700px-Black_darter_%28Sympetrum_danae%29_male.jpg 2x\" data-file-width=\"3265\" data-file-height=\"2177\" /></a>\\n</td>\\n<td style=\"padding:0 6px 0 0\">\\n<p><i><b><a href=\"/wiki/Sympetrum_danae\" title=\"Sympetrum danae\">Sympetrum danae</a></b></i>, the black darter or black meadowhawk, is a species of dragonfly found in northern Europe, Asia, and North America. Both sexes are black and yellow, but the abdomen of the male is largely black while that of the female is largely yellow. Breeding takes place in shallow acidic pools, lake margins and ditches in lowland heaths and moorland bogs. The female lays her eggs during flight by dipping the tip of her abdomen into the water. The eggs hatch the following spring, the larvae developing very rapidly and emerging as adults in as little as two months. The male seen here is perched on a frond of <a href=\"/wiki/Bracken\" title=\"Bracken\">bracken</a> on Warren Heath in Hampshire, England.\\n</p>\\n<p style=\"text-align:left;\"><small>Photograph credit: <a href=\"/wiki/User:Charlesjsharp\" title=\"User:Charlesjsharp\">Charles J. Sharp</a></small></p>\\n<div class=\"potd-recent\" style=\"text-align:right;\">\\nRecently featured: <div class=\"hlist hlist-separated inline\">\\n<ul><li><a href=\"/wiki/Template:POTD/2021-01-17\" title=\"Template:POTD/2021-01-17\"><i>Stitching the Standard</i></a></li>\\n<li><a href=\"/wiki/Template:POTD/2021-01-16\" title=\"Template:POTD/2021-01-16\">Danzig gulden</a></li>\\n<li><a href=\"/wiki/Template:POTD/2021-01-15\" title=\"Template:POTD/2021-01-15\">Loie Fuller</a></li></ul>\\n</div></div>\\n<div class=\"potd-footer hlist hlist-separated noprint\" style=\"text-align:right;\">\\n<ul><li><b><a href=\"/wiki/Wikipedia:Picture_of_the_day/Archive\" title=\"Wikipedia:Picture of the day/Archive\">Archive</a></b></li>\\n<li><b><a href=\"/wiki/Wikipedia:Featured_pictures\" title=\"Wikipedia:Featured pictures\">More featured pictures</a></b></li></ul>\\n</div>\\n</td></tr></tbody></table></div>\\n</div>\\n</div>\\n<div id=\"mp-other-lower\" class=\"mp-bordered\">\\n<h2 id=\"mp-other\" class=\"mp-h2\"><span class=\"mw-headline\" id=\"Other_areas_of_Wikipedia\">Other areas of Wikipedia</span></h2>\\n<div id=\"mp-other-content\">\\n<ul><li><b><a href=\"/wiki/Wikipedia:Community_portal\" title=\"Wikipedia:Community portal\">Community portal</a></b> \\xe2\\x80\\x93 Bulletin board, projects, resources and activities covering a wide range of Wikipedia areas.</li>\\n<li><b><a href=\"/wiki/Wikipedia:Help_desk\" title=\"Wikipedia:Help desk\">Help desk</a></b> \\xe2\\x80\\x93 Ask questions about using Wikipedia.</li>\\n<li><b><a href=\"/wiki/Wikipedia:Local_Embassy\" title=\"Wikipedia:Local Embassy\">Local embassy</a></b> \\xe2\\x80\\x93 For Wikipedia-related communication in languages other than English.</li>\\n<li><b><a href=\"/wiki/Wikipedia:Reference_desk\" title=\"Wikipedia:Reference desk\">Reference desk</a></b> \\xe2\\x80\\x93 Serving as virtual librarians, Wikipedia volunteers tackle your questions on a wide range of subjects.</li>\\n<li><b><a href=\"/wiki/Wikipedia:News\" title=\"Wikipedia:News\">Site news</a></b> \\xe2\\x80\\x93 Announcements, updates, articles and press releases on Wikipedia and the Wikimedia Foundation.</li>\\n<li><b><a href=\"/wiki/Wikipedia:Village_pump\" title=\"Wikipedia:Village pump\">Village pump</a></b> \\xe2\\x80\\x93 For discussions about Wikipedia itself, including areas for technical issues and policies.</li></ul>\\n</div>\\n<h2 id=\"mp-sister\" class=\"mp-h2\"><span id=\"Wikipedia.27s_sister_projects\"></span><span class=\"mw-headline\" id=\"Wikipedia\\'s_sister_projects\">Wikipedia\\'s sister projects</span></h2>\\n<div id=\"mp-sister-content\"><style data-mw-deduplicate=\"TemplateStyles:r961577119\">.mw-parser-output #sister-projects-list{text-align:left;background:transparent;margin:1px;display:flex;flex-wrap:wrap}.mw-parser-output #sister-projects-list>div{width:33%;min-width:20em;white-space:nowrap;display:inline-block;flex:1 0 25%}.mw-parser-output #sister-projects-list>div>div{display:inline-block;vertical-align:middle;padding:6px 4px}.mw-parser-output #sister-projects-list>div>div:first-child{min-width:50px;text-align:center}</style>\\n<p>Wikipedia is hosted by the <a href=\"/wiki/Wikimedia_Foundation\" title=\"Wikimedia Foundation\">Wikimedia Foundation</a>, a non-profit organization that also hosts a range of other <a href=\"https://wikimediafoundation.org/our-work/wikimedia-projects/\" class=\"extiw\" title=\"foundationsite:our-work/wikimedia-projects/\">projects</a>:\\n</p>\\n<div id=\"sister-projects-list\" class=\"layout plainlinks\">\\n<div>\\n  <div> <a href=\"https://commons.wikimedia.org/wiki/\" title=\"Commons\"><img alt=\"Commons\" src=\"//upload.wikimedia.org/wikipedia/en/thumb/4/4a/Commons-logo.svg/31px-Commons-logo.svg.png\" decoding=\"async\" width=\"31\" height=\"42\" srcset=\"//upload.wikimedia.org/wikipedia/en/thumb/4/4a/Commons-logo.svg/47px-Commons-logo.svg.png 1.5x, //upload.wikimedia.org/wikipedia/en/thumb/4/4a/Commons-logo.svg/62px-Commons-logo.svg.png 2x\" data-file-width=\"1024\" data-file-height=\"1376\" /></a> </div>\\n  <div> <b><a class=\"external text\" href=\"https://commons.wikimedia.org/\">Commons</a></b> <br /> Free media repository </div>\\n</div>\\n<div>\\n  <div> <a href=\"https://www.mediawiki.org/wiki/\" title=\"MediaWiki\"><img alt=\"MediaWiki\" src=\"//upload.wikimedia.org/wikipedia/commons/thumb/3/3d/Mediawiki-logo.png/35px-Mediawiki-logo.png\" decoding=\"async\" width=\"35\" height=\"26\" srcset=\"//upload.wikimedia.org/wikipedia/commons/thumb/3/3d/Mediawiki-logo.png/53px-Mediawiki-logo.png 1.5x, //upload.wikimedia.org/wikipedia/commons/thumb/3/3d/Mediawiki-logo.png/70px-Mediawiki-logo.png 2x\" data-file-width=\"135\" data-file-height=\"102\" /></a> </div>\\n  <div> <b><a class=\"external text\" href=\"https://mediawiki.org/\">MediaWiki</a></b> <br /> Wiki software development </div>\\n</div>\\n<div>\\n  <div> <a href=\"https://meta.wikimedia.org/wiki/\" title=\"Meta-Wiki\"><img alt=\"Meta-Wiki\" src=\"//upload.wikimedia.org/wikipedia/commons/thumb/7/75/Wikimedia_Community_Logo.svg/35px-Wikimedia_Community_Logo.svg.png\" decoding=\"async\" width=\"35\" height=\"35\" srcset=\"//upload.wikimedia.org/wikipedia/commons/thumb/7/75/Wikimedia_Community_Logo.svg/53px-Wikimedia_Community_Logo.svg.png 1.5x, //upload.wikimedia.org/wikipedia/commons/thumb/7/75/Wikimedia_Community_Logo.svg/70px-Wikimedia_Community_Logo.svg.png 2x\" data-file-width=\"900\" data-file-height=\"900\" /></a> </div>\\n  <div> <b><a class=\"external text\" href=\"https://meta.wikimedia.org/\">Meta-Wiki</a></b> <br /> Wikimedia project coordination </div>\\n</div>\\n<div>\\n  <div> <a href=\"https://en.wikibooks.org/wiki/\" title=\"Wikibooks\"><img alt=\"Wikibooks\" src=\"//upload.wikimedia.org/wikipedia/commons/thumb/f/fa/Wikibooks-logo.svg/35px-Wikibooks-logo.svg.png\" decoding=\"async\" width=\"35\" height=\"35\" srcset=\"//upload.wikimedia.org/wikipedia/commons/thumb/f/fa/Wikibooks-logo.svg/53px-Wikibooks-logo.svg.png 1.5x, //upload.wikimedia.org/wikipedia/commons/thumb/f/fa/Wikibooks-logo.svg/70px-Wikibooks-logo.svg.png 2x\" data-file-width=\"300\" data-file-height=\"300\" /></a> </div>\\n  <div> <b><a class=\"external text\" href=\"https://en.wikibooks.org/\">Wikibooks</a></b> <br /> Free textbooks and manuals </div>\\n</div>\\n<div>\\n  <div> <a href=\"https://www.wikidata.org/wiki/\" title=\"Wikidata\"><img alt=\"Wikidata\" src=\"//upload.wikimedia.org/wikipedia/commons/thumb/f/ff/Wikidata-logo.svg/47px-Wikidata-logo.svg.png\" decoding=\"async\" width=\"47\" height=\"26\" srcset=\"//upload.wikimedia.org/wikipedia/commons/thumb/f/ff/Wikidata-logo.svg/71px-Wikidata-logo.svg.png 1.5x, //upload.wikimedia.org/wikipedia/commons/thumb/f/ff/Wikidata-logo.svg/94px-Wikidata-logo.svg.png 2x\" data-file-width=\"1050\" data-file-height=\"590\" /></a> </div>\\n  <div> <b><a class=\"external text\" href=\"https://www.wikidata.org/\">Wikidata</a></b> <br /> Free knowledge base </div>\\n</div>\\n<div>\\n  <div> <a href=\"https://en.wikinews.org/wiki/\" title=\"Wikinews\"><img alt=\"Wikinews\" src=\"//upload.wikimedia.org/wikipedia/commons/thumb/2/24/Wikinews-logo.svg/51px-Wikinews-logo.svg.png\" decoding=\"async\" width=\"51\" height=\"28\" srcset=\"//upload.wikimedia.org/wikipedia/commons/thumb/2/24/Wikinews-logo.svg/77px-Wikinews-logo.svg.png 1.5x, //upload.wikimedia.org/wikipedia/commons/thumb/2/24/Wikinews-logo.svg/102px-Wikinews-logo.svg.png 2x\" data-file-width=\"759\" data-file-height=\"415\" /></a> </div>\\n  <div> <b><a class=\"external text\" href=\"https://en.wikinews.org/\">Wikinews</a></b> <br /> Free-content news </div>\\n</div>\\n<div>\\n  <div> <a href=\"https://en.wikiquote.org/wiki/\" title=\"Wikiquote\"><img alt=\"Wikiquote\" src=\"//upload.wikimedia.org/wikipedia/commons/thumb/f/fa/Wikiquote-logo.svg/35px-Wikiquote-logo.svg.png\" decoding=\"async\" width=\"35\" height=\"41\" srcset=\"//upload.wikimedia.org/wikipedia/commons/thumb/f/fa/Wikiquote-logo.svg/53px-Wikiquote-logo.svg.png 1.5x, //upload.wikimedia.org/wikipedia/commons/thumb/f/fa/Wikiquote-logo.svg/70px-Wikiquote-logo.svg.png 2x\" data-file-width=\"300\" data-file-height=\"355\" /></a> </div>\\n  <div> <b><a class=\"external text\" href=\"https://en.wikiquote.org/\">Wikiquote</a></b> <br /> Collection of quotations </div>\\n</div>\\n<div>\\n  <div> <a href=\"https://en.wikisource.org/wiki/\" title=\"Wikisource\"><img alt=\"Wikisource\" src=\"//upload.wikimedia.org/wikipedia/commons/thumb/4/4c/Wikisource-logo.svg/35px-Wikisource-logo.svg.png\" decoding=\"async\" width=\"35\" height=\"37\" srcset=\"//upload.wikimedia.org/wikipedia/commons/thumb/4/4c/Wikisource-logo.svg/53px-Wikisource-logo.svg.png 1.5x, //upload.wikimedia.org/wikipedia/commons/thumb/4/4c/Wikisource-logo.svg/70px-Wikisource-logo.svg.png 2x\" data-file-width=\"410\" data-file-height=\"430\" /></a> </div>\\n  <div> <b><a class=\"external text\" href=\"https://en.wikisource.org/\">Wikisource</a></b> <br /> Free-content library </div>\\n</div>\\n<div>\\n  <div> <a href=\"https://species.wikimedia.org/wiki/\" title=\"Wikispecies\"><img alt=\"Wikispecies\" src=\"//upload.wikimedia.org/wikipedia/commons/thumb/d/df/Wikispecies-logo.svg/35px-Wikispecies-logo.svg.png\" decoding=\"async\" width=\"35\" height=\"41\" srcset=\"//upload.wikimedia.org/wikipedia/commons/thumb/d/df/Wikispecies-logo.svg/53px-Wikispecies-logo.svg.png 1.5x, //upload.wikimedia.org/wikipedia/commons/thumb/d/df/Wikispecies-logo.svg/70px-Wikispecies-logo.svg.png 2x\" data-file-width=\"941\" data-file-height=\"1103\" /></a> </div>\\n  <div> <b><a class=\"external text\" href=\"https://species.wikimedia.org/\">Wikispecies</a></b> <br /> Directory of species </div>\\n</div>\\n<div>\\n  <div> <a href=\"https://en.wikiversity.org/wiki/\" title=\"Wikiversity\"><img alt=\"Wikiversity\" src=\"//upload.wikimedia.org/wikipedia/commons/thumb/0/0b/Wikiversity_logo_2017.svg/41px-Wikiversity_logo_2017.svg.png\" decoding=\"async\" width=\"41\" height=\"34\" srcset=\"//upload.wikimedia.org/wikipedia/commons/thumb/0/0b/Wikiversity_logo_2017.svg/62px-Wikiversity_logo_2017.svg.png 1.5x, //upload.wikimedia.org/wikipedia/commons/thumb/0/0b/Wikiversity_logo_2017.svg/82px-Wikiversity_logo_2017.svg.png 2x\" data-file-width=\"626\" data-file-height=\"512\" /></a> </div>\\n  <div> <b><a class=\"external text\" href=\"https://en.wikiversity.org/\">Wikiversity</a></b> <br /> Free learning resources </div>\\n</div>\\n<div>\\n  <div> <a href=\"https://en.wikivoyage.org/wiki/\" title=\"Wikivoyage\"><img alt=\"Wikivoyage\" src=\"//upload.wikimedia.org/wikipedia/commons/thumb/d/dd/Wikivoyage-Logo-v3-icon.svg/35px-Wikivoyage-Logo-v3-icon.svg.png\" decoding=\"async\" width=\"35\" height=\"35\" srcset=\"//upload.wikimedia.org/wikipedia/commons/thumb/d/dd/Wikivoyage-Logo-v3-icon.svg/53px-Wikivoyage-Logo-v3-icon.svg.png 1.5x, //upload.wikimedia.org/wikipedia/commons/thumb/d/dd/Wikivoyage-Logo-v3-icon.svg/70px-Wikivoyage-Logo-v3-icon.svg.png 2x\" data-file-width=\"193\" data-file-height=\"193\" /></a> </div>\\n  <div> <b><a class=\"external text\" href=\"https://en.wikivoyage.org/\">Wikivoyage</a></b> <br /> Free travel guide </div>\\n</div>\\n<div>\\n  <div> <a href=\"https://en.wiktionary.org/wiki/\" title=\"Wiktionary\"><img alt=\"Wiktionary\" src=\"//upload.wikimedia.org/wikipedia/en/thumb/0/06/Wiktionary-logo-v2.svg/35px-Wiktionary-logo-v2.svg.png\" decoding=\"async\" width=\"35\" height=\"35\" srcset=\"//upload.wikimedia.org/wikipedia/en/thumb/0/06/Wiktionary-logo-v2.svg/53px-Wiktionary-logo-v2.svg.png 1.5x, //upload.wikimedia.org/wikipedia/en/thumb/0/06/Wiktionary-logo-v2.svg/70px-Wiktionary-logo-v2.svg.png 2x\" data-file-width=\"391\" data-file-height=\"391\" /></a> </div>\\n  <div> <b><a class=\"external text\" href=\"https://en.wiktionary.org/\">Wiktionary</a></b> <br /> Dictionary and thesaurus </div>\\n</div>\\n</div></div>\\n<h2 id=\"mp-lang\" class=\"mp-h2\"><span class=\"mw-headline\" id=\"Wikipedia_languages\">Wikipedia languages</span></h2>\\n<div><style data-mw-deduplicate=\"TemplateStyles:r997272951\">.mw-parser-output .wikipedia-languages-complete{font-weight:bold}.mw-parser-output .wikipedia-languages ul{margin-left:0}.mw-parser-output .wikipedia-languages ul a{white-space:nowrap}.mw-parser-output .wikipedia-languages>ul{list-style:none;text-align:center;clear:both}.mw-parser-output .wikipedia-languages-count-container{width:90%;display:flex;justify-content:center;padding-top:1em;margin:0 auto}.mw-parser-output .wikipedia-languages-prettybars{width:100%;height:1px;margin:0.5em 0;background-color:#c8ccd1;flex-shrink:1;align-self:center}.mw-parser-output .wikipedia-languages-count{padding:0 1em;white-space:nowrap}</style>\\n<div class=\"wikipedia-languages nourlexpansion\">\\n<p>This Wikipedia is written in <a href=\"/wiki/English_language\" title=\"English language\">English</a>. Many <a href=\"https://meta.wikimedia.org/wiki/List_of_Wikipedias\" class=\"extiw\" title=\"meta:List of Wikipedias\">other Wikipedias are available</a>; some of the largest are listed below.\\n</p>\\n<ul class=\"plainlinks\">\\n<li>\\n  <div class=\"wikipedia-languages-count-container\">\\n    <div class=\"wikipedia-languages-prettybars\"></div>\\n    <div role=\"heading\" class=\"wikipedia-languages-count\">1,000,000+ articles</div>\\n    <div class=\"wikipedia-languages-prettybars\"></div>\\n  </div>\\n  <ul class=\"wikipedia-languages-langs hlist hlist-separated inline\">\\n    <li><a class=\"external text\" href=\"https://ar.wikipedia.org/wiki/\"><span class=\"autonym\" title=\"Arabic (ar:)\" lang=\"ar\">\\xd8\\xa7\\xd9\\x84\\xd8\\xb9\\xd8\\xb1\\xd8\\xa8\\xd9\\x8a\\xd8\\xa9</span></a></li>\\n    <li><a class=\"external text\" href=\"https://de.wikipedia.org/wiki/\"><span class=\"autonym\" title=\"German (de:)\" lang=\"de\">Deutsch</span></a></li>\\n    <li><a class=\"external text\" href=\"https://es.wikipedia.org/wiki/\"><span class=\"autonym\" title=\"Spanish (es:)\" lang=\"es\">Espa\\xc3\\xb1ol</span></a></li>\\n    <li><a class=\"external text\" href=\"https://fr.wikipedia.org/wiki/\"><span class=\"autonym\" title=\"French (fr:)\" lang=\"fr\">Fran\\xc3\\xa7ais</span></a></li>\\n    <li><a class=\"external text\" href=\"https://it.wikipedia.org/wiki/\"><span class=\"autonym\" title=\"Italian (it:)\" lang=\"it\">Italiano</span></a></li>\\n    <li><a class=\"external text\" href=\"https://nl.wikipedia.org/wiki/\"><span class=\"autonym\" title=\"Dutch (nl:)\" lang=\"nl\">Nederlands</span></a></li>\\n    <li><a class=\"external text\" href=\"https://ja.wikipedia.org/wiki/\"><span class=\"autonym\" title=\"Japanese (ja:)\" lang=\"ja\">\\xe6\\x97\\xa5\\xe6\\x9c\\xac\\xe8\\xaa\\x9e</span></a></li>\\n    <li><a class=\"external text\" href=\"https://pl.wikipedia.org/wiki/\"><span class=\"autonym\" title=\"Polish (pl:)\" lang=\"pl\">Polski</span></a></li>\\n    <li><a class=\"external text\" href=\"https://pt.wikipedia.org/wiki/\"><span class=\"autonym\" title=\"Portuguese (pt:)\" lang=\"pt\">Portugu\\xc3\\xaas</span></a></li>\\n    <li><a class=\"external text\" href=\"https://ru.wikipedia.org/wiki/\"><span class=\"autonym\" title=\"Russian (ru:)\" lang=\"ru\">\\xd0\\xa0\\xd1\\x83\\xd1\\x81\\xd1\\x81\\xd0\\xba\\xd0\\xb8\\xd0\\xb9</span></a></li>\\n    <li><a class=\"external text\" href=\"https://sv.wikipedia.org/wiki/\"><span class=\"autonym\" title=\"Swedish (sv:)\" lang=\"sv\">Svenska</span></a></li>\\n    <li><a class=\"external text\" href=\"https://uk.wikipedia.org/wiki/\"><span class=\"autonym\" title=\"Ukrainian (uk:)\" lang=\"uk\">\\xd0\\xa3\\xd0\\xba\\xd1\\x80\\xd0\\xb0\\xd1\\x97\\xd0\\xbd\\xd1\\x81\\xd1\\x8c\\xd0\\xba\\xd0\\xb0</span></a></li>\\n    <li><a class=\"external text\" href=\"https://vi.wikipedia.org/wiki/\"><span class=\"autonym\" title=\"Vietnamese (vi:)\" lang=\"vi\">Ti\\xe1\\xba\\xbfng Vi\\xe1\\xbb\\x87t</span></a></li>\\n    <li><a class=\"external text\" href=\"https://zh.wikipedia.org/wiki/\"><span class=\"autonym\" title=\"Chinese (zh:)\" lang=\"zh\">\\xe4\\xb8\\xad\\xe6\\x96\\x87</span></a></li>\\n  </ul>\\n</li>\\n<li>\\n  <div class=\"wikipedia-languages-count-container\">\\n    <div class=\"wikipedia-languages-prettybars\"></div>\\n    <div role=\"heading\" class=\"wikipedia-languages-count\">250,000+ articles</div>\\n    <div class=\"wikipedia-languages-prettybars\"></div>\\n  </div>\\n  <ul class=\"wikipedia-languages-langs hlist hlist-separated inline\">\\n    <li><a class=\"external text\" href=\"https://id.wikipedia.org/wiki/\"><span class=\"autonym\" title=\"Indonesian (id:)\" lang=\"id\">Bahasa Indonesia</span></a></li>\\n    <li><a class=\"external text\" href=\"https://ms.wikipedia.org/wiki/\"><span class=\"autonym\" title=\"Malay (ms:)\" lang=\"ms\">Bahasa Melayu</span></a></li>\\n    <li><a class=\"external text\" href=\"https://zh-min-nan.wikipedia.org/wiki/\"><span class=\"autonym\" title=\"Min Nan Chinese (nan:)\" lang=\"nan\">B\\xc3\\xa2n-l\\xc3\\xa2m-g\\xc3\\xba</span></a></li>\\n    <li><a class=\"external text\" href=\"https://bg.wikipedia.org/wiki/\"><span class=\"autonym\" title=\"Bulgarian (bg:)\" lang=\"bg\">\\xd0\\x91\\xd1\\x8a\\xd0\\xbb\\xd0\\xb3\\xd0\\xb0\\xd1\\x80\\xd1\\x81\\xd0\\xba\\xd0\\xb8</span></a></li>\\n    <li><a class=\"external text\" href=\"https://ca.wikipedia.org/wiki/\"><span class=\"autonym\" title=\"Catalan (ca:)\" lang=\"ca\">Catal\\xc3\\xa0</span></a></li>\\n    <li><a class=\"external text\" href=\"https://cs.wikipedia.org/wiki/\"><span class=\"autonym\" title=\"Czech (cs:)\" lang=\"cs\">\\xc4\\x8ce\\xc5\\xa1tina</span></a></li>\\n    <li><a class=\"external text\" href=\"https://da.wikipedia.org/wiki/\"><span class=\"autonym\" title=\"Danish (da:)\" lang=\"da\">Dansk</span></a></li>\\n    <li><a class=\"external text\" href=\"https://eo.wikipedia.org/wiki/\"><span class=\"autonym\" title=\"Esperanto (eo:)\" lang=\"eo\">Esperanto</span></a></li>\\n    <li><a class=\"external text\" href=\"https://eu.wikipedia.org/wiki/\"><span class=\"autonym\" title=\"Basque (eu:)\" lang=\"eu\">Euskara</span></a></li>\\n    <li><a class=\"external text\" href=\"https://fa.wikipedia.org/wiki/\"><span class=\"autonym\" title=\"Persian (fa:)\" lang=\"fa\">\\xd9\\x81\\xd8\\xa7\\xd8\\xb1\\xd8\\xb3\\xdb\\x8c</span></a>&#8206;</li>\\n    <li><a class=\"external text\" href=\"https://he.wikipedia.org/wiki/\"><span class=\"autonym\" title=\"Hebrew (he:)\" lang=\"he\">\\xd7\\xa2\\xd7\\x91\\xd7\\xa8\\xd7\\x99\\xd7\\xaa</span></a></li>\\n    <li><a class=\"external text\" href=\"https://ko.wikipedia.org/wiki/\"><span class=\"autonym\" title=\"Korean (ko:)\" lang=\"ko\">\\xed\\x95\\x9c\\xea\\xb5\\xad\\xec\\x96\\xb4</span></a></li>\\n    <li><a class=\"external text\" href=\"https://hu.wikipedia.org/wiki/\"><span class=\"autonym\" title=\"Hungarian (hu:)\" lang=\"hu\">Magyar</span></a></li>\\n    <li><a class=\"external text\" href=\"https://no.wikipedia.org/wiki/\"><span class=\"autonym\" title=\"Norwegian (no:)\" lang=\"no\">Norsk Bokm\\xc3\\xa5l</span></a></li>\\n    <li><a class=\"external text\" href=\"https://ro.wikipedia.org/wiki/\"><span class=\"autonym\" title=\"Romanian (ro:)\" lang=\"ro\">Rom\\xc3\\xa2n\\xc4\\x83</span></a></li>\\n    <li><a class=\"external text\" href=\"https://sr.wikipedia.org/wiki/\"><span class=\"autonym\" title=\"Serbian (sr:)\" lang=\"sr\">Srpski</span></a></li>\\n    <li><a class=\"external text\" href=\"https://sh.wikipedia.org/wiki/\"><span class=\"autonym\" title=\"Serbo-Croatian (sh:)\" lang=\"sh\">Srpskohrvatski</span></a></li>\\n    <li><a class=\"external text\" href=\"https://fi.wikipedia.org/wiki/\"><span class=\"autonym\" title=\"Finnish (fi:)\" lang=\"fi\">Suomi</span></a></li>\\n    <li><a class=\"external text\" href=\"https://tr.wikipedia.org/wiki/\"><span class=\"autonym\" title=\"Turkish (tr:)\" lang=\"tr\">T\\xc3\\xbcrk\\xc3\\xa7e</span></a></li>\\n  </ul>\\n</li>\\n<li>\\n  <div class=\"wikipedia-languages-count-container\">\\n    <div class=\"wikipedia-languages-prettybars\"></div>\\n    <div role=\"heading\" class=\"wikipedia-languages-count\">50,000+ articles</div>\\n    <div class=\"wikipedia-languages-prettybars\"></div>\\n  </div>\\n  <ul class=\"wikipedia-languages-langs hlist hlist-separated inline\">\\n    <li><a class=\"external text\" href=\"https://ast.wikipedia.org/wiki/\"><span class=\"autonym\" title=\"Asturian (ast:)\" lang=\"ast\">Asturianu</span></a></li>\\n    <li><a class=\"external text\" href=\"https://bs.wikipedia.org/wiki/\"><span class=\"autonym\" title=\"Bosnian (bs:)\" lang=\"bs\">Bosanski</span></a></li>\\n    <li><a class=\"external text\" href=\"https://et.wikipedia.org/wiki/\"><span class=\"autonym\" title=\"Estonian (et:)\" lang=\"et\">Eesti</span></a></li>\\n    <li><a class=\"external text\" href=\"https://el.wikipedia.org/wiki/\"><span class=\"autonym\" title=\"Greek (el:)\" lang=\"el\">\\xce\\x95\\xce\\xbb\\xce\\xbb\\xce\\xb7\\xce\\xbd\\xce\\xb9\\xce\\xba\\xce\\xac</span></a></li>\\n    <li><a class=\"external text\" href=\"https://simple.wikipedia.org/wiki/\"><span class=\"autonym\" title=\"Simple English (simple:)\" lang=\"simple\">Simple English</span></a></li>\\n    <li><a class=\"external text\" href=\"https://gl.wikipedia.org/wiki/\"><span class=\"autonym\" title=\"Galician (gl:)\" lang=\"gl\">Galego</span></a></li>\\n    <li><a class=\"external text\" href=\"https://hr.wikipedia.org/wiki/\"><span class=\"autonym\" title=\"Croatian (hr:)\" lang=\"hr\">Hrvatski</span></a></li>\\n    <li><a class=\"external text\" href=\"https://lv.wikipedia.org/wiki/\"><span class=\"autonym\" title=\"Latvian (lv:)\" lang=\"lv\">Latvie\\xc5\\xa1u</span></a></li>\\n    <li><a class=\"external text\" href=\"https://lt.wikipedia.org/wiki/\"><span class=\"autonym\" title=\"Lithuanian (lt:)\" lang=\"lt\">Lietuvi\\xc5\\xb3</span></a></li>\\n    <li><a class=\"external text\" href=\"https://ml.wikipedia.org/wiki/\"><span class=\"autonym\" title=\"Malayalam (ml:)\" lang=\"ml\">\\xe0\\xb4\\xae\\xe0\\xb4\\xb2\\xe0\\xb4\\xaf\\xe0\\xb4\\xbe\\xe0\\xb4\\xb3\\xe0\\xb4\\x82</span></a></li>\\n    <li><a class=\"external text\" href=\"https://mk.wikipedia.org/wiki/\"><span class=\"autonym\" title=\"Macedonian (mk:)\" lang=\"mk\">\\xd0\\x9c\\xd0\\xb0\\xd0\\xba\\xd0\\xb5\\xd0\\xb4\\xd0\\xbe\\xd0\\xbd\\xd1\\x81\\xd0\\xba\\xd0\\xb8</span></a></li>\\n    <li><a class=\"external text\" href=\"https://nn.wikipedia.org/wiki/\"><span class=\"autonym\" title=\"Norwegian Nynorsk (nn:)\" lang=\"nn\">Norsk nynorsk</span></a></li>\\n    <li><a class=\"external text\" href=\"https://sk.wikipedia.org/wiki/\"><span class=\"autonym\" title=\"Slovak (sk:)\" lang=\"sk\">Sloven\\xc4\\x8dina</span></a></li>\\n    <li><a class=\"external text\" href=\"https://sl.wikipedia.org/wiki/\"><span class=\"autonym\" title=\"Slovenian (sl:)\" lang=\"sl\">Sloven\\xc5\\xa1\\xc4\\x8dina</span></a></li>\\n    <li><a class=\"external text\" href=\"https://th.wikipedia.org/wiki/\"><span class=\"autonym\" title=\"Thai (th:)\" lang=\"th\">\\xe0\\xb9\\x84\\xe0\\xb8\\x97\\xe0\\xb8\\xa2</span></a></li>\\n  </ul>\\n</li>\\n</ul>\\n</div></div>\\n</div>\\n<!-- \\nNewPP limit report\\nParsed by mw1321\\nCached time: 20210118024609\\nCache expiry: 3600\\nDynamic content: true\\nComplications: []\\nCPU time usage: 0.512 seconds\\nReal time usage: 0.646 seconds\\nPreprocessor visited node count: 4197/1000000\\nPost\\xe2\\x80\\x90expand include size: 127465/2097152 bytes\\nTemplate argument size: 8062/2097152 bytes\\nHighest expansion depth: 21/40\\nExpensive parser function count: 17/500\\nUnstrip recursion depth: 0/20\\nUnstrip post\\xe2\\x80\\x90expand size: 5604/5000000 bytes\\nLua time usage: 0.134/10.000 seconds\\nLua memory usage: 5116419/52428800 bytes\\nNumber of Wikibase entities loaded: 0/400\\n-->\\n<!--\\nTransclusion expansion time report (%,ms,calls,template)\\n100.00%  470.512      1 -total\\n 37.55%  176.655      9 Template:Main_page_image\\n 31.85%  149.844      1 Wikipedia:Main_Page/Tomorrow\\n 22.02%  103.595      9 Template:Str_number/trim\\n 20.83%   98.025     27 Template:If_empty\\n 17.96%   84.498      1 Wikipedia:Today\\'s_featured_article/January_18,_2021\\n 15.47%   72.765      2 Template:In_the_news\\n 12.79%   60.168      2 Template:Main_page_image/TFA\\n 12.74%   59.959      2 Template:Wikipedia_languages\\n 10.12%   47.593      1 Wikipedia:Selected_anniversaries/January_18\\n-->\\n\\n<!-- Saved in parser cache with key enwiki:pcache:idhash:15580374-0!canonical and timestamp 20210118024609 and revision id 987965326. Serialized with JSON.\\n -->\\n</div><noscript><img src=\"//en.wikipedia.org/wiki/Special:CentralAutoLogin/start?type=1x1\" alt=\"\" title=\"\" width=\"1\" height=\"1\" style=\"border: none; position: absolute;\" /></noscript>\\n<div class=\"printfooter\">Retrieved from \"<a dir=\"ltr\" href=\"https://en.wikipedia.org/w/index.php?title=Main_Page&amp;oldid=987965326\">https://en.wikipedia.org/w/index.php?title=Main_Page&amp;oldid=987965326</a>\"</div></div>\\n\\t\\t<div id=\"catlinks\" class=\"catlinks catlinks-allhidden\" data-mw=\"interface\"></div>\\n\\t</div>\\n</div>\\n<div id=\\'mw-data-after-content\\'>\\n\\t<div class=\"read-more-container\"></div>\\n</div>\\n\\n<div id=\"mw-navigation\">\\n\\t<h2>Navigation menu</h2>\\n\\t<div id=\"mw-head\">\\n\\t\\t<!-- Please do not use role attribute as CSS selector, it is deprecated. -->\\n<nav id=\"p-personal\" class=\"mw-portlet mw-portlet-personal vector-menu\" aria-labelledby=\"p-personal-label\" role=\"navigation\" \\n\\t >\\n\\t<h3 id=\"p-personal-label\">\\n\\t\\t<span>Personal tools</span>\\n\\t</h3>\\n\\t<div class=\"vector-menu-content\">\\n\\t\\t<ul class=\"vector-menu-content-list\"><li id=\"pt-anonuserpage\">Not logged in</li><li id=\"pt-anontalk\"><a href=\"/wiki/Special:MyTalk\" title=\"Discussion about edits from this IP address [n]\" accesskey=\"n\">Talk</a></li><li id=\"pt-anoncontribs\"><a href=\"/wiki/Special:MyContributions\" title=\"A list of edits made from this IP address [y]\" accesskey=\"y\">Contributions</a></li><li id=\"pt-createaccount\"><a href=\"/w/index.php?title=Special:CreateAccount&amp;returnto=Main+Page\" title=\"You are encouraged to create an account and log in; however, it is not mandatory\">Create account</a></li><li id=\"pt-login\"><a href=\"/w/index.php?title=Special:UserLogin&amp;returnto=Main+Page\" title=\"You&#039;re encouraged to log in; however, it&#039;s not mandatory. [o]\" accesskey=\"o\">Log in</a></li></ul>\\n\\t\\t\\n\\t</div>\\n</nav>\\n\\n\\t\\t<div id=\"left-navigation\">\\n\\t\\t\\t<!-- Please do not use role attribute as CSS selector, it is deprecated. -->\\n<nav id=\"p-namespaces\" class=\"mw-portlet mw-portlet-namespaces vector-menu vector-menu-tabs\" aria-labelledby=\"p-namespaces-label\" role=\"navigation\" \\n\\t >\\n\\t<h3 id=\"p-namespaces-label\">\\n\\t\\t<span>Namespaces</span>\\n\\t</h3>\\n\\t<div class=\"vector-menu-content\">\\n\\t\\t<ul class=\"vector-menu-content-list\"><li id=\"ca-nstab-main\" class=\"selected\"><a href=\"/wiki/Main_Page\" title=\"View the content page [c]\" accesskey=\"c\">Main Page</a></li><li id=\"ca-talk\"><a href=\"/wiki/Talk:Main_Page\" rel=\"discussion\" title=\"Discuss improvements to the content page [t]\" accesskey=\"t\">Talk</a></li></ul>\\n\\t\\t\\n\\t</div>\\n</nav>\\n\\n\\t\\t\\t<!-- Please do not use role attribute as CSS selector, it is deprecated. -->\\n<nav id=\"p-variants\" class=\"mw-portlet mw-portlet-variants emptyPortlet vector-menu vector-menu-dropdown\" aria-labelledby=\"p-variants-label\" role=\"navigation\" \\n\\t >\\n\\t<input type=\"checkbox\" class=\"vector-menu-checkbox\" aria-labelledby=\"p-variants-label\" />\\n\\t<h3 id=\"p-variants-label\">\\n\\t\\t<span>Variants</span>\\n\\t</h3>\\n\\t<div class=\"vector-menu-content\">\\n\\t\\t<ul class=\"vector-menu-content-list\"></ul>\\n\\t\\t\\n\\t</div>\\n</nav>\\n\\n\\t\\t</div>\\n\\t\\t<div id=\"right-navigation\">\\n\\t\\t\\t<!-- Please do not use role attribute as CSS selector, it is deprecated. -->\\n<nav id=\"p-views\" class=\"mw-portlet mw-portlet-views vector-menu vector-menu-tabs\" aria-labelledby=\"p-views-label\" role=\"navigation\" \\n\\t >\\n\\t<h3 id=\"p-views-label\">\\n\\t\\t<span>Views</span>\\n\\t</h3>\\n\\t<div class=\"vector-menu-content\">\\n\\t\\t<ul class=\"vector-menu-content-list\"><li id=\"ca-view\" class=\"selected\"><a href=\"/wiki/Main_Page\">Read</a></li><li id=\"ca-viewsource\"><a href=\"/w/index.php?title=Main_Page&amp;action=edit\" title=\"This page is protected.&#10;You can view its source [e]\" accesskey=\"e\">View source</a></li><li id=\"ca-history\"><a href=\"/w/index.php?title=Main_Page&amp;action=history\" title=\"Past revisions of this page [h]\" accesskey=\"h\">View history</a></li></ul>\\n\\t\\t\\n\\t</div>\\n</nav>\\n\\n\\t\\t\\t<!-- Please do not use role attribute as CSS selector, it is deprecated. -->\\n<nav id=\"p-cactions\" class=\"mw-portlet mw-portlet-cactions emptyPortlet vector-menu vector-menu-dropdown\" aria-labelledby=\"p-cactions-label\" role=\"navigation\" \\n\\t >\\n\\t<input type=\"checkbox\" class=\"vector-menu-checkbox\" aria-labelledby=\"p-cactions-label\" />\\n\\t<h3 id=\"p-cactions-label\">\\n\\t\\t<span>More</span>\\n\\t</h3>\\n\\t<div class=\"vector-menu-content\">\\n\\t\\t<ul class=\"vector-menu-content-list\"></ul>\\n\\t\\t\\n\\t</div>\\n</nav>\\n\\n\\t\\t\\t<div id=\"p-search\" role=\"search\">\\n\\t<h3 >\\n\\t\\t<label for=\"searchInput\">Search</label>\\n\\t</h3>\\n\\t<form action=\"/w/index.php\" id=\"searchform\">\\n\\t\\t<div id=\"simpleSearch\" data-search-loc=\"header-navigation\">\\n\\t\\t\\t<input type=\"search\" name=\"search\" placeholder=\"Search Wikipedia\" autocapitalize=\"sentences\" title=\"Search Wikipedia [f]\" accesskey=\"f\" id=\"searchInput\"/>\\n\\t\\t\\t<input type=\"hidden\" name=\"title\" value=\"Special:Search\">\\n\\t\\t\\t<input type=\"submit\" name=\"fulltext\" value=\"Search\" title=\"Search Wikipedia for this text\" id=\"mw-searchButton\" class=\"searchButton mw-fallbackSearchButton\"/>\\n\\t\\t\\t<input type=\"submit\" name=\"go\" value=\"Go\" title=\"Go to a page with this exact name if it exists\" id=\"searchButton\" class=\"searchButton\"/>\\n\\t\\t</div>\\n\\t</form>\\n</div>\\n\\n\\t\\t</div>\\n\\t</div>\\n\\t\\n<div id=\"mw-panel\">\\n\\t<div id=\"p-logo\" role=\"banner\">\\n\\t\\t<a class=\"mw-wiki-logo\" href=\"/wiki/Main_Page\"\\n\\t\\t\\ttitle=\"Visit the main page\"></a>\\n\\t</div>\\n\\t<!-- Please do not use role attribute as CSS selector, it is deprecated. -->\\n<nav id=\"p-navigation\" class=\"mw-portlet mw-portlet-navigation vector-menu vector-menu-portal portal\" aria-labelledby=\"p-navigation-label\" role=\"navigation\" \\n\\t >\\n\\t<h3 id=\"p-navigation-label\">\\n\\t\\t<span>Navigation</span>\\n\\t</h3>\\n\\t<div class=\"vector-menu-content\">\\n\\t\\t<ul class=\"vector-menu-content-list\"><li id=\"n-mainpage-description\"><a href=\"/wiki/Main_Page\" title=\"Visit the main page [z]\" accesskey=\"z\">Main page</a></li><li id=\"n-contents\"><a href=\"/wiki/Wikipedia:Contents\" title=\"Guides to browsing Wikipedia\">Contents</a></li><li id=\"n-currentevents\"><a href=\"/wiki/Portal:Current_events\" title=\"Articles related to current events\">Current events</a></li><li id=\"n-randompage\"><a href=\"/wiki/Special:Random\" title=\"Visit a randomly selected article [x]\" accesskey=\"x\">Random article</a></li><li id=\"n-aboutsite\"><a href=\"/wiki/Wikipedia:About\" title=\"Learn about Wikipedia and how it works\">About Wikipedia</a></li><li id=\"n-contactpage\"><a href=\"//en.wikipedia.org/wiki/Wikipedia:Contact_us\" title=\"How to contact Wikipedia\">Contact us</a></li><li id=\"n-sitesupport\"><a href=\"https://donate.wikimedia.org/wiki/Special:FundraiserRedirector?utm_source=donate&amp;utm_medium=sidebar&amp;utm_campaign=C13_en.wikipedia.org&amp;uselang=en\" title=\"Support us by donating to the Wikimedia Foundation\">Donate</a></li></ul>\\n\\t\\t\\n\\t</div>\\n</nav>\\n\\n\\t<!-- Please do not use role attribute as CSS selector, it is deprecated. -->\\n<nav id=\"p-interaction\" class=\"mw-portlet mw-portlet-interaction vector-menu vector-menu-portal portal\" aria-labelledby=\"p-interaction-label\" role=\"navigation\" \\n\\t >\\n\\t<h3 id=\"p-interaction-label\">\\n\\t\\t<span>Contribute</span>\\n\\t</h3>\\n\\t<div class=\"vector-menu-content\">\\n\\t\\t<ul class=\"vector-menu-content-list\"><li id=\"n-help\"><a href=\"/wiki/Help:Contents\" title=\"Guidance on how to use and edit Wikipedia\">Help</a></li><li id=\"n-introduction\"><a href=\"/wiki/Help:Introduction\" title=\"Learn how to edit Wikipedia\">Learn to edit</a></li><li id=\"n-portal\"><a href=\"/wiki/Wikipedia:Community_portal\" title=\"The hub for editors\">Community portal</a></li><li id=\"n-recentchanges\"><a href=\"/wiki/Special:RecentChanges\" title=\"A list of recent changes to Wikipedia [r]\" accesskey=\"r\">Recent changes</a></li><li id=\"n-upload\"><a href=\"/wiki/Wikipedia:File_Upload_Wizard\" title=\"Add images or other media for use on Wikipedia\">Upload file</a></li></ul>\\n\\t\\t\\n\\t</div>\\n</nav>\\n<!-- Please do not use role attribute as CSS selector, it is deprecated. -->\\n<nav id=\"p-tb\" class=\"mw-portlet mw-portlet-tb vector-menu vector-menu-portal portal\" aria-labelledby=\"p-tb-label\" role=\"navigation\" \\n\\t >\\n\\t<h3 id=\"p-tb-label\">\\n\\t\\t<span>Tools</span>\\n\\t</h3>\\n\\t<div class=\"vector-menu-content\">\\n\\t\\t<ul class=\"vector-menu-content-list\"><li id=\"t-whatlinkshere\"><a href=\"/wiki/Special:WhatLinksHere/Main_Page\" title=\"List of all English Wikipedia pages containing links to this page [j]\" accesskey=\"j\">What links here</a></li><li id=\"t-recentchangeslinked\"><a href=\"/wiki/Special:RecentChangesLinked/Main_Page\" rel=\"nofollow\" title=\"Recent changes in pages linked from this page [k]\" accesskey=\"k\">Related changes</a></li><li id=\"t-upload\"><a href=\"/wiki/Wikipedia:File_Upload_Wizard\" title=\"Upload files [u]\" accesskey=\"u\">Upload file</a></li><li id=\"t-specialpages\"><a href=\"/wiki/Special:SpecialPages\" title=\"A list of all special pages [q]\" accesskey=\"q\">Special pages</a></li><li id=\"t-permalink\"><a href=\"/w/index.php?title=Main_Page&amp;oldid=987965326\" title=\"Permanent link to this revision of this page\">Permanent link</a></li><li id=\"t-info\"><a href=\"/w/index.php?title=Main_Page&amp;action=info\" title=\"More information about this page\">Page information</a></li><li id=\"t-cite\"><a href=\"/w/index.php?title=Special:CiteThisPage&amp;page=Main_Page&amp;id=987965326&amp;wpFormIdentifier=titleform\" title=\"Information on how to cite this page\">Cite this page</a></li><li id=\"t-wikibase\"><a href=\"https://www.wikidata.org/wiki/Special:EntityPage/Q5296\" title=\"Structured data on this page hosted by Wikidata [g]\" accesskey=\"g\">Wikidata item</a></li></ul>\\n\\t\\t\\n\\t</div>\\n</nav>\\n<!-- Please do not use role attribute as CSS selector, it is deprecated. -->\\n<nav id=\"p-coll-print_export\" class=\"mw-portlet mw-portlet-coll-print_export vector-menu vector-menu-portal portal\" aria-labelledby=\"p-coll-print_export-label\" role=\"navigation\" \\n\\t >\\n\\t<h3 id=\"p-coll-print_export-label\">\\n\\t\\t<span>Print/export</span>\\n\\t</h3>\\n\\t<div class=\"vector-menu-content\">\\n\\t\\t<ul class=\"vector-menu-content-list\"><li id=\"coll-download-as-rl\"><a href=\"/w/index.php?title=Special:DownloadAsPdf&amp;page=Main_Page&amp;action=show-download-screen\" title=\"Download this page as a PDF file\">Download as PDF</a></li><li id=\"t-print\"><a href=\"/w/index.php?title=Main_Page&amp;printable=yes\" title=\"Printable version of this page [p]\" accesskey=\"p\">Printable version</a></li></ul>\\n\\t\\t\\n\\t</div>\\n</nav>\\n<!-- Please do not use role attribute as CSS selector, it is deprecated. -->\\n<nav id=\"p-wikibase-otherprojects\" class=\"mw-portlet mw-portlet-wikibase-otherprojects vector-menu vector-menu-portal portal\" aria-labelledby=\"p-wikibase-otherprojects-label\" role=\"navigation\" \\n\\t >\\n\\t<h3 id=\"p-wikibase-otherprojects-label\">\\n\\t\\t<span>In other projects</span>\\n\\t</h3>\\n\\t<div class=\"vector-menu-content\">\\n\\t\\t<ul class=\"vector-menu-content-list\"><li class=\"wb-otherproject-link wb-otherproject-commons\"><a href=\"https://commons.wikimedia.org/wiki/Main_Page\" hreflang=\"en\">Wikimedia Commons</a></li><li class=\"wb-otherproject-link wb-otherproject-mediawiki\"><a href=\"https://www.mediawiki.org/wiki/MediaWiki\" hreflang=\"en\">MediaWiki</a></li><li class=\"wb-otherproject-link wb-otherproject-meta\"><a href=\"https://meta.wikimedia.org/wiki/Main_Page\" hreflang=\"en\">Meta-Wiki</a></li><li class=\"wb-otherproject-link wb-otherproject-species\"><a href=\"https://species.wikimedia.org/wiki/Main_Page\" hreflang=\"en\">Wikispecies</a></li><li class=\"wb-otherproject-link wb-otherproject-wikibooks\"><a href=\"https://en.wikibooks.org/wiki/Main_Page\" hreflang=\"en\">Wikibooks</a></li><li class=\"wb-otherproject-link wb-otherproject-wikidata\"><a href=\"https://www.wikidata.org/wiki/Wikidata:Main_Page\" hreflang=\"en\">Wikidata</a></li><li class=\"wb-otherproject-link wb-otherproject-wikimania\"><a href=\"https://wikimania.wikimedia.org/wiki/Wikimania\" hreflang=\"en\">Wikimania</a></li><li class=\"wb-otherproject-link wb-otherproject-wikinews\"><a href=\"https://en.wikinews.org/wiki/Main_Page\" hreflang=\"en\">Wikinews</a></li><li class=\"wb-otherproject-link wb-otherproject-wikiquote\"><a href=\"https://en.wikiquote.org/wiki/Main_Page\" hreflang=\"en\">Wikiquote</a></li><li class=\"wb-otherproject-link wb-otherproject-wikisource\"><a href=\"https://en.wikisource.org/wiki/Main_Page\" hreflang=\"en\">Wikisource</a></li><li class=\"wb-otherproject-link wb-otherproject-wikiversity\"><a href=\"https://en.wikiversity.org/wiki/Wikiversity:Main_Page\" hreflang=\"en\">Wikiversity</a></li><li class=\"wb-otherproject-link wb-otherproject-wikivoyage\"><a href=\"https://en.wikivoyage.org/wiki/Main_Page\" hreflang=\"en\">Wikivoyage</a></li><li class=\"wb-otherproject-link wb-otherproject-wiktionary\"><a href=\"https://en.wiktionary.org/wiki/Wiktionary:Main_Page\" hreflang=\"en\">Wiktionary</a></li></ul>\\n\\t\\t\\n\\t</div>\\n</nav>\\n\\n\\t<!-- Please do not use role attribute as CSS selector, it is deprecated. -->\\n<nav id=\"p-lang\" class=\"mw-portlet mw-portlet-lang vector-menu vector-menu-portal portal\" aria-labelledby=\"p-lang-label\" role=\"navigation\" \\n\\t >\\n\\t<h3 id=\"p-lang-label\">\\n\\t\\t<span>Languages</span>\\n\\t</h3>\\n\\t<div class=\"vector-menu-content\">\\n\\t\\t<ul class=\"vector-menu-content-list\"><li class=\"interlanguage-link interwiki-ar\"><a href=\"https://ar.wikipedia.org/wiki/\" title=\"Arabic\" lang=\"ar\" hreflang=\"ar\" class=\"interlanguage-link-target\">\\xd8\\xa7\\xd9\\x84\\xd8\\xb9\\xd8\\xb1\\xd8\\xa8\\xd9\\x8a\\xd8\\xa9</a></li><li class=\"interlanguage-link interwiki-bg\"><a href=\"https://bg.wikipedia.org/wiki/\" title=\"Bulgarian\" lang=\"bg\" hreflang=\"bg\" class=\"interlanguage-link-target\">\\xd0\\x91\\xd1\\x8a\\xd0\\xbb\\xd0\\xb3\\xd0\\xb0\\xd1\\x80\\xd1\\x81\\xd0\\xba\\xd0\\xb8</a></li><li class=\"interlanguage-link interwiki-bs\"><a href=\"https://bs.wikipedia.org/wiki/\" title=\"Bosnian\" lang=\"bs\" hreflang=\"bs\" class=\"interlanguage-link-target\">Bosanski</a></li><li class=\"interlanguage-link interwiki-ca\"><a href=\"https://ca.wikipedia.org/wiki/\" title=\"Catalan\" lang=\"ca\" hreflang=\"ca\" class=\"interlanguage-link-target\">Catal\\xc3\\xa0</a></li><li class=\"interlanguage-link interwiki-cs\"><a href=\"https://cs.wikipedia.org/wiki/\" title=\"Czech\" lang=\"cs\" hreflang=\"cs\" class=\"interlanguage-link-target\">\\xc4\\x8ce\\xc5\\xa1tina</a></li><li class=\"interlanguage-link interwiki-da\"><a href=\"https://da.wikipedia.org/wiki/\" title=\"Danish\" lang=\"da\" hreflang=\"da\" class=\"interlanguage-link-target\">Dansk</a></li><li class=\"interlanguage-link interwiki-de\"><a href=\"https://de.wikipedia.org/wiki/\" title=\"German\" lang=\"de\" hreflang=\"de\" class=\"interlanguage-link-target\">Deutsch</a></li><li class=\"interlanguage-link interwiki-et\"><a href=\"https://et.wikipedia.org/wiki/\" title=\"Estonian\" lang=\"et\" hreflang=\"et\" class=\"interlanguage-link-target\">Eesti</a></li><li class=\"interlanguage-link interwiki-el\"><a href=\"https://el.wikipedia.org/wiki/\" title=\"Greek\" lang=\"el\" hreflang=\"el\" class=\"interlanguage-link-target\">\\xce\\x95\\xce\\xbb\\xce\\xbb\\xce\\xb7\\xce\\xbd\\xce\\xb9\\xce\\xba\\xce\\xac</a></li><li class=\"interlanguage-link interwiki-es\"><a href=\"https://es.wikipedia.org/wiki/\" title=\"Spanish\" lang=\"es\" hreflang=\"es\" class=\"interlanguage-link-target\">Espa\\xc3\\xb1ol</a></li><li class=\"interlanguage-link interwiki-eo\"><a href=\"https://eo.wikipedia.org/wiki/\" title=\"Esperanto\" lang=\"eo\" hreflang=\"eo\" class=\"interlanguage-link-target\">Esperanto</a></li><li class=\"interlanguage-link interwiki-eu\"><a href=\"https://eu.wikipedia.org/wiki/\" title=\"Basque\" lang=\"eu\" hreflang=\"eu\" class=\"interlanguage-link-target\">Euskara</a></li><li class=\"interlanguage-link interwiki-fa\"><a href=\"https://fa.wikipedia.org/wiki/\" title=\"Persian\" lang=\"fa\" hreflang=\"fa\" class=\"interlanguage-link-target\">\\xd9\\x81\\xd8\\xa7\\xd8\\xb1\\xd8\\xb3\\xdb\\x8c</a></li><li class=\"interlanguage-link interwiki-fr\"><a href=\"https://fr.wikipedia.org/wiki/\" title=\"French\" lang=\"fr\" hreflang=\"fr\" class=\"interlanguage-link-target\">Fran\\xc3\\xa7ais</a></li><li class=\"interlanguage-link interwiki-gl\"><a href=\"https://gl.wikipedia.org/wiki/\" title=\"Galician\" lang=\"gl\" hreflang=\"gl\" class=\"interlanguage-link-target\">Galego</a></li><li class=\"interlanguage-link interwiki-ko\"><a href=\"https://ko.wikipedia.org/wiki/\" title=\"Korean\" lang=\"ko\" hreflang=\"ko\" class=\"interlanguage-link-target\">\\xed\\x95\\x9c\\xea\\xb5\\xad\\xec\\x96\\xb4</a></li><li class=\"interlanguage-link interwiki-hr\"><a href=\"https://hr.wikipedia.org/wiki/\" title=\"Croatian\" lang=\"hr\" hreflang=\"hr\" class=\"interlanguage-link-target\">Hrvatski</a></li><li class=\"interlanguage-link interwiki-id\"><a href=\"https://id.wikipedia.org/wiki/\" title=\"Indonesian\" lang=\"id\" hreflang=\"id\" class=\"interlanguage-link-target\">Bahasa Indonesia</a></li><li class=\"interlanguage-link interwiki-it\"><a href=\"https://it.wikipedia.org/wiki/\" title=\"Italian\" lang=\"it\" hreflang=\"it\" class=\"interlanguage-link-target\">Italiano</a></li><li class=\"interlanguage-link interwiki-he\"><a href=\"https://he.wikipedia.org/wiki/\" title=\"Hebrew\" lang=\"he\" hreflang=\"he\" class=\"interlanguage-link-target\">\\xd7\\xa2\\xd7\\x91\\xd7\\xa8\\xd7\\x99\\xd7\\xaa</a></li><li class=\"interlanguage-link interwiki-ka\"><a href=\"https://ka.wikipedia.org/wiki/\" title=\"Georgian\" lang=\"ka\" hreflang=\"ka\" class=\"interlanguage-link-target\">\\xe1\\x83\\xa5\\xe1\\x83\\x90\\xe1\\x83\\xa0\\xe1\\x83\\x97\\xe1\\x83\\xa3\\xe1\\x83\\x9a\\xe1\\x83\\x98</a></li><li class=\"interlanguage-link interwiki-lv\"><a href=\"https://lv.wikipedia.org/wiki/\" title=\"Latvian\" lang=\"lv\" hreflang=\"lv\" class=\"interlanguage-link-target\">Latvie\\xc5\\xa1u</a></li><li class=\"interlanguage-link interwiki-lt\"><a href=\"https://lt.wikipedia.org/wiki/\" title=\"Lithuanian\" lang=\"lt\" hreflang=\"lt\" class=\"interlanguage-link-target\">Lietuvi\\xc5\\xb3</a></li><li class=\"interlanguage-link interwiki-hu\"><a href=\"https://hu.wikipedia.org/wiki/\" title=\"Hungarian\" lang=\"hu\" hreflang=\"hu\" class=\"interlanguage-link-target\">Magyar</a></li><li class=\"interlanguage-link interwiki-mk\"><a href=\"https://mk.wikipedia.org/wiki/\" title=\"Macedonian\" lang=\"mk\" hreflang=\"mk\" class=\"interlanguage-link-target\">\\xd0\\x9c\\xd0\\xb0\\xd0\\xba\\xd0\\xb5\\xd0\\xb4\\xd0\\xbe\\xd0\\xbd\\xd1\\x81\\xd0\\xba\\xd0\\xb8</a></li><li class=\"interlanguage-link interwiki-ms\"><a href=\"https://ms.wikipedia.org/wiki/\" title=\"Malay\" lang=\"ms\" hreflang=\"ms\" class=\"interlanguage-link-target\">Bahasa Melayu</a></li><li class=\"interlanguage-link interwiki-nl\"><a href=\"https://nl.wikipedia.org/wiki/\" title=\"Dutch\" lang=\"nl\" hreflang=\"nl\" class=\"interlanguage-link-target\">Nederlands</a></li><li class=\"interlanguage-link interwiki-ja\"><a href=\"https://ja.wikipedia.org/wiki/\" title=\"Japanese\" lang=\"ja\" hreflang=\"ja\" class=\"interlanguage-link-target\">\\xe6\\x97\\xa5\\xe6\\x9c\\xac\\xe8\\xaa\\x9e</a></li><li class=\"interlanguage-link interwiki-no\"><a href=\"https://no.wikipedia.org/wiki/\" title=\"Norwegian Bokm\\xc3\\xa5l\" lang=\"nb\" hreflang=\"nb\" class=\"interlanguage-link-target\">Norsk bokm\\xc3\\xa5l</a></li><li class=\"interlanguage-link interwiki-nn\"><a href=\"https://nn.wikipedia.org/wiki/\" title=\"Norwegian Nynorsk\" lang=\"nn\" hreflang=\"nn\" class=\"interlanguage-link-target\">Norsk nynorsk</a></li><li class=\"interlanguage-link interwiki-pl\"><a href=\"https://pl.wikipedia.org/wiki/\" title=\"Polish\" lang=\"pl\" hreflang=\"pl\" class=\"interlanguage-link-target\">Polski</a></li><li class=\"interlanguage-link interwiki-pt\"><a href=\"https://pt.wikipedia.org/wiki/\" title=\"Portuguese\" lang=\"pt\" hreflang=\"pt\" class=\"interlanguage-link-target\">Portugu\\xc3\\xaas</a></li><li class=\"interlanguage-link interwiki-ro\"><a href=\"https://ro.wikipedia.org/wiki/\" title=\"Romanian\" lang=\"ro\" hreflang=\"ro\" class=\"interlanguage-link-target\">Rom\\xc3\\xa2n\\xc4\\x83</a></li><li class=\"interlanguage-link interwiki-ru\"><a href=\"https://ru.wikipedia.org/wiki/\" title=\"Russian\" lang=\"ru\" hreflang=\"ru\" class=\"interlanguage-link-target\">\\xd0\\xa0\\xd1\\x83\\xd1\\x81\\xd1\\x81\\xd0\\xba\\xd0\\xb8\\xd0\\xb9</a></li><li class=\"interlanguage-link interwiki-simple\"><a href=\"https://simple.wikipedia.org/wiki/\" title=\"Simple English\" lang=\"en-simple\" hreflang=\"en-simple\" class=\"interlanguage-link-target\">Simple English</a></li><li class=\"interlanguage-link interwiki-sk\"><a href=\"https://sk.wikipedia.org/wiki/\" title=\"Slovak\" lang=\"sk\" hreflang=\"sk\" class=\"interlanguage-link-target\">Sloven\\xc4\\x8dina</a></li><li class=\"interlanguage-link interwiki-sl\"><a href=\"https://sl.wikipedia.org/wiki/\" title=\"Slovenian\" lang=\"sl\" hreflang=\"sl\" class=\"interlanguage-link-target\">Sloven\\xc5\\xa1\\xc4\\x8dina</a></li><li class=\"interlanguage-link interwiki-sr\"><a href=\"https://sr.wikipedia.org/wiki/\" title=\"Serbian\" lang=\"sr\" hreflang=\"sr\" class=\"interlanguage-link-target\">\\xd0\\xa1\\xd1\\x80\\xd0\\xbf\\xd1\\x81\\xd0\\xba\\xd0\\xb8 / srpski</a></li><li class=\"interlanguage-link interwiki-sh\"><a href=\"https://sh.wikipedia.org/wiki/\" title=\"Serbo-Croatian\" lang=\"sh\" hreflang=\"sh\" class=\"interlanguage-link-target\">Srpskohrvatski / \\xd1\\x81\\xd1\\x80\\xd0\\xbf\\xd1\\x81\\xd0\\xba\\xd0\\xbe\\xd1\\x85\\xd1\\x80\\xd0\\xb2\\xd0\\xb0\\xd1\\x82\\xd1\\x81\\xd0\\xba\\xd0\\xb8</a></li><li class=\"interlanguage-link interwiki-fi\"><a href=\"https://fi.wikipedia.org/wiki/\" title=\"Finnish\" lang=\"fi\" hreflang=\"fi\" class=\"interlanguage-link-target\">Suomi</a></li><li class=\"interlanguage-link interwiki-sv\"><a href=\"https://sv.wikipedia.org/wiki/\" title=\"Swedish\" lang=\"sv\" hreflang=\"sv\" class=\"interlanguage-link-target\">Svenska</a></li><li class=\"interlanguage-link interwiki-th\"><a href=\"https://th.wikipedia.org/wiki/\" title=\"Thai\" lang=\"th\" hreflang=\"th\" class=\"interlanguage-link-target\">\\xe0\\xb9\\x84\\xe0\\xb8\\x97\\xe0\\xb8\\xa2</a></li><li class=\"interlanguage-link interwiki-tr\"><a href=\"https://tr.wikipedia.org/wiki/\" title=\"Turkish\" lang=\"tr\" hreflang=\"tr\" class=\"interlanguage-link-target\">T\\xc3\\xbcrk\\xc3\\xa7e</a></li><li class=\"interlanguage-link interwiki-uk\"><a href=\"https://uk.wikipedia.org/wiki/\" title=\"Ukrainian\" lang=\"uk\" hreflang=\"uk\" class=\"interlanguage-link-target\">\\xd0\\xa3\\xd0\\xba\\xd1\\x80\\xd0\\xb0\\xd1\\x97\\xd0\\xbd\\xd1\\x81\\xd1\\x8c\\xd0\\xba\\xd0\\xb0</a></li><li class=\"interlanguage-link interwiki-vi\"><a href=\"https://vi.wikipedia.org/wiki/\" title=\"Vietnamese\" lang=\"vi\" hreflang=\"vi\" class=\"interlanguage-link-target\">Ti\\xe1\\xba\\xbfng Vi\\xe1\\xbb\\x87t</a></li><li class=\"interlanguage-link interwiki-zh\"><a href=\"https://zh.wikipedia.org/wiki/\" title=\"Chinese\" lang=\"zh\" hreflang=\"zh\" class=\"interlanguage-link-target\">\\xe4\\xb8\\xad\\xe6\\x96\\x87</a></li></ul>\\n\\t\\t\\n\\t</div>\\n</nav>\\n\\n</div>\\n\\n</div>\\n<footer id=\"footer\" class=\"mw-footer\" role=\"contentinfo\" >\\n\\t<ul id=\"footer-info\" >\\n\\t<li id=\"footer-info-lastmod\"> This page was last edited on 10 November 2020, at 08:18<span class=\"anonymous-show\">&#160;(UTC)</span>.</li>\\n\\t<li id=\"footer-info-copyright\">Text is available under the <a rel=\"license\" href=\"//en.wikipedia.org/wiki/Wikipedia:Text_of_Creative_Commons_Attribution-ShareAlike_3.0_Unported_License\">Creative Commons Attribution-ShareAlike License</a><a rel=\"license\" href=\"//creativecommons.org/licenses/by-sa/3.0/\" style=\"display:none;\"></a>;\\nadditional terms may apply.  By using this site, you agree to the <a href=\"//foundation.wikimedia.org/wiki/Terms_of_Use\">Terms of Use</a> and <a href=\"//foundation.wikimedia.org/wiki/Privacy_policy\">Privacy Policy</a>. Wikipedia\\xc2\\xae is a registered trademark of the <a href=\"//www.wikimediafoundation.org/\">Wikimedia Foundation, Inc.</a>, a non-profit organization.</li>\\n</ul>\\n\\n\\t<ul id=\"footer-places\" >\\n\\t<li id=\"footer-places-privacy\"><a href=\"https://foundation.wikimedia.org/wiki/Privacy_policy\" class=\"extiw\" title=\"wmf:Privacy policy\">Privacy policy</a></li>\\n\\t<li id=\"footer-places-about\"><a href=\"/wiki/Wikipedia:About\" title=\"Wikipedia:About\">About Wikipedia</a></li>\\n\\t<li id=\"footer-places-disclaimer\"><a href=\"/wiki/Wikipedia:General_disclaimer\" title=\"Wikipedia:General disclaimer\">Disclaimers</a></li>\\n\\t<li id=\"footer-places-contact\"><a href=\"//en.wikipedia.org/wiki/Wikipedia:Contact_us\">Contact Wikipedia</a></li>\\n\\t<li id=\"footer-places-mobileview\"><a href=\"//en.m.wikipedia.org/w/index.php?title=Main_Page&amp;mobileaction=toggle_view_mobile\" class=\"noprint stopMobileRedirectToggle\">Mobile view</a></li>\\n\\t<li id=\"footer-places-developers\"><a href=\"https://www.mediawiki.org/wiki/Special:MyLanguage/How_to_contribute\">Developers</a></li>\\n\\t<li id=\"footer-places-statslink\"><a href=\"https://stats.wikimedia.org/#/en.wikipedia.org\">Statistics</a></li>\\n\\t<li id=\"footer-places-cookiestatement\"><a href=\"https://foundation.wikimedia.org/wiki/Cookie_statement\">Cookie statement</a></li>\\n</ul>\\n\\n\\t<ul id=\"footer-icons\" class=\"noprint\">\\n\\t<li id=\"footer-copyrightico\"><a href=\"https://wikimediafoundation.org/\"><img src=\"/static/images/footer/wikimedia-button.png\" srcset=\"/static/images/footer/wikimedia-button-1.5x.png 1.5x, /static/images/footer/wikimedia-button-2x.png 2x\" width=\"88\" height=\"31\" alt=\"Wikimedia Foundation\" loading=\"lazy\" /></a></li>\\n\\t<li id=\"footer-poweredbyico\"><a href=\"https://www.mediawiki.org/\"><img src=\"/static/images/footer/poweredby_mediawiki_88x31.png\" alt=\"Powered by MediaWiki\" srcset=\"/static/images/footer/poweredby_mediawiki_132x47.png 1.5x, /static/images/footer/poweredby_mediawiki_176x62.png 2x\" width=\"88\" height=\"31\" loading=\"lazy\"/></a></li>\\n</ul>\\n\\n\\t<div style=\"clear: both;\"></div>\\n</footer>\\n\\n\\n<script>(RLQ=window.RLQ||[]).push(function(){mw.config.set({\"wgPageParseReport\":{\"limitreport\":{\"cputime\":\"0.512\",\"walltime\":\"0.646\",\"ppvisitednodes\":{\"value\":4197,\"limit\":1000000},\"postexpandincludesize\":{\"value\":127465,\"limit\":2097152},\"templateargumentsize\":{\"value\":8062,\"limit\":2097152},\"expansiondepth\":{\"value\":21,\"limit\":40},\"expensivefunctioncount\":{\"value\":17,\"limit\":500},\"unstrip-depth\":{\"value\":0,\"limit\":20},\"unstrip-size\":{\"value\":5604,\"limit\":5000000},\"entityaccesscount\":{\"value\":0,\"limit\":400},\"timingprofile\":[\"100.00%  470.512      1 -total\",\" 37.55%  176.655      9 Template:Main_page_image\",\" 31.85%  149.844      1 Wikipedia:Main_Page/Tomorrow\",\" 22.02%  103.595      9 Template:Str_number/trim\",\" 20.83%   98.025     27 Template:If_empty\",\" 17.96%   84.498      1 Wikipedia:Today\\'s_featured_article/January_18,_2021\",\" 15.47%   72.765      2 Template:In_the_news\",\" 12.79%   60.168      2 Template:Main_page_image/TFA\",\" 12.74%   59.959      2 Template:Wikipedia_languages\",\" 10.12%   47.593      1 Wikipedia:Selected_anniversaries/January_18\"]},\"scribunto\":{\"limitreport-timeusage\":{\"value\":\"0.134\",\"limit\":\"10.000\"},\"limitreport-memusage\":{\"value\":5116419,\"limit\":52428800}},\"cachereport\":{\"origin\":\"mw1321\",\"timestamp\":\"20210118024609\",\"ttl\":3600,\"transientcontent\":true}}});});</script>\\n<script type=\"application/ld+json\">{\"@context\":\"https:\\\\/\\\\/schema.org\",\"@type\":\"Article\",\"name\":\"Main Page\",\"url\":\"https:\\\\/\\\\/en.wikipedia.org\\\\/wiki\\\\/Main_Page\",\"sameAs\":\"http:\\\\/\\\\/www.wikidata.org\\\\/entity\\\\/Q5296\",\"mainEntity\":\"http:\\\\/\\\\/www.wikidata.org\\\\/entity\\\\/Q5296\",\"author\":{\"@type\":\"Organization\",\"name\":\"Contributors to Wikimedia projects\"},\"publisher\":{\"@type\":\"Organization\",\"name\":\"Wikimedia Foundation, Inc.\",\"logo\":{\"@type\":\"ImageObject\",\"url\":\"https:\\\\/\\\\/www.wikimedia.org\\\\/static\\\\/images\\\\/wmf-hor-googpub.png\"}},\"datePublished\":\"2002-01-26T15:28:12Z\",\"dateModified\":\"2020-11-10T08:18:07Z\",\"image\":\"https:\\\\/\\\\/upload.wikimedia.org\\\\/wikipedia\\\\/commons\\\\/a\\\\/a4\\\\/Porlock_Stone_Circle_I.jpg\",\"headline\":\"main page of a Wikimedia project (common for Wikipedia, Wiktionary and other projects)\"}</script>\\n<script>(RLQ=window.RLQ||[]).push(function(){mw.config.set({\"wgBackendResponseTime\":115,\"wgHostname\":\"mw1371\"});});</script>\\n</body></html>'"
      ]
     },
     "execution_count": 3,
     "metadata": {},
     "output_type": "execute_result"
    }
   ],
   "source": [
    "page.content"
   ]
  },
  {
   "cell_type": "code",
   "execution_count": 4,
   "metadata": {},
   "outputs": [],
   "source": [
    "soup=BeautifulSoup(page.content,'html.parser')"
   ]
  },
  {
   "cell_type": "code",
   "execution_count": 5,
   "metadata": {},
   "outputs": [],
   "source": [
    "headings=[]\n",
    "article=[]\n",
    "news=[]\n",
    "this_day=[]\n",
    "featured_list=[]\n"
   ]
  },
  {
   "cell_type": "code",
   "execution_count": 6,
   "metadata": {},
   "outputs": [
    {
     "data": {
      "text/plain": [
       "[<span class=\"mw-headline\" id=\"From_today's_featured_article\">From today's featured article</span>,\n",
       " <span class=\"mw-headline\" id=\"Did_you_know_...\">Did you know ...</span>,\n",
       " <span class=\"mw-headline\" id=\"In_the_news\">In the news</span>,\n",
       " <span class=\"mw-headline\" id=\"On_this_day\">On this day</span>,\n",
       " <span class=\"mw-headline\" id=\"From_today's_featured_list\">From today's featured list</span>,\n",
       " <span class=\"mw-headline\" id=\"Today's_featured_picture\">Today's featured picture</span>]"
      ]
     },
     "execution_count": 6,
     "metadata": {},
     "output_type": "execute_result"
    }
   ],
   "source": [
    "heading_tag=soup.find_all('span',class_=\"mw-headline\")\n",
    "heading_tag[0:6]"
   ]
  },
  {
   "cell_type": "code",
   "execution_count": 7,
   "metadata": {},
   "outputs": [
    {
     "data": {
      "text/plain": [
       "[\"From today's featured article\",\n",
       " 'Did you know\\xa0...',\n",
       " 'In the news',\n",
       " 'On this day',\n",
       " \"From today's featured list\",\n",
       " \"Today's featured picture\",\n",
       " 'Other areas of Wikipedia',\n",
       " \"Wikipedia's sister projects\",\n",
       " 'Wikipedia languages']"
      ]
     },
     "execution_count": 7,
     "metadata": {},
     "output_type": "execute_result"
    }
   ],
   "source": [
    "for i in heading_tag:\n",
    "    headings.append(i.get_text().replace(\"\\n\",\"\"))\n",
    "headings"
   ]
  },
  {
   "cell_type": "markdown",
   "metadata": {},
   "source": [
    "## 2.IMDB Top Rated 100 Movies"
   ]
  },
  {
   "cell_type": "code",
   "execution_count": 8,
   "metadata": {},
   "outputs": [],
   "source": [
    "import selenium\n",
    "import pandas as pd\n",
    "from selenium import webdriver"
   ]
  },
  {
   "cell_type": "code",
   "execution_count": 9,
   "metadata": {},
   "outputs": [],
   "source": [
    "#lets connect to the webdriver\n",
    "driver=webdriver.Chrome(r\"C:\\Users\\Hp\\Desktop\\chromedriver.exe\")"
   ]
  },
  {
   "cell_type": "code",
   "execution_count": 10,
   "metadata": {},
   "outputs": [],
   "source": [
    "#specifying the url of the webpage to be scraped\n",
    "url=\"https://www.imdb.com/search/title/?groups=top_100&sort=user_rating,desc\""
   ]
  },
  {
   "cell_type": "code",
   "execution_count": 11,
   "metadata": {},
   "outputs": [],
   "source": [
    "#lets open driver\n",
    "driver.get(url)"
   ]
  },
  {
   "cell_type": "code",
   "execution_count": 12,
   "metadata": {},
   "outputs": [],
   "source": [
    "name=[]\n",
    "IMDB_Rating=[]\n",
    "year_of_release=[]"
   ]
  },
  {
   "cell_type": "code",
   "execution_count": 13,
   "metadata": {},
   "outputs": [
    {
     "data": {
      "text/plain": [
       "[<selenium.webdriver.remote.webelement.WebElement (session=\"6f4e5689a59e3db97a766089d840e676\", element=\"cef10b5a-d9ac-41b6-ae06-d7c844a2c9a9\")>,\n",
       " <selenium.webdriver.remote.webelement.WebElement (session=\"6f4e5689a59e3db97a766089d840e676\", element=\"dca90b15-84a9-4de1-8c8e-97f1e119392b\")>,\n",
       " <selenium.webdriver.remote.webelement.WebElement (session=\"6f4e5689a59e3db97a766089d840e676\", element=\"e213ba78-fa4c-4a2d-a3e9-677358fcb92b\")>,\n",
       " <selenium.webdriver.remote.webelement.WebElement (session=\"6f4e5689a59e3db97a766089d840e676\", element=\"982855e1-cbfd-4cf6-b599-41b8835e1734\")>,\n",
       " <selenium.webdriver.remote.webelement.WebElement (session=\"6f4e5689a59e3db97a766089d840e676\", element=\"430237d6-223a-41d0-b18a-4d25859a45a3\")>,\n",
       " <selenium.webdriver.remote.webelement.WebElement (session=\"6f4e5689a59e3db97a766089d840e676\", element=\"56e5c5aa-5af0-446f-8af9-5440074acaa3\")>,\n",
       " <selenium.webdriver.remote.webelement.WebElement (session=\"6f4e5689a59e3db97a766089d840e676\", element=\"7c055ed5-6391-4c1f-aace-9c4047c6143b\")>,\n",
       " <selenium.webdriver.remote.webelement.WebElement (session=\"6f4e5689a59e3db97a766089d840e676\", element=\"d4f65e7c-b35c-4383-8bdb-eeba06fedb4c\")>,\n",
       " <selenium.webdriver.remote.webelement.WebElement (session=\"6f4e5689a59e3db97a766089d840e676\", element=\"0b11dd1f-6822-4dbc-9d41-ba6af621ef74\")>,\n",
       " <selenium.webdriver.remote.webelement.WebElement (session=\"6f4e5689a59e3db97a766089d840e676\", element=\"4016a1dc-e81e-430a-98d9-4fc9b82edd0c\")>,\n",
       " <selenium.webdriver.remote.webelement.WebElement (session=\"6f4e5689a59e3db97a766089d840e676\", element=\"7b6bb07d-29ff-474f-b7d3-34d5d5d7525c\")>,\n",
       " <selenium.webdriver.remote.webelement.WebElement (session=\"6f4e5689a59e3db97a766089d840e676\", element=\"dd9f89f4-c294-4f98-a44a-e2253bbb86ed\")>,\n",
       " <selenium.webdriver.remote.webelement.WebElement (session=\"6f4e5689a59e3db97a766089d840e676\", element=\"fa8f0996-0c79-4e94-9196-c40542793bc3\")>,\n",
       " <selenium.webdriver.remote.webelement.WebElement (session=\"6f4e5689a59e3db97a766089d840e676\", element=\"773b9b11-b64b-4844-94cc-af4487506db9\")>,\n",
       " <selenium.webdriver.remote.webelement.WebElement (session=\"6f4e5689a59e3db97a766089d840e676\", element=\"91b8ed78-4938-4453-8f4c-7e04f4dcd1a1\")>,\n",
       " <selenium.webdriver.remote.webelement.WebElement (session=\"6f4e5689a59e3db97a766089d840e676\", element=\"c8c63ddc-1182-4bd9-92b2-38c06bb71810\")>,\n",
       " <selenium.webdriver.remote.webelement.WebElement (session=\"6f4e5689a59e3db97a766089d840e676\", element=\"a4ecf06c-7ef0-4595-82da-189742fd7d71\")>,\n",
       " <selenium.webdriver.remote.webelement.WebElement (session=\"6f4e5689a59e3db97a766089d840e676\", element=\"1694440b-84bf-4b7e-9f09-23ed4e85c8c3\")>,\n",
       " <selenium.webdriver.remote.webelement.WebElement (session=\"6f4e5689a59e3db97a766089d840e676\", element=\"168b7cc7-52dc-4f64-9399-d25135a81ddb\")>,\n",
       " <selenium.webdriver.remote.webelement.WebElement (session=\"6f4e5689a59e3db97a766089d840e676\", element=\"036d4736-8eee-4e09-93b0-0bc66d40b556\")>,\n",
       " <selenium.webdriver.remote.webelement.WebElement (session=\"6f4e5689a59e3db97a766089d840e676\", element=\"5babf213-abd9-4b32-8ea4-49216bd73d53\")>,\n",
       " <selenium.webdriver.remote.webelement.WebElement (session=\"6f4e5689a59e3db97a766089d840e676\", element=\"d9b44c8c-51b0-41f8-808e-84560479a9ea\")>,\n",
       " <selenium.webdriver.remote.webelement.WebElement (session=\"6f4e5689a59e3db97a766089d840e676\", element=\"21d15d91-a221-4cc9-993e-f1fd03b34cd3\")>,\n",
       " <selenium.webdriver.remote.webelement.WebElement (session=\"6f4e5689a59e3db97a766089d840e676\", element=\"17e305ea-6696-414c-b258-480d357ad1f0\")>,\n",
       " <selenium.webdriver.remote.webelement.WebElement (session=\"6f4e5689a59e3db97a766089d840e676\", element=\"78407a6f-e3b3-410c-93cb-38ee56ac2dfb\")>,\n",
       " <selenium.webdriver.remote.webelement.WebElement (session=\"6f4e5689a59e3db97a766089d840e676\", element=\"def061bc-c981-445f-b9cd-26f7744e444d\")>,\n",
       " <selenium.webdriver.remote.webelement.WebElement (session=\"6f4e5689a59e3db97a766089d840e676\", element=\"8db4889e-8a8b-4368-8005-355e34cad831\")>,\n",
       " <selenium.webdriver.remote.webelement.WebElement (session=\"6f4e5689a59e3db97a766089d840e676\", element=\"f8427973-6377-4df2-97d4-4b9983c70e77\")>,\n",
       " <selenium.webdriver.remote.webelement.WebElement (session=\"6f4e5689a59e3db97a766089d840e676\", element=\"36063c28-f735-4e0a-9124-2d30b2aed392\")>,\n",
       " <selenium.webdriver.remote.webelement.WebElement (session=\"6f4e5689a59e3db97a766089d840e676\", element=\"6cb5b7a8-d720-4c44-82a3-d7eb02ad0022\")>,\n",
       " <selenium.webdriver.remote.webelement.WebElement (session=\"6f4e5689a59e3db97a766089d840e676\", element=\"842dbe9f-f5dc-4f38-acda-eeb93be3f2d4\")>,\n",
       " <selenium.webdriver.remote.webelement.WebElement (session=\"6f4e5689a59e3db97a766089d840e676\", element=\"7ddad6e8-c481-4bed-bd33-4cee35c4687f\")>,\n",
       " <selenium.webdriver.remote.webelement.WebElement (session=\"6f4e5689a59e3db97a766089d840e676\", element=\"f822df2e-5467-4346-a659-12c33f3232a4\")>,\n",
       " <selenium.webdriver.remote.webelement.WebElement (session=\"6f4e5689a59e3db97a766089d840e676\", element=\"fd22143e-e993-460a-bcf1-6381cf4f1348\")>,\n",
       " <selenium.webdriver.remote.webelement.WebElement (session=\"6f4e5689a59e3db97a766089d840e676\", element=\"6cc33a81-a050-4c66-8d29-2224522e862d\")>,\n",
       " <selenium.webdriver.remote.webelement.WebElement (session=\"6f4e5689a59e3db97a766089d840e676\", element=\"20c50d88-1c5f-43ac-831a-8f89ca9b7744\")>,\n",
       " <selenium.webdriver.remote.webelement.WebElement (session=\"6f4e5689a59e3db97a766089d840e676\", element=\"e5937ec8-8981-451e-98cd-0f69e7f89d0c\")>,\n",
       " <selenium.webdriver.remote.webelement.WebElement (session=\"6f4e5689a59e3db97a766089d840e676\", element=\"7a180009-5ecc-4bb9-aabc-4453c6e43305\")>,\n",
       " <selenium.webdriver.remote.webelement.WebElement (session=\"6f4e5689a59e3db97a766089d840e676\", element=\"9af30f98-409b-441c-ae97-9e3f16533b37\")>,\n",
       " <selenium.webdriver.remote.webelement.WebElement (session=\"6f4e5689a59e3db97a766089d840e676\", element=\"560e0154-2569-406b-831f-0962d9ef03eb\")>,\n",
       " <selenium.webdriver.remote.webelement.WebElement (session=\"6f4e5689a59e3db97a766089d840e676\", element=\"b3dd53fa-dd0a-4341-9785-2f907a7c0f60\")>,\n",
       " <selenium.webdriver.remote.webelement.WebElement (session=\"6f4e5689a59e3db97a766089d840e676\", element=\"5ee6a273-bb6c-4a61-a080-76b5ce5f928c\")>,\n",
       " <selenium.webdriver.remote.webelement.WebElement (session=\"6f4e5689a59e3db97a766089d840e676\", element=\"1477674a-73d8-4806-b200-72f7cb6b3ad5\")>,\n",
       " <selenium.webdriver.remote.webelement.WebElement (session=\"6f4e5689a59e3db97a766089d840e676\", element=\"b7e4d7c0-71d0-4f2a-ad49-8dc13e578fe8\")>,\n",
       " <selenium.webdriver.remote.webelement.WebElement (session=\"6f4e5689a59e3db97a766089d840e676\", element=\"d2c3ee7e-ad80-4b42-a813-80f69f4d926f\")>,\n",
       " <selenium.webdriver.remote.webelement.WebElement (session=\"6f4e5689a59e3db97a766089d840e676\", element=\"906eee3f-8b48-4fb5-846a-b8176df9f5bb\")>,\n",
       " <selenium.webdriver.remote.webelement.WebElement (session=\"6f4e5689a59e3db97a766089d840e676\", element=\"45f7173f-abd7-4d59-9eb4-89a2fb06e443\")>,\n",
       " <selenium.webdriver.remote.webelement.WebElement (session=\"6f4e5689a59e3db97a766089d840e676\", element=\"2a7f899b-a8a7-464b-960e-338c5470b992\")>,\n",
       " <selenium.webdriver.remote.webelement.WebElement (session=\"6f4e5689a59e3db97a766089d840e676\", element=\"dfbc0fe3-6d8b-46f4-aae9-ad6b0f6acf53\")>,\n",
       " <selenium.webdriver.remote.webelement.WebElement (session=\"6f4e5689a59e3db97a766089d840e676\", element=\"7d73788f-4ee5-4cc4-9179-1c9db8f00e2b\")>]"
      ]
     },
     "execution_count": 13,
     "metadata": {},
     "output_type": "execute_result"
    }
   ],
   "source": [
    "name_tags=driver.find_elements_by_xpath(\"//h3[@class='lister-item-header']/a\")\n",
    "name_tags"
   ]
  },
  {
   "cell_type": "code",
   "execution_count": 14,
   "metadata": {},
   "outputs": [
    {
     "data": {
      "text/plain": [
       "['The Shawshank Redemption',\n",
       " 'The Godfather',\n",
       " 'The Dark Knight',\n",
       " 'The Godfather: Part II']"
      ]
     },
     "execution_count": 14,
     "metadata": {},
     "output_type": "execute_result"
    }
   ],
   "source": [
    "for i in name_tags:\n",
    "    title=i.text\n",
    "    name.append(title)\n",
    "name[0:4]"
   ]
  },
  {
   "cell_type": "code",
   "execution_count": 15,
   "metadata": {},
   "outputs": [
    {
     "data": {
      "text/plain": [
       "[<selenium.webdriver.remote.webelement.WebElement (session=\"6f4e5689a59e3db97a766089d840e676\", element=\"443740fb-bbaf-4895-8036-e9abb4715cdb\")>,\n",
       " <selenium.webdriver.remote.webelement.WebElement (session=\"6f4e5689a59e3db97a766089d840e676\", element=\"226eb83d-7fc2-4fb5-ac15-96b9c4f9b469\")>,\n",
       " <selenium.webdriver.remote.webelement.WebElement (session=\"6f4e5689a59e3db97a766089d840e676\", element=\"2446deba-eb4f-4c78-8c99-09781775974f\")>,\n",
       " <selenium.webdriver.remote.webelement.WebElement (session=\"6f4e5689a59e3db97a766089d840e676\", element=\"41737115-712c-4cb9-bd1a-af93a38430be\")>]"
      ]
     },
     "execution_count": 15,
     "metadata": {},
     "output_type": "execute_result"
    }
   ],
   "source": [
    "year=driver.find_elements_by_xpath(\"//h3[@class='lister-item-header']/span[2]\")\n",
    "year[0:4]"
   ]
  },
  {
   "cell_type": "code",
   "execution_count": 16,
   "metadata": {},
   "outputs": [
    {
     "data": {
      "text/plain": [
       "['(1994)', '(1972)', '(2008)', '(1974)']"
      ]
     },
     "execution_count": 16,
     "metadata": {},
     "output_type": "execute_result"
    }
   ],
   "source": [
    "for i in year:\n",
    "    title=i.text\n",
    "    year_of_release.append(title)\n",
    "year_of_release[0:4]"
   ]
  },
  {
   "cell_type": "code",
   "execution_count": 17,
   "metadata": {},
   "outputs": [
    {
     "data": {
      "text/plain": [
       "[<selenium.webdriver.remote.webelement.WebElement (session=\"6f4e5689a59e3db97a766089d840e676\", element=\"60f6397a-ffba-446f-a5fd-e81c7fc00b8c\")>,\n",
       " <selenium.webdriver.remote.webelement.WebElement (session=\"6f4e5689a59e3db97a766089d840e676\", element=\"c29acd74-4e1b-4f30-9bda-be6bb6aaa2e6\")>,\n",
       " <selenium.webdriver.remote.webelement.WebElement (session=\"6f4e5689a59e3db97a766089d840e676\", element=\"88b72dea-f5db-4845-a0d3-d2b39791d7a6\")>,\n",
       " <selenium.webdriver.remote.webelement.WebElement (session=\"6f4e5689a59e3db97a766089d840e676\", element=\"4b12d024-8b8b-4dd2-bc3b-7b407a77d9a8\")>]"
      ]
     },
     "execution_count": 17,
     "metadata": {},
     "output_type": "execute_result"
    }
   ],
   "source": [
    "rating=driver.find_elements_by_xpath(\"//div[@class='inline-block ratings-imdb-rating']/strong\")\n",
    "rating[0:4]"
   ]
  },
  {
   "cell_type": "code",
   "execution_count": 18,
   "metadata": {},
   "outputs": [
    {
     "data": {
      "text/plain": [
       "['9.3', '9.2', '9.0', '9.0']"
      ]
     },
     "execution_count": 18,
     "metadata": {},
     "output_type": "execute_result"
    }
   ],
   "source": [
    "for i in rating:\n",
    "    title=i.text\n",
    "    IMDB_Rating.append(title)\n",
    "IMDB_Rating[0:4]"
   ]
  },
  {
   "cell_type": "code",
   "execution_count": 19,
   "metadata": {},
   "outputs": [
    {
     "name": "stdout",
     "output_type": "stream",
     "text": [
      "50 50 50\n"
     ]
    }
   ],
   "source": [
    "#lets check the length of each attribute\n",
    "print(len(name),len(IMDB_Rating),len(year_of_release))"
   ]
  },
  {
   "cell_type": "code",
   "execution_count": 20,
   "metadata": {},
   "outputs": [],
   "source": [
    "import pandas as pd\n",
    "imdb=pd.DataFrame({})\n",
    "imdb['name']=name[0:50]\n",
    "imdb['IMDB_Rating']=IMDB_Rating[0:50]\n",
    "imdb['year_of_release']=year_of_release[0:50]"
   ]
  },
  {
   "cell_type": "code",
   "execution_count": 21,
   "metadata": {},
   "outputs": [
    {
     "data": {
      "text/html": [
       "<div>\n",
       "<style scoped>\n",
       "    .dataframe tbody tr th:only-of-type {\n",
       "        vertical-align: middle;\n",
       "    }\n",
       "\n",
       "    .dataframe tbody tr th {\n",
       "        vertical-align: top;\n",
       "    }\n",
       "\n",
       "    .dataframe thead th {\n",
       "        text-align: right;\n",
       "    }\n",
       "</style>\n",
       "<table border=\"1\" class=\"dataframe\">\n",
       "  <thead>\n",
       "    <tr style=\"text-align: right;\">\n",
       "      <th></th>\n",
       "      <th>name</th>\n",
       "      <th>IMDB_Rating</th>\n",
       "      <th>year_of_release</th>\n",
       "    </tr>\n",
       "  </thead>\n",
       "  <tbody>\n",
       "    <tr>\n",
       "      <th>0</th>\n",
       "      <td>The Shawshank Redemption</td>\n",
       "      <td>9.3</td>\n",
       "      <td>(1994)</td>\n",
       "    </tr>\n",
       "    <tr>\n",
       "      <th>1</th>\n",
       "      <td>The Godfather</td>\n",
       "      <td>9.2</td>\n",
       "      <td>(1972)</td>\n",
       "    </tr>\n",
       "    <tr>\n",
       "      <th>2</th>\n",
       "      <td>The Dark Knight</td>\n",
       "      <td>9.0</td>\n",
       "      <td>(2008)</td>\n",
       "    </tr>\n",
       "    <tr>\n",
       "      <th>3</th>\n",
       "      <td>The Godfather: Part II</td>\n",
       "      <td>9.0</td>\n",
       "      <td>(1974)</td>\n",
       "    </tr>\n",
       "    <tr>\n",
       "      <th>4</th>\n",
       "      <td>12 Angry Men</td>\n",
       "      <td>9.0</td>\n",
       "      <td>(1957)</td>\n",
       "    </tr>\n",
       "    <tr>\n",
       "      <th>5</th>\n",
       "      <td>The Lord of the Rings: The Return of the King</td>\n",
       "      <td>8.9</td>\n",
       "      <td>(2003)</td>\n",
       "    </tr>\n",
       "    <tr>\n",
       "      <th>6</th>\n",
       "      <td>Pulp Fiction</td>\n",
       "      <td>8.9</td>\n",
       "      <td>(1994)</td>\n",
       "    </tr>\n",
       "    <tr>\n",
       "      <th>7</th>\n",
       "      <td>Schindler's List</td>\n",
       "      <td>8.9</td>\n",
       "      <td>(1993)</td>\n",
       "    </tr>\n",
       "    <tr>\n",
       "      <th>8</th>\n",
       "      <td>Inception</td>\n",
       "      <td>8.8</td>\n",
       "      <td>(2010)</td>\n",
       "    </tr>\n",
       "    <tr>\n",
       "      <th>9</th>\n",
       "      <td>Fight Club</td>\n",
       "      <td>8.8</td>\n",
       "      <td>(1999)</td>\n",
       "    </tr>\n",
       "    <tr>\n",
       "      <th>10</th>\n",
       "      <td>The Lord of the Rings: The Fellowship of the Ring</td>\n",
       "      <td>8.8</td>\n",
       "      <td>(2001)</td>\n",
       "    </tr>\n",
       "    <tr>\n",
       "      <th>11</th>\n",
       "      <td>Forrest Gump</td>\n",
       "      <td>8.8</td>\n",
       "      <td>(1994)</td>\n",
       "    </tr>\n",
       "    <tr>\n",
       "      <th>12</th>\n",
       "      <td>The Good, the Bad and the Ugly</td>\n",
       "      <td>8.8</td>\n",
       "      <td>(1966)</td>\n",
       "    </tr>\n",
       "    <tr>\n",
       "      <th>13</th>\n",
       "      <td>The Lord of the Rings: The Two Towers</td>\n",
       "      <td>8.7</td>\n",
       "      <td>(2002)</td>\n",
       "    </tr>\n",
       "    <tr>\n",
       "      <th>14</th>\n",
       "      <td>The Matrix</td>\n",
       "      <td>8.7</td>\n",
       "      <td>(1999)</td>\n",
       "    </tr>\n",
       "    <tr>\n",
       "      <th>15</th>\n",
       "      <td>Goodfellas</td>\n",
       "      <td>8.7</td>\n",
       "      <td>(1990)</td>\n",
       "    </tr>\n",
       "    <tr>\n",
       "      <th>16</th>\n",
       "      <td>Star Wars: Episode V - The Empire Strikes Back</td>\n",
       "      <td>8.7</td>\n",
       "      <td>(1980)</td>\n",
       "    </tr>\n",
       "    <tr>\n",
       "      <th>17</th>\n",
       "      <td>One Flew Over the Cuckoo's Nest</td>\n",
       "      <td>8.7</td>\n",
       "      <td>(1975)</td>\n",
       "    </tr>\n",
       "    <tr>\n",
       "      <th>18</th>\n",
       "      <td>Hamilton</td>\n",
       "      <td>8.6</td>\n",
       "      <td>(2020)</td>\n",
       "    </tr>\n",
       "    <tr>\n",
       "      <th>19</th>\n",
       "      <td>Parasite</td>\n",
       "      <td>8.6</td>\n",
       "      <td>(2019)</td>\n",
       "    </tr>\n",
       "    <tr>\n",
       "      <th>20</th>\n",
       "      <td>Interstellar</td>\n",
       "      <td>8.6</td>\n",
       "      <td>(2014)</td>\n",
       "    </tr>\n",
       "    <tr>\n",
       "      <th>21</th>\n",
       "      <td>City of God</td>\n",
       "      <td>8.6</td>\n",
       "      <td>(2002)</td>\n",
       "    </tr>\n",
       "    <tr>\n",
       "      <th>22</th>\n",
       "      <td>Spirited Away</td>\n",
       "      <td>8.6</td>\n",
       "      <td>(2001)</td>\n",
       "    </tr>\n",
       "    <tr>\n",
       "      <th>23</th>\n",
       "      <td>Saving Private Ryan</td>\n",
       "      <td>8.6</td>\n",
       "      <td>(1998)</td>\n",
       "    </tr>\n",
       "    <tr>\n",
       "      <th>24</th>\n",
       "      <td>The Green Mile</td>\n",
       "      <td>8.6</td>\n",
       "      <td>(1999)</td>\n",
       "    </tr>\n",
       "    <tr>\n",
       "      <th>25</th>\n",
       "      <td>Life Is Beautiful</td>\n",
       "      <td>8.6</td>\n",
       "      <td>(1997)</td>\n",
       "    </tr>\n",
       "    <tr>\n",
       "      <th>26</th>\n",
       "      <td>Se7en</td>\n",
       "      <td>8.6</td>\n",
       "      <td>(1995)</td>\n",
       "    </tr>\n",
       "    <tr>\n",
       "      <th>27</th>\n",
       "      <td>The Silence of the Lambs</td>\n",
       "      <td>8.6</td>\n",
       "      <td>(1991)</td>\n",
       "    </tr>\n",
       "    <tr>\n",
       "      <th>28</th>\n",
       "      <td>Star Wars: Episode IV - A New Hope</td>\n",
       "      <td>8.6</td>\n",
       "      <td>(1977)</td>\n",
       "    </tr>\n",
       "    <tr>\n",
       "      <th>29</th>\n",
       "      <td>Hara-Kiri</td>\n",
       "      <td>8.6</td>\n",
       "      <td>(1962)</td>\n",
       "    </tr>\n",
       "    <tr>\n",
       "      <th>30</th>\n",
       "      <td>Seven Samurai</td>\n",
       "      <td>8.6</td>\n",
       "      <td>(1954)</td>\n",
       "    </tr>\n",
       "    <tr>\n",
       "      <th>31</th>\n",
       "      <td>It's a Wonderful Life</td>\n",
       "      <td>8.6</td>\n",
       "      <td>(1946)</td>\n",
       "    </tr>\n",
       "    <tr>\n",
       "      <th>32</th>\n",
       "      <td>Joker</td>\n",
       "      <td>8.5</td>\n",
       "      <td>(2019)</td>\n",
       "    </tr>\n",
       "    <tr>\n",
       "      <th>33</th>\n",
       "      <td>Whiplash</td>\n",
       "      <td>8.5</td>\n",
       "      <td>(2014)</td>\n",
       "    </tr>\n",
       "    <tr>\n",
       "      <th>34</th>\n",
       "      <td>The Intouchables</td>\n",
       "      <td>8.5</td>\n",
       "      <td>(2011)</td>\n",
       "    </tr>\n",
       "    <tr>\n",
       "      <th>35</th>\n",
       "      <td>The Prestige</td>\n",
       "      <td>8.5</td>\n",
       "      <td>(2006)</td>\n",
       "    </tr>\n",
       "    <tr>\n",
       "      <th>36</th>\n",
       "      <td>The Departed</td>\n",
       "      <td>8.5</td>\n",
       "      <td>(2006)</td>\n",
       "    </tr>\n",
       "    <tr>\n",
       "      <th>37</th>\n",
       "      <td>The Pianist</td>\n",
       "      <td>8.5</td>\n",
       "      <td>(2002)</td>\n",
       "    </tr>\n",
       "    <tr>\n",
       "      <th>38</th>\n",
       "      <td>Gladiator</td>\n",
       "      <td>8.5</td>\n",
       "      <td>(2000)</td>\n",
       "    </tr>\n",
       "    <tr>\n",
       "      <th>39</th>\n",
       "      <td>American History X</td>\n",
       "      <td>8.5</td>\n",
       "      <td>(1998)</td>\n",
       "    </tr>\n",
       "    <tr>\n",
       "      <th>40</th>\n",
       "      <td>The Usual Suspects</td>\n",
       "      <td>8.5</td>\n",
       "      <td>(1995)</td>\n",
       "    </tr>\n",
       "    <tr>\n",
       "      <th>41</th>\n",
       "      <td>Léon: The Professional</td>\n",
       "      <td>8.5</td>\n",
       "      <td>(1994)</td>\n",
       "    </tr>\n",
       "    <tr>\n",
       "      <th>42</th>\n",
       "      <td>The Lion King</td>\n",
       "      <td>8.5</td>\n",
       "      <td>(1994)</td>\n",
       "    </tr>\n",
       "    <tr>\n",
       "      <th>43</th>\n",
       "      <td>Terminator 2: Judgment Day</td>\n",
       "      <td>8.5</td>\n",
       "      <td>(1991)</td>\n",
       "    </tr>\n",
       "    <tr>\n",
       "      <th>44</th>\n",
       "      <td>Cinema Paradiso</td>\n",
       "      <td>8.5</td>\n",
       "      <td>(1988)</td>\n",
       "    </tr>\n",
       "    <tr>\n",
       "      <th>45</th>\n",
       "      <td>Grave of the Fireflies</td>\n",
       "      <td>8.5</td>\n",
       "      <td>(1988)</td>\n",
       "    </tr>\n",
       "    <tr>\n",
       "      <th>46</th>\n",
       "      <td>Back to the Future</td>\n",
       "      <td>8.5</td>\n",
       "      <td>(1985)</td>\n",
       "    </tr>\n",
       "    <tr>\n",
       "      <th>47</th>\n",
       "      <td>Once Upon a Time in the West</td>\n",
       "      <td>8.5</td>\n",
       "      <td>(1968)</td>\n",
       "    </tr>\n",
       "    <tr>\n",
       "      <th>48</th>\n",
       "      <td>Psycho</td>\n",
       "      <td>8.5</td>\n",
       "      <td>(1960)</td>\n",
       "    </tr>\n",
       "    <tr>\n",
       "      <th>49</th>\n",
       "      <td>Casablanca</td>\n",
       "      <td>8.5</td>\n",
       "      <td>(1942)</td>\n",
       "    </tr>\n",
       "  </tbody>\n",
       "</table>\n",
       "</div>"
      ],
      "text/plain": [
       "                                                 name IMDB_Rating  \\\n",
       "0                            The Shawshank Redemption         9.3   \n",
       "1                                       The Godfather         9.2   \n",
       "2                                     The Dark Knight         9.0   \n",
       "3                              The Godfather: Part II         9.0   \n",
       "4                                        12 Angry Men         9.0   \n",
       "5       The Lord of the Rings: The Return of the King         8.9   \n",
       "6                                        Pulp Fiction         8.9   \n",
       "7                                    Schindler's List         8.9   \n",
       "8                                           Inception         8.8   \n",
       "9                                          Fight Club         8.8   \n",
       "10  The Lord of the Rings: The Fellowship of the Ring         8.8   \n",
       "11                                       Forrest Gump         8.8   \n",
       "12                     The Good, the Bad and the Ugly         8.8   \n",
       "13              The Lord of the Rings: The Two Towers         8.7   \n",
       "14                                         The Matrix         8.7   \n",
       "15                                         Goodfellas         8.7   \n",
       "16     Star Wars: Episode V - The Empire Strikes Back         8.7   \n",
       "17                    One Flew Over the Cuckoo's Nest         8.7   \n",
       "18                                           Hamilton         8.6   \n",
       "19                                           Parasite         8.6   \n",
       "20                                       Interstellar         8.6   \n",
       "21                                        City of God         8.6   \n",
       "22                                      Spirited Away         8.6   \n",
       "23                                Saving Private Ryan         8.6   \n",
       "24                                     The Green Mile         8.6   \n",
       "25                                  Life Is Beautiful         8.6   \n",
       "26                                              Se7en         8.6   \n",
       "27                           The Silence of the Lambs         8.6   \n",
       "28                 Star Wars: Episode IV - A New Hope         8.6   \n",
       "29                                          Hara-Kiri         8.6   \n",
       "30                                      Seven Samurai         8.6   \n",
       "31                              It's a Wonderful Life         8.6   \n",
       "32                                              Joker         8.5   \n",
       "33                                           Whiplash         8.5   \n",
       "34                                   The Intouchables         8.5   \n",
       "35                                       The Prestige         8.5   \n",
       "36                                       The Departed         8.5   \n",
       "37                                        The Pianist         8.5   \n",
       "38                                          Gladiator         8.5   \n",
       "39                                 American History X         8.5   \n",
       "40                                 The Usual Suspects         8.5   \n",
       "41                             Léon: The Professional         8.5   \n",
       "42                                      The Lion King         8.5   \n",
       "43                         Terminator 2: Judgment Day         8.5   \n",
       "44                                    Cinema Paradiso         8.5   \n",
       "45                             Grave of the Fireflies         8.5   \n",
       "46                                 Back to the Future         8.5   \n",
       "47                       Once Upon a Time in the West         8.5   \n",
       "48                                             Psycho         8.5   \n",
       "49                                         Casablanca         8.5   \n",
       "\n",
       "   year_of_release  \n",
       "0           (1994)  \n",
       "1           (1972)  \n",
       "2           (2008)  \n",
       "3           (1974)  \n",
       "4           (1957)  \n",
       "5           (2003)  \n",
       "6           (1994)  \n",
       "7           (1993)  \n",
       "8           (2010)  \n",
       "9           (1999)  \n",
       "10          (2001)  \n",
       "11          (1994)  \n",
       "12          (1966)  \n",
       "13          (2002)  \n",
       "14          (1999)  \n",
       "15          (1990)  \n",
       "16          (1980)  \n",
       "17          (1975)  \n",
       "18          (2020)  \n",
       "19          (2019)  \n",
       "20          (2014)  \n",
       "21          (2002)  \n",
       "22          (2001)  \n",
       "23          (1998)  \n",
       "24          (1999)  \n",
       "25          (1997)  \n",
       "26          (1995)  \n",
       "27          (1991)  \n",
       "28          (1977)  \n",
       "29          (1962)  \n",
       "30          (1954)  \n",
       "31          (1946)  \n",
       "32          (2019)  \n",
       "33          (2014)  \n",
       "34          (2011)  \n",
       "35          (2006)  \n",
       "36          (2006)  \n",
       "37          (2002)  \n",
       "38          (2000)  \n",
       "39          (1998)  \n",
       "40          (1995)  \n",
       "41          (1994)  \n",
       "42          (1994)  \n",
       "43          (1991)  \n",
       "44          (1988)  \n",
       "45          (1988)  \n",
       "46          (1985)  \n",
       "47          (1968)  \n",
       "48          (1960)  \n",
       "49          (1942)  "
      ]
     },
     "execution_count": 21,
     "metadata": {},
     "output_type": "execute_result"
    }
   ],
   "source": [
    "imdb"
   ]
  },
  {
   "cell_type": "code",
   "execution_count": 22,
   "metadata": {},
   "outputs": [],
   "source": [
    "#Saving a dataframe\n",
    "imdb.to_csv(\"wed scraping imdb.csv\",index=False)"
   ]
  },
  {
   "cell_type": "markdown",
   "metadata": {},
   "source": [
    "## 3.IMDB Top Rated 100  Indian Movies\n"
   ]
  },
  {
   "cell_type": "code",
   "execution_count": 23,
   "metadata": {},
   "outputs": [],
   "source": [
    "from bs4 import BeautifulSoup\n",
    "import requests"
   ]
  },
  {
   "cell_type": "code",
   "execution_count": 24,
   "metadata": {},
   "outputs": [],
   "source": [
    "page=requests.get(\"https://www.imdb.com/india/top-rated-indian-movies/\")"
   ]
  },
  {
   "cell_type": "code",
   "execution_count": 25,
   "metadata": {},
   "outputs": [
    {
     "data": {
      "text/plain": [
       "b'\\n\\n\\n<!DOCTYPE html>\\n<html\\n    xmlns:og=\"http://ogp.me/ns#\"\\n    xmlns:fb=\"http://www.facebook.com/2008/fbml\">\\n    <head>\\n         \\n        <meta charset=\"utf-8\">\\n        <meta http-equiv=\"X-UA-Compatible\" content=\"IE=edge\">\\n\\n    \\n    \\n    \\n\\n    \\n    \\n    \\n\\n    <meta name=\"apple-itunes-app\" content=\"app-id=342792525, app-argument=imdb:///?src=mdot\">\\n            <style>\\n                body#styleguide-v2 {\\n                    background: no-repeat fixed center top #000;\\n                }\\n            </style>\\n        <style>\\n            body#styleguide-v2 #root {\\n                box-shadow: none;\\n            }\\n        </style>\\n\\n\\n\\n        <script type=\"text/javascript\">var IMDbTimer={starttime: new Date().getTime(),pt:\\'java\\'};</script>\\n\\n<script>\\n    if (typeof uet == \\'function\\') {\\n      uet(\"bb\", \"LoadTitle\", {wb: 1});\\n    }\\n</script>\\n  <script>(function(t){ (t.events = t.events || {})[\"csm_head_pre_title\"] = new Date().getTime(); })(IMDbTimer);</script>\\n        <title>Top Rated Indian Movies - IMDb</title>\\n  <script>(function(t){ (t.events = t.events || {})[\"csm_head_post_title\"] = new Date().getTime(); })(IMDbTimer);</script>\\n<script>\\n    if (typeof uet == \\'function\\') {\\n      uet(\"be\", \"LoadTitle\", {wb: 1});\\n    }\\n</script>\\n<script>\\n    if (typeof uex == \\'function\\') {\\n      uex(\"ld\", \"LoadTitle\", {wb: 1});\\n    }\\n</script>\\n\\n        <link rel=\"canonical\" href=\"https://www.imdb.com/india/top-rated-indian-movies/\" />\\n        <meta property=\"og:url\" content=\"http://www.imdb.com/india/top-rated-indian-movies/\" />\\n\\n<script>\\n    if (typeof uet == \\'function\\') {\\n      uet(\"bb\", \"LoadIcons\", {wb: 1});\\n    }\\n</script>\\n  <script>(function(t){ (t.events = t.events || {})[\"csm_head_pre_icon\"] = new Date().getTime(); })(IMDbTimer);</script>\\n\\n        <link rel=\\'icon\\' sizes=\\'32x32\\' href=\\'https://m.media-amazon.com/images/G/01/imdb/images-ANDW73HA/favicon_desktop_32x32._CB1582158068_.png\\' />\\n        <link rel=\\'icon\\' sizes=\\'167x167\\' href=\\'https://m.media-amazon.com/images/G/01/imdb/images-ANDW73HA/favicon_iPad_retina_167x167._CB1582158068_.png\\' />\\n        <link rel=\\'icon\\' sizes=\\'180x180\\' href=\\'https://m.media-amazon.com/images/G/01/imdb/images-ANDW73HA/favicon_iPhone_retina_180x180._CB1582158069_.png\\' />\\n\\n        <link href=\\'https://m.media-amazon.com/images/G/01/imdb/images-ANDW73HA/apple-touch-icon-mobile._CB479963088_.png\\' rel=\\'apple-touch-icon\\' />\\n        <link href=\\'https://m.media-amazon.com/images/G/01/imdb/images-ANDW73HA/apple-touch-icon-mobile-76x76._CB479962152_.png\\' rel=\\'apple-touch-icon\\' sizes=\\'76x76\\' />\\n        <link href=\\'https://m.media-amazon.com/images/G/01/imdb/images-ANDW73HA/apple-touch-icon-mobile-120x120._CB479963088_.png\\' rel=\\'apple-touch-icon\\' sizes=\\'120x120\\' />\\n        <link href=\\'https://m.media-amazon.com/images/G/01/imdb/images-ANDW73HA/apple-touch-icon-web-152x152._CB479963088_.png\\' rel=\\'apple-touch-icon\\' sizes=\\'152x152\\' />\\n\\n        <link href=\\'https://m.media-amazon.com/images/G/01/imdb/images-ANDW73HA/android-mobile-196x196._CB479962153_.png\\' rel=\\'shortcut icon\\' sizes=\\'196x196\\' />\\n\\n        <meta name=\"theme-color\" content=\"#000000\" />\\n         \\n        <link rel=\"search\" type=\"application/opensearchdescription+xml\" href=\"https://m.media-amazon.com/images/S/sash/MzfIBMq9GBucYqW.xml\" title=\"IMDb\" />\\n  <script>(function(t){ (t.events = t.events || {})[\"csm_head_post_icon\"] = new Date().getTime(); })(IMDbTimer);</script>\\n<script>\\n    if (typeof uet == \\'function\\') {\\n      uet(\"be\", \"LoadIcons\", {wb: 1});\\n    }\\n</script>\\n<script>\\n    if (typeof uex == \\'function\\') {\\n      uex(\"ld\", \"LoadIcons\", {wb: 1});\\n    }\\n</script>\\n\\n        <meta property=\"pageType\" content=\"imdb-featured\" />\\n        <meta property=\"subpageType\" content=\"india\" />\\n\\n\\n        <link rel=\\'image_src\\' href=\"https://m.media-amazon.com/images/G/01/imdb/images/social/imdb_logo._CB410901634_.png\">\\n        <meta property=\\'og:image\\' content=\"https://m.media-amazon.com/images/G/01/imdb/images/social/imdb_logo._CB410901634_.png\" />\\n\\n    <meta property=\\'fb:app_id\\' content=\\'115109575169727\\' />\\n\\n      <meta property=\\'og:title\\' content=\"Top Rated Indian Movies - IMDb\" />\\n    <meta property=\\'og:site_name\\' content=\\'IMDb\\' />\\n    <meta name=\"title\" content=\"Top Rated Indian Movies - IMDb\" />\\n        <meta name=\"description\" content=\"Discover the best Indian movies based on IMDb user ratings\" />\\n        <meta property=\"og:description\" content=\"Discover the best Indian movies based on IMDb user ratings\" />\\n        <meta name=\"keywords\" content=\"Best Indian movies,top indian movies,best Hindi movies,best tamil movies,best telugu movies\" />\\n        <meta name=\"request_id\" content=\"DTC9ZKF3EVHCWQ12X268\" />\\n\\n    <script>\\n        (function (win) {\\n            win.PLAID_LOAD_FONTS_FIRED = true;\\n\\n            if (typeof win.FontFace !== \"undefined\"\\n                && typeof win.Promise !== \"undefined\") {\\n                if (win.ue) {\\n                    win.uet(\"bb\", \"LoadRoboto\", { wb: 1 });\\n                }\\n                var allowableLoadTime = 1000;\\n                var startTimeInt = +new Date();\\n                var roboto = new FontFace(\\'Roboto\\',\\n                    \\'url(https://m.media-amazon.com/images/G/01/IMDb/cm9ib3Rv.woff2)\\',\\n                    { style:\\'normal\\', weight: 400 });\\n                var robotoMedium = new FontFace(\\'Roboto\\',\\n                    \\'url(https://m.media-amazon.com/images/G/01/IMDb/cm9ib3RvTWVk.woff2)\\',\\n                    { style:\\'normal\\', weight: 500 });\\n                var robotoBold = new FontFace(\\'Roboto\\',\\n                    \\'url(https://m.media-amazon.com/images/G/01/IMDb/cm9ib3RvQm9sZA.woff2)\\',\\n                    { style:\\'normal\\', weight: 600 });\\n                var robotoLoaded = roboto.load();\\n                var robotoMediumLoaded = robotoMedium.load();\\n                var robotoBoldLoaded = robotoBold.load();\\n\\n                win.Promise.all([robotoLoaded, robotoMediumLoaded, robotoBoldLoaded]).then(function() {\\n                    var loadTimeInt = +new Date();\\n                    var robotoLoadedCount = 0;\\n                    if ((loadTimeInt - startTimeInt) <= allowableLoadTime) {\\n                        win.document.fonts.add(roboto);\\n                        win.document.fonts.add(robotoMedium);\\n                        win.document.fonts.add(robotoBold);\\n                        robotoLoadedCount++;\\n                    }\\n                    if (win.ue) {\\n                        win.ue.count(\"roboto-loaded\", robotoLoadedCount);\\n                        win.uet(\"be\", \"LoadRoboto\", { wb: 1 });\\n                        win.uex(\"ld\", \"LoadRoboto\", { wb: 1 });\\n                    }\\n                }).catch(function() {\\n                    if (win.ue) {\\n                        win.ue.count(\"roboto-loaded\", 0);\\n                    }\\n                });\\n            } else {\\n                if (win.ue) {\\n                    win.ue.count(\"roboto-load-not-attempted\", 1);\\n                }\\n            }\\n        })(window);\\n    </script>\\n\\n<script>\\n    if (typeof uet == \\'function\\') {\\n      uet(\"bb\", \"LoadCSS\", {wb: 1});\\n    }\\n</script>\\n  <script>(function(t){ (t.events = t.events || {})[\"csm_head_pre_css\"] = new Date().getTime(); })(IMDbTimer);</script>\\n        \\n<link rel=\"stylesheet\" type=\"text/css\" href=\"https://m.media-amazon.com/images/I/41NE4iSl4TL.css\" /><link rel=\"stylesheet\" type=\"text/css\" href=\"https://m.media-amazon.com/images/I/41iArZbx98L.css\" />\\n\\n<!-- h=ics-c52xl-11-1a-11211dd3.us-east-1 -->\\n\\n            <link rel=\"stylesheet\" type=\"text/css\" href=\"https://m.media-amazon.com/images/S/sash/YhWUw1kOMo8pHO6.css\" />\\n            <link rel=\"stylesheet\" type=\"text/css\" href=\"https://m.media-amazon.com/images/S/sash/WEqqqnMTh6qeI0v.css\" />\\n            <link rel=\"stylesheet\" type=\"text/css\" href=\"https://m.media-amazon.com/images/S/sash/H0i$-xOoN3Mz5yQ.css\" />\\n            <link rel=\"stylesheet\" type=\"text/css\" href=\"https://m.media-amazon.com/images/S/sash/MEsZk7KxG2g8825.css\" />\\n        <noscript>\\n            <link rel=\"stylesheet\" type=\"text/css\" href=\"https://m.media-amazon.com/images/S/sash/CCc6Ja$8QUPPKkY.css\">\\n        </noscript>\\n  <script>(function(t){ (t.events = t.events || {})[\"csm_head_post_css\"] = new Date().getTime(); })(IMDbTimer);</script>\\n<script>\\n    if (typeof uet == \\'function\\') {\\n      uet(\"be\", \"LoadCSS\", {wb: 1});\\n    }\\n</script>\\n<script>\\n    if (typeof uex == \\'function\\') {\\n      uex(\"ld\", \"LoadCSS\", {wb: 1});\\n    }\\n</script>\\n\\n<script>\\n    if (typeof uet == \\'function\\') {\\n      uet(\"bb\", \"LoadJS\", {wb: 1});\\n    }\\n</script>\\n<script>\\n    if (typeof uet == \\'function\\') {\\n      uet(\"bb\", \"LoadHeaderJS\", {wb: 1});\\n    }\\n</script>\\n  <script>(function(t){ (t.events = t.events || {})[\"csm_head_pre_ads\"] = new Date().getTime(); })(IMDbTimer);</script>\\n        \\n        <script  type=\"text/javascript\">\\n            // ensures js doesn\\'t die if ads service fails.  \\n            // Note that we need to define the js here, since ad js is being rendered inline after this.\\n            (function(f) {\\n                // Fallback javascript, when the ad Service call fails.  \\n                \\n                if((window.csm == null || window.generic == null || window.consoleLog == null)) {\\n                    if (window.console && console.log) {\\n                        console.log(\"one or more of window.csm, window.generic or window.consoleLog has been stubbed...\");\\n                    }\\n                }\\n                \\n                window.csm = window.csm || { measure:f, record:f, duration:f, listen:f, metrics:{} };\\n                window.generic = window.generic || { monitoring: { start_timing: f, stop_timing: f } };\\n                window.consoleLog = window.consoleLog || f;\\n            })(function() {});\\n        </script>\\n<script type=\"text/javascript\">\\n    if (!window.RadWidget) {\\n        window.RadWidget = {\\n            registerReactWidgetInstance: function(input) {\\n                window.RadWidget[input.widgetName] = window.RadWidget[input.widgetName] || [];\\n                window.RadWidget[input.widgetName].push({\\n                    id: input.instanceId,\\n                    props: JSON.stringify(input.model)\\n                })\\n            },\\n            getReactWidgetInstances: function(widgetName) {\\n                return window.RadWidget[widgetName] || []\\n            }\\n        };\\n    }\\n</script>  <script>\\n    if (\\'csm\\' in window) {\\n      csm.measure(\\'csm_head_delivery_finished\\');\\n    }\\n  </script>\\n<script>\\n    if (typeof uet == \\'function\\') {\\n      uet(\"be\", \"LoadHeaderJS\", {wb: 1});\\n    }\\n</script>\\n<script>\\n    if (typeof uex == \\'function\\') {\\n      uex(\"ld\", \"LoadHeaderJS\", {wb: 1});\\n    }\\n</script>\\n<script>\\n    if (typeof uet == \\'function\\') {\\n      uet(\"be\", \"LoadJS\", {wb: 1});\\n    }\\n</script>\\n<script>\\n    if (typeof uex == \\'function\\') {\\n      uex(\"ld\", \"LoadJS\", {wb: 1});\\n    }\\n</script>\\n\\n        \\n    </head>\\n    <body id=\"styleguide-v2\" class=\"fixed\">\\n        \\n<script>\\n    if (typeof uet == \\'function\\') {\\n      uet(\"bb\");\\n    }\\n</script>\\n  <script>\\n    if (\\'csm\\' in window) {\\n      csm.measure(\\'csm_body_delivery_started\\');\\n    }\\n  </script>\\n       \\n<script>\\n    if (typeof uet == \\'function\\') {\\n      uet(\"ns\");\\n    }\\n</script>\\n        <style data-styled=\"gwOpQB iwkRT erYeKd bkeTFm diDBNJ eWjUDO LrpYY dzfmPm dFDExU RQLCk YOYgO ddqdtC hOXnzb cIKARP gTFTwO dKTgZt crQfrC OQYVG hjoCyi hoAGyu cECatH kaVyhF eIWOUD\" data-styled-version=\"4.3.2\">\\n/* sc-component-id: NavLogo-e02kni-0 */\\n.ddqdtC{-webkit-flex-shrink:0;-ms-flex-negative:0;flex-shrink:0;display:-webkit-box;display:-webkit-flex;display:-ms-flexbox;display:flex;-webkit-align-items:center;-webkit-box-align:center;-ms-flex-align:center;align-items:center;-webkit-box-pack:center;-webkit-justify-content:center;-ms-flex-pack:center;justify-content:center;-webkit-user-select:none;-moz-user-select:none;-ms-user-select:none;user-select:none;margin-left:0.25rem;margin-right:auto;-webkit-order:1;-ms-flex-order:1;order:1;position:relative;} @media screen and (min-width:1024px){.ddqdtC{margin-left:auto;margin-right:0.5rem;-webkit-order:0;-ms-flex-order:0;order:0;padding-left:0;}} @media (hover:hover) and (pointer:fine){.ddqdtC:focus{outline:1px dashed currentColor;}.ddqdtC:focus:active{outline:0;}.ddqdtC:before,.ddqdtC:after{border-radius:10%;bottom:0;content:\\'\\';height:100%;left:0;margin:auto;opacity:0;position:absolute;right:0;top:0;-webkit-transition:opacity .2s cubic-bezier(1,1,1,1);transition:opacity .2s cubic-bezier(1,1,1,1);width:100%;}}\\n/* sc-component-id: SearchTypeahead-sc-112a48v-0 */\\n.OQYVG li:first-child > ._3CzPBqlWRmSAoWxtvQQ5Eo{border-top:none;}\\n/* sc-component-id: FlyoutMenu-xq6xx0-0 */\\n.crQfrC{position:relative;} .crQfrC.navbar__flyout__text-button-after-mobile,.crQfrC .navbar__flyout__text-button-after-mobile{display:none;} .crQfrC .navbar__flyout__text-button-after-mobile > div{display:-webkit-box;display:-webkit-flex;display:-ms-flexbox;display:flex;-webkit-align-items:center;-webkit-box-align:center;-ms-flex-align:center;align-items:center;} .crQfrC .navbar__flyout--menu{top:100%;position:absolute;margin-top:.25rem;} .crQfrC.crQfrC.navbar__flyout--positionLeft .navbar__flyout--menu{left:0;right:auto;} @media screen and (min-width:600px){.crQfrC.navbar__flyout--breakpoint-m .navbar__flyout__icon-on-mobile{display:none;}.crQfrC.navbar__flyout--breakpoint-m .navbar__flyout__text-button-after-mobile{display:-webkit-inline-box;display:-webkit-inline-flex;display:-ms-inline-flexbox;display:inline-flex;}} @media screen and (min-width:1024px){.crQfrC.navbar__flyout--breakpoint-l .navbar__flyout__icon-on-mobile{display:none;}.crQfrC.navbar__flyout--breakpoint-l .navbar__flyout__text-button-after-mobile{display:-webkit-inline-box;display:-webkit-inline-flex;display:-ms-inline-flexbox;display:inline-flex;}} @media screen and (min-width:1280px){.crQfrC.navbar__flyout--breakpoint-xl .navbar__flyout__icon-on-mobile{display:none;}.crQfrC.navbar__flyout--breakpoint-xl .navbar__flyout__text-button-after-mobile{display:-webkit-inline-box;display:-webkit-inline-flex;display:-ms-inline-flexbox;display:inline-flex;}} .crQfrC .navbar__flyout__button-pointer{-webkit-transition:-webkit-transform 0.2s;-webkit-transition:transform 0.2s;transition:transform 0.2s;-webkit-transform:rotateX(0);-ms-transform:rotateX(0);transform:rotateX(0);} .crQfrC.navbar__flyout--isVisible .navbar__flyout__button-pointer{-webkit-transform:rotateX(180deg);-ms-transform:rotateX(180deg);transform:rotateX(180deg);}\\n/* sc-component-id: SearchCategorySelector__StyledContainer-sc-18f40f7-0 */\\n.dKTgZt .search-category-selector__opener{border-radius:2px 0 0 2px;padding:0 0 0 0.5rem;min-height:32px;height:20px;border-right:1px solid rgba(0,0,0,0.3);} .dKTgZt _1L5qcXA4wOKR8LeHJgsqja{cursor:pointer;}\\n/* sc-component-id: SearchForm-dxsip9-0 */\\n.gTFTwO{display:-webkit-box;display:-webkit-flex;display:-ms-flexbox;display:flex;-webkit-box-flex:1;-webkit-flex-grow:1;-ms-flex-positive:1;flex-grow:1;margin:0;padding:0;-webkit-align-items:center;-webkit-box-align:center;-ms-flex-align:center;align-items:center;} @media screen and (min-width:600px){.gTFTwO{-webkit-transition:border 0.2s,background-color 0.2s,box-shadow 0.2s;transition:border 0.2s,background-color 0.2s,box-shadow 0.2s;}} .gTFTwO .nav-search__search-input-container{width:100%;padding-right:3.5rem;} .gTFTwO ._1-XI3_I8iwubPnQ1mmvW97{position:absolute;right:.35rem;min-width:2rem;cursor:pointer;top:.35rem;-webkit-transition:all 0.2s;transition:all 0.2s;} @media screen and (min-width:600px){.gTFTwO.q2gp5sSzXI30d2n_razRe ._1-XI3_I8iwubPnQ1mmvW97{background:transparent;opacity:1;}} .gTFTwO .imdb-header-search__input{background:transparent;-webkit-box-flex:1;-webkit-flex-grow:1;-ms-flex-positive:1;flex-grow:1;outline:none;padding:1rem 1rem 1rem .75rem;width:100%;} @media screen and (min-width:600px){.gTFTwO .imdb-header-search__input{padding:.375em 0 .375rem .5rem;}} .gTFTwO .imdb-header-search__input::-ms-clear{display:none;}\\n/* sc-component-id: SearchBar-sc-1nweg6x-0 */\\n.hOXnzb{-webkit-align-items:center;-webkit-box-align:center;-ms-flex-align:center;align-items:center;display:-webkit-box;display:-webkit-flex;display:-ms-flexbox;display:flex;left:0;margin:0;min-height:3.5rem;opacity:0;-webkit-transform:translateY(-10px);-ms-transform:translateY(-10px);transform:translateY(-10px);-webkit-transition:none;transition:none;-webkit-order:3;-ms-flex-order:3;order:3;pointer-events:none;position:absolute;top:0;visibility:hidden;width:100%;z-index:1;} .hOXnzb .imdb-header-search__state-closer{-webkit-transform:scale(0.5);-ms-transform:scale(0.5);transform:scale(0.5);-webkit-transition:-webkit-transform 0.2s 0.1s;-webkit-transition:transform 0.2s 0.1s;transition:transform 0.2s 0.1s;display:inline;margin:.25rem;position:absolute;right:0;top:0;} .hOXnzb .imdb-header-search__state,.hOXnzb .imdb-header-search__input,.hOXnzb .nav-search__search-submit{-moz-appearance:none;-webkit-appearance:none;-webkit-appearance:none;-moz-appearance:none;appearance:none;border:none;} @media screen and (min-width:600px){.hOXnzb{-webkit-box-flex:1;-webkit-flex-grow:1;-ms-flex-positive:1;flex-grow:1;margin:0 0.5rem;padding:0;min-height:2.25rem;-webkit-order:3;-ms-flex-order:3;order:3;opacity:1;visibility:visible;pointer-events:auto;position:relative;-webkit-transform:translateY(0);-ms-transform:translateY(0);transform:translateY(0);}.hOXnzb .imdb-header-search__state,.hOXnzb .nav-search__search-submit{padding:0;}.hOXnzb .nav-search__search-submit:focus{outline:var(--ipt-focus-outline-on-base);outline-offset:1px;}.hOXnzb .imdb-header-search__state-closer{display:none;}}\\n/* sc-component-id: SearchBar__SearchLauncherButton-sc-1nweg6x-1 */\\n.hjoCyi{-webkit-transition:all 0.3s;transition:all 0.3s;opacity:1;-webkit-transform:scale(1);-ms-transform:scale(1);transform:scale(1);-webkit-order:3;-ms-flex-order:3;order:3;} @media screen and (min-width:600px){.hjoCyi{-webkit-order:3;-ms-flex-order:3;order:3;}.hjoCyi.imdb-header-search__state-opener{display:none;}}\\n/* sc-component-id: SearchBar__MobileSearchStateToggle-sc-1nweg6x-2 */\\n.cIKARP:checked ~ .nav-search__search-container{opacity:1;-webkit-transform:scale(1);-ms-transform:scale(1);transform:scale(1);-webkit-transition:opacity 0.2s,-webkit-transform 0.2s;-webkit-transition:opacity 0.2s,transform 0.2s;transition:opacity 0.2s,transform 0.2s;visibility:visible;pointer-events:auto;z-index:100;} .cIKARP:checked ~ .nav-search__search-container .nav-search__search-select,.cIKARP:checked ~ .nav-search__search-container .nav-search__search-submit{display:none;} .cIKARP:checked ~ .nav-search__search-container .imdb-header-search__state-closer{-webkit-transform:scale(1);-ms-transform:scale(1);transform:scale(1);} .cIKARP:checked ~ .nav-search__search-container ~ .SearchBar__SearchLauncherButton-sc-1nweg6x-1{-webkit-transform:scale(0.5);-ms-transform:scale(0.5);transform:scale(0.5);-webkit-transition:all 0.3s 0.3s;transition:all 0.3s 0.3s;opacity:0;}\\n/* sc-component-id: Drawer__StyledContainer-sc-1h7cs9y-0 */\\n.bkeTFm._14--k36qjjvLW3hUWHDPb_{bottom:0;display:-webkit-box;display:-webkit-flex;display:-ms-flexbox;display:flex;left:0;overflow:hidden;-webkit-perspective:70vh;-moz-perspective:70vh;-ms-perspective:70vh;perspective:70vh;pointer-events:none;position:fixed;right:0;top:0;visibility:hidden;z-index:100;} .bkeTFm .iRO9SK-8q3D8_287dhn28{box-shadow:none;box-sizing:border-box;height:100%;overflow-x:hidden;overflow-y:auto;position:relative;-webkit-transform:translateX(calc(-100% - 36px));-ms-transform:translateX(calc(-100% - 36px));transform:translateX(calc(-100% - 36px));-webkit-transform-origin:right center;-ms-transform-origin:right center;transform-origin:right center;-webkit-transition:all 0.3s,box-shadow 0s;transition:all 0.3s,box-shadow 0s;width:280px;z-index:2;-webkit-overflow-scroll:touch;} .bkeTFm ._1iCYg55DI6ds7d3KVrdYBX{box-sizing:border-box;display:block;height:100%;left:0;opacity:0;position:absolute;top:0;-webkit-transition:opacity 0.3s;transition:opacity 0.3s;visibility:hidden;width:100%;will-change:opacity;z-index:1;} .bkeTFm ._3rHHDKyPLOjL8tGKHWMRza{-webkit-align-items:center;-webkit-box-align:center;-ms-flex-align:center;align-items:center;box-sizing:border-box;display:-webkit-box;display:-webkit-flex;display:-ms-flexbox;display:flex;-webkit-box-pack:end;-webkit-justify-content:flex-end;-ms-flex-pack:end;justify-content:flex-end;min-height:3.5rem;margin-bottom:0.5rem;padding:0.25rem;} .bkeTFm ._2RzUkzyrsjx_BPIQ5uoj5s{-webkit-touch-callout:none;-webkit-tap-highlight-color:transparent;} ._146x-LuQBSfM9yosRvjSGF:checked ~ .bkeTFm._14--k36qjjvLW3hUWHDPb_{pointer-events:auto;visibility:visible;} ._146x-LuQBSfM9yosRvjSGF:checked ~ .bkeTFm._14--k36qjjvLW3hUWHDPb_ > .iRO9SK-8q3D8_287dhn28{-webkit-transform:translateX(0);-ms-transform:translateX(0);transform:translateX(0);box-shadow:0px 11px 15px -7px rgba(var(--ipt-baseAlt-rgb),0.2),0px 24px 38px 3px rgba(var(--ipt-baseAlt-rgb),0.14),0px 9px 46px 8px rgba(var(--ipt-baseAlt-rgb),0.12);} ._146x-LuQBSfM9yosRvjSGF:checked ~ .bkeTFm._14--k36qjjvLW3hUWHDPb_ > ._1iCYg55DI6ds7d3KVrdYBX{opacity:0.5;visibility:visible;} @media screen and (min-width:1024px){.bkeTFm .iRO9SK-8q3D8_287dhn28{width:100%;-webkit-transform:translateY(calc(-100%));-ms-transform:translateY(calc(-100%));transform:translateY(calc(-100%));padding:2rem 0;}.bkeTFm ._3rHHDKyPLOjL8tGKHWMRza{background:none;max-width:1024px;margin:auto;-webkit-box-pack:justify;-webkit-justify-content:space-between;-ms-flex-pack:justify;justify-content:space-between;padding:0 1rem;}.bkeTFm ._3bRJYEaOz1BKUQYqW6yb29{max-width:1024px;margin:auto;}.bkeTFm .WNY8DBPCS1ZbiSd7NoqdP{display:inline;}}\\n/* sc-component-id: NavLink-sc-19k0khm-0 */\\n.LrpYY .ipc-icon{opacity:0.5;-webkit-transition:opacity 0.2s;transition:opacity 0.2s;} .LrpYY:hover .ipc-icon{opacity:1;} @media screen and (max-width:479px){.LrpYY.nav-link--hideXS{display:none;}} @media screen and (min-width:480px) and (max-width:599px){.LrpYY.nav-link--hideS{display:none;}} @media screen and (min-width:600px) and (max-width:1023px){.LrpYY.nav-link--hideM{display:none;}} @media screen and (min-width:1024px) and (max-width:1279px){.LrpYY.nav-link--hideL{display:none;}} @media screen and (min-width:1280px){.LrpYY.nav-link--hideXL{display:none;}}\\n/* sc-component-id: NavLinkCategory__StyledContainer-sc-1zvm8t-0 */\\n.eWjUDO ._2vjThdvAXrHx6CofJjm03w{cursor:pointer;-webkit-align-items:center;-webkit-box-align:center;-ms-flex-align:center;align-items:center;border-top:1px solid transparent;display:-webkit-box;display:-webkit-flex;display:-ms-flexbox;display:flex;-webkit-box-pack:justify;-webkit-justify-content:space-between;-ms-flex-pack:justify;justify-content:space-between;height:3rem;margin:0;padding:0 1rem;-webkit-transition:color 0.1s ease-in,border-color 0.1s ease-in,opacity 0.12s ease-in;transition:color 0.1s ease-in,border-color 0.1s ease-in,opacity 0.12s ease-in;-webkit-user-select:none;-moz-user-select:none;-ms-user-select:none;user-select:none;} .eWjUDO ._2vjThdvAXrHx6CofJjm03w:focus{outline:var(--ipt-focus-outline-on-baseAlt);outline-offset:1px;} .eWjUDO ._1tLXJMH37mh4UmvfVF8swF{padding-right:0.75rem;} .eWjUDO ._2aunAih-uMfbdgTUIjnQMd{-webkit-box-flex:1;-webkit-flex-grow:1;-ms-flex-positive:1;flex-grow:1;overflow:hidden;padding-right:0.75rem;text-overflow:ellipsis;white-space:nowrap;} .eWjUDO ._2BeDp2pKthfMnxArm4lS0T{-webkit-transform:rotate(90deg);-ms-transform:rotate(90deg);transform:rotate(90deg);} .eWjUDO ._1tLXJMH37mh4UmvfVF8swF,.eWjUDO ._2BeDp2pKthfMnxArm4lS0T{opacity:0.5;-webkit-transition:all 0.2s;transition:all 0.2s;} .eWjUDO ._2vjThdvAXrHx6CofJjm03w:focus ._2BeDp2pKthfMnxArm4lS0T,.eWjUDO ._2vjThdvAXrHx6CofJjm03w:hover ._2BeDp2pKthfMnxArm4lS0T,.eWjUDO ._2vjThdvAXrHx6CofJjm03w:focus ._1tLXJMH37mh4UmvfVF8swF,.eWjUDO ._2vjThdvAXrHx6CofJjm03w:hover ._1tLXJMH37mh4UmvfVF8swF{opacity:1;} .eWjUDO ._1S9IOoNAVMPB2VikET3Lr2{overflow:hidden;border-bottom:1px solid transparent;-webkit-transition:border-color 0.1s ease-in,height 0.2s;transition:border-color 0.1s ease-in,height 0.2s;} .eWjUDO .s6lVaL5MYgQM-fYJ9KWp7:checked ~ span ._2vjThdvAXrHx6CofJjm03w ._1tLXJMH37mh4UmvfVF8swF{opacity:1;} .eWjUDO .s6lVaL5MYgQM-fYJ9KWp7:checked ~ span ._2vjThdvAXrHx6CofJjm03w ._2BeDp2pKthfMnxArm4lS0T{-webkit-transform:rotate(-90deg);-ms-transform:rotate(-90deg);transform:rotate(-90deg);} .eWjUDO .s6lVaL5MYgQM-fYJ9KWp7:checked ~ span ._1S9IOoNAVMPB2VikET3Lr2{display:block;} .eWjUDO:nth-of-type(1) ._2vjThdvAXrHx6CofJjm03w{border-top:none;} @media screen and (min-width:1024px){.eWjUDO.noMarginItem ._2vjThdvAXrHx6CofJjm03w{margin-top:0;}} @media screen and (min-width:1024px){.eWjUDO{-webkit-flex-basis:33%;-ms-flex-preferred-size:33%;flex-basis:33%;}.eWjUDO ._2vjThdvAXrHx6CofJjm03w{pointer-events:none;margin-top:1.5rem;height:3rem;border:none;}.eWjUDO .s6lVaL5MYgQM-fYJ9KWp7:checked ~ ._2Q0QZxgQqVpU0nQBqv1xlY ._2vjThdvAXrHx6CofJjm03w ._2aunAih-uMfbdgTUIjnQMd{color:inherit;}.eWjUDO ._1S9IOoNAVMPB2VikET3Lr2{visibility:inherit;height:auto !important;border:0;}.eWjUDO ._2BeDp2pKthfMnxArm4lS0T{display:none;}.eWjUDO ._1tLXJMH37mh4UmvfVF8swF{color:var(--ipt-on-baseAlt-accent1-color);opacity:1;}.eWjUDO .ipc-list__item{height:2rem;}.eWjUDO .ipc-list--baseAlt .ipc-list__item:hover{background:none;-webkit-text-decoration:underline;text-decoration:underline;}} @media screen and (max-width:479px){.eWjUDO._2BpsDlqEMlo9unX-C84Nji--hideXS{display:none;}} @media screen and (min-width:480px) and (max-width:599px){.eWjUDO._2BpsDlqEMlo9unX-C84Nji--hideS{display:none;}} @media screen and (min-width:600px) and (max-width:1023px){.eWjUDO._2BpsDlqEMlo9unX-C84Nji--hideM{display:none;}} @media screen and (min-width:1024px) and (max-width:1279px){.eWjUDO._2BpsDlqEMlo9unX-C84Nji--hideL{display:none;}} @media screen and (min-width:1280px){.eWjUDO._2BpsDlqEMlo9unX-C84Nji--hideXL{display:none;}}\\n/* sc-component-id: NavDynamicCategoryList__CategoryGroupContainer-f186ms-0 */\\n@media screen and (min-width:1024px){.dzfmPm{-webkit-flex-basis:33%;-ms-flex-preferred-size:33%;flex-basis:33%;}}\\n/* sc-component-id: NavDynamicCategoryList__EmptyContainer-f186ms-1 */\\n@media screen and (min-width:1024px){.dFDExU{-webkit-flex-basis:33%;-ms-flex-preferred-size:33%;flex-basis:33%;}}\\n/* sc-component-id: NavLinkCategoryList__StyledContainer-sc-13vymju-0 */\\n.diDBNJ ._1cBEhLbHn9YeCkfPvo9USU{list-style:none;margin:0.5rem 0;opacity:0.2;} .diDBNJ ._3xW8qYlqcCPv5fOHeXBer5{margin-bottom:3rem;margin-top:1.5rem;padding:1rem;height:auto;} @media screen and (min-width:1024px){.diDBNJ{display:-webkit-box;display:-webkit-flex;display:-ms-flexbox;display:flex;-webkit-flex-wrap:wrap;-ms-flex-wrap:wrap;flex-wrap:wrap;}.diDBNJ ._1BC0pBnjYqz3wST1u3CwmG{display:none;}.diDBNJ ._3xW8qYlqcCPv5fOHeXBer5{-webkit-align-self:flex-start;-ms-flex-item-align:start;align-self:flex-start;display:none;}.diDBNJ:focus{outline:var(--ipt-focus-outline-on-baseAlt);outline-offset:1px;}}\\n/* sc-component-id: NavLinkCategoryList__LogoNavLink-sc-13vymju-1 */\\n.RQLCk{display:-webkit-box;display:-webkit-flex;display:-ms-flexbox;display:flex;-webkit-flex-direction:column;-ms-flex-direction:column;flex-direction:column;-webkit-box-pack:center;-webkit-justify-content:center;-ms-flex-pack:center;justify-content:center;}\\n/* sc-component-id: NavLinkCategoryList__TextNavLink-sc-13vymju-2 */\\n.YOYgO{margin-top:.25rem;}\\n/* sc-component-id: HamburgerMenu-k5mvoq-0 */\\n.erYeKd{-webkit-flex-shrink:0;-ms-flex-negative:0;flex-shrink:0;-webkit-order:0;-ms-flex-order:0;order:0;} .erYeKd.desktop{display:none;} @media screen and (min-width:1024px){.erYeKd{-webkit-order:1;-ms-flex-order:1;order:1;}.erYeKd.mobile{display:none;}.erYeKd.desktop{display:-webkit-box;display:-webkit-flex;display:-ms-flexbox;display:flex;}}\\n/* sc-component-id: UserMenu-sc-1poz515-0 */\\n.eIWOUD{-webkit-order:6;-ms-flex-order:6;order:6;} @media screen and (min-width:600px){.eIWOUD .navbar__user-menu__username-divider,.eIWOUD .navbar__user-menu__username{display:none;}} @media screen and (min-width:1024px){.eIWOUD{-webkit-order:7;-ms-flex-order:7;order:7;}} .eIWOUD .navbar__user-menu-toggle__button{padding-right:0.25rem;} .eIWOUD .navbar__user-name{max-width:160px;text-overflow:ellipsis;white-space:nowrap;overflow:hidden;}\\n/* sc-component-id: NavWatchlistButton-sc-1b65w5j-0 */\\n.kaVyhF{-webkit-order:5;-ms-flex-order:5;order:5;display:none;} @media screen and (min-width:1024px){.kaVyhF{-webkit-order:6;-ms-flex-order:6;order:6;display:-webkit-inline-box;display:-webkit-inline-flex;display:-ms-inline-flexbox;display:inline-flex;}} .kaVyhF .imdb-header__watchlist-button-count{margin-left:0.5rem;background:var(--ipt-on-base-accent1-color);color:var(--ipt-on-accent1-color);padding:0 0.4rem;border-radius:10px;text-align:center;} .kaVyhF .ipc-button__text{display:-webkit-box;display:-webkit-flex;display:-ms-flexbox;display:flex;-webkit-align-items:center;-webkit-box-align:center;-ms-flex-align:center;align-items:center;}\\n/* sc-component-id: NavProFlyout-sc-1cjctnc-0 */\\n.hoAGyu{-webkit-order:4;-ms-flex-order:4;order:4;} @media screen and (min-width:1024px){.hoAGyu{-webkit-order:4;-ms-flex-order:4;order:4;}} .hoAGyu .navbar__imdbpro-menu-toggle__name{display:-webkit-box;display:-webkit-flex;display:-ms-flexbox;display:flex;} .hoAGyu .navbar__imdbpro-content .navbar__flyout--menu{background-image:url(//m.media-amazon.com/images/G/01/imdb/images/navbar/imdbpro_navbar_menu_bg-3083451252._V_.png);background-size:cover;padding-left:17px;padding-bottom:25px;padding-top:25px;color:white;font-weight:bold;} .hoAGyu .navbar__imdbpro-imdb-pro-ad{background-repeat:no-repeat;color:white;cursor:pointer;width:573px;overflow:hidden;border-radius:8px;left:initial;} .hoAGyu .navbar__imdbpro-imdb-pro-ad .imdb-pro-ad__content,.hoAGyu .navbar__imdbpro-imdb-pro-ad .imdb-pro-ad__image{display:inline-block;} .hoAGyu .navbar__imdbpro-imdb-pro-ad .imdb-pro-ad__title{color:white;line-height:1.3em;margin-bottom:10px;} .hoAGyu .navbar__imdbpro-imdb-pro-ad .imdb-pro-ad__line{cursor:inherit;} .hoAGyu .navbar__imdbpro-imdb-pro-ad .imdb-pro-ad__link{display:inline-block;-webkit-text-decoration:none;text-decoration:none;vertical-align:middle;} .hoAGyu .navbar__imdbpro-imdb-pro-ad .imdb-pro-ad__content,.hoAGyu .navbar__imdbpro-imdb-pro-ad .imdb-pro-ad__image{vertical-align:top;} .hoAGyu .navbar__imdbpro-imdb-pro-ad .imdb-pro-ad__content{font-family:\\'Arial\\';margin-left:15px;width:400px;} .hoAGyu .navbar__imdbpro-imdb-pro-ad .imdb-pro-ad__content .imdb-pro-ad__line{display:list-item;font-size:12px;list-style-position:inside;list-style-type:disc;margin:0px;padding:.1rem 0;} .hoAGyu .navbar__imdbpro-imdb-pro-ad .imdb-pro-ad__content .imdb-pro-ad__title{font-size:15px;} .hoAGyu .navbar__imdbpro-imdb-pro-ad .imdb-pro-new__button{margin-top:15px;} .hoAGyu .navbar__imdbpro-imdb-pro-ad .imdb-pro-new__button text{fill:#111111;font-size:13px;font-weight:normal;} .hoAGyu .navbar__imdbpro-imdb-pro-ad .imdb-pro-new__button svg:hover rect,.hoAGyu .navbar__imdbpro-imdb-pro-ad .imdb-pro-new__button text:hover rect{fill:#f7dd95;} .hoAGyu .navbar__imdbpro-content .sub_nav{background-color:#f2f2f2;border-bottom-left-radius:10px;border-bottom-right-radius:10px;box-shadow:0 2px 5px rgba(0,0,0,0.6);color:#999;height:325px;} .hoAGyu .navbar__imdbpro-content .sub_nav h5{color:#A58500;margin:20px 0 10px;position:relative;}\\n/* sc-component-id: LegacyLoginNode-sc-1oajtws-0 */\\n.iwkRT{display:none;}\\n/* sc-component-id: Root__Header-sc-7p0yen-0 */\\n.gwOpQB{padding:0.25rem;margin:0;position:relative;z-index:1000;min-height:3.5rem;display:-webkit-box;display:-webkit-flex;display:-ms-flexbox;display:flex;-webkit-align-items:center;-webkit-box-align:center;-ms-flex-align:center;align-items:center;width:100%;} .gwOpQB a{color:inherit;} .gwOpQB .navbar__inner{display:-webkit-box;display:-webkit-flex;display:-ms-flexbox;display:flex;-webkit-align-items:center;-webkit-box-align:center;-ms-flex-align:center;align-items:center;-webkit-box-pack:justify;-webkit-justify-content:space-between;-ms-flex-pack:justify;justify-content:space-between;width:100vw;margin:0;} @media screen and (min-width:600px){.gwOpQB .navbar__inner{padding:0 .75rem;}} @media screen and (min-width:1024px){.gwOpQB .navbar__inner{width:100%;margin:0 auto;}} .gwOpQB label{margin-bottom:0;}\\n/* sc-component-id: Root__Separator-sc-7p0yen-1 */\\n.cECatH{border:1px solid rgba(var(--ipt-on-baseAlt-rgb),.16);-webkit-order:5;-ms-flex-order:5;order:5;width:1px;height:2rem;margin:0 .5rem;} @media screen and (max-width:600px){.cECatH{display:none;-webkit-order:7;-ms-flex-order:7;order:7;}}</style>\\n    <div id=\"33582117-3423-44be-b1d8-02a8b51a0ae4\">\\n       <nav id=\"imdbHeader\" class=\"FHCtKBINjbqzCITNiccU0 imdb-header imdb-header--react Root__Header-sc-7p0yen-0 gwOpQB\"><div id=\"nblogin\" class=\"imdb-header__login-state-node\"></div><div class=\"ipc-page-content-container ipc-page-content-container--center navbar__inner\" role=\"presentation\"><label id=\"imdbHeader-navDrawerOpen\" class=\"ipc-icon-button jOOJQ0waXoTX6ZSthGtum HamburgerMenu-k5mvoq-0 erYeKd mobile ipc-icon-button--baseAlt ipc-icon-button--onBase\" title=\"Open Navigation Drawer\" role=\"button\" tabindex=\"0\" aria-label=\"Open Navigation Drawer\" aria-disabled=\"false\" for=\"imdbHeader-navDrawer\"><svg xmlns=\"http://www.w3.org/2000/svg\" width=\"24\" height=\"24\" class=\"ipc-icon ipc-icon--menu\" viewBox=\"0 0 24 24\" fill=\"currentColor\" role=\"presentation\"><path fill=\"none\" d=\"M0 0h24v24H0V0z\"></path><path d=\"M4 18h16c.55 0 1-.45 1-1s-.45-1-1-1H4c-.55 0-1 .45-1 1s.45 1 1 1zm0-5h16c.55 0 1-.45 1-1s-.45-1-1-1H4c-.55 0-1 .45-1 1s.45 1 1 1zM3 7c0 .55.45 1 1 1h16c.55 0 1-.45 1-1s-.45-1-1-1H4c-.55 0-1 .45-1 1z\"></path></svg></label><label id=\"imdbHeader-navDrawerOpen--desktop\" class=\"ipc-button ipc-button--single-padding ipc-button--default-height ipc-button--core-baseAlt ipc-button--theme-baseAlt ipc-button--on-textPrimary ipc-text-button jOOJQ0waXoTX6ZSthGtum HamburgerMenu-k5mvoq-0 erYeKd desktop\" role=\"button\" tabindex=\"0\" aria-label=\"Open Navigation Drawer\" aria-disabled=\"false\" for=\"imdbHeader-navDrawer\"><svg xmlns=\"http://www.w3.org/2000/svg\" width=\"24\" height=\"24\" class=\"ipc-icon ipc-icon--menu ipc-button__icon ipc-button__icon--pre\" viewBox=\"0 0 24 24\" fill=\"currentColor\" role=\"presentation\"><path fill=\"none\" d=\"M0 0h24v24H0V0z\"></path><path d=\"M4 18h16c.55 0 1-.45 1-1s-.45-1-1-1H4c-.55 0-1 .45-1 1s.45 1 1 1zm0-5h16c.55 0 1-.45 1-1s-.45-1-1-1H4c-.55 0-1 .45-1 1s.45 1 1 1zM3 7c0 .55.45 1 1 1h16c.55 0 1-.45 1-1s-.45-1-1-1H4c-.55 0-1 .45-1 1z\"></path></svg><div class=\"ipc-button__text\">Menu</div></label><input type=\"checkbox\" class=\"_146x-LuQBSfM9yosRvjSGF\" name=\"imdbHeader-navDrawer\" id=\"imdbHeader-navDrawer\" aria-hidden=\"true\" hidden=\"\"/><aside class=\"_14--k36qjjvLW3hUWHDPb_ _32i38MKalFVUkNAqPm88ln imdb-header__nav-drawer Drawer__StyledContainer-sc-1h7cs9y-0 bkeTFm\" role=\"presentation\" data-testid=\"drawer\"><div class=\"iRO9SK-8q3D8_287dhn28\" role=\"presentation\" aria-hidden=\"true\" data-testid=\"panel\"><div class=\"_3rHHDKyPLOjL8tGKHWMRza\" role=\"presentation\" data-testid=\"panel-header\"><a href=\"/?ref_=nv_home\"><svg class=\"ipc-logo WNY8DBPCS1ZbiSd7NoqdP\" xmlns=\"http://www.w3.org/2000/svg\" width=\"98\" height=\"56\" viewBox=\"0 0 64 32\" version=\"1.1\"><g fill=\"#F5C518\"><rect x=\"0\" y=\"0\" width=\"100%\" height=\"100%\" rx=\"4\"></rect></g><g transform=\"translate(8.000000, 7.000000)\" fill=\"#000000\" fill-rule=\"nonzero\"><polygon points=\"0 18 5 18 5 0 0 0\"></polygon><path d=\"M15.6725178,0 L14.5534833,8.40846934 L13.8582008,3.83502426 C13.65661,2.37009263 13.4632474,1.09175121 13.278113,0 L7,0 L7,18 L11.2416347,18 L11.2580911,6.11380679 L13.0436094,18 L16.0633571,18 L17.7583653,5.8517865 L17.7707076,18 L22,18 L22,0 L15.6725178,0 Z\"></path><path d=\"M24,18 L24,0 L31.8045586,0 C33.5693522,0 35,1.41994415 35,3.17660424 L35,14.8233958 C35,16.5777858 33.5716617,18 31.8045586,18 L24,18 Z M29.8322479,3.2395236 C29.6339219,3.13233348 29.2545158,3.08072342 28.7026524,3.08072342 L28.7026524,14.8914865 C29.4312846,14.8914865 29.8796736,14.7604764 30.0478195,14.4865461 C30.2159654,14.2165858 30.3021941,13.486105 30.3021941,12.2871637 L30.3021941,5.3078959 C30.3021941,4.49404499 30.272014,3.97397442 30.2159654,3.74371416 C30.1599168,3.5134539 30.0348852,3.34671372 29.8322479,3.2395236 Z\"></path><path d=\"M44.4299079,4.50685823 L44.749518,4.50685823 C46.5447098,4.50685823 48,5.91267586 48,7.64486762 L48,14.8619906 C48,16.5950653 46.5451816,18 44.749518,18 L44.4299079,18 C43.3314617,18 42.3602746,17.4736618 41.7718697,16.6682739 L41.4838962,17.7687785 L37,17.7687785 L37,0 L41.7843263,0 L41.7843263,5.78053556 C42.4024982,5.01015739 43.3551514,4.50685823 44.4299079,4.50685823 Z M43.4055679,13.2842155 L43.4055679,9.01907814 C43.4055679,8.31433946 43.3603268,7.85185468 43.2660746,7.63896485 C43.1718224,7.42607505 42.7955881,7.2893916 42.5316822,7.2893916 C42.267776,7.2893916 41.8607934,7.40047379 41.7816216,7.58767002 L41.7816216,9.01907814 L41.7816216,13.4207851 L41.7816216,14.8074788 C41.8721037,15.0130276 42.2602358,15.1274059 42.5316822,15.1274059 C42.8031285,15.1274059 43.1982131,15.0166981 43.281155,14.8074788 C43.3640968,14.5982595 43.4055679,14.0880581 43.4055679,13.2842155 Z\"></path></g></svg></a><label class=\"ipc-icon-button _2RzUkzyrsjx_BPIQ5uoj5s ipc-icon-button--baseAlt ipc-icon-button--onBase\" title=\"Close Navigation Drawer\" role=\"button\" tabindex=\"0\" aria-label=\"Close Navigation Drawer\" aria-disabled=\"false\" for=\"imdbHeader-navDrawer\"><svg xmlns=\"http://www.w3.org/2000/svg\" width=\"24\" height=\"24\" class=\"ipc-icon ipc-icon--clear\" viewBox=\"0 0 24 24\" fill=\"currentColor\" role=\"presentation\"><path fill=\"none\" d=\"M0 0h24v24H0V0z\"></path><path d=\"M18.3 5.71a.996.996 0 0 0-1.41 0L12 10.59 7.11 5.7A.996.996 0 1 0 5.7 7.11L10.59 12 5.7 16.89a.996.996 0 1 0 1.41 1.41L12 13.41l4.89 4.89a.996.996 0 1 0 1.41-1.41L13.41 12l4.89-4.89c.38-.38.38-1.02 0-1.4z\"></path></svg></label></div><div class=\"_3bRJYEaOz1BKUQYqW6yb29\" role=\"presentation\" data-testid=\"panel-content\"><div role=\"presentation\" class=\"_3wpok4xkiX-9E61ruFL_RA NavLinkCategoryList__StyledContainer-sc-13vymju-0 diDBNJ\"><li role=\"separator\" class=\"ipc-list-divider _1cBEhLbHn9YeCkfPvo9USU\"></li><div class=\"_2BpsDlqEMlo9unX-C84Nji NavLinkCategory__StyledContainer-sc-1zvm8t-0 eWjUDO\" data-testid=\"nav-link-category\" role=\"presentation\"><input type=\"radio\" class=\"s6lVaL5MYgQM-fYJ9KWp7\" name=\"nav-categories-list\" id=\"nav-link-categories-mov\" tabindex=\"-1\" data-category-id=\"mov\" hidden=\"\" aria-hidden=\"true\"/><span class=\"_2Q0QZxgQqVpU0nQBqv1xlY\"><label role=\"button\" aria-label=\"Expand Movies Nav Links\" class=\"_2vjThdvAXrHx6CofJjm03w\" tabindex=\"0\" for=\"nav-link-categories-mov\" data-testid=\"category-expando\"><span class=\"_1tLXJMH37mh4UmvfVF8swF\"><svg xmlns=\"http://www.w3.org/2000/svg\" width=\"24\" height=\"24\" class=\"ipc-icon ipc-icon--movie\" viewBox=\"0 0 24 24\" fill=\"currentColor\" role=\"presentation\"><path fill=\"none\" d=\"M0 0h24v24H0V0z\"></path><path d=\"M18 4v1h-2V4c0-.55-.45-1-1-1H9c-.55 0-1 .45-1 1v1H6V4c0-.55-.45-1-1-1s-1 .45-1 1v16c0 .55.45 1 1 1s1-.45 1-1v-1h2v1c0 .55.45 1 1 1h6c.55 0 1-.45 1-1v-1h2v1c0 .55.45 1 1 1s1-.45 1-1V4c0-.55-.45-1-1-1s-1 .45-1 1zM8 17H6v-2h2v2zm0-4H6v-2h2v2zm0-4H6V7h2v2zm10 8h-2v-2h2v2zm0-4h-2v-2h2v2zm0-4h-2V7h2v2z\"></path></svg></span><span class=\"_2aunAih-uMfbdgTUIjnQMd\">Movies</span><span class=\"_2BeDp2pKthfMnxArm4lS0T\"><svg xmlns=\"http://www.w3.org/2000/svg\" width=\"24\" height=\"24\" class=\"ipc-icon ipc-icon--chevron-right\" viewBox=\"0 0 24 24\" fill=\"currentColor\" role=\"presentation\"><path fill=\"none\" d=\"M0 0h24v24H0V0z\"></path><path d=\"M9.29 6.71a.996.996 0 0 0 0 1.41L13.17 12l-3.88 3.88a.996.996 0 1 0 1.41 1.41l4.59-4.59a.996.996 0 0 0 0-1.41L10.7 6.7c-.38-.38-1.02-.38-1.41.01z\"></path></svg></span></label><div class=\"_1S9IOoNAVMPB2VikET3Lr2\" aria-hidden=\"true\" aria-expanded=\"false\" data-testid=\"list-container\"><div class=\"_1IQgIe3JwGh2arzItRgYN3\" role=\"presentation\"><ul class=\"ipc-list _1gB7giE3RrFWXvlzwjWk-q ipc-list--baseAlt\" role=\"menu\" aria-orientation=\"vertical\"><a role=\"menuitem\" class=\"ipc-list__item nav-link NavLink-sc-19k0khm-0 LrpYY ipc-list__item--indent-one\" href=\"https://www.imdb.com/calendar/?ref_=nv_mv_cal\" tabindex=\"-1\" aria-disabled=\"false\"><span class=\"ipc-list-item__text\" role=\"presentation\">Release Calendar</span></a><a role=\"menuitem\" class=\"ipc-list__item nav-link nav-link--hideXS nav-link--hideS nav-link--hideM NavLink-sc-19k0khm-0 LrpYY ipc-list__item--indent-one\" href=\"https://www.imdb.com/list/ls016522954/?ref_=nv_tvv_dvd\" tabindex=\"-1\" aria-disabled=\"false\"><span class=\"ipc-list-item__text\" role=\"presentation\">DVD &amp; Blu-ray Releases</span></a><a role=\"menuitem\" class=\"ipc-list__item nav-link NavLink-sc-19k0khm-0 LrpYY ipc-list__item--indent-one\" href=\"/chart/top/?ref_=nv_mv_250\" tabindex=\"-1\" aria-disabled=\"false\"><span class=\"ipc-list-item__text\" role=\"presentation\">Top Rated Movies</span></a><a role=\"menuitem\" class=\"ipc-list__item nav-link NavLink-sc-19k0khm-0 LrpYY ipc-list__item--indent-one\" href=\"/chart/moviemeter/?ref_=nv_mv_mpm\" tabindex=\"-1\" aria-disabled=\"false\"><span class=\"ipc-list-item__text\" role=\"presentation\">Most Popular Movies</span></a><a role=\"menuitem\" class=\"ipc-list__item nav-link nav-link--hideXS nav-link--hideS nav-link--hideM NavLink-sc-19k0khm-0 LrpYY ipc-list__item--indent-one\" href=\"https://www.imdb.com/feature/genre/?ref_=nv_ch_gr\" tabindex=\"-1\" aria-disabled=\"false\"><span class=\"ipc-list-item__text\" role=\"presentation\">Browse Movies by Genre</span></a><a role=\"menuitem\" class=\"ipc-list__item nav-link NavLink-sc-19k0khm-0 LrpYY ipc-list__item--indent-one\" href=\"/chart/boxoffice/?ref_=nv_ch_cht\" tabindex=\"-1\" aria-disabled=\"false\"><span class=\"ipc-list-item__text\" role=\"presentation\">Top Box Office</span></a><a role=\"menuitem\" class=\"ipc-list__item nav-link nav-link--hideL nav-link--hideXL NavLink-sc-19k0khm-0 LrpYY ipc-list__item--indent-one\" href=\"https://m.imdb.com/showtimes/movie/?ref_=nv_mv_sh\" tabindex=\"-1\" aria-disabled=\"false\"><span class=\"ipc-list-item__text\" role=\"presentation\">Showtimes &amp; Tickets</span></a><a role=\"menuitem\" class=\"ipc-list__item nav-link nav-link--hideXS nav-link--hideS nav-link--hideM NavLink-sc-19k0khm-0 LrpYY ipc-list__item--indent-one\" href=\"https://www.imdb.com/showtimes/?ref_=nv_mv_sh\" tabindex=\"-1\" aria-disabled=\"false\"><span class=\"ipc-list-item__text\" role=\"presentation\">Showtimes &amp; Tickets</span></a><a role=\"menuitem\" class=\"ipc-list__item nav-link nav-link--hideXS nav-link--hideS nav-link--hideM NavLink-sc-19k0khm-0 LrpYY ipc-list__item--indent-one\" href=\"https://www.imdb.com/movies-in-theaters/?ref_=nv_mv_inth\" tabindex=\"-1\" aria-disabled=\"false\"><span class=\"ipc-list-item__text\" role=\"presentation\">In Theaters</span></a><a role=\"menuitem\" class=\"ipc-list__item nav-link nav-link--hideL nav-link--hideXL NavLink-sc-19k0khm-0 LrpYY ipc-list__item--indent-one\" href=\"https://m.imdb.com/coming-soon/?ref_=nv_mv_cs\" tabindex=\"-1\" aria-disabled=\"false\"><span class=\"ipc-list-item__text\" role=\"presentation\">Coming Soon</span></a><a role=\"menuitem\" class=\"ipc-list__item nav-link nav-link--hideXS nav-link--hideS nav-link--hideM NavLink-sc-19k0khm-0 LrpYY ipc-list__item--indent-one\" href=\"https://www.imdb.com/coming-soon/?ref_=nv_mv_cs\" tabindex=\"-1\" aria-disabled=\"false\"><span class=\"ipc-list-item__text\" role=\"presentation\">Coming Soon</span></a><a role=\"menuitem\" class=\"ipc-list__item nav-link NavLink-sc-19k0khm-0 LrpYY ipc-list__item--indent-one\" href=\"/news/movie/?ref_=nv_nw_mv\" tabindex=\"-1\" aria-disabled=\"false\"><span class=\"ipc-list-item__text\" role=\"presentation\">Movie News</span></a><a role=\"menuitem\" class=\"ipc-list__item nav-link NavLink-sc-19k0khm-0 LrpYY ipc-list__item--indent-one\" href=\"/india/toprated/?ref_=nv_mv_in\" tabindex=\"-1\" aria-disabled=\"false\"><span class=\"ipc-list-item__text\" role=\"presentation\">India Movie Spotlight</span></a></ul></div></div></span></div><div data-testid=\"grouped-link-category\" class=\"NavDynamicCategoryList__CategoryGroupContainer-f186ms-0 dzfmPm\"><div class=\"_2BpsDlqEMlo9unX-C84Nji NavLinkCategory__StyledContainer-sc-1zvm8t-0 eWjUDO\" data-testid=\"nav-link-category\" role=\"presentation\"><input type=\"radio\" class=\"s6lVaL5MYgQM-fYJ9KWp7\" name=\"nav-categories-list\" id=\"nav-link-categories-tvshows\" tabindex=\"-1\" data-category-id=\"tvshows\" hidden=\"\" aria-hidden=\"true\"/><span class=\"_2Q0QZxgQqVpU0nQBqv1xlY\"><label role=\"button\" aria-label=\"Expand TV Shows Nav Links\" class=\"_2vjThdvAXrHx6CofJjm03w\" tabindex=\"0\" for=\"nav-link-categories-tvshows\" data-testid=\"category-expando\"><span class=\"_1tLXJMH37mh4UmvfVF8swF\"><svg xmlns=\"http://www.w3.org/2000/svg\" width=\"24\" height=\"24\" class=\"ipc-icon ipc-icon--television\" viewBox=\"0 0 24 24\" fill=\"currentColor\" role=\"presentation\"><path fill=\"none\" d=\"M0 0h24v24H0V0z\"></path><path d=\"M21 3H3c-1.1 0-2 .9-2 2v12c0 1.1.9 2 2 2h5v1c0 .55.45 1 1 1h6c.55 0 1-.45 1-1v-1h5c1.1 0 1.99-.9 1.99-2L23 5a2 2 0 0 0-2-2zm-1 14H4c-.55 0-1-.45-1-1V6c0-.55.45-1 1-1h16c.55 0 1 .45 1 1v10c0 .55-.45 1-1 1z\"></path></svg></span><span class=\"_2aunAih-uMfbdgTUIjnQMd\">TV Shows</span><span class=\"_2BeDp2pKthfMnxArm4lS0T\"><svg xmlns=\"http://www.w3.org/2000/svg\" width=\"24\" height=\"24\" class=\"ipc-icon ipc-icon--chevron-right\" viewBox=\"0 0 24 24\" fill=\"currentColor\" role=\"presentation\"><path fill=\"none\" d=\"M0 0h24v24H0V0z\"></path><path d=\"M9.29 6.71a.996.996 0 0 0 0 1.41L13.17 12l-3.88 3.88a.996.996 0 1 0 1.41 1.41l4.59-4.59a.996.996 0 0 0 0-1.41L10.7 6.7c-.38-.38-1.02-.38-1.41.01z\"></path></svg></span></label><div class=\"_1S9IOoNAVMPB2VikET3Lr2\" aria-hidden=\"true\" aria-expanded=\"false\" data-testid=\"list-container\"><div class=\"_1IQgIe3JwGh2arzItRgYN3\" role=\"presentation\"><ul class=\"ipc-list _1gB7giE3RrFWXvlzwjWk-q ipc-list--baseAlt\" role=\"menu\" aria-orientation=\"vertical\"><a role=\"menuitem\" class=\"ipc-list__item nav-link nav-link--hideXS nav-link--hideS nav-link--hideM NavLink-sc-19k0khm-0 LrpYY ipc-list__item--indent-one\" href=\"https://www.imdb.com/whats-on-tv/?ref_=nv_tv_ontv\" tabindex=\"-1\" aria-disabled=\"false\"><span class=\"ipc-list-item__text\" role=\"presentation\">What&#x27;s on TV &amp; Streaming</span></a><a role=\"menuitem\" class=\"ipc-list__item nav-link nav-link--hideL nav-link--hideXL NavLink-sc-19k0khm-0 LrpYY ipc-list__item--indent-one\" href=\"https://m.imdb.com/whats-on-tv/?ref_=nv_tv_ontv\" tabindex=\"-1\" aria-disabled=\"false\"><span class=\"ipc-list-item__text\" role=\"presentation\">What&#x27;s on TV &amp; Streaming</span></a><a role=\"menuitem\" class=\"ipc-list__item nav-link NavLink-sc-19k0khm-0 LrpYY ipc-list__item--indent-one\" href=\"/chart/toptv/?ref_=nv_tvv_250\" tabindex=\"-1\" aria-disabled=\"false\"><span class=\"ipc-list-item__text\" role=\"presentation\">Top Rated Shows</span></a><a role=\"menuitem\" class=\"ipc-list__item nav-link NavLink-sc-19k0khm-0 LrpYY ipc-list__item--indent-one\" href=\"/chart/tvmeter/?ref_=nv_tvv_mptv\" tabindex=\"-1\" aria-disabled=\"false\"><span class=\"ipc-list-item__text\" role=\"presentation\">Most Popular Shows</span></a><a role=\"menuitem\" class=\"ipc-list__item nav-link nav-link--hideXS nav-link--hideS nav-link--hideM NavLink-sc-19k0khm-0 LrpYY ipc-list__item--indent-one\" href=\"https://www.imdb.com/feature/genre/?ref_=nv_tv_gr\" tabindex=\"-1\" aria-disabled=\"false\"><span class=\"ipc-list-item__text\" role=\"presentation\">Browse TV Shows by Genre</span></a><a role=\"menuitem\" class=\"ipc-list__item nav-link NavLink-sc-19k0khm-0 LrpYY ipc-list__item--indent-one\" href=\"/news/tv/?ref_=nv_nw_tv\" tabindex=\"-1\" aria-disabled=\"false\"><span class=\"ipc-list-item__text\" role=\"presentation\">TV News</span></a><a role=\"menuitem\" class=\"ipc-list__item nav-link NavLink-sc-19k0khm-0 LrpYY ipc-list__item--indent-one\" href=\"/india/tv?ref_=nv_tv_in\" tabindex=\"-1\" aria-disabled=\"false\"><span class=\"ipc-list-item__text\" role=\"presentation\">India TV Spotlight</span></a></ul></div></div></span></div><div class=\"_2BpsDlqEMlo9unX-C84Nji NavLinkCategory__StyledContainer-sc-1zvm8t-0 eWjUDO\" data-testid=\"nav-link-category\" role=\"presentation\"><input type=\"radio\" class=\"s6lVaL5MYgQM-fYJ9KWp7\" name=\"nav-categories-list\" id=\"nav-link-categories-video\" tabindex=\"-1\" data-category-id=\"video\" hidden=\"\" aria-hidden=\"true\"/><span class=\"_2Q0QZxgQqVpU0nQBqv1xlY\"><label role=\"button\" aria-label=\"Expand Watch Nav Links\" class=\"_2vjThdvAXrHx6CofJjm03w\" tabindex=\"0\" for=\"nav-link-categories-video\" data-testid=\"category-expando\"><span class=\"_1tLXJMH37mh4UmvfVF8swF\"><svg xmlns=\"http://www.w3.org/2000/svg\" width=\"24\" height=\"24\" class=\"ipc-icon ipc-icon--video-library\" viewBox=\"0 0 24 24\" fill=\"currentColor\" role=\"presentation\"><path d=\"M3 6c-.55 0-1 .45-1 1v13c0 1.1.9 2 2 2h13c.55 0 1-.45 1-1s-.45-1-1-1H5c-.55 0-1-.45-1-1V7c0-.55-.45-1-1-1zm17-4H8c-1.1 0-2 .9-2 2v12c0 1.1.9 2 2 2h12c1.1 0 2-.9 2-2V4c0-1.1-.9-2-2-2zm-8 12.5v-9l5.47 4.1c.27.2.27.6 0 .8L12 14.5z\"></path></svg></span><span class=\"_2aunAih-uMfbdgTUIjnQMd\">Watch</span><span class=\"_2BeDp2pKthfMnxArm4lS0T\"><svg xmlns=\"http://www.w3.org/2000/svg\" width=\"24\" height=\"24\" class=\"ipc-icon ipc-icon--chevron-right\" viewBox=\"0 0 24 24\" fill=\"currentColor\" role=\"presentation\"><path fill=\"none\" d=\"M0 0h24v24H0V0z\"></path><path d=\"M9.29 6.71a.996.996 0 0 0 0 1.41L13.17 12l-3.88 3.88a.996.996 0 1 0 1.41 1.41l4.59-4.59a.996.996 0 0 0 0-1.41L10.7 6.7c-.38-.38-1.02-.38-1.41.01z\"></path></svg></span></label><div class=\"_1S9IOoNAVMPB2VikET3Lr2\" aria-hidden=\"true\" aria-expanded=\"false\" data-testid=\"list-container\"><div class=\"_1IQgIe3JwGh2arzItRgYN3\" role=\"presentation\"><ul class=\"ipc-list _1gB7giE3RrFWXvlzwjWk-q ipc-list--baseAlt\" role=\"menu\" aria-orientation=\"vertical\"><a role=\"menuitem\" class=\"ipc-list__item nav-link NavLink-sc-19k0khm-0 LrpYY ipc-list__item--indent-one\" href=\"/what-to-watch/?ref_=nv_watch\" tabindex=\"-1\" aria-disabled=\"false\"><span class=\"ipc-list-item__text\" role=\"presentation\">What to Watch</span></a><a role=\"menuitem\" class=\"ipc-list__item nav-link NavLink-sc-19k0khm-0 LrpYY ipc-list__item--indent-one\" href=\"/trailers/?ref_=nv_mv_tr\" tabindex=\"-1\" aria-disabled=\"false\"><span class=\"ipc-list-item__text\" role=\"presentation\">Latest Trailers</span></a><a role=\"menuitem\" class=\"ipc-list__item nav-link NavLink-sc-19k0khm-0 LrpYY ipc-list__item--indent-one\" href=\"/originals/?ref_=nv_sf_ori\" tabindex=\"-1\" aria-disabled=\"false\"><span class=\"ipc-list-item__text\" role=\"presentation\">IMDb Originals</span></a><a role=\"menuitem\" class=\"ipc-list__item nav-link NavLink-sc-19k0khm-0 LrpYY ipc-list__item--indent-one\" href=\"/imdbpicks/?ref_=nv_pi\" tabindex=\"-1\" aria-disabled=\"false\"><span class=\"ipc-list-item__text\" role=\"presentation\">IMDb Picks</span></a><a role=\"menuitem\" class=\"ipc-list__item nav-link NavLink-sc-19k0khm-0 LrpYY ipc-list__item--indent-one\" href=\"/podcasts/?ref_=nv_pod\" tabindex=\"-1\" aria-disabled=\"false\"><span class=\"ipc-list-item__text\" role=\"presentation\">IMDb Podcasts</span></a></ul></div></div></span></div></div><div class=\"_2BpsDlqEMlo9unX-C84Nji NavLinkCategory__StyledContainer-sc-1zvm8t-0 eWjUDO\" data-testid=\"nav-link-category\" role=\"presentation\"><input type=\"radio\" class=\"s6lVaL5MYgQM-fYJ9KWp7\" name=\"nav-categories-list\" id=\"nav-link-categories-awards\" tabindex=\"-1\" data-category-id=\"awards\" hidden=\"\" aria-hidden=\"true\"/><span class=\"_2Q0QZxgQqVpU0nQBqv1xlY\"><label role=\"button\" aria-label=\"Expand Awards &amp; Events Nav Links\" class=\"_2vjThdvAXrHx6CofJjm03w\" tabindex=\"0\" for=\"nav-link-categories-awards\" data-testid=\"category-expando\"><span class=\"_1tLXJMH37mh4UmvfVF8swF\"><svg xmlns=\"http://www.w3.org/2000/svg\" width=\"24\" height=\"24\" class=\"ipc-icon ipc-icon--star-circle-filled\" viewBox=\"0 0 24 24\" fill=\"currentColor\" role=\"presentation\"><path fill=\"none\" d=\"M0 0h24v24H0V0z\"></path><path d=\"M11.99 2C6.47 2 2 6.48 2 12s4.47 10 9.99 10C17.52 22 22 17.52 22 12S17.52 2 11.99 2zm3.23 15.39L12 15.45l-3.22 1.94a.502.502 0 0 1-.75-.54l.85-3.66-2.83-2.45a.505.505 0 0 1 .29-.88l3.74-.32 1.46-3.45c.17-.41.75-.41.92 0l1.46 3.44 3.74.32a.5.5 0 0 1 .28.88l-2.83 2.45.85 3.67c.1.43-.36.77-.74.54z\"></path></svg></span><span class=\"_2aunAih-uMfbdgTUIjnQMd\">Awards &amp; Events</span><span class=\"_2BeDp2pKthfMnxArm4lS0T\"><svg xmlns=\"http://www.w3.org/2000/svg\" width=\"24\" height=\"24\" class=\"ipc-icon ipc-icon--chevron-right\" viewBox=\"0 0 24 24\" fill=\"currentColor\" role=\"presentation\"><path fill=\"none\" d=\"M0 0h24v24H0V0z\"></path><path d=\"M9.29 6.71a.996.996 0 0 0 0 1.41L13.17 12l-3.88 3.88a.996.996 0 1 0 1.41 1.41l4.59-4.59a.996.996 0 0 0 0-1.41L10.7 6.7c-.38-.38-1.02-.38-1.41.01z\"></path></svg></span></label><div class=\"_1S9IOoNAVMPB2VikET3Lr2\" aria-hidden=\"true\" aria-expanded=\"false\" data-testid=\"list-container\"><div class=\"_1IQgIe3JwGh2arzItRgYN3\" role=\"presentation\"><ul class=\"ipc-list _1gB7giE3RrFWXvlzwjWk-q ipc-list--baseAlt\" role=\"menu\" aria-orientation=\"vertical\"><a role=\"menuitem\" class=\"ipc-list__item nav-link NavLink-sc-19k0khm-0 LrpYY ipc-list__item--indent-one\" href=\"/oscars/?ref_=nv_ev_acd\" tabindex=\"-1\" aria-disabled=\"false\"><span class=\"ipc-list-item__text\" role=\"presentation\">Oscars</span></a><a role=\"menuitem\" class=\"ipc-list__item nav-link nav-link--hideL nav-link--hideXL NavLink-sc-19k0khm-0 LrpYY ipc-list__item--indent-one\" href=\"https://m.imdb.com/feature/bestpicture/?ref_=nv_ch_osc\" tabindex=\"-1\" aria-disabled=\"false\"><span class=\"ipc-list-item__text\" role=\"presentation\">Best Picture Winners</span></a><a role=\"menuitem\" class=\"ipc-list__item nav-link nav-link--hideXS nav-link--hideS nav-link--hideM NavLink-sc-19k0khm-0 LrpYY ipc-list__item--indent-one\" href=\"https://www.imdb.com/search/title/?count=100&amp;groups=oscar_best_picture_winners&amp;sort=year%2Cdesc&amp;ref_=nv_ch_osc\" tabindex=\"-1\" aria-disabled=\"false\"><span class=\"ipc-list-item__text\" role=\"presentation\">Best Picture Winners</span></a><a role=\"menuitem\" class=\"ipc-list__item nav-link NavLink-sc-19k0khm-0 LrpYY ipc-list__item--indent-one\" href=\"/golden-globes/?ref_=nv_ev_gg\" tabindex=\"-1\" aria-disabled=\"false\"><span class=\"ipc-list-item__text\" role=\"presentation\">Golden Globes</span></a><a role=\"menuitem\" class=\"ipc-list__item nav-link NavLink-sc-19k0khm-0 LrpYY ipc-list__item--indent-one\" href=\"/emmys/?ref_=nv_ev_rte\" tabindex=\"-1\" aria-disabled=\"false\"><span class=\"ipc-list-item__text\" role=\"presentation\">Emmys</span></a><a role=\"menuitem\" class=\"ipc-list__item nav-link NavLink-sc-19k0khm-0 LrpYY ipc-list__item--indent-one\" href=\"/starmeterawards/?ref_=nv_ev_sma\" tabindex=\"-1\" aria-disabled=\"false\"><span class=\"ipc-list-item__text\" role=\"presentation\">STARmeter Awards</span></a><a role=\"menuitem\" class=\"ipc-list__item nav-link NavLink-sc-19k0khm-0 LrpYY ipc-list__item--indent-one\" href=\"/comic-con/?ref_=nv_ev_comic\" tabindex=\"-1\" aria-disabled=\"false\"><span class=\"ipc-list-item__text\" role=\"presentation\">San Diego Comic-Con</span></a><a role=\"menuitem\" class=\"ipc-list__item nav-link NavLink-sc-19k0khm-0 LrpYY ipc-list__item--indent-one\" href=\"/nycc/?ref_=nv_ev_nycc\" tabindex=\"-1\" aria-disabled=\"false\"><span class=\"ipc-list-item__text\" role=\"presentation\">New York Comic-Con</span></a><a role=\"menuitem\" class=\"ipc-list__item nav-link NavLink-sc-19k0khm-0 LrpYY ipc-list__item--indent-one\" href=\"/sundance/?ref_=nv_ev_sun\" tabindex=\"-1\" aria-disabled=\"false\"><span class=\"ipc-list-item__text\" role=\"presentation\">Sundance Film Festival</span></a><a role=\"menuitem\" class=\"ipc-list__item nav-link NavLink-sc-19k0khm-0 LrpYY ipc-list__item--indent-one\" href=\"/toronto/?ref_=nv_ev_tor\" tabindex=\"-1\" aria-disabled=\"false\"><span class=\"ipc-list-item__text\" role=\"presentation\">Toronto Int&#x27;l Film Festival</span></a><a role=\"menuitem\" class=\"ipc-list__item nav-link NavLink-sc-19k0khm-0 LrpYY ipc-list__item--indent-one\" href=\"/awards-central/?ref_=nv_ev_awrd\" tabindex=\"-1\" aria-disabled=\"false\"><span class=\"ipc-list-item__text\" role=\"presentation\">Awards Central</span></a><a role=\"menuitem\" class=\"ipc-list__item nav-link NavLink-sc-19k0khm-0 LrpYY ipc-list__item--indent-one\" href=\"/festival-central/?ref_=nv_ev_fc\" tabindex=\"-1\" aria-disabled=\"false\"><span class=\"ipc-list-item__text\" role=\"presentation\">Festival Central</span></a><a role=\"menuitem\" class=\"ipc-list__item nav-link NavLink-sc-19k0khm-0 LrpYY ipc-list__item--indent-one\" href=\"https://www.imdb.com/event/all/?ref_=nv_ev_all\" tabindex=\"-1\" aria-disabled=\"false\"><span class=\"ipc-list-item__text\" role=\"presentation\">All Events</span></a></ul></div></div></span></div><div class=\"_2BpsDlqEMlo9unX-C84Nji noMarginItem NavLinkCategory__StyledContainer-sc-1zvm8t-0 eWjUDO\" data-testid=\"nav-link-category\" role=\"presentation\"><input type=\"radio\" class=\"s6lVaL5MYgQM-fYJ9KWp7\" name=\"nav-categories-list\" id=\"nav-link-categories-celebs\" tabindex=\"-1\" data-category-id=\"celebs\" hidden=\"\" aria-hidden=\"true\"/><span class=\"_2Q0QZxgQqVpU0nQBqv1xlY\"><label role=\"button\" aria-label=\"Expand Celebs Nav Links\" class=\"_2vjThdvAXrHx6CofJjm03w\" tabindex=\"0\" for=\"nav-link-categories-celebs\" data-testid=\"category-expando\"><span class=\"_1tLXJMH37mh4UmvfVF8swF\"><svg xmlns=\"http://www.w3.org/2000/svg\" width=\"24\" height=\"24\" class=\"ipc-icon ipc-icon--people\" viewBox=\"0 0 24 24\" fill=\"currentColor\" role=\"presentation\"><path fill=\"none\" d=\"M0 0h24v24H0V0z\"></path><path d=\"M16 11c1.66 0 2.99-1.34 2.99-3S17.66 5 16 5s-3 1.34-3 3 1.34 3 3 3zm-8 0c1.66 0 2.99-1.34 2.99-3S9.66 5 8 5 5 6.34 5 8s1.34 3 3 3zm0 2c-2.33 0-7 1.17-7 3.5V18c0 .55.45 1 1 1h12c.55 0 1-.45 1-1v-1.5c0-2.33-4.67-3.5-7-3.5zm8 0c-.29 0-.62.02-.97.05.02.01.03.03.04.04 1.14.83 1.93 1.94 1.93 3.41V18c0 .35-.07.69-.18 1H22c.55 0 1-.45 1-1v-1.5c0-2.33-4.67-3.5-7-3.5z\"></path></svg></span><span class=\"_2aunAih-uMfbdgTUIjnQMd\">Celebs</span><span class=\"_2BeDp2pKthfMnxArm4lS0T\"><svg xmlns=\"http://www.w3.org/2000/svg\" width=\"24\" height=\"24\" class=\"ipc-icon ipc-icon--chevron-right\" viewBox=\"0 0 24 24\" fill=\"currentColor\" role=\"presentation\"><path fill=\"none\" d=\"M0 0h24v24H0V0z\"></path><path d=\"M9.29 6.71a.996.996 0 0 0 0 1.41L13.17 12l-3.88 3.88a.996.996 0 1 0 1.41 1.41l4.59-4.59a.996.996 0 0 0 0-1.41L10.7 6.7c-.38-.38-1.02-.38-1.41.01z\"></path></svg></span></label><div class=\"_1S9IOoNAVMPB2VikET3Lr2\" aria-hidden=\"true\" aria-expanded=\"false\" data-testid=\"list-container\"><div class=\"_1IQgIe3JwGh2arzItRgYN3\" role=\"presentation\"><ul class=\"ipc-list _1gB7giE3RrFWXvlzwjWk-q ipc-list--baseAlt\" role=\"menu\" aria-orientation=\"vertical\"><a role=\"menuitem\" class=\"ipc-list__item nav-link NavLink-sc-19k0khm-0 LrpYY ipc-list__item--indent-one\" href=\"/feature/bornondate/?ref_=nv_cel_brn\" tabindex=\"-1\" aria-disabled=\"false\"><span class=\"ipc-list-item__text\" role=\"presentation\">Born Today</span></a><a role=\"menuitem\" class=\"ipc-list__item nav-link nav-link--hideL nav-link--hideXL NavLink-sc-19k0khm-0 LrpYY ipc-list__item--indent-one\" href=\"https://m.imdb.com/chart/starmeter/?ref_=nv_cel_brn\" tabindex=\"-1\" aria-disabled=\"false\"><span class=\"ipc-list-item__text\" role=\"presentation\">Most Popular Celebs</span></a><a role=\"menuitem\" class=\"ipc-list__item nav-link nav-link--hideXS nav-link--hideS nav-link--hideM NavLink-sc-19k0khm-0 LrpYY ipc-list__item--indent-one\" href=\"https://www.imdb.com/search/name/?gender=male%2Cfemale&amp;ref_=nv_cel_m\" tabindex=\"-1\" aria-disabled=\"false\"><span class=\"ipc-list-item__text\" role=\"presentation\">Most Popular Celebs</span></a><a role=\"menuitem\" class=\"ipc-list__item nav-link NavLink-sc-19k0khm-0 LrpYY ipc-list__item--indent-one\" href=\"/news/celebrity/?ref_=nv_cel_nw\" tabindex=\"-1\" aria-disabled=\"false\"><span class=\"ipc-list-item__text\" role=\"presentation\">Celebrity News</span></a></ul></div></div></span></div><div data-testid=\"nav-link-category\" class=\"NavDynamicCategoryList__EmptyContainer-f186ms-1 dFDExU\"></div><div class=\"_2BpsDlqEMlo9unX-C84Nji noMarginItem NavLinkCategory__StyledContainer-sc-1zvm8t-0 eWjUDO\" data-testid=\"nav-link-category\" role=\"presentation\"><input type=\"radio\" class=\"s6lVaL5MYgQM-fYJ9KWp7\" name=\"nav-categories-list\" id=\"nav-link-categories-comm\" tabindex=\"-1\" data-category-id=\"comm\" hidden=\"\" aria-hidden=\"true\"/><span class=\"_2Q0QZxgQqVpU0nQBqv1xlY\"><label role=\"button\" aria-label=\"Expand Community Nav Links\" class=\"_2vjThdvAXrHx6CofJjm03w\" tabindex=\"0\" for=\"nav-link-categories-comm\" data-testid=\"category-expando\"><span class=\"_1tLXJMH37mh4UmvfVF8swF\"><svg xmlns=\"http://www.w3.org/2000/svg\" width=\"24\" height=\"24\" class=\"ipc-icon ipc-icon--earth\" viewBox=\"0 0 24 24\" fill=\"currentColor\" role=\"presentation\"><path fill=\"none\" d=\"M0 0h24v24H0V0z\"></path><path d=\"M12 2C6.48 2 2 6.48 2 12s4.48 10 10 10 10-4.48 10-10S17.52 2 12 2zm-1 17.93c-3.95-.49-7-3.85-7-7.93 0-.62.08-1.21.21-1.79L9 15v1c0 1.1.9 2 2 2v1.93zm6.9-2.54c-.26-.81-1-1.39-1.9-1.39h-1v-3c0-.55-.45-1-1-1H8v-2h2c.55 0 1-.45 1-1V7h2c1.1 0 2-.9 2-2v-.41c2.93 1.19 5 4.06 5 7.41 0 2.08-.8 3.97-2.1 5.39z\"></path></svg></span><span class=\"_2aunAih-uMfbdgTUIjnQMd\">Community</span><span class=\"_2BeDp2pKthfMnxArm4lS0T\"><svg xmlns=\"http://www.w3.org/2000/svg\" width=\"24\" height=\"24\" class=\"ipc-icon ipc-icon--chevron-right\" viewBox=\"0 0 24 24\" fill=\"currentColor\" role=\"presentation\"><path fill=\"none\" d=\"M0 0h24v24H0V0z\"></path><path d=\"M9.29 6.71a.996.996 0 0 0 0 1.41L13.17 12l-3.88 3.88a.996.996 0 1 0 1.41 1.41l4.59-4.59a.996.996 0 0 0 0-1.41L10.7 6.7c-.38-.38-1.02-.38-1.41.01z\"></path></svg></span></label><div class=\"_1S9IOoNAVMPB2VikET3Lr2\" aria-hidden=\"true\" aria-expanded=\"false\" data-testid=\"list-container\"><div class=\"_1IQgIe3JwGh2arzItRgYN3\" role=\"presentation\"><ul class=\"ipc-list _1gB7giE3RrFWXvlzwjWk-q ipc-list--baseAlt\" role=\"menu\" aria-orientation=\"vertical\"><a role=\"menuitem\" class=\"ipc-list__item nav-link NavLink-sc-19k0khm-0 LrpYY ipc-list__item--indent-one\" href=\"https://help.imdb.com/imdb?ref_=cons_nb_hlp\" tabindex=\"-1\" aria-disabled=\"false\"><span class=\"ipc-list-item__text\" role=\"presentation\">Help Center</span></a><a role=\"menuitem\" class=\"ipc-list__item nav-link NavLink-sc-19k0khm-0 LrpYY ipc-list__item--indent-one\" href=\"https://contribute.imdb.com/czone?ref_=nv_cm_cz\" tabindex=\"-1\" aria-disabled=\"false\"><span class=\"ipc-list-item__text\" role=\"presentation\">Contributor Zone</span></a><a role=\"menuitem\" class=\"ipc-list__item nav-link NavLink-sc-19k0khm-0 LrpYY ipc-list__item--indent-one\" href=\"/poll/?ref_=nv_cm_pl\" tabindex=\"-1\" aria-disabled=\"false\"><span class=\"ipc-list-item__text\" role=\"presentation\">Polls</span></a></ul></div></div></span></div><a role=\"menuitem\" class=\"ipc-list__item nav-link _3xW8qYlqcCPv5fOHeXBer5 NavLink-sc-19k0khm-0 LrpYY\" href=\"https://pro.imdb.com?ref_=cons_nb_hm&amp;rf=cons_nb_hm\" target=\"_blank\" aria-label=\"Go To IMDb Pro\" tabindex=\"0\" aria-disabled=\"false\"><span class=\"ipc-list-item__text\" role=\"presentation\"><div class=\"_33PK8nBHiT1fGjnfXwum3v NavLinkCategoryList__LogoNavLink-sc-13vymju-1 RQLCk\"><svg class=\"ipc-logo\" width=\"52\" height=\"14\" viewBox=\"0 0 52 14\" xmlns=\"http://www.w3.org/2000/svg\" version=\"1.1\"><g fill=\"currentColor\"><rect x=\"0\" y=\"1\" width=\"3.21\" height=\"12.34\"></rect><path d=\"M10,1 L9.3,6.76 L8.84,3.63 C8.7,2.62 8.58,1.75 8.45,1 L4.3,1 L4.3,13.34 L7.11,13.34 L7.11,5.19 L8.3,13.34 L10.3,13.34 L11.42,5 L11.42,13.33 L14.22,13.33 L14.22,1 L10,1 Z\"></path><path d=\"M19.24,3.22 C19.3711159,3.29185219 19.4602235,3.42180078 19.48,3.57 C19.5340993,3.92393477 19.554191,4.28223587 19.54,4.64 L19.54,9.42 C19.578852,9.92887392 19.5246327,10.4405682 19.38,10.93 C19.27,11.12 18.99,11.21 18.53,11.21 L18.53,3.11 C18.7718735,3.09406934 19.0142863,3.13162626 19.24,3.22 Z M19.24,13.34 C19.8163127,13.3574057 20.3928505,13.3138302 20.96,13.21 C21.3245396,13.1481159 21.6680909,12.9969533 21.96,12.77 C22.2288287,12.5438006 22.4209712,12.2398661 22.51,11.9 C22.643288,11.1679419 22.6969338,10.4236056 22.67,9.68 L22.67,5.34 C22.6662002,4.55669241 22.6060449,3.77467335 22.49,3 C22.43037,2.59841431 22.260779,2.22116094 22,1.91 C21.6636187,1.56093667 21.2326608,1.317654 20.76,1.21 C19.7709421,1.02848785 18.7647002,0.958050915 17.76,1 L15.32,1 L15.32,13.34 L19.24,13.34 Z\"></path><path d=\"M27.86,10.34 C27.8769902,10.7218086 27.8501483,11.1043064 27.78,11.48 C27.72,11.63 27.46,11.71 27.26,11.71 C27.0954951,11.7299271 26.9386363,11.6349863 26.88,11.48 C26.7930212,11.1542289 26.7592527,10.8165437 26.78,10.48 L26.78,7.18 C26.7626076,6.84408875 26.7929089,6.50740774 26.87,6.18 C26.9317534,6.03447231 27.0833938,5.94840616 27.24,5.97 C27.43,5.97 27.7,6.05 27.76,6.21 C27.8468064,6.53580251 27.8805721,6.87345964 27.86,7.21 L27.86,10.34 Z M23.7,1 L23.7,13.34 L26.58,13.34 L26.78,12.55 C27.0112432,12.8467609 27.3048209,13.0891332 27.64,13.26 C28.0022345,13.4198442 28.394069,13.5016184 28.79,13.5 C29.2588971,13.515288 29.7196211,13.3746089 30.1,13.1 C30.4399329,12.8800058 30.6913549,12.5471372 30.81,12.16 C30.9423503,11.6167622 31.0061799,11.0590937 31,10.5 L31,7 C31.0087531,6.51279482 30.9920637,6.02546488 30.95,5.54 C30.904474,5.28996521 30.801805,5.05382649 30.65,4.85 C30.4742549,4.59691259 30.2270668,4.40194735 29.94,4.29 C29.5869438,4.15031408 29.2096076,4.08232558 28.83,4.09 C28.4361722,4.08961884 28.0458787,4.16428368 27.68,4.31 C27.3513666,4.46911893 27.0587137,4.693713 26.82,4.97 L26.82,1 L23.7,1 Z\"></path><path d=\"M32.13,1 L35.32,1 C35.9925574,0.978531332 36.6650118,1.04577677 37.32,1.2 C37.717112,1.29759578 38.0801182,1.50157071 38.37,1.79 C38.6060895,2.05302496 38.7682605,2.37391646 38.84,2.72 C38.935586,3.27463823 38.9757837,3.8374068 38.96,4.4 L38.96,5.46 C38.9916226,6.03689533 38.9100917,6.61440551 38.72,7.16 C38.5402933,7.53432344 38.2260614,7.82713037 37.84,7.98 C37.3049997,8.18709035 36.7332458,8.28238268 36.16,8.26 L35.31,8.26 L35.31,13.16 L32.13,13.16 L32.13,1 Z M35.29,3.08 L35.29,6.18 L35.53,6.18 C35.7515781,6.20532753 35.9725786,6.12797738 36.13,5.97 C36.2717869,5.69610033 36.3308522,5.38687568 36.3,5.08 L36.3,4.08 C36.3390022,3.79579475 36.2713114,3.5072181 36.11,3.27 C35.8671804,3.11299554 35.5771259,3.04578777 35.29,3.08 Z\"></path><path d=\"M42,4.36 L41.89,5.52 C42.28,4.69 43.67,4.42 44.41,4.37 L43.6,7.3 C43.2290559,7.27725357 42.8582004,7.34593052 42.52,7.5 C42.3057075,7.61238438 42.1519927,7.81367763 42.1,8.05 C42.0178205,8.59259006 41.9843538,9.14144496 42,9.69 L42,13.16 L39.34,13.16 L39.34,4.36 L42,4.36 Z\"></path><path d=\"M51.63,9.71 C51.6472876,10.3265292 51.6003682,10.9431837 51.49,11.55 C51.376862,11.9620426 51.1639158,12.3398504 50.87,12.65 C50.5352227,13.001529 50.1148049,13.2599826 49.65,13.4 C49.0994264,13.5686585 48.5257464,13.6496486 47.95,13.64 C47.3333389,13.6524659 46.7178074,13.5818311 46.12,13.43 C45.6996896,13.322764 45.3140099,13.1092627 45,12.81 C44.7275808,12.5275876 44.5254637,12.1850161 44.41,11.81 C44.2627681,11.2181509 44.1921903,10.6098373 44.2,10 L44.2,7.64 C44.1691064,6.9584837 44.2780071,6.27785447 44.52,5.64 C44.7547114,5.12751365 45.1616363,4.71351186 45.67,4.47 C46.3337168,4.13941646 47.0688388,3.97796445 47.81,4 C48.4454888,3.98667568 49.0783958,4.08482705 49.68,4.29 C50.1352004,4.42444561 50.5506052,4.66819552 50.89,5 C51.1535526,5.26601188 51.3550281,5.58700663 51.48,5.94 C51.6001358,6.42708696 51.6506379,6.92874119 51.63,7.43 L51.63,9.71 Z M48.39,6.73 C48.412199,6.42705368 48.3817488,6.12255154 48.3,5.83 C48.2091142,5.71223121 48.0687606,5.64325757 47.92,5.64325757 C47.7712394,5.64325757 47.6308858,5.71223121 47.54,5.83 C47.447616,6.12046452 47.4136298,6.42634058 47.44,6.73 L47.44,10.93 C47.4168299,11.2204468 47.4508034,11.5126191 47.54,11.79 C47.609766,11.9270995 47.7570827,12.0067302 47.91,11.99 C48.0639216,12.0108082 48.2159732,11.9406305 48.3,11.81 C48.3790864,11.5546009 48.4096133,11.2866434 48.39,11.02 L48.39,6.73 Z\"></path></g></svg><div class=\"NavLinkCategoryList__TextNavLink-sc-13vymju-2 YOYgO\">For Industry Professionals</div></div></span><span class=\"ipc-list-item__icon ipc-list-item__icon--post\" role=\"presentation\"><svg xmlns=\"http://www.w3.org/2000/svg\" width=\"24\" height=\"24\" class=\"ipc-icon ipc-icon--launch\" viewBox=\"0 0 24 24\" fill=\"currentColor\" role=\"presentation\"><path d=\"M16 16.667H8A.669.669 0 0 1 7.333 16V8c0-.367.3-.667.667-.667h3.333c.367 0 .667-.3.667-.666C12 6.3 11.7 6 11.333 6h-4C6.593 6 6 6.6 6 7.333v9.334C6 17.4 6.6 18 7.333 18h9.334C17.4 18 18 17.4 18 16.667v-4c0-.367-.3-.667-.667-.667-.366 0-.666.3-.666.667V16c0 .367-.3.667-.667.667zm-2.667-10c0 .366.3.666.667.666h1.727L9.64 13.42a.664.664 0 1 0 .94.94l6.087-6.087V10c0 .367.3.667.666.667.367 0 .667-.3.667-.667V6h-4c-.367 0-.667.3-.667.667z\"></path></svg></span></a></div></div></div><label class=\"_1iCYg55DI6ds7d3KVrdYBX\" data-testid=\"backdrop\" role=\"button\" for=\"imdbHeader-navDrawer\" tabindex=\"0\" aria-hidden=\"true\" aria-label=\"Close Navigation Drawer\"></label></aside><a class=\"NavLogo-e02kni-0 ddqdtC imdb-header__logo-link _3XaDsUnZG7ZfFqFF37dZPv\" id=\"home_img_holder\" href=\"/?ref_=nv_home\" aria-label=\"Home\"><svg id=\"home_img\" class=\"ipc-logo\" xmlns=\"http://www.w3.org/2000/svg\" width=\"64\" height=\"32\" viewBox=\"0 0 64 32\" version=\"1.1\"><g fill=\"#F5C518\"><rect x=\"0\" y=\"0\" width=\"100%\" height=\"100%\" rx=\"4\"></rect></g><g transform=\"translate(8.000000, 7.000000)\" fill=\"#000000\" fill-rule=\"nonzero\"><polygon points=\"0 18 5 18 5 0 0 0\"></polygon><path d=\"M15.6725178,0 L14.5534833,8.40846934 L13.8582008,3.83502426 C13.65661,2.37009263 13.4632474,1.09175121 13.278113,0 L7,0 L7,18 L11.2416347,18 L11.2580911,6.11380679 L13.0436094,18 L16.0633571,18 L17.7583653,5.8517865 L17.7707076,18 L22,18 L22,0 L15.6725178,0 Z\"></path><path d=\"M24,18 L24,0 L31.8045586,0 C33.5693522,0 35,1.41994415 35,3.17660424 L35,14.8233958 C35,16.5777858 33.5716617,18 31.8045586,18 L24,18 Z M29.8322479,3.2395236 C29.6339219,3.13233348 29.2545158,3.08072342 28.7026524,3.08072342 L28.7026524,14.8914865 C29.4312846,14.8914865 29.8796736,14.7604764 30.0478195,14.4865461 C30.2159654,14.2165858 30.3021941,13.486105 30.3021941,12.2871637 L30.3021941,5.3078959 C30.3021941,4.49404499 30.272014,3.97397442 30.2159654,3.74371416 C30.1599168,3.5134539 30.0348852,3.34671372 29.8322479,3.2395236 Z\"></path><path d=\"M44.4299079,4.50685823 L44.749518,4.50685823 C46.5447098,4.50685823 48,5.91267586 48,7.64486762 L48,14.8619906 C48,16.5950653 46.5451816,18 44.749518,18 L44.4299079,18 C43.3314617,18 42.3602746,17.4736618 41.7718697,16.6682739 L41.4838962,17.7687785 L37,17.7687785 L37,0 L41.7843263,0 L41.7843263,5.78053556 C42.4024982,5.01015739 43.3551514,4.50685823 44.4299079,4.50685823 Z M43.4055679,13.2842155 L43.4055679,9.01907814 C43.4055679,8.31433946 43.3603268,7.85185468 43.2660746,7.63896485 C43.1718224,7.42607505 42.7955881,7.2893916 42.5316822,7.2893916 C42.267776,7.2893916 41.8607934,7.40047379 41.7816216,7.58767002 L41.7816216,9.01907814 L41.7816216,13.4207851 L41.7816216,14.8074788 C41.8721037,15.0130276 42.2602358,15.1274059 42.5316822,15.1274059 C42.8031285,15.1274059 43.1982131,15.0166981 43.281155,14.8074788 C43.3640968,14.5982595 43.4055679,14.0880581 43.4055679,13.2842155 Z\"></path></g></svg></a><input type=\"checkbox\" class=\"imdb-header-search__state EL4bTiUhQdfIvyX_PMRVv SearchBar__MobileSearchStateToggle-sc-1nweg6x-2 cIKARP\" id=\"navSearch-searchState\" name=\"navSearch-searchState\" aria-hidden=\"true\" hidden=\"\"/><div id=\"suggestion-search-container\" class=\"nav-search__search-container _2cVsg1cgtNxl8NEGDHTPH6 SearchBar-sc-1nweg6x-0 hOXnzb\"><form id=\"nav-search-form\" name=\"nav-search-form\" method=\"get\" action=\"/find\" class=\"_19kygDgP4Og4wL_TIXtDmm imdb-header__search-form SearchForm-dxsip9-0 gTFTwO\" role=\"search\"><div class=\"search-category-selector SearchCategorySelector__StyledContainer-sc-18f40f7-0 dKTgZt\"><div class=\"FlyoutMenu-xq6xx0-0 crQfrC navbar__flyout--breakpoint-m navbar__flyout--positionLeft\"><label class=\"ipc-button ipc-button--single-padding ipc-button--default-height ipc-button--core-base ipc-button--theme-base ipc-button--on-textPrimary ipc-text-button navbar__flyout__text-button-after-mobile search-category-selector__opener P7UFTypc7bsdHDd2RHdil nav-search-form__categories\" role=\"button\" tabindex=\"0\" aria-label=\"All\" aria-disabled=\"false\" for=\"navbar-search-category-select\"><div class=\"ipc-button__text\">All<svg xmlns=\"http://www.w3.org/2000/svg\" width=\"24\" height=\"24\" class=\"ipc-icon ipc-icon--arrow-drop-down navbar__flyout__button-pointer\" viewBox=\"0 0 24 24\" fill=\"currentColor\" role=\"presentation\"><path fill=\"none\" d=\"M0 0h24v24H0V0z\"></path><path d=\"M8.71 11.71l2.59 2.59c.39.39 1.02.39 1.41 0l2.59-2.59c.63-.63.18-1.71-.71-1.71H9.41c-.89 0-1.33 1.08-.7 1.71z\"></path></svg></div></label><input type=\"checkbox\" class=\"ipc-menu__focused-state\" id=\"navbar-search-category-select\" name=\"navbar-search-category-select\" hidden=\"\" tabindex=\"-1\" aria-hidden=\"true\"/><div class=\"ipc-menu mdc-menu ipc-menu--not-initialized ipc-menu--on-baseAlt ipc-menu--anchored ipc-menu--with-checkbox ipc-menu--expand-from-top-left navbar__flyout--menu\" data-menu-id=\"navbar-search-category-select\" role=\"presentation\"><div class=\"ipc-menu__items mdc-menu__items\" role=\"presentation\"><span id=\"navbar-search-category-select-contents\"><ul class=\"ipc-list _2crW0ewf49BFHCKEEUJ_9o ipc-list--baseAlt\" role=\"menu\" aria-orientation=\"vertical\"><a role=\"menuitem\" class=\"ipc-list__item _1L5qcXA4wOKR8LeHJgsqja _3lrXaniHRqyCb5hUFHbcds\" aria-label=\"All\" tabindex=\"0\" aria-disabled=\"false\"><span class=\"ipc-list-item__text\" role=\"presentation\"><svg xmlns=\"http://www.w3.org/2000/svg\" width=\"24\" height=\"24\" class=\"ipc-icon ipc-icon--search _2re8nTkPmRXI_TBcLnh1u8\" viewBox=\"0 0 24 24\" fill=\"currentColor\" role=\"presentation\"><path fill=\"none\" d=\"M0 0h24v24H0V0z\"></path><path d=\"M15.5 14h-.79l-.28-.27a6.5 6.5 0 0 0 1.48-5.34c-.47-2.78-2.79-5-5.59-5.34a6.505 6.505 0 0 0-7.27 7.27c.34 2.8 2.56 5.12 5.34 5.59a6.5 6.5 0 0 0 5.34-1.48l.27.28v.79l4.25 4.25c.41.41 1.08.41 1.49 0 .41-.41.41-1.08 0-1.49L15.5 14zm-6 0C7.01 14 5 11.99 5 9.5S7.01 5 9.5 5 14 7.01 14 9.5 11.99 14 9.5 14z\"></path></svg>All</span></a><a role=\"menuitem\" class=\"ipc-list__item _1L5qcXA4wOKR8LeHJgsqja\" aria-label=\"Titles\" tabindex=\"0\" aria-disabled=\"false\"><span class=\"ipc-list-item__text\" role=\"presentation\"><svg xmlns=\"http://www.w3.org/2000/svg\" width=\"24\" height=\"24\" class=\"ipc-icon ipc-icon--movie _2re8nTkPmRXI_TBcLnh1u8\" viewBox=\"0 0 24 24\" fill=\"currentColor\" role=\"presentation\"><path fill=\"none\" d=\"M0 0h24v24H0V0z\"></path><path d=\"M18 4v1h-2V4c0-.55-.45-1-1-1H9c-.55 0-1 .45-1 1v1H6V4c0-.55-.45-1-1-1s-1 .45-1 1v16c0 .55.45 1 1 1s1-.45 1-1v-1h2v1c0 .55.45 1 1 1h6c.55 0 1-.45 1-1v-1h2v1c0 .55.45 1 1 1s1-.45 1-1V4c0-.55-.45-1-1-1s-1 .45-1 1zM8 17H6v-2h2v2zm0-4H6v-2h2v2zm0-4H6V7h2v2zm10 8h-2v-2h2v2zm0-4h-2v-2h2v2zm0-4h-2V7h2v2z\"></path></svg>Titles</span></a><a role=\"menuitem\" class=\"ipc-list__item _1L5qcXA4wOKR8LeHJgsqja\" aria-label=\"TV Episodes\" tabindex=\"0\" aria-disabled=\"false\"><span class=\"ipc-list-item__text\" role=\"presentation\"><svg xmlns=\"http://www.w3.org/2000/svg\" width=\"24\" height=\"24\" class=\"ipc-icon ipc-icon--television _2re8nTkPmRXI_TBcLnh1u8\" viewBox=\"0 0 24 24\" fill=\"currentColor\" role=\"presentation\"><path fill=\"none\" d=\"M0 0h24v24H0V0z\"></path><path d=\"M21 3H3c-1.1 0-2 .9-2 2v12c0 1.1.9 2 2 2h5v1c0 .55.45 1 1 1h6c.55 0 1-.45 1-1v-1h5c1.1 0 1.99-.9 1.99-2L23 5a2 2 0 0 0-2-2zm-1 14H4c-.55 0-1-.45-1-1V6c0-.55.45-1 1-1h16c.55 0 1 .45 1 1v10c0 .55-.45 1-1 1z\"></path></svg>TV Episodes</span></a><a role=\"menuitem\" class=\"ipc-list__item _1L5qcXA4wOKR8LeHJgsqja\" aria-label=\"Celebs\" tabindex=\"0\" aria-disabled=\"false\"><span class=\"ipc-list-item__text\" role=\"presentation\"><svg xmlns=\"http://www.w3.org/2000/svg\" width=\"24\" height=\"24\" class=\"ipc-icon ipc-icon--people _2re8nTkPmRXI_TBcLnh1u8\" viewBox=\"0 0 24 24\" fill=\"currentColor\" role=\"presentation\"><path fill=\"none\" d=\"M0 0h24v24H0V0z\"></path><path d=\"M16 11c1.66 0 2.99-1.34 2.99-3S17.66 5 16 5s-3 1.34-3 3 1.34 3 3 3zm-8 0c1.66 0 2.99-1.34 2.99-3S9.66 5 8 5 5 6.34 5 8s1.34 3 3 3zm0 2c-2.33 0-7 1.17-7 3.5V18c0 .55.45 1 1 1h12c.55 0 1-.45 1-1v-1.5c0-2.33-4.67-3.5-7-3.5zm8 0c-.29 0-.62.02-.97.05.02.01.03.03.04.04 1.14.83 1.93 1.94 1.93 3.41V18c0 .35-.07.69-.18 1H22c.55 0 1-.45 1-1v-1.5c0-2.33-4.67-3.5-7-3.5z\"></path></svg>Celebs</span></a><a role=\"menuitem\" class=\"ipc-list__item _1L5qcXA4wOKR8LeHJgsqja\" aria-label=\"Companies\" tabindex=\"0\" aria-disabled=\"false\"><span class=\"ipc-list-item__text\" role=\"presentation\"><svg xmlns=\"http://www.w3.org/2000/svg\" width=\"24\" height=\"24\" class=\"ipc-icon ipc-icon--business _2re8nTkPmRXI_TBcLnh1u8\" viewBox=\"0 0 24 24\" fill=\"currentColor\" role=\"presentation\"><path fill=\"none\" d=\"M0 0h24v24H0V0z\"></path><path d=\"M12 7V5c0-1.1-.9-2-2-2H4c-1.1 0-2 .9-2 2v14c0 1.1.9 2 2 2h16c1.1 0 2-.9 2-2V9c0-1.1-.9-2-2-2h-8zM6 19H4v-2h2v2zm0-4H4v-2h2v2zm0-4H4V9h2v2zm0-4H4V5h2v2zm4 12H8v-2h2v2zm0-4H8v-2h2v2zm0-4H8V9h2v2zm0-4H8V5h2v2zm9 12h-7v-2h2v-2h-2v-2h2v-2h-2V9h7c.55 0 1 .45 1 1v8c0 .55-.45 1-1 1zm-1-8h-2v2h2v-2zm0 4h-2v2h2v-2z\"></path></svg>Companies</span></a><a role=\"menuitem\" class=\"ipc-list__item _1L5qcXA4wOKR8LeHJgsqja\" aria-label=\"Keywords\" tabindex=\"0\" aria-disabled=\"false\"><span class=\"ipc-list-item__text\" role=\"presentation\"><svg xmlns=\"http://www.w3.org/2000/svg\" width=\"24\" height=\"24\" class=\"ipc-icon ipc-icon--label _2re8nTkPmRXI_TBcLnh1u8\" viewBox=\"0 0 24 24\" fill=\"currentColor\" role=\"presentation\"><path fill=\"none\" d=\"M0 0h24v24H0V0z\"></path><path d=\"M17.63 5.84C17.27 5.33 16.67 5 16 5L5 5.01C3.9 5.01 3 5.9 3 7v10c0 1.1.9 1.99 2 1.99L16 19c.67 0 1.27-.33 1.63-.84l3.96-5.58a.99.99 0 0 0 0-1.16l-3.96-5.58z\"></path></svg>Keywords</span></a><li role=\"separator\" class=\"ipc-list-divider\"></li><a role=\"menuitem\" class=\"ipc-list__item _1L5qcXA4wOKR8LeHJgsqja\" href=\"https://www.imdb.com/search/\" tabindex=\"0\" aria-disabled=\"false\"><span class=\"ipc-list-item__text\" role=\"presentation\"><svg xmlns=\"http://www.w3.org/2000/svg\" width=\"24\" height=\"24\" class=\"ipc-icon ipc-icon--find-in-page _2re8nTkPmRXI_TBcLnh1u8\" viewBox=\"0 0 24 24\" fill=\"currentColor\" role=\"presentation\"><path fill=\"none\" d=\"M0 0h24v24H0V0z\"></path><path d=\"M20 19.59V8.83c0-.53-.21-1.04-.59-1.41l-4.83-4.83c-.37-.38-.88-.59-1.41-.59H6c-1.1 0-1.99.9-1.99 2L4 20c0 1.1.89 2 1.99 2H18c.45 0 .85-.15 1.19-.4l-4.43-4.43c-.86.56-1.89.88-3 .82-2.37-.11-4.4-1.96-4.72-4.31a5.013 5.013 0 0 1 5.83-5.61c1.95.33 3.57 1.85 4 3.78.33 1.46.01 2.82-.7 3.9L20 19.59zM9 13c0 1.66 1.34 3 3 3s3-1.34 3-3-1.34-3-3-3-3 1.34-3 3z\"></path></svg>Advanced Search</span><span class=\"ipc-list-item__icon ipc-list-item__icon--post\" role=\"presentation\"><svg xmlns=\"http://www.w3.org/2000/svg\" width=\"24\" height=\"24\" class=\"ipc-icon ipc-icon--chevron-right\" viewBox=\"0 0 24 24\" fill=\"currentColor\" role=\"presentation\"><path fill=\"none\" d=\"M0 0h24v24H0V0z\"></path><path d=\"M9.29 6.71a.996.996 0 0 0 0 1.41L13.17 12l-3.88 3.88a.996.996 0 1 0 1.41 1.41l4.59-4.59a.996.996 0 0 0 0-1.41L10.7 6.7c-.38-.38-1.02-.38-1.41.01z\"></path></svg></span></a></ul></span></div></div></div></div><div class=\"nav-search__search-input-container SearchTypeahead-sc-112a48v-0 OQYVG\"><div role=\"combobox\" aria-haspopup=\"listbox\" aria-owns=\"react-autowhatever-1\" aria-expanded=\"false\" class=\"react-autosuggest__container\"><input type=\"text\" value=\"\" autoComplete=\"off\" aria-autocomplete=\"list\" aria-controls=\"react-autowhatever-1\" class=\"imdb-header-search__input _3gDVKsXm3b_VAMhhSw1haV react-autosuggest__input\" id=\"suggestion-search\" name=\"q\" placeholder=\"Search IMDb\" autoCapitalize=\"off\" autoCorrect=\"off\"/></div></div><button id=\"suggestion-search-button\" type=\"submit\" class=\"nav-search__search-submit _1-XI3_I8iwubPnQ1mmvW97\"><svg xmlns=\"http://www.w3.org/2000/svg\" width=\"24\" height=\"24\" class=\"ipc-icon ipc-icon--magnify\" viewBox=\"0 0 24 24\" fill=\"currentColor\" role=\"presentation\"><path fill=\"none\" d=\"M0 0h24v24H0V0z\"></path><path d=\"M15.5 14h-.79l-.28-.27a6.5 6.5 0 0 0 1.48-5.34c-.47-2.78-2.79-5-5.59-5.34a6.505 6.505 0 0 0-7.27 7.27c.34 2.8 2.56 5.12 5.34 5.59a6.5 6.5 0 0 0 5.34-1.48l.27.28v.79l4.25 4.25c.41.41 1.08.41 1.49 0 .41-.41.41-1.08 0-1.49L15.5 14zm-6 0C7.01 14 5 11.99 5 9.5S7.01 5 9.5 5 14 7.01 14 9.5 11.99 14 9.5 14z\"></path></svg></button><input type=\"hidden\" name=\"ref_\" value=\"nv_sr_sm\"/></form><label id=\"imdbHeader-searchClose\" class=\"ipc-icon-button imdb-header-search__state-closer ipc-icon-button--baseAlt ipc-icon-button--onBase\" title=\"Close Search\" role=\"button\" tabindex=\"0\" aria-label=\"Close Search\" aria-disabled=\"false\" for=\"navSearch-searchState\"><svg xmlns=\"http://www.w3.org/2000/svg\" width=\"24\" height=\"24\" class=\"ipc-icon ipc-icon--clear\" viewBox=\"0 0 24 24\" fill=\"currentColor\" role=\"presentation\"><path fill=\"none\" d=\"M0 0h24v24H0V0z\"></path><path d=\"M18.3 5.71a.996.996 0 0 0-1.41 0L12 10.59 7.11 5.7A.996.996 0 1 0 5.7 7.11L10.59 12 5.7 16.89a.996.996 0 1 0 1.41 1.41L12 13.41l4.89 4.89a.996.996 0 1 0 1.41-1.41L13.41 12l4.89-4.89c.38-.38.38-1.02 0-1.4z\"></path></svg></label></div><label id=\"imdbHeader-searchOpen\" class=\"ipc-icon-button imdb-header-search__state-opener SearchBar__SearchLauncherButton-sc-1nweg6x-1 hjoCyi ipc-icon-button--baseAlt ipc-icon-button--onBase\" title=\"Open Search\" role=\"button\" tabindex=\"0\" aria-label=\"Open Search\" aria-disabled=\"false\" for=\"navSearch-searchState\"><svg xmlns=\"http://www.w3.org/2000/svg\" width=\"24\" height=\"24\" class=\"ipc-icon ipc-icon--magnify\" viewBox=\"0 0 24 24\" fill=\"currentColor\" role=\"presentation\"><path fill=\"none\" d=\"M0 0h24v24H0V0z\"></path><path d=\"M15.5 14h-.79l-.28-.27a6.5 6.5 0 0 0 1.48-5.34c-.47-2.78-2.79-5-5.59-5.34a6.505 6.505 0 0 0-7.27 7.27c.34 2.8 2.56 5.12 5.34 5.59a6.5 6.5 0 0 0 5.34-1.48l.27.28v.79l4.25 4.25c.41.41 1.08.41 1.49 0 .41-.41.41-1.08 0-1.49L15.5 14zm-6 0C7.01 14 5 11.99 5 9.5S7.01 5 9.5 5 14 7.01 14 9.5 11.99 14 9.5 14z\"></path></svg></label><div class=\"navbar__imdbpro NavProFlyout-sc-1cjctnc-0 hoAGyu\"><div class=\"navbar__imdbpro-content FlyoutMenu-xq6xx0-0 crQfrC navbar__flyout--breakpoint-l\"><a class=\"ipc-button ipc-button--single-padding ipc-button--default-height ipc-button--core-baseAlt ipc-button--theme-baseAlt ipc-button--on-textPrimary ipc-text-button navbar__flyout__text-button-after-mobile navbar__imdb-pro--toggle\" role=\"button\" tabindex=\"0\" aria-label=\"Go To IMDb Pro\" aria-disabled=\"false\" href=\"https://pro.imdb.com/login/ap?u=/login/lwa&amp;imdbPageAction=signUp&amp;rf=cons_nb_hm&amp;ref_=cons_nb_hm\"><div class=\"ipc-button__text\"><svg class=\"ipc-logo navbar__imdbpro-menu-toggle__name\" width=\"52\" height=\"14\" viewBox=\"0 0 52 14\" xmlns=\"http://www.w3.org/2000/svg\" version=\"1.1\"><g fill=\"currentColor\"><rect x=\"0\" y=\"1\" width=\"3.21\" height=\"12.34\"></rect><path d=\"M10,1 L9.3,6.76 L8.84,3.63 C8.7,2.62 8.58,1.75 8.45,1 L4.3,1 L4.3,13.34 L7.11,13.34 L7.11,5.19 L8.3,13.34 L10.3,13.34 L11.42,5 L11.42,13.33 L14.22,13.33 L14.22,1 L10,1 Z\"></path><path d=\"M19.24,3.22 C19.3711159,3.29185219 19.4602235,3.42180078 19.48,3.57 C19.5340993,3.92393477 19.554191,4.28223587 19.54,4.64 L19.54,9.42 C19.578852,9.92887392 19.5246327,10.4405682 19.38,10.93 C19.27,11.12 18.99,11.21 18.53,11.21 L18.53,3.11 C18.7718735,3.09406934 19.0142863,3.13162626 19.24,3.22 Z M19.24,13.34 C19.8163127,13.3574057 20.3928505,13.3138302 20.96,13.21 C21.3245396,13.1481159 21.6680909,12.9969533 21.96,12.77 C22.2288287,12.5438006 22.4209712,12.2398661 22.51,11.9 C22.643288,11.1679419 22.6969338,10.4236056 22.67,9.68 L22.67,5.34 C22.6662002,4.55669241 22.6060449,3.77467335 22.49,3 C22.43037,2.59841431 22.260779,2.22116094 22,1.91 C21.6636187,1.56093667 21.2326608,1.317654 20.76,1.21 C19.7709421,1.02848785 18.7647002,0.958050915 17.76,1 L15.32,1 L15.32,13.34 L19.24,13.34 Z\"></path><path d=\"M27.86,10.34 C27.8769902,10.7218086 27.8501483,11.1043064 27.78,11.48 C27.72,11.63 27.46,11.71 27.26,11.71 C27.0954951,11.7299271 26.9386363,11.6349863 26.88,11.48 C26.7930212,11.1542289 26.7592527,10.8165437 26.78,10.48 L26.78,7.18 C26.7626076,6.84408875 26.7929089,6.50740774 26.87,6.18 C26.9317534,6.03447231 27.0833938,5.94840616 27.24,5.97 C27.43,5.97 27.7,6.05 27.76,6.21 C27.8468064,6.53580251 27.8805721,6.87345964 27.86,7.21 L27.86,10.34 Z M23.7,1 L23.7,13.34 L26.58,13.34 L26.78,12.55 C27.0112432,12.8467609 27.3048209,13.0891332 27.64,13.26 C28.0022345,13.4198442 28.394069,13.5016184 28.79,13.5 C29.2588971,13.515288 29.7196211,13.3746089 30.1,13.1 C30.4399329,12.8800058 30.6913549,12.5471372 30.81,12.16 C30.9423503,11.6167622 31.0061799,11.0590937 31,10.5 L31,7 C31.0087531,6.51279482 30.9920637,6.02546488 30.95,5.54 C30.904474,5.28996521 30.801805,5.05382649 30.65,4.85 C30.4742549,4.59691259 30.2270668,4.40194735 29.94,4.29 C29.5869438,4.15031408 29.2096076,4.08232558 28.83,4.09 C28.4361722,4.08961884 28.0458787,4.16428368 27.68,4.31 C27.3513666,4.46911893 27.0587137,4.693713 26.82,4.97 L26.82,1 L23.7,1 Z\"></path><path d=\"M32.13,1 L35.32,1 C35.9925574,0.978531332 36.6650118,1.04577677 37.32,1.2 C37.717112,1.29759578 38.0801182,1.50157071 38.37,1.79 C38.6060895,2.05302496 38.7682605,2.37391646 38.84,2.72 C38.935586,3.27463823 38.9757837,3.8374068 38.96,4.4 L38.96,5.46 C38.9916226,6.03689533 38.9100917,6.61440551 38.72,7.16 C38.5402933,7.53432344 38.2260614,7.82713037 37.84,7.98 C37.3049997,8.18709035 36.7332458,8.28238268 36.16,8.26 L35.31,8.26 L35.31,13.16 L32.13,13.16 L32.13,1 Z M35.29,3.08 L35.29,6.18 L35.53,6.18 C35.7515781,6.20532753 35.9725786,6.12797738 36.13,5.97 C36.2717869,5.69610033 36.3308522,5.38687568 36.3,5.08 L36.3,4.08 C36.3390022,3.79579475 36.2713114,3.5072181 36.11,3.27 C35.8671804,3.11299554 35.5771259,3.04578777 35.29,3.08 Z\"></path><path d=\"M42,4.36 L41.89,5.52 C42.28,4.69 43.67,4.42 44.41,4.37 L43.6,7.3 C43.2290559,7.27725357 42.8582004,7.34593052 42.52,7.5 C42.3057075,7.61238438 42.1519927,7.81367763 42.1,8.05 C42.0178205,8.59259006 41.9843538,9.14144496 42,9.69 L42,13.16 L39.34,13.16 L39.34,4.36 L42,4.36 Z\"></path><path d=\"M51.63,9.71 C51.6472876,10.3265292 51.6003682,10.9431837 51.49,11.55 C51.376862,11.9620426 51.1639158,12.3398504 50.87,12.65 C50.5352227,13.001529 50.1148049,13.2599826 49.65,13.4 C49.0994264,13.5686585 48.5257464,13.6496486 47.95,13.64 C47.3333389,13.6524659 46.7178074,13.5818311 46.12,13.43 C45.6996896,13.322764 45.3140099,13.1092627 45,12.81 C44.7275808,12.5275876 44.5254637,12.1850161 44.41,11.81 C44.2627681,11.2181509 44.1921903,10.6098373 44.2,10 L44.2,7.64 C44.1691064,6.9584837 44.2780071,6.27785447 44.52,5.64 C44.7547114,5.12751365 45.1616363,4.71351186 45.67,4.47 C46.3337168,4.13941646 47.0688388,3.97796445 47.81,4 C48.4454888,3.98667568 49.0783958,4.08482705 49.68,4.29 C50.1352004,4.42444561 50.5506052,4.66819552 50.89,5 C51.1535526,5.26601188 51.3550281,5.58700663 51.48,5.94 C51.6001358,6.42708696 51.6506379,6.92874119 51.63,7.43 L51.63,9.71 Z M48.39,6.73 C48.412199,6.42705368 48.3817488,6.12255154 48.3,5.83 C48.2091142,5.71223121 48.0687606,5.64325757 47.92,5.64325757 C47.7712394,5.64325757 47.6308858,5.71223121 47.54,5.83 C47.447616,6.12046452 47.4136298,6.42634058 47.44,6.73 L47.44,10.93 C47.4168299,11.2204468 47.4508034,11.5126191 47.54,11.79 C47.609766,11.9270995 47.7570827,12.0067302 47.91,11.99 C48.0639216,12.0108082 48.2159732,11.9406305 48.3,11.81 C48.3790864,11.5546009 48.4096133,11.2866434 48.39,11.02 L48.39,6.73 Z\"></path></g></svg></div></a></div></div><div class=\"Root__Separator-sc-7p0yen-1 cECatH\"></div><div class=\"NavWatchlistButton-sc-1b65w5j-0 kaVyhF imdb-header__watchlist-button\"><a class=\"ipc-button ipc-button--single-padding ipc-button--default-height ipc-button--core-baseAlt ipc-button--theme-baseAlt ipc-button--on-textPrimary ipc-text-button\" role=\"button\" tabindex=\"0\" aria-disabled=\"false\" href=\"/list/watchlist?ref_=nv_usr_wl_all_0\"><svg width=\"24\" height=\"24\" xmlns=\"http://www.w3.org/2000/svg\" class=\"ipc-icon ipc-icon--watchlist ipc-button__icon ipc-button__icon--pre\" viewBox=\"0 0 24 24\" fill=\"currentColor\" role=\"presentation\"><path d=\"M17 3c1.05 0 1.918.82 1.994 1.851L19 5v16l-7-3-7 3V5c0-1.05.82-1.918 1.851-1.994L7 3h10zm-4 4h-2v3H8v2h3v3h2v-3h3v-2h-3V7z\" fill=\"currentColor\"></path></svg><div class=\"ipc-button__text\">Watchlist</div></a></div><div class=\"_3x17Igk9XRXcaKrcG3_MXQ navbar__user UserMenu-sc-1poz515-0 eIWOUD\"><a class=\"ipc-button ipc-button--single-padding ipc-button--default-height ipc-button--core-baseAlt ipc-button--theme-baseAlt ipc-button--on-textPrimary ipc-text-button imdb-header__signin-text\" role=\"button\" tabindex=\"0\" aria-disabled=\"false\" href=\"/registration/signin?ref=nv_generic_lgin\"><div class=\"ipc-button__text\">Sign In</div></a></div></div></nav><svg style=\"width:0;height:0;overflow:hidden;display:block\" xmlns=\"http://www.w3.org/2000/svg\" version=\"1.1\"><defs><linearGradient id=\"ipc-svg-gradient-tv-logo-t\" x1=\"31.973%\" y1=\"53.409%\" x2=\"153.413%\" y2=\"-16.853%\"><stop stop-color=\"#D01F49\" offset=\"21.89%\"></stop><stop stop-color=\"#E8138B\" offset=\"83.44%\"></stop></linearGradient><linearGradient id=\"ipc-svg-gradient-tv-logo-v\" x1=\"-38.521%\" y1=\"84.997%\" x2=\"104.155%\" y2=\"14.735%\"><stop stop-color=\"#D01F49\" offset=\"21.89%\"></stop><stop stop-color=\"#E8138B\" offset=\"83.44%\"></stop></linearGradient></defs></svg>\\n    </div>\\n<script type=\"text/javascript\">\\n    if (!window.RadWidget) {\\n        window.RadWidget = {\\n            registerReactWidgetInstance: function(input) {\\n                window.RadWidget[input.widgetName] = window.RadWidget[input.widgetName] || [];\\n                window.RadWidget[input.widgetName].push({\\n                    id: input.instanceId,\\n                    props: JSON.stringify(input.model)\\n                })\\n            },\\n            getReactWidgetInstances: function(widgetName) {\\n                return window.RadWidget[widgetName] || []\\n            }\\n        };\\n    }\\n</script>    <script type=\"text/javascript\">\\n        window[\\'RadWidget\\'].registerReactWidgetInstance({\\n            widgetName: \"IMDbConsumerSiteNavFeatureV1\",\\n            instanceId: \"33582117-3423-44be-b1d8-02a8b51a0ae4\",\\n            model: {\"username\":null,\"isLoggedIn\":false,\"showIMDbTVLink\":false,\"weblabs\":[]}\\n        });\\n    </script>\\n<script>\\n    if (typeof uet == \\'function\\') {\\n      uet(\"ne\");\\n    }\\n</script>\\n\\n\\n        <div id=\"wrapper\">\\n            <div id=\"root\" class=\"redesign\">\\n                <div id=\"nb20\" class=\"navbarSprite\">\\n                    <div id=\"supertab\">\\t\\n\\t<!-- no content received for slot: top_ad -->\\n\\t\\n</div>\\n\\t\\n\\t<!-- no content received for slot: navstrip -->\\n\\t\\n\\t\\n\\t<!-- no content received for slot: injected_navstrip -->\\n\\t\\n                </div>\\n              \\n\\n<script>\\n    if (typeof uet == \\'function\\') {\\n      uet(\"cf\");\\n    }\\n</script>\\n\\n    <input id=\"sectionName\" type=\"hidden\" value=\"india\" />\\n\\n    <div id=\"pagecontent\">\\n    <div class=\"pagecontent\">\\n\\t\\n\\t<!-- no content received for slot: injected_billboard -->\\n\\t\\n\\n    \\n    \\n    \\n\\n    \\n    \\n    \\n\\n    \\n    \\n    \\n    </div>\\n    <div id=\"top-slot-wrapper\" class=\"pagecontent\">\\n\\n    \\n    \\n        <a name=\"slot_top-1\"></a>\\n        \\n        \\n    \\n        \\n                                \\n\\n    \\n            <script type=\"text/javascript\">if(typeof uet === \\'function\\'){uet(\\'bb\\',\\'NavigationWidget\\',{wb:1});}</script>\\n                                \\n\\n                    \\n    \\n        <span class=\"ab_widget\">\\n                <div class=\"twbs\">\\n            <div id=\"widget-nav\" class=\"default-dark  navigation-widget\" style=\"background-color:transparent;\">\\n                \\n                <div class=\"nav-heading-frame\">\\n                    <div class=\"nav-heading\">\\n                \\n<a href=\"/featured/india\"\\ntitle=\"INDIA SPOTLIGHT\" > <h1 style=\"color:#e0ca3a;text-decoration-color:#e0ca3a;\">INDIA SPOTLIGHT</h1>\\n</a>                    </div>\\n                    \\n                </div>\\n                    <div class=\"nav-buttons\" >\\n                           <div class=\"nav-social-sharing-widget\"\\n                                id=\"social-sharing-widget\"\\n                                data-social-sharing-text=\"\"\\n                                color=\"#fff\"></div>\\n                        <div class=\"nav-wrapper\">\\n                            <ul class=\"nav nav-imdb-tabs nav-scrollable\">\\n<li>\\n<a href=\"/featured/india\"\\ntitle=\"Home\" > <span >HOME</span>\\n<span class=\"key\" style=\"background-color:#e0ca3a;\"></span>\\n</a> </li><li>\\n<a href=\"/featured/india/tv\"\\ntitle=\"TV\" > <span >TV</span>\\n<span class=\"key\" style=\"background-color:#e0ca3a;\"></span>\\n</a> </li><li>\\n<a href=\"/featured/india/toprated\"\\ntitle=\"Top Rated\" > <span >TOP RATED</span>\\n<span class=\"key\" style=\"background-color:#e0ca3a;\"></span>\\n</a> </li><li>\\n<a href=\"/featured/india/trending\"\\ntitle=\"Trending\" > <span >TRENDING</span>\\n<span class=\"key\" style=\"background-color:#e0ca3a;\"></span>\\n</a> </li>                            </ul>\\n                        </div>\\n                    </div>\\n            </div>\\n        </div>\\n            <style>\\n                #top-slot-wrapper.pagecontent {\\n                    background-color: transparent;\\n                }\\n                #root, #pagecontent {\\n                    background-color: transparent;\\n                    box-shadow: none;\\n                }\\n            </style>\\n\\n                        \\n        </span>\\n\\n\\n\\n            <script type=\"text/javascript\">\\n                if(typeof uex === \\'function\\'){uex(\\'ld\\',\\'NavigationWidget\\',{wb:1});}\\n            </script>\\n        \\n\\n\\n\\n\\n        \\n    \\n\\n    \\n    \\n    \\n    </div>\\n    <div class=\"pagecontent\">\\n        <div id=\"content-2-wide\">\\n            <div id=\"main\">\\n\\n    \\n    \\n    \\n\\n    \\n    \\n    \\n<script>\\n    if (typeof uet == \\'function\\') {\\n      uet(\"af\");\\n    }\\n</script>\\n\\n\\n    \\n    \\n    \\n\\n    \\n    \\n    \\n\\n    \\n    \\n    \\n\\n    \\n    \\n    \\n\\n    \\n    \\n    \\n\\n    \\n    \\n    \\n\\n    \\n    \\n    \\n\\n    \\n    \\n        <a name=\"slot_center-4\"></a>\\n        <div class=\"article\">\\n        \\n    \\n        \\n                                \\n\\n    \\n            <script type=\"text/javascript\">if(typeof uet === \\'function\\'){uet(\\'bb\\',\\'ChartWidget\\',{wb:1});}</script>\\n                                \\n\\n                    \\n    \\n        <span class=\"ab_widget\">\\n        \\n  <input id=\"seen-config\" type=\"hidden\"\\n         data-caller=\"fea_india_ss_toprated\"\\n         \\n         data-pagetype=\"imdb-featured\"\\n         data-subpagetype=\"india\"\\n         data-baseref=\"fea_india_ss_toprated\"\\n>\\n<div class=\"seen-collection\" data-collectionid=\"top-250-india\">\\n  <div class=\"article\">\\n    <h3>IMDb Charts</h3>\\n        <div class=\"chart-social-sharing-widget\" id=\"social-sharing-widget\"></div>\\n    <h1 class=\"header\">Top Rated Indian Movies</h1>\\n    <div class=\"byline\">Top 250 Indian movies as rated by IMDb Users</div>\\n    <hr />\\n    <div class=\"lister\">\\n      <div>\\n        <div class=\"nav\">\\n  <div class=\"controls float-right lister-activated\">\\n    <label class=\"lister-sort-by-label\" for=\"lister-sort-by-options\">Sort by: </label>\\n    <select id=\"lister-sort-by-options\" name=\"sort\" class=\"lister-sort-by\">\\n        <option value=\"rk:ascending\"\\n                selected=\"selected\">\\n          Ranking\\n        </option>\\n        <option value=\"ir:descending\"\\n                >\\n          IMDb Rating\\n        </option>\\n        <option value=\"us:descending\"\\n                >\\n          Release Date\\n        </option>\\n        <option value=\"nv:descending\"\\n                >\\n          Number of Ratings\\n        </option>\\n        <option value=\"ur:descending\"\\n                >\\n          Your Rating\\n        </option>\\n    </select>\\n    <span class=\"global-sprite lister-sort-reverse descending\"\\n          data-sort=\"rk:desc\">\\n    </span>\\n  </div>\\n          <div class=\"desc\">Showing <span>250</span> Titles</div>\\n        </div>\\n      </div>\\n      <br class=\"clear\">\\n      <table class=\"chart full-width\" data-caller-name=\"imdb-featured-india\">\\n        <colgroup>\\n          <col class=\"chartTableColumnPoster\"/>\\n          <col class=\"chartTableColumnTitle\"/>\\n          <col class=\"chartTableColumnIMDbRating\"/>\\n          <col class=\"chartTableColumnYourRating\"/>\\n          <col class=\"chartTableColumnWatchlistRibbon\"/>\\n        </colgroup>\\n        <thead>\\n        <tr>\\n          <th></th>\\n          <th>Rank &amp; Title</th>\\n          <th>IMDb Rating</th>\\n          <th>Your Rating</th>\\n          <th></th>\\n        </tr>\\n        </thead>\\n        <tbody class=\"lister-list\">\\n\\n  <tr>\\n    <td class=\"posterColumn\">\\n\\n    <span name=\"rk\" data-value=\"1\"></span>\\n    <span name=\"ir\" data-value=\"8.51649110810338\"></span>\\n    <span name=\"us\" data-value=\"-4.529088E11\"></span>\\n    <span name=\"nv\" data-value=\"23390\"></span>\\n    <span name=\"ur\" data-value=\"-2.4835088918966193\"></span>\\n<a href=\"/title/tt0048473/\"\\n> <img src=\"https://m.media-amazon.com/images/M/MV5BNDE5YmMxYjEtZjNjNC00NjM2LWE2ZjctOTkyNGMxODRiMGNiXkEyXkFqcGdeQXVyNTgyNTA4MjM@._V1_UY67_CR1,0,45,67_AL_.jpg\" width=\"45\" height=\"67\" alt=\"Pather Panchali\"/>\\n</a>    </td>\\n    <td class=\"titleColumn\">\\n      1.\\n      <a href=\"/title/tt0048473/\"\\ntitle=\"Satyajit Ray (dir.), Kanu Bannerjee, Karuna Bannerjee\" >Pather Panchali</a>\\n        <span class=\"secondaryInfo\">(1955)</span>\\n    </td>\\n    <td class=\"ratingColumn imdbRating\">\\n            <strong title=\"8.5 based on 23,390 user ratings\">8.5</strong>\\n    </td>\\n    <td class=\"ratingColumn\">\\n    <div class=\"seen-widget seen-widget-tt0048473 pending\" data-titleid=\"tt0048473\">\\n        <div class=\"boundary\">\\n            <div class=\"popover\">\\n<span class=\"delete\">&nbsp;</span><ol><li>1<li>2<li>3<li>4<li>5<li>6<li>7<li>8<li>9<li>10</ol>            </div>\\n        </div>\\n        <div class=\"inline\">\\n            <div class=\"pending\"></div>\\n            <div class=\"unseeable\">NOT YET RELEASED</div>\\n            <div class=\"unseen\"> </div>\\n            <div class=\"rating\"></div>\\n            <div class=\"seen\">Seen</div>\\n        </div>\\n    </div>\\n    </td>\\n    <td class=\"watchlistColumn\">\\n        <div class=\"wlb_ribbon\" data-tconst=\"tt0048473\" data-recordmetrics=\"true\"></div>\\n    </td>\\n  </tr>\\n\\n  <tr>\\n    <td class=\"posterColumn\">\\n\\n    <span name=\"rk\" data-value=\"2\"></span>\\n    <span name=\"ir\" data-value=\"8.472992470683408\"></span>\\n    <span name=\"us\" data-value=\"1.5386976E12\"></span>\\n    <span name=\"nv\" data-value=\"23945\"></span>\\n    <span name=\"ur\" data-value=\"-2.5270075293165917\"></span>\\n<a href=\"/title/tt7060344/\"\\n> <img src=\"https://m.media-amazon.com/images/M/MV5BMjU2NzIzMjYtMGE2ZS00YzgzLWE5MzgtZTFiYTlmOWNlYmJkXkEyXkFqcGdeQXVyODIwMDI1NjM@._V1_UY67_CR2,0,45,67_AL_.jpg\" width=\"45\" height=\"67\" alt=\"Ratsasan\"/>\\n</a>    </td>\\n    <td class=\"titleColumn\">\\n      2.\\n      <a href=\"/title/tt7060344/\"\\ntitle=\"Ram Kumar (dir.), Vishnu Vishal, Amala Paul\" >Ratsasan</a>\\n        <span class=\"secondaryInfo\">(2018)</span>\\n    </td>\\n    <td class=\"ratingColumn imdbRating\">\\n            <strong title=\"8.5 based on 23,945 user ratings\">8.5</strong>\\n    </td>\\n    <td class=\"ratingColumn\">\\n    <div class=\"seen-widget seen-widget-tt7060344 pending\" data-titleid=\"tt7060344\">\\n        <div class=\"boundary\">\\n            <div class=\"popover\">\\n<span class=\"delete\">&nbsp;</span><ol><li>1<li>2<li>3<li>4<li>5<li>6<li>7<li>8<li>9<li>10</ol>            </div>\\n        </div>\\n        <div class=\"inline\">\\n            <div class=\"pending\"></div>\\n            <div class=\"unseeable\">NOT YET RELEASED</div>\\n            <div class=\"unseen\"> </div>\\n            <div class=\"rating\"></div>\\n            <div class=\"seen\">Seen</div>\\n        </div>\\n    </div>\\n    </td>\\n    <td class=\"watchlistColumn\">\\n        <div class=\"wlb_ribbon\" data-tconst=\"tt7060344\" data-recordmetrics=\"true\"></div>\\n    </td>\\n  </tr>\\n\\n  <tr>\\n    <td class=\"posterColumn\">\\n\\n    <span name=\"rk\" data-value=\"3\"></span>\\n    <span name=\"ir\" data-value=\"8.471759486677696\"></span>\\n    <span name=\"us\" data-value=\"2.934144E11\"></span>\\n    <span name=\"nv\" data-value=\"17934\"></span>\\n    <span name=\"ur\" data-value=\"-2.528240513322304\"></span>\\n<a href=\"/title/tt0079221/\"\\n> <img src=\"https://m.media-amazon.com/images/M/MV5BMjA4OTczODgxNF5BMl5BanBnXkFtZTgwMDAzMTU2NDE@._V1_UY67_CR2,0,45,67_AL_.jpg\" width=\"45\" height=\"67\" alt=\"Gol Maal\"/>\\n</a>    </td>\\n    <td class=\"titleColumn\">\\n      3.\\n      <a href=\"/title/tt0079221/\"\\ntitle=\"Hrishikesh Mukherjee (dir.), Amol Palekar, Bindiya Goswami\" >Gol Maal</a>\\n        <span class=\"secondaryInfo\">(1979)</span>\\n    </td>\\n    <td class=\"ratingColumn imdbRating\">\\n            <strong title=\"8.5 based on 17,934 user ratings\">8.5</strong>\\n    </td>\\n    <td class=\"ratingColumn\">\\n    <div class=\"seen-widget seen-widget-tt0079221 pending\" data-titleid=\"tt0079221\">\\n        <div class=\"boundary\">\\n            <div class=\"popover\">\\n<span class=\"delete\">&nbsp;</span><ol><li>1<li>2<li>3<li>4<li>5<li>6<li>7<li>8<li>9<li>10</ol>            </div>\\n        </div>\\n        <div class=\"inline\">\\n            <div class=\"pending\"></div>\\n            <div class=\"unseeable\">NOT YET RELEASED</div>\\n            <div class=\"unseen\"> </div>\\n            <div class=\"rating\"></div>\\n            <div class=\"seen\">Seen</div>\\n        </div>\\n    </div>\\n    </td>\\n    <td class=\"watchlistColumn\">\\n        <div class=\"wlb_ribbon\" data-tconst=\"tt0079221\" data-recordmetrics=\"true\"></div>\\n    </td>\\n  </tr>\\n\\n  <tr>\\n    <td class=\"posterColumn\">\\n\\n    <span name=\"rk\" data-value=\"4\"></span>\\n    <span name=\"ir\" data-value=\"8.457183493644475\"></span>\\n    <span name=\"us\" data-value=\"5.617728E11\"></span>\\n    <span name=\"nv\" data-value=\"16189\"></span>\\n    <span name=\"ur\" data-value=\"-2.542816506355525\"></span>\\n<a href=\"/title/tt0093603/\"\\n> <img src=\"https://m.media-amazon.com/images/M/MV5BZmFiYjJkNTEtZDdlMi00YTA5LTk1YTYtMDgxM2M2MTRmNGFhXkEyXkFqcGdeQXVyNjc5Mjg4Nzc@._V1_UX45_CR0,0,45,67_AL_.jpg\" width=\"45\" height=\"67\" alt=\"Nayakan\"/>\\n</a>    </td>\\n    <td class=\"titleColumn\">\\n      4.\\n      <a href=\"/title/tt0093603/\"\\ntitle=\"Mani Ratnam (dir.), Kamal Haasan, Saranya Ponvannan\" >Nayakan</a>\\n        <span class=\"secondaryInfo\">(1987)</span>\\n    </td>\\n    <td class=\"ratingColumn imdbRating\">\\n            <strong title=\"8.5 based on 16,189 user ratings\">8.5</strong>\\n    </td>\\n    <td class=\"ratingColumn\">\\n    <div class=\"seen-widget seen-widget-tt0093603 pending\" data-titleid=\"tt0093603\">\\n        <div class=\"boundary\">\\n            <div class=\"popover\">\\n<span class=\"delete\">&nbsp;</span><ol><li>1<li>2<li>3<li>4<li>5<li>6<li>7<li>8<li>9<li>10</ol>            </div>\\n        </div>\\n        <div class=\"inline\">\\n            <div class=\"pending\"></div>\\n            <div class=\"unseeable\">NOT YET RELEASED</div>\\n            <div class=\"unseen\"> </div>\\n            <div class=\"rating\"></div>\\n            <div class=\"seen\">Seen</div>\\n        </div>\\n    </div>\\n    </td>\\n    <td class=\"watchlistColumn\">\\n        <div class=\"wlb_ribbon\" data-tconst=\"tt0093603\" data-recordmetrics=\"true\"></div>\\n    </td>\\n  </tr>\\n\\n  <tr>\\n    <td class=\"posterColumn\">\\n\\n    <span name=\"rk\" data-value=\"5\"></span>\\n    <span name=\"ir\" data-value=\"8.456489254357644\"></span>\\n    <span name=\"us\" data-value=\"1.0425024E12\"></span>\\n    <span name=\"nv\" data-value=\"16687\"></span>\\n    <span name=\"ur\" data-value=\"-2.5435107456423562\"></span>\\n<a href=\"/title/tt0367495/\"\\n> <img src=\"https://m.media-amazon.com/images/M/MV5BMjQwZWQwYjItNTIzNy00NmE5LWE1NjctZDE5MzgyMzY5YjljXkEyXkFqcGdeQXVyOTA0NTIzNzU@._V1_UY67_CR0,0,45,67_AL_.jpg\" width=\"45\" height=\"67\" alt=\"Anbe Sivam\"/>\\n</a>    </td>\\n    <td class=\"titleColumn\">\\n      5.\\n      <a href=\"/title/tt0367495/\"\\ntitle=\"Sundar C. (dir.), Kamal Haasan, Madhavan\" >Anbe Sivam</a>\\n        <span class=\"secondaryInfo\">(2003)</span>\\n    </td>\\n    <td class=\"ratingColumn imdbRating\">\\n            <strong title=\"8.5 based on 16,687 user ratings\">8.5</strong>\\n    </td>\\n    <td class=\"ratingColumn\">\\n    <div class=\"seen-widget seen-widget-tt0367495 pending\" data-titleid=\"tt0367495\">\\n        <div class=\"boundary\">\\n            <div class=\"popover\">\\n<span class=\"delete\">&nbsp;</span><ol><li>1<li>2<li>3<li>4<li>5<li>6<li>7<li>8<li>9<li>10</ol>            </div>\\n        </div>\\n        <div class=\"inline\">\\n            <div class=\"pending\"></div>\\n            <div class=\"unseeable\">NOT YET RELEASED</div>\\n            <div class=\"unseen\"> </div>\\n            <div class=\"rating\"></div>\\n            <div class=\"seen\">Seen</div>\\n        </div>\\n    </div>\\n    </td>\\n    <td class=\"watchlistColumn\">\\n        <div class=\"wlb_ribbon\" data-tconst=\"tt0367495\" data-recordmetrics=\"true\"></div>\\n    </td>\\n  </tr>\\n\\n  <tr>\\n    <td class=\"posterColumn\">\\n\\n    <span name=\"rk\" data-value=\"6\"></span>\\n    <span name=\"ir\" data-value=\"8.448383221984876\"></span>\\n    <span name=\"us\" data-value=\"-3.367872E11\"></span>\\n    <span name=\"nv\" data-value=\"11995\"></span>\\n    <span name=\"ur\" data-value=\"-2.5516167780151235\"></span>\\n<a href=\"/title/tt0052572/\"\\n> <img src=\"https://m.media-amazon.com/images/M/MV5BNWQzOWVlYzItNTQ4ZS00OThjLWJjNWQtNDM1Yzk0ZDM4NWY4XkEyXkFqcGdeQXVyNTgyNTA4MjM@._V1_UY67_CR1,0,45,67_AL_.jpg\" width=\"45\" height=\"67\" alt=\"Apur Sansar\"/>\\n</a>    </td>\\n    <td class=\"titleColumn\">\\n      6.\\n      <a href=\"/title/tt0052572/\"\\ntitle=\"Satyajit Ray (dir.), Soumitra Chatterjee, Sharmila Tagore\" >Apur Sansar</a>\\n        <span class=\"secondaryInfo\">(1959)</span>\\n    </td>\\n    <td class=\"ratingColumn imdbRating\">\\n            <strong title=\"8.4 based on 11,995 user ratings\">8.4</strong>\\n    </td>\\n    <td class=\"ratingColumn\">\\n    <div class=\"seen-widget seen-widget-tt0052572 pending\" data-titleid=\"tt0052572\">\\n        <div class=\"boundary\">\\n            <div class=\"popover\">\\n<span class=\"delete\">&nbsp;</span><ol><li>1<li>2<li>3<li>4<li>5<li>6<li>7<li>8<li>9<li>10</ol>            </div>\\n        </div>\\n        <div class=\"inline\">\\n            <div class=\"pending\"></div>\\n            <div class=\"unseeable\">NOT YET RELEASED</div>\\n            <div class=\"unseen\"> </div>\\n            <div class=\"rating\"></div>\\n            <div class=\"seen\">Seen</div>\\n        </div>\\n    </div>\\n    </td>\\n    <td class=\"watchlistColumn\">\\n        <div class=\"wlb_ribbon\" data-tconst=\"tt0052572\" data-recordmetrics=\"true\"></div>\\n    </td>\\n  </tr>\\n\\n  <tr>\\n    <td class=\"posterColumn\">\\n\\n    <span name=\"rk\" data-value=\"7\"></span>\\n    <span name=\"ir\" data-value=\"8.429190946242816\"></span>\\n    <span name=\"us\" data-value=\"1.4516064E12\"></span>\\n    <span name=\"nv\" data-value=\"5188\"></span>\\n    <span name=\"ur\" data-value=\"-2.570809053757184\"></span>\\n<a href=\"/title/tt5311546/\"\\n> <img src=\"https://m.media-amazon.com/images/M/MV5BYjkzZWIyZTctN2U3Ny00MDZlLTkzZTYtMTI2MWI5YTFiZWZkXkEyXkFqcGdeQXVyNTM2NTg3Nzg@._V1_UY67_CR2,0,45,67_AL_.jpg\" width=\"45\" height=\"67\" alt=\"Natsamrat\"/>\\n</a>    </td>\\n    <td class=\"titleColumn\">\\n      7.\\n      <a href=\"/title/tt5311546/\"\\ntitle=\"Mahesh Manjrekar (dir.), Nana Patekar, Medha Manjrekar\" >Natsamrat</a>\\n        <span class=\"secondaryInfo\">(2016)</span>\\n    </td>\\n    <td class=\"ratingColumn imdbRating\">\\n            <strong title=\"8.4 based on 5,188 user ratings\">8.4</strong>\\n    </td>\\n    <td class=\"ratingColumn\">\\n    <div class=\"seen-widget seen-widget-tt5311546 pending\" data-titleid=\"tt5311546\">\\n        <div class=\"boundary\">\\n            <div class=\"popover\">\\n<span class=\"delete\">&nbsp;</span><ol><li>1<li>2<li>3<li>4<li>5<li>6<li>7<li>8<li>9<li>10</ol>            </div>\\n        </div>\\n        <div class=\"inline\">\\n            <div class=\"pending\"></div>\\n            <div class=\"unseeable\">NOT YET RELEASED</div>\\n            <div class=\"unseen\"> </div>\\n            <div class=\"rating\"></div>\\n            <div class=\"seen\">Seen</div>\\n        </div>\\n    </div>\\n    </td>\\n    <td class=\"watchlistColumn\">\\n        <div class=\"wlb_ribbon\" data-tconst=\"tt5311546\" data-recordmetrics=\"true\"></div>\\n    </td>\\n  </tr>\\n\\n  <tr>\\n    <td class=\"posterColumn\">\\n\\n    <span name=\"rk\" data-value=\"8\"></span>\\n    <span name=\"ir\" data-value=\"8.423949382598675\"></span>\\n    <span name=\"us\" data-value=\"6.157728E11\"></span>\\n    <span name=\"nv\" data-value=\"5803\"></span>\\n    <span name=\"ur\" data-value=\"-2.576050617401325\"></span>\\n<a href=\"/title/tt0237376/\"\\n> <img src=\"https://m.media-amazon.com/images/M/MV5BOTg1MDNhMDEtMmY5MS00NGQ1LTkxMDctMmE2ZmE5NTA5NmNkXkEyXkFqcGdeQXVyMjkxNzQ1NDI@._V1_UY67_CR0,0,45,67_AL_.jpg\" width=\"45\" height=\"67\" alt=\"Kireedam\"/>\\n</a>    </td>\\n    <td class=\"titleColumn\">\\n      8.\\n      <a href=\"/title/tt0237376/\"\\ntitle=\"Sibi Malayil (dir.), Mohanlal, Thilakan\" >Kireedam</a>\\n        <span class=\"secondaryInfo\">(1989)</span>\\n    </td>\\n    <td class=\"ratingColumn imdbRating\">\\n            <strong title=\"8.4 based on 5,803 user ratings\">8.4</strong>\\n    </td>\\n    <td class=\"ratingColumn\">\\n    <div class=\"seen-widget seen-widget-tt0237376 pending\" data-titleid=\"tt0237376\">\\n        <div class=\"boundary\">\\n            <div class=\"popover\">\\n<span class=\"delete\">&nbsp;</span><ol><li>1<li>2<li>3<li>4<li>5<li>6<li>7<li>8<li>9<li>10</ol>            </div>\\n        </div>\\n        <div class=\"inline\">\\n            <div class=\"pending\"></div>\\n            <div class=\"unseeable\">NOT YET RELEASED</div>\\n            <div class=\"unseen\"> </div>\\n            <div class=\"rating\"></div>\\n            <div class=\"seen\">Seen</div>\\n        </div>\\n    </div>\\n    </td>\\n    <td class=\"watchlistColumn\">\\n        <div class=\"wlb_ribbon\" data-tconst=\"tt0237376\" data-recordmetrics=\"true\"></div>\\n    </td>\\n  </tr>\\n\\n  <tr>\\n    <td class=\"posterColumn\">\\n\\n    <span name=\"rk\" data-value=\"9\"></span>\\n    <span name=\"ir\" data-value=\"8.421340746787884\"></span>\\n    <span name=\"us\" data-value=\"1.5380928E12\"></span>\\n    <span name=\"nv\" data-value=\"8575\"></span>\\n    <span name=\"ur\" data-value=\"-2.578659253212116\"></span>\\n<a href=\"/title/tt8176054/\"\\n> <img src=\"https://m.media-amazon.com/images/M/MV5BYTI3ZmIyMjYtZTcwZC00N2Q1LTg1ZTEtNjZjYWQ5NTU1NTA1XkEyXkFqcGdeQXVyODIwMDI1NjM@._V1_UX45_CR0,0,45,67_AL_.jpg\" width=\"45\" height=\"67\" alt=\"Pariyerum Perumal\"/>\\n</a>    </td>\\n    <td class=\"titleColumn\">\\n      9.\\n      <a href=\"/title/tt8176054/\"\\ntitle=\"Mari Selvaraj (dir.), Kathir, Anandhi\" >Pariyerum Perumal</a>\\n        <span class=\"secondaryInfo\">(2018)</span>\\n    </td>\\n    <td class=\"ratingColumn imdbRating\">\\n            <strong title=\"8.4 based on 8,575 user ratings\">8.4</strong>\\n    </td>\\n    <td class=\"ratingColumn\">\\n    <div class=\"seen-widget seen-widget-tt8176054 pending\" data-titleid=\"tt8176054\">\\n        <div class=\"boundary\">\\n            <div class=\"popover\">\\n<span class=\"delete\">&nbsp;</span><ol><li>1<li>2<li>3<li>4<li>5<li>6<li>7<li>8<li>9<li>10</ol>            </div>\\n        </div>\\n        <div class=\"inline\">\\n            <div class=\"pending\"></div>\\n            <div class=\"unseeable\">NOT YET RELEASED</div>\\n            <div class=\"unseen\"> </div>\\n            <div class=\"rating\"></div>\\n            <div class=\"seen\">Seen</div>\\n        </div>\\n    </div>\\n    </td>\\n    <td class=\"watchlistColumn\">\\n        <div class=\"wlb_ribbon\" data-tconst=\"tt8176054\" data-recordmetrics=\"true\"></div>\\n    </td>\\n  </tr>\\n\\n  <tr>\\n    <td class=\"posterColumn\">\\n\\n    <span name=\"rk\" data-value=\"10\"></span>\\n    <span name=\"ir\" data-value=\"8.416297537083347\"></span>\\n    <span name=\"us\" data-value=\"1.0923552E12\"></span>\\n    <span name=\"nv\" data-value=\"18822\"></span>\\n    <span name=\"ur\" data-value=\"-2.583702462916653\"></span>\\n<a href=\"/title/tt0400234/\"\\n> <img src=\"https://m.media-amazon.com/images/M/MV5BYWRjMDlmNGYtOGFhYy00ZWU4LTk3MzEtOTI4ZTgxN2Y5NGNkXkEyXkFqcGdeQXVyNzU3Nzk4MDQ@._V1_UX45_CR0,0,45,67_AL_.jpg\" width=\"45\" height=\"67\" alt=\"Black Friday\"/>\\n</a>    </td>\\n    <td class=\"titleColumn\">\\n      10.\\n      <a href=\"/title/tt0400234/\"\\ntitle=\"Anurag Kashyap (dir.), Kay Kay Menon, Pawan Malhotra\" >Black Friday</a>\\n        <span class=\"secondaryInfo\">(2004)</span>\\n    </td>\\n    <td class=\"ratingColumn imdbRating\">\\n            <strong title=\"8.4 based on 18,822 user ratings\">8.4</strong>\\n    </td>\\n    <td class=\"ratingColumn\">\\n    <div class=\"seen-widget seen-widget-tt0400234 pending\" data-titleid=\"tt0400234\">\\n        <div class=\"boundary\">\\n            <div class=\"popover\">\\n<span class=\"delete\">&nbsp;</span><ol><li>1<li>2<li>3<li>4<li>5<li>6<li>7<li>8<li>9<li>10</ol>            </div>\\n        </div>\\n        <div class=\"inline\">\\n            <div class=\"pending\"></div>\\n            <div class=\"unseeable\">NOT YET RELEASED</div>\\n            <div class=\"unseen\"> </div>\\n            <div class=\"rating\"></div>\\n            <div class=\"seen\">Seen</div>\\n        </div>\\n    </div>\\n    </td>\\n    <td class=\"watchlistColumn\">\\n        <div class=\"wlb_ribbon\" data-tconst=\"tt0400234\" data-recordmetrics=\"true\"></div>\\n    </td>\\n  </tr>\\n\\n  <tr>\\n    <td class=\"posterColumn\">\\n\\n    <span name=\"rk\" data-value=\"11\"></span>\\n    <span name=\"ir\" data-value=\"8.398003463161498\"></span>\\n    <span name=\"us\" data-value=\"7.566912E11\"></span>\\n    <span name=\"nv\" data-value=\"8459\"></span>\\n    <span name=\"ur\" data-value=\"-2.6019965368385023\"></span>\\n<a href=\"/title/tt0214915/\"\\n> <img src=\"https://m.media-amazon.com/images/M/MV5BZjQxMmE4NDMtZGVkYi00YmQyLThiNTMtOTVmNDEyZWQ2MzUwXkEyXkFqcGdeQXVyMjkxNzQ1NDI@._V1_UX45_CR0,0,45,67_AL_.jpg\" width=\"45\" height=\"67\" alt=\"Manichitrathazhu\"/>\\n</a>    </td>\\n    <td class=\"titleColumn\">\\n      11.\\n      <a href=\"/title/tt0214915/\"\\ntitle=\"Fazil (dir.), Mohanlal, Shobana\" >Manichitrathazhu</a>\\n        <span class=\"secondaryInfo\">(1993)</span>\\n    </td>\\n    <td class=\"ratingColumn imdbRating\">\\n            <strong title=\"8.4 based on 8,459 user ratings\">8.4</strong>\\n    </td>\\n    <td class=\"ratingColumn\">\\n    <div class=\"seen-widget seen-widget-tt0214915 pending\" data-titleid=\"tt0214915\">\\n        <div class=\"boundary\">\\n            <div class=\"popover\">\\n<span class=\"delete\">&nbsp;</span><ol><li>1<li>2<li>3<li>4<li>5<li>6<li>7<li>8<li>9<li>10</ol>            </div>\\n        </div>\\n        <div class=\"inline\">\\n            <div class=\"pending\"></div>\\n            <div class=\"unseeable\">NOT YET RELEASED</div>\\n            <div class=\"unseen\"> </div>\\n            <div class=\"rating\"></div>\\n            <div class=\"seen\">Seen</div>\\n        </div>\\n    </div>\\n    </td>\\n    <td class=\"watchlistColumn\">\\n        <div class=\"wlb_ribbon\" data-tconst=\"tt0214915\" data-recordmetrics=\"true\"></div>\\n    </td>\\n  </tr>\\n\\n  <tr>\\n    <td class=\"posterColumn\">\\n\\n    <span name=\"rk\" data-value=\"12\"></span>\\n    <span name=\"ir\" data-value=\"8.390824323199709\"></span>\\n    <span name=\"us\" data-value=\"7.199712E11\"></span>\\n    <span name=\"nv\" data-value=\"5373\"></span>\\n    <span name=\"ur\" data-value=\"-2.609175676800291\"></span>\\n<a href=\"/title/tt0105575/\"\\n> <img src=\"https://m.media-amazon.com/images/M/MV5BN2MxZjkwZjMtZjZhZS00YjRkLWI4M2YtYjQzMmFiYmU3YzBmXkEyXkFqcGdeQXVyODEzOTQwNTY@._V1_UY67_CR1,0,45,67_AL_.jpg\" width=\"45\" height=\"67\" alt=\"Thevar Magan\"/>\\n</a>    </td>\\n    <td class=\"titleColumn\">\\n      12.\\n      <a href=\"/title/tt0105575/\"\\ntitle=\"Bharathan (dir.), Kamal Haasan, Shivaji Ganesan\" >Thevar Magan</a>\\n        <span class=\"secondaryInfo\">(1992)</span>\\n    </td>\\n    <td class=\"ratingColumn imdbRating\">\\n            <strong title=\"8.4 based on 5,373 user ratings\">8.4</strong>\\n    </td>\\n    <td class=\"ratingColumn\">\\n    <div class=\"seen-widget seen-widget-tt0105575 pending\" data-titleid=\"tt0105575\">\\n        <div class=\"boundary\">\\n            <div class=\"popover\">\\n<span class=\"delete\">&nbsp;</span><ol><li>1<li>2<li>3<li>4<li>5<li>6<li>7<li>8<li>9<li>10</ol>            </div>\\n        </div>\\n        <div class=\"inline\">\\n            <div class=\"pending\"></div>\\n            <div class=\"unseeable\">NOT YET RELEASED</div>\\n            <div class=\"unseen\"> </div>\\n            <div class=\"rating\"></div>\\n            <div class=\"seen\">Seen</div>\\n        </div>\\n    </div>\\n    </td>\\n    <td class=\"watchlistColumn\">\\n        <div class=\"wlb_ribbon\" data-tconst=\"tt0105575\" data-recordmetrics=\"true\"></div>\\n    </td>\\n  </tr>\\n\\n  <tr>\\n    <td class=\"posterColumn\">\\n\\n    <span name=\"rk\" data-value=\"13\"></span>\\n    <span name=\"ir\" data-value=\"8.380725471164682\"></span>\\n    <span name=\"us\" data-value=\"1.5385248E12\"></span>\\n    <span name=\"nv\" data-value=\"18768\"></span>\\n    <span name=\"ur\" data-value=\"-2.6192745288353176\"></span>\\n<a href=\"/title/tt7019842/\"\\n> <img src=\"https://m.media-amazon.com/images/M/MV5BZTM1MGM3NjgtZjE4Mi00ZTNlLWI3ODAtNTViZjFmMDc3MjlhXkEyXkFqcGdeQXVyOTA3MTM0MTM@._V1_UY67_CR2,0,45,67_AL_.jpg\" width=\"45\" height=\"67\" alt=\"96\"/>\\n</a>    </td>\\n    <td class=\"titleColumn\">\\n      13.\\n      <a href=\"/title/tt7019842/\"\\ntitle=\"C. Prem Kumar (dir.), Vijay Sethupathi, Trisha Krishnan\" >96</a>\\n        <span class=\"secondaryInfo\">(2018)</span>\\n    </td>\\n    <td class=\"ratingColumn imdbRating\">\\n            <strong title=\"8.4 based on 18,768 user ratings\">8.4</strong>\\n    </td>\\n    <td class=\"ratingColumn\">\\n    <div class=\"seen-widget seen-widget-tt7019842 pending\" data-titleid=\"tt7019842\">\\n        <div class=\"boundary\">\\n            <div class=\"popover\">\\n<span class=\"delete\">&nbsp;</span><ol><li>1<li>2<li>3<li>4<li>5<li>6<li>7<li>8<li>9<li>10</ol>            </div>\\n        </div>\\n        <div class=\"inline\">\\n            <div class=\"pending\"></div>\\n            <div class=\"unseeable\">NOT YET RELEASED</div>\\n            <div class=\"unseen\"> </div>\\n            <div class=\"rating\"></div>\\n            <div class=\"seen\">Seen</div>\\n        </div>\\n    </div>\\n    </td>\\n    <td class=\"watchlistColumn\">\\n        <div class=\"wlb_ribbon\" data-tconst=\"tt7019842\" data-recordmetrics=\"true\"></div>\\n    </td>\\n  </tr>\\n\\n  <tr>\\n    <td class=\"posterColumn\">\\n\\n    <span name=\"rk\" data-value=\"14\"></span>\\n    <span name=\"ir\" data-value=\"8.355454597932532\"></span>\\n    <span name=\"us\" data-value=\"1.5494976E12\"></span>\\n    <span name=\"nv\" data-value=\"8797\"></span>\\n    <span name=\"ur\" data-value=\"-2.644545402067468\"></span>\\n<a href=\"/title/tt8413338/\"\\n> <img src=\"https://m.media-amazon.com/images/M/MV5BYjYyZTNkZGYtZGJjZC00NmM2LThjNjMtMjYxYTI0NTg1NzViXkEyXkFqcGdeQXVyMzQ5Njc3NzU@._V1_UY67_CR0,0,45,67_AL_.jpg\" width=\"45\" height=\"67\" alt=\"Kumbalangi Nights\"/>\\n</a>    </td>\\n    <td class=\"titleColumn\">\\n      14.\\n      <a href=\"/title/tt8413338/\"\\ntitle=\"Madhu C. Narayanan (dir.), Shane Nigam, Soubin Shahir\" >Kumbalangi Nights</a>\\n        <span class=\"secondaryInfo\">(2019)</span>\\n    </td>\\n    <td class=\"ratingColumn imdbRating\">\\n            <strong title=\"8.4 based on 8,797 user ratings\">8.4</strong>\\n    </td>\\n    <td class=\"ratingColumn\">\\n    <div class=\"seen-widget seen-widget-tt8413338 pending\" data-titleid=\"tt8413338\">\\n        <div class=\"boundary\">\\n            <div class=\"popover\">\\n<span class=\"delete\">&nbsp;</span><ol><li>1<li>2<li>3<li>4<li>5<li>6<li>7<li>8<li>9<li>10</ol>            </div>\\n        </div>\\n        <div class=\"inline\">\\n            <div class=\"pending\"></div>\\n            <div class=\"unseeable\">NOT YET RELEASED</div>\\n            <div class=\"unseen\"> </div>\\n            <div class=\"rating\"></div>\\n            <div class=\"seen\">Seen</div>\\n        </div>\\n    </div>\\n    </td>\\n    <td class=\"watchlistColumn\">\\n        <div class=\"wlb_ribbon\" data-tconst=\"tt8413338\" data-recordmetrics=\"true\"></div>\\n    </td>\\n  </tr>\\n\\n  <tr>\\n    <td class=\"posterColumn\">\\n\\n    <span name=\"rk\" data-value=\"15\"></span>\\n    <span name=\"ir\" data-value=\"8.353902546150877\"></span>\\n    <span name=\"us\" data-value=\"1.2615264E12\"></span>\\n    <span name=\"nv\" data-value=\"343134\"></span>\\n    <span name=\"ur\" data-value=\"-2.646097453849123\"></span>\\n<a href=\"/title/tt1187043/\"\\n> <img src=\"https://m.media-amazon.com/images/M/MV5BNTkyOGVjMGEtNmQzZi00NzFlLTlhOWQtODYyMDc2ZGJmYzFhXkEyXkFqcGdeQXVyNjU0OTQ0OTY@._V1_UY67_CR1,0,45,67_AL_.jpg\" width=\"45\" height=\"67\" alt=\"3 Idiots\"/>\\n</a>    </td>\\n    <td class=\"titleColumn\">\\n      15.\\n      <a href=\"/title/tt1187043/\"\\ntitle=\"Rajkumar Hirani (dir.), Aamir Khan, Madhavan\" >3 Idiots</a>\\n        <span class=\"secondaryInfo\">(2009)</span>\\n    </td>\\n    <td class=\"ratingColumn imdbRating\">\\n            <strong title=\"8.4 based on 343,134 user ratings\">8.4</strong>\\n    </td>\\n    <td class=\"ratingColumn\">\\n    <div class=\"seen-widget seen-widget-tt1187043 pending\" data-titleid=\"tt1187043\">\\n        <div class=\"boundary\">\\n            <div class=\"popover\">\\n<span class=\"delete\">&nbsp;</span><ol><li>1<li>2<li>3<li>4<li>5<li>6<li>7<li>8<li>9<li>10</ol>            </div>\\n        </div>\\n        <div class=\"inline\">\\n            <div class=\"pending\"></div>\\n            <div class=\"unseeable\">NOT YET RELEASED</div>\\n            <div class=\"unseen\"> </div>\\n            <div class=\"rating\"></div>\\n            <div class=\"seen\">Seen</div>\\n        </div>\\n    </div>\\n    </td>\\n    <td class=\"watchlistColumn\">\\n        <div class=\"wlb_ribbon\" data-tconst=\"tt1187043\" data-recordmetrics=\"true\"></div>\\n    </td>\\n  </tr>\\n\\n  <tr>\\n    <td class=\"posterColumn\">\\n\\n    <span name=\"rk\" data-value=\"16\"></span>\\n    <span name=\"ir\" data-value=\"8.344418890761716\"></span>\\n    <span name=\"us\" data-value=\"1.1981952E12\"></span>\\n    <span name=\"nv\" data-value=\"168125\"></span>\\n    <span name=\"ur\" data-value=\"-2.655581109238284\"></span>\\n<a href=\"/title/tt0986264/\"\\n> <img src=\"https://m.media-amazon.com/images/M/MV5BMDhjZWViN2MtNzgxOS00NmI4LThiZDQtZDI3MzM4MDE4NTc0XkEyXkFqcGdeQXVyMTMxODk2OTU@._V1_UY67_CR1,0,45,67_AL_.jpg\" width=\"45\" height=\"67\" alt=\"Taare Zameen Par\"/>\\n</a>    </td>\\n    <td class=\"titleColumn\">\\n      16.\\n      <a href=\"/title/tt0986264/\"\\ntitle=\"Aamir Khan (dir.), Darsheel Safary, Aamir Khan\" >Taare Zameen Par</a>\\n        <span class=\"secondaryInfo\">(2007)</span>\\n    </td>\\n    <td class=\"ratingColumn imdbRating\">\\n            <strong title=\"8.3 based on 168,125 user ratings\">8.3</strong>\\n    </td>\\n    <td class=\"ratingColumn\">\\n    <div class=\"seen-widget seen-widget-tt0986264 pending\" data-titleid=\"tt0986264\">\\n        <div class=\"boundary\">\\n            <div class=\"popover\">\\n<span class=\"delete\">&nbsp;</span><ol><li>1<li>2<li>3<li>4<li>5<li>6<li>7<li>8<li>9<li>10</ol>            </div>\\n        </div>\\n        <div class=\"inline\">\\n            <div class=\"pending\"></div>\\n            <div class=\"unseeable\">NOT YET RELEASED</div>\\n            <div class=\"unseen\"> </div>\\n            <div class=\"rating\"></div>\\n            <div class=\"seen\">Seen</div>\\n        </div>\\n    </div>\\n    </td>\\n    <td class=\"watchlistColumn\">\\n        <div class=\"wlb_ribbon\" data-tconst=\"tt0986264\" data-recordmetrics=\"true\"></div>\\n    </td>\\n  </tr>\\n\\n  <tr>\\n    <td class=\"posterColumn\">\\n\\n    <span name=\"rk\" data-value=\"17\"></span>\\n    <span name=\"ir\" data-value=\"8.31828125219351\"></span>\\n    <span name=\"us\" data-value=\"1.4418432E12\"></span>\\n    <span name=\"nv\" data-value=\"7520\"></span>\\n    <span name=\"ur\" data-value=\"-2.6817187478064906\"></span>\\n<a href=\"/title/tt4991384/\"\\n> <img src=\"https://m.media-amazon.com/images/M/MV5BYjRkMDVmZGItZTUwOS00ODdjLWEwM2ItYTNjYTJkODg1MThhXkEyXkFqcGdeQXVyODIwMDI1NjM@._V1_UY67_CR2,0,45,67_AL_.jpg\" width=\"45\" height=\"67\" alt=\"Visaaranai\"/>\\n</a>    </td>\\n    <td class=\"titleColumn\">\\n      17.\\n      <a href=\"/title/tt4991384/\"\\ntitle=\"Vetrimaaran (dir.), Dinesh, Samuthirakani\" >Visaaranai</a>\\n        <span class=\"secondaryInfo\">(2015)</span>\\n    </td>\\n    <td class=\"ratingColumn imdbRating\">\\n            <strong title=\"8.3 based on 7,520 user ratings\">8.3</strong>\\n    </td>\\n    <td class=\"ratingColumn\">\\n    <div class=\"seen-widget seen-widget-tt4991384 pending\" data-titleid=\"tt4991384\">\\n        <div class=\"boundary\">\\n            <div class=\"popover\">\\n<span class=\"delete\">&nbsp;</span><ol><li>1<li>2<li>3<li>4<li>5<li>6<li>7<li>8<li>9<li>10</ol>            </div>\\n        </div>\\n        <div class=\"inline\">\\n            <div class=\"pending\"></div>\\n            <div class=\"unseeable\">NOT YET RELEASED</div>\\n            <div class=\"unseen\"> </div>\\n            <div class=\"rating\"></div>\\n            <div class=\"seen\">Seen</div>\\n        </div>\\n    </div>\\n    </td>\\n    <td class=\"watchlistColumn\">\\n        <div class=\"wlb_ribbon\" data-tconst=\"tt4991384\" data-recordmetrics=\"true\"></div>\\n    </td>\\n  </tr>\\n\\n  <tr>\\n    <td class=\"posterColumn\">\\n\\n    <span name=\"rk\" data-value=\"18\"></span>\\n    <span name=\"ir\" data-value=\"8.316340448204064\"></span>\\n    <span name=\"us\" data-value=\"1.4822784E12\"></span>\\n    <span name=\"nv\" data-value=\"155588\"></span>\\n    <span name=\"ur\" data-value=\"-2.6836595517959356\"></span>\\n<a href=\"/title/tt5074352/\"\\n> <img src=\"https://m.media-amazon.com/images/M/MV5BMTQ4MzQzMzM2Nl5BMl5BanBnXkFtZTgwMTQ1NzU3MDI@._V1_UY67_CR1,0,45,67_AL_.jpg\" width=\"45\" height=\"67\" alt=\"Dangal\"/>\\n</a>    </td>\\n    <td class=\"titleColumn\">\\n      18.\\n      <a href=\"/title/tt5074352/\"\\ntitle=\"Nitesh Tiwari (dir.), Aamir Khan, Sakshi Tanwar\" >Dangal</a>\\n        <span class=\"secondaryInfo\">(2016)</span>\\n    </td>\\n    <td class=\"ratingColumn imdbRating\">\\n            <strong title=\"8.3 based on 155,588 user ratings\">8.3</strong>\\n    </td>\\n    <td class=\"ratingColumn\">\\n    <div class=\"seen-widget seen-widget-tt5074352 pending\" data-titleid=\"tt5074352\">\\n        <div class=\"boundary\">\\n            <div class=\"popover\">\\n<span class=\"delete\">&nbsp;</span><ol><li>1<li>2<li>3<li>4<li>5<li>6<li>7<li>8<li>9<li>10</ol>            </div>\\n        </div>\\n        <div class=\"inline\">\\n            <div class=\"pending\"></div>\\n            <div class=\"unseeable\">NOT YET RELEASED</div>\\n            <div class=\"unseen\"> </div>\\n            <div class=\"rating\"></div>\\n            <div class=\"seen\">Seen</div>\\n        </div>\\n    </div>\\n    </td>\\n    <td class=\"watchlistColumn\">\\n        <div class=\"wlb_ribbon\" data-tconst=\"tt5074352\" data-recordmetrics=\"true\"></div>\\n    </td>\\n  </tr>\\n\\n  <tr>\\n    <td class=\"posterColumn\">\\n\\n    <span name=\"rk\" data-value=\"19\"></span>\\n    <span name=\"ir\" data-value=\"8.299614733337192\"></span>\\n    <span name=\"us\" data-value=\"3.7584E10\"></span>\\n    <span name=\"nv\" data-value=\"30041\"></span>\\n    <span name=\"ur\" data-value=\"-2.700385266662808\"></span>\\n<a href=\"/title/tt0066763/\"\\n> <img src=\"https://m.media-amazon.com/images/M/MV5BYmYzNmM2MDctZGY3Yi00NjRiLWIxZjctYjgzYTcxYTNhYTMyXkEyXkFqcGdeQXVyMjUxMTY3ODM@._V1_UY67_CR1,0,45,67_AL_.jpg\" width=\"45\" height=\"67\" alt=\"Anand\"/>\\n</a>    </td>\\n    <td class=\"titleColumn\">\\n      19.\\n      <a href=\"/title/tt0066763/\"\\ntitle=\"Hrishikesh Mukherjee (dir.), Rajesh Khanna, Amitabh Bachchan\" >Anand</a>\\n        <span class=\"secondaryInfo\">(1971)</span>\\n    </td>\\n    <td class=\"ratingColumn imdbRating\">\\n            <strong title=\"8.3 based on 30,041 user ratings\">8.3</strong>\\n    </td>\\n    <td class=\"ratingColumn\">\\n    <div class=\"seen-widget seen-widget-tt0066763 pending\" data-titleid=\"tt0066763\">\\n        <div class=\"boundary\">\\n            <div class=\"popover\">\\n<span class=\"delete\">&nbsp;</span><ol><li>1<li>2<li>3<li>4<li>5<li>6<li>7<li>8<li>9<li>10</ol>            </div>\\n        </div>\\n        <div class=\"inline\">\\n            <div class=\"pending\"></div>\\n            <div class=\"unseeable\">NOT YET RELEASED</div>\\n            <div class=\"unseen\"> </div>\\n            <div class=\"rating\"></div>\\n            <div class=\"seen\">Seen</div>\\n        </div>\\n    </div>\\n    </td>\\n    <td class=\"watchlistColumn\">\\n        <div class=\"wlb_ribbon\" data-tconst=\"tt0066763\" data-recordmetrics=\"true\"></div>\\n    </td>\\n  </tr>\\n\\n  <tr>\\n    <td class=\"posterColumn\">\\n\\n    <span name=\"rk\" data-value=\"20\"></span>\\n    <span name=\"ir\" data-value=\"8.291826487545759\"></span>\\n    <span name=\"us\" data-value=\"6.910272E11\"></span>\\n    <span name=\"nv\" data-value=\"10031\"></span>\\n    <span name=\"ur\" data-value=\"-2.708173512454241\"></span>\\n<a href=\"/title/tt0101649/\"\\n> <img src=\"https://m.media-amazon.com/images/M/MV5BZGE5NzVjNTEtMGUwYi00YzU0LWIyYTctNDc0ZjMxNGNhYzg5XkEyXkFqcGdeQXVyMjMwODI3NDE@._V1_UY67_CR0,0,45,67_AL_.jpg\" width=\"45\" height=\"67\" alt=\"Thalapathi\"/>\\n</a>    </td>\\n    <td class=\"titleColumn\">\\n      20.\\n      <a href=\"/title/tt0101649/\"\\ntitle=\"Mani Ratnam (dir.), Rajinikanth, Mammootty\" >Thalapathi</a>\\n        <span class=\"secondaryInfo\">(1991)</span>\\n    </td>\\n    <td class=\"ratingColumn imdbRating\">\\n            <strong title=\"8.3 based on 10,031 user ratings\">8.3</strong>\\n    </td>\\n    <td class=\"ratingColumn\">\\n    <div class=\"seen-widget seen-widget-tt0101649 pending\" data-titleid=\"tt0101649\">\\n        <div class=\"boundary\">\\n            <div class=\"popover\">\\n<span class=\"delete\">&nbsp;</span><ol><li>1<li>2<li>3<li>4<li>5<li>6<li>7<li>8<li>9<li>10</ol>            </div>\\n        </div>\\n        <div class=\"inline\">\\n            <div class=\"pending\"></div>\\n            <div class=\"unseeable\">NOT YET RELEASED</div>\\n            <div class=\"unseen\"> </div>\\n            <div class=\"rating\"></div>\\n            <div class=\"seen\">Seen</div>\\n        </div>\\n    </div>\\n    </td>\\n    <td class=\"watchlistColumn\">\\n        <div class=\"wlb_ribbon\" data-tconst=\"tt0101649\" data-recordmetrics=\"true\"></div>\\n    </td>\\n  </tr>\\n\\n  <tr>\\n    <td class=\"posterColumn\">\\n\\n    <span name=\"rk\" data-value=\"21\"></span>\\n    <span name=\"ir\" data-value=\"8.28112221451513\"></span>\\n    <span name=\"us\" data-value=\"-4.17312E11\"></span>\\n    <span name=\"nv\" data-value=\"11597\"></span>\\n    <span name=\"ur\" data-value=\"-2.718877785484869\"></span>\\n<a href=\"/title/tt0048956/\"\\n> <img src=\"https://m.media-amazon.com/images/M/MV5BZGFmYTBkYmEtNTNmMi00YWExLWIyY2ItYjYzMjEyMGNjOWFmXkEyXkFqcGdeQXVyNTgyNTA4MjM@._V1_UY67_CR1,0,45,67_AL_.jpg\" width=\"45\" height=\"67\" alt=\"Aparajito\"/>\\n</a>    </td>\\n    <td class=\"titleColumn\">\\n      21.\\n      <a href=\"/title/tt0048956/\"\\ntitle=\"Satyajit Ray (dir.), Pinaki Sengupta, Smaran Ghosal\" >Aparajito</a>\\n        <span class=\"secondaryInfo\">(1956)</span>\\n    </td>\\n    <td class=\"ratingColumn imdbRating\">\\n            <strong title=\"8.3 based on 11,597 user ratings\">8.3</strong>\\n    </td>\\n    <td class=\"ratingColumn\">\\n    <div class=\"seen-widget seen-widget-tt0048956 pending\" data-titleid=\"tt0048956\">\\n        <div class=\"boundary\">\\n            <div class=\"popover\">\\n<span class=\"delete\">&nbsp;</span><ol><li>1<li>2<li>3<li>4<li>5<li>6<li>7<li>8<li>9<li>10</ol>            </div>\\n        </div>\\n        <div class=\"inline\">\\n            <div class=\"pending\"></div>\\n            <div class=\"unseeable\">NOT YET RELEASED</div>\\n            <div class=\"unseen\"> </div>\\n            <div class=\"rating\"></div>\\n            <div class=\"seen\">Seen</div>\\n        </div>\\n    </div>\\n    </td>\\n    <td class=\"watchlistColumn\">\\n        <div class=\"wlb_ribbon\" data-tconst=\"tt0048956\" data-recordmetrics=\"true\"></div>\\n    </td>\\n  </tr>\\n\\n  <tr>\\n    <td class=\"posterColumn\">\\n\\n    <span name=\"rk\" data-value=\"22\"></span>\\n    <span name=\"ir\" data-value=\"8.272793713615878\"></span>\\n    <span name=\"us\" data-value=\"4.294944E11\"></span>\\n    <span name=\"nv\" data-value=\"13160\"></span>\\n    <span name=\"ur\" data-value=\"-2.7272062863841224\"></span>\\n<a href=\"/title/tt0085743/\"\\n> <img src=\"https://m.media-amazon.com/images/M/MV5BMDE0Y2NhYjEtNWM3MS00MzFiLTlkODctYmViY2Q4OTczYWI2XkEyXkFqcGdeQXVyNDUzOTQ5MjY@._V1_UY67_CR3,0,45,67_AL_.jpg\" width=\"45\" height=\"67\" alt=\"Jaane Bhi Do Yaaro\"/>\\n</a>    </td>\\n    <td class=\"titleColumn\">\\n      22.\\n      <a href=\"/title/tt0085743/\"\\ntitle=\"Kundan Shah (dir.), Naseeruddin Shah, Ravi Baswani\" >Jaane Bhi Do Yaaro</a>\\n        <span class=\"secondaryInfo\">(1983)</span>\\n    </td>\\n    <td class=\"ratingColumn imdbRating\">\\n            <strong title=\"8.3 based on 13,160 user ratings\">8.3</strong>\\n    </td>\\n    <td class=\"ratingColumn\">\\n    <div class=\"seen-widget seen-widget-tt0085743 pending\" data-titleid=\"tt0085743\">\\n        <div class=\"boundary\">\\n            <div class=\"popover\">\\n<span class=\"delete\">&nbsp;</span><ol><li>1<li>2<li>3<li>4<li>5<li>6<li>7<li>8<li>9<li>10</ol>            </div>\\n        </div>\\n        <div class=\"inline\">\\n            <div class=\"pending\"></div>\\n            <div class=\"unseeable\">NOT YET RELEASED</div>\\n            <div class=\"unseen\"> </div>\\n            <div class=\"rating\"></div>\\n            <div class=\"seen\">Seen</div>\\n        </div>\\n    </div>\\n    </td>\\n    <td class=\"watchlistColumn\">\\n        <div class=\"wlb_ribbon\" data-tconst=\"tt0085743\" data-recordmetrics=\"true\"></div>\\n    </td>\\n  </tr>\\n\\n  <tr>\\n    <td class=\"posterColumn\">\\n\\n    <span name=\"rk\" data-value=\"23\"></span>\\n    <span name=\"ir\" data-value=\"8.26613853207714\"></span>\\n    <span name=\"us\" data-value=\"1.5699744E12\"></span>\\n    <span name=\"nv\" data-value=\"10679\"></span>\\n    <span name=\"ur\" data-value=\"-2.7338614679228606\"></span>\\n<a href=\"/title/tt9477520/\"\\n> <img src=\"https://m.media-amazon.com/images/M/MV5BMTQ3YWY1MzQtNDA3OC00MDY1LTk3ZmMtMzNjZmFjY2FhYWNhXkEyXkFqcGdeQXVyODIwMDI1NjM@._V1_UY67_CR1,0,45,67_AL_.jpg\" width=\"45\" height=\"67\" alt=\"Asuran\"/>\\n</a>    </td>\\n    <td class=\"titleColumn\">\\n      23.\\n      <a href=\"/title/tt9477520/\"\\ntitle=\"Vetrimaaran (dir.), Dhanush, Manju Warrier\" >Asuran</a>\\n        <span class=\"secondaryInfo\">(2019)</span>\\n    </td>\\n    <td class=\"ratingColumn imdbRating\">\\n            <strong title=\"8.3 based on 10,679 user ratings\">8.3</strong>\\n    </td>\\n    <td class=\"ratingColumn\">\\n    <div class=\"seen-widget seen-widget-tt9477520 pending\" data-titleid=\"tt9477520\">\\n        <div class=\"boundary\">\\n            <div class=\"popover\">\\n<span class=\"delete\">&nbsp;</span><ol><li>1<li>2<li>3<li>4<li>5<li>6<li>7<li>8<li>9<li>10</ol>            </div>\\n        </div>\\n        <div class=\"inline\">\\n            <div class=\"pending\"></div>\\n            <div class=\"unseeable\">NOT YET RELEASED</div>\\n            <div class=\"unseen\"> </div>\\n            <div class=\"rating\"></div>\\n            <div class=\"seen\">Seen</div>\\n        </div>\\n    </div>\\n    </td>\\n    <td class=\"watchlistColumn\">\\n        <div class=\"wlb_ribbon\" data-tconst=\"tt9477520\" data-recordmetrics=\"true\"></div>\\n    </td>\\n  </tr>\\n\\n  <tr>\\n    <td class=\"posterColumn\">\\n\\n    <span name=\"rk\" data-value=\"24\"></span>\\n    <span name=\"ir\" data-value=\"8.265456348330895\"></span>\\n    <span name=\"us\" data-value=\"1.5005088E12\"></span>\\n    <span name=\"nv\" data-value=\"28018\"></span>\\n    <span name=\"ur\" data-value=\"-2.734543651669105\"></span>\\n<a href=\"/title/tt6148156/\"\\n> <img src=\"https://m.media-amazon.com/images/M/MV5BY2FiMTFmMzMtZDI2ZC00NDQyLWExYTUtOWNmZWM1ZDg5YjVjXkEyXkFqcGdeQXVyODIwMDI1NjM@._V1_UX45_CR0,0,45,67_AL_.jpg\" width=\"45\" height=\"67\" alt=\"Vikram Vedha\"/>\\n</a>    </td>\\n    <td class=\"titleColumn\">\\n      24.\\n      <a href=\"/title/tt6148156/\"\\ntitle=\"Gayatri (dir.), Madhavan, Vijay Sethupathi\" >Vikram Vedha</a>\\n        <span class=\"secondaryInfo\">(2017)</span>\\n    </td>\\n    <td class=\"ratingColumn imdbRating\">\\n            <strong title=\"8.3 based on 28,018 user ratings\">8.3</strong>\\n    </td>\\n    <td class=\"ratingColumn\">\\n    <div class=\"seen-widget seen-widget-tt6148156 pending\" data-titleid=\"tt6148156\">\\n        <div class=\"boundary\">\\n            <div class=\"popover\">\\n<span class=\"delete\">&nbsp;</span><ol><li>1<li>2<li>3<li>4<li>5<li>6<li>7<li>8<li>9<li>10</ol>            </div>\\n        </div>\\n        <div class=\"inline\">\\n            <div class=\"pending\"></div>\\n            <div class=\"unseeable\">NOT YET RELEASED</div>\\n            <div class=\"unseen\"> </div>\\n            <div class=\"rating\"></div>\\n            <div class=\"seen\">Seen</div>\\n        </div>\\n    </div>\\n    </td>\\n    <td class=\"watchlistColumn\">\\n        <div class=\"wlb_ribbon\" data-tconst=\"tt6148156\" data-recordmetrics=\"true\"></div>\\n    </td>\\n  </tr>\\n\\n  <tr>\\n    <td class=\"posterColumn\">\\n\\n    <span name=\"rk\" data-value=\"25\"></span>\\n    <span name=\"ir\" data-value=\"8.262139417329632\"></span>\\n    <span name=\"us\" data-value=\"-4.059936E11\"></span>\\n    <span name=\"nv\" data-value=\"5503\"></span>\\n    <span name=\"ur\" data-value=\"-2.7378605826703684\"></span>\\n<a href=\"/title/tt0050870/\"\\n> <img src=\"https://m.media-amazon.com/images/M/MV5BMjAwOGI2YjAtM2I1Yi00MzkyLThiMjMtOTljZDkxOTgxMTY2XkEyXkFqcGdeQXVyNjc5Mjg4Nzc@._V1_UX45_CR0,0,45,67_AL_.jpg\" width=\"45\" height=\"67\" alt=\"Pyaasa\"/>\\n</a>    </td>\\n    <td class=\"titleColumn\">\\n      25.\\n      <a href=\"/title/tt0050870/\"\\ntitle=\"Guru Dutt (dir.), Guru Dutt, Waheeda Rehman\" >Pyaasa</a>\\n        <span class=\"secondaryInfo\">(1957)</span>\\n    </td>\\n    <td class=\"ratingColumn imdbRating\">\\n            <strong title=\"8.3 based on 5,503 user ratings\">8.3</strong>\\n    </td>\\n    <td class=\"ratingColumn\">\\n    <div class=\"seen-widget seen-widget-tt0050870 pending\" data-titleid=\"tt0050870\">\\n        <div class=\"boundary\">\\n            <div class=\"popover\">\\n<span class=\"delete\">&nbsp;</span><ol><li>1<li>2<li>3<li>4<li>5<li>6<li>7<li>8<li>9<li>10</ol>            </div>\\n        </div>\\n        <div class=\"inline\">\\n            <div class=\"pending\"></div>\\n            <div class=\"unseeable\">NOT YET RELEASED</div>\\n            <div class=\"unseen\"> </div>\\n            <div class=\"rating\"></div>\\n            <div class=\"seen\">Seen</div>\\n        </div>\\n    </div>\\n    </td>\\n    <td class=\"watchlistColumn\">\\n        <div class=\"wlb_ribbon\" data-tconst=\"tt0050870\" data-recordmetrics=\"true\"></div>\\n    </td>\\n  </tr>\\n\\n  <tr>\\n    <td class=\"posterColumn\">\\n\\n    <span name=\"rk\" data-value=\"26\"></span>\\n    <span name=\"ir\" data-value=\"8.259991690329386\"></span>\\n    <span name=\"us\" data-value=\"-1.54656E11\"></span>\\n    <span name=\"nv\" data-value=\"7393\"></span>\\n    <span name=\"ur\" data-value=\"-2.740008309670614\"></span>\\n<a href=\"/title/tt0059246/\"\\n> <img src=\"https://m.media-amazon.com/images/M/MV5BOTM4ZjhiNGItMzE2My00YjM0LWE5ZTEtYTA5NDMzZDJlOWQ3XkEyXkFqcGdeQXVyODMyODMxNDY@._V1_UY67_CR1,0,45,67_AL_.jpg\" width=\"45\" height=\"67\" alt=\"Guide\"/>\\n</a>    </td>\\n    <td class=\"titleColumn\">\\n      26.\\n      <a href=\"/title/tt0059246/\"\\ntitle=\"Vijay Anand (dir.), Dev Anand, Waheeda Rehman\" >Guide</a>\\n        <span class=\"secondaryInfo\">(1965)</span>\\n    </td>\\n    <td class=\"ratingColumn imdbRating\">\\n            <strong title=\"8.3 based on 7,393 user ratings\">8.3</strong>\\n    </td>\\n    <td class=\"ratingColumn\">\\n    <div class=\"seen-widget seen-widget-tt0059246 pending\" data-titleid=\"tt0059246\">\\n        <div class=\"boundary\">\\n            <div class=\"popover\">\\n<span class=\"delete\">&nbsp;</span><ol><li>1<li>2<li>3<li>4<li>5<li>6<li>7<li>8<li>9<li>10</ol>            </div>\\n        </div>\\n        <div class=\"inline\">\\n            <div class=\"pending\"></div>\\n            <div class=\"unseeable\">NOT YET RELEASED</div>\\n            <div class=\"unseen\"> </div>\\n            <div class=\"rating\"></div>\\n            <div class=\"seen\">Seen</div>\\n        </div>\\n    </div>\\n    </td>\\n    <td class=\"watchlistColumn\">\\n        <div class=\"wlb_ribbon\" data-tconst=\"tt0059246\" data-recordmetrics=\"true\"></div>\\n    </td>\\n  </tr>\\n\\n  <tr>\\n    <td class=\"posterColumn\">\\n\\n    <span name=\"rk\" data-value=\"27\"></span>\\n    <span name=\"ir\" data-value=\"8.249121651229887\"></span>\\n    <span name=\"us\" data-value=\"1.0136448E12\"></span>\\n    <span name=\"nv\" data-value=\"7425\"></span>\\n    <span name=\"ur\" data-value=\"-2.7508783487701134\"></span>\\n<a href=\"/title/tt0312859/\"\\n> <img src=\"https://m.media-amazon.com/images/M/MV5BMTQ0YmIzOGQtNGMwNS00ODE0LTg3NjAtY2UxYzU0ODdjZTIwXkEyXkFqcGdeQXVyOTk3NTc2MzE@._V1_UX45_CR0,0,45,67_AL_.jpg\" width=\"45\" height=\"67\" alt=\"Kannathil Muthamittal\"/>\\n</a>    </td>\\n    <td class=\"titleColumn\">\\n      27.\\n      <a href=\"/title/tt0312859/\"\\ntitle=\"Mani Ratnam (dir.), Madhavan, Simran\" >Kannathil Muthamittal</a>\\n        <span class=\"secondaryInfo\">(2002)</span>\\n    </td>\\n    <td class=\"ratingColumn imdbRating\">\\n            <strong title=\"8.2 based on 7,425 user ratings\">8.2</strong>\\n    </td>\\n    <td class=\"ratingColumn\">\\n    <div class=\"seen-widget seen-widget-tt0312859 pending\" data-titleid=\"tt0312859\">\\n        <div class=\"boundary\">\\n            <div class=\"popover\">\\n<span class=\"delete\">&nbsp;</span><ol><li>1<li>2<li>3<li>4<li>5<li>6<li>7<li>8<li>9<li>10</ol>            </div>\\n        </div>\\n        <div class=\"inline\">\\n            <div class=\"pending\"></div>\\n            <div class=\"unseeable\">NOT YET RELEASED</div>\\n            <div class=\"unseen\"> </div>\\n            <div class=\"rating\"></div>\\n            <div class=\"seen\">Seen</div>\\n        </div>\\n    </div>\\n    </td>\\n    <td class=\"watchlistColumn\">\\n        <div class=\"wlb_ribbon\" data-tconst=\"tt0312859\" data-recordmetrics=\"true\"></div>\\n    </td>\\n  </tr>\\n\\n  <tr>\\n    <td class=\"posterColumn\">\\n\\n    <span name=\"rk\" data-value=\"28\"></span>\\n    <span name=\"ir\" data-value=\"8.246447513688622\"></span>\\n    <span name=\"us\" data-value=\"1.664064E11\"></span>\\n    <span name=\"nv\" data-value=\"11599\"></span>\\n    <span name=\"ur\" data-value=\"-2.753552486311378\"></span>\\n<a href=\"/title/tt0072783/\"\\n> <img src=\"https://m.media-amazon.com/images/M/MV5BMjAzMjMzMzU2N15BMl5BanBnXkFtZTgwMDkxOTE3NDE@._V1_UY67_CR2,0,45,67_AL_.jpg\" width=\"45\" height=\"67\" alt=\"Chupke Chupke\"/>\\n</a>    </td>\\n    <td class=\"titleColumn\">\\n      28.\\n      <a href=\"/title/tt0072783/\"\\ntitle=\"Hrishikesh Mukherjee (dir.), Dharmendra, Sharmila Tagore\" >Chupke Chupke</a>\\n        <span class=\"secondaryInfo\">(1975)</span>\\n    </td>\\n    <td class=\"ratingColumn imdbRating\">\\n            <strong title=\"8.2 based on 11,599 user ratings\">8.2</strong>\\n    </td>\\n    <td class=\"ratingColumn\">\\n    <div class=\"seen-widget seen-widget-tt0072783 pending\" data-titleid=\"tt0072783\">\\n        <div class=\"boundary\">\\n            <div class=\"popover\">\\n<span class=\"delete\">&nbsp;</span><ol><li>1<li>2<li>3<li>4<li>5<li>6<li>7<li>8<li>9<li>10</ol>            </div>\\n        </div>\\n        <div class=\"inline\">\\n            <div class=\"pending\"></div>\\n            <div class=\"unseeable\">NOT YET RELEASED</div>\\n            <div class=\"unseen\"> </div>\\n            <div class=\"rating\"></div>\\n            <div class=\"seen\">Seen</div>\\n        </div>\\n    </div>\\n    </td>\\n    <td class=\"watchlistColumn\">\\n        <div class=\"wlb_ribbon\" data-tconst=\"tt0072783\" data-recordmetrics=\"true\"></div>\\n    </td>\\n  </tr>\\n\\n  <tr>\\n    <td class=\"posterColumn\">\\n\\n    <span name=\"rk\" data-value=\"29\"></span>\\n    <span name=\"ir\" data-value=\"8.243923801936784\"></span>\\n    <span name=\"us\" data-value=\"1.5718752E12\"></span>\\n    <span name=\"nv\" data-value=\"11689\"></span>\\n    <span name=\"ur\" data-value=\"-2.756076198063216\"></span>\\n<a href=\"/title/tt9900782/\"\\n> <img src=\"https://m.media-amazon.com/images/M/MV5BMzNjMDhmYzEtM2YxOC00NzZjLThkODctZjI4M2UyOWIyOTZmXkEyXkFqcGdeQXVyNzcxMzI4Njk@._V1_UX45_CR0,0,45,67_AL_.jpg\" width=\"45\" height=\"67\" alt=\"Kaithi\"/>\\n</a>    </td>\\n    <td class=\"titleColumn\">\\n      29.\\n      <a href=\"/title/tt9900782/\"\\ntitle=\"Lokesh Kanagaraj (dir.), Karthi, Narain\" >Kaithi</a>\\n        <span class=\"secondaryInfo\">(2019)</span>\\n    </td>\\n    <td class=\"ratingColumn imdbRating\">\\n            <strong title=\"8.2 based on 11,689 user ratings\">8.2</strong>\\n    </td>\\n    <td class=\"ratingColumn\">\\n    <div class=\"seen-widget seen-widget-tt9900782 pending\" data-titleid=\"tt9900782\">\\n        <div class=\"boundary\">\\n            <div class=\"popover\">\\n<span class=\"delete\">&nbsp;</span><ol><li>1<li>2<li>3<li>4<li>5<li>6<li>7<li>8<li>9<li>10</ol>            </div>\\n        </div>\\n        <div class=\"inline\">\\n            <div class=\"pending\"></div>\\n            <div class=\"unseeable\">NOT YET RELEASED</div>\\n            <div class=\"unseen\"> </div>\\n            <div class=\"rating\"></div>\\n            <div class=\"seen\">Seen</div>\\n        </div>\\n    </div>\\n    </td>\\n    <td class=\"watchlistColumn\">\\n        <div class=\"wlb_ribbon\" data-tconst=\"tt9900782\" data-recordmetrics=\"true\"></div>\\n    </td>\\n  </tr>\\n\\n  <tr>\\n    <td class=\"posterColumn\">\\n\\n    <span name=\"rk\" data-value=\"30\"></span>\\n    <span name=\"ir\" data-value=\"8.24256165868214\"></span>\\n    <span name=\"us\" data-value=\"1.5555456E12\"></span>\\n    <span name=\"nv\" data-value=\"8067\"></span>\\n    <span name=\"ur\" data-value=\"-2.75743834131786\"></span>\\n<a href=\"/title/tt8948790/\"\\n> <img src=\"https://m.media-amazon.com/images/M/MV5BYjc0MWFiYTMtNmYyOS00ODczLWEyMzItNzI4YjY0YjJjZGVjXkEyXkFqcGdeQXVyNzEwNjg3MjE@._V1_UY67_CR1,0,45,67_AL_.jpg\" width=\"45\" height=\"67\" alt=\"Jersey\"/>\\n</a>    </td>\\n    <td class=\"titleColumn\">\\n      30.\\n      <a href=\"/title/tt8948790/\"\\ntitle=\"Gowtam Tinnanuri (dir.), Nani, Shraddha Srinath\" >Jersey</a>\\n        <span class=\"secondaryInfo\">(2019)</span>\\n    </td>\\n    <td class=\"ratingColumn imdbRating\">\\n            <strong title=\"8.2 based on 8,067 user ratings\">8.2</strong>\\n    </td>\\n    <td class=\"ratingColumn\">\\n    <div class=\"seen-widget seen-widget-tt8948790 pending\" data-titleid=\"tt8948790\">\\n        <div class=\"boundary\">\\n            <div class=\"popover\">\\n<span class=\"delete\">&nbsp;</span><ol><li>1<li>2<li>3<li>4<li>5<li>6<li>7<li>8<li>9<li>10</ol>            </div>\\n        </div>\\n        <div class=\"inline\">\\n            <div class=\"pending\"></div>\\n            <div class=\"unseeable\">NOT YET RELEASED</div>\\n            <div class=\"unseen\"> </div>\\n            <div class=\"rating\"></div>\\n            <div class=\"seen\">Seen</div>\\n        </div>\\n    </div>\\n    </td>\\n    <td class=\"watchlistColumn\">\\n        <div class=\"wlb_ribbon\" data-tconst=\"tt8948790\" data-recordmetrics=\"true\"></div>\\n    </td>\\n  </tr>\\n\\n  <tr>\\n    <td class=\"posterColumn\">\\n\\n    <span name=\"rk\" data-value=\"31\"></span>\\n    <span name=\"ir\" data-value=\"8.230890122379533\"></span>\\n    <span name=\"us\" data-value=\"1.44072E12\"></span>\\n    <span name=\"nv\" data-value=\"16591\"></span>\\n    <span name=\"ur\" data-value=\"-2.7691098776204672\"></span>\\n<a href=\"/title/tt4987556/\"\\n> <img src=\"https://m.media-amazon.com/images/M/MV5BMzgwZjcyZjItN2Q5Mi00NTM3LTg0YmMtMmQ2NmVmY2Y4MzY0XkEyXkFqcGdeQXVyOTA0NTIzNzU@._V1_UX45_CR0,0,45,67_AL_.jpg\" width=\"45\" height=\"67\" alt=\"Thani Oruvan\"/>\\n</a>    </td>\\n    <td class=\"titleColumn\">\\n      31.\\n      <a href=\"/title/tt4987556/\"\\ntitle=\"Mohan Raja (dir.), Jayam Ravi, Arvind Swamy\" >Thani Oruvan</a>\\n        <span class=\"secondaryInfo\">(2015)</span>\\n    </td>\\n    <td class=\"ratingColumn imdbRating\">\\n            <strong title=\"8.2 based on 16,591 user ratings\">8.2</strong>\\n    </td>\\n    <td class=\"ratingColumn\">\\n    <div class=\"seen-widget seen-widget-tt4987556 pending\" data-titleid=\"tt4987556\">\\n        <div class=\"boundary\">\\n            <div class=\"popover\">\\n<span class=\"delete\">&nbsp;</span><ol><li>1<li>2<li>3<li>4<li>5<li>6<li>7<li>8<li>9<li>10</ol>            </div>\\n        </div>\\n        <div class=\"inline\">\\n            <div class=\"pending\"></div>\\n            <div class=\"unseeable\">NOT YET RELEASED</div>\\n            <div class=\"unseen\"> </div>\\n            <div class=\"rating\"></div>\\n            <div class=\"seen\">Seen</div>\\n        </div>\\n    </div>\\n    </td>\\n    <td class=\"watchlistColumn\">\\n        <div class=\"wlb_ribbon\" data-tconst=\"tt4987556\" data-recordmetrics=\"true\"></div>\\n    </td>\\n  </tr>\\n\\n  <tr>\\n    <td class=\"posterColumn\">\\n\\n    <span name=\"rk\" data-value=\"32\"></span>\\n    <span name=\"ir\" data-value=\"8.221808321806853\"></span>\\n    <span name=\"us\" data-value=\"1.5393024E12\"></span>\\n    <span name=\"nv\" data-value=\"10850\"></span>\\n    <span name=\"ur\" data-value=\"-2.7781916781931475\"></span>\\n<a href=\"/title/tt5959980/\"\\n> <img src=\"https://m.media-amazon.com/images/M/MV5BYTA4Yjc1OTgtODU3YS00MTQ5LTljM2EtN2JiYzI2MmI2MmVkXkEyXkFqcGdeQXVyODIwMDI1NjM@._V1_UY67_CR1,0,45,67_AL_.jpg\" width=\"45\" height=\"67\" alt=\"Vada Chennai\"/>\\n</a>    </td>\\n    <td class=\"titleColumn\">\\n      32.\\n      <a href=\"/title/tt5959980/\"\\ntitle=\"Vetrimaaran (dir.), Dhanush, Ameer Sultan\" >Vada Chennai</a>\\n        <span class=\"secondaryInfo\">(2018)</span>\\n    </td>\\n    <td class=\"ratingColumn imdbRating\">\\n            <strong title=\"8.2 based on 10,850 user ratings\">8.2</strong>\\n    </td>\\n    <td class=\"ratingColumn\">\\n    <div class=\"seen-widget seen-widget-tt5959980 pending\" data-titleid=\"tt5959980\">\\n        <div class=\"boundary\">\\n            <div class=\"popover\">\\n<span class=\"delete\">&nbsp;</span><ol><li>1<li>2<li>3<li>4<li>5<li>6<li>7<li>8<li>9<li>10</ol>            </div>\\n        </div>\\n        <div class=\"inline\">\\n            <div class=\"pending\"></div>\\n            <div class=\"unseeable\">NOT YET RELEASED</div>\\n            <div class=\"unseen\"> </div>\\n            <div class=\"rating\"></div>\\n            <div class=\"seen\">Seen</div>\\n        </div>\\n    </div>\\n    </td>\\n    <td class=\"watchlistColumn\">\\n        <div class=\"wlb_ribbon\" data-tconst=\"tt5959980\" data-recordmetrics=\"true\"></div>\\n    </td>\\n  </tr>\\n\\n  <tr>\\n    <td class=\"posterColumn\">\\n\\n    <span name=\"rk\" data-value=\"33\"></span>\\n    <span name=\"ir\" data-value=\"8.217235061488253\"></span>\\n    <span name=\"us\" data-value=\"1.6050528E12\"></span>\\n    <span name=\"nv\" data-value=\"53413\"></span>\\n    <span name=\"ur\" data-value=\"-2.7827649385117468\"></span>\\n<a href=\"/title/tt10189514/\"\\n> <img src=\"https://m.media-amazon.com/images/M/MV5BOTc2ZTlmYmItMDBhYS00YmMzLWI4ZjAtMTI5YTBjOTFiMGEwXkEyXkFqcGdeQXVyODE5NzE3OTE@._V1_UY67_CR0,0,45,67_AL_.jpg\" width=\"45\" height=\"67\" alt=\"Soorarai Pottru\"/>\\n</a>    </td>\\n    <td class=\"titleColumn\">\\n      33.\\n      <a href=\"/title/tt10189514/\"\\ntitle=\"Sudha Kongara (dir.), Madhavan, Suriya\" >Soorarai Pottru</a>\\n        <span class=\"secondaryInfo\">(2020)</span>\\n    </td>\\n    <td class=\"ratingColumn imdbRating\">\\n            <strong title=\"8.2 based on 53,413 user ratings\">8.2</strong>\\n    </td>\\n    <td class=\"ratingColumn\">\\n    <div class=\"seen-widget seen-widget-tt10189514 pending\" data-titleid=\"tt10189514\">\\n        <div class=\"boundary\">\\n            <div class=\"popover\">\\n<span class=\"delete\">&nbsp;</span><ol><li>1<li>2<li>3<li>4<li>5<li>6<li>7<li>8<li>9<li>10</ol>            </div>\\n        </div>\\n        <div class=\"inline\">\\n            <div class=\"pending\"></div>\\n            <div class=\"unseeable\">NOT YET RELEASED</div>\\n            <div class=\"unseen\"> </div>\\n            <div class=\"rating\"></div>\\n            <div class=\"seen\">Seen</div>\\n        </div>\\n    </div>\\n    </td>\\n    <td class=\"watchlistColumn\">\\n        <div class=\"wlb_ribbon\" data-tconst=\"tt10189514\" data-recordmetrics=\"true\"></div>\\n    </td>\\n  </tr>\\n\\n  <tr>\\n    <td class=\"posterColumn\">\\n\\n    <span name=\"rk\" data-value=\"34\"></span>\\n    <span name=\"ir\" data-value=\"8.206254644970759\"></span>\\n    <span name=\"us\" data-value=\"1.3874112E12\"></span>\\n    <span name=\"nv\" data-value=\"30632\"></span>\\n    <span name=\"ur\" data-value=\"-2.793745355029241\"></span>\\n<a href=\"/title/tt3417422/\"\\n> <img src=\"https://m.media-amazon.com/images/M/MV5BYmY3MzYwMGUtOWMxYS00OGVhLWFjNmUtYzlkNGVmY2ZkMjA3XkEyXkFqcGdeQXVyMTExNDQ2MTI@._V1_UY67_CR3,0,45,67_AL_.jpg\" width=\"45\" height=\"67\" alt=\"Drishyam\"/>\\n</a>    </td>\\n    <td class=\"titleColumn\">\\n      34.\\n      <a href=\"/title/tt3417422/\"\\ntitle=\"Jeethu Joseph (dir.), Mohanlal, Meena\" >Drishyam</a>\\n        <span class=\"secondaryInfo\">(2013)</span>\\n    </td>\\n    <td class=\"ratingColumn imdbRating\">\\n            <strong title=\"8.2 based on 30,632 user ratings\">8.2</strong>\\n    </td>\\n    <td class=\"ratingColumn\">\\n    <div class=\"seen-widget seen-widget-tt3417422 pending\" data-titleid=\"tt3417422\">\\n        <div class=\"boundary\">\\n            <div class=\"popover\">\\n<span class=\"delete\">&nbsp;</span><ol><li>1<li>2<li>3<li>4<li>5<li>6<li>7<li>8<li>9<li>10</ol>            </div>\\n        </div>\\n        <div class=\"inline\">\\n            <div class=\"pending\"></div>\\n            <div class=\"unseeable\">NOT YET RELEASED</div>\\n            <div class=\"unseen\"> </div>\\n            <div class=\"rating\"></div>\\n            <div class=\"seen\">Seen</div>\\n        </div>\\n    </div>\\n    </td>\\n    <td class=\"watchlistColumn\">\\n        <div class=\"wlb_ribbon\" data-tconst=\"tt3417422\" data-recordmetrics=\"true\"></div>\\n    </td>\\n  </tr>\\n\\n  <tr>\\n    <td class=\"posterColumn\">\\n\\n    <span name=\"rk\" data-value=\"35\"></span>\\n    <span name=\"ir\" data-value=\"8.205087744416904\"></span>\\n    <span name=\"us\" data-value=\"1.1588832E12\"></span>\\n    <span name=\"nv\" data-value=\"22218\"></span>\\n    <span name=\"ur\" data-value=\"-2.794912255583096\"></span>\\n<a href=\"/title/tt0466460/\"\\n> <img src=\"https://m.media-amazon.com/images/M/MV5BZTg2YWFkOGMtYWExMy00YmFiLTk2YjctNTAzZDk5MjdhMzdlXkEyXkFqcGdeQXVyNjQ2MjQ5NzM@._V1_UY67_CR1,0,45,67_AL_.jpg\" width=\"45\" height=\"67\" alt=\"Khosla Ka Ghosla!\"/>\\n</a>    </td>\\n    <td class=\"titleColumn\">\\n      35.\\n      <a href=\"/title/tt0466460/\"\\ntitle=\"Dibakar Banerjee (dir.), Anupam Kher, Boman Irani\" >Khosla Ka Ghosla!</a>\\n        <span class=\"secondaryInfo\">(2006)</span>\\n    </td>\\n    <td class=\"ratingColumn imdbRating\">\\n            <strong title=\"8.2 based on 22,218 user ratings\">8.2</strong>\\n    </td>\\n    <td class=\"ratingColumn\">\\n    <div class=\"seen-widget seen-widget-tt0466460 pending\" data-titleid=\"tt0466460\">\\n        <div class=\"boundary\">\\n            <div class=\"popover\">\\n<span class=\"delete\">&nbsp;</span><ol><li>1<li>2<li>3<li>4<li>5<li>6<li>7<li>8<li>9<li>10</ol>            </div>\\n        </div>\\n        <div class=\"inline\">\\n            <div class=\"pending\"></div>\\n            <div class=\"unseeable\">NOT YET RELEASED</div>\\n            <div class=\"unseen\"> </div>\\n            <div class=\"rating\"></div>\\n            <div class=\"seen\">Seen</div>\\n        </div>\\n    </div>\\n    </td>\\n    <td class=\"watchlistColumn\">\\n        <div class=\"wlb_ribbon\" data-tconst=\"tt0466460\" data-recordmetrics=\"true\"></div>\\n    </td>\\n  </tr>\\n\\n  <tr>\\n    <td class=\"posterColumn\">\\n\\n    <span name=\"rk\" data-value=\"36\"></span>\\n    <span name=\"ir\" data-value=\"8.204445536496458\"></span>\\n    <span name=\"us\" data-value=\"1.4658624E12\"></span>\\n    <span name=\"nv\" data-value=\"10864\"></span>\\n    <span name=\"ur\" data-value=\"-2.7955544635035423\"></span>\\n<a href=\"/title/tt5867800/\"\\n> <img src=\"https://m.media-amazon.com/images/M/MV5BZjVlY2E0ODAtNTZmNS00YzI0LTk2NzUtMWZkM2I2YjFkZWY5XkEyXkFqcGdeQXVyOTk3NTc2MzE@._V1_UX45_CR0,0,45,67_AL_.jpg\" width=\"45\" height=\"67\" alt=\"Aruvi\"/>\\n</a>    </td>\\n    <td class=\"titleColumn\">\\n      36.\\n      <a href=\"/title/tt5867800/\"\\ntitle=\"Arun Prabhu Purushothaman (dir.), Aditi Balan, Padmashri Mohammad Ali\" >Aruvi</a>\\n        <span class=\"secondaryInfo\">(2016)</span>\\n    </td>\\n    <td class=\"ratingColumn imdbRating\">\\n            <strong title=\"8.2 based on 10,864 user ratings\">8.2</strong>\\n    </td>\\n    <td class=\"ratingColumn\">\\n    <div class=\"seen-widget seen-widget-tt5867800 pending\" data-titleid=\"tt5867800\">\\n        <div class=\"boundary\">\\n            <div class=\"popover\">\\n<span class=\"delete\">&nbsp;</span><ol><li>1<li>2<li>3<li>4<li>5<li>6<li>7<li>8<li>9<li>10</ol>            </div>\\n        </div>\\n        <div class=\"inline\">\\n            <div class=\"pending\"></div>\\n            <div class=\"unseeable\">NOT YET RELEASED</div>\\n            <div class=\"unseen\"> </div>\\n            <div class=\"rating\"></div>\\n            <div class=\"seen\">Seen</div>\\n        </div>\\n    </div>\\n    </td>\\n    <td class=\"watchlistColumn\">\\n        <div class=\"wlb_ribbon\" data-tconst=\"tt5867800\" data-recordmetrics=\"true\"></div>\\n    </td>\\n  </tr>\\n\\n  <tr>\\n    <td class=\"posterColumn\">\\n\\n    <span name=\"rk\" data-value=\"37\"></span>\\n    <span name=\"ir\" data-value=\"8.197616035372262\"></span>\\n    <span name=\"us\" data-value=\"1.5170112E12\"></span>\\n    <span name=\"nv\" data-value=\"12456\"></span>\\n    <span name=\"ur\" data-value=\"-2.8023839646277384\"></span>\\n<a href=\"/title/tt7738784/\"\\n> <img src=\"https://m.media-amazon.com/images/M/MV5BYTJmYWE1ZDQtMDVmYi00NDg5LWI2ZDYtMjc0ZmY2YmQyODQ0XkEyXkFqcGdeQXVyODM1ODM4OTc@._V1_UY67_CR3,0,45,67_AL_.jpg\" width=\"45\" height=\"67\" alt=\"Peranbu\"/>\\n</a>    </td>\\n    <td class=\"titleColumn\">\\n      37.\\n      <a href=\"/title/tt7738784/\"\\ntitle=\"Ram (dir.), Mammootty, Sadhana\" >Peranbu</a>\\n        <span class=\"secondaryInfo\">(2018)</span>\\n    </td>\\n    <td class=\"ratingColumn imdbRating\">\\n            <strong title=\"8.2 based on 12,456 user ratings\">8.2</strong>\\n    </td>\\n    <td class=\"ratingColumn\">\\n    <div class=\"seen-widget seen-widget-tt7738784 pending\" data-titleid=\"tt7738784\">\\n        <div class=\"boundary\">\\n            <div class=\"popover\">\\n<span class=\"delete\">&nbsp;</span><ol><li>1<li>2<li>3<li>4<li>5<li>6<li>7<li>8<li>9<li>10</ol>            </div>\\n        </div>\\n        <div class=\"inline\">\\n            <div class=\"pending\"></div>\\n            <div class=\"unseeable\">NOT YET RELEASED</div>\\n            <div class=\"unseen\"> </div>\\n            <div class=\"rating\"></div>\\n            <div class=\"seen\">Seen</div>\\n        </div>\\n    </div>\\n    </td>\\n    <td class=\"watchlistColumn\">\\n        <div class=\"wlb_ribbon\" data-tconst=\"tt7738784\" data-recordmetrics=\"true\"></div>\\n    </td>\\n  </tr>\\n\\n  <tr>\\n    <td class=\"posterColumn\">\\n\\n    <span name=\"rk\" data-value=\"38\"></span>\\n    <span name=\"ir\" data-value=\"8.193578408885173\"></span>\\n    <span name=\"us\" data-value=\"1.5537312E12\"></span>\\n    <span name=\"nv\" data-value=\"9590\"></span>\\n    <span name=\"ur\" data-value=\"-2.8064215911148267\"></span>\\n<a href=\"/title/tt7019942/\"\\n> <img src=\"https://m.media-amazon.com/images/M/MV5BYjcwMTcxMjQtY2E3Ny00NDk2LWE4MTYtMDg0MDNlZTE2ZTYyXkEyXkFqcGdeQXVyMjkxNzQ1NDI@._V1_UY67_CR2,0,45,67_AL_.jpg\" width=\"45\" height=\"67\" alt=\"Super Deluxe\"/>\\n</a>    </td>\\n    <td class=\"titleColumn\">\\n      38.\\n      <a href=\"/title/tt7019942/\"\\ntitle=\"Thiagarajan Kumararaja (dir.), Vijay Sethupathi, Fahadh Faasil\" >Super Deluxe</a>\\n        <span class=\"secondaryInfo\">(2019)</span>\\n    </td>\\n    <td class=\"ratingColumn imdbRating\">\\n            <strong title=\"8.2 based on 9,590 user ratings\">8.2</strong>\\n    </td>\\n    <td class=\"ratingColumn\">\\n    <div class=\"seen-widget seen-widget-tt7019942 pending\" data-titleid=\"tt7019942\">\\n        <div class=\"boundary\">\\n            <div class=\"popover\">\\n<span class=\"delete\">&nbsp;</span><ol><li>1<li>2<li>3<li>4<li>5<li>6<li>7<li>8<li>9<li>10</ol>            </div>\\n        </div>\\n        <div class=\"inline\">\\n            <div class=\"pending\"></div>\\n            <div class=\"unseeable\">NOT YET RELEASED</div>\\n            <div class=\"unseen\"> </div>\\n            <div class=\"rating\"></div>\\n            <div class=\"seen\">Seen</div>\\n        </div>\\n    </div>\\n    </td>\\n    <td class=\"watchlistColumn\">\\n        <div class=\"wlb_ribbon\" data-tconst=\"tt7019942\" data-recordmetrics=\"true\"></div>\\n    </td>\\n  </tr>\\n\\n  <tr>\\n    <td class=\"posterColumn\">\\n\\n    <span name=\"rk\" data-value=\"39\"></span>\\n    <span name=\"ir\" data-value=\"8.182552133563227\"></span>\\n    <span name=\"us\" data-value=\"1.537488E12\"></span>\\n    <span name=\"nv\" data-value=\"27422\"></span>\\n    <span name=\"ur\" data-value=\"-2.8174478664367726\"></span>\\n<a href=\"/title/tt8239946/\"\\n> <img src=\"https://m.media-amazon.com/images/M/MV5BYmQxNmU4ZjgtYzE5Mi00ZDlhLTlhOTctMzJkNjk2ZGUyZGEwXkEyXkFqcGdeQXVyMzgxMDA0Nzk@._V1_UY67_CR1,0,45,67_AL_.jpg\" width=\"45\" height=\"67\" alt=\"Tumbbad\"/>\\n</a>    </td>\\n    <td class=\"titleColumn\">\\n      39.\\n      <a href=\"/title/tt8239946/\"\\ntitle=\"Rahi Anil Barve (dir.), Sohum Shah, Jyoti Malshe\" >Tumbbad</a>\\n        <span class=\"secondaryInfo\">(2018)</span>\\n    </td>\\n    <td class=\"ratingColumn imdbRating\">\\n            <strong title=\"8.2 based on 27,422 user ratings\">8.2</strong>\\n    </td>\\n    <td class=\"ratingColumn\">\\n    <div class=\"seen-widget seen-widget-tt8239946 pending\" data-titleid=\"tt8239946\">\\n        <div class=\"boundary\">\\n            <div class=\"popover\">\\n<span class=\"delete\">&nbsp;</span><ol><li>1<li>2<li>3<li>4<li>5<li>6<li>7<li>8<li>9<li>10</ol>            </div>\\n        </div>\\n        <div class=\"inline\">\\n            <div class=\"pending\"></div>\\n            <div class=\"unseeable\">NOT YET RELEASED</div>\\n            <div class=\"unseen\"> </div>\\n            <div class=\"rating\"></div>\\n            <div class=\"seen\">Seen</div>\\n        </div>\\n    </div>\\n    </td>\\n    <td class=\"watchlistColumn\">\\n        <div class=\"wlb_ribbon\" data-tconst=\"tt8239946\" data-recordmetrics=\"true\"></div>\\n    </td>\\n  </tr>\\n\\n  <tr>\\n    <td class=\"posterColumn\">\\n\\n    <span name=\"rk\" data-value=\"40\"></span>\\n    <span name=\"ir\" data-value=\"8.182404965368905\"></span>\\n    <span name=\"us\" data-value=\"1.5386112E12\"></span>\\n    <span name=\"nv\" data-value=\"71226\"></span>\\n    <span name=\"ur\" data-value=\"-2.817595034631095\"></span>\\n<a href=\"/title/tt8108198/\"\\n> <img src=\"https://m.media-amazon.com/images/M/MV5BZWZhMjhhZmYtOTIzOC00MGYzLWI1OGYtM2ZkN2IxNTI4ZWI3XkEyXkFqcGdeQXVyNDAzNDk0MTQ@._V1_UY67_CR0,0,45,67_AL_.jpg\" width=\"45\" height=\"67\" alt=\"Andhadhun\"/>\\n</a>    </td>\\n    <td class=\"titleColumn\">\\n      40.\\n      <a href=\"/title/tt8108198/\"\\ntitle=\"Sriram Raghavan (dir.), Ayushmann Khurrana, Tabu\" >Andhadhun</a>\\n        <span class=\"secondaryInfo\">(2018)</span>\\n    </td>\\n    <td class=\"ratingColumn imdbRating\">\\n            <strong title=\"8.2 based on 71,226 user ratings\">8.2</strong>\\n    </td>\\n    <td class=\"ratingColumn\">\\n    <div class=\"seen-widget seen-widget-tt8108198 pending\" data-titleid=\"tt8108198\">\\n        <div class=\"boundary\">\\n            <div class=\"popover\">\\n<span class=\"delete\">&nbsp;</span><ol><li>1<li>2<li>3<li>4<li>5<li>6<li>7<li>8<li>9<li>10</ol>            </div>\\n        </div>\\n        <div class=\"inline\">\\n            <div class=\"pending\"></div>\\n            <div class=\"unseeable\">NOT YET RELEASED</div>\\n            <div class=\"unseen\"> </div>\\n            <div class=\"rating\"></div>\\n            <div class=\"seen\">Seen</div>\\n        </div>\\n    </div>\\n    </td>\\n    <td class=\"watchlistColumn\">\\n        <div class=\"wlb_ribbon\" data-tconst=\"tt8108198\" data-recordmetrics=\"true\"></div>\\n    </td>\\n  </tr>\\n\\n  <tr>\\n    <td class=\"posterColumn\">\\n\\n    <span name=\"rk\" data-value=\"41\"></span>\\n    <span name=\"ir\" data-value=\"8.179205506238453\"></span>\\n    <span name=\"us\" data-value=\"1.5592608E12\"></span>\\n    <span name=\"nv\" data-value=\"6604\"></span>\\n    <span name=\"ur\" data-value=\"-2.8207944937615466\"></span>\\n<a href=\"/title/tt10214826/\"\\n> <img src=\"https://m.media-amazon.com/images/M/MV5BMTM2MmJkZmUtZWQ0Yi00YWZjLWIyNTItNDQ2YzAwNmI4YjlmXkEyXkFqcGdeQXVyODMxNjkyNzQ@._V1_UX45_CR0,0,45,67_AL_.jpg\" width=\"45\" height=\"67\" alt=\"Agent Sai Srinivasa Athreya\"/>\\n</a>    </td>\\n    <td class=\"titleColumn\">\\n      41.\\n      <a href=\"/title/tt10214826/\"\\ntitle=\"Swaroop Rsj (dir.), Naveen Polishetty, Shruti Sharma\" >Agent Sai Srinivasa Athreya</a>\\n        <span class=\"secondaryInfo\">(2019)</span>\\n    </td>\\n    <td class=\"ratingColumn imdbRating\">\\n            <strong title=\"8.2 based on 6,604 user ratings\">8.2</strong>\\n    </td>\\n    <td class=\"ratingColumn\">\\n    <div class=\"seen-widget seen-widget-tt10214826 pending\" data-titleid=\"tt10214826\">\\n        <div class=\"boundary\">\\n            <div class=\"popover\">\\n<span class=\"delete\">&nbsp;</span><ol><li>1<li>2<li>3<li>4<li>5<li>6<li>7<li>8<li>9<li>10</ol>            </div>\\n        </div>\\n        <div class=\"inline\">\\n            <div class=\"pending\"></div>\\n            <div class=\"unseeable\">NOT YET RELEASED</div>\\n            <div class=\"unseen\"> </div>\\n            <div class=\"rating\"></div>\\n            <div class=\"seen\">Seen</div>\\n        </div>\\n    </div>\\n    </td>\\n    <td class=\"watchlistColumn\">\\n        <div class=\"wlb_ribbon\" data-tconst=\"tt10214826\" data-recordmetrics=\"true\"></div>\\n    </td>\\n  </tr>\\n\\n  <tr>\\n    <td class=\"posterColumn\">\\n\\n    <span name=\"rk\" data-value=\"42\"></span>\\n    <span name=\"ir\" data-value=\"8.173710748875868\"></span>\\n    <span name=\"us\" data-value=\"1.5257376E12\"></span>\\n    <span name=\"nv\" data-value=\"9686\"></span>\\n    <span name=\"ur\" data-value=\"-2.826289251124132\"></span>\\n<a href=\"/title/tt7465992/\"\\n> <img src=\"https://m.media-amazon.com/images/M/MV5BMmNkN2ZkODgtZTU1Zi00MDg3LWE1MGQtM2ZmY2Y3ODcwZmE5XkEyXkFqcGdeQXVyNTgxODY5ODI@._V1_UX45_CR0,0,45,67_AL_.jpg\" width=\"45\" height=\"67\" alt=\"Mahanati\"/>\\n</a>    </td>\\n    <td class=\"titleColumn\">\\n      42.\\n      <a href=\"/title/tt7465992/\"\\ntitle=\"Nag Ashwin (dir.), Keerthy Suresh, Dulquer Salmaan\" >Mahanati</a>\\n        <span class=\"secondaryInfo\">(2018)</span>\\n    </td>\\n    <td class=\"ratingColumn imdbRating\">\\n            <strong title=\"8.2 based on 9,686 user ratings\">8.2</strong>\\n    </td>\\n    <td class=\"ratingColumn\">\\n    <div class=\"seen-widget seen-widget-tt7465992 pending\" data-titleid=\"tt7465992\">\\n        <div class=\"boundary\">\\n            <div class=\"popover\">\\n<span class=\"delete\">&nbsp;</span><ol><li>1<li>2<li>3<li>4<li>5<li>6<li>7<li>8<li>9<li>10</ol>            </div>\\n        </div>\\n        <div class=\"inline\">\\n            <div class=\"pending\"></div>\\n            <div class=\"unseeable\">NOT YET RELEASED</div>\\n            <div class=\"unseen\"> </div>\\n            <div class=\"rating\"></div>\\n            <div class=\"seen\">Seen</div>\\n        </div>\\n    </div>\\n    </td>\\n    <td class=\"watchlistColumn\">\\n        <div class=\"wlb_ribbon\" data-tconst=\"tt7465992\" data-recordmetrics=\"true\"></div>\\n    </td>\\n  </tr>\\n\\n  <tr>\\n    <td class=\"posterColumn\">\\n\\n    <span name=\"rk\" data-value=\"43\"></span>\\n    <span name=\"ir\" data-value=\"8.166781333983721\"></span>\\n    <span name=\"us\" data-value=\"1.4098752E12\"></span>\\n    <span name=\"nv\" data-value=\"5584\"></span>\\n    <span name=\"ur\" data-value=\"-2.833218666016279\"></span>\\n<a href=\"/title/tt3973410/\"\\n> <img src=\"https://m.media-amazon.com/images/M/MV5BM2YzNTM5NjgtZGNhMi00MjI5LWE3ZjgtOTYyODRkZWIyMGNhXkEyXkFqcGdeQXVyODIwMDI1NjM@._V1_UY67_CR1,0,45,67_AL_.jpg\" width=\"45\" height=\"67\" alt=\"Kaakkaa Muttai\"/>\\n</a>    </td>\\n    <td class=\"titleColumn\">\\n      43.\\n      <a href=\"/title/tt3973410/\"\\ntitle=\"M. Manikandan (dir.), Ramesh, J. Vignesh\" >Kaakkaa Muttai</a>\\n        <span class=\"secondaryInfo\">(2014)</span>\\n    </td>\\n    <td class=\"ratingColumn imdbRating\">\\n            <strong title=\"8.2 based on 5,584 user ratings\">8.2</strong>\\n    </td>\\n    <td class=\"ratingColumn\">\\n    <div class=\"seen-widget seen-widget-tt3973410 pending\" data-titleid=\"tt3973410\">\\n        <div class=\"boundary\">\\n            <div class=\"popover\">\\n<span class=\"delete\">&nbsp;</span><ol><li>1<li>2<li>3<li>4<li>5<li>6<li>7<li>8<li>9<li>10</ol>            </div>\\n        </div>\\n        <div class=\"inline\">\\n            <div class=\"pending\"></div>\\n            <div class=\"unseeable\">NOT YET RELEASED</div>\\n            <div class=\"unseen\"> </div>\\n            <div class=\"rating\"></div>\\n            <div class=\"seen\">Seen</div>\\n        </div>\\n    </div>\\n    </td>\\n    <td class=\"watchlistColumn\">\\n        <div class=\"wlb_ribbon\" data-tconst=\"tt3973410\" data-recordmetrics=\"true\"></div>\\n    </td>\\n  </tr>\\n\\n  <tr>\\n    <td class=\"posterColumn\">\\n\\n    <span name=\"rk\" data-value=\"44\"></span>\\n    <span name=\"ir\" data-value=\"8.160513403375244\"></span>\\n    <span name=\"us\" data-value=\"1.4322528E12\"></span>\\n    <span name=\"nv\" data-value=\"16989\"></span>\\n    <span name=\"ur\" data-value=\"-2.8394865966247558\"></span>\\n<a href=\"/title/tt4679210/\"\\n> <img src=\"https://m.media-amazon.com/images/M/MV5BMzJhNjMyOGMtYjhiYy00ZTAwLThmZWUtZmE5NzI3OTk4Y2M4XkEyXkFqcGdeQXVyMzQ5Njc3NzU@._V1_UY67_CR2,0,45,67_AL_.jpg\" width=\"45\" height=\"67\" alt=\"Premam\"/>\\n</a>    </td>\\n    <td class=\"titleColumn\">\\n      44.\\n      <a href=\"/title/tt4679210/\"\\ntitle=\"Alphonse Puthren (dir.), Nivin Pauly, Sai Pallavi\" >Premam</a>\\n        <span class=\"secondaryInfo\">(2015)</span>\\n    </td>\\n    <td class=\"ratingColumn imdbRating\">\\n            <strong title=\"8.2 based on 16,989 user ratings\">8.2</strong>\\n    </td>\\n    <td class=\"ratingColumn\">\\n    <div class=\"seen-widget seen-widget-tt4679210 pending\" data-titleid=\"tt4679210\">\\n        <div class=\"boundary\">\\n            <div class=\"popover\">\\n<span class=\"delete\">&nbsp;</span><ol><li>1<li>2<li>3<li>4<li>5<li>6<li>7<li>8<li>9<li>10</ol>            </div>\\n        </div>\\n        <div class=\"inline\">\\n            <div class=\"pending\"></div>\\n            <div class=\"unseeable\">NOT YET RELEASED</div>\\n            <div class=\"unseen\"> </div>\\n            <div class=\"rating\"></div>\\n            <div class=\"seen\">Seen</div>\\n        </div>\\n    </div>\\n    </td>\\n    <td class=\"watchlistColumn\">\\n        <div class=\"wlb_ribbon\" data-tconst=\"tt4679210\" data-recordmetrics=\"true\"></div>\\n    </td>\\n  </tr>\\n\\n  <tr>\\n    <td class=\"posterColumn\">\\n\\n    <span name=\"rk\" data-value=\"45\"></span>\\n    <span name=\"ir\" data-value=\"8.15735847108578\"></span>\\n    <span name=\"us\" data-value=\"1.4829696E12\"></span>\\n    <span name=\"nv\" data-value=\"12347\"></span>\\n    <span name=\"ur\" data-value=\"-2.8426415289142195\"></span>\\n<a href=\"/title/tt6380520/\"\\n> <img src=\"https://m.media-amazon.com/images/M/MV5BN2Y3ZTE4MzAtZTk3Zi00ZjJjLWJkMDgtOTRkZGRiYmU4YjA0XkEyXkFqcGdeQXVyODIwMDI1NjM@._V1_UX45_CR0,0,45,67_AL_.jpg\" width=\"45\" height=\"67\" alt=\"Dhuruvangal Pathinaaru\"/>\\n</a>    </td>\\n    <td class=\"titleColumn\">\\n      45.\\n      <a href=\"/title/tt6380520/\"\\ntitle=\"Karthick Naren (dir.), Rahman, Prakash Raghavan\" >Dhuruvangal Pathinaaru</a>\\n        <span class=\"secondaryInfo\">(2016)</span>\\n    </td>\\n    <td class=\"ratingColumn imdbRating\">\\n            <strong title=\"8.2 based on 12,347 user ratings\">8.2</strong>\\n    </td>\\n    <td class=\"ratingColumn\">\\n    <div class=\"seen-widget seen-widget-tt6380520 pending\" data-titleid=\"tt6380520\">\\n        <div class=\"boundary\">\\n            <div class=\"popover\">\\n<span class=\"delete\">&nbsp;</span><ol><li>1<li>2<li>3<li>4<li>5<li>6<li>7<li>8<li>9<li>10</ol>            </div>\\n        </div>\\n        <div class=\"inline\">\\n            <div class=\"pending\"></div>\\n            <div class=\"unseeable\">NOT YET RELEASED</div>\\n            <div class=\"unseen\"> </div>\\n            <div class=\"rating\"></div>\\n            <div class=\"seen\">Seen</div>\\n        </div>\\n    </div>\\n    </td>\\n    <td class=\"watchlistColumn\">\\n        <div class=\"wlb_ribbon\" data-tconst=\"tt6380520\" data-recordmetrics=\"true\"></div>\\n    </td>\\n  </tr>\\n\\n  <tr>\\n    <td class=\"posterColumn\">\\n\\n    <span name=\"rk\" data-value=\"46\"></span>\\n    <span name=\"ir\" data-value=\"8.15473343051633\"></span>\\n    <span name=\"us\" data-value=\"8.99424E11\"></span>\\n    <span name=\"nv\" data-value=\"13399\"></span>\\n    <span name=\"ur\" data-value=\"-2.8452665694836696\"></span>\\n<a href=\"/title/tt0195231/\"\\n> <img src=\"https://m.media-amazon.com/images/M/MV5BMTMwMjk3MzA2OF5BMl5BanBnXkFtZTcwNjU2ODgzMQ@@._V1_UY67_CR1,0,45,67_AL_.jpg\" width=\"45\" height=\"67\" alt=\"Satya\"/>\\n</a>    </td>\\n    <td class=\"titleColumn\">\\n      46.\\n      <a href=\"/title/tt0195231/\"\\ntitle=\"Ram Gopal Varma (dir.), J.D. Chakravarthi, Manoj Bajpayee\" >Satya</a>\\n        <span class=\"secondaryInfo\">(1998)</span>\\n    </td>\\n    <td class=\"ratingColumn imdbRating\">\\n            <strong title=\"8.2 based on 13,399 user ratings\">8.2</strong>\\n    </td>\\n    <td class=\"ratingColumn\">\\n    <div class=\"seen-widget seen-widget-tt0195231 pending\" data-titleid=\"tt0195231\">\\n        <div class=\"boundary\">\\n            <div class=\"popover\">\\n<span class=\"delete\">&nbsp;</span><ol><li>1<li>2<li>3<li>4<li>5<li>6<li>7<li>8<li>9<li>10</ol>            </div>\\n        </div>\\n        <div class=\"inline\">\\n            <div class=\"pending\"></div>\\n            <div class=\"unseeable\">NOT YET RELEASED</div>\\n            <div class=\"unseen\"> </div>\\n            <div class=\"rating\"></div>\\n            <div class=\"seen\">Seen</div>\\n        </div>\\n    </div>\\n    </td>\\n    <td class=\"watchlistColumn\">\\n        <div class=\"wlb_ribbon\" data-tconst=\"tt0195231\" data-recordmetrics=\"true\"></div>\\n    </td>\\n  </tr>\\n\\n  <tr>\\n    <td class=\"posterColumn\">\\n\\n    <span name=\"rk\" data-value=\"47\"></span>\\n    <span name=\"ir\" data-value=\"8.153655424468715\"></span>\\n    <span name=\"us\" data-value=\"1.3468896E12\"></span>\\n    <span name=\"nv\" data-value=\"15184\"></span>\\n    <span name=\"ur\" data-value=\"-2.846344575531285\"></span>\\n<a href=\"/title/tt2181831/\"\\n> <img src=\"https://m.media-amazon.com/images/M/MV5BMTYyMDE1NjQ1Nl5BMl5BanBnXkFtZTgwMDAyMTUzMDE@._V1_UY67_CR2,0,45,67_AL_.jpg\" width=\"45\" height=\"67\" alt=\"Shahid\"/>\\n</a>    </td>\\n    <td class=\"titleColumn\">\\n      47.\\n      <a href=\"/title/tt2181831/\"\\ntitle=\"Hansal Mehta (dir.), Rajkummar Rao, Prabhleen Sandhu\" >Shahid</a>\\n        <span class=\"secondaryInfo\">(2012)</span>\\n    </td>\\n    <td class=\"ratingColumn imdbRating\">\\n            <strong title=\"8.2 based on 15,184 user ratings\">8.2</strong>\\n    </td>\\n    <td class=\"ratingColumn\">\\n    <div class=\"seen-widget seen-widget-tt2181831 pending\" data-titleid=\"tt2181831\">\\n        <div class=\"boundary\">\\n            <div class=\"popover\">\\n<span class=\"delete\">&nbsp;</span><ol><li>1<li>2<li>3<li>4<li>5<li>6<li>7<li>8<li>9<li>10</ol>            </div>\\n        </div>\\n        <div class=\"inline\">\\n            <div class=\"pending\"></div>\\n            <div class=\"unseeable\">NOT YET RELEASED</div>\\n            <div class=\"unseen\"> </div>\\n            <div class=\"rating\"></div>\\n            <div class=\"seen\">Seen</div>\\n        </div>\\n    </div>\\n    </td>\\n    <td class=\"watchlistColumn\">\\n        <div class=\"wlb_ribbon\" data-tconst=\"tt2181831\" data-recordmetrics=\"true\"></div>\\n    </td>\\n  </tr>\\n\\n  <tr>\\n    <td class=\"posterColumn\">\\n\\n    <span name=\"rk\" data-value=\"48\"></span>\\n    <span name=\"ir\" data-value=\"8.149821984156269\"></span>\\n    <span name=\"us\" data-value=\"1.401408E12\"></span>\\n    <span name=\"nv\" data-value=\"16349\"></span>\\n    <span name=\"ur\" data-value=\"-2.8501780158437313\"></span>\\n<a href=\"/title/tt3668162/\"\\n> <img src=\"https://m.media-amazon.com/images/M/MV5BZmY5NjNjYWMtNmJhNi00YTk0LTg0OWUtNDE4OGQ0YmM4NDAwXkEyXkFqcGdeQXVyODE5NzE3OTE@._V1_UY67_CR2,0,45,67_AL_.jpg\" width=\"45\" height=\"67\" alt=\"Bangalore Days\"/>\\n</a>    </td>\\n    <td class=\"titleColumn\">\\n      48.\\n      <a href=\"/title/tt3668162/\"\\ntitle=\"Anjali Menon (dir.), Nazriya Nazim, Nivin Pauly\" >Bangalore Days</a>\\n        <span class=\"secondaryInfo\">(2014)</span>\\n    </td>\\n    <td class=\"ratingColumn imdbRating\">\\n            <strong title=\"8.1 based on 16,349 user ratings\">8.1</strong>\\n    </td>\\n    <td class=\"ratingColumn\">\\n    <div class=\"seen-widget seen-widget-tt3668162 pending\" data-titleid=\"tt3668162\">\\n        <div class=\"boundary\">\\n            <div class=\"popover\">\\n<span class=\"delete\">&nbsp;</span><ol><li>1<li>2<li>3<li>4<li>5<li>6<li>7<li>8<li>9<li>10</ol>            </div>\\n        </div>\\n        <div class=\"inline\">\\n            <div class=\"pending\"></div>\\n            <div class=\"unseeable\">NOT YET RELEASED</div>\\n            <div class=\"unseen\"> </div>\\n            <div class=\"rating\"></div>\\n            <div class=\"seen\">Seen</div>\\n        </div>\\n    </div>\\n    </td>\\n    <td class=\"watchlistColumn\">\\n        <div class=\"wlb_ribbon\" data-tconst=\"tt3668162\" data-recordmetrics=\"true\"></div>\\n    </td>\\n  </tr>\\n\\n  <tr>\\n    <td class=\"posterColumn\">\\n\\n    <span name=\"rk\" data-value=\"49\"></span>\\n    <span name=\"ir\" data-value=\"8.145987941941348\"></span>\\n    <span name=\"us\" data-value=\"1.3673664E12\"></span>\\n    <span name=\"nv\" data-value=\"8899\"></span>\\n    <span name=\"ur\" data-value=\"-2.854012058058652\"></span>\\n<a href=\"/title/tt2877108/\"\\n> <img src=\"https://m.media-amazon.com/images/M/MV5BNzZiNGRlM2EtZWEwZC00MDg5LWEyYTctYjJkYmFjNzRiZmE1XkEyXkFqcGdeQXVyODk1MzE5NDA@._V1_UX45_CR0,0,45,67_AL_.jpg\" width=\"45\" height=\"67\" alt=\"Soodhu Kavvum\"/>\\n</a>    </td>\\n    <td class=\"titleColumn\">\\n      49.\\n      <a href=\"/title/tt2877108/\"\\ntitle=\"Nalan Kumarasamy (dir.), Vijay Sethupathi, Sanchita Shetty\" >Soodhu Kavvum</a>\\n        <span class=\"secondaryInfo\">(2013)</span>\\n    </td>\\n    <td class=\"ratingColumn imdbRating\">\\n            <strong title=\"8.1 based on 8,899 user ratings\">8.1</strong>\\n    </td>\\n    <td class=\"ratingColumn\">\\n    <div class=\"seen-widget seen-widget-tt2877108 pending\" data-titleid=\"tt2877108\">\\n        <div class=\"boundary\">\\n            <div class=\"popover\">\\n<span class=\"delete\">&nbsp;</span><ol><li>1<li>2<li>3<li>4<li>5<li>6<li>7<li>8<li>9<li>10</ol>            </div>\\n        </div>\\n        <div class=\"inline\">\\n            <div class=\"pending\"></div>\\n            <div class=\"unseeable\">NOT YET RELEASED</div>\\n            <div class=\"unseen\"> </div>\\n            <div class=\"rating\"></div>\\n            <div class=\"seen\">Seen</div>\\n        </div>\\n    </div>\\n    </td>\\n    <td class=\"watchlistColumn\">\\n        <div class=\"wlb_ribbon\" data-tconst=\"tt2877108\" data-recordmetrics=\"true\"></div>\\n    </td>\\n  </tr>\\n\\n  <tr>\\n    <td class=\"posterColumn\">\\n\\n    <span name=\"rk\" data-value=\"50\"></span>\\n    <span name=\"ir\" data-value=\"8.145930872862417\"></span>\\n    <span name=\"us\" data-value=\"9.419328E11\"></span>\\n    <span name=\"nv\" data-value=\"6412\"></span>\\n    <span name=\"ur\" data-value=\"-2.854069127137583\"></span>\\n<a href=\"/title/tt0220656/\"\\n> <img src=\"https://m.media-amazon.com/images/M/MV5BN2JiOGI2ODMtNGFiMy00NjZjLThmODMtZTEzZDkwNjdhZTk3XkEyXkFqcGdeQXVyODE0NjUxNzY@._V1_UY67_CR1,0,45,67_AL_.jpg\" width=\"45\" height=\"67\" alt=\"Mudhalvan\"/>\\n</a>    </td>\\n    <td class=\"titleColumn\">\\n      50.\\n      <a href=\"/title/tt0220656/\"\\ntitle=\"S. Shankar (dir.), Arjun Sarja, Manisha Koirala\" >Mudhalvan</a>\\n        <span class=\"secondaryInfo\">(1999)</span>\\n    </td>\\n    <td class=\"ratingColumn imdbRating\">\\n            <strong title=\"8.1 based on 6,412 user ratings\">8.1</strong>\\n    </td>\\n    <td class=\"ratingColumn\">\\n    <div class=\"seen-widget seen-widget-tt0220656 pending\" data-titleid=\"tt0220656\">\\n        <div class=\"boundary\">\\n            <div class=\"popover\">\\n<span class=\"delete\">&nbsp;</span><ol><li>1<li>2<li>3<li>4<li>5<li>6<li>7<li>8<li>9<li>10</ol>            </div>\\n        </div>\\n        <div class=\"inline\">\\n            <div class=\"pending\"></div>\\n            <div class=\"unseeable\">NOT YET RELEASED</div>\\n            <div class=\"unseen\"> </div>\\n            <div class=\"rating\"></div>\\n            <div class=\"seen\">Seen</div>\\n        </div>\\n    </div>\\n    </td>\\n    <td class=\"watchlistColumn\">\\n        <div class=\"wlb_ribbon\" data-tconst=\"tt0220656\" data-recordmetrics=\"true\"></div>\\n    </td>\\n  </tr>\\n\\n  <tr>\\n    <td class=\"posterColumn\">\\n\\n    <span name=\"rk\" data-value=\"51\"></span>\\n    <span name=\"ir\" data-value=\"8.144165936177282\"></span>\\n    <span name=\"us\" data-value=\"1.1183616E12\"></span>\\n    <span name=\"nv\" data-value=\"14410\"></span>\\n    <span name=\"ur\" data-value=\"-2.8558340638227175\"></span>\\n<a href=\"/title/tt0376127/\"\\n> <img src=\"https://m.media-amazon.com/images/M/MV5BN2ZhMThlMWMtNGY1ZC00YzdmLThlM2MtMmQxYWQyNDIzNzM5XkEyXkFqcGdeQXVyOTk3NTc2MzE@._V1_UY67_CR1,0,45,67_AL_.jpg\" width=\"45\" height=\"67\" alt=\"Anniyan\"/>\\n</a>    </td>\\n    <td class=\"titleColumn\">\\n      51.\\n      <a href=\"/title/tt0376127/\"\\ntitle=\"S. Shankar (dir.), Vikram, Sada\" >Anniyan</a>\\n        <span class=\"secondaryInfo\">(2005)</span>\\n    </td>\\n    <td class=\"ratingColumn imdbRating\">\\n            <strong title=\"8.1 based on 14,410 user ratings\">8.1</strong>\\n    </td>\\n    <td class=\"ratingColumn\">\\n    <div class=\"seen-widget seen-widget-tt0376127 pending\" data-titleid=\"tt0376127\">\\n        <div class=\"boundary\">\\n            <div class=\"popover\">\\n<span class=\"delete\">&nbsp;</span><ol><li>1<li>2<li>3<li>4<li>5<li>6<li>7<li>8<li>9<li>10</ol>            </div>\\n        </div>\\n        <div class=\"inline\">\\n            <div class=\"pending\"></div>\\n            <div class=\"unseeable\">NOT YET RELEASED</div>\\n            <div class=\"unseen\"> </div>\\n            <div class=\"rating\"></div>\\n            <div class=\"seen\">Seen</div>\\n        </div>\\n    </div>\\n    </td>\\n    <td class=\"watchlistColumn\">\\n        <div class=\"wlb_ribbon\" data-tconst=\"tt0376127\" data-recordmetrics=\"true\"></div>\\n    </td>\\n  </tr>\\n\\n  <tr>\\n    <td class=\"posterColumn\">\\n\\n    <span name=\"rk\" data-value=\"52\"></span>\\n    <span name=\"ir\" data-value=\"8.141460047794808\"></span>\\n    <span name=\"us\" data-value=\"1.3376448E12\"></span>\\n    <span name=\"nv\" data-value=\"81986\"></span>\\n    <span name=\"ur\" data-value=\"-2.8585399522051915\"></span>\\n<a href=\"/title/tt1954470/\"\\n> <img src=\"https://m.media-amazon.com/images/M/MV5BMTc5NjY4MjUwNF5BMl5BanBnXkFtZTgwODM3NzM5MzE@._V1_UY67_CR0,0,45,67_AL_.jpg\" width=\"45\" height=\"67\" alt=\"Gangs of Wasseypur\"/>\\n</a>    </td>\\n    <td class=\"titleColumn\">\\n      52.\\n      <a href=\"/title/tt1954470/\"\\ntitle=\"Anurag Kashyap (dir.), Manoj Bajpayee, Richa Chadha\" >Gangs of Wasseypur</a>\\n        <span class=\"secondaryInfo\">(2012)</span>\\n    </td>\\n    <td class=\"ratingColumn imdbRating\">\\n            <strong title=\"8.1 based on 81,986 user ratings\">8.1</strong>\\n    </td>\\n    <td class=\"ratingColumn\">\\n    <div class=\"seen-widget seen-widget-tt1954470 pending\" data-titleid=\"tt1954470\">\\n        <div class=\"boundary\">\\n            <div class=\"popover\">\\n<span class=\"delete\">&nbsp;</span><ol><li>1<li>2<li>3<li>4<li>5<li>6<li>7<li>8<li>9<li>10</ol>            </div>\\n        </div>\\n        <div class=\"inline\">\\n            <div class=\"pending\"></div>\\n            <div class=\"unseeable\">NOT YET RELEASED</div>\\n            <div class=\"unseen\"> </div>\\n            <div class=\"rating\"></div>\\n            <div class=\"seen\">Seen</div>\\n        </div>\\n    </div>\\n    </td>\\n    <td class=\"watchlistColumn\">\\n        <div class=\"wlb_ribbon\" data-tconst=\"tt1954470\" data-recordmetrics=\"true\"></div>\\n    </td>\\n  </tr>\\n\\n  <tr>\\n    <td class=\"posterColumn\">\\n\\n    <span name=\"rk\" data-value=\"53\"></span>\\n    <span name=\"ir\" data-value=\"8.13970665476448\"></span>\\n    <span name=\"us\" data-value=\"1.4357952E12\"></span>\\n    <span name=\"nv\" data-value=\"5788\"></span>\\n    <span name=\"ur\" data-value=\"-2.8602933452355206\"></span>\\n<a href=\"/title/tt4429128/\"\\n> <img src=\"https://m.media-amazon.com/images/M/MV5BOTM4ZmU2MGQtNDI4Ni00MzNjLWI3OTMtMDA4Y2FjZmM1NTA5XkEyXkFqcGdeQXVyODEzOTQwNTY@._V1_UX45_CR0,0,45,67_AL_.jpg\" width=\"45\" height=\"67\" alt=\"Papanasam\"/>\\n</a>    </td>\\n    <td class=\"titleColumn\">\\n      53.\\n      <a href=\"/title/tt4429128/\"\\ntitle=\"Jeethu Joseph (dir.), Kamal Haasan, Gautami\" >Papanasam</a>\\n        <span class=\"secondaryInfo\">(2015)</span>\\n    </td>\\n    <td class=\"ratingColumn imdbRating\">\\n            <strong title=\"8.1 based on 5,788 user ratings\">8.1</strong>\\n    </td>\\n    <td class=\"ratingColumn\">\\n    <div class=\"seen-widget seen-widget-tt4429128 pending\" data-titleid=\"tt4429128\">\\n        <div class=\"boundary\">\\n            <div class=\"popover\">\\n<span class=\"delete\">&nbsp;</span><ol><li>1<li>2<li>3<li>4<li>5<li>6<li>7<li>8<li>9<li>10</ol>            </div>\\n        </div>\\n        <div class=\"inline\">\\n            <div class=\"pending\"></div>\\n            <div class=\"unseeable\">NOT YET RELEASED</div>\\n            <div class=\"unseen\"> </div>\\n            <div class=\"rating\"></div>\\n            <div class=\"seen\">Seen</div>\\n        </div>\\n    </div>\\n    </td>\\n    <td class=\"watchlistColumn\">\\n        <div class=\"wlb_ribbon\" data-tconst=\"tt4429128\" data-recordmetrics=\"true\"></div>\\n    </td>\\n  </tr>\\n\\n  <tr>\\n    <td class=\"posterColumn\">\\n\\n    <span name=\"rk\" data-value=\"54\"></span>\\n    <span name=\"ir\" data-value=\"8.131259273507466\"></span>\\n    <span name=\"us\" data-value=\"1.4067648E12\"></span>\\n    <span name=\"nv\" data-value=\"10156\"></span>\\n    <span name=\"ur\" data-value=\"-2.8687407264925344\"></span>\\n<a href=\"/title/tt3569782/\"\\n> <img src=\"https://m.media-amazon.com/images/M/MV5BOTY0MzA3NmQtMDQ2YS00MmIyLTkzNWItMjkyMmYyMmZkNDI0XkEyXkFqcGdeQXVyODIwMDI1NjM@._V1_UX45_CR0,0,45,67_AL_.jpg\" width=\"45\" height=\"67\" alt=\"Jigarthanda\"/>\\n</a>    </td>\\n    <td class=\"titleColumn\">\\n      54.\\n      <a href=\"/title/tt3569782/\"\\ntitle=\"Karthik Subbaraj (dir.), Siddharth, Bobby Simha\" >Jigarthanda</a>\\n        <span class=\"secondaryInfo\">(2014)</span>\\n    </td>\\n    <td class=\"ratingColumn imdbRating\">\\n            <strong title=\"8.1 based on 10,156 user ratings\">8.1</strong>\\n    </td>\\n    <td class=\"ratingColumn\">\\n    <div class=\"seen-widget seen-widget-tt3569782 pending\" data-titleid=\"tt3569782\">\\n        <div class=\"boundary\">\\n            <div class=\"popover\">\\n<span class=\"delete\">&nbsp;</span><ol><li>1<li>2<li>3<li>4<li>5<li>6<li>7<li>8<li>9<li>10</ol>            </div>\\n        </div>\\n        <div class=\"inline\">\\n            <div class=\"pending\"></div>\\n            <div class=\"unseeable\">NOT YET RELEASED</div>\\n            <div class=\"unseen\"> </div>\\n            <div class=\"rating\"></div>\\n            <div class=\"seen\">Seen</div>\\n        </div>\\n    </div>\\n    </td>\\n    <td class=\"watchlistColumn\">\\n        <div class=\"wlb_ribbon\" data-tconst=\"tt3569782\" data-recordmetrics=\"true\"></div>\\n    </td>\\n  </tr>\\n\\n  <tr>\\n    <td class=\"posterColumn\">\\n\\n    <span name=\"rk\" data-value=\"55\"></span>\\n    <span name=\"ir\" data-value=\"8.126239314234622\"></span>\\n    <span name=\"us\" data-value=\"1.4421888E12\"></span>\\n    <span name=\"nv\" data-value=\"31031\"></span>\\n    <span name=\"ur\" data-value=\"-2.8737606857653777\"></span>\\n<a href=\"/title/tt4934950/\"\\n> <img src=\"https://m.media-amazon.com/images/M/MV5BMTYzODg0Mjc4M15BMl5BanBnXkFtZTgwNzY4Mzc3NjE@._V1_UY67_CR2,0,45,67_AL_.jpg\" width=\"45\" height=\"67\" alt=\"Talvar\"/>\\n</a>    </td>\\n    <td class=\"titleColumn\">\\n      55.\\n      <a href=\"/title/tt4934950/\"\\ntitle=\"Meghna Gulzar (dir.), Irrfan Khan, Konkona Sen Sharma\" >Talvar</a>\\n        <span class=\"secondaryInfo\">(2015)</span>\\n    </td>\\n    <td class=\"ratingColumn imdbRating\">\\n            <strong title=\"8.1 based on 31,031 user ratings\">8.1</strong>\\n    </td>\\n    <td class=\"ratingColumn\">\\n    <div class=\"seen-widget seen-widget-tt4934950 pending\" data-titleid=\"tt4934950\">\\n        <div class=\"boundary\">\\n            <div class=\"popover\">\\n<span class=\"delete\">&nbsp;</span><ol><li>1<li>2<li>3<li>4<li>5<li>6<li>7<li>8<li>9<li>10</ol>            </div>\\n        </div>\\n        <div class=\"inline\">\\n            <div class=\"pending\"></div>\\n            <div class=\"unseeable\">NOT YET RELEASED</div>\\n            <div class=\"unseen\"> </div>\\n            <div class=\"rating\"></div>\\n            <div class=\"seen\">Seen</div>\\n        </div>\\n    </div>\\n    </td>\\n    <td class=\"watchlistColumn\">\\n        <div class=\"wlb_ribbon\" data-tconst=\"tt4934950\" data-recordmetrics=\"true\"></div>\\n    </td>\\n  </tr>\\n\\n  <tr>\\n    <td class=\"posterColumn\">\\n\\n    <span name=\"rk\" data-value=\"56\"></span>\\n    <span name=\"ir\" data-value=\"8.126018454312309\"></span>\\n    <span name=\"us\" data-value=\"1.3306464E12\"></span>\\n    <span name=\"nv\" data-value=\"33154\"></span>\\n    <span name=\"ur\" data-value=\"-2.873981545687691\"></span>\\n<a href=\"/title/tt1620933/\"\\n> <img src=\"https://m.media-amazon.com/images/M/MV5BNTgwODM5OTMzN15BMl5BanBnXkFtZTcwMTA3NzI1Nw@@._V1_UY67_CR0,0,45,67_AL_.jpg\" width=\"45\" height=\"67\" alt=\"Paan Singh Tomar\"/>\\n</a>    </td>\\n    <td class=\"titleColumn\">\\n      56.\\n      <a href=\"/title/tt1620933/\"\\ntitle=\"Tigmanshu Dhulia (dir.), Irrfan Khan, Mahie Gill\" >Paan Singh Tomar</a>\\n        <span class=\"secondaryInfo\">(2012)</span>\\n    </td>\\n    <td class=\"ratingColumn imdbRating\">\\n            <strong title=\"8.1 based on 33,154 user ratings\">8.1</strong>\\n    </td>\\n    <td class=\"ratingColumn\">\\n    <div class=\"seen-widget seen-widget-tt1620933 pending\" data-titleid=\"tt1620933\">\\n        <div class=\"boundary\">\\n            <div class=\"popover\">\\n<span class=\"delete\">&nbsp;</span><ol><li>1<li>2<li>3<li>4<li>5<li>6<li>7<li>8<li>9<li>10</ol>            </div>\\n        </div>\\n        <div class=\"inline\">\\n            <div class=\"pending\"></div>\\n            <div class=\"unseeable\">NOT YET RELEASED</div>\\n            <div class=\"unseen\"> </div>\\n            <div class=\"rating\"></div>\\n            <div class=\"seen\">Seen</div>\\n        </div>\\n    </div>\\n    </td>\\n    <td class=\"watchlistColumn\">\\n        <div class=\"wlb_ribbon\" data-tconst=\"tt1620933\" data-recordmetrics=\"true\"></div>\\n    </td>\\n  </tr>\\n\\n  <tr>\\n    <td class=\"posterColumn\">\\n\\n    <span name=\"rk\" data-value=\"57\"></span>\\n    <span name=\"ir\" data-value=\"8.12499641263529\"></span>\\n    <span name=\"us\" data-value=\"1.3735008E12\"></span>\\n    <span name=\"nv\" data-value=\"60981\"></span>\\n    <span name=\"ur\" data-value=\"-2.8750035873647093\"></span>\\n<a href=\"/title/tt2356180/\"\\n> <img src=\"https://m.media-amazon.com/images/M/MV5BMTY1Nzg4MjcwN15BMl5BanBnXkFtZTcwOTc1NTk1OQ@@._V1_UY67_CR0,0,45,67_AL_.jpg\" width=\"45\" height=\"67\" alt=\"Bhaag Milkha Bhaag\"/>\\n</a>    </td>\\n    <td class=\"titleColumn\">\\n      57.\\n      <a href=\"/title/tt2356180/\"\\ntitle=\"Rakeysh Omprakash Mehra (dir.), Farhan Akhtar, Sonam Kapoor\" >Bhaag Milkha Bhaag</a>\\n        <span class=\"secondaryInfo\">(2013)</span>\\n    </td>\\n    <td class=\"ratingColumn imdbRating\">\\n            <strong title=\"8.1 based on 60,981 user ratings\">8.1</strong>\\n    </td>\\n    <td class=\"ratingColumn\">\\n    <div class=\"seen-widget seen-widget-tt2356180 pending\" data-titleid=\"tt2356180\">\\n        <div class=\"boundary\">\\n            <div class=\"popover\">\\n<span class=\"delete\">&nbsp;</span><ol><li>1<li>2<li>3<li>4<li>5<li>6<li>7<li>8<li>9<li>10</ol>            </div>\\n        </div>\\n        <div class=\"inline\">\\n            <div class=\"pending\"></div>\\n            <div class=\"unseeable\">NOT YET RELEASED</div>\\n            <div class=\"unseen\"> </div>\\n            <div class=\"rating\"></div>\\n            <div class=\"seen\">Seen</div>\\n        </div>\\n    </div>\\n    </td>\\n    <td class=\"watchlistColumn\">\\n        <div class=\"wlb_ribbon\" data-tconst=\"tt2356180\" data-recordmetrics=\"true\"></div>\\n    </td>\\n  </tr>\\n\\n  <tr>\\n    <td class=\"posterColumn\">\\n\\n    <span name=\"rk\" data-value=\"58\"></span>\\n    <span name=\"ir\" data-value=\"8.123642822099823\"></span>\\n    <span name=\"us\" data-value=\"1.1032416E12\"></span>\\n    <span name=\"nv\" data-value=\"82835\"></span>\\n    <span name=\"ur\" data-value=\"-2.876357177900177\"></span>\\n<a href=\"/title/tt0367110/\"\\n> <img src=\"https://m.media-amazon.com/images/M/MV5BYzExOTcwNjYtZTljMC00YTQ2LWI2YjYtNWFlYzQ0YTJhNzJmXkEyXkFqcGdeQXVyNjQ2MjQ5NzM@._V1_UY67_CR0,0,45,67_AL_.jpg\" width=\"45\" height=\"67\" alt=\"Swades: We, the People\"/>\\n</a>    </td>\\n    <td class=\"titleColumn\">\\n      58.\\n      <a href=\"/title/tt0367110/\"\\ntitle=\"Ashutosh Gowariker (dir.), Shah Rukh Khan, Gayatri Joshi\" >Swades: We, the People</a>\\n        <span class=\"secondaryInfo\">(2004)</span>\\n    </td>\\n    <td class=\"ratingColumn imdbRating\">\\n            <strong title=\"8.1 based on 82,835 user ratings\">8.1</strong>\\n    </td>\\n    <td class=\"ratingColumn\">\\n    <div class=\"seen-widget seen-widget-tt0367110 pending\" data-titleid=\"tt0367110\">\\n        <div class=\"boundary\">\\n            <div class=\"popover\">\\n<span class=\"delete\">&nbsp;</span><ol><li>1<li>2<li>3<li>4<li>5<li>6<li>7<li>8<li>9<li>10</ol>            </div>\\n        </div>\\n        <div class=\"inline\">\\n            <div class=\"pending\"></div>\\n            <div class=\"unseeable\">NOT YET RELEASED</div>\\n            <div class=\"unseen\"> </div>\\n            <div class=\"rating\"></div>\\n            <div class=\"seen\">Seen</div>\\n        </div>\\n    </div>\\n    </td>\\n    <td class=\"watchlistColumn\">\\n        <div class=\"wlb_ribbon\" data-tconst=\"tt0367110\" data-recordmetrics=\"true\"></div>\\n    </td>\\n  </tr>\\n\\n  <tr>\\n    <td class=\"posterColumn\">\\n\\n    <span name=\"rk\" data-value=\"59\"></span>\\n    <span name=\"ir\" data-value=\"8.123113958917386\"></span>\\n    <span name=\"us\" data-value=\"1.4445216E12\"></span>\\n    <span name=\"nv\" data-value=\"5650\"></span>\\n    <span name=\"ur\" data-value=\"-2.8768860410826136\"></span>\\n<a href=\"/title/tt5005684/\"\\n> <img src=\"https://m.media-amazon.com/images/M/MV5BYTM3ZDg0ODItMTQxNy00NDRmLWJlOTMtZTZhNThmOTRiY2YyXkEyXkFqcGdeQXVyODE5NzE3OTE@._V1_UY67_CR0,0,45,67_AL_.jpg\" width=\"45\" height=\"67\" alt=\"Nil Battey Sannata\"/>\\n</a>    </td>\\n    <td class=\"titleColumn\">\\n      59.\\n      <a href=\"/title/tt5005684/\"\\ntitle=\"Ashwiny Iyer Tiwari (dir.), Swara Bhaskar, Ratna Pathak Shah\" >Nil Battey Sannata</a>\\n        <span class=\"secondaryInfo\">(2015)</span>\\n    </td>\\n    <td class=\"ratingColumn imdbRating\">\\n            <strong title=\"8.1 based on 5,650 user ratings\">8.1</strong>\\n    </td>\\n    <td class=\"ratingColumn\">\\n    <div class=\"seen-widget seen-widget-tt5005684 pending\" data-titleid=\"tt5005684\">\\n        <div class=\"boundary\">\\n            <div class=\"popover\">\\n<span class=\"delete\">&nbsp;</span><ol><li>1<li>2<li>3<li>4<li>5<li>6<li>7<li>8<li>9<li>10</ol>            </div>\\n        </div>\\n        <div class=\"inline\">\\n            <div class=\"pending\"></div>\\n            <div class=\"unseeable\">NOT YET RELEASED</div>\\n            <div class=\"unseen\"> </div>\\n            <div class=\"rating\"></div>\\n            <div class=\"seen\">Seen</div>\\n        </div>\\n    </div>\\n    </td>\\n    <td class=\"watchlistColumn\">\\n        <div class=\"wlb_ribbon\" data-tconst=\"tt5005684\" data-recordmetrics=\"true\"></div>\\n    </td>\\n  </tr>\\n\\n  <tr>\\n    <td class=\"posterColumn\">\\n\\n    <span name=\"rk\" data-value=\"60\"></span>\\n    <span name=\"ir\" data-value=\"8.121680724569545\"></span>\\n    <span name=\"us\" data-value=\"9.544608E11\"></span>\\n    <span name=\"nv\" data-value=\"56863\"></span>\\n    <span name=\"ur\" data-value=\"-2.8783192754304547\"></span>\\n<a href=\"/title/tt0242519/\"\\n> <img src=\"https://m.media-amazon.com/images/M/MV5BMGMzZjY2ZWQtZjQxYS00NWY3LThhNjItNWQzNTkzOTllODljXkEyXkFqcGdeQXVyNjY1MTg4Mzc@._V1_UY67_CR1,0,45,67_AL_.jpg\" width=\"45\" height=\"67\" alt=\"Hera Pheri\"/>\\n</a>    </td>\\n    <td class=\"titleColumn\">\\n      60.\\n      <a href=\"/title/tt0242519/\"\\ntitle=\"Priyadarshan (dir.), Akshay Kumar, Sunil Shetty\" >Hera Pheri</a>\\n        <span class=\"secondaryInfo\">(2000)</span>\\n    </td>\\n    <td class=\"ratingColumn imdbRating\">\\n            <strong title=\"8.1 based on 56,863 user ratings\">8.1</strong>\\n    </td>\\n    <td class=\"ratingColumn\">\\n    <div class=\"seen-widget seen-widget-tt0242519 pending\" data-titleid=\"tt0242519\">\\n        <div class=\"boundary\">\\n            <div class=\"popover\">\\n<span class=\"delete\">&nbsp;</span><ol><li>1<li>2<li>3<li>4<li>5<li>6<li>7<li>8<li>9<li>10</ol>            </div>\\n        </div>\\n        <div class=\"inline\">\\n            <div class=\"pending\"></div>\\n            <div class=\"unseeable\">NOT YET RELEASED</div>\\n            <div class=\"unseen\"> </div>\\n            <div class=\"rating\"></div>\\n            <div class=\"seen\">Seen</div>\\n        </div>\\n    </div>\\n    </td>\\n    <td class=\"watchlistColumn\">\\n        <div class=\"wlb_ribbon\" data-tconst=\"tt0242519\" data-recordmetrics=\"true\"></div>\\n    </td>\\n  </tr>\\n\\n  <tr>\\n    <td class=\"posterColumn\">\\n\\n    <span name=\"rk\" data-value=\"61\"></span>\\n    <span name=\"ir\" data-value=\"8.12161021244602\"></span>\\n    <span name=\"us\" data-value=\"1.772928E11\"></span>\\n    <span name=\"nv\" data-value=\"51197\"></span>\\n    <span name=\"ur\" data-value=\"-2.8783897875539797\"></span>\\n<a href=\"/title/tt0073707/\"\\n> <img src=\"https://m.media-amazon.com/images/M/MV5BOGZiM2IwODktNTdiMC00MGU1LWEyZTYtOTk4NTkwYmJkNmI1L2ltYWdlL2ltYWdlXkEyXkFqcGdeQXVyNjU0OTQ0OTY@._V1_UY67_CR2,0,45,67_AL_.jpg\" width=\"45\" height=\"67\" alt=\"Sholay\"/>\\n</a>    </td>\\n    <td class=\"titleColumn\">\\n      61.\\n      <a href=\"/title/tt0073707/\"\\ntitle=\"Ramesh Sippy (dir.), Sanjeev Kumar, Dharmendra\" >Sholay</a>\\n        <span class=\"secondaryInfo\">(1975)</span>\\n    </td>\\n    <td class=\"ratingColumn imdbRating\">\\n            <strong title=\"8.1 based on 51,197 user ratings\">8.1</strong>\\n    </td>\\n    <td class=\"ratingColumn\">\\n    <div class=\"seen-widget seen-widget-tt0073707 pending\" data-titleid=\"tt0073707\">\\n        <div class=\"boundary\">\\n            <div class=\"popover\">\\n<span class=\"delete\">&nbsp;</span><ol><li>1<li>2<li>3<li>4<li>5<li>6<li>7<li>8<li>9<li>10</ol>            </div>\\n        </div>\\n        <div class=\"inline\">\\n            <div class=\"pending\"></div>\\n            <div class=\"unseeable\">NOT YET RELEASED</div>\\n            <div class=\"unseen\"> </div>\\n            <div class=\"rating\"></div>\\n            <div class=\"seen\">Seen</div>\\n        </div>\\n    </div>\\n    </td>\\n    <td class=\"watchlistColumn\">\\n        <div class=\"wlb_ribbon\" data-tconst=\"tt0073707\" data-recordmetrics=\"true\"></div>\\n    </td>\\n  </tr>\\n\\n  <tr>\\n    <td class=\"posterColumn\">\\n\\n    <span name=\"rk\" data-value=\"62\"></span>\\n    <span name=\"ir\" data-value=\"8.121204100057762\"></span>\\n    <span name=\"us\" data-value=\"1.4382144E12\"></span>\\n    <span name=\"nv\" data-value=\"69945\"></span>\\n    <span name=\"ur\" data-value=\"-2.8787958999422383\"></span>\\n<a href=\"/title/tt4430212/\"\\n> <img src=\"https://m.media-amazon.com/images/M/MV5BYmJhZmJlYTItZmZlNy00MGY0LTg0ZGMtNWFkYWU5NTA1YTNhXkEyXkFqcGdeQXVyODE5NzE3OTE@._V1_UY67_CR0,0,45,67_AL_.jpg\" width=\"45\" height=\"67\" alt=\"Drishyam\"/>\\n</a>    </td>\\n    <td class=\"titleColumn\">\\n      62.\\n      <a href=\"/title/tt4430212/\"\\ntitle=\"Nishikant Kamat (dir.), Ajay Devgn, Shriya Saran\" >Drishyam</a>\\n        <span class=\"secondaryInfo\">(2015)</span>\\n    </td>\\n    <td class=\"ratingColumn imdbRating\">\\n            <strong title=\"8.1 based on 69,945 user ratings\">8.1</strong>\\n    </td>\\n    <td class=\"ratingColumn\">\\n    <div class=\"seen-widget seen-widget-tt4430212 pending\" data-titleid=\"tt4430212\">\\n        <div class=\"boundary\">\\n            <div class=\"popover\">\\n<span class=\"delete\">&nbsp;</span><ol><li>1<li>2<li>3<li>4<li>5<li>6<li>7<li>8<li>9<li>10</ol>            </div>\\n        </div>\\n        <div class=\"inline\">\\n            <div class=\"pending\"></div>\\n            <div class=\"unseeable\">NOT YET RELEASED</div>\\n            <div class=\"unseen\"> </div>\\n            <div class=\"rating\"></div>\\n            <div class=\"seen\">Seen</div>\\n        </div>\\n    </div>\\n    </td>\\n    <td class=\"watchlistColumn\">\\n        <div class=\"wlb_ribbon\" data-tconst=\"tt4430212\" data-recordmetrics=\"true\"></div>\\n    </td>\\n  </tr>\\n\\n  <tr>\\n    <td class=\"posterColumn\">\\n\\n    <span name=\"rk\" data-value=\"63\"></span>\\n    <span name=\"ir\" data-value=\"8.118035698828058\"></span>\\n    <span name=\"us\" data-value=\"1.0669536E12\"></span>\\n    <span name=\"nv\" data-value=\"5154\"></span>\\n    <span name=\"ur\" data-value=\"-2.8819643011719425\"></span>\\n<a href=\"/title/tt0376076/\"\\n> <img src=\"https://m.media-amazon.com/images/M/MV5BYzI5NDdlYWItMWIzNC00MjIwLWJmOGUtYjY2YjlhNmQ0N2E4XkEyXkFqcGdeQXVyOTk3NTc2MzE@._V1_UY67_CR2,0,45,67_AL_.jpg\" width=\"45\" height=\"67\" alt=\"Pithamagan\"/>\\n</a>    </td>\\n    <td class=\"titleColumn\">\\n      63.\\n      <a href=\"/title/tt0376076/\"\\ntitle=\"Bala (dir.), Vikram, Suriya\" >Pithamagan</a>\\n        <span class=\"secondaryInfo\">(2003)</span>\\n    </td>\\n    <td class=\"ratingColumn imdbRating\">\\n            <strong title=\"8.1 based on 5,154 user ratings\">8.1</strong>\\n    </td>\\n    <td class=\"ratingColumn\">\\n    <div class=\"seen-widget seen-widget-tt0376076 pending\" data-titleid=\"tt0376076\">\\n        <div class=\"boundary\">\\n            <div class=\"popover\">\\n<span class=\"delete\">&nbsp;</span><ol><li>1<li>2<li>3<li>4<li>5<li>6<li>7<li>8<li>9<li>10</ol>            </div>\\n        </div>\\n        <div class=\"inline\">\\n            <div class=\"pending\"></div>\\n            <div class=\"unseeable\">NOT YET RELEASED</div>\\n            <div class=\"unseen\"> </div>\\n            <div class=\"rating\"></div>\\n            <div class=\"seen\">Seen</div>\\n        </div>\\n    </div>\\n    </td>\\n    <td class=\"watchlistColumn\">\\n        <div class=\"wlb_ribbon\" data-tconst=\"tt0376076\" data-recordmetrics=\"true\"></div>\\n    </td>\\n  </tr>\\n\\n  <tr>\\n    <td class=\"posterColumn\">\\n\\n    <span name=\"rk\" data-value=\"64\"></span>\\n    <span name=\"ir\" data-value=\"8.116897884074156\"></span>\\n    <span name=\"us\" data-value=\"1.1074752E12\"></span>\\n    <span name=\"nv\" data-value=\"33302\"></span>\\n    <span name=\"ur\" data-value=\"-2.883102115925844\"></span>\\n<a href=\"/title/tt0375611/\"\\n> <img src=\"https://m.media-amazon.com/images/M/MV5BNTI5MmE5M2UtZjIzYS00M2JjLWIwNDItYTY2ZWNiODBmYTBiXkEyXkFqcGdeQXVyNjQ2MjQ5NzM@._V1_UY67_CR0,0,45,67_AL_.jpg\" width=\"45\" height=\"67\" alt=\"Black\"/>\\n</a>    </td>\\n    <td class=\"titleColumn\">\\n      64.\\n      <a href=\"/title/tt0375611/\"\\ntitle=\"Sanjay Leela Bhansali (dir.), Amitabh Bachchan, Rani Mukerji\" >Black</a>\\n        <span class=\"secondaryInfo\">(2005)</span>\\n    </td>\\n    <td class=\"ratingColumn imdbRating\">\\n            <strong title=\"8.1 based on 33,302 user ratings\">8.1</strong>\\n    </td>\\n    <td class=\"ratingColumn\">\\n    <div class=\"seen-widget seen-widget-tt0375611 pending\" data-titleid=\"tt0375611\">\\n        <div class=\"boundary\">\\n            <div class=\"popover\">\\n<span class=\"delete\">&nbsp;</span><ol><li>1<li>2<li>3<li>4<li>5<li>6<li>7<li>8<li>9<li>10</ol>            </div>\\n        </div>\\n        <div class=\"inline\">\\n            <div class=\"pending\"></div>\\n            <div class=\"unseeable\">NOT YET RELEASED</div>\\n            <div class=\"unseen\"> </div>\\n            <div class=\"rating\"></div>\\n            <div class=\"seen\">Seen</div>\\n        </div>\\n    </div>\\n    </td>\\n    <td class=\"watchlistColumn\">\\n        <div class=\"wlb_ribbon\" data-tconst=\"tt0375611\" data-recordmetrics=\"true\"></div>\\n    </td>\\n  </tr>\\n\\n  <tr>\\n    <td class=\"posterColumn\">\\n\\n    <span name=\"rk\" data-value=\"65\"></span>\\n    <span name=\"ir\" data-value=\"8.116272196110435\"></span>\\n    <span name=\"us\" data-value=\"1.186704E12\"></span>\\n    <span name=\"nv\" data-value=\"73907\"></span>\\n    <span name=\"ur\" data-value=\"-2.883727803889565\"></span>\\n<a href=\"/title/tt0871510/\"\\n> <img src=\"https://m.media-amazon.com/images/M/MV5BMTUzODMyNzk4NV5BMl5BanBnXkFtZTgwNTk1NTYyNTM@._V1_UY67_CR2,0,45,67_AL_.jpg\" width=\"45\" height=\"67\" alt=\"Chak De! India\"/>\\n</a>    </td>\\n    <td class=\"titleColumn\">\\n      65.\\n      <a href=\"/title/tt0871510/\"\\ntitle=\"Shimit Amin (dir.), Shah Rukh Khan, Vidya Malvade\" >Chak De! India</a>\\n        <span class=\"secondaryInfo\">(2007)</span>\\n    </td>\\n    <td class=\"ratingColumn imdbRating\">\\n            <strong title=\"8.1 based on 73,907 user ratings\">8.1</strong>\\n    </td>\\n    <td class=\"ratingColumn\">\\n    <div class=\"seen-widget seen-widget-tt0871510 pending\" data-titleid=\"tt0871510\">\\n        <div class=\"boundary\">\\n            <div class=\"popover\">\\n<span class=\"delete\">&nbsp;</span><ol><li>1<li>2<li>3<li>4<li>5<li>6<li>7<li>8<li>9<li>10</ol>            </div>\\n        </div>\\n        <div class=\"inline\">\\n            <div class=\"pending\"></div>\\n            <div class=\"unseeable\">NOT YET RELEASED</div>\\n            <div class=\"unseen\"> </div>\\n            <div class=\"rating\"></div>\\n            <div class=\"seen\">Seen</div>\\n        </div>\\n    </div>\\n    </td>\\n    <td class=\"watchlistColumn\">\\n        <div class=\"wlb_ribbon\" data-tconst=\"tt0871510\" data-recordmetrics=\"true\"></div>\\n    </td>\\n  </tr>\\n\\n  <tr>\\n    <td class=\"posterColumn\">\\n\\n    <span name=\"rk\" data-value=\"66\"></span>\\n    <span name=\"ir\" data-value=\"8.112142649928687\"></span>\\n    <span name=\"us\" data-value=\"7.064928E11\"></span>\\n    <span name=\"nv\" data-value=\"21615\"></span>\\n    <span name=\"ur\" data-value=\"-2.8878573500713127\"></span>\\n<a href=\"/title/tt0104561/\"\\n> <img src=\"https://m.media-amazon.com/images/M/MV5BNTU1ZjQwNDAtZDAwMC00OTcyLTg4MDUtOTUwYTU4N2M4YTgxXkEyXkFqcGdeQXVyNDUzOTQ5MjY@._V1_UY67_CR2,0,45,67_AL_.jpg\" width=\"45\" height=\"67\" alt=\"Jo Jeeta Wohi Sikandar\"/>\\n</a>    </td>\\n    <td class=\"titleColumn\">\\n      66.\\n      <a href=\"/title/tt0104561/\"\\ntitle=\"Mansoor Khan (dir.), Aamir Khan, Ayesha Jhulka\" >Jo Jeeta Wohi Sikandar</a>\\n        <span class=\"secondaryInfo\">(1992)</span>\\n    </td>\\n    <td class=\"ratingColumn imdbRating\">\\n            <strong title=\"8.1 based on 21,615 user ratings\">8.1</strong>\\n    </td>\\n    <td class=\"ratingColumn\">\\n    <div class=\"seen-widget seen-widget-tt0104561 pending\" data-titleid=\"tt0104561\">\\n        <div class=\"boundary\">\\n            <div class=\"popover\">\\n<span class=\"delete\">&nbsp;</span><ol><li>1<li>2<li>3<li>4<li>5<li>6<li>7<li>8<li>9<li>10</ol>            </div>\\n        </div>\\n        <div class=\"inline\">\\n            <div class=\"pending\"></div>\\n            <div class=\"unseeable\">NOT YET RELEASED</div>\\n            <div class=\"unseen\"> </div>\\n            <div class=\"rating\"></div>\\n            <div class=\"seen\">Seen</div>\\n        </div>\\n    </div>\\n    </td>\\n    <td class=\"watchlistColumn\">\\n        <div class=\"wlb_ribbon\" data-tconst=\"tt0104561\" data-recordmetrics=\"true\"></div>\\n    </td>\\n  </tr>\\n\\n  <tr>\\n    <td class=\"posterColumn\">\\n\\n    <span name=\"rk\" data-value=\"67\"></span>\\n    <span name=\"ir\" data-value=\"8.11075956858334\"></span>\\n    <span name=\"us\" data-value=\"1.4556672E12\"></span>\\n    <span name=\"nv\" data-value=\"11353\"></span>\\n    <span name=\"ur\" data-value=\"-2.8892404314166598\"></span>\\n<a href=\"/title/tt5312232/\"\\n> <img src=\"https://m.media-amazon.com/images/M/MV5BMjBjNWYyY2UtOGNjZC00MTg4LWIwYWItYmZiNDI5MGUwNWRkXkEyXkFqcGdeQXVyNjI1NjA5NjE@._V1_UY67_CR0,0,45,67_AL_.jpg\" width=\"45\" height=\"67\" alt=\"Sairat\"/>\\n</a>    </td>\\n    <td class=\"titleColumn\">\\n      67.\\n      <a href=\"/title/tt5312232/\"\\ntitle=\"Nagraj Manjule (dir.), Rinku Rajguru, Akash Thosar\" >Sairat</a>\\n        <span class=\"secondaryInfo\">(2016)</span>\\n    </td>\\n    <td class=\"ratingColumn imdbRating\">\\n            <strong title=\"8.1 based on 11,353 user ratings\">8.1</strong>\\n    </td>\\n    <td class=\"ratingColumn\">\\n    <div class=\"seen-widget seen-widget-tt5312232 pending\" data-titleid=\"tt5312232\">\\n        <div class=\"boundary\">\\n            <div class=\"popover\">\\n<span class=\"delete\">&nbsp;</span><ol><li>1<li>2<li>3<li>4<li>5<li>6<li>7<li>8<li>9<li>10</ol>            </div>\\n        </div>\\n        <div class=\"inline\">\\n            <div class=\"pending\"></div>\\n            <div class=\"unseeable\">NOT YET RELEASED</div>\\n            <div class=\"unseen\"> </div>\\n            <div class=\"rating\"></div>\\n            <div class=\"seen\">Seen</div>\\n        </div>\\n    </div>\\n    </td>\\n    <td class=\"watchlistColumn\">\\n        <div class=\"wlb_ribbon\" data-tconst=\"tt5312232\" data-recordmetrics=\"true\"></div>\\n    </td>\\n  </tr>\\n\\n  <tr>\\n    <td class=\"posterColumn\">\\n\\n    <span name=\"rk\" data-value=\"68\"></span>\\n    <span name=\"ir\" data-value=\"8.110138464367278\"></span>\\n    <span name=\"us\" data-value=\"-1.80144E11\"></span>\\n    <span name=\"nv\" data-value=\"5086\"></span>\\n    <span name=\"ur\" data-value=\"-2.889861535632722\"></span>\\n<a href=\"/title/tt0057935/\"\\n> <img src=\"https://m.media-amazon.com/images/M/MV5BNzE1NjhiMDktOWE1ZS00YmQ3LWFjM2UtMDYzZjEyZWZkZWZjXkEyXkFqcGdeQXVyNDUzOTQ5MjY@._V1_UX45_CR0,0,45,67_AL_.jpg\" width=\"45\" height=\"67\" alt=\"Charulata\"/>\\n</a>    </td>\\n    <td class=\"titleColumn\">\\n      68.\\n      <a href=\"/title/tt0057935/\"\\ntitle=\"Satyajit Ray (dir.), Soumitra Chatterjee, Madhabi Mukherjee\" >Charulata</a>\\n        <span class=\"secondaryInfo\">(1964)</span>\\n    </td>\\n    <td class=\"ratingColumn imdbRating\">\\n            <strong title=\"8.1 based on 5,086 user ratings\">8.1</strong>\\n    </td>\\n    <td class=\"ratingColumn\">\\n    <div class=\"seen-widget seen-widget-tt0057935 pending\" data-titleid=\"tt0057935\">\\n        <div class=\"boundary\">\\n            <div class=\"popover\">\\n<span class=\"delete\">&nbsp;</span><ol><li>1<li>2<li>3<li>4<li>5<li>6<li>7<li>8<li>9<li>10</ol>            </div>\\n        </div>\\n        <div class=\"inline\">\\n            <div class=\"pending\"></div>\\n            <div class=\"unseeable\">NOT YET RELEASED</div>\\n            <div class=\"unseen\"> </div>\\n            <div class=\"rating\"></div>\\n            <div class=\"seen\">Seen</div>\\n        </div>\\n    </div>\\n    </td>\\n    <td class=\"watchlistColumn\">\\n        <div class=\"wlb_ribbon\" data-tconst=\"tt0057935\" data-recordmetrics=\"true\"></div>\\n    </td>\\n  </tr>\\n\\n  <tr>\\n    <td class=\"posterColumn\">\\n\\n    <span name=\"rk\" data-value=\"69\"></span>\\n    <span name=\"ir\" data-value=\"8.1092916245781\"></span>\\n    <span name=\"us\" data-value=\"-2.968704E11\"></span>\\n    <span name=\"nv\" data-value=\"7306\"></span>\\n    <span name=\"ur\" data-value=\"-2.8907083754219\"></span>\\n<a href=\"/title/tt0054098/\"\\n> <img src=\"https://m.media-amazon.com/images/M/MV5BMTQxNTI5ODI1N15BMl5BanBnXkFtZTcwMDc2ODgzMQ@@._V1_UY67_CR1,0,45,67_AL_.jpg\" width=\"45\" height=\"67\" alt=\"Mughal-E-Azam\"/>\\n</a>    </td>\\n    <td class=\"titleColumn\">\\n      69.\\n      <a href=\"/title/tt0054098/\"\\ntitle=\"K. Asif (dir.), Prithviraj Kapoor, Madhubala\" >Mughal-E-Azam</a>\\n        <span class=\"secondaryInfo\">(1960)</span>\\n    </td>\\n    <td class=\"ratingColumn imdbRating\">\\n            <strong title=\"8.1 based on 7,306 user ratings\">8.1</strong>\\n    </td>\\n    <td class=\"ratingColumn\">\\n    <div class=\"seen-widget seen-widget-tt0054098 pending\" data-titleid=\"tt0054098\">\\n        <div class=\"boundary\">\\n            <div class=\"popover\">\\n<span class=\"delete\">&nbsp;</span><ol><li>1<li>2<li>3<li>4<li>5<li>6<li>7<li>8<li>9<li>10</ol>            </div>\\n        </div>\\n        <div class=\"inline\">\\n            <div class=\"pending\"></div>\\n            <div class=\"unseeable\">NOT YET RELEASED</div>\\n            <div class=\"unseen\"> </div>\\n            <div class=\"rating\"></div>\\n            <div class=\"seen\">Seen</div>\\n        </div>\\n    </div>\\n    </td>\\n    <td class=\"watchlistColumn\">\\n        <div class=\"wlb_ribbon\" data-tconst=\"tt0054098\" data-recordmetrics=\"true\"></div>\\n    </td>\\n  </tr>\\n\\n  <tr>\\n    <td class=\"posterColumn\">\\n\\n    <span name=\"rk\" data-value=\"70\"></span>\\n    <span name=\"ir\" data-value=\"8.107870886933506\"></span>\\n    <span name=\"us\" data-value=\"1.1382336E12\"></span>\\n    <span name=\"nv\" data-value=\"111650\"></span>\\n    <span name=\"ur\" data-value=\"-2.8921291130664937\"></span>\\n<a href=\"/title/tt0405508/\"\\n> <img src=\"https://m.media-amazon.com/images/M/MV5BYThmZDA0YmQtMWJhNy00MDQwLTk0Y2YtMDhmZTE5ZjhlNjliXkEyXkFqcGdeQXVyODE5NzE3OTE@._V1_UY67_CR1,0,45,67_AL_.jpg\" width=\"45\" height=\"67\" alt=\"Rang De Basanti\"/>\\n</a>    </td>\\n    <td class=\"titleColumn\">\\n      70.\\n      <a href=\"/title/tt0405508/\"\\ntitle=\"Rakeysh Omprakash Mehra (dir.), Aamir Khan, Soha Ali Khan\" >Rang De Basanti</a>\\n        <span class=\"secondaryInfo\">(2006)</span>\\n    </td>\\n    <td class=\"ratingColumn imdbRating\">\\n            <strong title=\"8.1 based on 111,650 user ratings\">8.1</strong>\\n    </td>\\n    <td class=\"ratingColumn\">\\n    <div class=\"seen-widget seen-widget-tt0405508 pending\" data-titleid=\"tt0405508\">\\n        <div class=\"boundary\">\\n            <div class=\"popover\">\\n<span class=\"delete\">&nbsp;</span><ol><li>1<li>2<li>3<li>4<li>5<li>6<li>7<li>8<li>9<li>10</ol>            </div>\\n        </div>\\n        <div class=\"inline\">\\n            <div class=\"pending\"></div>\\n            <div class=\"unseeable\">NOT YET RELEASED</div>\\n            <div class=\"unseen\"> </div>\\n            <div class=\"rating\"></div>\\n            <div class=\"seen\">Seen</div>\\n        </div>\\n    </div>\\n    </td>\\n    <td class=\"watchlistColumn\">\\n        <div class=\"wlb_ribbon\" data-tconst=\"tt0405508\" data-recordmetrics=\"true\"></div>\\n    </td>\\n  </tr>\\n\\n  <tr>\\n    <td class=\"posterColumn\">\\n\\n    <span name=\"rk\" data-value=\"71\"></span>\\n    <span name=\"ir\" data-value=\"8.105553982704038\"></span>\\n    <span name=\"us\" data-value=\"1.340928E12\"></span>\\n    <span name=\"nv\" data-value=\"11658\"></span>\\n    <span name=\"ur\" data-value=\"-2.8944460172959623\"></span>\\n<a href=\"/title/tt2218988/\"\\n> <img src=\"https://m.media-amazon.com/images/M/MV5BNWYzYjk3YzItNzBhMC00NmQwLTk0MmUtNzU5MWNmNDI2Mzg0XkEyXkFqcGdeQXVyODE0NjUxNzY@._V1_UY67_CR2,0,45,67_AL_.jpg\" width=\"45\" height=\"67\" alt=\"Ustad Hotel\"/>\\n</a>    </td>\\n    <td class=\"titleColumn\">\\n      71.\\n      <a href=\"/title/tt2218988/\"\\ntitle=\"Anwar Rasheed (dir.), Dulquer Salmaan, Thilakan\" >Ustad Hotel</a>\\n        <span class=\"secondaryInfo\">(2012)</span>\\n    </td>\\n    <td class=\"ratingColumn imdbRating\">\\n            <strong title=\"8.1 based on 11,658 user ratings\">8.1</strong>\\n    </td>\\n    <td class=\"ratingColumn\">\\n    <div class=\"seen-widget seen-widget-tt2218988 pending\" data-titleid=\"tt2218988\">\\n        <div class=\"boundary\">\\n            <div class=\"popover\">\\n<span class=\"delete\">&nbsp;</span><ol><li>1<li>2<li>3<li>4<li>5<li>6<li>7<li>8<li>9<li>10</ol>            </div>\\n        </div>\\n        <div class=\"inline\">\\n            <div class=\"pending\"></div>\\n            <div class=\"unseeable\">NOT YET RELEASED</div>\\n            <div class=\"unseen\"> </div>\\n            <div class=\"rating\"></div>\\n            <div class=\"seen\">Seen</div>\\n        </div>\\n    </div>\\n    </td>\\n    <td class=\"watchlistColumn\">\\n        <div class=\"wlb_ribbon\" data-tconst=\"tt2218988\" data-recordmetrics=\"true\"></div>\\n    </td>\\n  </tr>\\n\\n  <tr>\\n    <td class=\"posterColumn\">\\n\\n    <span name=\"rk\" data-value=\"72\"></span>\\n    <span name=\"ir\" data-value=\"8.104923722087204\"></span>\\n    <span name=\"us\" data-value=\"1.3804992E12\"></span>\\n    <span name=\"nv\" data-value=\"60578\"></span>\\n    <span name=\"ur\" data-value=\"-2.8950762779127963\"></span>\\n<a href=\"/title/tt3322420/\"\\n> <img src=\"https://m.media-amazon.com/images/M/MV5BNWYyOWRlOWItZWM5MS00ZjJkLWI0MTUtYTE3NTI5MDAwYjgyXkEyXkFqcGdeQXVyODE5NzE3OTE@._V1_UY67_CR0,0,45,67_AL_.jpg\" width=\"45\" height=\"67\" alt=\"Queen\"/>\\n</a>    </td>\\n    <td class=\"titleColumn\">\\n      72.\\n      <a href=\"/title/tt3322420/\"\\ntitle=\"Vikas Bahl (dir.), Kangana Ranaut, Rajkummar Rao\" >Queen</a>\\n        <span class=\"secondaryInfo\">(2013)</span>\\n    </td>\\n    <td class=\"ratingColumn imdbRating\">\\n            <strong title=\"8.1 based on 60,578 user ratings\">8.1</strong>\\n    </td>\\n    <td class=\"ratingColumn\">\\n    <div class=\"seen-widget seen-widget-tt3322420 pending\" data-titleid=\"tt3322420\">\\n        <div class=\"boundary\">\\n            <div class=\"popover\">\\n<span class=\"delete\">&nbsp;</span><ol><li>1<li>2<li>3<li>4<li>5<li>6<li>7<li>8<li>9<li>10</ol>            </div>\\n        </div>\\n        <div class=\"inline\">\\n            <div class=\"pending\"></div>\\n            <div class=\"unseeable\">NOT YET RELEASED</div>\\n            <div class=\"unseen\"> </div>\\n            <div class=\"rating\"></div>\\n            <div class=\"seen\">Seen</div>\\n        </div>\\n    </div>\\n    </td>\\n    <td class=\"watchlistColumn\">\\n        <div class=\"wlb_ribbon\" data-tconst=\"tt3322420\" data-recordmetrics=\"true\"></div>\\n    </td>\\n  </tr>\\n\\n  <tr>\\n    <td class=\"posterColumn\">\\n\\n    <span name=\"rk\" data-value=\"73\"></span>\\n    <span name=\"ir\" data-value=\"8.102594316743174\"></span>\\n    <span name=\"us\" data-value=\"1.2742272E12\"></span>\\n    <span name=\"nv\" data-value=\"42265\"></span>\\n    <span name=\"ur\" data-value=\"-2.8974056832568262\"></span>\\n<a href=\"/title/tt1639426/\"\\n> <img src=\"https://m.media-amazon.com/images/M/MV5BNzgxMzExMzUwNV5BMl5BanBnXkFtZTcwMDc2MjUwNA@@._V1_UY67_CR0,0,45,67_AL_.jpg\" width=\"45\" height=\"67\" alt=\"Udaan\"/>\\n</a>    </td>\\n    <td class=\"titleColumn\">\\n      73.\\n      <a href=\"/title/tt1639426/\"\\ntitle=\"Vikramaditya Motwane (dir.), Rajat Barmecha, Ronit Roy\" >Udaan</a>\\n        <span class=\"secondaryInfo\">(2010)</span>\\n    </td>\\n    <td class=\"ratingColumn imdbRating\">\\n            <strong title=\"8.1 based on 42,265 user ratings\">8.1</strong>\\n    </td>\\n    <td class=\"ratingColumn\">\\n    <div class=\"seen-widget seen-widget-tt1639426 pending\" data-titleid=\"tt1639426\">\\n        <div class=\"boundary\">\\n            <div class=\"popover\">\\n<span class=\"delete\">&nbsp;</span><ol><li>1<li>2<li>3<li>4<li>5<li>6<li>7<li>8<li>9<li>10</ol>            </div>\\n        </div>\\n        <div class=\"inline\">\\n            <div class=\"pending\"></div>\\n            <div class=\"unseeable\">NOT YET RELEASED</div>\\n            <div class=\"unseen\"> </div>\\n            <div class=\"rating\"></div>\\n            <div class=\"seen\">Seen</div>\\n        </div>\\n    </div>\\n    </td>\\n    <td class=\"watchlistColumn\">\\n        <div class=\"wlb_ribbon\" data-tconst=\"tt1639426\" data-recordmetrics=\"true\"></div>\\n    </td>\\n  </tr>\\n\\n  <tr>\\n    <td class=\"posterColumn\">\\n\\n    <span name=\"rk\" data-value=\"74\"></span>\\n    <span name=\"ir\" data-value=\"8.101551988521443\"></span>\\n    <span name=\"us\" data-value=\"1.5609888E12\"></span>\\n    <span name=\"nv\" data-value=\"23292\"></span>\\n    <span name=\"ur\" data-value=\"-2.898448011478557\"></span>\\n<a href=\"/title/tt10324144/\"\\n> <img src=\"https://m.media-amazon.com/images/M/MV5BZTI2NTFiMDMtZjQxNS00YjBkLWFhNWMtOTIyMzE5Yjc0ZTZiXkEyXkFqcGdeQXVyODE5NzE3OTE@._V1_UY67_CR0,0,45,67_AL_.jpg\" width=\"45\" height=\"67\" alt=\"Article 15\"/>\\n</a>    </td>\\n    <td class=\"titleColumn\">\\n      74.\\n      <a href=\"/title/tt10324144/\"\\ntitle=\"Anubhav Sinha (dir.), Ayushmann Khurrana, Nassar\" >Article 15</a>\\n        <span class=\"secondaryInfo\">(2019)</span>\\n    </td>\\n    <td class=\"ratingColumn imdbRating\">\\n            <strong title=\"8.1 based on 23,292 user ratings\">8.1</strong>\\n    </td>\\n    <td class=\"ratingColumn\">\\n    <div class=\"seen-widget seen-widget-tt10324144 pending\" data-titleid=\"tt10324144\">\\n        <div class=\"boundary\">\\n            <div class=\"popover\">\\n<span class=\"delete\">&nbsp;</span><ol><li>1<li>2<li>3<li>4<li>5<li>6<li>7<li>8<li>9<li>10</ol>            </div>\\n        </div>\\n        <div class=\"inline\">\\n            <div class=\"pending\"></div>\\n            <div class=\"unseeable\">NOT YET RELEASED</div>\\n            <div class=\"unseen\"> </div>\\n            <div class=\"rating\"></div>\\n            <div class=\"seen\">Seen</div>\\n        </div>\\n    </div>\\n    </td>\\n    <td class=\"watchlistColumn\">\\n        <div class=\"wlb_ribbon\" data-tconst=\"tt10324144\" data-recordmetrics=\"true\"></div>\\n    </td>\\n  </tr>\\n\\n  <tr>\\n    <td class=\"posterColumn\">\\n\\n    <span name=\"rk\" data-value=\"75\"></span>\\n    <span name=\"ir\" data-value=\"8.099917269442301\"></span>\\n    <span name=\"us\" data-value=\"1.310688E12\"></span>\\n    <span name=\"nv\" data-value=\"67678\"></span>\\n    <span name=\"ur\" data-value=\"-2.900082730557699\"></span>\\n<a href=\"/title/tt1562872/\"\\n> <img src=\"https://m.media-amazon.com/images/M/MV5BZGFmMjM5OWMtZTRiNC00ODhlLThlYTItYTcyZDMyYmMyYjFjXkEyXkFqcGdeQXVyNDUzOTQ5MjY@._V1_UY67_CR0,0,45,67_AL_.jpg\" width=\"45\" height=\"67\" alt=\"Zindagi Na Milegi Dobara\"/>\\n</a>    </td>\\n    <td class=\"titleColumn\">\\n      75.\\n      <a href=\"/title/tt1562872/\"\\ntitle=\"Zoya Akhtar (dir.), Hrithik Roshan, Farhan Akhtar\" >Zindagi Na Milegi Dobara</a>\\n        <span class=\"secondaryInfo\">(2011)</span>\\n    </td>\\n    <td class=\"ratingColumn imdbRating\">\\n            <strong title=\"8.1 based on 67,678 user ratings\">8.1</strong>\\n    </td>\\n    <td class=\"ratingColumn\">\\n    <div class=\"seen-widget seen-widget-tt1562872 pending\" data-titleid=\"tt1562872\">\\n        <div class=\"boundary\">\\n            <div class=\"popover\">\\n<span class=\"delete\">&nbsp;</span><ol><li>1<li>2<li>3<li>4<li>5<li>6<li>7<li>8<li>9<li>10</ol>            </div>\\n        </div>\\n        <div class=\"inline\">\\n            <div class=\"pending\"></div>\\n            <div class=\"unseeable\">NOT YET RELEASED</div>\\n            <div class=\"unseen\"> </div>\\n            <div class=\"rating\"></div>\\n            <div class=\"seen\">Seen</div>\\n        </div>\\n    </div>\\n    </td>\\n    <td class=\"watchlistColumn\">\\n        <div class=\"wlb_ribbon\" data-tconst=\"tt1562872\" data-recordmetrics=\"true\"></div>\\n    </td>\\n  </tr>\\n\\n  <tr>\\n    <td class=\"posterColumn\">\\n\\n    <span name=\"rk\" data-value=\"76\"></span>\\n    <span name=\"ir\" data-value=\"8.09762979733508\"></span>\\n    <span name=\"us\" data-value=\"1.2205728E12\"></span>\\n    <span name=\"nv\" data-value=\"73758\"></span>\\n    <span name=\"ur\" data-value=\"-2.9023702026649207\"></span>\\n<a href=\"/title/tt1280558/\"\\n> <img src=\"https://m.media-amazon.com/images/M/MV5BOTcwMzdiMWItMjZlOS00MzAzLTg5OTItNTA4OGYyMjBhMmRiXkEyXkFqcGdeQXVyODE5NzE3OTE@._V1_UY67_CR1,0,45,67_AL_.jpg\" width=\"45\" height=\"67\" alt=\"A Wednesday\"/>\\n</a>    </td>\\n    <td class=\"titleColumn\">\\n      76.\\n      <a href=\"/title/tt1280558/\"\\ntitle=\"Neeraj Pandey (dir.), Anupam Kher, Naseeruddin Shah\" >A Wednesday</a>\\n        <span class=\"secondaryInfo\">(2008)</span>\\n    </td>\\n    <td class=\"ratingColumn imdbRating\">\\n            <strong title=\"8.1 based on 73,758 user ratings\">8.1</strong>\\n    </td>\\n    <td class=\"ratingColumn\">\\n    <div class=\"seen-widget seen-widget-tt1280558 pending\" data-titleid=\"tt1280558\">\\n        <div class=\"boundary\">\\n            <div class=\"popover\">\\n<span class=\"delete\">&nbsp;</span><ol><li>1<li>2<li>3<li>4<li>5<li>6<li>7<li>8<li>9<li>10</ol>            </div>\\n        </div>\\n        <div class=\"inline\">\\n            <div class=\"pending\"></div>\\n            <div class=\"unseeable\">NOT YET RELEASED</div>\\n            <div class=\"unseen\"> </div>\\n            <div class=\"rating\"></div>\\n            <div class=\"seen\">Seen</div>\\n        </div>\\n    </div>\\n    </td>\\n    <td class=\"watchlistColumn\">\\n        <div class=\"wlb_ribbon\" data-tconst=\"tt1280558\" data-recordmetrics=\"true\"></div>\\n    </td>\\n  </tr>\\n\\n  <tr>\\n    <td class=\"posterColumn\">\\n\\n    <span name=\"rk\" data-value=\"77\"></span>\\n    <span name=\"ir\" data-value=\"8.095430494249365\"></span>\\n    <span name=\"us\" data-value=\"9.974016E11\"></span>\\n    <span name=\"nv\" data-value=\"66640\"></span>\\n    <span name=\"ur\" data-value=\"-2.9045695057506347\"></span>\\n<a href=\"/title/tt0292490/\"\\n> <img src=\"https://m.media-amazon.com/images/M/MV5BMjRjMTYwMTYtMmRkNi00MmVkLWE0MjQtNmM3YjI0NWFhZDNmXkEyXkFqcGdeQXVyODE5NzE3OTE@._V1_UX45_CR0,0,45,67_AL_.jpg\" width=\"45\" height=\"67\" alt=\"Dil Chahta Hai\"/>\\n</a>    </td>\\n    <td class=\"titleColumn\">\\n      77.\\n      <a href=\"/title/tt0292490/\"\\ntitle=\"Farhan Akhtar (dir.), Aamir Khan, Saif Ali Khan\" >Dil Chahta Hai</a>\\n        <span class=\"secondaryInfo\">(2001)</span>\\n    </td>\\n    <td class=\"ratingColumn imdbRating\">\\n            <strong title=\"8.1 based on 66,640 user ratings\">8.1</strong>\\n    </td>\\n    <td class=\"ratingColumn\">\\n    <div class=\"seen-widget seen-widget-tt0292490 pending\" data-titleid=\"tt0292490\">\\n        <div class=\"boundary\">\\n            <div class=\"popover\">\\n<span class=\"delete\">&nbsp;</span><ol><li>1<li>2<li>3<li>4<li>5<li>6<li>7<li>8<li>9<li>10</ol>            </div>\\n        </div>\\n        <div class=\"inline\">\\n            <div class=\"pending\"></div>\\n            <div class=\"unseeable\">NOT YET RELEASED</div>\\n            <div class=\"unseen\"> </div>\\n            <div class=\"rating\"></div>\\n            <div class=\"seen\">Seen</div>\\n        </div>\\n    </div>\\n    </td>\\n    <td class=\"watchlistColumn\">\\n        <div class=\"wlb_ribbon\" data-tconst=\"tt0292490\" data-recordmetrics=\"true\"></div>\\n    </td>\\n  </tr>\\n\\n  <tr>\\n    <td class=\"posterColumn\">\\n\\n    <span name=\"rk\" data-value=\"78\"></span>\\n    <span name=\"ir\" data-value=\"8.092970628165146\"></span>\\n    <span name=\"us\" data-value=\"1.071792E12\"></span>\\n    <span name=\"nv\" data-value=\"73803\"></span>\\n    <span name=\"ur\" data-value=\"-2.907029371834854\"></span>\\n<a href=\"/title/tt0374887/\"\\n> <img src=\"https://m.media-amazon.com/images/M/MV5BMzQ4MTBlYTQtMzJkYS00OGNjLTk1MWYtNzQ0OTQ0OWEyOWU1XkEyXkFqcGdeQXVyNDgyODgxNjE@._V1_UY67_CR1,0,45,67_AL_.jpg\" width=\"45\" height=\"67\" alt=\"Munna Bhai M.B.B.S.\"/>\\n</a>    </td>\\n    <td class=\"titleColumn\">\\n      78.\\n      <a href=\"/title/tt0374887/\"\\ntitle=\"Rajkumar Hirani (dir.), Sanjay Dutt, Arshad Warsi\" >Munna Bhai M.B.B.S.</a>\\n        <span class=\"secondaryInfo\">(2003)</span>\\n    </td>\\n    <td class=\"ratingColumn imdbRating\">\\n            <strong title=\"8.1 based on 73,803 user ratings\">8.1</strong>\\n    </td>\\n    <td class=\"ratingColumn\">\\n    <div class=\"seen-widget seen-widget-tt0374887 pending\" data-titleid=\"tt0374887\">\\n        <div class=\"boundary\">\\n            <div class=\"popover\">\\n<span class=\"delete\">&nbsp;</span><ol><li>1<li>2<li>3<li>4<li>5<li>6<li>7<li>8<li>9<li>10</ol>            </div>\\n        </div>\\n        <div class=\"inline\">\\n            <div class=\"pending\"></div>\\n            <div class=\"unseeable\">NOT YET RELEASED</div>\\n            <div class=\"unseen\"> </div>\\n            <div class=\"rating\"></div>\\n            <div class=\"seen\">Seen</div>\\n        </div>\\n    </div>\\n    </td>\\n    <td class=\"watchlistColumn\">\\n        <div class=\"wlb_ribbon\" data-tconst=\"tt0374887\" data-recordmetrics=\"true\"></div>\\n    </td>\\n  </tr>\\n\\n  <tr>\\n    <td class=\"posterColumn\">\\n\\n    <span name=\"rk\" data-value=\"79\"></span>\\n    <span name=\"ir\" data-value=\"8.091000295591547\"></span>\\n    <span name=\"us\" data-value=\"9.254304E11\"></span>\\n    <span name=\"nv\" data-value=\"23919\"></span>\\n    <span name=\"ur\" data-value=\"-2.908999704408453\"></span>\\n<a href=\"/title/tt0200087/\"\\n> <img src=\"https://m.media-amazon.com/images/M/MV5BZTljOTU3MjQtMjVjYS00NWM5LTljZjQtMjhiM2JmMDYxZjZhXkEyXkFqcGdeQXVyODE5NzE3OTE@._V1_UY67_CR1,0,45,67_AL_.jpg\" width=\"45\" height=\"67\" alt=\"Sarfarosh\"/>\\n</a>    </td>\\n    <td class=\"titleColumn\">\\n      79.\\n      <a href=\"/title/tt0200087/\"\\ntitle=\"John Mathew Matthan (dir.), Aamir Khan, Naseeruddin Shah\" >Sarfarosh</a>\\n        <span class=\"secondaryInfo\">(1999)</span>\\n    </td>\\n    <td class=\"ratingColumn imdbRating\">\\n            <strong title=\"8.1 based on 23,919 user ratings\">8.1</strong>\\n    </td>\\n    <td class=\"ratingColumn\">\\n    <div class=\"seen-widget seen-widget-tt0200087 pending\" data-titleid=\"tt0200087\">\\n        <div class=\"boundary\">\\n            <div class=\"popover\">\\n<span class=\"delete\">&nbsp;</span><ol><li>1<li>2<li>3<li>4<li>5<li>6<li>7<li>8<li>9<li>10</ol>            </div>\\n        </div>\\n        <div class=\"inline\">\\n            <div class=\"pending\"></div>\\n            <div class=\"unseeable\">NOT YET RELEASED</div>\\n            <div class=\"unseen\"> </div>\\n            <div class=\"rating\"></div>\\n            <div class=\"seen\">Seen</div>\\n        </div>\\n    </div>\\n    </td>\\n    <td class=\"watchlistColumn\">\\n        <div class=\"wlb_ribbon\" data-tconst=\"tt0200087\" data-recordmetrics=\"true\"></div>\\n    </td>\\n  </tr>\\n\\n  <tr>\\n    <td class=\"posterColumn\">\\n\\n    <span name=\"rk\" data-value=\"80\"></span>\\n    <span name=\"ir\" data-value=\"8.089969135670742\"></span>\\n    <span name=\"us\" data-value=\"7.839072E11\"></span>\\n    <span name=\"nv\" data-value=\"49205\"></span>\\n    <span name=\"ur\" data-value=\"-2.910030864329258\"></span>\\n<a href=\"/title/tt0109117/\"\\n> <img src=\"https://m.media-amazon.com/images/M/MV5BZTIwYzRjMGYtZWQ0Ni00NDZhLThhZDYtOGViZGJiZTkwMzk2XkEyXkFqcGdeQXVyODE5NzE3OTE@._V1_UY67_CR2,0,45,67_AL_.jpg\" width=\"45\" height=\"67\" alt=\"Andaz Apna Apna\"/>\\n</a>    </td>\\n    <td class=\"titleColumn\">\\n      80.\\n      <a href=\"/title/tt0109117/\"\\ntitle=\"Rajkumar Santoshi (dir.), Aamir Khan, Salman Khan\" >Andaz Apna Apna</a>\\n        <span class=\"secondaryInfo\">(1994)</span>\\n    </td>\\n    <td class=\"ratingColumn imdbRating\">\\n            <strong title=\"8.1 based on 49,205 user ratings\">8.1</strong>\\n    </td>\\n    <td class=\"ratingColumn\">\\n    <div class=\"seen-widget seen-widget-tt0109117 pending\" data-titleid=\"tt0109117\">\\n        <div class=\"boundary\">\\n            <div class=\"popover\">\\n<span class=\"delete\">&nbsp;</span><ol><li>1<li>2<li>3<li>4<li>5<li>6<li>7<li>8<li>9<li>10</ol>            </div>\\n        </div>\\n        <div class=\"inline\">\\n            <div class=\"pending\"></div>\\n            <div class=\"unseeable\">NOT YET RELEASED</div>\\n            <div class=\"unseen\"> </div>\\n            <div class=\"rating\"></div>\\n            <div class=\"seen\">Seen</div>\\n        </div>\\n    </div>\\n    </td>\\n    <td class=\"watchlistColumn\">\\n        <div class=\"wlb_ribbon\" data-tconst=\"tt0109117\" data-recordmetrics=\"true\"></div>\\n    </td>\\n  </tr>\\n\\n  <tr>\\n    <td class=\"posterColumn\">\\n\\n    <span name=\"rk\" data-value=\"81\"></span>\\n    <span name=\"ir\" data-value=\"8.088380241513253\"></span>\\n    <span name=\"us\" data-value=\"1.4319936E12\"></span>\\n    <span name=\"nv\" data-value=\"23626\"></span>\\n    <span name=\"ur\" data-value=\"-2.911619758486747\"></span>\\n<a href=\"/title/tt4635372/\"\\n> <img src=\"https://m.media-amazon.com/images/M/MV5BMTU4NTE0NTMyNl5BMl5BanBnXkFtZTgwNjI5MDkxNjE@._V1_UX45_CR0,0,45,67_AL_.jpg\" width=\"45\" height=\"67\" alt=\"Masaan\"/>\\n</a>    </td>\\n    <td class=\"titleColumn\">\\n      81.\\n      <a href=\"/title/tt4635372/\"\\ntitle=\"Neeraj Ghaywan (dir.), Richa Chadha, Sanjay Mishra\" >Masaan</a>\\n        <span class=\"secondaryInfo\">(2015)</span>\\n    </td>\\n    <td class=\"ratingColumn imdbRating\">\\n            <strong title=\"8.1 based on 23,626 user ratings\">8.1</strong>\\n    </td>\\n    <td class=\"ratingColumn\">\\n    <div class=\"seen-widget seen-widget-tt4635372 pending\" data-titleid=\"tt4635372\">\\n        <div class=\"boundary\">\\n            <div class=\"popover\">\\n<span class=\"delete\">&nbsp;</span><ol><li>1<li>2<li>3<li>4<li>5<li>6<li>7<li>8<li>9<li>10</ol>            </div>\\n        </div>\\n        <div class=\"inline\">\\n            <div class=\"pending\"></div>\\n            <div class=\"unseeable\">NOT YET RELEASED</div>\\n            <div class=\"unseen\"> </div>\\n            <div class=\"rating\"></div>\\n            <div class=\"seen\">Seen</div>\\n        </div>\\n    </div>\\n    </td>\\n    <td class=\"watchlistColumn\">\\n        <div class=\"wlb_ribbon\" data-tconst=\"tt4635372\" data-recordmetrics=\"true\"></div>\\n    </td>\\n  </tr>\\n\\n  <tr>\\n    <td class=\"posterColumn\">\\n\\n    <span name=\"rk\" data-value=\"82\"></span>\\n    <span name=\"ir\" data-value=\"8.086809137023021\"></span>\\n    <span name=\"us\" data-value=\"1.3487904E12\"></span>\\n    <span name=\"nv\" data-value=\"51569\"></span>\\n    <span name=\"ur\" data-value=\"-2.913190862976979\"></span>\\n<a href=\"/title/tt2283748/\"\\n> <img src=\"https://m.media-amazon.com/images/M/MV5BMGNhYjUwNmYtNDQxNi00NDdmLTljMDAtZWM1NDQyZTk3ZDYwXkEyXkFqcGdeQXVyODE5NzE3OTE@._V1_UY67_CR0,0,45,67_AL_.jpg\" width=\"45\" height=\"67\" alt=\"OMG: Oh My God!\"/>\\n</a>    </td>\\n    <td class=\"titleColumn\">\\n      82.\\n      <a href=\"/title/tt2283748/\"\\ntitle=\"Umesh Shukla (dir.), Paresh Rawal, Akshay Kumar\" >OMG: Oh My God!</a>\\n        <span class=\"secondaryInfo\">(2012)</span>\\n    </td>\\n    <td class=\"ratingColumn imdbRating\">\\n            <strong title=\"8.1 based on 51,569 user ratings\">8.1</strong>\\n    </td>\\n    <td class=\"ratingColumn\">\\n    <div class=\"seen-widget seen-widget-tt2283748 pending\" data-titleid=\"tt2283748\">\\n        <div class=\"boundary\">\\n            <div class=\"popover\">\\n<span class=\"delete\">&nbsp;</span><ol><li>1<li>2<li>3<li>4<li>5<li>6<li>7<li>8<li>9<li>10</ol>            </div>\\n        </div>\\n        <div class=\"inline\">\\n            <div class=\"pending\"></div>\\n            <div class=\"unseeable\">NOT YET RELEASED</div>\\n            <div class=\"unseen\"> </div>\\n            <div class=\"rating\"></div>\\n            <div class=\"seen\">Seen</div>\\n        </div>\\n    </div>\\n    </td>\\n    <td class=\"watchlistColumn\">\\n        <div class=\"wlb_ribbon\" data-tconst=\"tt2283748\" data-recordmetrics=\"true\"></div>\\n    </td>\\n  </tr>\\n\\n  <tr>\\n    <td class=\"posterColumn\">\\n\\n    <span name=\"rk\" data-value=\"83\"></span>\\n    <span name=\"ir\" data-value=\"8.084388365694796\"></span>\\n    <span name=\"us\" data-value=\"7.138368E11\"></span>\\n    <span name=\"nv\" data-value=\"11655\"></span>\\n    <span name=\"ur\" data-value=\"-2.915611634305204\"></span>\\n<a href=\"/title/tt0105271/\"\\n> <img src=\"https://m.media-amazon.com/images/M/MV5BMTBlZTk1YTMtZTQ2Ni00YzhkLWJiNDEtNWI2NjE0M2I4ZmYzXkEyXkFqcGdeQXVyNjc5Mjg4Nzc@._V1_UX45_CR0,0,45,67_AL_.jpg\" width=\"45\" height=\"67\" alt=\"Roja\"/>\\n</a>    </td>\\n    <td class=\"titleColumn\">\\n      83.\\n      <a href=\"/title/tt0105271/\"\\ntitle=\"Mani Ratnam (dir.), Arvind Swamy, Madhoo\" >Roja</a>\\n        <span class=\"secondaryInfo\">(1992)</span>\\n    </td>\\n    <td class=\"ratingColumn imdbRating\">\\n            <strong title=\"8.1 based on 11,655 user ratings\">8.1</strong>\\n    </td>\\n    <td class=\"ratingColumn\">\\n    <div class=\"seen-widget seen-widget-tt0105271 pending\" data-titleid=\"tt0105271\">\\n        <div class=\"boundary\">\\n            <div class=\"popover\">\\n<span class=\"delete\">&nbsp;</span><ol><li>1<li>2<li>3<li>4<li>5<li>6<li>7<li>8<li>9<li>10</ol>            </div>\\n        </div>\\n        <div class=\"inline\">\\n            <div class=\"pending\"></div>\\n            <div class=\"unseeable\">NOT YET RELEASED</div>\\n            <div class=\"unseen\"> </div>\\n            <div class=\"rating\"></div>\\n            <div class=\"seen\">Seen</div>\\n        </div>\\n    </div>\\n    </td>\\n    <td class=\"watchlistColumn\">\\n        <div class=\"wlb_ribbon\" data-tconst=\"tt0105271\" data-recordmetrics=\"true\"></div>\\n    </td>\\n  </tr>\\n\\n  <tr>\\n    <td class=\"posterColumn\">\\n\\n    <span name=\"rk\" data-value=\"84\"></span>\\n    <span name=\"ir\" data-value=\"8.076451176524511\"></span>\\n    <span name=\"us\" data-value=\"9.925632E11\"></span>\\n    <span name=\"nv\" data-value=\"104779\"></span>\\n    <span name=\"ur\" data-value=\"-2.923548823475489\"></span>\\n<a href=\"/title/tt0169102/\"\\n> <img src=\"https://m.media-amazon.com/images/M/MV5BNDYxNWUzZmYtOGQxMC00MTdkLTkxOTctYzkyOGIwNWQxZjhmXkEyXkFqcGdeQXVyNjU0OTQ0OTY@._V1_UX45_CR0,0,45,67_AL_.jpg\" width=\"45\" height=\"67\" alt=\"Lagaan: Once Upon a Time in India\"/>\\n</a>    </td>\\n    <td class=\"titleColumn\">\\n      84.\\n      <a href=\"/title/tt0169102/\"\\ntitle=\"Ashutosh Gowariker (dir.), Aamir Khan, Raghuvir Yadav\" >Lagaan: Once Upon a Time in India</a>\\n        <span class=\"secondaryInfo\">(2001)</span>\\n    </td>\\n    <td class=\"ratingColumn imdbRating\">\\n            <strong title=\"8.1 based on 104,779 user ratings\">8.1</strong>\\n    </td>\\n    <td class=\"ratingColumn\">\\n    <div class=\"seen-widget seen-widget-tt0169102 pending\" data-titleid=\"tt0169102\">\\n        <div class=\"boundary\">\\n            <div class=\"popover\">\\n<span class=\"delete\">&nbsp;</span><ol><li>1<li>2<li>3<li>4<li>5<li>6<li>7<li>8<li>9<li>10</ol>            </div>\\n        </div>\\n        <div class=\"inline\">\\n            <div class=\"pending\"></div>\\n            <div class=\"unseeable\">NOT YET RELEASED</div>\\n            <div class=\"unseen\"> </div>\\n            <div class=\"rating\"></div>\\n            <div class=\"seen\">Seen</div>\\n        </div>\\n    </div>\\n    </td>\\n    <td class=\"watchlistColumn\">\\n        <div class=\"wlb_ribbon\" data-tconst=\"tt0169102\" data-recordmetrics=\"true\"></div>\\n    </td>\\n  </tr>\\n\\n  <tr>\\n    <td class=\"posterColumn\">\\n\\n    <span name=\"rk\" data-value=\"85\"></span>\\n    <span name=\"ir\" data-value=\"8.074060530680297\"></span>\\n    <span name=\"us\" data-value=\"1.4546304E12\"></span>\\n    <span name=\"nv\" data-value=\"6705\"></span>\\n    <span name=\"ur\" data-value=\"-2.9259394693197027\"></span>\\n<a href=\"/title/tt4851630/\"\\n> <img src=\"https://m.media-amazon.com/images/M/MV5BMmNlZmUwODgtN2QwOS00ZTljLTkzNTgtNGY0ODI3YjA5NDA1XkEyXkFqcGdeQXVyMjkxNzQ1NDI@._V1_UY67_CR2,0,45,67_AL_.jpg\" width=\"45\" height=\"67\" alt=\"Maheshinte Prathikaaram\"/>\\n</a>    </td>\\n    <td class=\"titleColumn\">\\n      85.\\n      <a href=\"/title/tt4851630/\"\\ntitle=\"Dileesh Pothan (dir.), Fahadh Faasil, Aparna Balamurali\" >Maheshinte Prathikaaram</a>\\n        <span class=\"secondaryInfo\">(2016)</span>\\n    </td>\\n    <td class=\"ratingColumn imdbRating\">\\n            <strong title=\"8.1 based on 6,705 user ratings\">8.1</strong>\\n    </td>\\n    <td class=\"ratingColumn\">\\n    <div class=\"seen-widget seen-widget-tt4851630 pending\" data-titleid=\"tt4851630\">\\n        <div class=\"boundary\">\\n            <div class=\"popover\">\\n<span class=\"delete\">&nbsp;</span><ol><li>1<li>2<li>3<li>4<li>5<li>6<li>7<li>8<li>9<li>10</ol>            </div>\\n        </div>\\n        <div class=\"inline\">\\n            <div class=\"pending\"></div>\\n            <div class=\"unseeable\">NOT YET RELEASED</div>\\n            <div class=\"unseen\"> </div>\\n            <div class=\"rating\"></div>\\n            <div class=\"seen\">Seen</div>\\n        </div>\\n    </div>\\n    </td>\\n    <td class=\"watchlistColumn\">\\n        <div class=\"wlb_ribbon\" data-tconst=\"tt4851630\" data-recordmetrics=\"true\"></div>\\n    </td>\\n  </tr>\\n\\n  <tr>\\n    <td class=\"posterColumn\">\\n\\n    <span name=\"rk\" data-value=\"86\"></span>\\n    <span name=\"ir\" data-value=\"8.072947042988002\"></span>\\n    <span name=\"us\" data-value=\"1.5107904E12\"></span>\\n    <span name=\"nv\" data-value=\"10089\"></span>\\n    <span name=\"ur\" data-value=\"-2.9270529570119983\"></span>\\n<a href=\"/title/tt7060460/\"\\n> <img src=\"https://m.media-amazon.com/images/M/MV5BNGFkYTM4NzQtNWE3Yy00NTM2LWI1MDktYTg5NTIxMzQ5MmE4XkEyXkFqcGdeQXVyODIwMDI1NjM@._V1_UX45_CR0,0,45,67_AL_.jpg\" width=\"45\" height=\"67\" alt=\"Theeran adhigaaram ondru\"/>\\n</a>    </td>\\n    <td class=\"titleColumn\">\\n      86.\\n      <a href=\"/title/tt7060460/\"\\ntitle=\"H. Vinoth (dir.), Karthi, Rakul Preet Singh\" >Theeran adhigaaram ondru</a>\\n        <span class=\"secondaryInfo\">(2017)</span>\\n    </td>\\n    <td class=\"ratingColumn imdbRating\">\\n            <strong title=\"8.1 based on 10,089 user ratings\">8.1</strong>\\n    </td>\\n    <td class=\"ratingColumn\">\\n    <div class=\"seen-widget seen-widget-tt7060460 pending\" data-titleid=\"tt7060460\">\\n        <div class=\"boundary\">\\n            <div class=\"popover\">\\n<span class=\"delete\">&nbsp;</span><ol><li>1<li>2<li>3<li>4<li>5<li>6<li>7<li>8<li>9<li>10</ol>            </div>\\n        </div>\\n        <div class=\"inline\">\\n            <div class=\"pending\"></div>\\n            <div class=\"unseeable\">NOT YET RELEASED</div>\\n            <div class=\"unseen\"> </div>\\n            <div class=\"rating\"></div>\\n            <div class=\"seen\">Seen</div>\\n        </div>\\n    </div>\\n    </td>\\n    <td class=\"watchlistColumn\">\\n        <div class=\"wlb_ribbon\" data-tconst=\"tt7060460\" data-recordmetrics=\"true\"></div>\\n    </td>\\n  </tr>\\n\\n  <tr>\\n    <td class=\"posterColumn\">\\n\\n    <span name=\"rk\" data-value=\"87\"></span>\\n    <span name=\"ir\" data-value=\"8.072267677885637\"></span>\\n    <span name=\"us\" data-value=\"1.3311648E12\"></span>\\n    <span name=\"nv\" data-value=\"57672\"></span>\\n    <span name=\"ur\" data-value=\"-2.9277323221143625\"></span>\\n<a href=\"/title/tt1821480/\"\\n> <img src=\"https://m.media-amazon.com/images/M/MV5BMTQ1NDI0NzkyOF5BMl5BanBnXkFtZTcwNzAyNzE2Nw@@._V1_UY67_CR0,0,45,67_AL_.jpg\" width=\"45\" height=\"67\" alt=\"Kahaani\"/>\\n</a>    </td>\\n    <td class=\"titleColumn\">\\n      87.\\n      <a href=\"/title/tt1821480/\"\\ntitle=\"Sujoy Ghosh (dir.), Vidya Balan, Parambrata Chattopadhyay\" >Kahaani</a>\\n        <span class=\"secondaryInfo\">(2012)</span>\\n    </td>\\n    <td class=\"ratingColumn imdbRating\">\\n            <strong title=\"8.1 based on 57,672 user ratings\">8.1</strong>\\n    </td>\\n    <td class=\"ratingColumn\">\\n    <div class=\"seen-widget seen-widget-tt1821480 pending\" data-titleid=\"tt1821480\">\\n        <div class=\"boundary\">\\n            <div class=\"popover\">\\n<span class=\"delete\">&nbsp;</span><ol><li>1<li>2<li>3<li>4<li>5<li>6<li>7<li>8<li>9<li>10</ol>            </div>\\n        </div>\\n        <div class=\"inline\">\\n            <div class=\"pending\"></div>\\n            <div class=\"unseeable\">NOT YET RELEASED</div>\\n            <div class=\"unseen\"> </div>\\n            <div class=\"rating\"></div>\\n            <div class=\"seen\">Seen</div>\\n        </div>\\n    </div>\\n    </td>\\n    <td class=\"watchlistColumn\">\\n        <div class=\"wlb_ribbon\" data-tconst=\"tt1821480\" data-recordmetrics=\"true\"></div>\\n    </td>\\n  </tr>\\n\\n  <tr>\\n    <td class=\"posterColumn\">\\n\\n    <span name=\"rk\" data-value=\"88\"></span>\\n    <span name=\"ir\" data-value=\"8.07065645943922\"></span>\\n    <span name=\"us\" data-value=\"9.556704E11\"></span>\\n    <span name=\"nv\" data-value=\"5239\"></span>\\n    <span name=\"ur\" data-value=\"-2.9293435405607795\"></span>\\n<a href=\"/title/tt0242256/\"\\n> <img src=\"https://m.media-amazon.com/images/M/MV5BNTA3ZmY5YTQtZjY4NS00N2U5LTk3ODAtYTMyMGQyMTkwYTBkXkEyXkFqcGdeQXVyODE0NjUxNzY@._V1_UY67_CR1,0,45,67_AL_.jpg\" width=\"45\" height=\"67\" alt=\"Alai Payuthey\"/>\\n</a>    </td>\\n    <td class=\"titleColumn\">\\n      88.\\n      <a href=\"/title/tt0242256/\"\\ntitle=\"Mani Ratnam (dir.), Madhavan, Shalini\" >Alai Payuthey</a>\\n        <span class=\"secondaryInfo\">(2000)</span>\\n    </td>\\n    <td class=\"ratingColumn imdbRating\">\\n            <strong title=\"8.1 based on 5,239 user ratings\">8.1</strong>\\n    </td>\\n    <td class=\"ratingColumn\">\\n    <div class=\"seen-widget seen-widget-tt0242256 pending\" data-titleid=\"tt0242256\">\\n        <div class=\"boundary\">\\n            <div class=\"popover\">\\n<span class=\"delete\">&nbsp;</span><ol><li>1<li>2<li>3<li>4<li>5<li>6<li>7<li>8<li>9<li>10</ol>            </div>\\n        </div>\\n        <div class=\"inline\">\\n            <div class=\"pending\"></div>\\n            <div class=\"unseeable\">NOT YET RELEASED</div>\\n            <div class=\"unseen\"> </div>\\n            <div class=\"rating\"></div>\\n            <div class=\"seen\">Seen</div>\\n        </div>\\n    </div>\\n    </td>\\n    <td class=\"watchlistColumn\">\\n        <div class=\"wlb_ribbon\" data-tconst=\"tt0242256\" data-recordmetrics=\"true\"></div>\\n    </td>\\n  </tr>\\n\\n  <tr>\\n    <td class=\"posterColumn\">\\n\\n    <span name=\"rk\" data-value=\"89\"></span>\\n    <span name=\"ir\" data-value=\"8.063110032005039\"></span>\\n    <span name=\"us\" data-value=\"1.4188608E12\"></span>\\n    <span name=\"nv\" data-value=\"162388\"></span>\\n    <span name=\"ur\" data-value=\"-2.9368899679949614\"></span>\\n<a href=\"/title/tt2338151/\"\\n> <img src=\"https://m.media-amazon.com/images/M/MV5BMTYzOTE2NjkxN15BMl5BanBnXkFtZTgwMDgzMTg0MzE@._V1_UY67_CR0,0,45,67_AL_.jpg\" width=\"45\" height=\"67\" alt=\"PK\"/>\\n</a>    </td>\\n    <td class=\"titleColumn\">\\n      89.\\n      <a href=\"/title/tt2338151/\"\\ntitle=\"Rajkumar Hirani (dir.), Aamir Khan, Anushka Sharma\" >PK</a>\\n        <span class=\"secondaryInfo\">(2014)</span>\\n    </td>\\n    <td class=\"ratingColumn imdbRating\">\\n            <strong title=\"8.1 based on 162,388 user ratings\">8.1</strong>\\n    </td>\\n    <td class=\"ratingColumn\">\\n    <div class=\"seen-widget seen-widget-tt2338151 pending\" data-titleid=\"tt2338151\">\\n        <div class=\"boundary\">\\n            <div class=\"popover\">\\n<span class=\"delete\">&nbsp;</span><ol><li>1<li>2<li>3<li>4<li>5<li>6<li>7<li>8<li>9<li>10</ol>            </div>\\n        </div>\\n        <div class=\"inline\">\\n            <div class=\"pending\"></div>\\n            <div class=\"unseeable\">NOT YET RELEASED</div>\\n            <div class=\"unseen\"> </div>\\n            <div class=\"rating\"></div>\\n            <div class=\"seen\">Seen</div>\\n        </div>\\n    </div>\\n    </td>\\n    <td class=\"watchlistColumn\">\\n        <div class=\"wlb_ribbon\" data-tconst=\"tt2338151\" data-recordmetrics=\"true\"></div>\\n    </td>\\n  </tr>\\n\\n  <tr>\\n    <td class=\"posterColumn\">\\n\\n    <span name=\"rk\" data-value=\"90\"></span>\\n    <span name=\"ir\" data-value=\"8.062139873395013\"></span>\\n    <span name=\"us\" data-value=\"7.90128E11\"></span>\\n    <span name=\"nv\" data-value=\"8767\"></span>\\n    <span name=\"ur\" data-value=\"-2.9378601266049866\"></span>\\n<a href=\"/title/tt0139876/\"\\n> <img src=\"https://m.media-amazon.com/images/M/MV5BOWIyZWJiY2MtYWI5OC00ZmVjLWI0YWItMDJjYzE4OTE2ZDVhXkEyXkFqcGdeQXVyODIwMDI1NjM@._V1_UX45_CR0,0,45,67_AL_.jpg\" width=\"45\" height=\"67\" alt=\"Baasha\"/>\\n</a>    </td>\\n    <td class=\"titleColumn\">\\n      90.\\n      <a href=\"/title/tt0139876/\"\\ntitle=\"Suresh Krishna (dir.), Rajinikanth, Nagma\" >Baasha</a>\\n        <span class=\"secondaryInfo\">(1995)</span>\\n    </td>\\n    <td class=\"ratingColumn imdbRating\">\\n            <strong title=\"8.1 based on 8,767 user ratings\">8.1</strong>\\n    </td>\\n    <td class=\"ratingColumn\">\\n    <div class=\"seen-widget seen-widget-tt0139876 pending\" data-titleid=\"tt0139876\">\\n        <div class=\"boundary\">\\n            <div class=\"popover\">\\n<span class=\"delete\">&nbsp;</span><ol><li>1<li>2<li>3<li>4<li>5<li>6<li>7<li>8<li>9<li>10</ol>            </div>\\n        </div>\\n        <div class=\"inline\">\\n            <div class=\"pending\"></div>\\n            <div class=\"unseeable\">NOT YET RELEASED</div>\\n            <div class=\"unseen\"> </div>\\n            <div class=\"rating\"></div>\\n            <div class=\"seen\">Seen</div>\\n        </div>\\n    </div>\\n    </td>\\n    <td class=\"watchlistColumn\">\\n        <div class=\"wlb_ribbon\" data-tconst=\"tt0139876\" data-recordmetrics=\"true\"></div>\\n    </td>\\n  </tr>\\n\\n  <tr>\\n    <td class=\"posterColumn\">\\n\\n    <span name=\"rk\" data-value=\"91\"></span>\\n    <span name=\"ir\" data-value=\"8.05840792298819\"></span>\\n    <span name=\"us\" data-value=\"1.5380064E12\"></span>\\n    <span name=\"nv\" data-value=\"43210\"></span>\\n    <span name=\"ur\" data-value=\"-2.9415920770118102\"></span>\\n<a href=\"/title/tt8291224/\"\\n> <img src=\"https://m.media-amazon.com/images/M/MV5BMWU4ZjNlNTQtOGE2MS00NDI0LWFlYjMtMmY3ZWVkMjJkNGRmXkEyXkFqcGdeQXVyNjE1OTQ0NjA@._V1_UY67_CR0,0,45,67_AL_.jpg\" width=\"45\" height=\"67\" alt=\"Uri: The Surgical Strike\"/>\\n</a>    </td>\\n    <td class=\"titleColumn\">\\n      91.\\n      <a href=\"/title/tt8291224/\"\\ntitle=\"Aditya Dhar (dir.), Vicky Kaushal, Paresh Rawal\" >Uri: The Surgical Strike</a>\\n        <span class=\"secondaryInfo\">(2018)</span>\\n    </td>\\n    <td class=\"ratingColumn imdbRating\">\\n            <strong title=\"8.1 based on 43,210 user ratings\">8.1</strong>\\n    </td>\\n    <td class=\"ratingColumn\">\\n    <div class=\"seen-widget seen-widget-tt8291224 pending\" data-titleid=\"tt8291224\">\\n        <div class=\"boundary\">\\n            <div class=\"popover\">\\n<span class=\"delete\">&nbsp;</span><ol><li>1<li>2<li>3<li>4<li>5<li>6<li>7<li>8<li>9<li>10</ol>            </div>\\n        </div>\\n        <div class=\"inline\">\\n            <div class=\"pending\"></div>\\n            <div class=\"unseeable\">NOT YET RELEASED</div>\\n            <div class=\"unseen\"> </div>\\n            <div class=\"rating\"></div>\\n            <div class=\"seen\">Seen</div>\\n        </div>\\n    </div>\\n    </td>\\n    <td class=\"watchlistColumn\">\\n        <div class=\"wlb_ribbon\" data-tconst=\"tt8291224\" data-recordmetrics=\"true\"></div>\\n    </td>\\n  </tr>\\n\\n  <tr>\\n    <td class=\"posterColumn\">\\n\\n    <span name=\"rk\" data-value=\"92\"></span>\\n    <span name=\"ir\" data-value=\"8.05437326177518\"></span>\\n    <span name=\"us\" data-value=\"1.1250144E12\"></span>\\n    <span name=\"nv\" data-value=\"15858\"></span>\\n    <span name=\"ur\" data-value=\"-2.9456267382248207\"></span>\\n<a href=\"/title/tt0453729/\"\\n> <img src=\"https://m.media-amazon.com/images/M/MV5BMjA3NzUzMjU5MF5BMl5BanBnXkFtZTgwNzMxMDAxMzE@._V1_UY67_CR2,0,45,67_AL_.jpg\" width=\"45\" height=\"67\" alt=\"Iqbal\"/>\\n</a>    </td>\\n    <td class=\"titleColumn\">\\n      92.\\n      <a href=\"/title/tt0453729/\"\\ntitle=\"Nagesh Kukunoor (dir.), Shreyas Talpade, Naseeruddin Shah\" >Iqbal</a>\\n        <span class=\"secondaryInfo\">(2005)</span>\\n    </td>\\n    <td class=\"ratingColumn imdbRating\">\\n            <strong title=\"8.1 based on 15,858 user ratings\">8.1</strong>\\n    </td>\\n    <td class=\"ratingColumn\">\\n    <div class=\"seen-widget seen-widget-tt0453729 pending\" data-titleid=\"tt0453729\">\\n        <div class=\"boundary\">\\n            <div class=\"popover\">\\n<span class=\"delete\">&nbsp;</span><ol><li>1<li>2<li>3<li>4<li>5<li>6<li>7<li>8<li>9<li>10</ol>            </div>\\n        </div>\\n        <div class=\"inline\">\\n            <div class=\"pending\"></div>\\n            <div class=\"unseeable\">NOT YET RELEASED</div>\\n            <div class=\"unseen\"> </div>\\n            <div class=\"rating\"></div>\\n            <div class=\"seen\">Seen</div>\\n        </div>\\n    </div>\\n    </td>\\n    <td class=\"watchlistColumn\">\\n        <div class=\"wlb_ribbon\" data-tconst=\"tt0453729\" data-recordmetrics=\"true\"></div>\\n    </td>\\n  </tr>\\n\\n  <tr>\\n    <td class=\"posterColumn\">\\n\\n    <span name=\"rk\" data-value=\"93\"></span>\\n    <span name=\"ir\" data-value=\"8.050183401743968\"></span>\\n    <span name=\"us\" data-value=\"1.473984E12\"></span>\\n    <span name=\"nv\" data-value=\"39051\"></span>\\n    <span name=\"ur\" data-value=\"-2.9498165982560316\"></span>\\n<a href=\"/title/tt5571734/\"\\n> <img src=\"https://m.media-amazon.com/images/M/MV5BNGI1MTI1YTQtY2QwYi00YzUzLTg3NWYtNzExZDlhOTZmZWU0XkEyXkFqcGdeQXVyMDkwNTkwNg@@._V1_UY67_CR2,0,45,67_AL_.jpg\" width=\"45\" height=\"67\" alt=\"Pink\"/>\\n</a>    </td>\\n    <td class=\"titleColumn\">\\n      93.\\n      <a href=\"/title/tt5571734/\"\\ntitle=\"Aniruddha Roy Chowdhury (dir.), Taapsee Pannu, Amitabh Bachchan\" >Pink</a>\\n        <span class=\"secondaryInfo\">(2016)</span>\\n    </td>\\n    <td class=\"ratingColumn imdbRating\">\\n            <strong title=\"8.1 based on 39,051 user ratings\">8.1</strong>\\n    </td>\\n    <td class=\"ratingColumn\">\\n    <div class=\"seen-widget seen-widget-tt5571734 pending\" data-titleid=\"tt5571734\">\\n        <div class=\"boundary\">\\n            <div class=\"popover\">\\n<span class=\"delete\">&nbsp;</span><ol><li>1<li>2<li>3<li>4<li>5<li>6<li>7<li>8<li>9<li>10</ol>            </div>\\n        </div>\\n        <div class=\"inline\">\\n            <div class=\"pending\"></div>\\n            <div class=\"unseeable\">NOT YET RELEASED</div>\\n            <div class=\"unseen\"> </div>\\n            <div class=\"rating\"></div>\\n            <div class=\"seen\">Seen</div>\\n        </div>\\n    </div>\\n    </td>\\n    <td class=\"watchlistColumn\">\\n        <div class=\"wlb_ribbon\" data-tconst=\"tt5571734\" data-recordmetrics=\"true\"></div>\\n    </td>\\n  </tr>\\n\\n  <tr>\\n    <td class=\"posterColumn\">\\n\\n    <span name=\"rk\" data-value=\"94\"></span>\\n    <span name=\"ir\" data-value=\"8.046939225665161\"></span>\\n    <span name=\"us\" data-value=\"1.3474944E12\"></span>\\n    <span name=\"nv\" data-value=\"75557\"></span>\\n    <span name=\"ur\" data-value=\"-2.9530607743348387\"></span>\\n<a href=\"/title/tt2082197/\"\\n> <img src=\"https://m.media-amazon.com/images/M/MV5BMTQzMTEyODY2Ml5BMl5BanBnXkFtZTgwMjA0MDUyMjE@._V1_UY67_CR0,0,45,67_AL_.jpg\" width=\"45\" height=\"67\" alt=\"Barfi!\"/>\\n</a>    </td>\\n    <td class=\"titleColumn\">\\n      94.\\n      <a href=\"/title/tt2082197/\"\\ntitle=\"Anurag Basu (dir.), Ranbir Kapoor, Priyanka Chopra\" >Barfi!</a>\\n        <span class=\"secondaryInfo\">(2012)</span>\\n    </td>\\n    <td class=\"ratingColumn imdbRating\">\\n            <strong title=\"8.0 based on 75,557 user ratings\">8.0</strong>\\n    </td>\\n    <td class=\"ratingColumn\">\\n    <div class=\"seen-widget seen-widget-tt2082197 pending\" data-titleid=\"tt2082197\">\\n        <div class=\"boundary\">\\n            <div class=\"popover\">\\n<span class=\"delete\">&nbsp;</span><ol><li>1<li>2<li>3<li>4<li>5<li>6<li>7<li>8<li>9<li>10</ol>            </div>\\n        </div>\\n        <div class=\"inline\">\\n            <div class=\"pending\"></div>\\n            <div class=\"unseeable\">NOT YET RELEASED</div>\\n            <div class=\"unseen\"> </div>\\n            <div class=\"rating\"></div>\\n            <div class=\"seen\">Seen</div>\\n        </div>\\n    </div>\\n    </td>\\n    <td class=\"watchlistColumn\">\\n        <div class=\"wlb_ribbon\" data-tconst=\"tt2082197\" data-recordmetrics=\"true\"></div>\\n    </td>\\n  </tr>\\n\\n  <tr>\\n    <td class=\"posterColumn\">\\n\\n    <span name=\"rk\" data-value=\"95\"></span>\\n    <span name=\"ir\" data-value=\"8.045263784474338\"></span>\\n    <span name=\"us\" data-value=\"1.023408E12\"></span>\\n    <span name=\"nv\" data-value=\"14742\"></span>\\n    <span name=\"ur\" data-value=\"-2.954736215525662\"></span>\\n<a href=\"/title/tt0319736/\"\\n> <img src=\"https://m.media-amazon.com/images/M/MV5BOWUyZmE0NTMtZjY4Zi00OWRmLTlmOWEtNGNiZGNiZTdmZDU4XkEyXkFqcGdeQXVyODE5NzE3OTE@._V1_UY67_CR0,0,45,67_AL_.jpg\" width=\"45\" height=\"67\" alt=\"The Legend of Bhagat Singh\"/>\\n</a>    </td>\\n    <td class=\"titleColumn\">\\n      95.\\n      <a href=\"/title/tt0319736/\"\\ntitle=\"Rajkumar Santoshi (dir.), Ajay Devgn, Sushant Singh\" >The Legend of Bhagat Singh</a>\\n        <span class=\"secondaryInfo\">(2002)</span>\\n    </td>\\n    <td class=\"ratingColumn imdbRating\">\\n            <strong title=\"8.0 based on 14,742 user ratings\">8.0</strong>\\n    </td>\\n    <td class=\"ratingColumn\">\\n    <div class=\"seen-widget seen-widget-tt0319736 pending\" data-titleid=\"tt0319736\">\\n        <div class=\"boundary\">\\n            <div class=\"popover\">\\n<span class=\"delete\">&nbsp;</span><ol><li>1<li>2<li>3<li>4<li>5<li>6<li>7<li>8<li>9<li>10</ol>            </div>\\n        </div>\\n        <div class=\"inline\">\\n            <div class=\"pending\"></div>\\n            <div class=\"unseeable\">NOT YET RELEASED</div>\\n            <div class=\"unseen\"> </div>\\n            <div class=\"rating\"></div>\\n            <div class=\"seen\">Seen</div>\\n        </div>\\n    </div>\\n    </td>\\n    <td class=\"watchlistColumn\">\\n        <div class=\"wlb_ribbon\" data-tconst=\"tt0319736\" data-recordmetrics=\"true\"></div>\\n    </td>\\n  </tr>\\n\\n  <tr>\\n    <td class=\"posterColumn\">\\n\\n    <span name=\"rk\" data-value=\"96\"></span>\\n    <span name=\"ir\" data-value=\"8.040762741952966\"></span>\\n    <span name=\"us\" data-value=\"1.1550816E12\"></span>\\n    <span name=\"nv\" data-value=\"8550\"></span>\\n    <span name=\"ur\" data-value=\"-2.9592372580470343\"></span>\\n<a href=\"/title/tt0843326/\"\\n> <img src=\"https://m.media-amazon.com/images/M/MV5BMDhjNTk0M2YtYzIzMy00MWFkLWI4OWUtNTY2NDVhYWJmN2UwXkEyXkFqcGdeQXVyNzMzMjU5NDY@._V1_UX45_CR0,0,45,67_AL_.jpg\" width=\"45\" height=\"67\" alt=\"Bommarillu\"/>\\n</a>    </td>\\n    <td class=\"titleColumn\">\\n      96.\\n      <a href=\"/title/tt0843326/\"\\ntitle=\"Bhaskar (dir.), Siddharth, Genelia D\\'Souza\" >Bommarillu</a>\\n        <span class=\"secondaryInfo\">(2006)</span>\\n    </td>\\n    <td class=\"ratingColumn imdbRating\">\\n            <strong title=\"8.0 based on 8,550 user ratings\">8.0</strong>\\n    </td>\\n    <td class=\"ratingColumn\">\\n    <div class=\"seen-widget seen-widget-tt0843326 pending\" data-titleid=\"tt0843326\">\\n        <div class=\"boundary\">\\n            <div class=\"popover\">\\n<span class=\"delete\">&nbsp;</span><ol><li>1<li>2<li>3<li>4<li>5<li>6<li>7<li>8<li>9<li>10</ol>            </div>\\n        </div>\\n        <div class=\"inline\">\\n            <div class=\"pending\"></div>\\n            <div class=\"unseeable\">NOT YET RELEASED</div>\\n            <div class=\"unseen\"> </div>\\n            <div class=\"rating\"></div>\\n            <div class=\"seen\">Seen</div>\\n        </div>\\n    </div>\\n    </td>\\n    <td class=\"watchlistColumn\">\\n        <div class=\"wlb_ribbon\" data-tconst=\"tt0843326\" data-recordmetrics=\"true\"></div>\\n    </td>\\n  </tr>\\n\\n  <tr>\\n    <td class=\"posterColumn\">\\n\\n    <span name=\"rk\" data-value=\"97\"></span>\\n    <span name=\"ir\" data-value=\"8.038342389597604\"></span>\\n    <span name=\"us\" data-value=\"1.3742784E12\"></span>\\n    <span name=\"nv\" data-value=\"11476\"></span>\\n    <span name=\"ur\" data-value=\"-2.961657610402396\"></span>\\n<a href=\"/title/tt2358592/\"\\n> <img src=\"https://m.media-amazon.com/images/M/MV5BMTQyMDA5ODkzN15BMl5BanBnXkFtZTgwMjIzMDkyMDE@._V1_UY67_CR0,0,45,67_AL_.jpg\" width=\"45\" height=\"67\" alt=\"Lucia\"/>\\n</a>    </td>\\n    <td class=\"titleColumn\">\\n      97.\\n      <a href=\"/title/tt2358592/\"\\ntitle=\"Pawan Kumar (dir.), Sathish Neenasam, Sruthi Hariharan\" >Lucia</a>\\n        <span class=\"secondaryInfo\">(2013)</span>\\n    </td>\\n    <td class=\"ratingColumn imdbRating\">\\n            <strong title=\"8.0 based on 11,476 user ratings\">8.0</strong>\\n    </td>\\n    <td class=\"ratingColumn\">\\n    <div class=\"seen-widget seen-widget-tt2358592 pending\" data-titleid=\"tt2358592\">\\n        <div class=\"boundary\">\\n            <div class=\"popover\">\\n<span class=\"delete\">&nbsp;</span><ol><li>1<li>2<li>3<li>4<li>5<li>6<li>7<li>8<li>9<li>10</ol>            </div>\\n        </div>\\n        <div class=\"inline\">\\n            <div class=\"pending\"></div>\\n            <div class=\"unseeable\">NOT YET RELEASED</div>\\n            <div class=\"unseen\"> </div>\\n            <div class=\"rating\"></div>\\n            <div class=\"seen\">Seen</div>\\n        </div>\\n    </div>\\n    </td>\\n    <td class=\"watchlistColumn\">\\n        <div class=\"wlb_ribbon\" data-tconst=\"tt2358592\" data-recordmetrics=\"true\"></div>\\n    </td>\\n  </tr>\\n\\n  <tr>\\n    <td class=\"posterColumn\">\\n\\n    <span name=\"rk\" data-value=\"98\"></span>\\n    <span name=\"ir\" data-value=\"8.03651605858591\"></span>\\n    <span name=\"us\" data-value=\"1.063152E12\"></span>\\n    <span name=\"nv\" data-value=\"9520\"></span>\\n    <span name=\"ur\" data-value=\"-2.96348394141409\"></span>\\n<a href=\"/title/tt0379370/\"\\n> <img src=\"https://m.media-amazon.com/images/M/MV5BMTE2NjYzOWUtMDgyZS00NGY3LTk5ZDctODMxNGYyNjUyODIwXkEyXkFqcGdeQXVyODE5NzE3OTE@._V1_UY67_CR1,0,45,67_AL_.jpg\" width=\"45\" height=\"67\" alt=\"Maqbool\"/>\\n</a>    </td>\\n    <td class=\"titleColumn\">\\n      98.\\n      <a href=\"/title/tt0379370/\"\\ntitle=\"Vishal Bhardwaj (dir.), Irrfan Khan, Tabu\" >Maqbool</a>\\n        <span class=\"secondaryInfo\">(2003)</span>\\n    </td>\\n    <td class=\"ratingColumn imdbRating\">\\n            <strong title=\"8.0 based on 9,520 user ratings\">8.0</strong>\\n    </td>\\n    <td class=\"ratingColumn\">\\n    <div class=\"seen-widget seen-widget-tt0379370 pending\" data-titleid=\"tt0379370\">\\n        <div class=\"boundary\">\\n            <div class=\"popover\">\\n<span class=\"delete\">&nbsp;</span><ol><li>1<li>2<li>3<li>4<li>5<li>6<li>7<li>8<li>9<li>10</ol>            </div>\\n        </div>\\n        <div class=\"inline\">\\n            <div class=\"pending\"></div>\\n            <div class=\"unseeable\">NOT YET RELEASED</div>\\n            <div class=\"unseen\"> </div>\\n            <div class=\"rating\"></div>\\n            <div class=\"seen\">Seen</div>\\n        </div>\\n    </div>\\n    </td>\\n    <td class=\"watchlistColumn\">\\n        <div class=\"wlb_ribbon\" data-tconst=\"tt0379370\" data-recordmetrics=\"true\"></div>\\n    </td>\\n  </tr>\\n\\n  <tr>\\n    <td class=\"posterColumn\">\\n\\n    <span name=\"rk\" data-value=\"99\"></span>\\n    <span name=\"ir\" data-value=\"8.035858077468857\"></span>\\n    <span name=\"us\" data-value=\"7.947936E11\"></span>\\n    <span name=\"nv\" data-value=\"11285\"></span>\\n    <span name=\"ur\" data-value=\"-2.9641419225311427\"></span>\\n<a href=\"/title/tt0112553/\"\\n> <img src=\"https://m.media-amazon.com/images/M/MV5BNDA2NjYzNTAtMzEzZS00ZDBiLWJjYjctOTM5OGRhMDU2ZTI4XkEyXkFqcGdeQXVyNjc5Mjg4Nzc@._V1_UX45_CR0,0,45,67_AL_.jpg\" width=\"45\" height=\"67\" alt=\"Bombay\"/>\\n</a>    </td>\\n    <td class=\"titleColumn\">\\n      99.\\n      <a href=\"/title/tt0112553/\"\\ntitle=\"Mani Ratnam (dir.), Arvind Swamy, Manisha Koirala\" >Bombay</a>\\n        <span class=\"secondaryInfo\">(1995)</span>\\n    </td>\\n    <td class=\"ratingColumn imdbRating\">\\n            <strong title=\"8.0 based on 11,285 user ratings\">8.0</strong>\\n    </td>\\n    <td class=\"ratingColumn\">\\n    <div class=\"seen-widget seen-widget-tt0112553 pending\" data-titleid=\"tt0112553\">\\n        <div class=\"boundary\">\\n            <div class=\"popover\">\\n<span class=\"delete\">&nbsp;</span><ol><li>1<li>2<li>3<li>4<li>5<li>6<li>7<li>8<li>9<li>10</ol>            </div>\\n        </div>\\n        <div class=\"inline\">\\n            <div class=\"pending\"></div>\\n            <div class=\"unseeable\">NOT YET RELEASED</div>\\n            <div class=\"unseen\"> </div>\\n            <div class=\"rating\"></div>\\n            <div class=\"seen\">Seen</div>\\n        </div>\\n    </div>\\n    </td>\\n    <td class=\"watchlistColumn\">\\n        <div class=\"wlb_ribbon\" data-tconst=\"tt0112553\" data-recordmetrics=\"true\"></div>\\n    </td>\\n  </tr>\\n\\n  <tr>\\n    <td class=\"posterColumn\">\\n\\n    <span name=\"rk\" data-value=\"100\"></span>\\n    <span name=\"ir\" data-value=\"8.032451810183451\"></span>\\n    <span name=\"us\" data-value=\"1.1540448E12\"></span>\\n    <span name=\"nv\" data-value=\"19157\"></span>\\n    <span name=\"ur\" data-value=\"-2.967548189816549\"></span>\\n<a href=\"/title/tt0488414/\"\\n> <img src=\"https://m.media-amazon.com/images/M/MV5BY2NmNjlhYzQtMWU5MS00YTVmLWIyOWEtOGFmY2ZjMjY2ZGRkXkEyXkFqcGdeQXVyMTMxMTY0OTQ@._V1_UX45_CR0,0,45,67_AL_.jpg\" width=\"45\" height=\"67\" alt=\"Omkara\"/>\\n</a>    </td>\\n    <td class=\"titleColumn\">\\n      100.\\n      <a href=\"/title/tt0488414/\"\\ntitle=\"Vishal Bhardwaj (dir.), Ajay Devgn, Kareena Kapoor\" >Omkara</a>\\n        <span class=\"secondaryInfo\">(2006)</span>\\n    </td>\\n    <td class=\"ratingColumn imdbRating\">\\n            <strong title=\"8.0 based on 19,157 user ratings\">8.0</strong>\\n    </td>\\n    <td class=\"ratingColumn\">\\n    <div class=\"seen-widget seen-widget-tt0488414 pending\" data-titleid=\"tt0488414\">\\n        <div class=\"boundary\">\\n            <div class=\"popover\">\\n<span class=\"delete\">&nbsp;</span><ol><li>1<li>2<li>3<li>4<li>5<li>6<li>7<li>8<li>9<li>10</ol>            </div>\\n        </div>\\n        <div class=\"inline\">\\n            <div class=\"pending\"></div>\\n            <div class=\"unseeable\">NOT YET RELEASED</div>\\n            <div class=\"unseen\"> </div>\\n            <div class=\"rating\"></div>\\n            <div class=\"seen\">Seen</div>\\n        </div>\\n    </div>\\n    </td>\\n    <td class=\"watchlistColumn\">\\n        <div class=\"wlb_ribbon\" data-tconst=\"tt0488414\" data-recordmetrics=\"true\"></div>\\n    </td>\\n  </tr>\\n\\n  <tr>\\n    <td class=\"posterColumn\">\\n\\n    <span name=\"rk\" data-value=\"101\"></span>\\n    <span name=\"ir\" data-value=\"8.028261543082607\"></span>\\n    <span name=\"us\" data-value=\"1.5683328E12\"></span>\\n    <span name=\"nv\" data-value=\"11701\"></span>\\n    <span name=\"ur\" data-value=\"-2.971738456917393\"></span>\\n<a href=\"/title/tt8144834/\"\\n> <img src=\"https://m.media-amazon.com/images/M/MV5BMTQwNDBlODYtNGIyYS00ZmMwLTk5NDUtNDEwNmFiZjY0ZDUxXkEyXkFqcGdeQXVyODg4OTQ4NDM@._V1_UY67_CR0,0,45,67_AL_.jpg\" width=\"45\" height=\"67\" alt=\"Section 375\"/>\\n</a>    </td>\\n    <td class=\"titleColumn\">\\n      101.\\n      <a href=\"/title/tt8144834/\"\\ntitle=\"Ajay Bahl (dir.), Akshaye Khanna, Richa Chadha\" >Section 375</a>\\n        <span class=\"secondaryInfo\">(2019)</span>\\n    </td>\\n    <td class=\"ratingColumn imdbRating\">\\n            <strong title=\"8.0 based on 11,701 user ratings\">8.0</strong>\\n    </td>\\n    <td class=\"ratingColumn\">\\n    <div class=\"seen-widget seen-widget-tt8144834 pending\" data-titleid=\"tt8144834\">\\n        <div class=\"boundary\">\\n            <div class=\"popover\">\\n<span class=\"delete\">&nbsp;</span><ol><li>1<li>2<li>3<li>4<li>5<li>6<li>7<li>8<li>9<li>10</ol>            </div>\\n        </div>\\n        <div class=\"inline\">\\n            <div class=\"pending\"></div>\\n            <div class=\"unseeable\">NOT YET RELEASED</div>\\n            <div class=\"unseen\"> </div>\\n            <div class=\"rating\"></div>\\n            <div class=\"seen\">Seen</div>\\n        </div>\\n    </div>\\n    </td>\\n    <td class=\"watchlistColumn\">\\n        <div class=\"wlb_ribbon\" data-tconst=\"tt8144834\" data-recordmetrics=\"true\"></div>\\n    </td>\\n  </tr>\\n\\n  <tr>\\n    <td class=\"posterColumn\">\\n\\n    <span name=\"rk\" data-value=\"102\"></span>\\n    <span name=\"ir\" data-value=\"8.020666558897686\"></span>\\n    <span name=\"us\" data-value=\"1.1570688E12\"></span>\\n    <span name=\"nv\" data-value=\"43037\"></span>\\n    <span name=\"ur\" data-value=\"-2.9793334411023142\"></span>\\n<a href=\"/title/tt0456144/\"\\n> <img src=\"https://m.media-amazon.com/images/M/MV5BN2ZmMDMwODgtMzA5MS00MGU0LWEyYTgtYzQ5MmQzMzU2NTVkXkEyXkFqcGdeQXVyODE5NzE3OTE@._V1_UY67_CR0,0,45,67_AL_.jpg\" width=\"45\" height=\"67\" alt=\"Lage Raho Munna Bhai\"/>\\n</a>    </td>\\n    <td class=\"titleColumn\">\\n      102.\\n      <a href=\"/title/tt0456144/\"\\ntitle=\"Rajkumar Hirani (dir.), Sanjay Dutt, Arshad Warsi\" >Lage Raho Munna Bhai</a>\\n        <span class=\"secondaryInfo\">(2006)</span>\\n    </td>\\n    <td class=\"ratingColumn imdbRating\">\\n            <strong title=\"8.0 based on 43,037 user ratings\">8.0</strong>\\n    </td>\\n    <td class=\"ratingColumn\">\\n    <div class=\"seen-widget seen-widget-tt0456144 pending\" data-titleid=\"tt0456144\">\\n        <div class=\"boundary\">\\n            <div class=\"popover\">\\n<span class=\"delete\">&nbsp;</span><ol><li>1<li>2<li>3<li>4<li>5<li>6<li>7<li>8<li>9<li>10</ol>            </div>\\n        </div>\\n        <div class=\"inline\">\\n            <div class=\"pending\"></div>\\n            <div class=\"unseeable\">NOT YET RELEASED</div>\\n            <div class=\"unseen\"> </div>\\n            <div class=\"rating\"></div>\\n            <div class=\"seen\">Seen</div>\\n        </div>\\n    </div>\\n    </td>\\n    <td class=\"watchlistColumn\">\\n        <div class=\"wlb_ribbon\" data-tconst=\"tt0456144\" data-recordmetrics=\"true\"></div>\\n    </td>\\n  </tr>\\n\\n  <tr>\\n    <td class=\"posterColumn\">\\n\\n    <span name=\"rk\" data-value=\"103\"></span>\\n    <span name=\"ir\" data-value=\"8.008003381532042\"></span>\\n    <span name=\"us\" data-value=\"1.597536E11\"></span>\\n    <span name=\"nv\" data-value=\"10087\"></span>\\n    <span name=\"ur\" data-value=\"-2.991996618467958\"></span>\\n<a href=\"/title/tt0072860/\"\\n> <img src=\"https://m.media-amazon.com/images/M/MV5BYWE5ZGEyNWItOGQ5YS00YjE0LTliMDgtZmNmNGVkOWIyYjRiXkEyXkFqcGdeQXVyMTI0NTA1MDI3._V1_UY67_CR0,0,45,67_AL_.jpg\" width=\"45\" height=\"67\" alt=\"Deewaar\"/>\\n</a>    </td>\\n    <td class=\"titleColumn\">\\n      103.\\n      <a href=\"/title/tt0072860/\"\\ntitle=\"Yash Chopra (dir.), Amitabh Bachchan, Shashi Kapoor\" >Deewaar</a>\\n        <span class=\"secondaryInfo\">(1975)</span>\\n    </td>\\n    <td class=\"ratingColumn imdbRating\">\\n            <strong title=\"8.0 based on 10,087 user ratings\">8.0</strong>\\n    </td>\\n    <td class=\"ratingColumn\">\\n    <div class=\"seen-widget seen-widget-tt0072860 pending\" data-titleid=\"tt0072860\">\\n        <div class=\"boundary\">\\n            <div class=\"popover\">\\n<span class=\"delete\">&nbsp;</span><ol><li>1<li>2<li>3<li>4<li>5<li>6<li>7<li>8<li>9<li>10</ol>            </div>\\n        </div>\\n        <div class=\"inline\">\\n            <div class=\"pending\"></div>\\n            <div class=\"unseeable\">NOT YET RELEASED</div>\\n            <div class=\"unseen\"> </div>\\n            <div class=\"rating\"></div>\\n            <div class=\"seen\">Seen</div>\\n        </div>\\n    </div>\\n    </td>\\n    <td class=\"watchlistColumn\">\\n        <div class=\"wlb_ribbon\" data-tconst=\"tt0072860\" data-recordmetrics=\"true\"></div>\\n    </td>\\n  </tr>\\n\\n  <tr>\\n    <td class=\"posterColumn\">\\n\\n    <span name=\"rk\" data-value=\"104\"></span>\\n    <span name=\"ir\" data-value=\"8.007975086872612\"></span>\\n    <span name=\"us\" data-value=\"8.316E11\"></span>\\n    <span name=\"nv\" data-value=\"10652\"></span>\\n    <span name=\"ur\" data-value=\"-2.9920249131273877\"></span>\\n<a href=\"/title/tt0116630/\"\\n> <img src=\"https://m.media-amazon.com/images/M/MV5BY2QxMzQyNzQtZGQzMS00MWViLWJiYjgtNTJmMWViOWM3OTc4XkEyXkFqcGdeQXVyODEzOTQwNTY@._V1_UY67_CR1,0,45,67_AL_.jpg\" width=\"45\" height=\"67\" alt=\"Indian\"/>\\n</a>    </td>\\n    <td class=\"titleColumn\">\\n      104.\\n      <a href=\"/title/tt0116630/\"\\ntitle=\"S. Shankar (dir.), Kamal Haasan, Sukanya\" >Indian</a>\\n        <span class=\"secondaryInfo\">(1996)</span>\\n    </td>\\n    <td class=\"ratingColumn imdbRating\">\\n            <strong title=\"8.0 based on 10,652 user ratings\">8.0</strong>\\n    </td>\\n    <td class=\"ratingColumn\">\\n    <div class=\"seen-widget seen-widget-tt0116630 pending\" data-titleid=\"tt0116630\">\\n        <div class=\"boundary\">\\n            <div class=\"popover\">\\n<span class=\"delete\">&nbsp;</span><ol><li>1<li>2<li>3<li>4<li>5<li>6<li>7<li>8<li>9<li>10</ol>            </div>\\n        </div>\\n        <div class=\"inline\">\\n            <div class=\"pending\"></div>\\n            <div class=\"unseeable\">NOT YET RELEASED</div>\\n            <div class=\"unseen\"> </div>\\n            <div class=\"rating\"></div>\\n            <div class=\"seen\">Seen</div>\\n        </div>\\n    </div>\\n    </td>\\n    <td class=\"watchlistColumn\">\\n        <div class=\"wlb_ribbon\" data-tconst=\"tt0116630\" data-recordmetrics=\"true\"></div>\\n    </td>\\n  </tr>\\n\\n  <tr>\\n    <td class=\"posterColumn\">\\n\\n    <span name=\"rk\" data-value=\"105\"></span>\\n    <span name=\"ir\" data-value=\"8.00764550694235\"></span>\\n    <span name=\"us\" data-value=\"1.5676416E12\"></span>\\n    <span name=\"nv\" data-value=\"33526\"></span>\\n    <span name=\"ur\" data-value=\"-2.9923544930576504\"></span>\\n<a href=\"/title/tt9052870/\"\\n> <img src=\"https://m.media-amazon.com/images/M/MV5BYjg2ZDI2YTYtN2EwYi00YWI5LTgyMWQtMWFkYmE3NmJkOGVhXkEyXkFqcGdeQXVyODE5NzE3OTE@._V1_UY67_CR0,0,45,67_AL_.jpg\" width=\"45\" height=\"67\" alt=\"Chhichhore\"/>\\n</a>    </td>\\n    <td class=\"titleColumn\">\\n      105.\\n      <a href=\"/title/tt9052870/\"\\ntitle=\"Nitesh Tiwari (dir.), Sushant Singh Rajput, Shraddha Kapoor\" >Chhichhore</a>\\n        <span class=\"secondaryInfo\">(2019)</span>\\n    </td>\\n    <td class=\"ratingColumn imdbRating\">\\n            <strong title=\"8.0 based on 33,526 user ratings\">8.0</strong>\\n    </td>\\n    <td class=\"ratingColumn\">\\n    <div class=\"seen-widget seen-widget-tt9052870 pending\" data-titleid=\"tt9052870\">\\n        <div class=\"boundary\">\\n            <div class=\"popover\">\\n<span class=\"delete\">&nbsp;</span><ol><li>1<li>2<li>3<li>4<li>5<li>6<li>7<li>8<li>9<li>10</ol>            </div>\\n        </div>\\n        <div class=\"inline\">\\n            <div class=\"pending\"></div>\\n            <div class=\"unseeable\">NOT YET RELEASED</div>\\n            <div class=\"unseen\"> </div>\\n            <div class=\"rating\"></div>\\n            <div class=\"seen\">Seen</div>\\n        </div>\\n    </div>\\n    </td>\\n    <td class=\"watchlistColumn\">\\n        <div class=\"wlb_ribbon\" data-tconst=\"tt9052870\" data-recordmetrics=\"true\"></div>\\n    </td>\\n  </tr>\\n\\n  <tr>\\n    <td class=\"posterColumn\">\\n\\n    <span name=\"rk\" data-value=\"106\"></span>\\n    <span name=\"ir\" data-value=\"7.997671897739914\"></span>\\n    <span name=\"us\" data-value=\"1.4932512E12\"></span>\\n    <span name=\"nv\" data-value=\"75052\"></span>\\n    <span name=\"ur\" data-value=\"-3.002328102260086\"></span>\\n<a href=\"/title/tt4849438/\"\\n> <img src=\"https://m.media-amazon.com/images/M/MV5BOGNlNmRkMjctNDgxMC00NzFhLWIzY2YtZDk3ZDE0NWZhZDBlXkEyXkFqcGdeQXVyODIwMDI1NjM@._V1_UX45_CR0,0,45,67_AL_.jpg\" width=\"45\" height=\"67\" alt=\"Baahubali 2: The Conclusion\"/>\\n</a>    </td>\\n    <td class=\"titleColumn\">\\n      106.\\n      <a href=\"/title/tt4849438/\"\\ntitle=\"S.S. Rajamouli (dir.), Prabhas, Rana Daggubati\" >Baahubali 2: The Conclusion</a>\\n        <span class=\"secondaryInfo\">(2017)</span>\\n    </td>\\n    <td class=\"ratingColumn imdbRating\">\\n            <strong title=\"8.0 based on 75,052 user ratings\">8.0</strong>\\n    </td>\\n    <td class=\"ratingColumn\">\\n    <div class=\"seen-widget seen-widget-tt4849438 pending\" data-titleid=\"tt4849438\">\\n        <div class=\"boundary\">\\n            <div class=\"popover\">\\n<span class=\"delete\">&nbsp;</span><ol><li>1<li>2<li>3<li>4<li>5<li>6<li>7<li>8<li>9<li>10</ol>            </div>\\n        </div>\\n        <div class=\"inline\">\\n            <div class=\"pending\"></div>\\n            <div class=\"unseeable\">NOT YET RELEASED</div>\\n            <div class=\"unseen\"> </div>\\n            <div class=\"rating\"></div>\\n            <div class=\"seen\">Seen</div>\\n        </div>\\n    </div>\\n    </td>\\n    <td class=\"watchlistColumn\">\\n        <div class=\"wlb_ribbon\" data-tconst=\"tt4849438\" data-recordmetrics=\"true\"></div>\\n    </td>\\n  </tr>\\n\\n  <tr>\\n    <td class=\"posterColumn\">\\n\\n    <span name=\"rk\" data-value=\"107\"></span>\\n    <span name=\"ir\" data-value=\"7.997418490426631\"></span>\\n    <span name=\"us\" data-value=\"8.140608E11\"></span>\\n    <span name=\"nv\" data-value=\"63363\"></span>\\n    <span name=\"ur\" data-value=\"-3.0025815095733686\"></span>\\n<a href=\"/title/tt0112870/\"\\n> <img src=\"https://m.media-amazon.com/images/M/MV5BYmNjYzRlM2YtZTZjZC00ODVmLTljZWMtODg1YmYyNDBiNzU3XkEyXkFqcGdeQXVyNTkzNDQ4ODc@._V1_UY67_CR2,0,45,67_AL_.jpg\" width=\"45\" height=\"67\" alt=\"Dilwale Dulhania Le Jayenge\"/>\\n</a>    </td>\\n    <td class=\"titleColumn\">\\n      107.\\n      <a href=\"/title/tt0112870/\"\\ntitle=\"Aditya Chopra (dir.), Shah Rukh Khan, Kajol\" >Dilwale Dulhania Le Jayenge</a>\\n        <span class=\"secondaryInfo\">(1995)</span>\\n    </td>\\n    <td class=\"ratingColumn imdbRating\">\\n            <strong title=\"8.0 based on 63,363 user ratings\">8.0</strong>\\n    </td>\\n    <td class=\"ratingColumn\">\\n    <div class=\"seen-widget seen-widget-tt0112870 pending\" data-titleid=\"tt0112870\">\\n        <div class=\"boundary\">\\n            <div class=\"popover\">\\n<span class=\"delete\">&nbsp;</span><ol><li>1<li>2<li>3<li>4<li>5<li>6<li>7<li>8<li>9<li>10</ol>            </div>\\n        </div>\\n        <div class=\"inline\">\\n            <div class=\"pending\"></div>\\n            <div class=\"unseeable\">NOT YET RELEASED</div>\\n            <div class=\"unseen\"> </div>\\n            <div class=\"rating\"></div>\\n            <div class=\"seen\">Seen</div>\\n        </div>\\n    </div>\\n    </td>\\n    <td class=\"watchlistColumn\">\\n        <div class=\"wlb_ribbon\" data-tconst=\"tt0112870\" data-recordmetrics=\"true\"></div>\\n    </td>\\n  </tr>\\n\\n  <tr>\\n    <td class=\"posterColumn\">\\n\\n    <span name=\"rk\" data-value=\"108\"></span>\\n    <span name=\"ir\" data-value=\"7.992192905796059\"></span>\\n    <span name=\"us\" data-value=\"1.2369024E12\"></span>\\n    <span name=\"nv\" data-value=\"13908\"></span>\\n    <span name=\"ur\" data-value=\"-3.007807094203941\"></span>\\n<a href=\"/title/tt1261047/\"\\n> <img src=\"https://m.media-amazon.com/images/M/MV5BYTMxYjEwYjctMjg4Ni00N2UyLThkNDEtNTY4ODExNmIzYjE5XkEyXkFqcGdeQXVyODE5NzE3OTE@._V1_UY67_CR1,0,45,67_AL_.jpg\" width=\"45\" height=\"67\" alt=\"Gulaal\"/>\\n</a>    </td>\\n    <td class=\"titleColumn\">\\n      108.\\n      <a href=\"/title/tt1261047/\"\\ntitle=\"Anurag Kashyap (dir.), Kay Kay Menon, Raj Singh Chaudhary\" >Gulaal</a>\\n        <span class=\"secondaryInfo\">(2009)</span>\\n    </td>\\n    <td class=\"ratingColumn imdbRating\">\\n            <strong title=\"8.0 based on 13,908 user ratings\">8.0</strong>\\n    </td>\\n    <td class=\"ratingColumn\">\\n    <div class=\"seen-widget seen-widget-tt1261047 pending\" data-titleid=\"tt1261047\">\\n        <div class=\"boundary\">\\n            <div class=\"popover\">\\n<span class=\"delete\">&nbsp;</span><ol><li>1<li>2<li>3<li>4<li>5<li>6<li>7<li>8<li>9<li>10</ol>            </div>\\n        </div>\\n        <div class=\"inline\">\\n            <div class=\"pending\"></div>\\n            <div class=\"unseeable\">NOT YET RELEASED</div>\\n            <div class=\"unseen\"> </div>\\n            <div class=\"rating\"></div>\\n            <div class=\"seen\">Seen</div>\\n        </div>\\n    </div>\\n    </td>\\n    <td class=\"watchlistColumn\">\\n        <div class=\"wlb_ribbon\" data-tconst=\"tt1261047\" data-recordmetrics=\"true\"></div>\\n    </td>\\n  </tr>\\n\\n  <tr>\\n    <td class=\"posterColumn\">\\n\\n    <span name=\"rk\" data-value=\"109\"></span>\\n    <span name=\"ir\" data-value=\"7.990899173571859\"></span>\\n    <span name=\"us\" data-value=\"-3.43872E10\"></span>\\n    <span name=\"nv\" data-value=\"6217\"></span>\\n    <span name=\"ur\" data-value=\"-3.009100826428141\"></span>\\n<a href=\"/title/tt0063404/\"\\n> <img src=\"https://m.media-amazon.com/images/M/MV5BOTgxNDk4YjgtMjE3OC00MWE0LTgyZWYtM2I1ZTQwYjk4NDYyXkEyXkFqcGdeQXVyODE5NzE3OTE@._V1_UX45_CR0,0,45,67_AL_.jpg\" width=\"45\" height=\"67\" alt=\"Padosan\"/>\\n</a>    </td>\\n    <td class=\"titleColumn\">\\n      109.\\n      <a href=\"/title/tt0063404/\"\\ntitle=\"Jyoti Swaroop (dir.), Sunil Dutt, Saira Banu\" >Padosan</a>\\n        <span class=\"secondaryInfo\">(1968)</span>\\n    </td>\\n    <td class=\"ratingColumn imdbRating\">\\n            <strong title=\"8.0 based on 6,217 user ratings\">8.0</strong>\\n    </td>\\n    <td class=\"ratingColumn\">\\n    <div class=\"seen-widget seen-widget-tt0063404 pending\" data-titleid=\"tt0063404\">\\n        <div class=\"boundary\">\\n            <div class=\"popover\">\\n<span class=\"delete\">&nbsp;</span><ol><li>1<li>2<li>3<li>4<li>5<li>6<li>7<li>8<li>9<li>10</ol>            </div>\\n        </div>\\n        <div class=\"inline\">\\n            <div class=\"pending\"></div>\\n            <div class=\"unseeable\">NOT YET RELEASED</div>\\n            <div class=\"unseen\"> </div>\\n            <div class=\"rating\"></div>\\n            <div class=\"seen\">Seen</div>\\n        </div>\\n    </div>\\n    </td>\\n    <td class=\"watchlistColumn\">\\n        <div class=\"wlb_ribbon\" data-tconst=\"tt0063404\" data-recordmetrics=\"true\"></div>\\n    </td>\\n  </tr>\\n\\n  <tr>\\n    <td class=\"posterColumn\">\\n\\n    <span name=\"rk\" data-value=\"110\"></span>\\n    <span name=\"ir\" data-value=\"7.987395023988003\"></span>\\n    <span name=\"us\" data-value=\"1.412208E12\"></span>\\n    <span name=\"nv\" data-value=\"50354\"></span>\\n    <span name=\"ur\" data-value=\"-3.012604976011997\"></span>\\n<a href=\"/title/tt3390572/\"\\n> <img src=\"https://m.media-amazon.com/images/M/MV5BMjA1NTEwMDMxMF5BMl5BanBnXkFtZTgwODkzMzI0MjE@._V1_UY67_CR0,0,45,67_AL_.jpg\" width=\"45\" height=\"67\" alt=\"Haider\"/>\\n</a>    </td>\\n    <td class=\"titleColumn\">\\n      110.\\n      <a href=\"/title/tt3390572/\"\\ntitle=\"Vishal Bhardwaj (dir.), Shahid Kapoor, Tabu\" >Haider</a>\\n        <span class=\"secondaryInfo\">(2014)</span>\\n    </td>\\n    <td class=\"ratingColumn imdbRating\">\\n            <strong title=\"8.0 based on 50,354 user ratings\">8.0</strong>\\n    </td>\\n    <td class=\"ratingColumn\">\\n    <div class=\"seen-widget seen-widget-tt3390572 pending\" data-titleid=\"tt3390572\">\\n        <div class=\"boundary\">\\n            <div class=\"popover\">\\n<span class=\"delete\">&nbsp;</span><ol><li>1<li>2<li>3<li>4<li>5<li>6<li>7<li>8<li>9<li>10</ol>            </div>\\n        </div>\\n        <div class=\"inline\">\\n            <div class=\"pending\"></div>\\n            <div class=\"unseeable\">NOT YET RELEASED</div>\\n            <div class=\"unseen\"> </div>\\n            <div class=\"rating\"></div>\\n            <div class=\"seen\">Seen</div>\\n        </div>\\n    </div>\\n    </td>\\n    <td class=\"watchlistColumn\">\\n        <div class=\"wlb_ribbon\" data-tconst=\"tt3390572\" data-recordmetrics=\"true\"></div>\\n    </td>\\n  </tr>\\n\\n  <tr>\\n    <td class=\"posterColumn\">\\n\\n    <span name=\"rk\" data-value=\"111\"></span>\\n    <span name=\"ir\" data-value=\"7.98095723984341\"></span>\\n    <span name=\"us\" data-value=\"1.4697504E12\"></span>\\n    <span name=\"nv\" data-value=\"5838\"></span>\\n    <span name=\"ur\" data-value=\"-3.01904276015659\"></span>\\n<a href=\"/title/tt5824826/\"\\n> <img src=\"https://m.media-amazon.com/images/M/MV5BN2M0ODhlNzAtYTNjMy00MjE0LWI3YjEtYTRmMjAwNmFlOTNlXkEyXkFqcGdeQXVyNjY1MTg4Mzc@._V1_UY67_CR1,0,45,67_AL_.jpg\" width=\"45\" height=\"67\" alt=\"Pelli Choopulu\"/>\\n</a>    </td>\\n    <td class=\"titleColumn\">\\n      111.\\n      <a href=\"/title/tt5824826/\"\\ntitle=\"Tharun Bhascker Dhaassyam (dir.), Abhay Bethiganti, Keshav Deepak\" >Pelli Choopulu</a>\\n        <span class=\"secondaryInfo\">(2016)</span>\\n    </td>\\n    <td class=\"ratingColumn imdbRating\">\\n            <strong title=\"8.0 based on 5,838 user ratings\">8.0</strong>\\n    </td>\\n    <td class=\"ratingColumn\">\\n    <div class=\"seen-widget seen-widget-tt5824826 pending\" data-titleid=\"tt5824826\">\\n        <div class=\"boundary\">\\n            <div class=\"popover\">\\n<span class=\"delete\">&nbsp;</span><ol><li>1<li>2<li>3<li>4<li>5<li>6<li>7<li>8<li>9<li>10</ol>            </div>\\n        </div>\\n        <div class=\"inline\">\\n            <div class=\"pending\"></div>\\n            <div class=\"unseeable\">NOT YET RELEASED</div>\\n            <div class=\"unseen\"> </div>\\n            <div class=\"rating\"></div>\\n            <div class=\"seen\">Seen</div>\\n        </div>\\n    </div>\\n    </td>\\n    <td class=\"watchlistColumn\">\\n        <div class=\"wlb_ribbon\" data-tconst=\"tt5824826\" data-recordmetrics=\"true\"></div>\\n    </td>\\n  </tr>\\n\\n  <tr>\\n    <td class=\"posterColumn\">\\n\\n    <span name=\"rk\" data-value=\"112\"></span>\\n    <span name=\"ir\" data-value=\"7.979853738093495\"></span>\\n    <span name=\"us\" data-value=\"1.5496704E12\"></span>\\n    <span name=\"nv\" data-value=\"31682\"></span>\\n    <span name=\"ur\" data-value=\"-3.020146261906505\"></span>\\n<a href=\"/title/tt2395469/\"\\n> <img src=\"https://m.media-amazon.com/images/M/MV5BZDkzMTQ1YTMtMWY4Ny00MzExLTkzYzEtNzZhOTczNzU2NTU1XkEyXkFqcGdeQXVyODY3NjMyMDU@._V1_UY67_CR3,0,45,67_AL_.jpg\" width=\"45\" height=\"67\" alt=\"Gully Boy\"/>\\n</a>    </td>\\n    <td class=\"titleColumn\">\\n      112.\\n      <a href=\"/title/tt2395469/\"\\ntitle=\"Zoya Akhtar (dir.), Vijay Varma, Nakul Roshan Sahdev\" >Gully Boy</a>\\n        <span class=\"secondaryInfo\">(2019)</span>\\n    </td>\\n    <td class=\"ratingColumn imdbRating\">\\n            <strong title=\"8.0 based on 31,682 user ratings\">8.0</strong>\\n    </td>\\n    <td class=\"ratingColumn\">\\n    <div class=\"seen-widget seen-widget-tt2395469 pending\" data-titleid=\"tt2395469\">\\n        <div class=\"boundary\">\\n            <div class=\"popover\">\\n<span class=\"delete\">&nbsp;</span><ol><li>1<li>2<li>3<li>4<li>5<li>6<li>7<li>8<li>9<li>10</ol>            </div>\\n        </div>\\n        <div class=\"inline\">\\n            <div class=\"pending\"></div>\\n            <div class=\"unseeable\">NOT YET RELEASED</div>\\n            <div class=\"unseen\"> </div>\\n            <div class=\"rating\"></div>\\n            <div class=\"seen\">Seen</div>\\n        </div>\\n    </div>\\n    </td>\\n    <td class=\"watchlistColumn\">\\n        <div class=\"wlb_ribbon\" data-tconst=\"tt2395469\" data-recordmetrics=\"true\"></div>\\n    </td>\\n  </tr>\\n\\n  <tr>\\n    <td class=\"posterColumn\">\\n\\n    <span name=\"rk\" data-value=\"113\"></span>\\n    <span name=\"ir\" data-value=\"7.978445988116727\"></span>\\n    <span name=\"us\" data-value=\"-3.845664E11\"></span>\\n    <span name=\"nv\" data-value=\"8537\"></span>\\n    <span name=\"ur\" data-value=\"-3.021554011883273\"></span>\\n<a href=\"/title/tt0050188/\"\\n> <img src=\"https://m.media-amazon.com/images/M/MV5BNDcyMDE0ZWUtYjI3Ny00N2U2LWEzMTAtYzE4OTEzZjgyNzQ1XkEyXkFqcGdeQXVyNjQ1MDcxNzM@._V1_UY67_CR1,0,45,67_AL_.jpg\" width=\"45\" height=\"67\" alt=\"Mother India\"/>\\n</a>    </td>\\n    <td class=\"titleColumn\">\\n      113.\\n      <a href=\"/title/tt0050188/\"\\ntitle=\"Mehboob Khan (dir.), Nargis, Sunil Dutt\" >Mother India</a>\\n        <span class=\"secondaryInfo\">(1957)</span>\\n    </td>\\n    <td class=\"ratingColumn imdbRating\">\\n            <strong title=\"8.0 based on 8,537 user ratings\">8.0</strong>\\n    </td>\\n    <td class=\"ratingColumn\">\\n    <div class=\"seen-widget seen-widget-tt0050188 pending\" data-titleid=\"tt0050188\">\\n        <div class=\"boundary\">\\n            <div class=\"popover\">\\n<span class=\"delete\">&nbsp;</span><ol><li>1<li>2<li>3<li>4<li>5<li>6<li>7<li>8<li>9<li>10</ol>            </div>\\n        </div>\\n        <div class=\"inline\">\\n            <div class=\"pending\"></div>\\n            <div class=\"unseeable\">NOT YET RELEASED</div>\\n            <div class=\"unseen\"> </div>\\n            <div class=\"rating\"></div>\\n            <div class=\"seen\">Seen</div>\\n        </div>\\n    </div>\\n    </td>\\n    <td class=\"watchlistColumn\">\\n        <div class=\"wlb_ribbon\" data-tconst=\"tt0050188\" data-recordmetrics=\"true\"></div>\\n    </td>\\n  </tr>\\n\\n  <tr>\\n    <td class=\"posterColumn\">\\n\\n    <span name=\"rk\" data-value=\"114\"></span>\\n    <span name=\"ir\" data-value=\"7.974298456086977\"></span>\\n    <span name=\"us\" data-value=\"1.3687488E12\"></span>\\n    <span name=\"nv\" data-value=\"20119\"></span>\\n    <span name=\"ur\" data-value=\"-3.025701543913023\"></span>\\n<a href=\"/title/tt2882328/\"\\n> <img src=\"https://m.media-amazon.com/images/M/MV5BY2VmMjlhYjgtYWY4ZS00MjYwLTg1ZTctZjA3MTMzMjJhNzA2XkEyXkFqcGdeQXVyNjE1OTQ0NjA@._V1_UY67_CR0,0,45,67_AL_.jpg\" width=\"45\" height=\"67\" alt=\"Ugly\"/>\\n</a>    </td>\\n    <td class=\"titleColumn\">\\n      114.\\n      <a href=\"/title/tt2882328/\"\\ntitle=\"Anurag Kashyap (dir.), Rahul Bhatt, Ronit Roy\" >Ugly</a>\\n        <span class=\"secondaryInfo\">(2013)</span>\\n    </td>\\n    <td class=\"ratingColumn imdbRating\">\\n            <strong title=\"8.0 based on 20,119 user ratings\">8.0</strong>\\n    </td>\\n    <td class=\"ratingColumn\">\\n    <div class=\"seen-widget seen-widget-tt2882328 pending\" data-titleid=\"tt2882328\">\\n        <div class=\"boundary\">\\n            <div class=\"popover\">\\n<span class=\"delete\">&nbsp;</span><ol><li>1<li>2<li>3<li>4<li>5<li>6<li>7<li>8<li>9<li>10</ol>            </div>\\n        </div>\\n        <div class=\"inline\">\\n            <div class=\"pending\"></div>\\n            <div class=\"unseeable\">NOT YET RELEASED</div>\\n            <div class=\"unseen\"> </div>\\n            <div class=\"rating\"></div>\\n            <div class=\"seen\">Seen</div>\\n        </div>\\n    </div>\\n    </td>\\n    <td class=\"watchlistColumn\">\\n        <div class=\"wlb_ribbon\" data-tconst=\"tt2882328\" data-recordmetrics=\"true\"></div>\\n    </td>\\n  </tr>\\n\\n  <tr>\\n    <td class=\"posterColumn\">\\n\\n    <span name=\"rk\" data-value=\"115\"></span>\\n    <span name=\"ir\" data-value=\"7.973725990161881\"></span>\\n    <span name=\"us\" data-value=\"1.123632E12\"></span>\\n    <span name=\"nv\" data-value=\"12028\"></span>\\n    <span name=\"ur\" data-value=\"-3.0262740098381187\"></span>\\n<a href=\"/title/tt0471571/\"\\n> <img src=\"https://m.media-amazon.com/images/M/MV5BMDU4MDQ3YWItY2ViMy00NTM5LTg0NjQtMWIxN2ExZmU0ZTE0XkEyXkFqcGdeQXVyMjMyNjkwMTY@._V1_UY67_CR2,0,45,67_AL_.jpg\" width=\"45\" height=\"67\" alt=\"Athadu\"/>\\n</a>    </td>\\n    <td class=\"titleColumn\">\\n      115.\\n      <a href=\"/title/tt0471571/\"\\ntitle=\"Trivikram Srinivas (dir.), Mahesh Babu, Trisha Krishnan\" >Athadu</a>\\n        <span class=\"secondaryInfo\">(2005)</span>\\n    </td>\\n    <td class=\"ratingColumn imdbRating\">\\n            <strong title=\"8.0 based on 12,028 user ratings\">8.0</strong>\\n    </td>\\n    <td class=\"ratingColumn\">\\n    <div class=\"seen-widget seen-widget-tt0471571 pending\" data-titleid=\"tt0471571\">\\n        <div class=\"boundary\">\\n            <div class=\"popover\">\\n<span class=\"delete\">&nbsp;</span><ol><li>1<li>2<li>3<li>4<li>5<li>6<li>7<li>8<li>9<li>10</ol>            </div>\\n        </div>\\n        <div class=\"inline\">\\n            <div class=\"pending\"></div>\\n            <div class=\"unseeable\">NOT YET RELEASED</div>\\n            <div class=\"unseen\"> </div>\\n            <div class=\"rating\"></div>\\n            <div class=\"seen\">Seen</div>\\n        </div>\\n    </div>\\n    </td>\\n    <td class=\"watchlistColumn\">\\n        <div class=\"wlb_ribbon\" data-tconst=\"tt0471571\" data-recordmetrics=\"true\"></div>\\n    </td>\\n  </tr>\\n\\n  <tr>\\n    <td class=\"posterColumn\">\\n\\n    <span name=\"rk\" data-value=\"116\"></span>\\n    <span name=\"ir\" data-value=\"7.954244176768717\"></span>\\n    <span name=\"us\" data-value=\"9.237024E11\"></span>\\n    <span name=\"nv\" data-value=\"5615\"></span>\\n    <span name=\"ur\" data-value=\"-3.045755823231283\"></span>\\n<a href=\"/title/tt0213969/\"\\n> <img src=\"https://m.media-amazon.com/images/M/MV5BZDRkNTlkZWYtOWIzMi00OWE3LWFkMjUtMTdlNGFiNWVlMWQzXkEyXkFqcGdeQXVyOTk3NTc2MzE@._V1_UY67_CR3,0,45,67_AL_.jpg\" width=\"45\" height=\"67\" alt=\"Padayappa\"/>\\n</a>    </td>\\n    <td class=\"titleColumn\">\\n      116.\\n      <a href=\"/title/tt0213969/\"\\ntitle=\"K.S. Ravikumar (dir.), Shivaji Ganesan, Rajinikanth\" >Padayappa</a>\\n        <span class=\"secondaryInfo\">(1999)</span>\\n    </td>\\n    <td class=\"ratingColumn imdbRating\">\\n            <strong title=\"8.0 based on 5,615 user ratings\">8.0</strong>\\n    </td>\\n    <td class=\"ratingColumn\">\\n    <div class=\"seen-widget seen-widget-tt0213969 pending\" data-titleid=\"tt0213969\">\\n        <div class=\"boundary\">\\n            <div class=\"popover\">\\n<span class=\"delete\">&nbsp;</span><ol><li>1<li>2<li>3<li>4<li>5<li>6<li>7<li>8<li>9<li>10</ol>            </div>\\n        </div>\\n        <div class=\"inline\">\\n            <div class=\"pending\"></div>\\n            <div class=\"unseeable\">NOT YET RELEASED</div>\\n            <div class=\"unseen\"> </div>\\n            <div class=\"rating\"></div>\\n            <div class=\"seen\">Seen</div>\\n        </div>\\n    </div>\\n    </td>\\n    <td class=\"watchlistColumn\">\\n        <div class=\"wlb_ribbon\" data-tconst=\"tt0213969\" data-recordmetrics=\"true\"></div>\\n    </td>\\n  </tr>\\n\\n  <tr>\\n    <td class=\"posterColumn\">\\n\\n    <span name=\"rk\" data-value=\"117\"></span>\\n    <span name=\"ir\" data-value=\"7.947766146783336\"></span>\\n    <span name=\"us\" data-value=\"1.3601952E12\"></span>\\n    <span name=\"nv\" data-value=\"50939\"></span>\\n    <span name=\"ur\" data-value=\"-3.0522338532166637\"></span>\\n<a href=\"/title/tt2377938/\"\\n> <img src=\"https://m.media-amazon.com/images/M/MV5BMTQ1NDI5MjMzNF5BMl5BanBnXkFtZTcwMTc0MDQwOQ@@._V1_UY67_CR0,0,45,67_AL_.jpg\" width=\"45\" height=\"67\" alt=\"Special Chabbis\"/>\\n</a>    </td>\\n    <td class=\"titleColumn\">\\n      117.\\n      <a href=\"/title/tt2377938/\"\\ntitle=\"Neeraj Pandey (dir.), Akshay Kumar, Anupam Kher\" >Special Chabbis</a>\\n        <span class=\"secondaryInfo\">(2013)</span>\\n    </td>\\n    <td class=\"ratingColumn imdbRating\">\\n            <strong title=\"7.9 based on 50,939 user ratings\">7.9</strong>\\n    </td>\\n    <td class=\"ratingColumn\">\\n    <div class=\"seen-widget seen-widget-tt2377938 pending\" data-titleid=\"tt2377938\">\\n        <div class=\"boundary\">\\n            <div class=\"popover\">\\n<span class=\"delete\">&nbsp;</span><ol><li>1<li>2<li>3<li>4<li>5<li>6<li>7<li>8<li>9<li>10</ol>            </div>\\n        </div>\\n        <div class=\"inline\">\\n            <div class=\"pending\"></div>\\n            <div class=\"unseeable\">NOT YET RELEASED</div>\\n            <div class=\"unseen\"> </div>\\n            <div class=\"rating\"></div>\\n            <div class=\"seen\">Seen</div>\\n        </div>\\n    </div>\\n    </td>\\n    <td class=\"watchlistColumn\">\\n        <div class=\"wlb_ribbon\" data-tconst=\"tt2377938\" data-recordmetrics=\"true\"></div>\\n    </td>\\n  </tr>\\n\\n  <tr>\\n    <td class=\"posterColumn\">\\n\\n    <span name=\"rk\" data-value=\"118\"></span>\\n    <span name=\"ir\" data-value=\"7.937227465247231\"></span>\\n    <span name=\"us\" data-value=\"1.2338784E12\"></span>\\n    <span name=\"nv\" data-value=\"28701\"></span>\\n    <span name=\"ur\" data-value=\"-3.062772534752769\"></span>\\n<a href=\"/title/tt1327035/\"\\n> <img src=\"https://m.media-amazon.com/images/M/MV5BYjU1NjczNzYtYmFjOC00NzkxLTg4YTUtNGYzMTk3NTU0ZDE3XkEyXkFqcGdeQXVyNDUzOTQ5MjY@._V1_UY67_CR0,0,45,67_AL_.jpg\" width=\"45\" height=\"67\" alt=\"Dev.D\"/>\\n</a>    </td>\\n    <td class=\"titleColumn\">\\n      118.\\n      <a href=\"/title/tt1327035/\"\\ntitle=\"Anurag Kashyap (dir.), Abhay Deol, Mahie Gill\" >Dev.D</a>\\n        <span class=\"secondaryInfo\">(2009)</span>\\n    </td>\\n    <td class=\"ratingColumn imdbRating\">\\n            <strong title=\"7.9 based on 28,701 user ratings\">7.9</strong>\\n    </td>\\n    <td class=\"ratingColumn\">\\n    <div class=\"seen-widget seen-widget-tt1327035 pending\" data-titleid=\"tt1327035\">\\n        <div class=\"boundary\">\\n            <div class=\"popover\">\\n<span class=\"delete\">&nbsp;</span><ol><li>1<li>2<li>3<li>4<li>5<li>6<li>7<li>8<li>9<li>10</ol>            </div>\\n        </div>\\n        <div class=\"inline\">\\n            <div class=\"pending\"></div>\\n            <div class=\"unseeable\">NOT YET RELEASED</div>\\n            <div class=\"unseen\"> </div>\\n            <div class=\"rating\"></div>\\n            <div class=\"seen\">Seen</div>\\n        </div>\\n    </div>\\n    </td>\\n    <td class=\"watchlistColumn\">\\n        <div class=\"wlb_ribbon\" data-tconst=\"tt1327035\" data-recordmetrics=\"true\"></div>\\n    </td>\\n  </tr>\\n\\n  <tr>\\n    <td class=\"posterColumn\">\\n\\n    <span name=\"rk\" data-value=\"119\"></span>\\n    <span name=\"ir\" data-value=\"7.936487439562248\"></span>\\n    <span name=\"us\" data-value=\"1.5222816E12\"></span>\\n    <span name=\"nv\" data-value=\"18687\"></span>\\n    <span name=\"ur\" data-value=\"-3.0635125604377524\"></span>\\n<a href=\"/title/tt7392212/\"\\n> <img src=\"https://m.media-amazon.com/images/M/MV5BMjQ1MjFkN2EtOTU4NS00NDkzLThhNzItODkzYWNjZDMxZjE0XkEyXkFqcGdeQXVyNTgxODY5ODI@._V1_UY67_CR1,0,45,67_AL_.jpg\" width=\"45\" height=\"67\" alt=\"Rangasthalam\"/>\\n</a>    </td>\\n    <td class=\"titleColumn\">\\n      119.\\n      <a href=\"/title/tt7392212/\"\\ntitle=\"Sukumar (dir.), Ram Charan, Samantha Ruth Prabhu\" >Rangasthalam</a>\\n        <span class=\"secondaryInfo\">(2018)</span>\\n    </td>\\n    <td class=\"ratingColumn imdbRating\">\\n            <strong title=\"7.9 based on 18,687 user ratings\">7.9</strong>\\n    </td>\\n    <td class=\"ratingColumn\">\\n    <div class=\"seen-widget seen-widget-tt7392212 pending\" data-titleid=\"tt7392212\">\\n        <div class=\"boundary\">\\n            <div class=\"popover\">\\n<span class=\"delete\">&nbsp;</span><ol><li>1<li>2<li>3<li>4<li>5<li>6<li>7<li>8<li>9<li>10</ol>            </div>\\n        </div>\\n        <div class=\"inline\">\\n            <div class=\"pending\"></div>\\n            <div class=\"unseeable\">NOT YET RELEASED</div>\\n            <div class=\"unseen\"> </div>\\n            <div class=\"rating\"></div>\\n            <div class=\"seen\">Seen</div>\\n        </div>\\n    </div>\\n    </td>\\n    <td class=\"watchlistColumn\">\\n        <div class=\"wlb_ribbon\" data-tconst=\"tt7392212\" data-recordmetrics=\"true\"></div>\\n    </td>\\n  </tr>\\n\\n  <tr>\\n    <td class=\"posterColumn\">\\n\\n    <span name=\"rk\" data-value=\"120\"></span>\\n    <span name=\"ir\" data-value=\"7.927936976326181\"></span>\\n    <span name=\"us\" data-value=\"-3.543264E11\"></span>\\n    <span name=\"nv\" data-value=\"5125\"></span>\\n    <span name=\"ur\" data-value=\"-3.0720630236738193\"></span>\\n<a href=\"/title/tt0051792/\"\\n> <img src=\"https://m.media-amazon.com/images/M/MV5BYjc5ZmI4MDktZDJjMi00YmYxLTgxODUtMjIxZjhmMjljODZkXkEyXkFqcGdeQXVyNTgyNTA4MjM@._V1_UX45_CR0,0,45,67_AL_.jpg\" width=\"45\" height=\"67\" alt=\"Jalsaghar\"/>\\n</a>    </td>\\n    <td class=\"titleColumn\">\\n      120.\\n      <a href=\"/title/tt0051792/\"\\ntitle=\"Satyajit Ray (dir.), Chhabi Biswas, Sardar Akhtar\" >Jalsaghar</a>\\n        <span class=\"secondaryInfo\">(1958)</span>\\n    </td>\\n    <td class=\"ratingColumn imdbRating\">\\n            <strong title=\"7.9 based on 5,125 user ratings\">7.9</strong>\\n    </td>\\n    <td class=\"ratingColumn\">\\n    <div class=\"seen-widget seen-widget-tt0051792 pending\" data-titleid=\"tt0051792\">\\n        <div class=\"boundary\">\\n            <div class=\"popover\">\\n<span class=\"delete\">&nbsp;</span><ol><li>1<li>2<li>3<li>4<li>5<li>6<li>7<li>8<li>9<li>10</ol>            </div>\\n        </div>\\n        <div class=\"inline\">\\n            <div class=\"pending\"></div>\\n            <div class=\"unseeable\">NOT YET RELEASED</div>\\n            <div class=\"unseen\"> </div>\\n            <div class=\"rating\"></div>\\n            <div class=\"seen\">Seen</div>\\n        </div>\\n    </div>\\n    </td>\\n    <td class=\"watchlistColumn\">\\n        <div class=\"wlb_ribbon\" data-tconst=\"tt0051792\" data-recordmetrics=\"true\"></div>\\n    </td>\\n  </tr>\\n\\n  <tr>\\n    <td class=\"posterColumn\">\\n\\n    <span name=\"rk\" data-value=\"121\"></span>\\n    <span name=\"ir\" data-value=\"7.923495327678532\"></span>\\n    <span name=\"us\" data-value=\"1.5398208E12\"></span>\\n    <span name=\"nv\" data-value=\"27838\"></span>\\n    <span name=\"ur\" data-value=\"-3.0765046723214677\"></span>\\n<a href=\"/title/tt7725596/\"\\n> <img src=\"https://m.media-amazon.com/images/M/MV5BNjZlMDdmN2YtYThmZi00NGQzLTk0ZTQtNTUyZDFmODExOGNiXkEyXkFqcGdeQXVyODE5NzE3OTE@._V1_UY67_CR0,0,45,67_AL_.jpg\" width=\"45\" height=\"67\" alt=\"Badhaai ho\"/>\\n</a>    </td>\\n    <td class=\"titleColumn\">\\n      121.\\n      <a href=\"/title/tt7725596/\"\\ntitle=\"Amit Ravindernath Sharma (dir.), Ayushmann Khurrana, Neena Gupta\" >Badhaai ho</a>\\n        <span class=\"secondaryInfo\">(2018)</span>\\n    </td>\\n    <td class=\"ratingColumn imdbRating\">\\n            <strong title=\"7.9 based on 27,838 user ratings\">7.9</strong>\\n    </td>\\n    <td class=\"ratingColumn\">\\n    <div class=\"seen-widget seen-widget-tt7725596 pending\" data-titleid=\"tt7725596\">\\n        <div class=\"boundary\">\\n            <div class=\"popover\">\\n<span class=\"delete\">&nbsp;</span><ol><li>1<li>2<li>3<li>4<li>5<li>6<li>7<li>8<li>9<li>10</ol>            </div>\\n        </div>\\n        <div class=\"inline\">\\n            <div class=\"pending\"></div>\\n            <div class=\"unseeable\">NOT YET RELEASED</div>\\n            <div class=\"unseen\"> </div>\\n            <div class=\"rating\"></div>\\n            <div class=\"seen\">Seen</div>\\n        </div>\\n    </div>\\n    </td>\\n    <td class=\"watchlistColumn\">\\n        <div class=\"wlb_ribbon\" data-tconst=\"tt7725596\" data-recordmetrics=\"true\"></div>\\n    </td>\\n  </tr>\\n\\n  <tr>\\n    <td class=\"posterColumn\">\\n\\n    <span name=\"rk\" data-value=\"122\"></span>\\n    <span name=\"ir\" data-value=\"7.922892674671585\"></span>\\n    <span name=\"us\" data-value=\"1.3468896E12\"></span>\\n    <span name=\"nv\" data-value=\"6671\"></span>\\n    <span name=\"ur\" data-value=\"-3.0771073253284147\"></span>\\n<a href=\"/title/tt1773764/\"\\n> <img src=\"https://m.media-amazon.com/images/M/MV5BMTU5Njc1NjkxMl5BMl5BanBnXkFtZTgwNTkzNTQwMDE@._V1_UY67_CR0,0,45,67_AL_.jpg\" width=\"45\" height=\"67\" alt=\"Ship of Theseus\"/>\\n</a>    </td>\\n    <td class=\"titleColumn\">\\n      122.\\n      <a href=\"/title/tt1773764/\"\\ntitle=\"Anand Gandhi (dir.), Aydah El-Kashef, Yogesh Shah\" >Ship of Theseus</a>\\n        <span class=\"secondaryInfo\">(2012)</span>\\n    </td>\\n    <td class=\"ratingColumn imdbRating\">\\n            <strong title=\"7.9 based on 6,671 user ratings\">7.9</strong>\\n    </td>\\n    <td class=\"ratingColumn\">\\n    <div class=\"seen-widget seen-widget-tt1773764 pending\" data-titleid=\"tt1773764\">\\n        <div class=\"boundary\">\\n            <div class=\"popover\">\\n<span class=\"delete\">&nbsp;</span><ol><li>1<li>2<li>3<li>4<li>5<li>6<li>7<li>8<li>9<li>10</ol>            </div>\\n        </div>\\n        <div class=\"inline\">\\n            <div class=\"pending\"></div>\\n            <div class=\"unseeable\">NOT YET RELEASED</div>\\n            <div class=\"unseen\"> </div>\\n            <div class=\"rating\"></div>\\n            <div class=\"seen\">Seen</div>\\n        </div>\\n    </div>\\n    </td>\\n    <td class=\"watchlistColumn\">\\n        <div class=\"wlb_ribbon\" data-tconst=\"tt1773764\" data-recordmetrics=\"true\"></div>\\n    </td>\\n  </tr>\\n\\n  <tr>\\n    <td class=\"posterColumn\">\\n\\n    <span name=\"rk\" data-value=\"123\"></span>\\n    <span name=\"ir\" data-value=\"7.917533804855062\"></span>\\n    <span name=\"us\" data-value=\"1.4369184E12\"></span>\\n    <span name=\"nv\" data-value=\"72031\"></span>\\n    <span name=\"ur\" data-value=\"-3.0824661951449377\"></span>\\n<a href=\"/title/tt3863552/\"\\n> <img src=\"https://m.media-amazon.com/images/M/MV5BMjE1NjQ5ODc2NV5BMl5BanBnXkFtZTgwOTM5ODIxNjE@._V1_UY67_CR1,0,45,67_AL_.jpg\" width=\"45\" height=\"67\" alt=\"Bajrangi Bhaijaan\"/>\\n</a>    </td>\\n    <td class=\"titleColumn\">\\n      123.\\n      <a href=\"/title/tt3863552/\"\\ntitle=\"Kabir Khan (dir.), Salman Khan, Harshaali Malhotra\" >Bajrangi Bhaijaan</a>\\n        <span class=\"secondaryInfo\">(2015)</span>\\n    </td>\\n    <td class=\"ratingColumn imdbRating\">\\n            <strong title=\"7.9 based on 72,031 user ratings\">7.9</strong>\\n    </td>\\n    <td class=\"ratingColumn\">\\n    <div class=\"seen-widget seen-widget-tt3863552 pending\" data-titleid=\"tt3863552\">\\n        <div class=\"boundary\">\\n            <div class=\"popover\">\\n<span class=\"delete\">&nbsp;</span><ol><li>1<li>2<li>3<li>4<li>5<li>6<li>7<li>8<li>9<li>10</ol>            </div>\\n        </div>\\n        <div class=\"inline\">\\n            <div class=\"pending\"></div>\\n            <div class=\"unseeable\">NOT YET RELEASED</div>\\n            <div class=\"unseen\"> </div>\\n            <div class=\"rating\"></div>\\n            <div class=\"seen\">Seen</div>\\n        </div>\\n    </div>\\n    </td>\\n    <td class=\"watchlistColumn\">\\n        <div class=\"wlb_ribbon\" data-tconst=\"tt3863552\" data-recordmetrics=\"true\"></div>\\n    </td>\\n  </tr>\\n\\n  <tr>\\n    <td class=\"posterColumn\">\\n\\n    <span name=\"rk\" data-value=\"124\"></span>\\n    <span name=\"ir\" data-value=\"7.907338655786845\"></span>\\n    <span name=\"us\" data-value=\"9.392544E11\"></span>\\n    <span name=\"nv\" data-value=\"12638\"></span>\\n    <span name=\"ur\" data-value=\"-3.0926613442131554\"></span>\\n<a href=\"/title/tt0220832/\"\\n> <img src=\"https://m.media-amazon.com/images/M/MV5BNzdhNWYwMGUtOGRjYS00ODg4LWE2NTktNzJhMGZhNGQyYzA5XkEyXkFqcGdeQXVyODE5NzE3OTE@._V1_UX45_CR0,0,45,67_AL_.jpg\" width=\"45\" height=\"67\" alt=\"Vaastav: The Reality\"/>\\n</a>    </td>\\n    <td class=\"titleColumn\">\\n      124.\\n      <a href=\"/title/tt0220832/\"\\ntitle=\"Mahesh Manjrekar (dir.), Sanjay Dutt, Namrata Shirodkar\" >Vaastav: The Reality</a>\\n        <span class=\"secondaryInfo\">(1999)</span>\\n    </td>\\n    <td class=\"ratingColumn imdbRating\">\\n            <strong title=\"7.9 based on 12,638 user ratings\">7.9</strong>\\n    </td>\\n    <td class=\"ratingColumn\">\\n    <div class=\"seen-widget seen-widget-tt0220832 pending\" data-titleid=\"tt0220832\">\\n        <div class=\"boundary\">\\n            <div class=\"popover\">\\n<span class=\"delete\">&nbsp;</span><ol><li>1<li>2<li>3<li>4<li>5<li>6<li>7<li>8<li>9<li>10</ol>            </div>\\n        </div>\\n        <div class=\"inline\">\\n            <div class=\"pending\"></div>\\n            <div class=\"unseeable\">NOT YET RELEASED</div>\\n            <div class=\"unseen\"> </div>\\n            <div class=\"rating\"></div>\\n            <div class=\"seen\">Seen</div>\\n        </div>\\n    </div>\\n    </td>\\n    <td class=\"watchlistColumn\">\\n        <div class=\"wlb_ribbon\" data-tconst=\"tt0220832\" data-recordmetrics=\"true\"></div>\\n    </td>\\n  </tr>\\n\\n  <tr>\\n    <td class=\"posterColumn\">\\n\\n    <span name=\"rk\" data-value=\"125\"></span>\\n    <span name=\"ir\" data-value=\"7.902666932633162\"></span>\\n    <span name=\"us\" data-value=\"1.3959648E12\"></span>\\n    <span name=\"nv\" data-value=\"6758\"></span>\\n    <span name=\"ur\" data-value=\"-3.097333067366838\"></span>\\n<a href=\"/title/tt3394420/\"\\n> <img src=\"https://m.media-amazon.com/images/M/MV5BMTc3ODUxODg3MV5BMl5BanBnXkFtZTgwMDc0MDY4MTE@._V1_UX45_CR0,0,45,67_AL_.jpg\" width=\"45\" height=\"67\" alt=\"Ulidavaru Kandanthe\"/>\\n</a>    </td>\\n    <td class=\"titleColumn\">\\n      125.\\n      <a href=\"/title/tt3394420/\"\\ntitle=\"Rakshit Shetty (dir.), Kishore Kumar G., Rakshit Shetty\" >Ulidavaru Kandanthe</a>\\n        <span class=\"secondaryInfo\">(2014)</span>\\n    </td>\\n    <td class=\"ratingColumn imdbRating\">\\n            <strong title=\"7.9 based on 6,758 user ratings\">7.9</strong>\\n    </td>\\n    <td class=\"ratingColumn\">\\n    <div class=\"seen-widget seen-widget-tt3394420 pending\" data-titleid=\"tt3394420\">\\n        <div class=\"boundary\">\\n            <div class=\"popover\">\\n<span class=\"delete\">&nbsp;</span><ol><li>1<li>2<li>3<li>4<li>5<li>6<li>7<li>8<li>9<li>10</ol>            </div>\\n        </div>\\n        <div class=\"inline\">\\n            <div class=\"pending\"></div>\\n            <div class=\"unseeable\">NOT YET RELEASED</div>\\n            <div class=\"unseen\"> </div>\\n            <div class=\"rating\"></div>\\n            <div class=\"seen\">Seen</div>\\n        </div>\\n    </div>\\n    </td>\\n    <td class=\"watchlistColumn\">\\n        <div class=\"wlb_ribbon\" data-tconst=\"tt3394420\" data-recordmetrics=\"true\"></div>\\n    </td>\\n  </tr>\\n\\n  <tr>\\n    <td class=\"posterColumn\">\\n\\n    <span name=\"rk\" data-value=\"126\"></span>\\n    <span name=\"ir\" data-value=\"7.899442644101802\"></span>\\n    <span name=\"us\" data-value=\"1.0188288E12\"></span>\\n    <span name=\"nv\" data-value=\"14493\"></span>\\n    <span name=\"ur\" data-value=\"-3.1005573558981983\"></span>\\n<a href=\"/title/tt0296574/\"\\n> <img src=\"https://m.media-amazon.com/images/M/MV5BMTQwMjFmMDItYzdjNC00NzFkLTg2MzctYzQ3ZmI0MWVlMDMwXkEyXkFqcGdeQXVyODE5NzE3OTE@._V1_UY67_CR0,0,45,67_AL_.jpg\" width=\"45\" height=\"67\" alt=\"Company\"/>\\n</a>    </td>\\n    <td class=\"titleColumn\">\\n      126.\\n      <a href=\"/title/tt0296574/\"\\ntitle=\"Ram Gopal Varma (dir.), Ajay Devgn, Mohanlal\" >Company</a>\\n        <span class=\"secondaryInfo\">(2002)</span>\\n    </td>\\n    <td class=\"ratingColumn imdbRating\">\\n            <strong title=\"7.9 based on 14,493 user ratings\">7.9</strong>\\n    </td>\\n    <td class=\"ratingColumn\">\\n    <div class=\"seen-widget seen-widget-tt0296574 pending\" data-titleid=\"tt0296574\">\\n        <div class=\"boundary\">\\n            <div class=\"popover\">\\n<span class=\"delete\">&nbsp;</span><ol><li>1<li>2<li>3<li>4<li>5<li>6<li>7<li>8<li>9<li>10</ol>            </div>\\n        </div>\\n        <div class=\"inline\">\\n            <div class=\"pending\"></div>\\n            <div class=\"unseeable\">NOT YET RELEASED</div>\\n            <div class=\"unseen\"> </div>\\n            <div class=\"rating\"></div>\\n            <div class=\"seen\">Seen</div>\\n        </div>\\n    </div>\\n    </td>\\n    <td class=\"watchlistColumn\">\\n        <div class=\"wlb_ribbon\" data-tconst=\"tt0296574\" data-recordmetrics=\"true\"></div>\\n    </td>\\n  </tr>\\n\\n  <tr>\\n    <td class=\"posterColumn\">\\n\\n    <span name=\"rk\" data-value=\"127\"></span>\\n    <span name=\"ir\" data-value=\"7.897669866297393\"></span>\\n    <span name=\"us\" data-value=\"1.5036192E12\"></span>\\n    <span name=\"nv\" data-value=\"20916\"></span>\\n    <span name=\"ur\" data-value=\"-3.1023301337026066\"></span>\\n<a href=\"/title/tt7294534/\"\\n> <img src=\"https://m.media-amazon.com/images/M/MV5BMzFhMThiOWItMzRjNC00YzQwLTkyZWItYmJhNzgwYzY1ODI0XkEyXkFqcGdeQXVyNTcyMzkyODg@._V1_UY67_CR0,0,45,67_AL_.jpg\" width=\"45\" height=\"67\" alt=\"Arjun Reddy\"/>\\n</a>    </td>\\n    <td class=\"titleColumn\">\\n      127.\\n      <a href=\"/title/tt7294534/\"\\ntitle=\"Sandeep Reddy Vanga (dir.), Vijay Deverakonda, Shalini Pandey\" >Arjun Reddy</a>\\n        <span class=\"secondaryInfo\">(2017)</span>\\n    </td>\\n    <td class=\"ratingColumn imdbRating\">\\n            <strong title=\"7.9 based on 20,916 user ratings\">7.9</strong>\\n    </td>\\n    <td class=\"ratingColumn\">\\n    <div class=\"seen-widget seen-widget-tt7294534 pending\" data-titleid=\"tt7294534\">\\n        <div class=\"boundary\">\\n            <div class=\"popover\">\\n<span class=\"delete\">&nbsp;</span><ol><li>1<li>2<li>3<li>4<li>5<li>6<li>7<li>8<li>9<li>10</ol>            </div>\\n        </div>\\n        <div class=\"inline\">\\n            <div class=\"pending\"></div>\\n            <div class=\"unseeable\">NOT YET RELEASED</div>\\n            <div class=\"unseen\"> </div>\\n            <div class=\"rating\"></div>\\n            <div class=\"seen\">Seen</div>\\n        </div>\\n    </div>\\n    </td>\\n    <td class=\"watchlistColumn\">\\n        <div class=\"wlb_ribbon\" data-tconst=\"tt7294534\" data-recordmetrics=\"true\"></div>\\n    </td>\\n  </tr>\\n\\n  <tr>\\n    <td class=\"posterColumn\">\\n\\n    <span name=\"rk\" data-value=\"128\"></span>\\n    <span name=\"ir\" data-value=\"7.895266516834753\"></span>\\n    <span name=\"us\" data-value=\"1.3862016E12\"></span>\\n    <span name=\"nv\" data-value=\"10144\"></span>\\n    <span name=\"ur\" data-value=\"-3.104733483165247\"></span>\\n<a href=\"/title/tt3614516/\"\\n> <img src=\"https://m.media-amazon.com/images/M/MV5BMTY4YjY3ZDgtYjVhZS00MWY4LTlkYmMtNGI4ZGY4YzhiZmIwXkEyXkFqcGdeQXVyODE5NzE3OTE@._V1_UY67_CR0,0,45,67_AL_.jpg\" width=\"45\" height=\"67\" alt=\"Ankhon Dekhi\"/>\\n</a>    </td>\\n    <td class=\"titleColumn\">\\n      128.\\n      <a href=\"/title/tt3614516/\"\\ntitle=\"Rajat Kapoor (dir.), Sanjay Mishra, Seema Bhargava\" >Ankhon Dekhi</a>\\n        <span class=\"secondaryInfo\">(2013)</span>\\n    </td>\\n    <td class=\"ratingColumn imdbRating\">\\n            <strong title=\"7.9 based on 10,144 user ratings\">7.9</strong>\\n    </td>\\n    <td class=\"ratingColumn\">\\n    <div class=\"seen-widget seen-widget-tt3614516 pending\" data-titleid=\"tt3614516\">\\n        <div class=\"boundary\">\\n            <div class=\"popover\">\\n<span class=\"delete\">&nbsp;</span><ol><li>1<li>2<li>3<li>4<li>5<li>6<li>7<li>8<li>9<li>10</ol>            </div>\\n        </div>\\n        <div class=\"inline\">\\n            <div class=\"pending\"></div>\\n            <div class=\"unseeable\">NOT YET RELEASED</div>\\n            <div class=\"unseen\"> </div>\\n            <div class=\"rating\"></div>\\n            <div class=\"seen\">Seen</div>\\n        </div>\\n    </div>\\n    </td>\\n    <td class=\"watchlistColumn\">\\n        <div class=\"wlb_ribbon\" data-tconst=\"tt3614516\" data-recordmetrics=\"true\"></div>\\n    </td>\\n  </tr>\\n\\n  <tr>\\n    <td class=\"posterColumn\">\\n\\n    <span name=\"rk\" data-value=\"129\"></span>\\n    <span name=\"ir\" data-value=\"7.893784304138406\"></span>\\n    <span name=\"us\" data-value=\"1.5049152E12\"></span>\\n    <span name=\"nv\" data-value=\"6532\"></span>\\n    <span name=\"ur\" data-value=\"-3.106215695861594\"></span>\\n<a href=\"/title/tt7180544/\"\\n> <img src=\"https://m.media-amazon.com/images/M/MV5BYjQ2YmFmNDgtMzBkNC00ZmVmLTkyNTEtMzFkMmEyMjJhZDdhXkEyXkFqcGdeQXVyMzQ5Njc3NzU@._V1_UY67_CR0,0,45,67_AL_.jpg\" width=\"45\" height=\"67\" alt=\"Mukkabaaz\"/>\\n</a>    </td>\\n    <td class=\"titleColumn\">\\n      129.\\n      <a href=\"/title/tt7180544/\"\\ntitle=\"Anurag Kashyap (dir.), Vineet Kumar Singh, Jimmy Sheirgill\" >Mukkabaaz</a>\\n        <span class=\"secondaryInfo\">(2017)</span>\\n    </td>\\n    <td class=\"ratingColumn imdbRating\">\\n            <strong title=\"7.9 based on 6,532 user ratings\">7.9</strong>\\n    </td>\\n    <td class=\"ratingColumn\">\\n    <div class=\"seen-widget seen-widget-tt7180544 pending\" data-titleid=\"tt7180544\">\\n        <div class=\"boundary\">\\n            <div class=\"popover\">\\n<span class=\"delete\">&nbsp;</span><ol><li>1<li>2<li>3<li>4<li>5<li>6<li>7<li>8<li>9<li>10</ol>            </div>\\n        </div>\\n        <div class=\"inline\">\\n            <div class=\"pending\"></div>\\n            <div class=\"unseeable\">NOT YET RELEASED</div>\\n            <div class=\"unseen\"> </div>\\n            <div class=\"rating\"></div>\\n            <div class=\"seen\">Seen</div>\\n        </div>\\n    </div>\\n    </td>\\n    <td class=\"watchlistColumn\">\\n        <div class=\"wlb_ribbon\" data-tconst=\"tt7180544\" data-recordmetrics=\"true\"></div>\\n    </td>\\n  </tr>\\n\\n  <tr>\\n    <td class=\"posterColumn\">\\n\\n    <span name=\"rk\" data-value=\"130\"></span>\\n    <span name=\"ir\" data-value=\"7.892532942541441\"></span>\\n    <span name=\"us\" data-value=\"1.2266208E12\"></span>\\n    <span name=\"nv\" data-value=\"10032\"></span>\\n    <span name=\"ur\" data-value=\"-3.1074670574585586\"></span>\\n<a href=\"/title/tt1180583/\"\\n> <img src=\"https://m.media-amazon.com/images/M/MV5BNDcxN2IwNTgtYzc4Ny00OWI2LTg0YWYtMGZhZTI3ZGI4ZGIyXkEyXkFqcGdeQXVyOTk3NTc2MzE@._V1_UY67_CR76,0,45,67_AL_.jpg\" width=\"45\" height=\"67\" alt=\"Vaaranam Aayiram\"/>\\n</a>    </td>\\n    <td class=\"titleColumn\">\\n      130.\\n      <a href=\"/title/tt1180583/\"\\ntitle=\"Gautham Vasudev Menon (dir.), Suriya, Simran\" >Vaaranam Aayiram</a>\\n        <span class=\"secondaryInfo\">(2008)</span>\\n    </td>\\n    <td class=\"ratingColumn imdbRating\">\\n            <strong title=\"7.9 based on 10,032 user ratings\">7.9</strong>\\n    </td>\\n    <td class=\"ratingColumn\">\\n    <div class=\"seen-widget seen-widget-tt1180583 pending\" data-titleid=\"tt1180583\">\\n        <div class=\"boundary\">\\n            <div class=\"popover\">\\n<span class=\"delete\">&nbsp;</span><ol><li>1<li>2<li>3<li>4<li>5<li>6<li>7<li>8<li>9<li>10</ol>            </div>\\n        </div>\\n        <div class=\"inline\">\\n            <div class=\"pending\"></div>\\n            <div class=\"unseeable\">NOT YET RELEASED</div>\\n            <div class=\"unseen\"> </div>\\n            <div class=\"rating\"></div>\\n            <div class=\"seen\">Seen</div>\\n        </div>\\n    </div>\\n    </td>\\n    <td class=\"watchlistColumn\">\\n        <div class=\"wlb_ribbon\" data-tconst=\"tt1180583\" data-recordmetrics=\"true\"></div>\\n    </td>\\n  </tr>\\n\\n  <tr>\\n    <td class=\"posterColumn\">\\n\\n    <span name=\"rk\" data-value=\"131\"></span>\\n    <span name=\"ir\" data-value=\"7.888482944561468\"></span>\\n    <span name=\"us\" data-value=\"1.2756096E12\"></span>\\n    <span name=\"nv\" data-value=\"6930\"></span>\\n    <span name=\"ur\" data-value=\"-3.111517055438532\"></span>\\n<a href=\"/title/tt1649431/\"\\n> <img src=\"https://m.media-amazon.com/images/M/MV5BNmFmMTJiZGMtYWRjMC00ZDljLWJkZGUtYmRmMGJlYmI5MTI3XkEyXkFqcGdeQXVyNjQ3ODkxMjE@._V1_UX45_CR0,0,45,67_AL_.jpg\" width=\"45\" height=\"67\" alt=\"Vedam\"/>\\n</a>    </td>\\n    <td class=\"titleColumn\">\\n      131.\\n      <a href=\"/title/tt1649431/\"\\ntitle=\"Radha Krishna Jagarlamudi (dir.), Manoj Kumar Manchu, Allu Arjun\" >Vedam</a>\\n        <span class=\"secondaryInfo\">(2010)</span>\\n    </td>\\n    <td class=\"ratingColumn imdbRating\">\\n            <strong title=\"7.9 based on 6,930 user ratings\">7.9</strong>\\n    </td>\\n    <td class=\"ratingColumn\">\\n    <div class=\"seen-widget seen-widget-tt1649431 pending\" data-titleid=\"tt1649431\">\\n        <div class=\"boundary\">\\n            <div class=\"popover\">\\n<span class=\"delete\">&nbsp;</span><ol><li>1<li>2<li>3<li>4<li>5<li>6<li>7<li>8<li>9<li>10</ol>            </div>\\n        </div>\\n        <div class=\"inline\">\\n            <div class=\"pending\"></div>\\n            <div class=\"unseeable\">NOT YET RELEASED</div>\\n            <div class=\"unseen\"> </div>\\n            <div class=\"rating\"></div>\\n            <div class=\"seen\">Seen</div>\\n        </div>\\n    </div>\\n    </td>\\n    <td class=\"watchlistColumn\">\\n        <div class=\"wlb_ribbon\" data-tconst=\"tt1649431\" data-recordmetrics=\"true\"></div>\\n    </td>\\n  </tr>\\n\\n  <tr>\\n    <td class=\"posterColumn\">\\n\\n    <span name=\"rk\" data-value=\"132\"></span>\\n    <span name=\"ir\" data-value=\"7.887714636242155\"></span>\\n    <span name=\"us\" data-value=\"1.545264E12\"></span>\\n    <span name=\"nv\" data-value=\"36069\"></span>\\n    <span name=\"ur\" data-value=\"-3.112285363757845\"></span>\\n<a href=\"/title/tt7838252/\"\\n> <img src=\"https://m.media-amazon.com/images/M/MV5BZDNlNzBjMGUtYTA0Yy00OTI2LWJmZjMtODliYmUyYTI0OGFmXkEyXkFqcGdeQXVyODIwMDI1NjM@._V1_UX45_CR0,0,45,67_AL_.jpg\" width=\"45\" height=\"67\" alt=\"K.G.F: Chapter 1\"/>\\n</a>    </td>\\n    <td class=\"titleColumn\">\\n      132.\\n      <a href=\"/title/tt7838252/\"\\ntitle=\"Prashanth Neel (dir.), Yash, Srinidhi Shetty\" >K.G.F: Chapter 1</a>\\n        <span class=\"secondaryInfo\">(2018)</span>\\n    </td>\\n    <td class=\"ratingColumn imdbRating\">\\n            <strong title=\"7.9 based on 36,069 user ratings\">7.9</strong>\\n    </td>\\n    <td class=\"ratingColumn\">\\n    <div class=\"seen-widget seen-widget-tt7838252 pending\" data-titleid=\"tt7838252\">\\n        <div class=\"boundary\">\\n            <div class=\"popover\">\\n<span class=\"delete\">&nbsp;</span><ol><li>1<li>2<li>3<li>4<li>5<li>6<li>7<li>8<li>9<li>10</ol>            </div>\\n        </div>\\n        <div class=\"inline\">\\n            <div class=\"pending\"></div>\\n            <div class=\"unseeable\">NOT YET RELEASED</div>\\n            <div class=\"unseen\"> </div>\\n            <div class=\"rating\"></div>\\n            <div class=\"seen\">Seen</div>\\n        </div>\\n    </div>\\n    </td>\\n    <td class=\"watchlistColumn\">\\n        <div class=\"wlb_ribbon\" data-tconst=\"tt7838252\" data-recordmetrics=\"true\"></div>\\n    </td>\\n  </tr>\\n\\n  <tr>\\n    <td class=\"posterColumn\">\\n\\n    <span name=\"rk\" data-value=\"133\"></span>\\n    <span name=\"ir\" data-value=\"7.8841449637517\"></span>\\n    <span name=\"us\" data-value=\"1.4401152E12\"></span>\\n    <span name=\"nv\" data-value=\"17738\"></span>\\n    <span name=\"ur\" data-value=\"-3.1158550362483\"></span>\\n<a href=\"/title/tt3449292/\"\\n> <img src=\"https://m.media-amazon.com/images/M/MV5BODdlZTZlZTktNTYyZC00ODQ1LWE5MjYtYjc1YTQwODRlNzI5XkEyXkFqcGdeQXVyODE5NzE3OTE@._V1_UY67_CR0,0,45,67_AL_.jpg\" width=\"45\" height=\"67\" alt=\"Manjhi: The Mountain Man\"/>\\n</a>    </td>\\n    <td class=\"titleColumn\">\\n      133.\\n      <a href=\"/title/tt3449292/\"\\ntitle=\"Ketan Mehta (dir.), Nawazuddin Siddiqui, Radhika Apte\" >Manjhi: The Mountain Man</a>\\n        <span class=\"secondaryInfo\">(2015)</span>\\n    </td>\\n    <td class=\"ratingColumn imdbRating\">\\n            <strong title=\"7.9 based on 17,738 user ratings\">7.9</strong>\\n    </td>\\n    <td class=\"ratingColumn\">\\n    <div class=\"seen-widget seen-widget-tt3449292 pending\" data-titleid=\"tt3449292\">\\n        <div class=\"boundary\">\\n            <div class=\"popover\">\\n<span class=\"delete\">&nbsp;</span><ol><li>1<li>2<li>3<li>4<li>5<li>6<li>7<li>8<li>9<li>10</ol>            </div>\\n        </div>\\n        <div class=\"inline\">\\n            <div class=\"pending\"></div>\\n            <div class=\"unseeable\">NOT YET RELEASED</div>\\n            <div class=\"unseen\"> </div>\\n            <div class=\"rating\"></div>\\n            <div class=\"seen\">Seen</div>\\n        </div>\\n    </div>\\n    </td>\\n    <td class=\"watchlistColumn\">\\n        <div class=\"wlb_ribbon\" data-tconst=\"tt3449292\" data-recordmetrics=\"true\"></div>\\n    </td>\\n  </tr>\\n\\n  <tr>\\n    <td class=\"posterColumn\">\\n\\n    <span name=\"rk\" data-value=\"134\"></span>\\n    <span name=\"ir\" data-value=\"7.873726311105848\"></span>\\n    <span name=\"us\" data-value=\"1.5955488E12\"></span>\\n    <span name=\"nv\" data-value=\"110866\"></span>\\n    <span name=\"ur\" data-value=\"-3.126273688894152\"></span>\\n<a href=\"/title/tt8110330/\"\\n> <img src=\"https://m.media-amazon.com/images/M/MV5BNmI0MTliMTAtMmJhNC00NTJmLTllMzQtMDI3NzA1ODMyZWI1XkEyXkFqcGdeQXVyODE5NzE3OTE@._V1_UY67_CR4,0,45,67_AL_.jpg\" width=\"45\" height=\"67\" alt=\"Dil Bechara\"/>\\n</a>    </td>\\n    <td class=\"titleColumn\">\\n      134.\\n      <a href=\"/title/tt8110330/\"\\ntitle=\"Mukesh Chhabra (dir.), Sushant Singh Rajput, Sanjana Sanghi\" >Dil Bechara</a>\\n        <span class=\"secondaryInfo\">(2020)</span>\\n    </td>\\n    <td class=\"ratingColumn imdbRating\">\\n            <strong title=\"7.9 based on 110,866 user ratings\">7.9</strong>\\n    </td>\\n    <td class=\"ratingColumn\">\\n    <div class=\"seen-widget seen-widget-tt8110330 pending\" data-titleid=\"tt8110330\">\\n        <div class=\"boundary\">\\n            <div class=\"popover\">\\n<span class=\"delete\">&nbsp;</span><ol><li>1<li>2<li>3<li>4<li>5<li>6<li>7<li>8<li>9<li>10</ol>            </div>\\n        </div>\\n        <div class=\"inline\">\\n            <div class=\"pending\"></div>\\n            <div class=\"unseeable\">NOT YET RELEASED</div>\\n            <div class=\"unseen\"> </div>\\n            <div class=\"rating\"></div>\\n            <div class=\"seen\">Seen</div>\\n        </div>\\n    </div>\\n    </td>\\n    <td class=\"watchlistColumn\">\\n        <div class=\"wlb_ribbon\" data-tconst=\"tt8110330\" data-recordmetrics=\"true\"></div>\\n    </td>\\n  </tr>\\n\\n  <tr>\\n    <td class=\"posterColumn\">\\n\\n    <span name=\"rk\" data-value=\"135\"></span>\\n    <span name=\"ir\" data-value=\"7.871568020356704\"></span>\\n    <span name=\"us\" data-value=\"1.3506048E12\"></span>\\n    <span name=\"nv\" data-value=\"6902\"></span>\\n    <span name=\"ur\" data-value=\"-3.1284319796432962\"></span>\\n<a href=\"/title/tt2585562/\"\\n> <img src=\"https://m.media-amazon.com/images/M/MV5BNDc3MTM0ZDItZjcwMy00MmI5LTlhMTctYmQ4NjM1MDM5MTRlXkEyXkFqcGdeQXVyODk1MzE5NDA@._V1_UY67_CR4,0,45,67_AL_.jpg\" width=\"45\" height=\"67\" alt=\"Pizza\"/>\\n</a>    </td>\\n    <td class=\"titleColumn\">\\n      135.\\n      <a href=\"/title/tt2585562/\"\\ntitle=\"Karthik Subbaraj (dir.), Vijay Sethupathi, Ramya Nambeeshan\" >Pizza</a>\\n        <span class=\"secondaryInfo\">(2012)</span>\\n    </td>\\n    <td class=\"ratingColumn imdbRating\">\\n            <strong title=\"7.9 based on 6,902 user ratings\">7.9</strong>\\n    </td>\\n    <td class=\"ratingColumn\">\\n    <div class=\"seen-widget seen-widget-tt2585562 pending\" data-titleid=\"tt2585562\">\\n        <div class=\"boundary\">\\n            <div class=\"popover\">\\n<span class=\"delete\">&nbsp;</span><ol><li>1<li>2<li>3<li>4<li>5<li>6<li>7<li>8<li>9<li>10</ol>            </div>\\n        </div>\\n        <div class=\"inline\">\\n            <div class=\"pending\"></div>\\n            <div class=\"unseeable\">NOT YET RELEASED</div>\\n            <div class=\"unseen\"> </div>\\n            <div class=\"rating\"></div>\\n            <div class=\"seen\">Seen</div>\\n        </div>\\n    </div>\\n    </td>\\n    <td class=\"watchlistColumn\">\\n        <div class=\"wlb_ribbon\" data-tconst=\"tt2585562\" data-recordmetrics=\"true\"></div>\\n    </td>\\n  </tr>\\n\\n  <tr>\\n    <td class=\"posterColumn\">\\n\\n    <span name=\"rk\" data-value=\"136\"></span>\\n    <span name=\"ir\" data-value=\"7.87016582947412\"></span>\\n    <span name=\"us\" data-value=\"1.2658464E12\"></span>\\n    <span name=\"nv\" data-value=\"98345\"></span>\\n    <span name=\"ur\" data-value=\"-3.1298341705258803\"></span>\\n<a href=\"/title/tt1188996/\"\\n> <img src=\"https://m.media-amazon.com/images/M/MV5BMTUyMTA4NDYzMV5BMl5BanBnXkFtZTcwMjk5MzcxMw@@._V1_UY67_CR0,0,45,67_AL_.jpg\" width=\"45\" height=\"67\" alt=\"My Name Is Khan\"/>\\n</a>    </td>\\n    <td class=\"titleColumn\">\\n      136.\\n      <a href=\"/title/tt1188996/\"\\ntitle=\"Karan Johar (dir.), Shah Rukh Khan, Kajol\" >My Name Is Khan</a>\\n        <span class=\"secondaryInfo\">(2010)</span>\\n    </td>\\n    <td class=\"ratingColumn imdbRating\">\\n            <strong title=\"7.9 based on 98,345 user ratings\">7.9</strong>\\n    </td>\\n    <td class=\"ratingColumn\">\\n    <div class=\"seen-widget seen-widget-tt1188996 pending\" data-titleid=\"tt1188996\">\\n        <div class=\"boundary\">\\n            <div class=\"popover\">\\n<span class=\"delete\">&nbsp;</span><ol><li>1<li>2<li>3<li>4<li>5<li>6<li>7<li>8<li>9<li>10</ol>            </div>\\n        </div>\\n        <div class=\"inline\">\\n            <div class=\"pending\"></div>\\n            <div class=\"unseeable\">NOT YET RELEASED</div>\\n            <div class=\"unseen\"> </div>\\n            <div class=\"rating\"></div>\\n            <div class=\"seen\">Seen</div>\\n        </div>\\n    </div>\\n    </td>\\n    <td class=\"watchlistColumn\">\\n        <div class=\"wlb_ribbon\" data-tconst=\"tt1188996\" data-recordmetrics=\"true\"></div>\\n    </td>\\n  </tr>\\n\\n  <tr>\\n    <td class=\"posterColumn\">\\n\\n    <span name=\"rk\" data-value=\"137\"></span>\\n    <span name=\"ir\" data-value=\"7.866318926760237\"></span>\\n    <span name=\"us\" data-value=\"1.0698912E12\"></span>\\n    <span name=\"nv\" data-value=\"63297\"></span>\\n    <span name=\"ur\" data-value=\"-3.133681073239763\"></span>\\n<a href=\"/title/tt0347304/\"\\n> <img src=\"https://m.media-amazon.com/images/M/MV5BYmVjNDIxODAtNWZiZi00ZDBlLWJmOTUtNDNjMGExNTViMzE1XkEyXkFqcGdeQXVyNTE0MDc0NTM@._V1_UX45_CR0,0,45,67_AL_.jpg\" width=\"45\" height=\"67\" alt=\"Kal Ho Naa Ho\"/>\\n</a>    </td>\\n    <td class=\"titleColumn\">\\n      137.\\n      <a href=\"/title/tt0347304/\"\\ntitle=\"Nikkhil Advani (dir.), Preity Zinta, Shah Rukh Khan\" >Kal Ho Naa Ho</a>\\n        <span class=\"secondaryInfo\">(2003)</span>\\n    </td>\\n    <td class=\"ratingColumn imdbRating\">\\n            <strong title=\"7.9 based on 63,297 user ratings\">7.9</strong>\\n    </td>\\n    <td class=\"ratingColumn\">\\n    <div class=\"seen-widget seen-widget-tt0347304 pending\" data-titleid=\"tt0347304\">\\n        <div class=\"boundary\">\\n            <div class=\"popover\">\\n<span class=\"delete\">&nbsp;</span><ol><li>1<li>2<li>3<li>4<li>5<li>6<li>7<li>8<li>9<li>10</ol>            </div>\\n        </div>\\n        <div class=\"inline\">\\n            <div class=\"pending\"></div>\\n            <div class=\"unseeable\">NOT YET RELEASED</div>\\n            <div class=\"unseen\"> </div>\\n            <div class=\"rating\"></div>\\n            <div class=\"seen\">Seen</div>\\n        </div>\\n    </div>\\n    </td>\\n    <td class=\"watchlistColumn\">\\n        <div class=\"wlb_ribbon\" data-tconst=\"tt0347304\" data-recordmetrics=\"true\"></div>\\n    </td>\\n  </tr>\\n\\n  <tr>\\n    <td class=\"posterColumn\">\\n\\n    <span name=\"rk\" data-value=\"138\"></span>\\n    <span name=\"ir\" data-value=\"7.866013809704227\"></span>\\n    <span name=\"us\" data-value=\"1.1933568E12\"></span>\\n    <span name=\"nv\" data-value=\"47613\"></span>\\n    <span name=\"ur\" data-value=\"-3.133986190295773\"></span>\\n<a href=\"/title/tt1093370/\"\\n> <img src=\"https://m.media-amazon.com/images/M/MV5BYmIzYmY4MGItM2I4YS00OWZhLWFmMzQtYzI2MWY1MmM3NGU1XkEyXkFqcGdeQXVyNjQ2MjQ5NzM@._V1_UY67_CR0,0,45,67_AL_.jpg\" width=\"45\" height=\"67\" alt=\"Jab We Met\"/>\\n</a>    </td>\\n    <td class=\"titleColumn\">\\n      138.\\n      <a href=\"/title/tt1093370/\"\\ntitle=\"Imtiaz Ali (dir.), Shahid Kapoor, Kareena Kapoor\" >Jab We Met</a>\\n        <span class=\"secondaryInfo\">(2007)</span>\\n    </td>\\n    <td class=\"ratingColumn imdbRating\">\\n            <strong title=\"7.9 based on 47,613 user ratings\">7.9</strong>\\n    </td>\\n    <td class=\"ratingColumn\">\\n    <div class=\"seen-widget seen-widget-tt1093370 pending\" data-titleid=\"tt1093370\">\\n        <div class=\"boundary\">\\n            <div class=\"popover\">\\n<span class=\"delete\">&nbsp;</span><ol><li>1<li>2<li>3<li>4<li>5<li>6<li>7<li>8<li>9<li>10</ol>            </div>\\n        </div>\\n        <div class=\"inline\">\\n            <div class=\"pending\"></div>\\n            <div class=\"unseeable\">NOT YET RELEASED</div>\\n            <div class=\"unseen\"> </div>\\n            <div class=\"rating\"></div>\\n            <div class=\"seen\">Seen</div>\\n        </div>\\n    </div>\\n    </td>\\n    <td class=\"watchlistColumn\">\\n        <div class=\"wlb_ribbon\" data-tconst=\"tt1093370\" data-recordmetrics=\"true\"></div>\\n    </td>\\n  </tr>\\n\\n  <tr>\\n    <td class=\"posterColumn\">\\n\\n    <span name=\"rk\" data-value=\"139\"></span>\\n    <span name=\"ir\" data-value=\"7.851530248717979\"></span>\\n    <span name=\"us\" data-value=\"1.3675392E12\"></span>\\n    <span name=\"nv\" data-value=\"5800\"></span>\\n    <span name=\"ur\" data-value=\"-3.148469751282021\"></span>\\n<a href=\"/title/tt2924472/\"\\n> <img src=\"https://m.media-amazon.com/images/M/MV5BNDU2MzNkMjUtOTE1Ny00NWY5LWFkNTEtNTMxYTAwYTc5NjllXkEyXkFqcGdeQXVyMjkxNzQ1NDI@._V1_UY67_CR1,0,45,67_AL_.jpg\" width=\"45\" height=\"67\" alt=\"Mumbai Police\"/>\\n</a>    </td>\\n    <td class=\"titleColumn\">\\n      139.\\n      <a href=\"/title/tt2924472/\"\\ntitle=\"Roshan Andrews (dir.), Prithviraj Sukumaran, Jayasurya\" >Mumbai Police</a>\\n        <span class=\"secondaryInfo\">(2013)</span>\\n    </td>\\n    <td class=\"ratingColumn imdbRating\">\\n            <strong title=\"7.9 based on 5,800 user ratings\">7.9</strong>\\n    </td>\\n    <td class=\"ratingColumn\">\\n    <div class=\"seen-widget seen-widget-tt2924472 pending\" data-titleid=\"tt2924472\">\\n        <div class=\"boundary\">\\n            <div class=\"popover\">\\n<span class=\"delete\">&nbsp;</span><ol><li>1<li>2<li>3<li>4<li>5<li>6<li>7<li>8<li>9<li>10</ol>            </div>\\n        </div>\\n        <div class=\"inline\">\\n            <div class=\"pending\"></div>\\n            <div class=\"unseeable\">NOT YET RELEASED</div>\\n            <div class=\"unseen\"> </div>\\n            <div class=\"rating\"></div>\\n            <div class=\"seen\">Seen</div>\\n        </div>\\n    </div>\\n    </td>\\n    <td class=\"watchlistColumn\">\\n        <div class=\"wlb_ribbon\" data-tconst=\"tt2924472\" data-recordmetrics=\"true\"></div>\\n    </td>\\n  </tr>\\n\\n  <tr>\\n    <td class=\"posterColumn\">\\n\\n    <span name=\"rk\" data-value=\"140\"></span>\\n    <span name=\"ir\" data-value=\"7.846956575113355\"></span>\\n    <span name=\"us\" data-value=\"1.3760064E12\"></span>\\n    <span name=\"nv\" data-value=\"5961\"></span>\\n    <span name=\"ur\" data-value=\"-3.1530434248866452\"></span>\\n<a href=\"/title/tt3124456/\"\\n> <img src=\"https://m.media-amazon.com/images/M/MV5BY2NlMWYyNjgtNTZmZC00MjkxLTk3NjEtMjc2ZWRhM2MyZjNiXkEyXkFqcGdeQXVyMjkxNzQ1NDI@._V1_UY67_CR2,0,45,67_AL_.jpg\" width=\"45\" height=\"67\" alt=\"Memories\"/>\\n</a>    </td>\\n    <td class=\"titleColumn\">\\n      140.\\n      <a href=\"/title/tt3124456/\"\\ntitle=\"Jeethu Joseph (dir.), Prithviraj Sukumaran, Sreejith Ravi\" >Memories</a>\\n        <span class=\"secondaryInfo\">(2013)</span>\\n    </td>\\n    <td class=\"ratingColumn imdbRating\">\\n            <strong title=\"7.8 based on 5,961 user ratings\">7.8</strong>\\n    </td>\\n    <td class=\"ratingColumn\">\\n    <div class=\"seen-widget seen-widget-tt3124456 pending\" data-titleid=\"tt3124456\">\\n        <div class=\"boundary\">\\n            <div class=\"popover\">\\n<span class=\"delete\">&nbsp;</span><ol><li>1<li>2<li>3<li>4<li>5<li>6<li>7<li>8<li>9<li>10</ol>            </div>\\n        </div>\\n        <div class=\"inline\">\\n            <div class=\"pending\"></div>\\n            <div class=\"unseeable\">NOT YET RELEASED</div>\\n            <div class=\"unseen\"> </div>\\n            <div class=\"rating\"></div>\\n            <div class=\"seen\">Seen</div>\\n        </div>\\n    </div>\\n    </td>\\n    <td class=\"watchlistColumn\">\\n        <div class=\"wlb_ribbon\" data-tconst=\"tt3124456\" data-recordmetrics=\"true\"></div>\\n    </td>\\n  </tr>\\n\\n  <tr>\\n    <td class=\"posterColumn\">\\n\\n    <span name=\"rk\" data-value=\"141\"></span>\\n    <span name=\"ir\" data-value=\"7.843893854441002\"></span>\\n    <span name=\"us\" data-value=\"1.253232E12\"></span>\\n    <span name=\"nv\" data-value=\"5202\"></span>\\n    <span name=\"ur\" data-value=\"-3.156106145558998\"></span>\\n<a href=\"/title/tt1417299/\"\\n> <img src=\"https://m.media-amazon.com/images/M/MV5BMTM0MjI5NDIyOF5BMl5BanBnXkFtZTcwNzc4NTI4Mg@@._V1_UY67_CR2,0,45,67_AL_.jpg\" width=\"45\" height=\"67\" alt=\"Unnaipol Oruvan\"/>\\n</a>    </td>\\n    <td class=\"titleColumn\">\\n      141.\\n      <a href=\"/title/tt1417299/\"\\ntitle=\"Chakri Toleti (dir.), Kamal Haasan, Mohanlal\" >Unnaipol Oruvan</a>\\n        <span class=\"secondaryInfo\">(2009)</span>\\n    </td>\\n    <td class=\"ratingColumn imdbRating\">\\n            <strong title=\"7.8 based on 5,202 user ratings\">7.8</strong>\\n    </td>\\n    <td class=\"ratingColumn\">\\n    <div class=\"seen-widget seen-widget-tt1417299 pending\" data-titleid=\"tt1417299\">\\n        <div class=\"boundary\">\\n            <div class=\"popover\">\\n<span class=\"delete\">&nbsp;</span><ol><li>1<li>2<li>3<li>4<li>5<li>6<li>7<li>8<li>9<li>10</ol>            </div>\\n        </div>\\n        <div class=\"inline\">\\n            <div class=\"pending\"></div>\\n            <div class=\"unseeable\">NOT YET RELEASED</div>\\n            <div class=\"unseen\"> </div>\\n            <div class=\"rating\"></div>\\n            <div class=\"seen\">Seen</div>\\n        </div>\\n    </div>\\n    </td>\\n    <td class=\"watchlistColumn\">\\n        <div class=\"wlb_ribbon\" data-tconst=\"tt1417299\" data-recordmetrics=\"true\"></div>\\n    </td>\\n  </tr>\\n\\n  <tr>\\n    <td class=\"posterColumn\">\\n\\n    <span name=\"rk\" data-value=\"142\"></span>\\n    <span name=\"ir\" data-value=\"7.835691653197804\"></span>\\n    <span name=\"us\" data-value=\"1.5181344E12\"></span>\\n    <span name=\"nv\" data-value=\"21156\"></span>\\n    <span name=\"ur\" data-value=\"-3.164308346802196\"></span>\\n<a href=\"/title/tt7218518/\"\\n> <img src=\"https://m.media-amazon.com/images/M/MV5BODViYjQ0YTktMTM5NS00YTVkLWE5MmUtNGY1MzUwOGY0OTg2XkEyXkFqcGdeQXVyNjg5NzkxNTU@._V1_UY67_CR0,0,45,67_AL_.jpg\" width=\"45\" height=\"67\" alt=\"Padman\"/>\\n</a>    </td>\\n    <td class=\"titleColumn\">\\n      142.\\n      <a href=\"/title/tt7218518/\"\\ntitle=\"R. Balki (dir.), Akshay Kumar, Radhika Apte\" >Padman</a>\\n        <span class=\"secondaryInfo\">(2018)</span>\\n    </td>\\n    <td class=\"ratingColumn imdbRating\">\\n            <strong title=\"7.8 based on 21,156 user ratings\">7.8</strong>\\n    </td>\\n    <td class=\"ratingColumn\">\\n    <div class=\"seen-widget seen-widget-tt7218518 pending\" data-titleid=\"tt7218518\">\\n        <div class=\"boundary\">\\n            <div class=\"popover\">\\n<span class=\"delete\">&nbsp;</span><ol><li>1<li>2<li>3<li>4<li>5<li>6<li>7<li>8<li>9<li>10</ol>            </div>\\n        </div>\\n        <div class=\"inline\">\\n            <div class=\"pending\"></div>\\n            <div class=\"unseeable\">NOT YET RELEASED</div>\\n            <div class=\"unseen\"> </div>\\n            <div class=\"rating\"></div>\\n            <div class=\"seen\">Seen</div>\\n        </div>\\n    </div>\\n    </td>\\n    <td class=\"watchlistColumn\">\\n        <div class=\"wlb_ribbon\" data-tconst=\"tt7218518\" data-recordmetrics=\"true\"></div>\\n    </td>\\n  </tr>\\n\\n  <tr>\\n    <td class=\"posterColumn\">\\n\\n    <span name=\"rk\" data-value=\"143\"></span>\\n    <span name=\"ir\" data-value=\"7.8323368692358795\"></span>\\n    <span name=\"us\" data-value=\"8.6616E11\"></span>\\n    <span name=\"nv\" data-value=\"13873\"></span>\\n    <span name=\"ur\" data-value=\"-3.1676631307641205\"></span>\\n<a href=\"/title/tt0118751/\"\\n> <img src=\"https://m.media-amazon.com/images/M/MV5BNWYwYmExOWQtYzNkOS00NWY5LWE4NTEtYTcwY2FiYmQ0OTg5XkEyXkFqcGdeQXVyODE5NzE3OTE@._V1_UY67_CR3,0,45,67_AL_.jpg\" width=\"45\" height=\"67\" alt=\"Border\"/>\\n</a>    </td>\\n    <td class=\"titleColumn\">\\n      143.\\n      <a href=\"/title/tt0118751/\"\\ntitle=\"J.P. Dutta (dir.), Sunny Deol, Sunil Shetty\" >Border</a>\\n        <span class=\"secondaryInfo\">(1997)</span>\\n    </td>\\n    <td class=\"ratingColumn imdbRating\">\\n            <strong title=\"7.8 based on 13,873 user ratings\">7.8</strong>\\n    </td>\\n    <td class=\"ratingColumn\">\\n    <div class=\"seen-widget seen-widget-tt0118751 pending\" data-titleid=\"tt0118751\">\\n        <div class=\"boundary\">\\n            <div class=\"popover\">\\n<span class=\"delete\">&nbsp;</span><ol><li>1<li>2<li>3<li>4<li>5<li>6<li>7<li>8<li>9<li>10</ol>            </div>\\n        </div>\\n        <div class=\"inline\">\\n            <div class=\"pending\"></div>\\n            <div class=\"unseeable\">NOT YET RELEASED</div>\\n            <div class=\"unseen\"> </div>\\n            <div class=\"rating\"></div>\\n            <div class=\"seen\">Seen</div>\\n        </div>\\n    </div>\\n    </td>\\n    <td class=\"watchlistColumn\">\\n        <div class=\"wlb_ribbon\" data-tconst=\"tt0118751\" data-recordmetrics=\"true\"></div>\\n    </td>\\n  </tr>\\n\\n  <tr>\\n    <td class=\"posterColumn\">\\n\\n    <span name=\"rk\" data-value=\"144\"></span>\\n    <span name=\"ir\" data-value=\"7.829290453858823\"></span>\\n    <span name=\"us\" data-value=\"1.4364E12\"></span>\\n    <span name=\"nv\" data-value=\"102672\"></span>\\n    <span name=\"ur\" data-value=\"-3.170709546141177\"></span>\\n<a href=\"/title/tt2631186/\"\\n> <img src=\"https://m.media-amazon.com/images/M/MV5BYWVlMjVhZWYtNWViNC00ODFkLTk1MmItYjU1MDY5ZDdhMTU3XkEyXkFqcGdeQXVyODIwMDI1NjM@._V1_UY67_CR0,0,45,67_AL_.jpg\" width=\"45\" height=\"67\" alt=\"B\\xc3\\xa3hubali: The Beginning\"/>\\n</a>    </td>\\n    <td class=\"titleColumn\">\\n      144.\\n      <a href=\"/title/tt2631186/\"\\ntitle=\"S.S. Rajamouli (dir.), Prabhas, Rana Daggubati\" >B\\xc3\\xa3hubali: The Beginning</a>\\n        <span class=\"secondaryInfo\">(2015)</span>\\n    </td>\\n    <td class=\"ratingColumn imdbRating\">\\n            <strong title=\"7.8 based on 102,672 user ratings\">7.8</strong>\\n    </td>\\n    <td class=\"ratingColumn\">\\n    <div class=\"seen-widget seen-widget-tt2631186 pending\" data-titleid=\"tt2631186\">\\n        <div class=\"boundary\">\\n            <div class=\"popover\">\\n<span class=\"delete\">&nbsp;</span><ol><li>1<li>2<li>3<li>4<li>5<li>6<li>7<li>8<li>9<li>10</ol>            </div>\\n        </div>\\n        <div class=\"inline\">\\n            <div class=\"pending\"></div>\\n            <div class=\"unseeable\">NOT YET RELEASED</div>\\n            <div class=\"unseen\"> </div>\\n            <div class=\"rating\"></div>\\n            <div class=\"seen\">Seen</div>\\n        </div>\\n    </div>\\n    </td>\\n    <td class=\"watchlistColumn\">\\n        <div class=\"wlb_ribbon\" data-tconst=\"tt2631186\" data-recordmetrics=\"true\"></div>\\n    </td>\\n  </tr>\\n\\n  <tr>\\n    <td class=\"posterColumn\">\\n\\n    <span name=\"rk\" data-value=\"145\"></span>\\n    <span name=\"ir\" data-value=\"7.827930611006137\"></span>\\n    <span name=\"us\" data-value=\"1.0875168E12\"></span>\\n    <span name=\"nv\" data-value=\"20669\"></span>\\n    <span name=\"ur\" data-value=\"-3.1720693889938634\"></span>\\n<a href=\"/title/tt0323013/\"\\n> <img src=\"https://m.media-amazon.com/images/M/MV5BY2Y0NjY5ZTctZWMzNC00MDQ4LTkyMWUtOGZkMzk4NWNhYWI5XkEyXkFqcGdeQXVyODE5NzE3OTE@._V1_UY67_CR0,0,45,67_AL_.jpg\" width=\"45\" height=\"67\" alt=\"Lakshya\"/>\\n</a>    </td>\\n    <td class=\"titleColumn\">\\n      145.\\n      <a href=\"/title/tt0323013/\"\\ntitle=\"Farhan Akhtar (dir.), Hrithik Roshan, Preity Zinta\" >Lakshya</a>\\n        <span class=\"secondaryInfo\">(2004)</span>\\n    </td>\\n    <td class=\"ratingColumn imdbRating\">\\n            <strong title=\"7.8 based on 20,669 user ratings\">7.8</strong>\\n    </td>\\n    <td class=\"ratingColumn\">\\n    <div class=\"seen-widget seen-widget-tt0323013 pending\" data-titleid=\"tt0323013\">\\n        <div class=\"boundary\">\\n            <div class=\"popover\">\\n<span class=\"delete\">&nbsp;</span><ol><li>1<li>2<li>3<li>4<li>5<li>6<li>7<li>8<li>9<li>10</ol>            </div>\\n        </div>\\n        <div class=\"inline\">\\n            <div class=\"pending\"></div>\\n            <div class=\"unseeable\">NOT YET RELEASED</div>\\n            <div class=\"unseen\"> </div>\\n            <div class=\"rating\"></div>\\n            <div class=\"seen\">Seen</div>\\n        </div>\\n    </div>\\n    </td>\\n    <td class=\"watchlistColumn\">\\n        <div class=\"wlb_ribbon\" data-tconst=\"tt0323013\" data-recordmetrics=\"true\"></div>\\n    </td>\\n  </tr>\\n\\n  <tr>\\n    <td class=\"posterColumn\">\\n\\n    <span name=\"rk\" data-value=\"146\"></span>\\n    <span name=\"ir\" data-value=\"7.824345426808008\"></span>\\n    <span name=\"us\" data-value=\"1.1588832E12\"></span>\\n    <span name=\"nv\" data-value=\"5678\"></span>\\n    <span name=\"ur\" data-value=\"-3.1756545731919923\"></span>\\n<a href=\"/title/tt0824316/\"\\n> <img src=\"https://m.media-amazon.com/images/M/MV5BYTk3NTVhNjktYTg0OC00ODk1LWE4MjUtMDhkNTY3MTMyMTc0XkEyXkFqcGdeQXVyODE5NzE3OTE@._V1_UY67_CR0,0,45,67_AL_.jpg\" width=\"45\" height=\"67\" alt=\"Dor\"/>\\n</a>    </td>\\n    <td class=\"titleColumn\">\\n      146.\\n      <a href=\"/title/tt0824316/\"\\ntitle=\"Nagesh Kukunoor (dir.), Ayesha Takia, Shreyas Talpade\" >Dor</a>\\n        <span class=\"secondaryInfo\">(2006)</span>\\n    </td>\\n    <td class=\"ratingColumn imdbRating\">\\n            <strong title=\"7.8 based on 5,678 user ratings\">7.8</strong>\\n    </td>\\n    <td class=\"ratingColumn\">\\n    <div class=\"seen-widget seen-widget-tt0824316 pending\" data-titleid=\"tt0824316\">\\n        <div class=\"boundary\">\\n            <div class=\"popover\">\\n<span class=\"delete\">&nbsp;</span><ol><li>1<li>2<li>3<li>4<li>5<li>6<li>7<li>8<li>9<li>10</ol>            </div>\\n        </div>\\n        <div class=\"inline\">\\n            <div class=\"pending\"></div>\\n            <div class=\"unseeable\">NOT YET RELEASED</div>\\n            <div class=\"unseen\"> </div>\\n            <div class=\"rating\"></div>\\n            <div class=\"seen\">Seen</div>\\n        </div>\\n    </div>\\n    </td>\\n    <td class=\"watchlistColumn\">\\n        <div class=\"wlb_ribbon\" data-tconst=\"tt0824316\" data-recordmetrics=\"true\"></div>\\n    </td>\\n  </tr>\\n\\n  <tr>\\n    <td class=\"posterColumn\">\\n\\n    <span name=\"rk\" data-value=\"147\"></span>\\n    <span name=\"ir\" data-value=\"7.822756573280919\"></span>\\n    <span name=\"us\" data-value=\"1.5628896E12\"></span>\\n    <span name=\"nv\" data-value=\"20812\"></span>\\n    <span name=\"ur\" data-value=\"-3.177243426719081\"></span>\\n<a href=\"/title/tt7485048/\"\\n> <img src=\"https://m.media-amazon.com/images/M/MV5BMWQzM2Y0ZDQtYjA1MS00YmUzLWFiMGQtZTliZWM1MWRiNDZhXkEyXkFqcGdeQXVyNTE2MzU4OTA@._V1_UY67_CR11,0,45,67_AL_.jpg\" width=\"45\" height=\"67\" alt=\"Super 30\"/>\\n</a>    </td>\\n    <td class=\"titleColumn\">\\n      147.\\n      <a href=\"/title/tt7485048/\"\\ntitle=\"Vikas Bahl (dir.), Hrithik Roshan, Mrunal Thakur\" >Super 30</a>\\n        <span class=\"secondaryInfo\">(2019)</span>\\n    </td>\\n    <td class=\"ratingColumn imdbRating\">\\n            <strong title=\"7.8 based on 20,812 user ratings\">7.8</strong>\\n    </td>\\n    <td class=\"ratingColumn\">\\n    <div class=\"seen-widget seen-widget-tt7485048 pending\" data-titleid=\"tt7485048\">\\n        <div class=\"boundary\">\\n            <div class=\"popover\">\\n<span class=\"delete\">&nbsp;</span><ol><li>1<li>2<li>3<li>4<li>5<li>6<li>7<li>8<li>9<li>10</ol>            </div>\\n        </div>\\n        <div class=\"inline\">\\n            <div class=\"pending\"></div>\\n            <div class=\"unseeable\">NOT YET RELEASED</div>\\n            <div class=\"unseen\"> </div>\\n            <div class=\"rating\"></div>\\n            <div class=\"seen\">Seen</div>\\n        </div>\\n    </div>\\n    </td>\\n    <td class=\"watchlistColumn\">\\n        <div class=\"wlb_ribbon\" data-tconst=\"tt7485048\" data-recordmetrics=\"true\"></div>\\n    </td>\\n  </tr>\\n\\n  <tr>\\n    <td class=\"posterColumn\">\\n\\n    <span name=\"rk\" data-value=\"148\"></span>\\n    <span name=\"ir\" data-value=\"7.816925114886933\"></span>\\n    <span name=\"us\" data-value=\"1.4534208E12\"></span>\\n    <span name=\"nv\" data-value=\"52810\"></span>\\n    <span name=\"ur\" data-value=\"-3.183074885113067\"></span>\\n<a href=\"/title/tt4387040/\"\\n> <img src=\"https://m.media-amazon.com/images/M/MV5BMGE1ZTkyOTMtMTdiZS00YzI2LTlmYWQtOTE5YWY0NWVlNjlmXkEyXkFqcGdeQXVyNjQ3ODkxMjE@._V1_UY67_CR0,0,45,67_AL_.jpg\" width=\"45\" height=\"67\" alt=\"Airlift\"/>\\n</a>    </td>\\n    <td class=\"titleColumn\">\\n      148.\\n      <a href=\"/title/tt4387040/\"\\ntitle=\"Raja Menon (dir.), Akshay Kumar, Nimrat Kaur\" >Airlift</a>\\n        <span class=\"secondaryInfo\">(2016)</span>\\n    </td>\\n    <td class=\"ratingColumn imdbRating\">\\n            <strong title=\"7.8 based on 52,810 user ratings\">7.8</strong>\\n    </td>\\n    <td class=\"ratingColumn\">\\n    <div class=\"seen-widget seen-widget-tt4387040 pending\" data-titleid=\"tt4387040\">\\n        <div class=\"boundary\">\\n            <div class=\"popover\">\\n<span class=\"delete\">&nbsp;</span><ol><li>1<li>2<li>3<li>4<li>5<li>6<li>7<li>8<li>9<li>10</ol>            </div>\\n        </div>\\n        <div class=\"inline\">\\n            <div class=\"pending\"></div>\\n            <div class=\"unseeable\">NOT YET RELEASED</div>\\n            <div class=\"unseen\"> </div>\\n            <div class=\"rating\"></div>\\n            <div class=\"seen\">Seen</div>\\n        </div>\\n    </div>\\n    </td>\\n    <td class=\"watchlistColumn\">\\n        <div class=\"wlb_ribbon\" data-tconst=\"tt4387040\" data-recordmetrics=\"true\"></div>\\n    </td>\\n  </tr>\\n\\n  <tr>\\n    <td class=\"posterColumn\">\\n\\n    <span name=\"rk\" data-value=\"149\"></span>\\n    <span name=\"ir\" data-value=\"7.812828851803962\"></span>\\n    <span name=\"us\" data-value=\"1.156464E12\"></span>\\n    <span name=\"nv\" data-value=\"6687\"></span>\\n    <span name=\"ur\" data-value=\"-3.187171148196038\"></span>\\n<a href=\"/title/tt0455829/\"\\n> <img src=\"https://m.media-amazon.com/images/M/MV5BOWY1Nzc4NDItN2ZjMC00NDY3LTkyMjctZDk5N2ZkYTQ2OGMxXkEyXkFqcGdeQXVyODEzOTQwNTY@._V1_UY67_CR4,0,45,67_AL_.jpg\" width=\"45\" height=\"67\" alt=\"Vettaiyaadu Vilaiyaadu\"/>\\n</a>    </td>\\n    <td class=\"titleColumn\">\\n      149.\\n      <a href=\"/title/tt0455829/\"\\ntitle=\"Gautham Vasudev Menon (dir.), Kamal Haasan, Jyotika\" >Vettaiyaadu Vilaiyaadu</a>\\n        <span class=\"secondaryInfo\">(2006)</span>\\n    </td>\\n    <td class=\"ratingColumn imdbRating\">\\n            <strong title=\"7.8 based on 6,687 user ratings\">7.8</strong>\\n    </td>\\n    <td class=\"ratingColumn\">\\n    <div class=\"seen-widget seen-widget-tt0455829 pending\" data-titleid=\"tt0455829\">\\n        <div class=\"boundary\">\\n            <div class=\"popover\">\\n<span class=\"delete\">&nbsp;</span><ol><li>1<li>2<li>3<li>4<li>5<li>6<li>7<li>8<li>9<li>10</ol>            </div>\\n        </div>\\n        <div class=\"inline\">\\n            <div class=\"pending\"></div>\\n            <div class=\"unseeable\">NOT YET RELEASED</div>\\n            <div class=\"unseen\"> </div>\\n            <div class=\"rating\"></div>\\n            <div class=\"seen\">Seen</div>\\n        </div>\\n    </div>\\n    </td>\\n    <td class=\"watchlistColumn\">\\n        <div class=\"wlb_ribbon\" data-tconst=\"tt0455829\" data-recordmetrics=\"true\"></div>\\n    </td>\\n  </tr>\\n\\n  <tr>\\n    <td class=\"posterColumn\">\\n\\n    <span name=\"rk\" data-value=\"150\"></span>\\n    <span name=\"ir\" data-value=\"7.812108915395614\"></span>\\n    <span name=\"us\" data-value=\"1.4219712E12\"></span>\\n    <span name=\"nv\" data-value=\"52753\"></span>\\n    <span name=\"ur\" data-value=\"-3.187891084604386\"></span>\\n<a href=\"/title/tt3848892/\"\\n> <img src=\"https://m.media-amazon.com/images/M/MV5BYTdhNjBjZDctYTlkYy00ZGIxLWFjYTktODk5ZjNlMzI4NjI3XkEyXkFqcGdeQXVyMjY1MjkzMjE@._V1_UY67_CR0,0,45,67_AL_.jpg\" width=\"45\" height=\"67\" alt=\"Baby\"/>\\n</a>    </td>\\n    <td class=\"titleColumn\">\\n      150.\\n      <a href=\"/title/tt3848892/\"\\ntitle=\"Neeraj Pandey (dir.), Akshay Kumar, Danny Denzongpa\" >Baby</a>\\n        <span class=\"secondaryInfo\">(2015)</span>\\n    </td>\\n    <td class=\"ratingColumn imdbRating\">\\n            <strong title=\"7.8 based on 52,753 user ratings\">7.8</strong>\\n    </td>\\n    <td class=\"ratingColumn\">\\n    <div class=\"seen-widget seen-widget-tt3848892 pending\" data-titleid=\"tt3848892\">\\n        <div class=\"boundary\">\\n            <div class=\"popover\">\\n<span class=\"delete\">&nbsp;</span><ol><li>1<li>2<li>3<li>4<li>5<li>6<li>7<li>8<li>9<li>10</ol>            </div>\\n        </div>\\n        <div class=\"inline\">\\n            <div class=\"pending\"></div>\\n            <div class=\"unseeable\">NOT YET RELEASED</div>\\n            <div class=\"unseen\"> </div>\\n            <div class=\"rating\"></div>\\n            <div class=\"seen\">Seen</div>\\n        </div>\\n    </div>\\n    </td>\\n    <td class=\"watchlistColumn\">\\n        <div class=\"wlb_ribbon\" data-tconst=\"tt3848892\" data-recordmetrics=\"true\"></div>\\n    </td>\\n  </tr>\\n\\n  <tr>\\n    <td class=\"posterColumn\">\\n\\n    <span name=\"rk\" data-value=\"151\"></span>\\n    <span name=\"ir\" data-value=\"7.807681217430771\"></span>\\n    <span name=\"us\" data-value=\"9.50832E11\"></span>\\n    <span name=\"nv\" data-value=\"11461\"></span>\\n    <span name=\"ur\" data-value=\"-3.192318782569229\"></span>\\n<a href=\"/title/tt0222012/\"\\n> <img src=\"https://m.media-amazon.com/images/M/MV5BNTZjNGMzODItNTNkNi00MDE1LWI3Y2UtNTQ3ZTdmMjRlZjkzXkEyXkFqcGdeQXVyODEzOTQwNTY@._V1_UX45_CR0,0,45,67_AL_.jpg\" width=\"45\" height=\"67\" alt=\"Hey Ram\"/>\\n</a>    </td>\\n    <td class=\"titleColumn\">\\n      151.\\n      <a href=\"/title/tt0222012/\"\\ntitle=\"Kamal Haasan (dir.), Kamal Haasan, Shah Rukh Khan\" >Hey Ram</a>\\n        <span class=\"secondaryInfo\">(2000)</span>\\n    </td>\\n    <td class=\"ratingColumn imdbRating\">\\n            <strong title=\"7.8 based on 11,461 user ratings\">7.8</strong>\\n    </td>\\n    <td class=\"ratingColumn\">\\n    <div class=\"seen-widget seen-widget-tt0222012 pending\" data-titleid=\"tt0222012\">\\n        <div class=\"boundary\">\\n            <div class=\"popover\">\\n<span class=\"delete\">&nbsp;</span><ol><li>1<li>2<li>3<li>4<li>5<li>6<li>7<li>8<li>9<li>10</ol>            </div>\\n        </div>\\n        <div class=\"inline\">\\n            <div class=\"pending\"></div>\\n            <div class=\"unseeable\">NOT YET RELEASED</div>\\n            <div class=\"unseen\"> </div>\\n            <div class=\"rating\"></div>\\n            <div class=\"seen\">Seen</div>\\n        </div>\\n    </div>\\n    </td>\\n    <td class=\"watchlistColumn\">\\n        <div class=\"wlb_ribbon\" data-tconst=\"tt0222012\" data-recordmetrics=\"true\"></div>\\n    </td>\\n  </tr>\\n\\n  <tr>\\n    <td class=\"posterColumn\">\\n\\n    <span name=\"rk\" data-value=\"152\"></span>\\n    <span name=\"ir\" data-value=\"7.801391911433924\"></span>\\n    <span name=\"us\" data-value=\"1.4509152E12\"></span>\\n    <span name=\"nv\" data-value=\"7836\"></span>\\n    <span name=\"ur\" data-value=\"-3.1986080885660764\"></span>\\n<a href=\"/title/tt5082014/\"\\n> <img src=\"https://m.media-amazon.com/images/M/MV5BMmZhMzVlNzEtMjQ3ZS00ZGJlLTk4N2YtMDIyNDNmZThhMGVmXkEyXkFqcGdeQXVyMzIyNDI4NjU@._V1_UY67_CR0,0,45,67_AL_.jpg\" width=\"45\" height=\"67\" alt=\"Charlie\"/>\\n</a>    </td>\\n    <td class=\"titleColumn\">\\n      152.\\n      <a href=\"/title/tt5082014/\"\\ntitle=\"Martin Prakkat (dir.), Dulquer Salmaan, Parvathy Thiruvothu\" >Charlie</a>\\n        <span class=\"secondaryInfo\">(2015)</span>\\n    </td>\\n    <td class=\"ratingColumn imdbRating\">\\n            <strong title=\"7.8 based on 7,836 user ratings\">7.8</strong>\\n    </td>\\n    <td class=\"ratingColumn\">\\n    <div class=\"seen-widget seen-widget-tt5082014 pending\" data-titleid=\"tt5082014\">\\n        <div class=\"boundary\">\\n            <div class=\"popover\">\\n<span class=\"delete\">&nbsp;</span><ol><li>1<li>2<li>3<li>4<li>5<li>6<li>7<li>8<li>9<li>10</ol>            </div>\\n        </div>\\n        <div class=\"inline\">\\n            <div class=\"pending\"></div>\\n            <div class=\"unseeable\">NOT YET RELEASED</div>\\n            <div class=\"unseen\"> </div>\\n            <div class=\"rating\"></div>\\n            <div class=\"seen\">Seen</div>\\n        </div>\\n    </div>\\n    </td>\\n    <td class=\"watchlistColumn\">\\n        <div class=\"wlb_ribbon\" data-tconst=\"tt5082014\" data-recordmetrics=\"true\"></div>\\n    </td>\\n  </tr>\\n\\n  <tr>\\n    <td class=\"posterColumn\">\\n\\n    <span name=\"rk\" data-value=\"153\"></span>\\n    <span name=\"ir\" data-value=\"7.800939868203532\"></span>\\n    <span name=\"us\" data-value=\"1.3475808E12\"></span>\\n    <span name=\"nv\" data-value=\"33523\"></span>\\n    <span name=\"ur\" data-value=\"-3.199060131796468\"></span>\\n<a href=\"/title/tt2181931/\"\\n> <img src=\"https://m.media-amazon.com/images/M/MV5BMjQ5YWVmYmYtOWFiZC00NGMxLWEwODctZDM2MWI4YWViN2E5XkEyXkFqcGdeQXVyNjQ2MjQ5NzM@._V1_UY67_CR1,0,45,67_AL_.jpg\" width=\"45\" height=\"67\" alt=\"English Vinglish\"/>\\n</a>    </td>\\n    <td class=\"titleColumn\">\\n      153.\\n      <a href=\"/title/tt2181931/\"\\ntitle=\"Gauri Shinde (dir.), Sridevi, Adil Hussain\" >English Vinglish</a>\\n        <span class=\"secondaryInfo\">(2012)</span>\\n    </td>\\n    <td class=\"ratingColumn imdbRating\">\\n            <strong title=\"7.8 based on 33,523 user ratings\">7.8</strong>\\n    </td>\\n    <td class=\"ratingColumn\">\\n    <div class=\"seen-widget seen-widget-tt2181931 pending\" data-titleid=\"tt2181931\">\\n        <div class=\"boundary\">\\n            <div class=\"popover\">\\n<span class=\"delete\">&nbsp;</span><ol><li>1<li>2<li>3<li>4<li>5<li>6<li>7<li>8<li>9<li>10</ol>            </div>\\n        </div>\\n        <div class=\"inline\">\\n            <div class=\"pending\"></div>\\n            <div class=\"unseeable\">NOT YET RELEASED</div>\\n            <div class=\"unseen\"> </div>\\n            <div class=\"rating\"></div>\\n            <div class=\"seen\">Seen</div>\\n        </div>\\n    </div>\\n    </td>\\n    <td class=\"watchlistColumn\">\\n        <div class=\"wlb_ribbon\" data-tconst=\"tt2181931\" data-recordmetrics=\"true\"></div>\\n    </td>\\n  </tr>\\n\\n  <tr>\\n    <td class=\"posterColumn\">\\n\\n    <span name=\"rk\" data-value=\"154\"></span>\\n    <span name=\"ir\" data-value=\"7.796032238225011\"></span>\\n    <span name=\"us\" data-value=\"1.0621152E12\"></span>\\n    <span name=\"nv\" data-value=\"15680\"></span>\\n    <span name=\"ur\" data-value=\"-3.2039677617749893\"></span>\\n<a href=\"/title/tt0373856/\"\\n> <img src=\"https://m.media-amazon.com/images/M/MV5BYjRjOWViZTgtYjA4Ny00MWJiLTkxYzktMzdlOGRmMWYwOTdjXkEyXkFqcGdeQXVyNDUzOTQ5MjY@._V1_UY67_CR2,0,45,67_AL_.jpg\" width=\"45\" height=\"67\" alt=\"Gangaajal\"/>\\n</a>    </td>\\n    <td class=\"titleColumn\">\\n      154.\\n      <a href=\"/title/tt0373856/\"\\ntitle=\"Prakash Jha (dir.), Ajay Devgn, Gracy Singh\" >Gangaajal</a>\\n        <span class=\"secondaryInfo\">(2003)</span>\\n    </td>\\n    <td class=\"ratingColumn imdbRating\">\\n            <strong title=\"7.8 based on 15,680 user ratings\">7.8</strong>\\n    </td>\\n    <td class=\"ratingColumn\">\\n    <div class=\"seen-widget seen-widget-tt0373856 pending\" data-titleid=\"tt0373856\">\\n        <div class=\"boundary\">\\n            <div class=\"popover\">\\n<span class=\"delete\">&nbsp;</span><ol><li>1<li>2<li>3<li>4<li>5<li>6<li>7<li>8<li>9<li>10</ol>            </div>\\n        </div>\\n        <div class=\"inline\">\\n            <div class=\"pending\"></div>\\n            <div class=\"unseeable\">NOT YET RELEASED</div>\\n            <div class=\"unseen\"> </div>\\n            <div class=\"rating\"></div>\\n            <div class=\"seen\">Seen</div>\\n        </div>\\n    </div>\\n    </td>\\n    <td class=\"watchlistColumn\">\\n        <div class=\"wlb_ribbon\" data-tconst=\"tt0373856\" data-recordmetrics=\"true\"></div>\\n    </td>\\n  </tr>\\n\\n  <tr>\\n    <td class=\"posterColumn\">\\n\\n    <span name=\"rk\" data-value=\"155\"></span>\\n    <span name=\"ir\" data-value=\"7.791505340583806\"></span>\\n    <span name=\"us\" data-value=\"1.0425888E12\"></span>\\n    <span name=\"nv\" data-value=\"8476\"></span>\\n    <span name=\"ur\" data-value=\"-3.2084946594161936\"></span>\\n<a href=\"/title/tt0366840/\"\\n> <img src=\"https://m.media-amazon.com/images/M/MV5BZmJiZTIwYzktZDQyMi00OWYzLTliZDEtOTAzYmNjNjZjNTllXkEyXkFqcGdeQXVyMjMyNjkwMTY@._V1_UY67_CR1,0,45,67_AL_.jpg\" width=\"45\" height=\"67\" alt=\"Okkadu\"/>\\n</a>    </td>\\n    <td class=\"titleColumn\">\\n      155.\\n      <a href=\"/title/tt0366840/\"\\ntitle=\"Gunasekhar (dir.), Mahesh Babu, Bhoomika Chawla\" >Okkadu</a>\\n        <span class=\"secondaryInfo\">(2003)</span>\\n    </td>\\n    <td class=\"ratingColumn imdbRating\">\\n            <strong title=\"7.8 based on 8,476 user ratings\">7.8</strong>\\n    </td>\\n    <td class=\"ratingColumn\">\\n    <div class=\"seen-widget seen-widget-tt0366840 pending\" data-titleid=\"tt0366840\">\\n        <div class=\"boundary\">\\n            <div class=\"popover\">\\n<span class=\"delete\">&nbsp;</span><ol><li>1<li>2<li>3<li>4<li>5<li>6<li>7<li>8<li>9<li>10</ol>            </div>\\n        </div>\\n        <div class=\"inline\">\\n            <div class=\"pending\"></div>\\n            <div class=\"unseeable\">NOT YET RELEASED</div>\\n            <div class=\"unseen\"> </div>\\n            <div class=\"rating\"></div>\\n            <div class=\"seen\">Seen</div>\\n        </div>\\n    </div>\\n    </td>\\n    <td class=\"watchlistColumn\">\\n        <div class=\"wlb_ribbon\" data-tconst=\"tt0366840\" data-recordmetrics=\"true\"></div>\\n    </td>\\n  </tr>\\n\\n  <tr>\\n    <td class=\"posterColumn\">\\n\\n    <span name=\"rk\" data-value=\"156\"></span>\\n    <span name=\"ir\" data-value=\"7.783108226025138\"></span>\\n    <span name=\"us\" data-value=\"1.3689216E12\"></span>\\n    <span name=\"nv\" data-value=\"50379\"></span>\\n    <span name=\"ur\" data-value=\"-3.2168917739748624\"></span>\\n<a href=\"/title/tt2350496/\"\\n> <img src=\"https://m.media-amazon.com/images/M/MV5BMTUwMzc1NjIzMV5BMl5BanBnXkFtZTgwODUyMTIxMTE@._V1_UY67_CR0,0,45,67_AL_.jpg\" width=\"45\" height=\"67\" alt=\"The Lunchbox\"/>\\n</a>    </td>\\n    <td class=\"titleColumn\">\\n      156.\\n      <a href=\"/title/tt2350496/\"\\ntitle=\"Ritesh Batra (dir.), Irrfan Khan, Nimrat Kaur\" >The Lunchbox</a>\\n        <span class=\"secondaryInfo\">(2013)</span>\\n    </td>\\n    <td class=\"ratingColumn imdbRating\">\\n            <strong title=\"7.8 based on 50,379 user ratings\">7.8</strong>\\n    </td>\\n    <td class=\"ratingColumn\">\\n    <div class=\"seen-widget seen-widget-tt2350496 pending\" data-titleid=\"tt2350496\">\\n        <div class=\"boundary\">\\n            <div class=\"popover\">\\n<span class=\"delete\">&nbsp;</span><ol><li>1<li>2<li>3<li>4<li>5<li>6<li>7<li>8<li>9<li>10</ol>            </div>\\n        </div>\\n        <div class=\"inline\">\\n            <div class=\"pending\"></div>\\n            <div class=\"unseeable\">NOT YET RELEASED</div>\\n            <div class=\"unseen\"> </div>\\n            <div class=\"rating\"></div>\\n            <div class=\"seen\">Seen</div>\\n        </div>\\n    </div>\\n    </td>\\n    <td class=\"watchlistColumn\">\\n        <div class=\"wlb_ribbon\" data-tconst=\"tt2350496\" data-recordmetrics=\"true\"></div>\\n    </td>\\n  </tr>\\n\\n  <tr>\\n    <td class=\"posterColumn\">\\n\\n    <span name=\"rk\" data-value=\"157\"></span>\\n    <span name=\"ir\" data-value=\"7.782581229721234\"></span>\\n    <span name=\"us\" data-value=\"1.07784E12\"></span>\\n    <span name=\"nv\" data-value=\"8171\"></span>\\n    <span name=\"ur\" data-value=\"-3.2174187702787664\"></span>\\n<a href=\"/title/tt0402014/\"\\n> <img src=\"https://m.media-amazon.com/images/M/MV5BMzNkYzEyMDItNWI1OS00YjYxLTljNDUtYzZkYWFhMzdjNjg1XkEyXkFqcGdeQXVyNDUzOTQ5MjY@._V1_UY67_CR1,0,45,67_AL_.jpg\" width=\"45\" height=\"67\" alt=\"Ab Tak Chhappan\"/>\\n</a>    </td>\\n    <td class=\"titleColumn\">\\n      157.\\n      <a href=\"/title/tt0402014/\"\\ntitle=\"Shimit Amin (dir.), Nana Patekar, Revathi\" >Ab Tak Chhappan</a>\\n        <span class=\"secondaryInfo\">(2004)</span>\\n    </td>\\n    <td class=\"ratingColumn imdbRating\">\\n            <strong title=\"7.8 based on 8,171 user ratings\">7.8</strong>\\n    </td>\\n    <td class=\"ratingColumn\">\\n    <div class=\"seen-widget seen-widget-tt0402014 pending\" data-titleid=\"tt0402014\">\\n        <div class=\"boundary\">\\n            <div class=\"popover\">\\n<span class=\"delete\">&nbsp;</span><ol><li>1<li>2<li>3<li>4<li>5<li>6<li>7<li>8<li>9<li>10</ol>            </div>\\n        </div>\\n        <div class=\"inline\">\\n            <div class=\"pending\"></div>\\n            <div class=\"unseeable\">NOT YET RELEASED</div>\\n            <div class=\"unseen\"> </div>\\n            <div class=\"rating\"></div>\\n            <div class=\"seen\">Seen</div>\\n        </div>\\n    </div>\\n    </td>\\n    <td class=\"watchlistColumn\">\\n        <div class=\"wlb_ribbon\" data-tconst=\"tt0402014\" data-recordmetrics=\"true\"></div>\\n    </td>\\n  </tr>\\n\\n  <tr>\\n    <td class=\"posterColumn\">\\n\\n    <span name=\"rk\" data-value=\"158\"></span>\\n    <span name=\"ir\" data-value=\"7.781652499406726\"></span>\\n    <span name=\"us\" data-value=\"1.4950656E12\"></span>\\n    <span name=\"nv\" data-value=\"23277\"></span>\\n    <span name=\"ur\" data-value=\"-3.218347500593274\"></span>\\n<a href=\"/title/tt5764096/\"\\n> <img src=\"https://m.media-amazon.com/images/M/MV5BY2E4NWQ4ZjEtNThlOC00NThjLThmZjgtMWU0MDgzMmYwOGU3XkEyXkFqcGdeQXVyODE5NzE3OTE@._V1_UY67_CR0,0,45,67_AL_.jpg\" width=\"45\" height=\"67\" alt=\"Hindi Medium\"/>\\n</a>    </td>\\n    <td class=\"titleColumn\">\\n      158.\\n      <a href=\"/title/tt5764096/\"\\ntitle=\"Saket Chaudhary (dir.), Irrfan Khan, Saba Qamar\" >Hindi Medium</a>\\n        <span class=\"secondaryInfo\">(2017)</span>\\n    </td>\\n    <td class=\"ratingColumn imdbRating\">\\n            <strong title=\"7.8 based on 23,277 user ratings\">7.8</strong>\\n    </td>\\n    <td class=\"ratingColumn\">\\n    <div class=\"seen-widget seen-widget-tt5764096 pending\" data-titleid=\"tt5764096\">\\n        <div class=\"boundary\">\\n            <div class=\"popover\">\\n<span class=\"delete\">&nbsp;</span><ol><li>1<li>2<li>3<li>4<li>5<li>6<li>7<li>8<li>9<li>10</ol>            </div>\\n        </div>\\n        <div class=\"inline\">\\n            <div class=\"pending\"></div>\\n            <div class=\"unseeable\">NOT YET RELEASED</div>\\n            <div class=\"unseen\"> </div>\\n            <div class=\"rating\"></div>\\n            <div class=\"seen\">Seen</div>\\n        </div>\\n    </div>\\n    </td>\\n    <td class=\"watchlistColumn\">\\n        <div class=\"wlb_ribbon\" data-tconst=\"tt5764096\" data-recordmetrics=\"true\"></div>\\n    </td>\\n  </tr>\\n\\n  <tr>\\n    <td class=\"posterColumn\">\\n\\n    <span name=\"rk\" data-value=\"159\"></span>\\n    <span name=\"ir\" data-value=\"7.781603775332298\"></span>\\n    <span name=\"us\" data-value=\"1.1909376E12\"></span>\\n    <span name=\"nv\" data-value=\"11507\"></span>\\n    <span name=\"ur\" data-value=\"-3.2183962246677016\"></span>\\n<a href=\"/title/tt1077248/\"\\n> <img src=\"https://m.media-amazon.com/images/M/MV5BNDE4MmU1YTktMzY1OS00NWQ4LWExZmYtZjI3MzJjNGIxZTcxXkEyXkFqcGdeQXVyNDUzOTQ5MjY@._V1_UY67_CR0,0,45,67_AL_.jpg\" width=\"45\" height=\"67\" alt=\"Johnny Gaddaar\"/>\\n</a>    </td>\\n    <td class=\"titleColumn\">\\n      159.\\n      <a href=\"/title/tt1077248/\"\\ntitle=\"Sriram Raghavan (dir.), Dharmendra, Rimi Sen\" >Johnny Gaddaar</a>\\n        <span class=\"secondaryInfo\">(2007)</span>\\n    </td>\\n    <td class=\"ratingColumn imdbRating\">\\n            <strong title=\"7.8 based on 11,507 user ratings\">7.8</strong>\\n    </td>\\n    <td class=\"ratingColumn\">\\n    <div class=\"seen-widget seen-widget-tt1077248 pending\" data-titleid=\"tt1077248\">\\n        <div class=\"boundary\">\\n            <div class=\"popover\">\\n<span class=\"delete\">&nbsp;</span><ol><li>1<li>2<li>3<li>4<li>5<li>6<li>7<li>8<li>9<li>10</ol>            </div>\\n        </div>\\n        <div class=\"inline\">\\n            <div class=\"pending\"></div>\\n            <div class=\"unseeable\">NOT YET RELEASED</div>\\n            <div class=\"unseen\"> </div>\\n            <div class=\"rating\"></div>\\n            <div class=\"seen\">Seen</div>\\n        </div>\\n    </div>\\n    </td>\\n    <td class=\"watchlistColumn\">\\n        <div class=\"wlb_ribbon\" data-tconst=\"tt1077248\" data-recordmetrics=\"true\"></div>\\n    </td>\\n  </tr>\\n\\n  <tr>\\n    <td class=\"posterColumn\">\\n\\n    <span name=\"rk\" data-value=\"160\"></span>\\n    <span name=\"ir\" data-value=\"7.77485084074565\"></span>\\n    <span name=\"us\" data-value=\"1.4007168E12\"></span>\\n    <span name=\"nv\" data-value=\"9931\"></span>\\n    <span name=\"ur\" data-value=\"-3.22514915925435\"></span>\\n<a href=\"/title/tt2926068/\"\\n> <img src=\"https://m.media-amazon.com/images/M/MV5BYjlmMDUzMzQtYzY4OC00NGYwLWI1MmItMGIyYTk0NDFlMWZmXkEyXkFqcGdeQXVyOTk3NTc2MzE@._V1_UY67_CR1,0,45,67_AL_.jpg\" width=\"45\" height=\"67\" alt=\"Manam\"/>\\n</a>    </td>\\n    <td class=\"titleColumn\">\\n      160.\\n      <a href=\"/title/tt2926068/\"\\ntitle=\"Vikram K. Kumar (dir.), Akkineni Nageshwara Rao, Nagarjuna Akkineni\" >Manam</a>\\n        <span class=\"secondaryInfo\">(2014)</span>\\n    </td>\\n    <td class=\"ratingColumn imdbRating\">\\n            <strong title=\"7.8 based on 9,931 user ratings\">7.8</strong>\\n    </td>\\n    <td class=\"ratingColumn\">\\n    <div class=\"seen-widget seen-widget-tt2926068 pending\" data-titleid=\"tt2926068\">\\n        <div class=\"boundary\">\\n            <div class=\"popover\">\\n<span class=\"delete\">&nbsp;</span><ol><li>1<li>2<li>3<li>4<li>5<li>6<li>7<li>8<li>9<li>10</ol>            </div>\\n        </div>\\n        <div class=\"inline\">\\n            <div class=\"pending\"></div>\\n            <div class=\"unseeable\">NOT YET RELEASED</div>\\n            <div class=\"unseen\"> </div>\\n            <div class=\"rating\"></div>\\n            <div class=\"seen\">Seen</div>\\n        </div>\\n    </div>\\n    </td>\\n    <td class=\"watchlistColumn\">\\n        <div class=\"wlb_ribbon\" data-tconst=\"tt2926068\" data-recordmetrics=\"true\"></div>\\n    </td>\\n  </tr>\\n\\n  <tr>\\n    <td class=\"posterColumn\">\\n\\n    <span name=\"rk\" data-value=\"161\"></span>\\n    <span name=\"ir\" data-value=\"7.766301934984961\"></span>\\n    <span name=\"us\" data-value=\"1.5082848E12\"></span>\\n    <span name=\"nv\" data-value=\"20674\"></span>\\n    <span name=\"ur\" data-value=\"-3.233698065015039\"></span>\\n<a href=\"/title/tt6108090/\"\\n> <img src=\"https://m.media-amazon.com/images/M/MV5BM2IzMGIxMDQtNzE3OS00MGZjLTljNzgtMGE2MjAyZThmNjNhXkEyXkFqcGdeQXVyMTExNDQ2MTI@._V1_UY67_CR2,0,45,67_AL_.jpg\" width=\"45\" height=\"67\" alt=\"Secret Superstar\"/>\\n</a>    </td>\\n    <td class=\"titleColumn\">\\n      161.\\n      <a href=\"/title/tt6108090/\"\\ntitle=\"Advait Chandan (dir.), Zaira Wasim, Meher Vij\" >Secret Superstar</a>\\n        <span class=\"secondaryInfo\">(2017)</span>\\n    </td>\\n    <td class=\"ratingColumn imdbRating\">\\n            <strong title=\"7.8 based on 20,674 user ratings\">7.8</strong>\\n    </td>\\n    <td class=\"ratingColumn\">\\n    <div class=\"seen-widget seen-widget-tt6108090 pending\" data-titleid=\"tt6108090\">\\n        <div class=\"boundary\">\\n            <div class=\"popover\">\\n<span class=\"delete\">&nbsp;</span><ol><li>1<li>2<li>3<li>4<li>5<li>6<li>7<li>8<li>9<li>10</ol>            </div>\\n        </div>\\n        <div class=\"inline\">\\n            <div class=\"pending\"></div>\\n            <div class=\"unseeable\">NOT YET RELEASED</div>\\n            <div class=\"unseen\"> </div>\\n            <div class=\"rating\"></div>\\n            <div class=\"seen\">Seen</div>\\n        </div>\\n    </div>\\n    </td>\\n    <td class=\"watchlistColumn\">\\n        <div class=\"wlb_ribbon\" data-tconst=\"tt6108090\" data-recordmetrics=\"true\"></div>\\n    </td>\\n  </tr>\\n\\n  <tr>\\n    <td class=\"posterColumn\">\\n\\n    <span name=\"rk\" data-value=\"162\"></span>\\n    <span name=\"ir\" data-value=\"7.751064849338926\"></span>\\n    <span name=\"us\" data-value=\"1.5520032E12\"></span>\\n    <span name=\"nv\" data-value=\"22260\"></span>\\n    <span name=\"ur\" data-value=\"-3.248935150661074\"></span>\\n<a href=\"/title/tt8130968/\"\\n> <img src=\"https://m.media-amazon.com/images/M/MV5BYjZiMzIzYTctNDViZi00OWNmLWFmN2YtMmI2OWJiZWViMmY3XkEyXkFqcGdeQXVyNTYwMzA0MTM@._V1_UY67_CR2,0,45,67_AL_.jpg\" width=\"45\" height=\"67\" alt=\"Badla\"/>\\n</a>    </td>\\n    <td class=\"titleColumn\">\\n      162.\\n      <a href=\"/title/tt8130968/\"\\ntitle=\"Sujoy Ghosh (dir.), Amitabh Bachchan, Taapsee Pannu\" >Badla</a>\\n        <span class=\"secondaryInfo\">(2019)</span>\\n    </td>\\n    <td class=\"ratingColumn imdbRating\">\\n            <strong title=\"7.8 based on 22,260 user ratings\">7.8</strong>\\n    </td>\\n    <td class=\"ratingColumn\">\\n    <div class=\"seen-widget seen-widget-tt8130968 pending\" data-titleid=\"tt8130968\">\\n        <div class=\"boundary\">\\n            <div class=\"popover\">\\n<span class=\"delete\">&nbsp;</span><ol><li>1<li>2<li>3<li>4<li>5<li>6<li>7<li>8<li>9<li>10</ol>            </div>\\n        </div>\\n        <div class=\"inline\">\\n            <div class=\"pending\"></div>\\n            <div class=\"unseeable\">NOT YET RELEASED</div>\\n            <div class=\"unseen\"> </div>\\n            <div class=\"rating\"></div>\\n            <div class=\"seen\">Seen</div>\\n        </div>\\n    </div>\\n    </td>\\n    <td class=\"watchlistColumn\">\\n        <div class=\"wlb_ribbon\" data-tconst=\"tt8130968\" data-recordmetrics=\"true\"></div>\\n    </td>\\n  </tr>\\n\\n  <tr>\\n    <td class=\"posterColumn\">\\n\\n    <span name=\"rk\" data-value=\"163\"></span>\\n    <span name=\"ir\" data-value=\"7.741897732393662\"></span>\\n    <span name=\"us\" data-value=\"1.5513984E12\"></span>\\n    <span name=\"nv\" data-value=\"8528\"></span>\\n    <span name=\"ur\" data-value=\"-3.258102267606338\"></span>\\n<a href=\"/title/tt8108200/\"\\n> <img src=\"https://m.media-amazon.com/images/M/MV5BY2YyZmI2NGQtNzNjOS00MTY1LTkxNWEtNzg0YWYzOGZiMzcyXkEyXkFqcGdeQXVyMjUxMTY3ODM@._V1_UY67_CR0,0,45,67_AL_.jpg\" width=\"45\" height=\"67\" alt=\"Sonchiriya\"/>\\n</a>    </td>\\n    <td class=\"titleColumn\">\\n      163.\\n      <a href=\"/title/tt8108200/\"\\ntitle=\"Abhishek Chaubey (dir.), Sushant Singh Rajput, Bhumi Pednekar\" >Sonchiriya</a>\\n        <span class=\"secondaryInfo\">(2019)</span>\\n    </td>\\n    <td class=\"ratingColumn imdbRating\">\\n            <strong title=\"7.7 based on 8,528 user ratings\">7.7</strong>\\n    </td>\\n    <td class=\"ratingColumn\">\\n    <div class=\"seen-widget seen-widget-tt8108200 pending\" data-titleid=\"tt8108200\">\\n        <div class=\"boundary\">\\n            <div class=\"popover\">\\n<span class=\"delete\">&nbsp;</span><ol><li>1<li>2<li>3<li>4<li>5<li>6<li>7<li>8<li>9<li>10</ol>            </div>\\n        </div>\\n        <div class=\"inline\">\\n            <div class=\"pending\"></div>\\n            <div class=\"unseeable\">NOT YET RELEASED</div>\\n            <div class=\"unseen\"> </div>\\n            <div class=\"rating\"></div>\\n            <div class=\"seen\">Seen</div>\\n        </div>\\n    </div>\\n    </td>\\n    <td class=\"watchlistColumn\">\\n        <div class=\"wlb_ribbon\" data-tconst=\"tt8108200\" data-recordmetrics=\"true\"></div>\\n    </td>\\n  </tr>\\n\\n  <tr>\\n    <td class=\"posterColumn\">\\n\\n    <span name=\"rk\" data-value=\"164\"></span>\\n    <span name=\"ir\" data-value=\"7.734321317394779\"></span>\\n    <span name=\"us\" data-value=\"1.5259104E12\"></span>\\n    <span name=\"nv\" data-value=\"25207\"></span>\\n    <span name=\"ur\" data-value=\"-3.2656786826052207\"></span>\\n<a href=\"/title/tt7098658/\"\\n> <img src=\"https://m.media-amazon.com/images/M/MV5BZmVhN2JlYjEtZWFkOS00YzE0LThiNDMtMGI3NDA1MTk2ZDQ2XkEyXkFqcGdeQXVyODE5NzE3OTE@._V1_UY67_CR0,0,45,67_AL_.jpg\" width=\"45\" height=\"67\" alt=\"Raazi\"/>\\n</a>    </td>\\n    <td class=\"titleColumn\">\\n      164.\\n      <a href=\"/title/tt7098658/\"\\ntitle=\"Meghna Gulzar (dir.), Alia Bhatt, Vicky Kaushal\" >Raazi</a>\\n        <span class=\"secondaryInfo\">(2018)</span>\\n    </td>\\n    <td class=\"ratingColumn imdbRating\">\\n            <strong title=\"7.7 based on 25,207 user ratings\">7.7</strong>\\n    </td>\\n    <td class=\"ratingColumn\">\\n    <div class=\"seen-widget seen-widget-tt7098658 pending\" data-titleid=\"tt7098658\">\\n        <div class=\"boundary\">\\n            <div class=\"popover\">\\n<span class=\"delete\">&nbsp;</span><ol><li>1<li>2<li>3<li>4<li>5<li>6<li>7<li>8<li>9<li>10</ol>            </div>\\n        </div>\\n        <div class=\"inline\">\\n            <div class=\"pending\"></div>\\n            <div class=\"unseeable\">NOT YET RELEASED</div>\\n            <div class=\"unseen\"> </div>\\n            <div class=\"rating\"></div>\\n            <div class=\"seen\">Seen</div>\\n        </div>\\n    </div>\\n    </td>\\n    <td class=\"watchlistColumn\">\\n        <div class=\"wlb_ribbon\" data-tconst=\"tt7098658\" data-recordmetrics=\"true\"></div>\\n    </td>\\n  </tr>\\n\\n  <tr>\\n    <td class=\"posterColumn\">\\n\\n    <span name=\"rk\" data-value=\"165\"></span>\\n    <span name=\"ir\" data-value=\"7.733557948380229\"></span>\\n    <span name=\"us\" data-value=\"9.998208E11\"></span>\\n    <span name=\"nv\" data-value=\"14319\"></span>\\n    <span name=\"ur\" data-value=\"-3.266442051619771\"></span>\\n<a href=\"/title/tt0291376/\"\\n> <img src=\"https://m.media-amazon.com/images/M/MV5BMGIxZGVlMzEtYjZlZS00NGRkLWEwMjUtNGEwOGUwY2ViZTA2XkEyXkFqcGdeQXVyNjY1NTEzNjE@._V1_UY67_CR1,0,45,67_AL_.jpg\" width=\"45\" height=\"67\" alt=\"Nayak: The Real Hero\"/>\\n</a>    </td>\\n    <td class=\"titleColumn\">\\n      165.\\n      <a href=\"/title/tt0291376/\"\\ntitle=\"S. Shankar (dir.), Anil Kapoor, Rani Mukerji\" >Nayak: The Real Hero</a>\\n        <span class=\"secondaryInfo\">(2001)</span>\\n    </td>\\n    <td class=\"ratingColumn imdbRating\">\\n            <strong title=\"7.7 based on 14,319 user ratings\">7.7</strong>\\n    </td>\\n    <td class=\"ratingColumn\">\\n    <div class=\"seen-widget seen-widget-tt0291376 pending\" data-titleid=\"tt0291376\">\\n        <div class=\"boundary\">\\n            <div class=\"popover\">\\n<span class=\"delete\">&nbsp;</span><ol><li>1<li>2<li>3<li>4<li>5<li>6<li>7<li>8<li>9<li>10</ol>            </div>\\n        </div>\\n        <div class=\"inline\">\\n            <div class=\"pending\"></div>\\n            <div class=\"unseeable\">NOT YET RELEASED</div>\\n            <div class=\"unseen\"> </div>\\n            <div class=\"rating\"></div>\\n            <div class=\"seen\">Seen</div>\\n        </div>\\n    </div>\\n    </td>\\n    <td class=\"watchlistColumn\">\\n        <div class=\"wlb_ribbon\" data-tconst=\"tt0291376\" data-recordmetrics=\"true\"></div>\\n    </td>\\n  </tr>\\n\\n  <tr>\\n    <td class=\"posterColumn\">\\n\\n    <span name=\"rk\" data-value=\"166\"></span>\\n    <span name=\"ir\" data-value=\"7.731687249051603\"></span>\\n    <span name=\"us\" data-value=\"1.3347936E12\"></span>\\n    <span name=\"nv\" data-value=\"39624\"></span>\\n    <span name=\"ur\" data-value=\"-3.2683127509483967\"></span>\\n<a href=\"/title/tt2317337/\"\\n> <img src=\"https://m.media-amazon.com/images/M/MV5BYWNlODE1ZTEtOTQ5MS00N2QwLTllNjItZDQ2Y2UzMmU5YmI2XkEyXkFqcGdeQXVyODE5NzE3OTE@._V1_UY67_CR3,0,45,67_AL_.jpg\" width=\"45\" height=\"67\" alt=\"Vicky Donor\"/>\\n</a>    </td>\\n    <td class=\"titleColumn\">\\n      166.\\n      <a href=\"/title/tt2317337/\"\\ntitle=\"Shoojit Sircar (dir.), Ayushmann Khurrana, Yami Gautam\" >Vicky Donor</a>\\n        <span class=\"secondaryInfo\">(2012)</span>\\n    </td>\\n    <td class=\"ratingColumn imdbRating\">\\n            <strong title=\"7.7 based on 39,624 user ratings\">7.7</strong>\\n    </td>\\n    <td class=\"ratingColumn\">\\n    <div class=\"seen-widget seen-widget-tt2317337 pending\" data-titleid=\"tt2317337\">\\n        <div class=\"boundary\">\\n            <div class=\"popover\">\\n<span class=\"delete\">&nbsp;</span><ol><li>1<li>2<li>3<li>4<li>5<li>6<li>7<li>8<li>9<li>10</ol>            </div>\\n        </div>\\n        <div class=\"inline\">\\n            <div class=\"pending\"></div>\\n            <div class=\"unseeable\">NOT YET RELEASED</div>\\n            <div class=\"unseen\"> </div>\\n            <div class=\"rating\"></div>\\n            <div class=\"seen\">Seen</div>\\n        </div>\\n    </div>\\n    </td>\\n    <td class=\"watchlistColumn\">\\n        <div class=\"wlb_ribbon\" data-tconst=\"tt2317337\" data-recordmetrics=\"true\"></div>\\n    </td>\\n  </tr>\\n\\n  <tr>\\n    <td class=\"posterColumn\">\\n\\n    <span name=\"rk\" data-value=\"167\"></span>\\n    <span name=\"ir\" data-value=\"7.73162879497542\"></span>\\n    <span name=\"us\" data-value=\"5.488992E11\"></span>\\n    <span name=\"nv\" data-value=\"14065\"></span>\\n    <span name=\"ur\" data-value=\"-3.2683712050245797\"></span>\\n<a href=\"/title/tt0093578/\"\\n> <img src=\"https://m.media-amazon.com/images/M/MV5BZTdhMmJjYjMtMjZmOC00NjhkLWE3MjQtODAzNDI4NmM5OTA5XkEyXkFqcGdeQXVyODAzNzAwOTU@._V1_UX45_CR0,0,45,67_AL_.jpg\" width=\"45\" height=\"67\" alt=\"Mr. India\"/>\\n</a>    </td>\\n    <td class=\"titleColumn\">\\n      167.\\n      <a href=\"/title/tt0093578/\"\\ntitle=\"Shekhar Kapur (dir.), Anil Kapoor, Sridevi\" >Mr. India</a>\\n        <span class=\"secondaryInfo\">(1987)</span>\\n    </td>\\n    <td class=\"ratingColumn imdbRating\">\\n            <strong title=\"7.7 based on 14,065 user ratings\">7.7</strong>\\n    </td>\\n    <td class=\"ratingColumn\">\\n    <div class=\"seen-widget seen-widget-tt0093578 pending\" data-titleid=\"tt0093578\">\\n        <div class=\"boundary\">\\n            <div class=\"popover\">\\n<span class=\"delete\">&nbsp;</span><ol><li>1<li>2<li>3<li>4<li>5<li>6<li>7<li>8<li>9<li>10</ol>            </div>\\n        </div>\\n        <div class=\"inline\">\\n            <div class=\"pending\"></div>\\n            <div class=\"unseeable\">NOT YET RELEASED</div>\\n            <div class=\"unseen\"> </div>\\n            <div class=\"rating\"></div>\\n            <div class=\"seen\">Seen</div>\\n        </div>\\n    </div>\\n    </td>\\n    <td class=\"watchlistColumn\">\\n        <div class=\"wlb_ribbon\" data-tconst=\"tt0093578\" data-recordmetrics=\"true\"></div>\\n    </td>\\n  </tr>\\n\\n  <tr>\\n    <td class=\"posterColumn\">\\n\\n    <span name=\"rk\" data-value=\"168\"></span>\\n    <span name=\"ir\" data-value=\"7.72834214026524\"></span>\\n    <span name=\"us\" data-value=\"1.4661216E12\"></span>\\n    <span name=\"nv\" data-value=\"27107\"></span>\\n    <span name=\"ur\" data-value=\"-3.27165785973476\"></span>\\n<a href=\"/title/tt4434004/\"\\n> <img src=\"https://m.media-amazon.com/images/M/MV5BY2YxNjQxYWYtYzNkMi00YTgyLWIwZTMtYzgyYjZlZmYzZTA0XkEyXkFqcGdeQXVyMTA4NjE0NjEy._V1_UX45_CR0,0,45,67_AL_.jpg\" width=\"45\" height=\"67\" alt=\"Udta Punjab\"/>\\n</a>    </td>\\n    <td class=\"titleColumn\">\\n      168.\\n      <a href=\"/title/tt4434004/\"\\ntitle=\"Abhishek Chaubey (dir.), Shahid Kapoor, Alia Bhatt\" >Udta Punjab</a>\\n        <span class=\"secondaryInfo\">(2016)</span>\\n    </td>\\n    <td class=\"ratingColumn imdbRating\">\\n            <strong title=\"7.7 based on 27,107 user ratings\">7.7</strong>\\n    </td>\\n    <td class=\"ratingColumn\">\\n    <div class=\"seen-widget seen-widget-tt4434004 pending\" data-titleid=\"tt4434004\">\\n        <div class=\"boundary\">\\n            <div class=\"popover\">\\n<span class=\"delete\">&nbsp;</span><ol><li>1<li>2<li>3<li>4<li>5<li>6<li>7<li>8<li>9<li>10</ol>            </div>\\n        </div>\\n        <div class=\"inline\">\\n            <div class=\"pending\"></div>\\n            <div class=\"unseeable\">NOT YET RELEASED</div>\\n            <div class=\"unseen\"> </div>\\n            <div class=\"rating\"></div>\\n            <div class=\"seen\">Seen</div>\\n        </div>\\n    </div>\\n    </td>\\n    <td class=\"watchlistColumn\">\\n        <div class=\"wlb_ribbon\" data-tconst=\"tt4434004\" data-recordmetrics=\"true\"></div>\\n    </td>\\n  </tr>\\n\\n  <tr>\\n    <td class=\"posterColumn\">\\n\\n    <span name=\"rk\" data-value=\"169\"></span>\\n    <span name=\"ir\" data-value=\"7.726146810618603\"></span>\\n    <span name=\"us\" data-value=\"1.146096E12\"></span>\\n    <span name=\"nv\" data-value=\"12636\"></span>\\n    <span name=\"ur\" data-value=\"-3.2738531893813967\"></span>\\n<a href=\"/title/tt0816258/\"\\n> <img src=\"https://m.media-amazon.com/images/M/MV5BOWNkMWQ3MDEtYjQ3Zi00Y2NhLWE1NzYtZGJkM2NlYWY3OWFmXkEyXkFqcGdeQXVyNDY5MTUyNjU@._V1_UX45_CR0,0,45,67_AL_.jpg\" width=\"45\" height=\"67\" alt=\"Pokiri\"/>\\n</a>    </td>\\n    <td class=\"titleColumn\">\\n      169.\\n      <a href=\"/title/tt0816258/\"\\ntitle=\"Puri Jagannadh (dir.), Mahesh Babu, Ileana D\\'Cruz\" >Pokiri</a>\\n        <span class=\"secondaryInfo\">(2006)</span>\\n    </td>\\n    <td class=\"ratingColumn imdbRating\">\\n            <strong title=\"7.7 based on 12,636 user ratings\">7.7</strong>\\n    </td>\\n    <td class=\"ratingColumn\">\\n    <div class=\"seen-widget seen-widget-tt0816258 pending\" data-titleid=\"tt0816258\">\\n        <div class=\"boundary\">\\n            <div class=\"popover\">\\n<span class=\"delete\">&nbsp;</span><ol><li>1<li>2<li>3<li>4<li>5<li>6<li>7<li>8<li>9<li>10</ol>            </div>\\n        </div>\\n        <div class=\"inline\">\\n            <div class=\"pending\"></div>\\n            <div class=\"unseeable\">NOT YET RELEASED</div>\\n            <div class=\"unseen\"> </div>\\n            <div class=\"rating\"></div>\\n            <div class=\"seen\">Seen</div>\\n        </div>\\n    </div>\\n    </td>\\n    <td class=\"watchlistColumn\">\\n        <div class=\"wlb_ribbon\" data-tconst=\"tt0816258\" data-recordmetrics=\"true\"></div>\\n    </td>\\n  </tr>\\n\\n  <tr>\\n    <td class=\"posterColumn\">\\n\\n    <span name=\"rk\" data-value=\"170\"></span>\\n    <span name=\"ir\" data-value=\"7.725765454430828\"></span>\\n    <span name=\"us\" data-value=\"2.637792E11\"></span>\\n    <span name=\"nv\" data-value=\"11277\"></span>\\n    <span name=\"ur\" data-value=\"-3.274234545569172\"></span>\\n<a href=\"/title/tt0077451/\"\\n> <img src=\"https://m.media-amazon.com/images/M/MV5BMzc0OGU4NGYtNzgwMy00NThjLWJmYWItZDUzZTVlZjg0YjdjXkEyXkFqcGdeQXVyNjQ1MDcxNzM@._V1_UX45_CR0,0,45,67_AL_.jpg\" width=\"45\" height=\"67\" alt=\"Don\"/>\\n</a>    </td>\\n    <td class=\"titleColumn\">\\n      170.\\n      <a href=\"/title/tt0077451/\"\\ntitle=\"Chandra Barot (dir.), Amitabh Bachchan, Zeenat Aman\" >Don</a>\\n        <span class=\"secondaryInfo\">(1978)</span>\\n    </td>\\n    <td class=\"ratingColumn imdbRating\">\\n            <strong title=\"7.7 based on 11,277 user ratings\">7.7</strong>\\n    </td>\\n    <td class=\"ratingColumn\">\\n    <div class=\"seen-widget seen-widget-tt0077451 pending\" data-titleid=\"tt0077451\">\\n        <div class=\"boundary\">\\n            <div class=\"popover\">\\n<span class=\"delete\">&nbsp;</span><ol><li>1<li>2<li>3<li>4<li>5<li>6<li>7<li>8<li>9<li>10</ol>            </div>\\n        </div>\\n        <div class=\"inline\">\\n            <div class=\"pending\"></div>\\n            <div class=\"unseeable\">NOT YET RELEASED</div>\\n            <div class=\"unseen\"> </div>\\n            <div class=\"rating\"></div>\\n            <div class=\"seen\">Seen</div>\\n        </div>\\n    </div>\\n    </td>\\n    <td class=\"watchlistColumn\">\\n        <div class=\"wlb_ribbon\" data-tconst=\"tt0077451\" data-recordmetrics=\"true\"></div>\\n    </td>\\n  </tr>\\n\\n  <tr>\\n    <td class=\"posterColumn\">\\n\\n    <span name=\"rk\" data-value=\"171\"></span>\\n    <span name=\"ir\" data-value=\"7.721345077636168\"></span>\\n    <span name=\"us\" data-value=\"1.3052448E12\"></span>\\n    <span name=\"nv\" data-value=\"6237\"></span>\\n    <span name=\"ur\" data-value=\"-3.278654922363832\"></span>\\n<a href=\"/title/tt1907761/\"\\n> <img src=\"https://m.media-amazon.com/images/M/MV5BZWVlMzlmOWItYTgwMi00MjExLTgwNDItNWI4YzY2MTgzMWJlXkEyXkFqcGdeQXVyODE5NzE3OTE@._V1_UY67_CR1,0,45,67_AL_.jpg\" width=\"45\" height=\"67\" alt=\"Stanley Ka Dabba\"/>\\n</a>    </td>\\n    <td class=\"titleColumn\">\\n      171.\\n      <a href=\"/title/tt1907761/\"\\ntitle=\"Amole Gupte (dir.), Partho A. Gupte, Numaan Sheikh\" >Stanley Ka Dabba</a>\\n        <span class=\"secondaryInfo\">(2011)</span>\\n    </td>\\n    <td class=\"ratingColumn imdbRating\">\\n            <strong title=\"7.7 based on 6,237 user ratings\">7.7</strong>\\n    </td>\\n    <td class=\"ratingColumn\">\\n    <div class=\"seen-widget seen-widget-tt1907761 pending\" data-titleid=\"tt1907761\">\\n        <div class=\"boundary\">\\n            <div class=\"popover\">\\n<span class=\"delete\">&nbsp;</span><ol><li>1<li>2<li>3<li>4<li>5<li>6<li>7<li>8<li>9<li>10</ol>            </div>\\n        </div>\\n        <div class=\"inline\">\\n            <div class=\"pending\"></div>\\n            <div class=\"unseeable\">NOT YET RELEASED</div>\\n            <div class=\"unseen\"> </div>\\n            <div class=\"rating\"></div>\\n            <div class=\"seen\">Seen</div>\\n        </div>\\n    </div>\\n    </td>\\n    <td class=\"watchlistColumn\">\\n        <div class=\"wlb_ribbon\" data-tconst=\"tt1907761\" data-recordmetrics=\"true\"></div>\\n    </td>\\n  </tr>\\n\\n  <tr>\\n    <td class=\"posterColumn\">\\n\\n    <span name=\"rk\" data-value=\"172\"></span>\\n    <span name=\"ir\" data-value=\"7.7167705925481505\"></span>\\n    <span name=\"us\" data-value=\"1.219968E12\"></span>\\n    <span name=\"nv\" data-value=\"20818\"></span>\\n    <span name=\"ur\" data-value=\"-3.2832294074518495\"></span>\\n<a href=\"/title/tt1230165/\"\\n> <img src=\"https://m.media-amazon.com/images/M/MV5BMTM2NjIwODc4N15BMl5BanBnXkFtZTcwMDgwMzM4MQ@@._V1_UY67_CR0,0,45,67_AL_.jpg\" width=\"45\" height=\"67\" alt=\"Rock On!!\"/>\\n</a>    </td>\\n    <td class=\"titleColumn\">\\n      172.\\n      <a href=\"/title/tt1230165/\"\\ntitle=\"Abhishek Kapoor (dir.), Arjun Rampal, Farhan Akhtar\" >Rock On!!</a>\\n        <span class=\"secondaryInfo\">(2008)</span>\\n    </td>\\n    <td class=\"ratingColumn imdbRating\">\\n            <strong title=\"7.7 based on 20,818 user ratings\">7.7</strong>\\n    </td>\\n    <td class=\"ratingColumn\">\\n    <div class=\"seen-widget seen-widget-tt1230165 pending\" data-titleid=\"tt1230165\">\\n        <div class=\"boundary\">\\n            <div class=\"popover\">\\n<span class=\"delete\">&nbsp;</span><ol><li>1<li>2<li>3<li>4<li>5<li>6<li>7<li>8<li>9<li>10</ol>            </div>\\n        </div>\\n        <div class=\"inline\">\\n            <div class=\"pending\"></div>\\n            <div class=\"unseeable\">NOT YET RELEASED</div>\\n            <div class=\"unseen\"> </div>\\n            <div class=\"rating\"></div>\\n            <div class=\"seen\">Seen</div>\\n        </div>\\n    </div>\\n    </td>\\n    <td class=\"watchlistColumn\">\\n        <div class=\"wlb_ribbon\" data-tconst=\"tt1230165\" data-recordmetrics=\"true\"></div>\\n    </td>\\n  </tr>\\n\\n  <tr>\\n    <td class=\"posterColumn\">\\n\\n    <span name=\"rk\" data-value=\"173\"></span>\\n    <span name=\"ir\" data-value=\"7.708753662418031\"></span>\\n    <span name=\"us\" data-value=\"1.226016E12\"></span>\\n    <span name=\"nv\" data-value=\"6032\"></span>\\n    <span name=\"ur\" data-value=\"-3.2912463375819687\"></span>\\n<a href=\"/title/tt1288638/\"\\n> <img src=\"https://m.media-amazon.com/images/M/MV5BZWU3ZTU2OGUtZGJlYS00Yjc5LTk0ZTctOGZkZGZmODkxYmVmXkEyXkFqcGdeQXVyNDUzOTQ5MjY@._V1_UY67_CR1,0,45,67_AL_.jpg\" width=\"45\" height=\"67\" alt=\"Dasvidaniya\"/>\\n</a>    </td>\\n    <td class=\"titleColumn\">\\n      173.\\n      <a href=\"/title/tt1288638/\"\\ntitle=\"Shashant Shah (dir.), Vinay Pathak, Sarita Joshi\" >Dasvidaniya</a>\\n        <span class=\"secondaryInfo\">(2008)</span>\\n    </td>\\n    <td class=\"ratingColumn imdbRating\">\\n            <strong title=\"7.7 based on 6,032 user ratings\">7.7</strong>\\n    </td>\\n    <td class=\"ratingColumn\">\\n    <div class=\"seen-widget seen-widget-tt1288638 pending\" data-titleid=\"tt1288638\">\\n        <div class=\"boundary\">\\n            <div class=\"popover\">\\n<span class=\"delete\">&nbsp;</span><ol><li>1<li>2<li>3<li>4<li>5<li>6<li>7<li>8<li>9<li>10</ol>            </div>\\n        </div>\\n        <div class=\"inline\">\\n            <div class=\"pending\"></div>\\n            <div class=\"unseeable\">NOT YET RELEASED</div>\\n            <div class=\"unseen\"> </div>\\n            <div class=\"rating\"></div>\\n            <div class=\"seen\">Seen</div>\\n        </div>\\n    </div>\\n    </td>\\n    <td class=\"watchlistColumn\">\\n        <div class=\"wlb_ribbon\" data-tconst=\"tt1288638\" data-recordmetrics=\"true\"></div>\\n    </td>\\n  </tr>\\n\\n  <tr>\\n    <td class=\"posterColumn\">\\n\\n    <span name=\"rk\" data-value=\"174\"></span>\\n    <span name=\"ir\" data-value=\"7.705534640933882\"></span>\\n    <span name=\"us\" data-value=\"1.1002176E12\"></span>\\n    <span name=\"nv\" data-value=\"48919\"></span>\\n    <span name=\"ur\" data-value=\"-3.294465359066118\"></span>\\n<a href=\"/title/tt0420332/\"\\n> <img src=\"https://m.media-amazon.com/images/M/MV5BY2VlOTc4ZjctYjVlMS00NDYwLWEwZjctZmYzZmVkNGU5NjNjXkEyXkFqcGdeQXVyODE5NzE3OTE@._V1_UY67_CR1,0,45,67_AL_.jpg\" width=\"45\" height=\"67\" alt=\"Veer-Zaara\"/>\\n</a>    </td>\\n    <td class=\"titleColumn\">\\n      174.\\n      <a href=\"/title/tt0420332/\"\\ntitle=\"Yash Chopra (dir.), Shah Rukh Khan, Preity Zinta\" >Veer-Zaara</a>\\n        <span class=\"secondaryInfo\">(2004)</span>\\n    </td>\\n    <td class=\"ratingColumn imdbRating\">\\n            <strong title=\"7.7 based on 48,919 user ratings\">7.7</strong>\\n    </td>\\n    <td class=\"ratingColumn\">\\n    <div class=\"seen-widget seen-widget-tt0420332 pending\" data-titleid=\"tt0420332\">\\n        <div class=\"boundary\">\\n            <div class=\"popover\">\\n<span class=\"delete\">&nbsp;</span><ol><li>1<li>2<li>3<li>4<li>5<li>6<li>7<li>8<li>9<li>10</ol>            </div>\\n        </div>\\n        <div class=\"inline\">\\n            <div class=\"pending\"></div>\\n            <div class=\"unseeable\">NOT YET RELEASED</div>\\n            <div class=\"unseen\"> </div>\\n            <div class=\"rating\"></div>\\n            <div class=\"seen\">Seen</div>\\n        </div>\\n    </div>\\n    </td>\\n    <td class=\"watchlistColumn\">\\n        <div class=\"wlb_ribbon\" data-tconst=\"tt0420332\" data-recordmetrics=\"true\"></div>\\n    </td>\\n  </tr>\\n\\n  <tr>\\n    <td class=\"posterColumn\">\\n\\n    <span name=\"rk\" data-value=\"175\"></span>\\n    <span name=\"ir\" data-value=\"7.702253770748624\"></span>\\n    <span name=\"us\" data-value=\"1.4358816E12\"></span>\\n    <span name=\"nv\" data-value=\"12413\"></span>\\n    <span name=\"ur\" data-value=\"-3.297746229251376\"></span>\\n<a href=\"/title/tt4432480/\"\\n> <img src=\"https://m.media-amazon.com/images/M/MV5BMTAzNjAwNDEwMTNeQTJeQWpwZ15BbWU4MDk5MjMyMzYx._V1_UY67_CR0,0,45,67_AL_.jpg\" width=\"45\" height=\"67\" alt=\"RangiTaranga\"/>\\n</a>    </td>\\n    <td class=\"titleColumn\">\\n      175.\\n      <a href=\"/title/tt4432480/\"\\ntitle=\"Anup Bhandari (dir.), Nirup Bhandari, Radhika Narayan\" >RangiTaranga</a>\\n        <span class=\"secondaryInfo\">(2015)</span>\\n    </td>\\n    <td class=\"ratingColumn imdbRating\">\\n            <strong title=\"7.7 based on 12,413 user ratings\">7.7</strong>\\n    </td>\\n    <td class=\"ratingColumn\">\\n    <div class=\"seen-widget seen-widget-tt4432480 pending\" data-titleid=\"tt4432480\">\\n        <div class=\"boundary\">\\n            <div class=\"popover\">\\n<span class=\"delete\">&nbsp;</span><ol><li>1<li>2<li>3<li>4<li>5<li>6<li>7<li>8<li>9<li>10</ol>            </div>\\n        </div>\\n        <div class=\"inline\">\\n            <div class=\"pending\"></div>\\n            <div class=\"unseeable\">NOT YET RELEASED</div>\\n            <div class=\"unseen\"> </div>\\n            <div class=\"rating\"></div>\\n            <div class=\"seen\">Seen</div>\\n        </div>\\n    </div>\\n    </td>\\n    <td class=\"watchlistColumn\">\\n        <div class=\"wlb_ribbon\" data-tconst=\"tt4432480\" data-recordmetrics=\"true\"></div>\\n    </td>\\n  </tr>\\n\\n  <tr>\\n    <td class=\"posterColumn\">\\n\\n    <span name=\"rk\" data-value=\"176\"></span>\\n    <span name=\"ir\" data-value=\"7.696508200682913\"></span>\\n    <span name=\"us\" data-value=\"1.0003392E12\"></span>\\n    <span name=\"nv\" data-value=\"7525\"></span>\\n    <span name=\"ur\" data-value=\"-3.3034917993170874\"></span>\\n<a href=\"/title/tt0196069/\"\\n> <img src=\"https://m.media-amazon.com/images/M/MV5BMTY2NTY0OTQzOV5BMl5BanBnXkFtZTcwNTQxNDMzMQ@@._V1_UY67_CR1,0,45,67_AL_.jpg\" width=\"45\" height=\"67\" alt=\"Samsara\"/>\\n</a>    </td>\\n    <td class=\"titleColumn\">\\n      176.\\n      <a href=\"/title/tt0196069/\"\\ntitle=\"Pan Nalin (dir.), Shawn Ku, Christy Chung\" >Samsara</a>\\n        <span class=\"secondaryInfo\">(2001)</span>\\n    </td>\\n    <td class=\"ratingColumn imdbRating\">\\n            <strong title=\"7.7 based on 7,525 user ratings\">7.7</strong>\\n    </td>\\n    <td class=\"ratingColumn\">\\n    <div class=\"seen-widget seen-widget-tt0196069 pending\" data-titleid=\"tt0196069\">\\n        <div class=\"boundary\">\\n            <div class=\"popover\">\\n<span class=\"delete\">&nbsp;</span><ol><li>1<li>2<li>3<li>4<li>5<li>6<li>7<li>8<li>9<li>10</ol>            </div>\\n        </div>\\n        <div class=\"inline\">\\n            <div class=\"pending\"></div>\\n            <div class=\"unseeable\">NOT YET RELEASED</div>\\n            <div class=\"unseen\"> </div>\\n            <div class=\"rating\"></div>\\n            <div class=\"seen\">Seen</div>\\n        </div>\\n    </div>\\n    </td>\\n    <td class=\"watchlistColumn\">\\n        <div class=\"wlb_ribbon\" data-tconst=\"tt0196069\" data-recordmetrics=\"true\"></div>\\n    </td>\\n  </tr>\\n\\n  <tr>\\n    <td class=\"posterColumn\">\\n\\n    <span name=\"rk\" data-value=\"177\"></span>\\n    <span name=\"ir\" data-value=\"7.6962882354508855\"></span>\\n    <span name=\"us\" data-value=\"1.4461632E12\"></span>\\n    <span name=\"nv\" data-value=\"5993\"></span>\\n    <span name=\"ur\" data-value=\"-3.3037117645491145\"></span>\\n<a href=\"/title/tt5121000/\"\\n> <img src=\"https://m.media-amazon.com/images/M/MV5BZDUzYTRjMDAtNDkwMi00ZWY1LWI1OWEtM2VjY2NjNzNhOTRmXkEyXkFqcGdeQXVyMTExNDQ2MTI@._V1_UY67_CR0,0,45,67_AL_.jpg\" width=\"45\" height=\"67\" alt=\"Aligarh\"/>\\n</a>    </td>\\n    <td class=\"titleColumn\">\\n      177.\\n      <a href=\"/title/tt5121000/\"\\ntitle=\"Hansal Mehta (dir.), Manoj Bajpayee, Rajkummar Rao\" >Aligarh</a>\\n        <span class=\"secondaryInfo\">(2015)</span>\\n    </td>\\n    <td class=\"ratingColumn imdbRating\">\\n            <strong title=\"7.7 based on 5,993 user ratings\">7.7</strong>\\n    </td>\\n    <td class=\"ratingColumn\">\\n    <div class=\"seen-widget seen-widget-tt5121000 pending\" data-titleid=\"tt5121000\">\\n        <div class=\"boundary\">\\n            <div class=\"popover\">\\n<span class=\"delete\">&nbsp;</span><ol><li>1<li>2<li>3<li>4<li>5<li>6<li>7<li>8<li>9<li>10</ol>            </div>\\n        </div>\\n        <div class=\"inline\">\\n            <div class=\"pending\"></div>\\n            <div class=\"unseeable\">NOT YET RELEASED</div>\\n            <div class=\"unseen\"> </div>\\n            <div class=\"rating\"></div>\\n            <div class=\"seen\">Seen</div>\\n        </div>\\n    </div>\\n    </td>\\n    <td class=\"watchlistColumn\">\\n        <div class=\"wlb_ribbon\" data-tconst=\"tt5121000\" data-recordmetrics=\"true\"></div>\\n    </td>\\n  </tr>\\n\\n  <tr>\\n    <td class=\"posterColumn\">\\n\\n    <span name=\"rk\" data-value=\"178\"></span>\\n    <span name=\"ir\" data-value=\"7.6961073479696696\"></span>\\n    <span name=\"us\" data-value=\"1.16856E12\"></span>\\n    <span name=\"nv\" data-value=\"21956\"></span>\\n    <span name=\"ur\" data-value=\"-3.3038926520303304\"></span>\\n<a href=\"/title/tt0499375/\"\\n> <img src=\"https://m.media-amazon.com/images/M/MV5BMjAzMTkyMTQ0MF5BMl5BanBnXkFtZTcwMjIxNjA0MQ@@._V1_UY67_CR1,0,45,67_AL_.jpg\" width=\"45\" height=\"67\" alt=\"Guru\"/>\\n</a>    </td>\\n    <td class=\"titleColumn\">\\n      178.\\n      <a href=\"/title/tt0499375/\"\\ntitle=\"Mani Ratnam (dir.), Mithun Chakraborty, Abhishek Bachchan\" >Guru</a>\\n        <span class=\"secondaryInfo\">(2007)</span>\\n    </td>\\n    <td class=\"ratingColumn imdbRating\">\\n            <strong title=\"7.7 based on 21,956 user ratings\">7.7</strong>\\n    </td>\\n    <td class=\"ratingColumn\">\\n    <div class=\"seen-widget seen-widget-tt0499375 pending\" data-titleid=\"tt0499375\">\\n        <div class=\"boundary\">\\n            <div class=\"popover\">\\n<span class=\"delete\">&nbsp;</span><ol><li>1<li>2<li>3<li>4<li>5<li>6<li>7<li>8<li>9<li>10</ol>            </div>\\n        </div>\\n        <div class=\"inline\">\\n            <div class=\"pending\"></div>\\n            <div class=\"unseeable\">NOT YET RELEASED</div>\\n            <div class=\"unseen\"> </div>\\n            <div class=\"rating\"></div>\\n            <div class=\"seen\">Seen</div>\\n        </div>\\n    </div>\\n    </td>\\n    <td class=\"watchlistColumn\">\\n        <div class=\"wlb_ribbon\" data-tconst=\"tt0499375\" data-recordmetrics=\"true\"></div>\\n    </td>\\n  </tr>\\n\\n  <tr>\\n    <td class=\"posterColumn\">\\n\\n    <span name=\"rk\" data-value=\"179\"></span>\\n    <span name=\"ir\" data-value=\"7.683661133408216\"></span>\\n    <span name=\"us\" data-value=\"1.0729152E12\"></span>\\n    <span name=\"nv\" data-value=\"5248\"></span>\\n    <span name=\"ur\" data-value=\"-3.316338866591784\"></span>\\n<a href=\"/title/tt0431619/\"\\n> <img src=\"https://m.media-amazon.com/images/M/MV5BNTU3NDk4NDE4MV5BMl5BanBnXkFtZTgwODkzNzI4OTE@._V1_UY67_CR2,0,45,67_AL_.jpg\" width=\"45\" height=\"67\" alt=\"Arya\"/>\\n</a>    </td>\\n    <td class=\"titleColumn\">\\n      179.\\n      <a href=\"/title/tt0431619/\"\\ntitle=\"Sukumar (dir.), Allu Arjun, Anuradha Mehta\" >Arya</a>\\n        <span class=\"secondaryInfo\">(2004)</span>\\n    </td>\\n    <td class=\"ratingColumn imdbRating\">\\n            <strong title=\"7.7 based on 5,248 user ratings\">7.7</strong>\\n    </td>\\n    <td class=\"ratingColumn\">\\n    <div class=\"seen-widget seen-widget-tt0431619 pending\" data-titleid=\"tt0431619\">\\n        <div class=\"boundary\">\\n            <div class=\"popover\">\\n<span class=\"delete\">&nbsp;</span><ol><li>1<li>2<li>3<li>4<li>5<li>6<li>7<li>8<li>9<li>10</ol>            </div>\\n        </div>\\n        <div class=\"inline\">\\n            <div class=\"pending\"></div>\\n            <div class=\"unseeable\">NOT YET RELEASED</div>\\n            <div class=\"unseen\"> </div>\\n            <div class=\"rating\"></div>\\n            <div class=\"seen\">Seen</div>\\n        </div>\\n    </div>\\n    </td>\\n    <td class=\"watchlistColumn\">\\n        <div class=\"wlb_ribbon\" data-tconst=\"tt0431619\" data-recordmetrics=\"true\"></div>\\n    </td>\\n  </tr>\\n\\n  <tr>\\n    <td class=\"posterColumn\">\\n\\n    <span name=\"rk\" data-value=\"180\"></span>\\n    <span name=\"ir\" data-value=\"7.681729432006716\"></span>\\n    <span name=\"us\" data-value=\"1.4055552E12\"></span>\\n    <span name=\"nv\" data-value=\"5532\"></span>\\n    <span name=\"ur\" data-value=\"-3.3182705679932836\"></span>\\n<a href=\"/title/tt3822396/\"\\n> <img src=\"https://m.media-amazon.com/images/M/MV5BYTI2YmZmNTUtNTQ3Yy00OTJmLWE1ZDgtYzVjZGRiNmNjMjYwXkEyXkFqcGdeQXVyODIwMDI1NjM@._V1_UX45_CR0,0,45,67_AL_.jpg\" width=\"45\" height=\"67\" alt=\"Velaiilla Pattadhari\"/>\\n</a>    </td>\\n    <td class=\"titleColumn\">\\n      180.\\n      <a href=\"/title/tt3822396/\"\\ntitle=\"Velraj (dir.), Dhanush, Saranya Ponvannan\" >Velaiilla Pattadhari</a>\\n        <span class=\"secondaryInfo\">(2014)</span>\\n    </td>\\n    <td class=\"ratingColumn imdbRating\">\\n            <strong title=\"7.7 based on 5,532 user ratings\">7.7</strong>\\n    </td>\\n    <td class=\"ratingColumn\">\\n    <div class=\"seen-widget seen-widget-tt3822396 pending\" data-titleid=\"tt3822396\">\\n        <div class=\"boundary\">\\n            <div class=\"popover\">\\n<span class=\"delete\">&nbsp;</span><ol><li>1<li>2<li>3<li>4<li>5<li>6<li>7<li>8<li>9<li>10</ol>            </div>\\n        </div>\\n        <div class=\"inline\">\\n            <div class=\"pending\"></div>\\n            <div class=\"unseeable\">NOT YET RELEASED</div>\\n            <div class=\"unseen\"> </div>\\n            <div class=\"rating\"></div>\\n            <div class=\"seen\">Seen</div>\\n        </div>\\n    </div>\\n    </td>\\n    <td class=\"watchlistColumn\">\\n        <div class=\"wlb_ribbon\" data-tconst=\"tt3822396\" data-recordmetrics=\"true\"></div>\\n    </td>\\n  </tr>\\n\\n  <tr>\\n    <td class=\"posterColumn\">\\n\\n    <span name=\"rk\" data-value=\"181\"></span>\\n    <span name=\"ir\" data-value=\"7.680237408803116\"></span>\\n    <span name=\"us\" data-value=\"1.2278304E12\"></span>\\n    <span name=\"nv\" data-value=\"16277\"></span>\\n    <span name=\"ur\" data-value=\"-3.319762591196884\"></span>\\n<a href=\"/title/tt1292703/\"\\n> <img src=\"https://m.media-amazon.com/images/M/MV5BNjA1MjM2NTM3MV5BMl5BanBnXkFtZTcwODIyMjk5MQ@@._V1_UY67_CR1,0,45,67_AL_.jpg\" width=\"45\" height=\"67\" alt=\"Oye Lucky! Lucky Oye!\"/>\\n</a>    </td>\\n    <td class=\"titleColumn\">\\n      181.\\n      <a href=\"/title/tt1292703/\"\\ntitle=\"Dibakar Banerjee (dir.), Abhay Deol, Paresh Rawal\" >Oye Lucky! Lucky Oye!</a>\\n        <span class=\"secondaryInfo\">(2008)</span>\\n    </td>\\n    <td class=\"ratingColumn imdbRating\">\\n            <strong title=\"7.7 based on 16,277 user ratings\">7.7</strong>\\n    </td>\\n    <td class=\"ratingColumn\">\\n    <div class=\"seen-widget seen-widget-tt1292703 pending\" data-titleid=\"tt1292703\">\\n        <div class=\"boundary\">\\n            <div class=\"popover\">\\n<span class=\"delete\">&nbsp;</span><ol><li>1<li>2<li>3<li>4<li>5<li>6<li>7<li>8<li>9<li>10</ol>            </div>\\n        </div>\\n        <div class=\"inline\">\\n            <div class=\"pending\"></div>\\n            <div class=\"unseeable\">NOT YET RELEASED</div>\\n            <div class=\"unseen\"> </div>\\n            <div class=\"rating\"></div>\\n            <div class=\"seen\">Seen</div>\\n        </div>\\n    </div>\\n    </td>\\n    <td class=\"watchlistColumn\">\\n        <div class=\"wlb_ribbon\" data-tconst=\"tt1292703\" data-recordmetrics=\"true\"></div>\\n    </td>\\n  </tr>\\n\\n  <tr>\\n    <td class=\"posterColumn\">\\n\\n    <span name=\"rk\" data-value=\"182\"></span>\\n    <span name=\"ir\" data-value=\"7.673483556622152\"></span>\\n    <span name=\"us\" data-value=\"1.533168E12\"></span>\\n    <span name=\"nv\" data-value=\"7911\"></span>\\n    <span name=\"ur\" data-value=\"-3.326516443377848\"></span>\\n<a href=\"/title/tt7758160/\"\\n> <img src=\"https://m.media-amazon.com/images/M/MV5BZWIwYmRlZjAtNWUyOC00YzA4LWIyNjUtYTU1YWNiZGFhYmNmXkEyXkFqcGdeQXVyODMyODMxNDY@._V1_UY67_CR0,0,45,67_AL_.jpg\" width=\"45\" height=\"67\" alt=\"Goodachari\"/>\\n</a>    </td>\\n    <td class=\"titleColumn\">\\n      182.\\n      <a href=\"/title/tt7758160/\"\\ntitle=\"Sashi Kiran Tikka (dir.), Adivi Sesh, Sobhita Dhulipala\" >Goodachari</a>\\n        <span class=\"secondaryInfo\">(2018)</span>\\n    </td>\\n    <td class=\"ratingColumn imdbRating\">\\n            <strong title=\"7.7 based on 7,911 user ratings\">7.7</strong>\\n    </td>\\n    <td class=\"ratingColumn\">\\n    <div class=\"seen-widget seen-widget-tt7758160 pending\" data-titleid=\"tt7758160\">\\n        <div class=\"boundary\">\\n            <div class=\"popover\">\\n<span class=\"delete\">&nbsp;</span><ol><li>1<li>2<li>3<li>4<li>5<li>6<li>7<li>8<li>9<li>10</ol>            </div>\\n        </div>\\n        <div class=\"inline\">\\n            <div class=\"pending\"></div>\\n            <div class=\"unseeable\">NOT YET RELEASED</div>\\n            <div class=\"unseen\"> </div>\\n            <div class=\"rating\"></div>\\n            <div class=\"seen\">Seen</div>\\n        </div>\\n    </div>\\n    </td>\\n    <td class=\"watchlistColumn\">\\n        <div class=\"wlb_ribbon\" data-tconst=\"tt7758160\" data-recordmetrics=\"true\"></div>\\n    </td>\\n  </tr>\\n\\n  <tr>\\n    <td class=\"posterColumn\">\\n\\n    <span name=\"rk\" data-value=\"183\"></span>\\n    <span name=\"ir\" data-value=\"7.6695033733817874\"></span>\\n    <span name=\"us\" data-value=\"1.4751072E12\"></span>\\n    <span name=\"nv\" data-value=\"40191\"></span>\\n    <span name=\"ur\" data-value=\"-3.3304966266182126\"></span>\\n<a href=\"/title/tt4169250/\"\\n> <img src=\"https://m.media-amazon.com/images/M/MV5BZjAzZjZiMmQtMDZmOC00NjVmLTkyNTItOGI2Mzg4NTBhZTA1XkEyXkFqcGdeQXVyODE5NzE3OTE@._V1_UY67_CR0,0,45,67_AL_.jpg\" width=\"45\" height=\"67\" alt=\"M.S. Dhoni: The Untold Story\"/>\\n</a>    </td>\\n    <td class=\"titleColumn\">\\n      183.\\n      <a href=\"/title/tt4169250/\"\\ntitle=\"Neeraj Pandey (dir.), Sushant Singh Rajput, Kiara Advani\" >M.S. Dhoni: The Untold Story</a>\\n        <span class=\"secondaryInfo\">(2016)</span>\\n    </td>\\n    <td class=\"ratingColumn imdbRating\">\\n            <strong title=\"7.7 based on 40,191 user ratings\">7.7</strong>\\n    </td>\\n    <td class=\"ratingColumn\">\\n    <div class=\"seen-widget seen-widget-tt4169250 pending\" data-titleid=\"tt4169250\">\\n        <div class=\"boundary\">\\n            <div class=\"popover\">\\n<span class=\"delete\">&nbsp;</span><ol><li>1<li>2<li>3<li>4<li>5<li>6<li>7<li>8<li>9<li>10</ol>            </div>\\n        </div>\\n        <div class=\"inline\">\\n            <div class=\"pending\"></div>\\n            <div class=\"unseeable\">NOT YET RELEASED</div>\\n            <div class=\"unseen\"> </div>\\n            <div class=\"rating\"></div>\\n            <div class=\"seen\">Seen</div>\\n        </div>\\n    </div>\\n    </td>\\n    <td class=\"watchlistColumn\">\\n        <div class=\"wlb_ribbon\" data-tconst=\"tt4169250\" data-recordmetrics=\"true\"></div>\\n    </td>\\n  </tr>\\n\\n  <tr>\\n    <td class=\"posterColumn\">\\n\\n    <span name=\"rk\" data-value=\"184\"></span>\\n    <span name=\"ir\" data-value=\"7.663328088055021\"></span>\\n    <span name=\"us\" data-value=\"1.2193632E12\"></span>\\n    <span name=\"nv\" data-value=\"5878\"></span>\\n    <span name=\"ur\" data-value=\"-3.336671911944979\"></span>\\n<a href=\"/title/tt1266583/\"\\n> <img src=\"https://m.media-amazon.com/images/M/MV5BNTMwMmQ3YmYtODU3MS00NzRhLTkyZGEtM2Q5OWRlMGQxMzIyXkEyXkFqcGdeQXVyODE5NzE3OTE@._V1_UY67_CR3,0,45,67_AL_.jpg\" width=\"45\" height=\"67\" alt=\"Mumbai Meri Jaan\"/>\\n</a>    </td>\\n    <td class=\"titleColumn\">\\n      184.\\n      <a href=\"/title/tt1266583/\"\\ntitle=\"Nishikant Kamat (dir.), Paresh Rawal, Kay Kay Menon\" >Mumbai Meri Jaan</a>\\n        <span class=\"secondaryInfo\">(2008)</span>\\n    </td>\\n    <td class=\"ratingColumn imdbRating\">\\n            <strong title=\"7.7 based on 5,878 user ratings\">7.7</strong>\\n    </td>\\n    <td class=\"ratingColumn\">\\n    <div class=\"seen-widget seen-widget-tt1266583 pending\" data-titleid=\"tt1266583\">\\n        <div class=\"boundary\">\\n            <div class=\"popover\">\\n<span class=\"delete\">&nbsp;</span><ol><li>1<li>2<li>3<li>4<li>5<li>6<li>7<li>8<li>9<li>10</ol>            </div>\\n        </div>\\n        <div class=\"inline\">\\n            <div class=\"pending\"></div>\\n            <div class=\"unseeable\">NOT YET RELEASED</div>\\n            <div class=\"unseen\"> </div>\\n            <div class=\"rating\"></div>\\n            <div class=\"seen\">Seen</div>\\n        </div>\\n    </div>\\n    </td>\\n    <td class=\"watchlistColumn\">\\n        <div class=\"wlb_ribbon\" data-tconst=\"tt1266583\" data-recordmetrics=\"true\"></div>\\n    </td>\\n  </tr>\\n\\n  <tr>\\n    <td class=\"posterColumn\">\\n\\n    <span name=\"rk\" data-value=\"185\"></span>\\n    <span name=\"ir\" data-value=\"7.648272986284941\"></span>\\n    <span name=\"us\" data-value=\"1.3607136E12\"></span>\\n    <span name=\"nv\" data-value=\"32504\"></span>\\n    <span name=\"ur\" data-value=\"-3.3517270137150588\"></span>\\n<a href=\"/title/tt2213054/\"\\n> <img src=\"https://m.media-amazon.com/images/M/MV5BMTgwNTAwMjEzMF5BMl5BanBnXkFtZTcwNzMzODY4OA@@._V1_UY67_CR3,0,45,67_AL_.jpg\" width=\"45\" height=\"67\" alt=\"Kai po che!\"/>\\n</a>    </td>\\n    <td class=\"titleColumn\">\\n      185.\\n      <a href=\"/title/tt2213054/\"\\ntitle=\"Abhishek Kapoor (dir.), Amit Sadh, Sushant Singh Rajput\" >Kai po che!</a>\\n        <span class=\"secondaryInfo\">(2013)</span>\\n    </td>\\n    <td class=\"ratingColumn imdbRating\">\\n            <strong title=\"7.6 based on 32,504 user ratings\">7.6</strong>\\n    </td>\\n    <td class=\"ratingColumn\">\\n    <div class=\"seen-widget seen-widget-tt2213054 pending\" data-titleid=\"tt2213054\">\\n        <div class=\"boundary\">\\n            <div class=\"popover\">\\n<span class=\"delete\">&nbsp;</span><ol><li>1<li>2<li>3<li>4<li>5<li>6<li>7<li>8<li>9<li>10</ol>            </div>\\n        </div>\\n        <div class=\"inline\">\\n            <div class=\"pending\"></div>\\n            <div class=\"unseeable\">NOT YET RELEASED</div>\\n            <div class=\"unseen\"> </div>\\n            <div class=\"rating\"></div>\\n            <div class=\"seen\">Seen</div>\\n        </div>\\n    </div>\\n    </td>\\n    <td class=\"watchlistColumn\">\\n        <div class=\"wlb_ribbon\" data-tconst=\"tt2213054\" data-recordmetrics=\"true\"></div>\\n    </td>\\n  </tr>\\n\\n  <tr>\\n    <td class=\"posterColumn\">\\n\\n    <span name=\"rk\" data-value=\"186\"></span>\\n    <span name=\"ir\" data-value=\"7.639306162229857\"></span>\\n    <span name=\"us\" data-value=\"1.4581728E12\"></span>\\n    <span name=\"nv\" data-value=\"23234\"></span>\\n    <span name=\"ur\" data-value=\"-3.3606938377701434\"></span>\\n<a href=\"/title/tt4900716/\"\\n> <img src=\"https://m.media-amazon.com/images/M/MV5BMjE4NDk4MTIwNl5BMl5BanBnXkFtZTgwNDEwODI5NzE@._V1_UY67_CR1,0,45,67_AL_.jpg\" width=\"45\" height=\"67\" alt=\"Kapoor & Sons\"/>\\n</a>    </td>\\n    <td class=\"titleColumn\">\\n      186.\\n      <a href=\"/title/tt4900716/\"\\ntitle=\"Shakun Batra (dir.), Rishi Kapoor, Rajat Kapoor\" >Kapoor & Sons</a>\\n        <span class=\"secondaryInfo\">(2016)</span>\\n    </td>\\n    <td class=\"ratingColumn imdbRating\">\\n            <strong title=\"7.6 based on 23,234 user ratings\">7.6</strong>\\n    </td>\\n    <td class=\"ratingColumn\">\\n    <div class=\"seen-widget seen-widget-tt4900716 pending\" data-titleid=\"tt4900716\">\\n        <div class=\"boundary\">\\n            <div class=\"popover\">\\n<span class=\"delete\">&nbsp;</span><ol><li>1<li>2<li>3<li>4<li>5<li>6<li>7<li>8<li>9<li>10</ol>            </div>\\n        </div>\\n        <div class=\"inline\">\\n            <div class=\"pending\"></div>\\n            <div class=\"unseeable\">NOT YET RELEASED</div>\\n            <div class=\"unseen\"> </div>\\n            <div class=\"rating\"></div>\\n            <div class=\"seen\">Seen</div>\\n        </div>\\n    </div>\\n    </td>\\n    <td class=\"watchlistColumn\">\\n        <div class=\"wlb_ribbon\" data-tconst=\"tt4900716\" data-recordmetrics=\"true\"></div>\\n    </td>\\n  </tr>\\n\\n  <tr>\\n    <td class=\"posterColumn\">\\n\\n    <span name=\"rk\" data-value=\"187\"></span>\\n    <span name=\"ir\" data-value=\"7.6341444396227205\"></span>\\n    <span name=\"us\" data-value=\"1.3209696E12\"></span>\\n    <span name=\"nv\" data-value=\"39383\"></span>\\n    <span name=\"ur\" data-value=\"-3.3658555603772795\"></span>\\n<a href=\"/title/tt1839596/\"\\n> <img src=\"https://m.media-amazon.com/images/M/MV5BOTc3NzAxMjg4M15BMl5BanBnXkFtZTcwMDc2ODQwNw@@._V1_UY67_CR2,0,45,67_AL_.jpg\" width=\"45\" height=\"67\" alt=\"Rockstar\"/>\\n</a>    </td>\\n    <td class=\"titleColumn\">\\n      187.\\n      <a href=\"/title/tt1839596/\"\\ntitle=\"Imtiaz Ali (dir.), Ranbir Kapoor, Nargis Fakhri\" >Rockstar</a>\\n        <span class=\"secondaryInfo\">(2011)</span>\\n    </td>\\n    <td class=\"ratingColumn imdbRating\">\\n            <strong title=\"7.6 based on 39,383 user ratings\">7.6</strong>\\n    </td>\\n    <td class=\"ratingColumn\">\\n    <div class=\"seen-widget seen-widget-tt1839596 pending\" data-titleid=\"tt1839596\">\\n        <div class=\"boundary\">\\n            <div class=\"popover\">\\n<span class=\"delete\">&nbsp;</span><ol><li>1<li>2<li>3<li>4<li>5<li>6<li>7<li>8<li>9<li>10</ol>            </div>\\n        </div>\\n        <div class=\"inline\">\\n            <div class=\"pending\"></div>\\n            <div class=\"unseeable\">NOT YET RELEASED</div>\\n            <div class=\"unseen\"> </div>\\n            <div class=\"rating\"></div>\\n            <div class=\"seen\">Seen</div>\\n        </div>\\n    </div>\\n    </td>\\n    <td class=\"watchlistColumn\">\\n        <div class=\"wlb_ribbon\" data-tconst=\"tt1839596\" data-recordmetrics=\"true\"></div>\\n    </td>\\n  </tr>\\n\\n  <tr>\\n    <td class=\"posterColumn\">\\n\\n    <span name=\"rk\" data-value=\"188\"></span>\\n    <span name=\"ir\" data-value=\"7.631145953222436\"></span>\\n    <span name=\"us\" data-value=\"1.2127104E12\"></span>\\n    <span name=\"nv\" data-value=\"10630\"></span>\\n    <span name=\"ur\" data-value=\"-3.368854046777564\"></span>\\n<a href=\"/title/tt1241195/\"\\n> <img src=\"https://m.media-amazon.com/images/M/MV5BMGE3MzQ4YzYtNjU4My00ZjYxLTg2ZmYtMTg5OTU0N2QwYTc0XkEyXkFqcGdeQXVyODE5NzE3OTE@._V1_UY67_CR0,0,45,67_AL_.jpg\" width=\"45\" height=\"67\" alt=\"Aamir\"/>\\n</a>    </td>\\n    <td class=\"titleColumn\">\\n      188.\\n      <a href=\"/title/tt1241195/\"\\ntitle=\"Raj Kumar Gupta (dir.), Rajeev Khandelwal, Aishwarya\" >Aamir</a>\\n        <span class=\"secondaryInfo\">(2008)</span>\\n    </td>\\n    <td class=\"ratingColumn imdbRating\">\\n            <strong title=\"7.6 based on 10,630 user ratings\">7.6</strong>\\n    </td>\\n    <td class=\"ratingColumn\">\\n    <div class=\"seen-widget seen-widget-tt1241195 pending\" data-titleid=\"tt1241195\">\\n        <div class=\"boundary\">\\n            <div class=\"popover\">\\n<span class=\"delete\">&nbsp;</span><ol><li>1<li>2<li>3<li>4<li>5<li>6<li>7<li>8<li>9<li>10</ol>            </div>\\n        </div>\\n        <div class=\"inline\">\\n            <div class=\"pending\"></div>\\n            <div class=\"unseeable\">NOT YET RELEASED</div>\\n            <div class=\"unseen\"> </div>\\n            <div class=\"rating\"></div>\\n            <div class=\"seen\">Seen</div>\\n        </div>\\n    </div>\\n    </td>\\n    <td class=\"watchlistColumn\">\\n        <div class=\"wlb_ribbon\" data-tconst=\"tt1241195\" data-recordmetrics=\"true\"></div>\\n    </td>\\n  </tr>\\n\\n  <tr>\\n    <td class=\"posterColumn\">\\n\\n    <span name=\"rk\" data-value=\"189\"></span>\\n    <span name=\"ir\" data-value=\"7.629874669839653\"></span>\\n    <span name=\"us\" data-value=\"1.3414464E12\"></span>\\n    <span name=\"nv\" data-value=\"21339\"></span>\\n    <span name=\"ur\" data-value=\"-3.370125330160347\"></span>\\n<a href=\"/title/tt2258337/\"\\n> <img src=\"https://m.media-amazon.com/images/M/MV5BMjFmZjYwNGUtYzE1NC00YTllLThmZDctODc3NDExYTY3NTM3XkEyXkFqcGdeQXVyOTk3NTc2MzE@._V1_UX45_CR0,0,45,67_AL_.jpg\" width=\"45\" height=\"67\" alt=\"Eega\"/>\\n</a>    </td>\\n    <td class=\"titleColumn\">\\n      189.\\n      <a href=\"/title/tt2258337/\"\\ntitle=\"S.S. Rajamouli (dir.), Sudeep, Nani\" >Eega</a>\\n        <span class=\"secondaryInfo\">(2012)</span>\\n    </td>\\n    <td class=\"ratingColumn imdbRating\">\\n            <strong title=\"7.6 based on 21,339 user ratings\">7.6</strong>\\n    </td>\\n    <td class=\"ratingColumn\">\\n    <div class=\"seen-widget seen-widget-tt2258337 pending\" data-titleid=\"tt2258337\">\\n        <div class=\"boundary\">\\n            <div class=\"popover\">\\n<span class=\"delete\">&nbsp;</span><ol><li>1<li>2<li>3<li>4<li>5<li>6<li>7<li>8<li>9<li>10</ol>            </div>\\n        </div>\\n        <div class=\"inline\">\\n            <div class=\"pending\"></div>\\n            <div class=\"unseeable\">NOT YET RELEASED</div>\\n            <div class=\"unseen\"> </div>\\n            <div class=\"rating\"></div>\\n            <div class=\"seen\">Seen</div>\\n        </div>\\n    </div>\\n    </td>\\n    <td class=\"watchlistColumn\">\\n        <div class=\"wlb_ribbon\" data-tconst=\"tt2258337\" data-recordmetrics=\"true\"></div>\\n    </td>\\n  </tr>\\n\\n  <tr>\\n    <td class=\"posterColumn\">\\n\\n    <span name=\"rk\" data-value=\"190\"></span>\\n    <span name=\"ir\" data-value=\"7.626071035533359\"></span>\\n    <span name=\"us\" data-value=\"7.621344E11\"></span>\\n    <span name=\"nv\" data-value=\"17218\"></span>\\n    <span name=\"ur\" data-value=\"-3.373928964466641\"></span>\\n<a href=\"/title/tt0110222/\"\\n> <img src=\"https://m.media-amazon.com/images/M/MV5BYmFjYTRmMzctNWU5YS00MjY2LTg4Y2EtZDZkMWI0YjIzMjVlXkEyXkFqcGdeQXVyODE5NzE3OTE@._V1_UY67_CR1,0,45,67_AL_.jpg\" width=\"45\" height=\"67\" alt=\"Kabhi Haan Kabhi Naa\"/>\\n</a>    </td>\\n    <td class=\"titleColumn\">\\n      190.\\n      <a href=\"/title/tt0110222/\"\\ntitle=\"Kundan Shah (dir.), Shah Rukh Khan, Suchitra Krishnamoorthi\" >Kabhi Haan Kabhi Naa</a>\\n        <span class=\"secondaryInfo\">(1994)</span>\\n    </td>\\n    <td class=\"ratingColumn imdbRating\">\\n            <strong title=\"7.6 based on 17,218 user ratings\">7.6</strong>\\n    </td>\\n    <td class=\"ratingColumn\">\\n    <div class=\"seen-widget seen-widget-tt0110222 pending\" data-titleid=\"tt0110222\">\\n        <div class=\"boundary\">\\n            <div class=\"popover\">\\n<span class=\"delete\">&nbsp;</span><ol><li>1<li>2<li>3<li>4<li>5<li>6<li>7<li>8<li>9<li>10</ol>            </div>\\n        </div>\\n        <div class=\"inline\">\\n            <div class=\"pending\"></div>\\n            <div class=\"unseeable\">NOT YET RELEASED</div>\\n            <div class=\"unseen\"> </div>\\n            <div class=\"rating\"></div>\\n            <div class=\"seen\">Seen</div>\\n        </div>\\n    </div>\\n    </td>\\n    <td class=\"watchlistColumn\">\\n        <div class=\"wlb_ribbon\" data-tconst=\"tt0110222\" data-recordmetrics=\"true\"></div>\\n    </td>\\n  </tr>\\n\\n  <tr>\\n    <td class=\"posterColumn\">\\n\\n    <span name=\"rk\" data-value=\"191\"></span>\\n    <span name=\"ir\" data-value=\"7.624246101865979\"></span>\\n    <span name=\"us\" data-value=\"7.566912E11\"></span>\\n    <span name=\"nv\" data-value=\"22132\"></span>\\n    <span name=\"ur\" data-value=\"-3.375753898134021\"></span>\\n<a href=\"/title/tt0109555/\"\\n> <img src=\"https://m.media-amazon.com/images/M/MV5BYTczYzgzNmUtZDBkOC00Mjg5LThmOWQtYjYzNjFjNzlhYmEyXkEyXkFqcGdeQXVyNTkzNDQ4ODc@._V1_UY67_CR2,0,45,67_AL_.jpg\" width=\"45\" height=\"67\" alt=\"Darr\"/>\\n</a>    </td>\\n    <td class=\"titleColumn\">\\n      191.\\n      <a href=\"/title/tt0109555/\"\\ntitle=\"Yash Chopra (dir.), Juhi Chawla, Sunny Deol\" >Darr</a>\\n        <span class=\"secondaryInfo\">(1993)</span>\\n    </td>\\n    <td class=\"ratingColumn imdbRating\">\\n            <strong title=\"7.6 based on 22,132 user ratings\">7.6</strong>\\n    </td>\\n    <td class=\"ratingColumn\">\\n    <div class=\"seen-widget seen-widget-tt0109555 pending\" data-titleid=\"tt0109555\">\\n        <div class=\"boundary\">\\n            <div class=\"popover\">\\n<span class=\"delete\">&nbsp;</span><ol><li>1<li>2<li>3<li>4<li>5<li>6<li>7<li>8<li>9<li>10</ol>            </div>\\n        </div>\\n        <div class=\"inline\">\\n            <div class=\"pending\"></div>\\n            <div class=\"unseeable\">NOT YET RELEASED</div>\\n            <div class=\"unseen\"> </div>\\n            <div class=\"rating\"></div>\\n            <div class=\"seen\">Seen</div>\\n        </div>\\n    </div>\\n    </td>\\n    <td class=\"watchlistColumn\">\\n        <div class=\"wlb_ribbon\" data-tconst=\"tt0109555\" data-recordmetrics=\"true\"></div>\\n    </td>\\n  </tr>\\n\\n  <tr>\\n    <td class=\"posterColumn\">\\n\\n    <span name=\"rk\" data-value=\"192\"></span>\\n    <span name=\"ir\" data-value=\"7.622384719704599\"></span>\\n    <span name=\"us\" data-value=\"1.4866848E12\"></span>\\n    <span name=\"nv\" data-value=\"16667\"></span>\\n    <span name=\"ur\" data-value=\"-3.3776152802954007\"></span>\\n<a href=\"/title/tt6484982/\"\\n> <img src=\"https://m.media-amazon.com/images/M/MV5BMDk4Y2Q2MmUtYjE1YS00NjEwLTg0ZGYtOGJkZjUzOTllYzA0L2ltYWdlXkEyXkFqcGdeQXVyNzA0MTg0MzE@._V1_UY67_CR0,0,45,67_AL_.jpg\" width=\"45\" height=\"67\" alt=\"Newton\"/>\\n</a>    </td>\\n    <td class=\"titleColumn\">\\n      192.\\n      <a href=\"/title/tt6484982/\"\\ntitle=\"Amit Masurkar (dir.), Rajkummar Rao, Pankaj Tripathi\" >Newton</a>\\n        <span class=\"secondaryInfo\">(2017)</span>\\n    </td>\\n    <td class=\"ratingColumn imdbRating\">\\n            <strong title=\"7.6 based on 16,667 user ratings\">7.6</strong>\\n    </td>\\n    <td class=\"ratingColumn\">\\n    <div class=\"seen-widget seen-widget-tt6484982 pending\" data-titleid=\"tt6484982\">\\n        <div class=\"boundary\">\\n            <div class=\"popover\">\\n<span class=\"delete\">&nbsp;</span><ol><li>1<li>2<li>3<li>4<li>5<li>6<li>7<li>8<li>9<li>10</ol>            </div>\\n        </div>\\n        <div class=\"inline\">\\n            <div class=\"pending\"></div>\\n            <div class=\"unseeable\">NOT YET RELEASED</div>\\n            <div class=\"unseen\"> </div>\\n            <div class=\"rating\"></div>\\n            <div class=\"seen\">Seen</div>\\n        </div>\\n    </div>\\n    </td>\\n    <td class=\"watchlistColumn\">\\n        <div class=\"wlb_ribbon\" data-tconst=\"tt6484982\" data-recordmetrics=\"true\"></div>\\n    </td>\\n  </tr>\\n\\n  <tr>\\n    <td class=\"posterColumn\">\\n\\n    <span name=\"rk\" data-value=\"193\"></span>\\n    <span name=\"ir\" data-value=\"7.6153441485652476\"></span>\\n    <span name=\"us\" data-value=\"1.4624064E12\"></span>\\n    <span name=\"nv\" data-value=\"17267\"></span>\\n    <span name=\"ur\" data-value=\"-3.3846558514347524\"></span>\\n<a href=\"/title/tt4981966/\"\\n> <img src=\"https://m.media-amazon.com/images/M/MV5BMGU2Y2JhZmItMDU4Ni00NDA4LTg0MGMtYjlkZWMwMDdiZWE0XkEyXkFqcGdeQXVyOTA0NTIzNzU@._V1_UX45_CR0,0,45,67_AL_.jpg\" width=\"45\" height=\"67\" alt=\"24\"/>\\n</a>    </td>\\n    <td class=\"titleColumn\">\\n      193.\\n      <a href=\"/title/tt4981966/\"\\ntitle=\"Vikram K. Kumar (dir.), Suriya, Samantha Ruth Prabhu\" >24</a>\\n        <span class=\"secondaryInfo\">(2016)</span>\\n    </td>\\n    <td class=\"ratingColumn imdbRating\">\\n            <strong title=\"7.6 based on 17,267 user ratings\">7.6</strong>\\n    </td>\\n    <td class=\"ratingColumn\">\\n    <div class=\"seen-widget seen-widget-tt4981966 pending\" data-titleid=\"tt4981966\">\\n        <div class=\"boundary\">\\n            <div class=\"popover\">\\n<span class=\"delete\">&nbsp;</span><ol><li>1<li>2<li>3<li>4<li>5<li>6<li>7<li>8<li>9<li>10</ol>            </div>\\n        </div>\\n        <div class=\"inline\">\\n            <div class=\"pending\"></div>\\n            <div class=\"unseeable\">NOT YET RELEASED</div>\\n            <div class=\"unseen\"> </div>\\n            <div class=\"rating\"></div>\\n            <div class=\"seen\">Seen</div>\\n        </div>\\n    </div>\\n    </td>\\n    <td class=\"watchlistColumn\">\\n        <div class=\"wlb_ribbon\" data-tconst=\"tt4981966\" data-recordmetrics=\"true\"></div>\\n    </td>\\n  </tr>\\n\\n  <tr>\\n    <td class=\"posterColumn\">\\n\\n    <span name=\"rk\" data-value=\"194\"></span>\\n    <span name=\"ir\" data-value=\"7.6147333714739505\"></span>\\n    <span name=\"us\" data-value=\"1.3929408E12\"></span>\\n    <span name=\"nv\" data-value=\"5134\"></span>\\n    <span name=\"ur\" data-value=\"-3.3852666285260495\"></span>\\n<a href=\"/title/tt3320542/\"\\n> <img src=\"https://m.media-amazon.com/images/M/MV5BNDNhMTkzYzUtODVlOS00YzQ3LThiYmQtMTNjYzExODJjODZhXkEyXkFqcGdeQXVyOTk3NTc2MzE@._V1_UY67_CR0,0,45,67_AL_.jpg\" width=\"45\" height=\"67\" alt=\"Ugramm\"/>\\n</a>    </td>\\n    <td class=\"titleColumn\">\\n      194.\\n      <a href=\"/title/tt3320542/\"\\ntitle=\"Prashanth Neel (dir.), Sri Murali, Haripriya\" >Ugramm</a>\\n        <span class=\"secondaryInfo\">(2014)</span>\\n    </td>\\n    <td class=\"ratingColumn imdbRating\">\\n            <strong title=\"7.6 based on 5,134 user ratings\">7.6</strong>\\n    </td>\\n    <td class=\"ratingColumn\">\\n    <div class=\"seen-widget seen-widget-tt3320542 pending\" data-titleid=\"tt3320542\">\\n        <div class=\"boundary\">\\n            <div class=\"popover\">\\n<span class=\"delete\">&nbsp;</span><ol><li>1<li>2<li>3<li>4<li>5<li>6<li>7<li>8<li>9<li>10</ol>            </div>\\n        </div>\\n        <div class=\"inline\">\\n            <div class=\"pending\"></div>\\n            <div class=\"unseeable\">NOT YET RELEASED</div>\\n            <div class=\"unseen\"> </div>\\n            <div class=\"rating\"></div>\\n            <div class=\"seen\">Seen</div>\\n        </div>\\n    </div>\\n    </td>\\n    <td class=\"watchlistColumn\">\\n        <div class=\"wlb_ribbon\" data-tconst=\"tt3320542\" data-recordmetrics=\"true\"></div>\\n    </td>\\n  </tr>\\n\\n  <tr>\\n    <td class=\"posterColumn\">\\n\\n    <span name=\"rk\" data-value=\"195\"></span>\\n    <span name=\"ir\" data-value=\"7.614459460150351\"></span>\\n    <span name=\"us\" data-value=\"9.05904E11\"></span>\\n    <span name=\"nv\" data-value=\"7419\"></span>\\n    <span name=\"ur\" data-value=\"-3.385540539849649\"></span>\\n<a href=\"/title/tt0150433/\"\\n> <img src=\"https://m.media-amazon.com/images/M/MV5BNDE4YmFkMzItMWIwMy00MTFmLTkxNjAtMGQxZjg5MjNhMmJkXkEyXkFqcGdeQXVyNTM0NTU5Mg@@._V1_UY67_CR0,0,45,67_AL_.jpg\" width=\"45\" height=\"67\" alt=\"Earth\"/>\\n</a>    </td>\\n    <td class=\"titleColumn\">\\n      195.\\n      <a href=\"/title/tt0150433/\"\\ntitle=\"Deepa Mehta (dir.), Aamir Khan, Nandita Das\" >Earth</a>\\n        <span class=\"secondaryInfo\">(1998)</span>\\n    </td>\\n    <td class=\"ratingColumn imdbRating\">\\n            <strong title=\"7.6 based on 7,419 user ratings\">7.6</strong>\\n    </td>\\n    <td class=\"ratingColumn\">\\n    <div class=\"seen-widget seen-widget-tt0150433 pending\" data-titleid=\"tt0150433\">\\n        <div class=\"boundary\">\\n            <div class=\"popover\">\\n<span class=\"delete\">&nbsp;</span><ol><li>1<li>2<li>3<li>4<li>5<li>6<li>7<li>8<li>9<li>10</ol>            </div>\\n        </div>\\n        <div class=\"inline\">\\n            <div class=\"pending\"></div>\\n            <div class=\"unseeable\">NOT YET RELEASED</div>\\n            <div class=\"unseen\"> </div>\\n            <div class=\"rating\"></div>\\n            <div class=\"seen\">Seen</div>\\n        </div>\\n    </div>\\n    </td>\\n    <td class=\"watchlistColumn\">\\n        <div class=\"wlb_ribbon\" data-tconst=\"tt0150433\" data-recordmetrics=\"true\"></div>\\n    </td>\\n  </tr>\\n\\n  <tr>\\n    <td class=\"posterColumn\">\\n\\n    <span name=\"rk\" data-value=\"196\"></span>\\n    <span name=\"ir\" data-value=\"7.611025151333629\"></span>\\n    <span name=\"us\" data-value=\"1.377216E12\"></span>\\n    <span name=\"nv\" data-value=\"22835\"></span>\\n    <span name=\"ur\" data-value=\"-3.388974848666371\"></span>\\n<a href=\"/title/tt2855648/\"\\n> <img src=\"https://m.media-amazon.com/images/M/MV5BMTg1MzU5ODM4Nl5BMl5BanBnXkFtZTcwOTQ3MTM5OQ@@._V1_UY67_CR0,0,45,67_AL_.jpg\" width=\"45\" height=\"67\" alt=\"Madras Cafe\"/>\\n</a>    </td>\\n    <td class=\"titleColumn\">\\n      196.\\n      <a href=\"/title/tt2855648/\"\\ntitle=\"Shoojit Sircar (dir.), Nargis Fakhri, John Abraham\" >Madras Cafe</a>\\n        <span class=\"secondaryInfo\">(2013)</span>\\n    </td>\\n    <td class=\"ratingColumn imdbRating\">\\n            <strong title=\"7.6 based on 22,835 user ratings\">7.6</strong>\\n    </td>\\n    <td class=\"ratingColumn\">\\n    <div class=\"seen-widget seen-widget-tt2855648 pending\" data-titleid=\"tt2855648\">\\n        <div class=\"boundary\">\\n            <div class=\"popover\">\\n<span class=\"delete\">&nbsp;</span><ol><li>1<li>2<li>3<li>4<li>5<li>6<li>7<li>8<li>9<li>10</ol>            </div>\\n        </div>\\n        <div class=\"inline\">\\n            <div class=\"pending\"></div>\\n            <div class=\"unseeable\">NOT YET RELEASED</div>\\n            <div class=\"unseen\"> </div>\\n            <div class=\"rating\"></div>\\n            <div class=\"seen\">Seen</div>\\n        </div>\\n    </div>\\n    </td>\\n    <td class=\"watchlistColumn\">\\n        <div class=\"wlb_ribbon\" data-tconst=\"tt2855648\" data-recordmetrics=\"true\"></div>\\n    </td>\\n  </tr>\\n\\n  <tr>\\n    <td class=\"posterColumn\">\\n\\n    <span name=\"rk\" data-value=\"197\"></span>\\n    <span name=\"ir\" data-value=\"7.610497362683136\"></span>\\n    <span name=\"us\" data-value=\"6.351264E11\"></span>\\n    <span name=\"nv\" data-value=\"8292\"></span>\\n    <span name=\"ur\" data-value=\"-3.3895026373168644\"></span>\\n<a href=\"/title/tt0098999/\"\\n> <img src=\"https://m.media-amazon.com/images/M/MV5BOGIyNGNhN2EtYTZiNC00MDJjLWI2M2ItZjA1MTBlYmNiODNlXkEyXkFqcGdeQXVyODE5NzE3OTE@._V1_UY67_CR3,0,45,67_AL_.jpg\" width=\"45\" height=\"67\" alt=\"Agneepath\"/>\\n</a>    </td>\\n    <td class=\"titleColumn\">\\n      197.\\n      <a href=\"/title/tt0098999/\"\\ntitle=\"Mukul Anand (dir.), Amitabh Bachchan, Mithun Chakraborty\" >Agneepath</a>\\n        <span class=\"secondaryInfo\">(1990)</span>\\n    </td>\\n    <td class=\"ratingColumn imdbRating\">\\n            <strong title=\"7.6 based on 8,292 user ratings\">7.6</strong>\\n    </td>\\n    <td class=\"ratingColumn\">\\n    <div class=\"seen-widget seen-widget-tt0098999 pending\" data-titleid=\"tt0098999\">\\n        <div class=\"boundary\">\\n            <div class=\"popover\">\\n<span class=\"delete\">&nbsp;</span><ol><li>1<li>2<li>3<li>4<li>5<li>6<li>7<li>8<li>9<li>10</ol>            </div>\\n        </div>\\n        <div class=\"inline\">\\n            <div class=\"pending\"></div>\\n            <div class=\"unseeable\">NOT YET RELEASED</div>\\n            <div class=\"unseen\"> </div>\\n            <div class=\"rating\"></div>\\n            <div class=\"seen\">Seen</div>\\n        </div>\\n    </div>\\n    </td>\\n    <td class=\"watchlistColumn\">\\n        <div class=\"wlb_ribbon\" data-tconst=\"tt0098999\" data-recordmetrics=\"true\"></div>\\n    </td>\\n  </tr>\\n\\n  <tr>\\n    <td class=\"posterColumn\">\\n\\n    <span name=\"rk\" data-value=\"198\"></span>\\n    <span name=\"ir\" data-value=\"7.608221589206049\"></span>\\n    <span name=\"us\" data-value=\"1.3058496E12\"></span>\\n    <span name=\"nv\" data-value=\"19900\"></span>\\n    <span name=\"ur\" data-value=\"-3.3917784107939513\"></span>\\n<a href=\"/title/tt1926313/\"\\n> <img src=\"https://m.media-amazon.com/images/M/MV5BNDI4MmJkM2ItYjZjMC00MzYxLWIwZWEtYzE5YWZhYmExM2I5XkEyXkFqcGdeQXVyODE5NzE3OTE@._V1_UY67_CR0,0,45,67_AL_.jpg\" width=\"45\" height=\"67\" alt=\"Pyaar Ka Punchnama\"/>\\n</a>    </td>\\n    <td class=\"titleColumn\">\\n      198.\\n      <a href=\"/title/tt1926313/\"\\ntitle=\"Luv Ranjan (dir.), Kartik Aaryan, Raayo S. Bakhirta\" >Pyaar Ka Punchnama</a>\\n        <span class=\"secondaryInfo\">(2011)</span>\\n    </td>\\n    <td class=\"ratingColumn imdbRating\">\\n            <strong title=\"7.6 based on 19,900 user ratings\">7.6</strong>\\n    </td>\\n    <td class=\"ratingColumn\">\\n    <div class=\"seen-widget seen-widget-tt1926313 pending\" data-titleid=\"tt1926313\">\\n        <div class=\"boundary\">\\n            <div class=\"popover\">\\n<span class=\"delete\">&nbsp;</span><ol><li>1<li>2<li>3<li>4<li>5<li>6<li>7<li>8<li>9<li>10</ol>            </div>\\n        </div>\\n        <div class=\"inline\">\\n            <div class=\"pending\"></div>\\n            <div class=\"unseeable\">NOT YET RELEASED</div>\\n            <div class=\"unseen\"> </div>\\n            <div class=\"rating\"></div>\\n            <div class=\"seen\">Seen</div>\\n        </div>\\n    </div>\\n    </td>\\n    <td class=\"watchlistColumn\">\\n        <div class=\"wlb_ribbon\" data-tconst=\"tt1926313\" data-recordmetrics=\"true\"></div>\\n    </td>\\n  </tr>\\n\\n  <tr>\\n    <td class=\"posterColumn\">\\n\\n    <span name=\"rk\" data-value=\"199\"></span>\\n    <span name=\"ir\" data-value=\"7.605032242155785\"></span>\\n    <span name=\"us\" data-value=\"1.120176E12\"></span>\\n    <span name=\"nv\" data-value=\"15695\"></span>\\n    <span name=\"ur\" data-value=\"-3.3949677578442152\"></span>\\n<a href=\"/title/tt0432047/\"\\n> <img src=\"https://m.media-amazon.com/images/M/MV5BZTYwNGU2YzQtMDRjNS00MjlmLTk1MDEtMjBmYWQ3ZjY0NWRjXkEyXkFqcGdeQXVyNjQ2MjQ5NzM@._V1_UY67_CR2,0,45,67_AL_.jpg\" width=\"45\" height=\"67\" alt=\"Sarkar\"/>\\n</a>    </td>\\n    <td class=\"titleColumn\">\\n      199.\\n      <a href=\"/title/tt0432047/\"\\ntitle=\"Ram Gopal Varma (dir.), Amitabh Bachchan, Abhishek Bachchan\" >Sarkar</a>\\n        <span class=\"secondaryInfo\">(2005)</span>\\n    </td>\\n    <td class=\"ratingColumn imdbRating\">\\n            <strong title=\"7.6 based on 15,695 user ratings\">7.6</strong>\\n    </td>\\n    <td class=\"ratingColumn\">\\n    <div class=\"seen-widget seen-widget-tt0432047 pending\" data-titleid=\"tt0432047\">\\n        <div class=\"boundary\">\\n            <div class=\"popover\">\\n<span class=\"delete\">&nbsp;</span><ol><li>1<li>2<li>3<li>4<li>5<li>6<li>7<li>8<li>9<li>10</ol>            </div>\\n        </div>\\n        <div class=\"inline\">\\n            <div class=\"pending\"></div>\\n            <div class=\"unseeable\">NOT YET RELEASED</div>\\n            <div class=\"unseen\"> </div>\\n            <div class=\"rating\"></div>\\n            <div class=\"seen\">Seen</div>\\n        </div>\\n    </div>\\n    </td>\\n    <td class=\"watchlistColumn\">\\n        <div class=\"wlb_ribbon\" data-tconst=\"tt0432047\" data-recordmetrics=\"true\"></div>\\n    </td>\\n  </tr>\\n\\n  <tr>\\n    <td class=\"posterColumn\">\\n\\n    <span name=\"rk\" data-value=\"200\"></span>\\n    <span name=\"ir\" data-value=\"7.6048847705048965\"></span>\\n    <span name=\"us\" data-value=\"1.45584E12\"></span>\\n    <span name=\"nv\" data-value=\"20909\"></span>\\n    <span name=\"ur\" data-value=\"-3.3951152294951035\"></span>\\n<a href=\"/title/tt5286444/\"\\n> <img src=\"https://m.media-amazon.com/images/M/MV5BZDhjM2E0OWMtOTA0Yy00NTNhLWEwNTEtZjhkNjNmNTdiZDA2XkEyXkFqcGdeQXVyODE5NzE3OTE@._V1_UY67_CR0,0,45,67_AL_.jpg\" width=\"45\" height=\"67\" alt=\"Neerja\"/>\\n</a>    </td>\\n    <td class=\"titleColumn\">\\n      200.\\n      <a href=\"/title/tt5286444/\"\\ntitle=\"Ram Madhvani (dir.), Sonam Kapoor, Shabana Azmi\" >Neerja</a>\\n        <span class=\"secondaryInfo\">(2016)</span>\\n    </td>\\n    <td class=\"ratingColumn imdbRating\">\\n            <strong title=\"7.6 based on 20,909 user ratings\">7.6</strong>\\n    </td>\\n    <td class=\"ratingColumn\">\\n    <div class=\"seen-widget seen-widget-tt5286444 pending\" data-titleid=\"tt5286444\">\\n        <div class=\"boundary\">\\n            <div class=\"popover\">\\n<span class=\"delete\">&nbsp;</span><ol><li>1<li>2<li>3<li>4<li>5<li>6<li>7<li>8<li>9<li>10</ol>            </div>\\n        </div>\\n        <div class=\"inline\">\\n            <div class=\"pending\"></div>\\n            <div class=\"unseeable\">NOT YET RELEASED</div>\\n            <div class=\"unseen\"> </div>\\n            <div class=\"rating\"></div>\\n            <div class=\"seen\">Seen</div>\\n        </div>\\n    </div>\\n    </td>\\n    <td class=\"watchlistColumn\">\\n        <div class=\"wlb_ribbon\" data-tconst=\"tt5286444\" data-recordmetrics=\"true\"></div>\\n    </td>\\n  </tr>\\n\\n  <tr>\\n    <td class=\"posterColumn\">\\n\\n    <span name=\"rk\" data-value=\"201\"></span>\\n    <span name=\"ir\" data-value=\"7.5967987445284635\"></span>\\n    <span name=\"us\" data-value=\"1.1764224E12\"></span>\\n    <span name=\"nv\" data-value=\"11191\"></span>\\n    <span name=\"ur\" data-value=\"-3.4032012554715365\"></span>\\n<a href=\"/title/tt1014672/\"\\n> <img src=\"https://m.media-amazon.com/images/M/MV5BODUzZmQ0YjMtZjVhYi00ODc1LWJjNWQtY2JjM2RmM2ZmMmI2XkEyXkFqcGdeQXVyODE5NzE3OTE@._V1_UY67_CR1,0,45,67_AL_.jpg\" width=\"45\" height=\"67\" alt=\"Bheja Fry\"/>\\n</a>    </td>\\n    <td class=\"titleColumn\">\\n      201.\\n      <a href=\"/title/tt1014672/\"\\ntitle=\"Sagar Ballary (dir.), Vinay Pathak, Rajat Kapoor\" >Bheja Fry</a>\\n        <span class=\"secondaryInfo\">(2007)</span>\\n    </td>\\n    <td class=\"ratingColumn imdbRating\">\\n            <strong title=\"7.6 based on 11,191 user ratings\">7.6</strong>\\n    </td>\\n    <td class=\"ratingColumn\">\\n    <div class=\"seen-widget seen-widget-tt1014672 pending\" data-titleid=\"tt1014672\">\\n        <div class=\"boundary\">\\n            <div class=\"popover\">\\n<span class=\"delete\">&nbsp;</span><ol><li>1<li>2<li>3<li>4<li>5<li>6<li>7<li>8<li>9<li>10</ol>            </div>\\n        </div>\\n        <div class=\"inline\">\\n            <div class=\"pending\"></div>\\n            <div class=\"unseeable\">NOT YET RELEASED</div>\\n            <div class=\"unseen\"> </div>\\n            <div class=\"rating\"></div>\\n            <div class=\"seen\">Seen</div>\\n        </div>\\n    </div>\\n    </td>\\n    <td class=\"watchlistColumn\">\\n        <div class=\"wlb_ribbon\" data-tconst=\"tt1014672\" data-recordmetrics=\"true\"></div>\\n    </td>\\n  </tr>\\n\\n  <tr>\\n    <td class=\"posterColumn\">\\n\\n    <span name=\"rk\" data-value=\"202\"></span>\\n    <span name=\"ir\" data-value=\"7.587931104140307\"></span>\\n    <span name=\"us\" data-value=\"1.5550272E12\"></span>\\n    <span name=\"nv\" data-value=\"8845\"></span>\\n    <span name=\"ur\" data-value=\"-3.4120688958596928\"></span>\\n<a href=\"/title/tt8108268/\"\\n> <img src=\"https://m.media-amazon.com/images/M/MV5BYzk3NWM2MmItZGU5NS00MGEwLWIzYzMtMDkyZDQ1NTc2MTAxXkEyXkFqcGdeQXVyNjE1OTQ0NjA@._V1_UX45_CR0,0,45,67_AL_.jpg\" width=\"45\" height=\"67\" alt=\"The Tashkent Files\"/>\\n</a>    </td>\\n    <td class=\"titleColumn\">\\n      202.\\n      <a href=\"/title/tt8108268/\"\\ntitle=\"Vivek Agnihotri (dir.), Shweta Basu Prasad, Mithun Chakraborty\" >The Tashkent Files</a>\\n        <span class=\"secondaryInfo\">(2019)</span>\\n    </td>\\n    <td class=\"ratingColumn imdbRating\">\\n            <strong title=\"7.6 based on 8,845 user ratings\">7.6</strong>\\n    </td>\\n    <td class=\"ratingColumn\">\\n    <div class=\"seen-widget seen-widget-tt8108268 pending\" data-titleid=\"tt8108268\">\\n        <div class=\"boundary\">\\n            <div class=\"popover\">\\n<span class=\"delete\">&nbsp;</span><ol><li>1<li>2<li>3<li>4<li>5<li>6<li>7<li>8<li>9<li>10</ol>            </div>\\n        </div>\\n        <div class=\"inline\">\\n            <div class=\"pending\"></div>\\n            <div class=\"unseeable\">NOT YET RELEASED</div>\\n            <div class=\"unseen\"> </div>\\n            <div class=\"rating\"></div>\\n            <div class=\"seen\">Seen</div>\\n        </div>\\n    </div>\\n    </td>\\n    <td class=\"watchlistColumn\">\\n        <div class=\"wlb_ribbon\" data-tconst=\"tt8108268\" data-recordmetrics=\"true\"></div>\\n    </td>\\n  </tr>\\n\\n  <tr>\\n    <td class=\"posterColumn\">\\n\\n    <span name=\"rk\" data-value=\"203\"></span>\\n    <span name=\"ir\" data-value=\"7.586336831884876\"></span>\\n    <span name=\"us\" data-value=\"1.3922496E12\"></span>\\n    <span name=\"nv\" data-value=\"26439\"></span>\\n    <span name=\"ur\" data-value=\"-3.413663168115124\"></span>\\n<a href=\"/title/tt2980794/\"\\n> <img src=\"https://m.media-amazon.com/images/M/MV5BMjE5NjkyNTczM15BMl5BanBnXkFtZTgwNDg4MzE5MDE@._V1_UY67_CR0,0,45,67_AL_.jpg\" width=\"45\" height=\"67\" alt=\"Highway\"/>\\n</a>    </td>\\n    <td class=\"titleColumn\">\\n      203.\\n      <a href=\"/title/tt2980794/\"\\ntitle=\"Imtiaz Ali (dir.), Alia Bhatt, Randeep Hooda\" >Highway</a>\\n        <span class=\"secondaryInfo\">(2014)</span>\\n    </td>\\n    <td class=\"ratingColumn imdbRating\">\\n            <strong title=\"7.6 based on 26,439 user ratings\">7.6</strong>\\n    </td>\\n    <td class=\"ratingColumn\">\\n    <div class=\"seen-widget seen-widget-tt2980794 pending\" data-titleid=\"tt2980794\">\\n        <div class=\"boundary\">\\n            <div class=\"popover\">\\n<span class=\"delete\">&nbsp;</span><ol><li>1<li>2<li>3<li>4<li>5<li>6<li>7<li>8<li>9<li>10</ol>            </div>\\n        </div>\\n        <div class=\"inline\">\\n            <div class=\"pending\"></div>\\n            <div class=\"unseeable\">NOT YET RELEASED</div>\\n            <div class=\"unseen\"> </div>\\n            <div class=\"rating\"></div>\\n            <div class=\"seen\">Seen</div>\\n        </div>\\n    </div>\\n    </td>\\n    <td class=\"watchlistColumn\">\\n        <div class=\"wlb_ribbon\" data-tconst=\"tt2980794\" data-recordmetrics=\"true\"></div>\\n    </td>\\n  </tr>\\n\\n  <tr>\\n    <td class=\"posterColumn\">\\n\\n    <span name=\"rk\" data-value=\"204\"></span>\\n    <span name=\"ir\" data-value=\"7.581964278963753\"></span>\\n    <span name=\"us\" data-value=\"1.3527648E12\"></span>\\n    <span name=\"nv\" data-value=\"24341\"></span>\\n    <span name=\"ur\" data-value=\"-3.4180357210362473\"></span>\\n<a href=\"/title/tt2187153/\"\\n> <img src=\"https://m.media-amazon.com/images/M/MV5BZjQxYjVkYzQtMmEzNy00MzM1LWE4OTUtZTc0NTdkMjBiOGZiXkEyXkFqcGdeQXVyODE0NjUxNzY@._V1_UX45_CR0,0,45,67_AL_.jpg\" width=\"45\" height=\"67\" alt=\"Thuppakki\"/>\\n</a>    </td>\\n    <td class=\"titleColumn\">\\n      204.\\n      <a href=\"/title/tt2187153/\"\\ntitle=\"A.R. Murugadoss (dir.), Joseph Vijay, Kajal Aggarwal\" >Thuppakki</a>\\n        <span class=\"secondaryInfo\">(2012)</span>\\n    </td>\\n    <td class=\"ratingColumn imdbRating\">\\n            <strong title=\"7.6 based on 24,341 user ratings\">7.6</strong>\\n    </td>\\n    <td class=\"ratingColumn\">\\n    <div class=\"seen-widget seen-widget-tt2187153 pending\" data-titleid=\"tt2187153\">\\n        <div class=\"boundary\">\\n            <div class=\"popover\">\\n<span class=\"delete\">&nbsp;</span><ol><li>1<li>2<li>3<li>4<li>5<li>6<li>7<li>8<li>9<li>10</ol>            </div>\\n        </div>\\n        <div class=\"inline\">\\n            <div class=\"pending\"></div>\\n            <div class=\"unseeable\">NOT YET RELEASED</div>\\n            <div class=\"unseen\"> </div>\\n            <div class=\"rating\"></div>\\n            <div class=\"seen\">Seen</div>\\n        </div>\\n    </div>\\n    </td>\\n    <td class=\"watchlistColumn\">\\n        <div class=\"wlb_ribbon\" data-tconst=\"tt2187153\" data-recordmetrics=\"true\"></div>\\n    </td>\\n  </tr>\\n\\n  <tr>\\n    <td class=\"posterColumn\">\\n\\n    <span name=\"rk\" data-value=\"205\"></span>\\n    <span name=\"ir\" data-value=\"7.577099940565382\"></span>\\n    <span name=\"us\" data-value=\"1.1903328E12\"></span>\\n    <span name=\"nv\" data-value=\"7205\"></span>\\n    <span name=\"ur\" data-value=\"-3.4229000594346184\"></span>\\n<a href=\"/title/tt0920464/\"\\n> <img src=\"https://m.media-amazon.com/images/M/MV5BOGNjN2M4MDItMzc3YS00ZjdiLTlhMDMtYjk0OWQzMzc1ZjRiXkEyXkFqcGdeQXVyNDUzOTQ5MjY@._V1_UY67_CR1,0,45,67_AL_.jpg\" width=\"45\" height=\"67\" alt=\"Manorama: Six Feet Under\"/>\\n</a>    </td>\\n    <td class=\"titleColumn\">\\n      205.\\n      <a href=\"/title/tt0920464/\"\\ntitle=\"Navdeep Singh (dir.), Abhay Deol, Gul Panag\" >Manorama: Six Feet Under</a>\\n        <span class=\"secondaryInfo\">(2007)</span>\\n    </td>\\n    <td class=\"ratingColumn imdbRating\">\\n            <strong title=\"7.6 based on 7,205 user ratings\">7.6</strong>\\n    </td>\\n    <td class=\"ratingColumn\">\\n    <div class=\"seen-widget seen-widget-tt0920464 pending\" data-titleid=\"tt0920464\">\\n        <div class=\"boundary\">\\n            <div class=\"popover\">\\n<span class=\"delete\">&nbsp;</span><ol><li>1<li>2<li>3<li>4<li>5<li>6<li>7<li>8<li>9<li>10</ol>            </div>\\n        </div>\\n        <div class=\"inline\">\\n            <div class=\"pending\"></div>\\n            <div class=\"unseeable\">NOT YET RELEASED</div>\\n            <div class=\"unseen\"> </div>\\n            <div class=\"rating\"></div>\\n            <div class=\"seen\">Seen</div>\\n        </div>\\n    </div>\\n    </td>\\n    <td class=\"watchlistColumn\">\\n        <div class=\"wlb_ribbon\" data-tconst=\"tt0920464\" data-recordmetrics=\"true\"></div>\\n    </td>\\n  </tr>\\n\\n  <tr>\\n    <td class=\"posterColumn\">\\n\\n    <span name=\"rk\" data-value=\"206\"></span>\\n    <span name=\"ir\" data-value=\"7.573973753548448\"></span>\\n    <span name=\"us\" data-value=\"1.4279328E12\"></span>\\n    <span name=\"nv\" data-value=\"19864\"></span>\\n    <span name=\"ur\" data-value=\"-3.426026246451552\"></span>\\n<a href=\"/title/tt3447364/\"\\n> <img src=\"https://m.media-amazon.com/images/M/MV5BMjE2MDgyOTgzN15BMl5BanBnXkFtZTgwNzY2NTYyNTM@._V1_UY67_CR2,0,45,67_AL_.jpg\" width=\"45\" height=\"67\" alt=\"Detective Byomkesh Bakshy!\"/>\\n</a>    </td>\\n    <td class=\"titleColumn\">\\n      206.\\n      <a href=\"/title/tt3447364/\"\\ntitle=\"Dibakar Banerjee (dir.), Sushant Singh Rajput, Anand Tiwari\" >Detective Byomkesh Bakshy!</a>\\n        <span class=\"secondaryInfo\">(2015)</span>\\n    </td>\\n    <td class=\"ratingColumn imdbRating\">\\n            <strong title=\"7.6 based on 19,864 user ratings\">7.6</strong>\\n    </td>\\n    <td class=\"ratingColumn\">\\n    <div class=\"seen-widget seen-widget-tt3447364 pending\" data-titleid=\"tt3447364\">\\n        <div class=\"boundary\">\\n            <div class=\"popover\">\\n<span class=\"delete\">&nbsp;</span><ol><li>1<li>2<li>3<li>4<li>5<li>6<li>7<li>8<li>9<li>10</ol>            </div>\\n        </div>\\n        <div class=\"inline\">\\n            <div class=\"pending\"></div>\\n            <div class=\"unseeable\">NOT YET RELEASED</div>\\n            <div class=\"unseen\"> </div>\\n            <div class=\"rating\"></div>\\n            <div class=\"seen\">Seen</div>\\n        </div>\\n    </div>\\n    </td>\\n    <td class=\"watchlistColumn\">\\n        <div class=\"wlb_ribbon\" data-tconst=\"tt3447364\" data-recordmetrics=\"true\"></div>\\n    </td>\\n  </tr>\\n\\n  <tr>\\n    <td class=\"posterColumn\">\\n\\n    <span name=\"rk\" data-value=\"207\"></span>\\n    <span name=\"ir\" data-value=\"7.5735129992554056\"></span>\\n    <span name=\"us\" data-value=\"1.248912E12\"></span>\\n    <span name=\"nv\" data-value=\"18099\"></span>\\n    <span name=\"ur\" data-value=\"-3.4264870007445944\"></span>\\n<a href=\"/title/tt1447500/\"\\n> <img src=\"https://m.media-amazon.com/images/M/MV5BZTY1ZjRjMzYtN2UwNi00YjA0LWI2OTktNGNiYTg1NjQ0ZTZiXkEyXkFqcGdeQXVyNjQ1MDcxNzM@._V1_UX45_CR0,0,45,67_AL_.jpg\" width=\"45\" height=\"67\" alt=\"Magadheera\"/>\\n</a>    </td>\\n    <td class=\"titleColumn\">\\n      207.\\n      <a href=\"/title/tt1447500/\"\\ntitle=\"S.S. Rajamouli (dir.), Ram Charan, Kajal Aggarwal\" >Magadheera</a>\\n        <span class=\"secondaryInfo\">(2009)</span>\\n    </td>\\n    <td class=\"ratingColumn imdbRating\">\\n            <strong title=\"7.6 based on 18,099 user ratings\">7.6</strong>\\n    </td>\\n    <td class=\"ratingColumn\">\\n    <div class=\"seen-widget seen-widget-tt1447500 pending\" data-titleid=\"tt1447500\">\\n        <div class=\"boundary\">\\n            <div class=\"popover\">\\n<span class=\"delete\">&nbsp;</span><ol><li>1<li>2<li>3<li>4<li>5<li>6<li>7<li>8<li>9<li>10</ol>            </div>\\n        </div>\\n        <div class=\"inline\">\\n            <div class=\"pending\"></div>\\n            <div class=\"unseeable\">NOT YET RELEASED</div>\\n            <div class=\"unseen\"> </div>\\n            <div class=\"rating\"></div>\\n            <div class=\"seen\">Seen</div>\\n        </div>\\n    </div>\\n    </td>\\n    <td class=\"watchlistColumn\">\\n        <div class=\"wlb_ribbon\" data-tconst=\"tt1447500\" data-recordmetrics=\"true\"></div>\\n    </td>\\n  </tr>\\n\\n  <tr>\\n    <td class=\"posterColumn\">\\n\\n    <span name=\"rk\" data-value=\"208\"></span>\\n    <span name=\"ir\" data-value=\"7.569278226824833\"></span>\\n    <span name=\"us\" data-value=\"7.530624E11\"></span>\\n    <span name=\"nv\" data-value=\"25869\"></span>\\n    <span name=\"ur\" data-value=\"-3.4307217731751667\"></span>\\n<a href=\"/title/tt0106333/\"\\n> <img src=\"https://m.media-amazon.com/images/M/MV5BMTc3OTE1MDAxNV5BMl5BanBnXkFtZTgwNjM1NDk5NTE@._V1_UY67_CR2,0,45,67_AL_.jpg\" width=\"45\" height=\"67\" alt=\"Baazigar\"/>\\n</a>    </td>\\n    <td class=\"titleColumn\">\\n      208.\\n      <a href=\"/title/tt0106333/\"\\ntitle=\"Abbas Alibhai Burmawalla (dir.), Shah Rukh Khan, Kajol\" >Baazigar</a>\\n        <span class=\"secondaryInfo\">(1993)</span>\\n    </td>\\n    <td class=\"ratingColumn imdbRating\">\\n            <strong title=\"7.6 based on 25,869 user ratings\">7.6</strong>\\n    </td>\\n    <td class=\"ratingColumn\">\\n    <div class=\"seen-widget seen-widget-tt0106333 pending\" data-titleid=\"tt0106333\">\\n        <div class=\"boundary\">\\n            <div class=\"popover\">\\n<span class=\"delete\">&nbsp;</span><ol><li>1<li>2<li>3<li>4<li>5<li>6<li>7<li>8<li>9<li>10</ol>            </div>\\n        </div>\\n        <div class=\"inline\">\\n            <div class=\"pending\"></div>\\n            <div class=\"unseeable\">NOT YET RELEASED</div>\\n            <div class=\"unseen\"> </div>\\n            <div class=\"rating\"></div>\\n            <div class=\"seen\">Seen</div>\\n        </div>\\n    </div>\\n    </td>\\n    <td class=\"watchlistColumn\">\\n        <div class=\"wlb_ribbon\" data-tconst=\"tt0106333\" data-recordmetrics=\"true\"></div>\\n    </td>\\n  </tr>\\n\\n  <tr>\\n    <td class=\"posterColumn\">\\n\\n    <span name=\"rk\" data-value=\"209\"></span>\\n    <span name=\"ir\" data-value=\"7.567673363482301\"></span>\\n    <span name=\"us\" data-value=\"1.4321664E12\"></span>\\n    <span name=\"nv\" data-value=\"26225\"></span>\\n    <span name=\"ur\" data-value=\"-3.4323266365176988\"></span>\\n<a href=\"/title/tt2140465/\"\\n> <img src=\"https://m.media-amazon.com/images/M/MV5BMjMwMTExMjA1OV5BMl5BanBnXkFtZTgwNDI5MTcyNjE@._V1_UY67_CR0,0,45,67_AL_.jpg\" width=\"45\" height=\"67\" alt=\"Tanu Weds Manu Returns\"/>\\n</a>    </td>\\n    <td class=\"titleColumn\">\\n      209.\\n      <a href=\"/title/tt2140465/\"\\ntitle=\"Aanand L. Rai (dir.), Kangana Ranaut, Madhavan\" >Tanu Weds Manu Returns</a>\\n        <span class=\"secondaryInfo\">(2015)</span>\\n    </td>\\n    <td class=\"ratingColumn imdbRating\">\\n            <strong title=\"7.6 based on 26,225 user ratings\">7.6</strong>\\n    </td>\\n    <td class=\"ratingColumn\">\\n    <div class=\"seen-widget seen-widget-tt2140465 pending\" data-titleid=\"tt2140465\">\\n        <div class=\"boundary\">\\n            <div class=\"popover\">\\n<span class=\"delete\">&nbsp;</span><ol><li>1<li>2<li>3<li>4<li>5<li>6<li>7<li>8<li>9<li>10</ol>            </div>\\n        </div>\\n        <div class=\"inline\">\\n            <div class=\"pending\"></div>\\n            <div class=\"unseeable\">NOT YET RELEASED</div>\\n            <div class=\"unseen\"> </div>\\n            <div class=\"rating\"></div>\\n            <div class=\"seen\">Seen</div>\\n        </div>\\n    </div>\\n    </td>\\n    <td class=\"watchlistColumn\">\\n        <div class=\"wlb_ribbon\" data-tconst=\"tt2140465\" data-recordmetrics=\"true\"></div>\\n    </td>\\n  </tr>\\n\\n  <tr>\\n    <td class=\"posterColumn\">\\n\\n    <span name=\"rk\" data-value=\"210\"></span>\\n    <span name=\"ir\" data-value=\"7.559227191608291\"></span>\\n    <span name=\"us\" data-value=\"1.4539392E12\"></span>\\n    <span name=\"nv\" data-value=\"11337\"></span>\\n    <span name=\"ur\" data-value=\"-3.440772808391709\"></span>\\n<a href=\"/title/tt5310090/\"\\n> <img src=\"https://m.media-amazon.com/images/M/MV5BZGE5Nzk5NDQtYjNmNi00ODE5LWEwNzktMTEwMTA4N2MyOGZmXkEyXkFqcGdeQXVyOTk3NTc2MzE@._V1_UX45_CR0,0,45,67_AL_.jpg\" width=\"45\" height=\"67\" alt=\"Saala Khadoos\"/>\\n</a>    </td>\\n    <td class=\"titleColumn\">\\n      210.\\n      <a href=\"/title/tt5310090/\"\\ntitle=\"Sudha Kongara (dir.), Madhavan, Nassar\" >Saala Khadoos</a>\\n        <span class=\"secondaryInfo\">(2016)</span>\\n    </td>\\n    <td class=\"ratingColumn imdbRating\">\\n            <strong title=\"7.6 based on 11,337 user ratings\">7.6</strong>\\n    </td>\\n    <td class=\"ratingColumn\">\\n    <div class=\"seen-widget seen-widget-tt5310090 pending\" data-titleid=\"tt5310090\">\\n        <div class=\"boundary\">\\n            <div class=\"popover\">\\n<span class=\"delete\">&nbsp;</span><ol><li>1<li>2<li>3<li>4<li>5<li>6<li>7<li>8<li>9<li>10</ol>            </div>\\n        </div>\\n        <div class=\"inline\">\\n            <div class=\"pending\"></div>\\n            <div class=\"unseeable\">NOT YET RELEASED</div>\\n            <div class=\"unseen\"> </div>\\n            <div class=\"rating\"></div>\\n            <div class=\"seen\">Seen</div>\\n        </div>\\n    </div>\\n    </td>\\n    <td class=\"watchlistColumn\">\\n        <div class=\"wlb_ribbon\" data-tconst=\"tt5310090\" data-recordmetrics=\"true\"></div>\\n    </td>\\n  </tr>\\n\\n  <tr>\\n    <td class=\"posterColumn\">\\n\\n    <span name=\"rk\" data-value=\"211\"></span>\\n    <span name=\"ir\" data-value=\"7.558945597853324\"></span>\\n    <span name=\"us\" data-value=\"1.2544416E12\"></span>\\n    <span name=\"nv\" data-value=\"28202\"></span>\\n    <span name=\"ur\" data-value=\"-3.4410544021466762\"></span>\\n<a href=\"/title/tt1324059/\"\\n> <img src=\"https://m.media-amazon.com/images/M/MV5BMDc1ZDBkODMtYjI0MC00NDcyLWFhMGUtYzM4NDQyMzgyYzg1XkEyXkFqcGdeQXVyODE5NzE3OTE@._V1_UY67_CR0,0,45,67_AL_.jpg\" width=\"45\" height=\"67\" alt=\"Wake Up Sid\"/>\\n</a>    </td>\\n    <td class=\"titleColumn\">\\n      211.\\n      <a href=\"/title/tt1324059/\"\\ntitle=\"Ayan Mukherjee (dir.), Ranbir Kapoor, Konkona Sen Sharma\" >Wake Up Sid</a>\\n        <span class=\"secondaryInfo\">(2009)</span>\\n    </td>\\n    <td class=\"ratingColumn imdbRating\">\\n            <strong title=\"7.6 based on 28,202 user ratings\">7.6</strong>\\n    </td>\\n    <td class=\"ratingColumn\">\\n    <div class=\"seen-widget seen-widget-tt1324059 pending\" data-titleid=\"tt1324059\">\\n        <div class=\"boundary\">\\n            <div class=\"popover\">\\n<span class=\"delete\">&nbsp;</span><ol><li>1<li>2<li>3<li>4<li>5<li>6<li>7<li>8<li>9<li>10</ol>            </div>\\n        </div>\\n        <div class=\"inline\">\\n            <div class=\"pending\"></div>\\n            <div class=\"unseeable\">NOT YET RELEASED</div>\\n            <div class=\"unseen\"> </div>\\n            <div class=\"rating\"></div>\\n            <div class=\"seen\">Seen</div>\\n        </div>\\n    </div>\\n    </td>\\n    <td class=\"watchlistColumn\">\\n        <div class=\"wlb_ribbon\" data-tconst=\"tt1324059\" data-recordmetrics=\"true\"></div>\\n    </td>\\n  </tr>\\n\\n  <tr>\\n    <td class=\"posterColumn\">\\n\\n    <span name=\"rk\" data-value=\"212\"></span>\\n    <span name=\"ir\" data-value=\"7.552175969657787\"></span>\\n    <span name=\"us\" data-value=\"1.4309568E12\"></span>\\n    <span name=\"nv\" data-value=\"28873\"></span>\\n    <span name=\"ur\" data-value=\"-3.447824030342213\"></span>\\n<a href=\"/title/tt3767372/\"\\n> <img src=\"https://m.media-amazon.com/images/M/MV5BMTUwOTMxNjc2OV5BMl5BanBnXkFtZTgwODQ4OTMxNTE@._V1_UY67_CR2,0,45,67_AL_.jpg\" width=\"45\" height=\"67\" alt=\"Piku\"/>\\n</a>    </td>\\n    <td class=\"titleColumn\">\\n      212.\\n      <a href=\"/title/tt3767372/\"\\ntitle=\"Shoojit Sircar (dir.), Deepika Padukone, Amitabh Bachchan\" >Piku</a>\\n        <span class=\"secondaryInfo\">(2015)</span>\\n    </td>\\n    <td class=\"ratingColumn imdbRating\">\\n            <strong title=\"7.6 based on 28,873 user ratings\">7.6</strong>\\n    </td>\\n    <td class=\"ratingColumn\">\\n    <div class=\"seen-widget seen-widget-tt3767372 pending\" data-titleid=\"tt3767372\">\\n        <div class=\"boundary\">\\n            <div class=\"popover\">\\n<span class=\"delete\">&nbsp;</span><ol><li>1<li>2<li>3<li>4<li>5<li>6<li>7<li>8<li>9<li>10</ol>            </div>\\n        </div>\\n        <div class=\"inline\">\\n            <div class=\"pending\"></div>\\n            <div class=\"unseeable\">NOT YET RELEASED</div>\\n            <div class=\"unseen\"> </div>\\n            <div class=\"rating\"></div>\\n            <div class=\"seen\">Seen</div>\\n        </div>\\n    </div>\\n    </td>\\n    <td class=\"watchlistColumn\">\\n        <div class=\"wlb_ribbon\" data-tconst=\"tt3767372\" data-recordmetrics=\"true\"></div>\\n    </td>\\n  </tr>\\n\\n  <tr>\\n    <td class=\"posterColumn\">\\n\\n    <span name=\"rk\" data-value=\"213\"></span>\\n    <span name=\"ir\" data-value=\"7.5473089731292555\"></span>\\n    <span name=\"us\" data-value=\"1.565136E12\"></span>\\n    <span name=\"nv\" data-value=\"5614\"></span>\\n    <span name=\"ur\" data-value=\"-3.4526910268707445\"></span>\\n<a href=\"/title/tt9675716/\"\\n> <img src=\"https://m.media-amazon.com/images/M/MV5BODYwYjQzNWYtZTE0OC00ODIyLWI1MGEtNTQ2MTVlYWYyOTY2XkEyXkFqcGdeQXVyOTk3NTc2MzE@._V1_UY67_CR0,0,45,67_AL_.jpg\" width=\"45\" height=\"67\" alt=\"Nerkonda Paarvai\"/>\\n</a>    </td>\\n    <td class=\"titleColumn\">\\n      213.\\n      <a href=\"/title/tt9675716/\"\\ntitle=\"H. Vinoth (dir.), Ajith Kumar, Shraddha Srinath\" >Nerkonda Paarvai</a>\\n        <span class=\"secondaryInfo\">(2019)</span>\\n    </td>\\n    <td class=\"ratingColumn imdbRating\">\\n            <strong title=\"7.5 based on 5,614 user ratings\">7.5</strong>\\n    </td>\\n    <td class=\"ratingColumn\">\\n    <div class=\"seen-widget seen-widget-tt9675716 pending\" data-titleid=\"tt9675716\">\\n        <div class=\"boundary\">\\n            <div class=\"popover\">\\n<span class=\"delete\">&nbsp;</span><ol><li>1<li>2<li>3<li>4<li>5<li>6<li>7<li>8<li>9<li>10</ol>            </div>\\n        </div>\\n        <div class=\"inline\">\\n            <div class=\"pending\"></div>\\n            <div class=\"unseeable\">NOT YET RELEASED</div>\\n            <div class=\"unseen\"> </div>\\n            <div class=\"rating\"></div>\\n            <div class=\"seen\">Seen</div>\\n        </div>\\n    </div>\\n    </td>\\n    <td class=\"watchlistColumn\">\\n        <div class=\"wlb_ribbon\" data-tconst=\"tt9675716\" data-recordmetrics=\"true\"></div>\\n    </td>\\n  </tr>\\n\\n  <tr>\\n    <td class=\"posterColumn\">\\n\\n    <span name=\"rk\" data-value=\"214\"></span>\\n    <span name=\"ir\" data-value=\"7.546922447699387\"></span>\\n    <span name=\"us\" data-value=\"1.4138496E12\"></span>\\n    <span name=\"nv\" data-value=\"18149\"></span>\\n    <span name=\"ur\" data-value=\"-3.4530775523006128\"></span>\\n<a href=\"/title/tt3801314/\"\\n> <img src=\"https://m.media-amazon.com/images/M/MV5BOTVkNGViZGEtMjZkMy00MzgyLWIxZTktZjgwYzAwNDM1MDcxXkEyXkFqcGdeQXVyODk1MzE5NDA@._V1_UX45_CR0,0,45,67_AL_.jpg\" width=\"45\" height=\"67\" alt=\"Kaththi\"/>\\n</a>    </td>\\n    <td class=\"titleColumn\">\\n      214.\\n      <a href=\"/title/tt3801314/\"\\ntitle=\"A.R. Murugadoss (dir.), Joseph Vijay, Samantha Ruth Prabhu\" >Kaththi</a>\\n        <span class=\"secondaryInfo\">(2014)</span>\\n    </td>\\n    <td class=\"ratingColumn imdbRating\">\\n            <strong title=\"7.5 based on 18,149 user ratings\">7.5</strong>\\n    </td>\\n    <td class=\"ratingColumn\">\\n    <div class=\"seen-widget seen-widget-tt3801314 pending\" data-titleid=\"tt3801314\">\\n        <div class=\"boundary\">\\n            <div class=\"popover\">\\n<span class=\"delete\">&nbsp;</span><ol><li>1<li>2<li>3<li>4<li>5<li>6<li>7<li>8<li>9<li>10</ol>            </div>\\n        </div>\\n        <div class=\"inline\">\\n            <div class=\"pending\"></div>\\n            <div class=\"unseeable\">NOT YET RELEASED</div>\\n            <div class=\"unseen\"> </div>\\n            <div class=\"rating\"></div>\\n            <div class=\"seen\">Seen</div>\\n        </div>\\n    </div>\\n    </td>\\n    <td class=\"watchlistColumn\">\\n        <div class=\"wlb_ribbon\" data-tconst=\"tt3801314\" data-recordmetrics=\"true\"></div>\\n    </td>\\n  </tr>\\n\\n  <tr>\\n    <td class=\"posterColumn\">\\n\\n    <span name=\"rk\" data-value=\"215\"></span>\\n    <span name=\"ir\" data-value=\"7.546450137718686\"></span>\\n    <span name=\"us\" data-value=\"1.6051392E12\"></span>\\n    <span name=\"nv\" data-value=\"26892\"></span>\\n    <span name=\"ur\" data-value=\"-3.4535498622813137\"></span>\\n<a href=\"/title/tt7212754/\"\\n> <img src=\"https://m.media-amazon.com/images/M/MV5BNzZjMmE2ZGItMDU2Ny00OTU5LTlhNTUtYjc2MzE4Y2U3ODhlXkEyXkFqcGdeQXVyODE5NzE3OTE@._V1_UY67_CR1,0,45,67_AL_.jpg\" width=\"45\" height=\"67\" alt=\"Ludo\"/>\\n</a>    </td>\\n    <td class=\"titleColumn\">\\n      215.\\n      <a href=\"/title/tt7212754/\"\\ntitle=\"Anurag Basu (dir.), Pankaj Tripathi, Abhishek Bachchan\" >Ludo</a>\\n        <span class=\"secondaryInfo\">(2020)</span>\\n    </td>\\n    <td class=\"ratingColumn imdbRating\">\\n            <strong title=\"7.5 based on 26,892 user ratings\">7.5</strong>\\n    </td>\\n    <td class=\"ratingColumn\">\\n    <div class=\"seen-widget seen-widget-tt7212754 pending\" data-titleid=\"tt7212754\">\\n        <div class=\"boundary\">\\n            <div class=\"popover\">\\n<span class=\"delete\">&nbsp;</span><ol><li>1<li>2<li>3<li>4<li>5<li>6<li>7<li>8<li>9<li>10</ol>            </div>\\n        </div>\\n        <div class=\"inline\">\\n            <div class=\"pending\"></div>\\n            <div class=\"unseeable\">NOT YET RELEASED</div>\\n            <div class=\"unseen\"> </div>\\n            <div class=\"rating\"></div>\\n            <div class=\"seen\">Seen</div>\\n        </div>\\n    </div>\\n    </td>\\n    <td class=\"watchlistColumn\">\\n        <div class=\"wlb_ribbon\" data-tconst=\"tt7212754\" data-recordmetrics=\"true\"></div>\\n    </td>\\n  </tr>\\n\\n  <tr>\\n    <td class=\"posterColumn\">\\n\\n    <span name=\"rk\" data-value=\"216\"></span>\\n    <span name=\"ir\" data-value=\"7.545436146218946\"></span>\\n    <span name=\"us\" data-value=\"9.08496E11\"></span>\\n    <span name=\"nv\" data-value=\"47912\"></span>\\n    <span name=\"ur\" data-value=\"-3.454563853781054\"></span>\\n<a href=\"/title/tt0172684/\"\\n> <img src=\"https://m.media-amazon.com/images/M/MV5BNGNhNWMwNTgtZmNlOS00OGM3LWIxYzItOWQwZDJjMzQ3MzRlXkEyXkFqcGdeQXVyODE5NzE3OTE@._V1_UY67_CR1,0,45,67_AL_.jpg\" width=\"45\" height=\"67\" alt=\"Kuch Kuch Hota Hai\"/>\\n</a>    </td>\\n    <td class=\"titleColumn\">\\n      216.\\n      <a href=\"/title/tt0172684/\"\\ntitle=\"Karan Johar (dir.), Shah Rukh Khan, Kajol\" >Kuch Kuch Hota Hai</a>\\n        <span class=\"secondaryInfo\">(1998)</span>\\n    </td>\\n    <td class=\"ratingColumn imdbRating\">\\n            <strong title=\"7.5 based on 47,912 user ratings\">7.5</strong>\\n    </td>\\n    <td class=\"ratingColumn\">\\n    <div class=\"seen-widget seen-widget-tt0172684 pending\" data-titleid=\"tt0172684\">\\n        <div class=\"boundary\">\\n            <div class=\"popover\">\\n<span class=\"delete\">&nbsp;</span><ol><li>1<li>2<li>3<li>4<li>5<li>6<li>7<li>8<li>9<li>10</ol>            </div>\\n        </div>\\n        <div class=\"inline\">\\n            <div class=\"pending\"></div>\\n            <div class=\"unseeable\">NOT YET RELEASED</div>\\n            <div class=\"unseen\"> </div>\\n            <div class=\"rating\"></div>\\n            <div class=\"seen\">Seen</div>\\n        </div>\\n    </div>\\n    </td>\\n    <td class=\"watchlistColumn\">\\n        <div class=\"wlb_ribbon\" data-tconst=\"tt0172684\" data-recordmetrics=\"true\"></div>\\n    </td>\\n  </tr>\\n\\n  <tr>\\n    <td class=\"posterColumn\">\\n\\n    <span name=\"rk\" data-value=\"217\"></span>\\n    <span name=\"ir\" data-value=\"7.543162531899067\"></span>\\n    <span name=\"us\" data-value=\"1.530144E12\"></span>\\n    <span name=\"nv\" data-value=\"47344\"></span>\\n    <span name=\"ur\" data-value=\"-3.4568374681009333\"></span>\\n<a href=\"/title/tt6452574/\"\\n> <img src=\"https://m.media-amazon.com/images/M/MV5BMjI3NTM1NzMyNF5BMl5BanBnXkFtZTgwOTE4NTgzNTM@._V1_UY67_CR1,0,45,67_AL_.jpg\" width=\"45\" height=\"67\" alt=\"Sanju\"/>\\n</a>    </td>\\n    <td class=\"titleColumn\">\\n      217.\\n      <a href=\"/title/tt6452574/\"\\ntitle=\"Rajkumar Hirani (dir.), Ranbir Kapoor, Paresh Rawal\" >Sanju</a>\\n        <span class=\"secondaryInfo\">(2018)</span>\\n    </td>\\n    <td class=\"ratingColumn imdbRating\">\\n            <strong title=\"7.5 based on 47,344 user ratings\">7.5</strong>\\n    </td>\\n    <td class=\"ratingColumn\">\\n    <div class=\"seen-widget seen-widget-tt6452574 pending\" data-titleid=\"tt6452574\">\\n        <div class=\"boundary\">\\n            <div class=\"popover\">\\n<span class=\"delete\">&nbsp;</span><ol><li>1<li>2<li>3<li>4<li>5<li>6<li>7<li>8<li>9<li>10</ol>            </div>\\n        </div>\\n        <div class=\"inline\">\\n            <div class=\"pending\"></div>\\n            <div class=\"unseeable\">NOT YET RELEASED</div>\\n            <div class=\"unseen\"> </div>\\n            <div class=\"rating\"></div>\\n            <div class=\"seen\">Seen</div>\\n        </div>\\n    </div>\\n    </td>\\n    <td class=\"watchlistColumn\">\\n        <div class=\"wlb_ribbon\" data-tconst=\"tt6452574\" data-recordmetrics=\"true\"></div>\\n    </td>\\n  </tr>\\n\\n  <tr>\\n    <td class=\"posterColumn\">\\n\\n    <span name=\"rk\" data-value=\"218\"></span>\\n    <span name=\"ir\" data-value=\"7.536809752460056\"></span>\\n    <span name=\"us\" data-value=\"1.389312E12\"></span>\\n    <span name=\"nv\" data-value=\"43005\"></span>\\n    <span name=\"ur\" data-value=\"-3.463190247539944\"></span>\\n<a href=\"/title/tt2375559/\"\\n> <img src=\"https://m.media-amazon.com/images/M/MV5BNzcwMzkwODE1NF5BMl5BanBnXkFtZTgwNzA1NzAwMTE@._V1_UY67_CR0,0,45,67_AL_.jpg\" width=\"45\" height=\"67\" alt=\"1 - Nenokkadine\"/>\\n</a>    </td>\\n    <td class=\"titleColumn\">\\n      218.\\n      <a href=\"/title/tt2375559/\"\\ntitle=\"Sukumar (dir.), Mahesh Babu, Kriti Sanon\" >1 - Nenokkadine</a>\\n        <span class=\"secondaryInfo\">(2014)</span>\\n    </td>\\n    <td class=\"ratingColumn imdbRating\">\\n            <strong title=\"7.5 based on 43,005 user ratings\">7.5</strong>\\n    </td>\\n    <td class=\"ratingColumn\">\\n    <div class=\"seen-widget seen-widget-tt2375559 pending\" data-titleid=\"tt2375559\">\\n        <div class=\"boundary\">\\n            <div class=\"popover\">\\n<span class=\"delete\">&nbsp;</span><ol><li>1<li>2<li>3<li>4<li>5<li>6<li>7<li>8<li>9<li>10</ol>            </div>\\n        </div>\\n        <div class=\"inline\">\\n            <div class=\"pending\"></div>\\n            <div class=\"unseeable\">NOT YET RELEASED</div>\\n            <div class=\"unseen\"> </div>\\n            <div class=\"rating\"></div>\\n            <div class=\"seen\">Seen</div>\\n        </div>\\n    </div>\\n    </td>\\n    <td class=\"watchlistColumn\">\\n        <div class=\"wlb_ribbon\" data-tconst=\"tt2375559\" data-recordmetrics=\"true\"></div>\\n    </td>\\n  </tr>\\n\\n  <tr>\\n    <td class=\"posterColumn\">\\n\\n    <span name=\"rk\" data-value=\"219\"></span>\\n    <span name=\"ir\" data-value=\"7.534805431258891\"></span>\\n    <span name=\"us\" data-value=\"1.4811552E12\"></span>\\n    <span name=\"nv\" data-value=\"5761\"></span>\\n    <span name=\"ur\" data-value=\"-3.4651945687411088\"></span>\\n<a href=\"/title/tt6027478/\"\\n> <img src=\"https://m.media-amazon.com/images/M/MV5BZmVhYTVmMWUtMWI4OS00NzVkLWE3ZGQtNzMwZWQxZDFjZTY1XkEyXkFqcGdeQXVyMTA4NjE0NjEy._V1_UY67_CR1,0,45,67_AL_.jpg\" width=\"45\" height=\"67\" alt=\"Dhruva\"/>\\n</a>    </td>\\n    <td class=\"titleColumn\">\\n      219.\\n      <a href=\"/title/tt6027478/\"\\ntitle=\"Surender Reddy (dir.), Ram Charan, Arvind Swamy\" >Dhruva</a>\\n        <span class=\"secondaryInfo\">(2016)</span>\\n    </td>\\n    <td class=\"ratingColumn imdbRating\">\\n            <strong title=\"7.5 based on 5,761 user ratings\">7.5</strong>\\n    </td>\\n    <td class=\"ratingColumn\">\\n    <div class=\"seen-widget seen-widget-tt6027478 pending\" data-titleid=\"tt6027478\">\\n        <div class=\"boundary\">\\n            <div class=\"popover\">\\n<span class=\"delete\">&nbsp;</span><ol><li>1<li>2<li>3<li>4<li>5<li>6<li>7<li>8<li>9<li>10</ol>            </div>\\n        </div>\\n        <div class=\"inline\">\\n            <div class=\"pending\"></div>\\n            <div class=\"unseeable\">NOT YET RELEASED</div>\\n            <div class=\"unseen\"> </div>\\n            <div class=\"rating\"></div>\\n            <div class=\"seen\">Seen</div>\\n        </div>\\n    </div>\\n    </td>\\n    <td class=\"watchlistColumn\">\\n        <div class=\"wlb_ribbon\" data-tconst=\"tt6027478\" data-recordmetrics=\"true\"></div>\\n    </td>\\n  </tr>\\n\\n  <tr>\\n    <td class=\"posterColumn\">\\n\\n    <span name=\"rk\" data-value=\"220\"></span>\\n    <span name=\"ir\" data-value=\"7.531658666466549\"></span>\\n    <span name=\"us\" data-value=\"1.309392E12\"></span>\\n    <span name=\"nv\" data-value=\"27488\"></span>\\n    <span name=\"ur\" data-value=\"-3.468341333533451\"></span>\\n<a href=\"/title/tt1934231/\"\\n> <img src=\"https://m.media-amazon.com/images/M/MV5BZjJmOTNjNDgtY2E3ZC00OTRmLTlmYWItNjRkMzQ4NzZlY2M2XkEyXkFqcGdeQXVyODE5NzE3OTE@._V1_UY67_CR0,0,45,67_AL_.jpg\" width=\"45\" height=\"67\" alt=\"Delhi Belly\"/>\\n</a>    </td>\\n    <td class=\"titleColumn\">\\n      220.\\n      <a href=\"/title/tt1934231/\"\\ntitle=\"Abhinay Deo (dir.), Imran Khan, Vir Das\" >Delhi Belly</a>\\n        <span class=\"secondaryInfo\">(2011)</span>\\n    </td>\\n    <td class=\"ratingColumn imdbRating\">\\n            <strong title=\"7.5 based on 27,488 user ratings\">7.5</strong>\\n    </td>\\n    <td class=\"ratingColumn\">\\n    <div class=\"seen-widget seen-widget-tt1934231 pending\" data-titleid=\"tt1934231\">\\n        <div class=\"boundary\">\\n            <div class=\"popover\">\\n<span class=\"delete\">&nbsp;</span><ol><li>1<li>2<li>3<li>4<li>5<li>6<li>7<li>8<li>9<li>10</ol>            </div>\\n        </div>\\n        <div class=\"inline\">\\n            <div class=\"pending\"></div>\\n            <div class=\"unseeable\">NOT YET RELEASED</div>\\n            <div class=\"unseen\"> </div>\\n            <div class=\"rating\"></div>\\n            <div class=\"seen\">Seen</div>\\n        </div>\\n    </div>\\n    </td>\\n    <td class=\"watchlistColumn\">\\n        <div class=\"wlb_ribbon\" data-tconst=\"tt1934231\" data-recordmetrics=\"true\"></div>\\n    </td>\\n  </tr>\\n\\n  <tr>\\n    <td class=\"posterColumn\">\\n\\n    <span name=\"rk\" data-value=\"221\"></span>\\n    <span name=\"ir\" data-value=\"7.526812931225012\"></span>\\n    <span name=\"us\" data-value=\"1.5355872E12\"></span>\\n    <span name=\"nv\" data-value=\"27921\"></span>\\n    <span name=\"ur\" data-value=\"-3.4731870687749877\"></span>\\n<a href=\"/title/tt8108202/\"\\n> <img src=\"https://m.media-amazon.com/images/M/MV5BMjk4NGZiMzAtODU1NS00MmQ4LWJiNmQtNWU5ZWU4Y2VmNWI0XkEyXkFqcGdeQXVyODE5NzE3OTE@._V1_UY67_CR0,0,45,67_AL_.jpg\" width=\"45\" height=\"67\" alt=\"Stree\"/>\\n</a>    </td>\\n    <td class=\"titleColumn\">\\n      221.\\n      <a href=\"/title/tt8108202/\"\\ntitle=\"Amar Kaushik (dir.), Rajkummar Rao, Shraddha Kapoor\" >Stree</a>\\n        <span class=\"secondaryInfo\">(2018)</span>\\n    </td>\\n    <td class=\"ratingColumn imdbRating\">\\n            <strong title=\"7.5 based on 27,921 user ratings\">7.5</strong>\\n    </td>\\n    <td class=\"ratingColumn\">\\n    <div class=\"seen-widget seen-widget-tt8108202 pending\" data-titleid=\"tt8108202\">\\n        <div class=\"boundary\">\\n            <div class=\"popover\">\\n<span class=\"delete\">&nbsp;</span><ol><li>1<li>2<li>3<li>4<li>5<li>6<li>7<li>8<li>9<li>10</ol>            </div>\\n        </div>\\n        <div class=\"inline\">\\n            <div class=\"pending\"></div>\\n            <div class=\"unseeable\">NOT YET RELEASED</div>\\n            <div class=\"unseen\"> </div>\\n            <div class=\"rating\"></div>\\n            <div class=\"seen\">Seen</div>\\n        </div>\\n    </div>\\n    </td>\\n    <td class=\"watchlistColumn\">\\n        <div class=\"wlb_ribbon\" data-tconst=\"tt8108202\" data-recordmetrics=\"true\"></div>\\n    </td>\\n  </tr>\\n\\n  <tr>\\n    <td class=\"posterColumn\">\\n\\n    <span name=\"rk\" data-value=\"222\"></span>\\n    <span name=\"ir\" data-value=\"7.526192897045294\"></span>\\n    <span name=\"us\" data-value=\"1.022112E12\"></span>\\n    <span name=\"nv\" data-value=\"38343\"></span>\\n    <span name=\"ur\" data-value=\"-3.473807102954706\"></span>\\n<a href=\"/title/tt0238936/\"\\n> <img src=\"https://m.media-amazon.com/images/M/MV5BY2QxMGM4Y2QtMGFmMy00ZjZkLWExMWQtNTY1Yjc0MDFjZjY0XkEyXkFqcGdeQXVyNTE0MDc0NTM@._V1_UY67_CR0,0,45,67_AL_.jpg\" width=\"45\" height=\"67\" alt=\"Devdas\"/>\\n</a>    </td>\\n    <td class=\"titleColumn\">\\n      222.\\n      <a href=\"/title/tt0238936/\"\\ntitle=\"Sanjay Leela Bhansali (dir.), Shah Rukh Khan, Aishwarya Rai Bachchan\" >Devdas</a>\\n        <span class=\"secondaryInfo\">(2002)</span>\\n    </td>\\n    <td class=\"ratingColumn imdbRating\">\\n            <strong title=\"7.5 based on 38,343 user ratings\">7.5</strong>\\n    </td>\\n    <td class=\"ratingColumn\">\\n    <div class=\"seen-widget seen-widget-tt0238936 pending\" data-titleid=\"tt0238936\">\\n        <div class=\"boundary\">\\n            <div class=\"popover\">\\n<span class=\"delete\">&nbsp;</span><ol><li>1<li>2<li>3<li>4<li>5<li>6<li>7<li>8<li>9<li>10</ol>            </div>\\n        </div>\\n        <div class=\"inline\">\\n            <div class=\"pending\"></div>\\n            <div class=\"unseeable\">NOT YET RELEASED</div>\\n            <div class=\"unseen\"> </div>\\n            <div class=\"rating\"></div>\\n            <div class=\"seen\">Seen</div>\\n        </div>\\n    </div>\\n    </td>\\n    <td class=\"watchlistColumn\">\\n        <div class=\"wlb_ribbon\" data-tconst=\"tt0238936\" data-recordmetrics=\"true\"></div>\\n    </td>\\n  </tr>\\n\\n  <tr>\\n    <td class=\"posterColumn\">\\n\\n    <span name=\"rk\" data-value=\"223\"></span>\\n    <span name=\"ir\" data-value=\"7.526015643769691\"></span>\\n    <span name=\"us\" data-value=\"1.2028608E12\"></span>\\n    <span name=\"nv\" data-value=\"29841\"></span>\\n    <span name=\"ur\" data-value=\"-3.473984356230309\"></span>\\n<a href=\"/title/tt0449994/\"\\n> <img src=\"https://m.media-amazon.com/images/M/MV5BMTI1ODQ2MDIxMl5BMl5BanBnXkFtZTcwNTc3Mzk1MQ@@._V1_UY67_CR0,0,45,67_AL_.jpg\" width=\"45\" height=\"67\" alt=\"Jodhaa Akbar\"/>\\n</a>    </td>\\n    <td class=\"titleColumn\">\\n      223.\\n      <a href=\"/title/tt0449994/\"\\ntitle=\"Ashutosh Gowariker (dir.), Hrithik Roshan, Aishwarya Rai Bachchan\" >Jodhaa Akbar</a>\\n        <span class=\"secondaryInfo\">(2008)</span>\\n    </td>\\n    <td class=\"ratingColumn imdbRating\">\\n            <strong title=\"7.5 based on 29,841 user ratings\">7.5</strong>\\n    </td>\\n    <td class=\"ratingColumn\">\\n    <div class=\"seen-widget seen-widget-tt0449994 pending\" data-titleid=\"tt0449994\">\\n        <div class=\"boundary\">\\n            <div class=\"popover\">\\n<span class=\"delete\">&nbsp;</span><ol><li>1<li>2<li>3<li>4<li>5<li>6<li>7<li>8<li>9<li>10</ol>            </div>\\n        </div>\\n        <div class=\"inline\">\\n            <div class=\"pending\"></div>\\n            <div class=\"unseeable\">NOT YET RELEASED</div>\\n            <div class=\"unseen\"> </div>\\n            <div class=\"rating\"></div>\\n            <div class=\"seen\">Seen</div>\\n        </div>\\n    </div>\\n    </td>\\n    <td class=\"watchlistColumn\">\\n        <div class=\"wlb_ribbon\" data-tconst=\"tt0449994\" data-recordmetrics=\"true\"></div>\\n    </td>\\n  </tr>\\n\\n  <tr>\\n    <td class=\"posterColumn\">\\n\\n    <span name=\"rk\" data-value=\"224\"></span>\\n    <span name=\"ir\" data-value=\"7.522803012038756\"></span>\\n    <span name=\"us\" data-value=\"1.5961536E12\"></span>\\n    <span name=\"nv\" data-value=\"13308\"></span>\\n    <span name=\"ur\" data-value=\"-3.4771969879612437\"></span>\\n<a href=\"/title/tt10515526/\"\\n> <img src=\"https://m.media-amazon.com/images/M/MV5BM2QxODMyNWQtYjUxNy00ODczLTljYWItYWJkYWUyMzJhMDQwXkEyXkFqcGdeQXVyODE5NzE3OTE@._V1_UY67_CR2,0,45,67_AL_.jpg\" width=\"45\" height=\"67\" alt=\"Lootcase\"/>\\n</a>    </td>\\n    <td class=\"titleColumn\">\\n      224.\\n      <a href=\"/title/tt10515526/\"\\ntitle=\"Rajesh Krishnan (dir.), Kunal Khemu, Rasika Dugal\" >Lootcase</a>\\n        <span class=\"secondaryInfo\">(2020)</span>\\n    </td>\\n    <td class=\"ratingColumn imdbRating\">\\n            <strong title=\"7.5 based on 13,308 user ratings\">7.5</strong>\\n    </td>\\n    <td class=\"ratingColumn\">\\n    <div class=\"seen-widget seen-widget-tt10515526 pending\" data-titleid=\"tt10515526\">\\n        <div class=\"boundary\">\\n            <div class=\"popover\">\\n<span class=\"delete\">&nbsp;</span><ol><li>1<li>2<li>3<li>4<li>5<li>6<li>7<li>8<li>9<li>10</ol>            </div>\\n        </div>\\n        <div class=\"inline\">\\n            <div class=\"pending\"></div>\\n            <div class=\"unseeable\">NOT YET RELEASED</div>\\n            <div class=\"unseen\"> </div>\\n            <div class=\"rating\"></div>\\n            <div class=\"seen\">Seen</div>\\n        </div>\\n    </div>\\n    </td>\\n    <td class=\"watchlistColumn\">\\n        <div class=\"wlb_ribbon\" data-tconst=\"tt10515526\" data-recordmetrics=\"true\"></div>\\n    </td>\\n  </tr>\\n\\n  <tr>\\n    <td class=\"posterColumn\">\\n\\n    <span name=\"rk\" data-value=\"225\"></span>\\n    <span name=\"ir\" data-value=\"7.522784273934727\"></span>\\n    <span name=\"us\" data-value=\"1.525392E12\"></span>\\n    <span name=\"nv\" data-value=\"20978\"></span>\\n    <span name=\"ur\" data-value=\"-3.477215726065273\"></span>\\n<a href=\"/title/tt6826438/\"\\n> <img src=\"https://m.media-amazon.com/images/M/MV5BMDNjZjkyNjQtNWMyMC00ODA5LTgyODctOGRiOWUwYTAzOWVjXkEyXkFqcGdeQXVyODE5NzE3OTE@._V1_UY67_CR1,0,45,67_AL_.jpg\" width=\"45\" height=\"67\" alt=\"Parmanu: The Story of Pokhran\"/>\\n</a>    </td>\\n    <td class=\"titleColumn\">\\n      225.\\n      <a href=\"/title/tt6826438/\"\\ntitle=\"Abhishek Sharma (dir.), John Abraham, Boman Irani\" >Parmanu: The Story of Pokhran</a>\\n        <span class=\"secondaryInfo\">(2018)</span>\\n    </td>\\n    <td class=\"ratingColumn imdbRating\">\\n            <strong title=\"7.5 based on 20,978 user ratings\">7.5</strong>\\n    </td>\\n    <td class=\"ratingColumn\">\\n    <div class=\"seen-widget seen-widget-tt6826438 pending\" data-titleid=\"tt6826438\">\\n        <div class=\"boundary\">\\n            <div class=\"popover\">\\n<span class=\"delete\">&nbsp;</span><ol><li>1<li>2<li>3<li>4<li>5<li>6<li>7<li>8<li>9<li>10</ol>            </div>\\n        </div>\\n        <div class=\"inline\">\\n            <div class=\"pending\"></div>\\n            <div class=\"unseeable\">NOT YET RELEASED</div>\\n            <div class=\"unseen\"> </div>\\n            <div class=\"rating\"></div>\\n            <div class=\"seen\">Seen</div>\\n        </div>\\n    </div>\\n    </td>\\n    <td class=\"watchlistColumn\">\\n        <div class=\"wlb_ribbon\" data-tconst=\"tt6826438\" data-recordmetrics=\"true\"></div>\\n    </td>\\n  </tr>\\n\\n  <tr>\\n    <td class=\"posterColumn\">\\n\\n    <span name=\"rk\" data-value=\"226\"></span>\\n    <span name=\"ir\" data-value=\"7.512679760595051\"></span>\\n    <span name=\"us\" data-value=\"1.3716864E12\"></span>\\n    <span name=\"nv\" data-value=\"29468\"></span>\\n    <span name=\"ur\" data-value=\"-3.4873202394049487\"></span>\\n<a href=\"/title/tt2359810/\"\\n> <img src=\"https://m.media-amazon.com/images/M/MV5BN2MzYWI2OGQtNzgxNi00ZjNiLWI1NTQtZWUyNWNiZDEyODFmXkEyXkFqcGdeQXVyODE5NzE3OTE@._V1_UY67_CR0,0,45,67_AL_.jpg\" width=\"45\" height=\"67\" alt=\"Raanjhanaa\"/>\\n</a>    </td>\\n    <td class=\"titleColumn\">\\n      226.\\n      <a href=\"/title/tt2359810/\"\\ntitle=\"Aanand L. Rai (dir.), Dhanush, Sonam Kapoor\" >Raanjhanaa</a>\\n        <span class=\"secondaryInfo\">(2013)</span>\\n    </td>\\n    <td class=\"ratingColumn imdbRating\">\\n            <strong title=\"7.5 based on 29,468 user ratings\">7.5</strong>\\n    </td>\\n    <td class=\"ratingColumn\">\\n    <div class=\"seen-widget seen-widget-tt2359810 pending\" data-titleid=\"tt2359810\">\\n        <div class=\"boundary\">\\n            <div class=\"popover\">\\n<span class=\"delete\">&nbsp;</span><ol><li>1<li>2<li>3<li>4<li>5<li>6<li>7<li>8<li>9<li>10</ol>            </div>\\n        </div>\\n        <div class=\"inline\">\\n            <div class=\"pending\"></div>\\n            <div class=\"unseeable\">NOT YET RELEASED</div>\\n            <div class=\"unseen\"> </div>\\n            <div class=\"rating\"></div>\\n            <div class=\"seen\">Seen</div>\\n        </div>\\n    </div>\\n    </td>\\n    <td class=\"watchlistColumn\">\\n        <div class=\"wlb_ribbon\" data-tconst=\"tt2359810\" data-recordmetrics=\"true\"></div>\\n    </td>\\n  </tr>\\n\\n  <tr>\\n    <td class=\"posterColumn\">\\n\\n    <span name=\"rk\" data-value=\"227\"></span>\\n    <span name=\"ir\" data-value=\"7.511556871424848\"></span>\\n    <span name=\"us\" data-value=\"1.47744E12\"></span>\\n    <span name=\"nv\" data-value=\"10454\"></span>\\n    <span name=\"ur\" data-value=\"-3.4884431285751516\"></span>\\n<a href=\"/title/tt6206564/\"\\n> <img src=\"https://m.media-amazon.com/images/M/MV5BNGZhNjljZmYtODZmZi00NmQ2LThlOTktNjE0ZjRlYmFlZTMzXkEyXkFqcGdeQXVyNTczMTc5MQ@@._V1_UY67_CR0,0,45,67_AL_.jpg\" width=\"45\" height=\"67\" alt=\"Trapped\"/>\\n</a>    </td>\\n    <td class=\"titleColumn\">\\n      227.\\n      <a href=\"/title/tt6206564/\"\\ntitle=\"Vikramaditya Motwane (dir.), Rajkummar Rao, Geetanjali Thapa\" >Trapped</a>\\n        <span class=\"secondaryInfo\">(2016)</span>\\n    </td>\\n    <td class=\"ratingColumn imdbRating\">\\n            <strong title=\"7.5 based on 10,454 user ratings\">7.5</strong>\\n    </td>\\n    <td class=\"ratingColumn\">\\n    <div class=\"seen-widget seen-widget-tt6206564 pending\" data-titleid=\"tt6206564\">\\n        <div class=\"boundary\">\\n            <div class=\"popover\">\\n<span class=\"delete\">&nbsp;</span><ol><li>1<li>2<li>3<li>4<li>5<li>6<li>7<li>8<li>9<li>10</ol>            </div>\\n        </div>\\n        <div class=\"inline\">\\n            <div class=\"pending\"></div>\\n            <div class=\"unseeable\">NOT YET RELEASED</div>\\n            <div class=\"unseen\"> </div>\\n            <div class=\"rating\"></div>\\n            <div class=\"seen\">Seen</div>\\n        </div>\\n    </div>\\n    </td>\\n    <td class=\"watchlistColumn\">\\n        <div class=\"wlb_ribbon\" data-tconst=\"tt6206564\" data-recordmetrics=\"true\"></div>\\n    </td>\\n  </tr>\\n\\n  <tr>\\n    <td class=\"posterColumn\">\\n\\n    <span name=\"rk\" data-value=\"228\"></span>\\n    <span name=\"ir\" data-value=\"7.510237499496562\"></span>\\n    <span name=\"us\" data-value=\"9.036576E11\"></span>\\n    <span name=\"nv\" data-value=\"26710\"></span>\\n    <span name=\"ur\" data-value=\"-3.4897625005034376\"></span>\\n<a href=\"/title/tt0164538/\"\\n> <img src=\"https://m.media-amazon.com/images/M/MV5BMThjOGRjNmMtNjBmZi00MDJlLWE1YWUtZDY2YmU3YWMyYjlmXkEyXkFqcGdeQXVyODE5NzE3OTE@._V1_UY67_CR1,0,45,67_AL_.jpg\" width=\"45\" height=\"67\" alt=\"Dil Se..\"/>\\n</a>    </td>\\n    <td class=\"titleColumn\">\\n      228.\\n      <a href=\"/title/tt0164538/\"\\ntitle=\"Mani Ratnam (dir.), Shah Rukh Khan, Manisha Koirala\" >Dil Se..</a>\\n        <span class=\"secondaryInfo\">(1998)</span>\\n    </td>\\n    <td class=\"ratingColumn imdbRating\">\\n            <strong title=\"7.5 based on 26,710 user ratings\">7.5</strong>\\n    </td>\\n    <td class=\"ratingColumn\">\\n    <div class=\"seen-widget seen-widget-tt0164538 pending\" data-titleid=\"tt0164538\">\\n        <div class=\"boundary\">\\n            <div class=\"popover\">\\n<span class=\"delete\">&nbsp;</span><ol><li>1<li>2<li>3<li>4<li>5<li>6<li>7<li>8<li>9<li>10</ol>            </div>\\n        </div>\\n        <div class=\"inline\">\\n            <div class=\"pending\"></div>\\n            <div class=\"unseeable\">NOT YET RELEASED</div>\\n            <div class=\"unseen\"> </div>\\n            <div class=\"rating\"></div>\\n            <div class=\"seen\">Seen</div>\\n        </div>\\n    </div>\\n    </td>\\n    <td class=\"watchlistColumn\">\\n        <div class=\"wlb_ribbon\" data-tconst=\"tt0164538\" data-recordmetrics=\"true\"></div>\\n    </td>\\n  </tr>\\n\\n  <tr>\\n    <td class=\"posterColumn\">\\n\\n    <span name=\"rk\" data-value=\"229\"></span>\\n    <span name=\"ir\" data-value=\"7.510078821008783\"></span>\\n    <span name=\"us\" data-value=\"1.0742112E12\"></span>\\n    <span name=\"nv\" data-value=\"6804\"></span>\\n    <span name=\"ur\" data-value=\"-3.4899211789912172\"></span>\\n<a href=\"/title/tt0352314/\"\\n> <img src=\"https://m.media-amazon.com/images/M/MV5BYjhiZmZjYTAtY2M4Zi00YWMzLTg0YTctZjVhOTc0MjhkYTRhXkEyXkFqcGdeQXVyODE5NzE3OTE@._V1_UY67_CR0,0,45,67_AL_.jpg\" width=\"45\" height=\"67\" alt=\"Ek Hasina Thi\"/>\\n</a>    </td>\\n    <td class=\"titleColumn\">\\n      229.\\n      <a href=\"/title/tt0352314/\"\\ntitle=\"Sriram Raghavan (dir.), Saif Ali Khan, Urmila Matondkar\" >Ek Hasina Thi</a>\\n        <span class=\"secondaryInfo\">(2004)</span>\\n    </td>\\n    <td class=\"ratingColumn imdbRating\">\\n            <strong title=\"7.5 based on 6,804 user ratings\">7.5</strong>\\n    </td>\\n    <td class=\"ratingColumn\">\\n    <div class=\"seen-widget seen-widget-tt0352314 pending\" data-titleid=\"tt0352314\">\\n        <div class=\"boundary\">\\n            <div class=\"popover\">\\n<span class=\"delete\">&nbsp;</span><ol><li>1<li>2<li>3<li>4<li>5<li>6<li>7<li>8<li>9<li>10</ol>            </div>\\n        </div>\\n        <div class=\"inline\">\\n            <div class=\"pending\"></div>\\n            <div class=\"unseeable\">NOT YET RELEASED</div>\\n            <div class=\"unseen\"> </div>\\n            <div class=\"rating\"></div>\\n            <div class=\"seen\">Seen</div>\\n        </div>\\n    </div>\\n    </td>\\n    <td class=\"watchlistColumn\">\\n        <div class=\"wlb_ribbon\" data-tconst=\"tt0352314\" data-recordmetrics=\"true\"></div>\\n    </td>\\n  </tr>\\n\\n  <tr>\\n    <td class=\"posterColumn\">\\n\\n    <span name=\"rk\" data-value=\"230\"></span>\\n    <span name=\"ir\" data-value=\"7.504148379473258\"></span>\\n    <span name=\"us\" data-value=\"1.2604032E12\"></span>\\n    <span name=\"nv\" data-value=\"18820\"></span>\\n    <span name=\"ur\" data-value=\"-3.495851620526742\"></span>\\n<a href=\"/title/tt1434447/\"\\n> <img src=\"https://m.media-amazon.com/images/M/MV5BNDdhYjZiNjYtZmNhZS00NWFiLWFlNzgtNzRkMTU4ZWUwNTE4XkEyXkFqcGdeQXVyNTkzNDQ4ODc@._V1_UY67_CR2,0,45,67_AL_.jpg\" width=\"45\" height=\"67\" alt=\"Rocket Singh: Salesman of the Year\"/>\\n</a>    </td>\\n    <td class=\"titleColumn\">\\n      230.\\n      <a href=\"/title/tt1434447/\"\\ntitle=\"Shimit Amin (dir.), Ranbir Kapoor, Prem Chopra\" >Rocket Singh: Salesman of the Year</a>\\n        <span class=\"secondaryInfo\">(2009)</span>\\n    </td>\\n    <td class=\"ratingColumn imdbRating\">\\n            <strong title=\"7.5 based on 18,820 user ratings\">7.5</strong>\\n    </td>\\n    <td class=\"ratingColumn\">\\n    <div class=\"seen-widget seen-widget-tt1434447 pending\" data-titleid=\"tt1434447\">\\n        <div class=\"boundary\">\\n            <div class=\"popover\">\\n<span class=\"delete\">&nbsp;</span><ol><li>1<li>2<li>3<li>4<li>5<li>6<li>7<li>8<li>9<li>10</ol>            </div>\\n        </div>\\n        <div class=\"inline\">\\n            <div class=\"pending\"></div>\\n            <div class=\"unseeable\">NOT YET RELEASED</div>\\n            <div class=\"unseen\"> </div>\\n            <div class=\"rating\"></div>\\n            <div class=\"seen\">Seen</div>\\n        </div>\\n    </div>\\n    </td>\\n    <td class=\"watchlistColumn\">\\n        <div class=\"wlb_ribbon\" data-tconst=\"tt1434447\" data-recordmetrics=\"true\"></div>\\n    </td>\\n  </tr>\\n\\n  <tr>\\n    <td class=\"posterColumn\">\\n\\n    <span name=\"rk\" data-value=\"231\"></span>\\n    <span name=\"ir\" data-value=\"7.503296201071215\"></span>\\n    <span name=\"us\" data-value=\"1.5278112E12\"></span>\\n    <span name=\"nv\" data-value=\"6784\"></span>\\n    <span name=\"ur\" data-value=\"-3.4967037989287846\"></span>\\n<a href=\"/title/tt6129302/\"\\n> <img src=\"https://m.media-amazon.com/images/M/MV5BOWYxMGM5NGUtYjE4Mi00NjQ2LTllYjUtNTMyNTdjZGIxZjcxXkEyXkFqcGdeQXVyNzkxOTEyMjI@._V1_UY67_CR0,0,45,67_AL_.jpg\" width=\"45\" height=\"67\" alt=\"Bhavesh Joshi Superhero\"/>\\n</a>    </td>\\n    <td class=\"titleColumn\">\\n      231.\\n      <a href=\"/title/tt6129302/\"\\ntitle=\"Vikramaditya Motwane (dir.), Harshvardhan Kapoor, Priyanshu Painyuli\" >Bhavesh Joshi Superhero</a>\\n        <span class=\"secondaryInfo\">(2018)</span>\\n    </td>\\n    <td class=\"ratingColumn imdbRating\">\\n            <strong title=\"7.5 based on 6,784 user ratings\">7.5</strong>\\n    </td>\\n    <td class=\"ratingColumn\">\\n    <div class=\"seen-widget seen-widget-tt6129302 pending\" data-titleid=\"tt6129302\">\\n        <div class=\"boundary\">\\n            <div class=\"popover\">\\n<span class=\"delete\">&nbsp;</span><ol><li>1<li>2<li>3<li>4<li>5<li>6<li>7<li>8<li>9<li>10</ol>            </div>\\n        </div>\\n        <div class=\"inline\">\\n            <div class=\"pending\"></div>\\n            <div class=\"unseeable\">NOT YET RELEASED</div>\\n            <div class=\"unseen\"> </div>\\n            <div class=\"rating\"></div>\\n            <div class=\"seen\">Seen</div>\\n        </div>\\n    </div>\\n    </td>\\n    <td class=\"watchlistColumn\">\\n        <div class=\"wlb_ribbon\" data-tconst=\"tt6129302\" data-recordmetrics=\"true\"></div>\\n    </td>\\n  </tr>\\n\\n  <tr>\\n    <td class=\"posterColumn\">\\n\\n    <span name=\"rk\" data-value=\"232\"></span>\\n    <span name=\"ir\" data-value=\"7.501136459435482\"></span>\\n    <span name=\"us\" data-value=\"1.059696E12\"></span>\\n    <span name=\"nv\" data-value=\"13176\"></span>\\n    <span name=\"ur\" data-value=\"-3.4988635405645176\"></span>\\n<a href=\"/title/tt0371735/\"\\n> <img src=\"https://m.media-amazon.com/images/M/MV5BNTVjMWY5MGUtNjU2MS00NzgxLWJhZWUtM2VjMDE4YWRkOWFjXkEyXkFqcGdeQXVyODAzNzAwOTU@._V1_UY67_CR0,0,45,67_AL_.jpg\" width=\"45\" height=\"67\" alt=\"Hungama\"/>\\n</a>    </td>\\n    <td class=\"titleColumn\">\\n      232.\\n      <a href=\"/title/tt0371735/\"\\ntitle=\"Priyadarshan (dir.), Akshaye Khanna, Aftab Shivdasani\" >Hungama</a>\\n        <span class=\"secondaryInfo\">(2003)</span>\\n    </td>\\n    <td class=\"ratingColumn imdbRating\">\\n            <strong title=\"7.5 based on 13,176 user ratings\">7.5</strong>\\n    </td>\\n    <td class=\"ratingColumn\">\\n    <div class=\"seen-widget seen-widget-tt0371735 pending\" data-titleid=\"tt0371735\">\\n        <div class=\"boundary\">\\n            <div class=\"popover\">\\n<span class=\"delete\">&nbsp;</span><ol><li>1<li>2<li>3<li>4<li>5<li>6<li>7<li>8<li>9<li>10</ol>            </div>\\n        </div>\\n        <div class=\"inline\">\\n            <div class=\"pending\"></div>\\n            <div class=\"unseeable\">NOT YET RELEASED</div>\\n            <div class=\"unseen\"> </div>\\n            <div class=\"rating\"></div>\\n            <div class=\"seen\">Seen</div>\\n        </div>\\n    </div>\\n    </td>\\n    <td class=\"watchlistColumn\">\\n        <div class=\"wlb_ribbon\" data-tconst=\"tt0371735\" data-recordmetrics=\"true\"></div>\\n    </td>\\n  </tr>\\n\\n  <tr>\\n    <td class=\"posterColumn\">\\n\\n    <span name=\"rk\" data-value=\"233\"></span>\\n    <span name=\"ir\" data-value=\"7.498189586377649\"></span>\\n    <span name=\"us\" data-value=\"1.286496E12\"></span>\\n    <span name=\"nv\" data-value=\"5038\"></span>\\n    <span name=\"ur\" data-value=\"-3.5018104136223513\"></span>\\n<a href=\"/title/tt1714832/\"\\n> <img src=\"https://m.media-amazon.com/images/M/MV5BZjcyMmMzZWUtNzkyZC00ZGJiLThhZTAtOGNjMjdiYTUxOWM2XkEyXkFqcGdeQXVyODE5NzE3OTE@._V1_UY67_CR0,0,45,67_AL_.jpg\" width=\"45\" height=\"67\" alt=\"Do Dooni Chaar\"/>\\n</a>    </td>\\n    <td class=\"titleColumn\">\\n      233.\\n      <a href=\"/title/tt1714832/\"\\ntitle=\"Habib Faisal (dir.), Rishi Kapoor, Neetu Singh\" >Do Dooni Chaar</a>\\n        <span class=\"secondaryInfo\">(2010)</span>\\n    </td>\\n    <td class=\"ratingColumn imdbRating\">\\n            <strong title=\"7.5 based on 5,038 user ratings\">7.5</strong>\\n    </td>\\n    <td class=\"ratingColumn\">\\n    <div class=\"seen-widget seen-widget-tt1714832 pending\" data-titleid=\"tt1714832\">\\n        <div class=\"boundary\">\\n            <div class=\"popover\">\\n<span class=\"delete\">&nbsp;</span><ol><li>1<li>2<li>3<li>4<li>5<li>6<li>7<li>8<li>9<li>10</ol>            </div>\\n        </div>\\n        <div class=\"inline\">\\n            <div class=\"pending\"></div>\\n            <div class=\"unseeable\">NOT YET RELEASED</div>\\n            <div class=\"unseen\"> </div>\\n            <div class=\"rating\"></div>\\n            <div class=\"seen\">Seen</div>\\n        </div>\\n    </div>\\n    </td>\\n    <td class=\"watchlistColumn\">\\n        <div class=\"wlb_ribbon\" data-tconst=\"tt1714832\" data-recordmetrics=\"true\"></div>\\n    </td>\\n  </tr>\\n\\n  <tr>\\n    <td class=\"posterColumn\">\\n\\n    <span name=\"rk\" data-value=\"234\"></span>\\n    <span name=\"ir\" data-value=\"7.497189576714223\"></span>\\n    <span name=\"us\" data-value=\"1.4690592E12\"></span>\\n    <span name=\"nv\" data-value=\"13225\"></span>\\n    <span name=\"ur\" data-value=\"-3.5028104232857773\"></span>\\n<a href=\"/title/tt5713232/\"\\n> <img src=\"https://m.media-amazon.com/images/M/MV5BZDFjODM0NDAtNGJkZC00NmRiLWI3NmYtZDFkYmRhYmE4Zjk3XkEyXkFqcGdeQXVyNTIwODMzNjc@._V1_UY67_CR0,0,45,67_AL_.jpg\" width=\"45\" height=\"67\" alt=\"Madaari\"/>\\n</a>    </td>\\n    <td class=\"titleColumn\">\\n      234.\\n      <a href=\"/title/tt5713232/\"\\ntitle=\"Nishikant Kamat (dir.), Irrfan Khan, Jimmy Sheirgill\" >Madaari</a>\\n        <span class=\"secondaryInfo\">(2016)</span>\\n    </td>\\n    <td class=\"ratingColumn imdbRating\">\\n            <strong title=\"7.5 based on 13,225 user ratings\">7.5</strong>\\n    </td>\\n    <td class=\"ratingColumn\">\\n    <div class=\"seen-widget seen-widget-tt5713232 pending\" data-titleid=\"tt5713232\">\\n        <div class=\"boundary\">\\n            <div class=\"popover\">\\n<span class=\"delete\">&nbsp;</span><ol><li>1<li>2<li>3<li>4<li>5<li>6<li>7<li>8<li>9<li>10</ol>            </div>\\n        </div>\\n        <div class=\"inline\">\\n            <div class=\"pending\"></div>\\n            <div class=\"unseeable\">NOT YET RELEASED</div>\\n            <div class=\"unseen\"> </div>\\n            <div class=\"rating\"></div>\\n            <div class=\"seen\">Seen</div>\\n        </div>\\n    </div>\\n    </td>\\n    <td class=\"watchlistColumn\">\\n        <div class=\"wlb_ribbon\" data-tconst=\"tt5713232\" data-recordmetrics=\"true\"></div>\\n    </td>\\n  </tr>\\n\\n  <tr>\\n    <td class=\"posterColumn\">\\n\\n    <span name=\"rk\" data-value=\"235\"></span>\\n    <span name=\"ir\" data-value=\"7.49493912236168\"></span>\\n    <span name=\"us\" data-value=\"1.5342048E12\"></span>\\n    <span name=\"nv\" data-value=\"10292\"></span>\\n    <span name=\"ur\" data-value=\"-3.5050608776383196\"></span>\\n<a href=\"/title/tt8590896/\"\\n> <img src=\"https://m.media-amazon.com/images/M/MV5BZDgwZTAxODAtY2JmYy00YzE2LWJlN2EtYzMyMDUyOGFmNzI0XkEyXkFqcGdeQXVyNTgxODY5ODI@._V1_UY67_CR2,0,45,67_AL_.jpg\" width=\"45\" height=\"67\" alt=\"Geetha Govindam\"/>\\n</a>    </td>\\n    <td class=\"titleColumn\">\\n      235.\\n      <a href=\"/title/tt8590896/\"\\ntitle=\"Parasuram (dir.), Vijay Deverakonda, Rashmika Mandanna\" >Geetha Govindam</a>\\n        <span class=\"secondaryInfo\">(2018)</span>\\n    </td>\\n    <td class=\"ratingColumn imdbRating\">\\n            <strong title=\"7.5 based on 10,292 user ratings\">7.5</strong>\\n    </td>\\n    <td class=\"ratingColumn\">\\n    <div class=\"seen-widget seen-widget-tt8590896 pending\" data-titleid=\"tt8590896\">\\n        <div class=\"boundary\">\\n            <div class=\"popover\">\\n<span class=\"delete\">&nbsp;</span><ol><li>1<li>2<li>3<li>4<li>5<li>6<li>7<li>8<li>9<li>10</ol>            </div>\\n        </div>\\n        <div class=\"inline\">\\n            <div class=\"pending\"></div>\\n            <div class=\"unseeable\">NOT YET RELEASED</div>\\n            <div class=\"unseen\"> </div>\\n            <div class=\"rating\"></div>\\n            <div class=\"seen\">Seen</div>\\n        </div>\\n    </div>\\n    </td>\\n    <td class=\"watchlistColumn\">\\n        <div class=\"wlb_ribbon\" data-tconst=\"tt8590896\" data-recordmetrics=\"true\"></div>\\n    </td>\\n  </tr>\\n\\n  <tr>\\n    <td class=\"posterColumn\">\\n\\n    <span name=\"rk\" data-value=\"236\"></span>\\n    <span name=\"ir\" data-value=\"7.494639412446356\"></span>\\n    <span name=\"us\" data-value=\"1.0034496E12\"></span>\\n    <span name=\"nv\" data-value=\"7373\"></span>\\n    <span name=\"ur\" data-value=\"-3.5053605875536444\"></span>\\n<a href=\"/title/tt0299108/\"\\n> <img src=\"https://m.media-amazon.com/images/M/MV5BZmVjOTY1NjUtMjVkYS00YjE4LTk5N2YtMWU2MTA4NmJjM2I1XkEyXkFqcGdeQXVyOTk3NTc2MzE@._V1_UY67_CR2,0,45,67_AL_.jpg\" width=\"45\" height=\"67\" alt=\"Rehnaa Hai Terre Dil Mein\"/>\\n</a>    </td>\\n    <td class=\"titleColumn\">\\n      236.\\n      <a href=\"/title/tt0299108/\"\\ntitle=\"Gautham Vasudev Menon (dir.), Madhavan, Saif Ali Khan\" >Rehnaa Hai Terre Dil Mein</a>\\n        <span class=\"secondaryInfo\">(2001)</span>\\n    </td>\\n    <td class=\"ratingColumn imdbRating\">\\n            <strong title=\"7.5 based on 7,373 user ratings\">7.5</strong>\\n    </td>\\n    <td class=\"ratingColumn\">\\n    <div class=\"seen-widget seen-widget-tt0299108 pending\" data-titleid=\"tt0299108\">\\n        <div class=\"boundary\">\\n            <div class=\"popover\">\\n<span class=\"delete\">&nbsp;</span><ol><li>1<li>2<li>3<li>4<li>5<li>6<li>7<li>8<li>9<li>10</ol>            </div>\\n        </div>\\n        <div class=\"inline\">\\n            <div class=\"pending\"></div>\\n            <div class=\"unseeable\">NOT YET RELEASED</div>\\n            <div class=\"unseen\"> </div>\\n            <div class=\"rating\"></div>\\n            <div class=\"seen\">Seen</div>\\n        </div>\\n    </div>\\n    </td>\\n    <td class=\"watchlistColumn\">\\n        <div class=\"wlb_ribbon\" data-tconst=\"tt0299108\" data-recordmetrics=\"true\"></div>\\n    </td>\\n  </tr>\\n\\n  <tr>\\n    <td class=\"posterColumn\">\\n\\n    <span name=\"rk\" data-value=\"237\"></span>\\n    <span name=\"ir\" data-value=\"7.494449923909344\"></span>\\n    <span name=\"us\" data-value=\"1.3632192E12\"></span>\\n    <span name=\"nv\" data-value=\"17670\"></span>\\n    <span name=\"ur\" data-value=\"-3.505550076090656\"></span>\\n<a href=\"/title/tt2621000/\"\\n> <img src=\"https://m.media-amazon.com/images/M/MV5BZDdjYzYxMGEtOWQ0Yi00ZTlhLThhZTgtNjhjNWQ1YzU1ZGNiXkEyXkFqcGdeQXVyODE5NzE3OTE@._V1_UY67_CR2,0,45,67_AL_.jpg\" width=\"45\" height=\"67\" alt=\"Jolly LLB\"/>\\n</a>    </td>\\n    <td class=\"titleColumn\">\\n      237.\\n      <a href=\"/title/tt2621000/\"\\ntitle=\"Subhash Kapoor (dir.), Arshad Warsi, Amrita Rao\" >Jolly LLB</a>\\n        <span class=\"secondaryInfo\">(2013)</span>\\n    </td>\\n    <td class=\"ratingColumn imdbRating\">\\n            <strong title=\"7.5 based on 17,670 user ratings\">7.5</strong>\\n    </td>\\n    <td class=\"ratingColumn\">\\n    <div class=\"seen-widget seen-widget-tt2621000 pending\" data-titleid=\"tt2621000\">\\n        <div class=\"boundary\">\\n            <div class=\"popover\">\\n<span class=\"delete\">&nbsp;</span><ol><li>1<li>2<li>3<li>4<li>5<li>6<li>7<li>8<li>9<li>10</ol>            </div>\\n        </div>\\n        <div class=\"inline\">\\n            <div class=\"pending\"></div>\\n            <div class=\"unseeable\">NOT YET RELEASED</div>\\n            <div class=\"unseen\"> </div>\\n            <div class=\"rating\"></div>\\n            <div class=\"seen\">Seen</div>\\n        </div>\\n    </div>\\n    </td>\\n    <td class=\"watchlistColumn\">\\n        <div class=\"wlb_ribbon\" data-tconst=\"tt2621000\" data-recordmetrics=\"true\"></div>\\n    </td>\\n  </tr>\\n\\n  <tr>\\n    <td class=\"posterColumn\">\\n\\n    <span name=\"rk\" data-value=\"238\"></span>\\n    <span name=\"ir\" data-value=\"7.488750359463368\"></span>\\n    <span name=\"us\" data-value=\"1.567728E12\"></span>\\n    <span name=\"nv\" data-value=\"5721\"></span>\\n    <span name=\"ur\" data-value=\"-3.511249640536632\"></span>\\n<a href=\"/title/tt8721556/\"\\n> <img src=\"https://m.media-amazon.com/images/M/MV5BMGQ2ZWIzMjYtODlhZi00ZjA0LWFjMDEtMzNkMzBiOTRiYmY0XkEyXkFqcGdeQXVyMjkxNzQ1NDI@._V1_UY67_CR0,0,45,67_AL_.jpg\" width=\"45\" height=\"67\" alt=\"Jallikattu\"/>\\n</a>    </td>\\n    <td class=\"titleColumn\">\\n      238.\\n      <a href=\"/title/tt8721556/\"\\ntitle=\"Lijo Jose Pellissery (dir.), Antony Varghese, Chemban Vinod Jose\" >Jallikattu</a>\\n        <span class=\"secondaryInfo\">(2019)</span>\\n    </td>\\n    <td class=\"ratingColumn imdbRating\">\\n            <strong title=\"7.5 based on 5,721 user ratings\">7.5</strong>\\n    </td>\\n    <td class=\"ratingColumn\">\\n    <div class=\"seen-widget seen-widget-tt8721556 pending\" data-titleid=\"tt8721556\">\\n        <div class=\"boundary\">\\n            <div class=\"popover\">\\n<span class=\"delete\">&nbsp;</span><ol><li>1<li>2<li>3<li>4<li>5<li>6<li>7<li>8<li>9<li>10</ol>            </div>\\n        </div>\\n        <div class=\"inline\">\\n            <div class=\"pending\"></div>\\n            <div class=\"unseeable\">NOT YET RELEASED</div>\\n            <div class=\"unseen\"> </div>\\n            <div class=\"rating\"></div>\\n            <div class=\"seen\">Seen</div>\\n        </div>\\n    </div>\\n    </td>\\n    <td class=\"watchlistColumn\">\\n        <div class=\"wlb_ribbon\" data-tconst=\"tt8721556\" data-recordmetrics=\"true\"></div>\\n    </td>\\n  </tr>\\n\\n  <tr>\\n    <td class=\"posterColumn\">\\n\\n    <span name=\"rk\" data-value=\"239\"></span>\\n    <span name=\"ir\" data-value=\"7.488608043517025\"></span>\\n    <span name=\"us\" data-value=\"1.4872896E12\"></span>\\n    <span name=\"nv\" data-value=\"11884\"></span>\\n    <span name=\"ur\" data-value=\"-3.511391956482975\"></span>\\n<a href=\"/title/tt6299040/\"\\n> <img src=\"https://m.media-amazon.com/images/M/MV5BZWJjM2U2ODUtNDZkZi00NjdhLWE0MzMtYzIyNzE0ZTcyNmJkL2ltYWdlXkEyXkFqcGdeQXVyNjQ2MjQ5NzM@._V1_UY67_CR0,0,45,67_AL_.jpg\" width=\"45\" height=\"67\" alt=\"The Ghazi Attack\"/>\\n</a>    </td>\\n    <td class=\"titleColumn\">\\n      239.\\n      <a href=\"/title/tt6299040/\"\\ntitle=\"Sankalp Reddy (dir.), Rana Daggubati, Kay Kay Menon\" >The Ghazi Attack</a>\\n        <span class=\"secondaryInfo\">(2017)</span>\\n    </td>\\n    <td class=\"ratingColumn imdbRating\">\\n            <strong title=\"7.5 based on 11,884 user ratings\">7.5</strong>\\n    </td>\\n    <td class=\"ratingColumn\">\\n    <div class=\"seen-widget seen-widget-tt6299040 pending\" data-titleid=\"tt6299040\">\\n        <div class=\"boundary\">\\n            <div class=\"popover\">\\n<span class=\"delete\">&nbsp;</span><ol><li>1<li>2<li>3<li>4<li>5<li>6<li>7<li>8<li>9<li>10</ol>            </div>\\n        </div>\\n        <div class=\"inline\">\\n            <div class=\"pending\"></div>\\n            <div class=\"unseeable\">NOT YET RELEASED</div>\\n            <div class=\"unseen\"> </div>\\n            <div class=\"rating\"></div>\\n            <div class=\"seen\">Seen</div>\\n        </div>\\n    </div>\\n    </td>\\n    <td class=\"watchlistColumn\">\\n        <div class=\"wlb_ribbon\" data-tconst=\"tt6299040\" data-recordmetrics=\"true\"></div>\\n    </td>\\n  </tr>\\n\\n  <tr>\\n    <td class=\"posterColumn\">\\n\\n    <span name=\"rk\" data-value=\"240\"></span>\\n    <span name=\"ir\" data-value=\"7.470157259452388\"></span>\\n    <span name=\"us\" data-value=\"1.08216E12\"></span>\\n    <span name=\"nv\" data-value=\"8423\"></span>\\n    <span name=\"ur\" data-value=\"-3.529842740547612\"></span>\\n<a href=\"/title/tt0422320/\"\\n> <img src=\"https://m.media-amazon.com/images/M/MV5BY2MyOTA2MjUtZmI5Ny00MmU0LTk4ZTUtYmU1ZDA1NTBkODRjXkEyXkFqcGdeQXVyOTA3MTc1OTg@._V1_UY67_CR2,0,45,67_AL_.jpg\" width=\"45\" height=\"67\" alt=\"Ghilli\"/>\\n</a>    </td>\\n    <td class=\"titleColumn\">\\n      240.\\n      <a href=\"/title/tt0422320/\"\\ntitle=\"Dharani (dir.), Joseph Vijay, Trisha Krishnan\" >Ghilli</a>\\n        <span class=\"secondaryInfo\">(2004)</span>\\n    </td>\\n    <td class=\"ratingColumn imdbRating\">\\n            <strong title=\"7.5 based on 8,423 user ratings\">7.5</strong>\\n    </td>\\n    <td class=\"ratingColumn\">\\n    <div class=\"seen-widget seen-widget-tt0422320 pending\" data-titleid=\"tt0422320\">\\n        <div class=\"boundary\">\\n            <div class=\"popover\">\\n<span class=\"delete\">&nbsp;</span><ol><li>1<li>2<li>3<li>4<li>5<li>6<li>7<li>8<li>9<li>10</ol>            </div>\\n        </div>\\n        <div class=\"inline\">\\n            <div class=\"pending\"></div>\\n            <div class=\"unseeable\">NOT YET RELEASED</div>\\n            <div class=\"unseen\"> </div>\\n            <div class=\"rating\"></div>\\n            <div class=\"seen\">Seen</div>\\n        </div>\\n    </div>\\n    </td>\\n    <td class=\"watchlistColumn\">\\n        <div class=\"wlb_ribbon\" data-tconst=\"tt0422320\" data-recordmetrics=\"true\"></div>\\n    </td>\\n  </tr>\\n\\n  <tr>\\n    <td class=\"posterColumn\">\\n\\n    <span name=\"rk\" data-value=\"241\"></span>\\n    <span name=\"ir\" data-value=\"7.46824571204675\"></span>\\n    <span name=\"us\" data-value=\"1.5030144E12\"></span>\\n    <span name=\"nv\" data-value=\"19166\"></span>\\n    <span name=\"ur\" data-value=\"-3.53175428795325\"></span>\\n<a href=\"/title/tt6967980/\"\\n> <img src=\"https://m.media-amazon.com/images/M/MV5BYThmNTMwZDYtZWFiYi00MGI4LTk0NzUtMzc2Njc2MmRhOGE2XkEyXkFqcGdeQXVyODE5NzE3OTE@._V1_UY67_CR4,0,45,67_AL_.jpg\" width=\"45\" height=\"67\" alt=\"Bareilly Ki Barfi\"/>\\n</a>    </td>\\n    <td class=\"titleColumn\">\\n      241.\\n      <a href=\"/title/tt6967980/\"\\ntitle=\"Ashwiny Iyer Tiwari (dir.), Ayushmann Khurrana, Kriti Sanon\" >Bareilly Ki Barfi</a>\\n        <span class=\"secondaryInfo\">(2017)</span>\\n    </td>\\n    <td class=\"ratingColumn imdbRating\">\\n            <strong title=\"7.5 based on 19,166 user ratings\">7.5</strong>\\n    </td>\\n    <td class=\"ratingColumn\">\\n    <div class=\"seen-widget seen-widget-tt6967980 pending\" data-titleid=\"tt6967980\">\\n        <div class=\"boundary\">\\n            <div class=\"popover\">\\n<span class=\"delete\">&nbsp;</span><ol><li>1<li>2<li>3<li>4<li>5<li>6<li>7<li>8<li>9<li>10</ol>            </div>\\n        </div>\\n        <div class=\"inline\">\\n            <div class=\"pending\"></div>\\n            <div class=\"unseeable\">NOT YET RELEASED</div>\\n            <div class=\"unseen\"> </div>\\n            <div class=\"rating\"></div>\\n            <div class=\"seen\">Seen</div>\\n        </div>\\n    </div>\\n    </td>\\n    <td class=\"watchlistColumn\">\\n        <div class=\"wlb_ribbon\" data-tconst=\"tt6967980\" data-recordmetrics=\"true\"></div>\\n    </td>\\n  </tr>\\n\\n  <tr>\\n    <td class=\"posterColumn\">\\n\\n    <span name=\"rk\" data-value=\"242\"></span>\\n    <span name=\"ir\" data-value=\"7.466097759292499\"></span>\\n    <span name=\"us\" data-value=\"1.5332544E12\"></span>\\n    <span name=\"nv\" data-value=\"13027\"></span>\\n    <span name=\"ur\" data-value=\"-3.5339022407075014\"></span>\\n<a href=\"/title/tt7919680/\"\\n> <img src=\"https://m.media-amazon.com/images/M/MV5BYjYxZjc1YmMtNTIyOS00OGUyLWI5MTYtOWZiNzc5Yzc4MDBhXkEyXkFqcGdeQXVyODE5NzE3OTE@._V1_UY67_CR1,0,45,67_AL_.jpg\" width=\"45\" height=\"67\" alt=\"Karwaan\"/>\\n</a>    </td>\\n    <td class=\"titleColumn\">\\n      242.\\n      <a href=\"/title/tt7919680/\"\\ntitle=\"Akarsh Khurana (dir.), Irrfan Khan, Dulquer Salmaan\" >Karwaan</a>\\n        <span class=\"secondaryInfo\">(2018)</span>\\n    </td>\\n    <td class=\"ratingColumn imdbRating\">\\n            <strong title=\"7.5 based on 13,027 user ratings\">7.5</strong>\\n    </td>\\n    <td class=\"ratingColumn\">\\n    <div class=\"seen-widget seen-widget-tt7919680 pending\" data-titleid=\"tt7919680\">\\n        <div class=\"boundary\">\\n            <div class=\"popover\">\\n<span class=\"delete\">&nbsp;</span><ol><li>1<li>2<li>3<li>4<li>5<li>6<li>7<li>8<li>9<li>10</ol>            </div>\\n        </div>\\n        <div class=\"inline\">\\n            <div class=\"pending\"></div>\\n            <div class=\"unseeable\">NOT YET RELEASED</div>\\n            <div class=\"unseen\"> </div>\\n            <div class=\"rating\"></div>\\n            <div class=\"seen\">Seen</div>\\n        </div>\\n    </div>\\n    </td>\\n    <td class=\"watchlistColumn\">\\n        <div class=\"wlb_ribbon\" data-tconst=\"tt7919680\" data-recordmetrics=\"true\"></div>\\n    </td>\\n  </tr>\\n\\n  <tr>\\n    <td class=\"posterColumn\">\\n\\n    <span name=\"rk\" data-value=\"243\"></span>\\n    <span name=\"ir\" data-value=\"7.463904261527304\"></span>\\n    <span name=\"us\" data-value=\"1.2885696E12\"></span>\\n    <span name=\"nv\" data-value=\"5117\"></span>\\n    <span name=\"ur\" data-value=\"-3.536095738472696\"></span>\\n<a href=\"/title/tt1773015/\"\\n> <img src=\"https://m.media-amazon.com/images/M/MV5BM2U1NTllNzEtOTJhOS00MWE2LThmZWQtNjIxYmJiMmRkNmNiXkEyXkFqcGdeQXVyNDUzOTQ5MjY@._V1_UY67_CR1,0,45,67_AL_.jpg\" width=\"45\" height=\"67\" alt=\"Phas Gaye Re Obama\"/>\\n</a>    </td>\\n    <td class=\"titleColumn\">\\n      243.\\n      <a href=\"/title/tt1773015/\"\\ntitle=\"Subhash Kapoor (dir.), Rajat Kapoor, Neha Dhupia\" >Phas Gaye Re Obama</a>\\n        <span class=\"secondaryInfo\">(2010)</span>\\n    </td>\\n    <td class=\"ratingColumn imdbRating\">\\n            <strong title=\"7.5 based on 5,117 user ratings\">7.5</strong>\\n    </td>\\n    <td class=\"ratingColumn\">\\n    <div class=\"seen-widget seen-widget-tt1773015 pending\" data-titleid=\"tt1773015\">\\n        <div class=\"boundary\">\\n            <div class=\"popover\">\\n<span class=\"delete\">&nbsp;</span><ol><li>1<li>2<li>3<li>4<li>5<li>6<li>7<li>8<li>9<li>10</ol>            </div>\\n        </div>\\n        <div class=\"inline\">\\n            <div class=\"pending\"></div>\\n            <div class=\"unseeable\">NOT YET RELEASED</div>\\n            <div class=\"unseen\"> </div>\\n            <div class=\"rating\"></div>\\n            <div class=\"seen\">Seen</div>\\n        </div>\\n    </div>\\n    </td>\\n    <td class=\"watchlistColumn\">\\n        <div class=\"wlb_ribbon\" data-tconst=\"tt1773015\" data-recordmetrics=\"true\"></div>\\n    </td>\\n  </tr>\\n\\n  <tr>\\n    <td class=\"posterColumn\">\\n\\n    <span name=\"rk\" data-value=\"244\"></span>\\n    <span name=\"ir\" data-value=\"7.463484659413182\"></span>\\n    <span name=\"us\" data-value=\"1.127952E12\"></span>\\n    <span name=\"nv\" data-value=\"13193\"></span>\\n    <span name=\"ur\" data-value=\"-3.536515340586818\"></span>\\n<a href=\"/title/tt0449951/\"\\n> <img src=\"https://m.media-amazon.com/images/M/MV5BZGMxMzNlNjgtYTBhNS00YjIxLThiZjAtOTgxZjFmMzZlZTJjXkEyXkFqcGdeQXVyODE0NjUxNzY@._V1_UY67_CR1,0,45,67_AL_.jpg\" width=\"45\" height=\"67\" alt=\"Ghajini\"/>\\n</a>    </td>\\n    <td class=\"titleColumn\">\\n      244.\\n      <a href=\"/title/tt0449951/\"\\ntitle=\"A.R. Murugadoss (dir.), Suriya, Asin Thottumkal\" >Ghajini</a>\\n        <span class=\"secondaryInfo\">(2005)</span>\\n    </td>\\n    <td class=\"ratingColumn imdbRating\">\\n            <strong title=\"7.5 based on 13,193 user ratings\">7.5</strong>\\n    </td>\\n    <td class=\"ratingColumn\">\\n    <div class=\"seen-widget seen-widget-tt0449951 pending\" data-titleid=\"tt0449951\">\\n        <div class=\"boundary\">\\n            <div class=\"popover\">\\n<span class=\"delete\">&nbsp;</span><ol><li>1<li>2<li>3<li>4<li>5<li>6<li>7<li>8<li>9<li>10</ol>            </div>\\n        </div>\\n        <div class=\"inline\">\\n            <div class=\"pending\"></div>\\n            <div class=\"unseeable\">NOT YET RELEASED</div>\\n            <div class=\"unseen\"> </div>\\n            <div class=\"rating\"></div>\\n            <div class=\"seen\">Seen</div>\\n        </div>\\n    </div>\\n    </td>\\n    <td class=\"watchlistColumn\">\\n        <div class=\"wlb_ribbon\" data-tconst=\"tt0449951\" data-recordmetrics=\"true\"></div>\\n    </td>\\n  </tr>\\n\\n  <tr>\\n    <td class=\"posterColumn\">\\n\\n    <span name=\"rk\" data-value=\"245\"></span>\\n    <span name=\"ir\" data-value=\"7.459285569664975\"></span>\\n    <span name=\"us\" data-value=\"5.782752E11\"></span>\\n    <span name=\"nv\" data-value=\"10324\"></span>\\n    <span name=\"ur\" data-value=\"-3.540714430335025\"></span>\\n<a href=\"/title/tt0095936/\"\\n> <img src=\"https://m.media-amazon.com/images/M/MV5BZDAwM2E2YmEtN2I3Zi00NmY5LTkxNTAtODVmNmM4MmY2YTFjXkEyXkFqcGdeQXVyODE5NzE3OTE@._V1_UY67_CR0,0,45,67_AL_.jpg\" width=\"45\" height=\"67\" alt=\"Qayamat Se Qayamat Tak\"/>\\n</a>    </td>\\n    <td class=\"titleColumn\">\\n      245.\\n      <a href=\"/title/tt0095936/\"\\ntitle=\"Mansoor Khan (dir.), Aamir Khan, Juhi Chawla\" >Qayamat Se Qayamat Tak</a>\\n        <span class=\"secondaryInfo\">(1988)</span>\\n    </td>\\n    <td class=\"ratingColumn imdbRating\">\\n            <strong title=\"7.5 based on 10,324 user ratings\">7.5</strong>\\n    </td>\\n    <td class=\"ratingColumn\">\\n    <div class=\"seen-widget seen-widget-tt0095936 pending\" data-titleid=\"tt0095936\">\\n        <div class=\"boundary\">\\n            <div class=\"popover\">\\n<span class=\"delete\">&nbsp;</span><ol><li>1<li>2<li>3<li>4<li>5<li>6<li>7<li>8<li>9<li>10</ol>            </div>\\n        </div>\\n        <div class=\"inline\">\\n            <div class=\"pending\"></div>\\n            <div class=\"unseeable\">NOT YET RELEASED</div>\\n            <div class=\"unseen\"> </div>\\n            <div class=\"rating\"></div>\\n            <div class=\"seen\">Seen</div>\\n        </div>\\n    </div>\\n    </td>\\n    <td class=\"watchlistColumn\">\\n        <div class=\"wlb_ribbon\" data-tconst=\"tt0095936\" data-recordmetrics=\"true\"></div>\\n    </td>\\n  </tr>\\n\\n  <tr>\\n    <td class=\"posterColumn\">\\n\\n    <span name=\"rk\" data-value=\"246\"></span>\\n    <span name=\"ir\" data-value=\"7.452814074417038\"></span>\\n    <span name=\"us\" data-value=\"1.4249952E12\"></span>\\n    <span name=\"nv\" data-value=\"18015\"></span>\\n    <span name=\"ur\" data-value=\"-3.547185925582962\"></span>\\n<a href=\"/title/tt3495030/\"\\n> <img src=\"https://m.media-amazon.com/images/M/MV5BMTU4NDY2NjgxOV5BMl5BanBnXkFtZTgwMjk2NTYyNTM@._V1_UY67_CR2,0,45,67_AL_.jpg\" width=\"45\" height=\"67\" alt=\"Dum Laga Ke Haisha\"/>\\n</a>    </td>\\n    <td class=\"titleColumn\">\\n      246.\\n      <a href=\"/title/tt3495030/\"\\ntitle=\"Sharat Katariya (dir.), Bhumi Pednekar, Ayushmann Khurrana\" >Dum Laga Ke Haisha</a>\\n        <span class=\"secondaryInfo\">(2015)</span>\\n    </td>\\n    <td class=\"ratingColumn imdbRating\">\\n            <strong title=\"7.5 based on 18,015 user ratings\">7.5</strong>\\n    </td>\\n    <td class=\"ratingColumn\">\\n    <div class=\"seen-widget seen-widget-tt3495030 pending\" data-titleid=\"tt3495030\">\\n        <div class=\"boundary\">\\n            <div class=\"popover\">\\n<span class=\"delete\">&nbsp;</span><ol><li>1<li>2<li>3<li>4<li>5<li>6<li>7<li>8<li>9<li>10</ol>            </div>\\n        </div>\\n        <div class=\"inline\">\\n            <div class=\"pending\"></div>\\n            <div class=\"unseeable\">NOT YET RELEASED</div>\\n            <div class=\"unseen\"> </div>\\n            <div class=\"rating\"></div>\\n            <div class=\"seen\">Seen</div>\\n        </div>\\n    </div>\\n    </td>\\n    <td class=\"watchlistColumn\">\\n        <div class=\"wlb_ribbon\" data-tconst=\"tt3495030\" data-recordmetrics=\"true\"></div>\\n    </td>\\n  </tr>\\n\\n  <tr>\\n    <td class=\"posterColumn\">\\n\\n    <span name=\"rk\" data-value=\"247\"></span>\\n    <span name=\"ir\" data-value=\"7.452400530416297\"></span>\\n    <span name=\"us\" data-value=\"1.5676416E12\"></span>\\n    <span name=\"nv\" data-value=\"7078\"></span>\\n    <span name=\"ur\" data-value=\"-3.5475994695837034\"></span>\\n<a href=\"/title/tt8902990/\"\\n> <img src=\"https://m.media-amazon.com/images/M/MV5BNWQ5OTJjYTktMGNmYi00ZGMwLTlkYTgtODY3YWIxZDgyMzkwXkEyXkFqcGdeQXVyOTg4MzcyNzQ@._V1_UY67_CR0,0,45,67_AL_.jpg\" width=\"45\" height=\"67\" alt=\"The Sky Is Pink\"/>\\n</a>    </td>\\n    <td class=\"titleColumn\">\\n      247.\\n      <a href=\"/title/tt8902990/\"\\ntitle=\"Shonali Bose (dir.), Priyanka Chopra, Farhan Akhtar\" >The Sky Is Pink</a>\\n        <span class=\"secondaryInfo\">(2019)</span>\\n    </td>\\n    <td class=\"ratingColumn imdbRating\">\\n            <strong title=\"7.5 based on 7,078 user ratings\">7.5</strong>\\n    </td>\\n    <td class=\"ratingColumn\">\\n    <div class=\"seen-widget seen-widget-tt8902990 pending\" data-titleid=\"tt8902990\">\\n        <div class=\"boundary\">\\n            <div class=\"popover\">\\n<span class=\"delete\">&nbsp;</span><ol><li>1<li>2<li>3<li>4<li>5<li>6<li>7<li>8<li>9<li>10</ol>            </div>\\n        </div>\\n        <div class=\"inline\">\\n            <div class=\"pending\"></div>\\n            <div class=\"unseeable\">NOT YET RELEASED</div>\\n            <div class=\"unseen\"> </div>\\n            <div class=\"rating\"></div>\\n            <div class=\"seen\">Seen</div>\\n        </div>\\n    </div>\\n    </td>\\n    <td class=\"watchlistColumn\">\\n        <div class=\"wlb_ribbon\" data-tconst=\"tt8902990\" data-recordmetrics=\"true\"></div>\\n    </td>\\n  </tr>\\n\\n  <tr>\\n    <td class=\"posterColumn\">\\n\\n    <span name=\"rk\" data-value=\"248\"></span>\\n    <span name=\"ir\" data-value=\"7.448158078142574\"></span>\\n    <span name=\"us\" data-value=\"1.1816928E12\"></span>\\n    <span name=\"nv\" data-value=\"17785\"></span>\\n    <span name=\"ur\" data-value=\"-3.5518419218574264\"></span>\\n<a href=\"/title/tt0479751/\"\\n> <img src=\"https://m.media-amazon.com/images/M/MV5BYzdhMDM0NzItY2EyOC00YWMyLTgxNmMtODNhNjI1NDEzNGRkXkEyXkFqcGdeQXVyOTk3NTc2MzE@._V1_UY67_CR1,0,45,67_AL_.jpg\" width=\"45\" height=\"67\" alt=\"Sivaji\"/>\\n</a>    </td>\\n    <td class=\"titleColumn\">\\n      248.\\n      <a href=\"/title/tt0479751/\"\\ntitle=\"S. Shankar (dir.), Rajinikanth, Shriya Saran\" >Sivaji</a>\\n        <span class=\"secondaryInfo\">(2007)</span>\\n    </td>\\n    <td class=\"ratingColumn imdbRating\">\\n            <strong title=\"7.4 based on 17,785 user ratings\">7.4</strong>\\n    </td>\\n    <td class=\"ratingColumn\">\\n    <div class=\"seen-widget seen-widget-tt0479751 pending\" data-titleid=\"tt0479751\">\\n        <div class=\"boundary\">\\n            <div class=\"popover\">\\n<span class=\"delete\">&nbsp;</span><ol><li>1<li>2<li>3<li>4<li>5<li>6<li>7<li>8<li>9<li>10</ol>            </div>\\n        </div>\\n        <div class=\"inline\">\\n            <div class=\"pending\"></div>\\n            <div class=\"unseeable\">NOT YET RELEASED</div>\\n            <div class=\"unseen\"> </div>\\n            <div class=\"rating\"></div>\\n            <div class=\"seen\">Seen</div>\\n        </div>\\n    </div>\\n    </td>\\n    <td class=\"watchlistColumn\">\\n        <div class=\"wlb_ribbon\" data-tconst=\"tt0479751\" data-recordmetrics=\"true\"></div>\\n    </td>\\n  </tr>\\n\\n  <tr>\\n    <td class=\"posterColumn\">\\n\\n    <span name=\"rk\" data-value=\"249\"></span>\\n    <span name=\"ir\" data-value=\"7.4474534730062185\"></span>\\n    <span name=\"us\" data-value=\"1.5216768E12\"></span>\\n    <span name=\"nv\" data-value=\"10570\"></span>\\n    <span name=\"ur\" data-value=\"-3.5525465269937815\"></span>\\n<a href=\"/title/tt6588966/\"\\n> <img src=\"https://m.media-amazon.com/images/M/MV5BMDNkZTVjYWMtZGJjNS00YTM5LWI1YmMtYmY0ZDFlOWNlZjFmXkEyXkFqcGdeQXVyMTkzOTcxOTg@._V1_UY67_CR1,0,45,67_AL_.jpg\" width=\"45\" height=\"67\" alt=\"Hichki\"/>\\n</a>    </td>\\n    <td class=\"titleColumn\">\\n      249.\\n      <a href=\"/title/tt6588966/\"\\ntitle=\"Siddharth Malhotra (dir.), Rani Mukerji, Rohit Saraf\" >Hichki</a>\\n        <span class=\"secondaryInfo\">(2018)</span>\\n    </td>\\n    <td class=\"ratingColumn imdbRating\">\\n            <strong title=\"7.4 based on 10,570 user ratings\">7.4</strong>\\n    </td>\\n    <td class=\"ratingColumn\">\\n    <div class=\"seen-widget seen-widget-tt6588966 pending\" data-titleid=\"tt6588966\">\\n        <div class=\"boundary\">\\n            <div class=\"popover\">\\n<span class=\"delete\">&nbsp;</span><ol><li>1<li>2<li>3<li>4<li>5<li>6<li>7<li>8<li>9<li>10</ol>            </div>\\n        </div>\\n        <div class=\"inline\">\\n            <div class=\"pending\"></div>\\n            <div class=\"unseeable\">NOT YET RELEASED</div>\\n            <div class=\"unseen\"> </div>\\n            <div class=\"rating\"></div>\\n            <div class=\"seen\">Seen</div>\\n        </div>\\n    </div>\\n    </td>\\n    <td class=\"watchlistColumn\">\\n        <div class=\"wlb_ribbon\" data-tconst=\"tt6588966\" data-recordmetrics=\"true\"></div>\\n    </td>\\n  </tr>\\n\\n  <tr>\\n    <td class=\"posterColumn\">\\n\\n    <span name=\"rk\" data-value=\"250\"></span>\\n    <span name=\"ir\" data-value=\"7.44682516415045\"></span>\\n    <span name=\"us\" data-value=\"1.5234912E12\"></span>\\n    <span name=\"nv\" data-value=\"13383\"></span>\\n    <span name=\"ur\" data-value=\"-3.55317483584955\"></span>\\n<a href=\"/title/tt7700730/\"\\n> <img src=\"https://m.media-amazon.com/images/M/MV5BNTM5NjZmMTgtMDEwMi00ZTc3LWIwOTItY2I2NjBiYmZlNzRjXkEyXkFqcGdeQXVyODE5NzE3OTE@._V1_UY67_CR3,0,45,67_AL_.jpg\" width=\"45\" height=\"67\" alt=\"October\"/>\\n</a>    </td>\\n    <td class=\"titleColumn\">\\n      250.\\n      <a href=\"/title/tt7700730/\"\\ntitle=\"Shoojit Sircar (dir.), Varun Dhawan, Banita Sandhu\" >October</a>\\n        <span class=\"secondaryInfo\">(2018)</span>\\n    </td>\\n    <td class=\"ratingColumn imdbRating\">\\n            <strong title=\"7.4 based on 13,383 user ratings\">7.4</strong>\\n    </td>\\n    <td class=\"ratingColumn\">\\n    <div class=\"seen-widget seen-widget-tt7700730 pending\" data-titleid=\"tt7700730\">\\n        <div class=\"boundary\">\\n            <div class=\"popover\">\\n<span class=\"delete\">&nbsp;</span><ol><li>1<li>2<li>3<li>4<li>5<li>6<li>7<li>8<li>9<li>10</ol>            </div>\\n        </div>\\n        <div class=\"inline\">\\n            <div class=\"pending\"></div>\\n            <div class=\"unseeable\">NOT YET RELEASED</div>\\n            <div class=\"unseen\"> </div>\\n            <div class=\"rating\"></div>\\n            <div class=\"seen\">Seen</div>\\n        </div>\\n    </div>\\n    </td>\\n    <td class=\"watchlistColumn\">\\n        <div class=\"wlb_ribbon\" data-tconst=\"tt7700730\" data-recordmetrics=\"true\"></div>\\n    </td>\\n  </tr>\\n        </tbody>\\n      </table>\\n    </div>\\n    <hr/>\\n          <p>The Top Rated Movie list only includes theatrical features.</p>\\n          <ul>\\n              <li>Shorts, TV movies, and documentaries are not included</li>\\n              <li>The list is ranked by a formula which includes the number of ratings each movie received from users, and value of ratings received from regular users</li>\\n              <li>To be included on the list, a movie must receive ratings from a certain minimum number of users</li>\\n          </ul>\\n            <a href=\"/help/show_leaf?votestopfaq\"\\n>Learn more about how list ranking is determined.</a>\\n  </div>\\n</div>\\n\\n                        \\n        </span>\\n\\n\\n\\n            <script type=\"text/javascript\">\\n                if(typeof uex === \\'function\\'){uex(\\'ld\\',\\'ChartWidget\\',{wb:1});}\\n            </script>\\n        \\n\\n\\n\\n\\n        </div>\\n    \\n\\n    \\n    \\n    \\n\\n    \\n    \\n    \\n\\n    \\n    \\n    \\n\\n    \\n    \\n    \\n\\n    \\n    \\n    \\n\\n    \\n    \\n    \\n\\n    \\n    \\n    \\n\\n    \\n    \\n    \\n\\n    \\n    \\n    \\n\\n    \\n    \\n    \\n\\n    \\n    \\n    \\n\\n    \\n    \\n    \\n\\n    \\n    \\n    \\n\\n    \\n    \\n    \\n\\n    \\n    \\n    \\n\\n    \\n    \\n    \\n\\n    \\n    \\n    \\n\\n    \\n    \\n    \\n\\n    \\n    \\n    \\n\\n    \\n    \\n    \\n\\n    \\n    \\n    \\n\\n    \\n    \\n    \\n\\n    \\n    \\n    \\n\\n    \\n    \\n    \\n\\n    \\n    \\n    \\n\\n    \\n    \\n    \\n\\n    \\n    \\n    \\n\\n    \\n    \\n    \\n\\n    \\n    \\n    \\n\\n    \\n    \\n    \\n            </div>\\n            <div id=\"sidebar\">\\n\\t\\n\\t<!-- no content received for slot: top_rhs -->\\n\\t\\n\\n    \\n    \\n    \\n\\n    \\n    \\n        <a name=\"slot_right-2\"></a>\\n        <div class=\"aux-content-widget-2\">\\n        \\n    \\n        \\n                                \\n\\n    \\n            <script type=\"text/javascript\">if(typeof uet === \\'function\\'){uet(\\'bb\\',\\'HaveYouSeenWidget\\',{wb:1});}</script>\\n                                \\n\\n                    \\n    \\n        <span class=\"ab_widget\">\\n        <div class=\"seen-collection\" data-collectionid=\"top-250-india\"></div>\\n<div class=\"aux-content-widget-2 seen-sidebar pending\" data-collectionid=\"top-250-india\">\\n    <h3>You Have Seen</h3>\\n    <div class=\"loading\">Calculating</div>\\n    <div class=\"seen-score\">\\n        <span class=\"seen-count\"> </span>/<span class=\"seen-size\"> </span>\\n        <span class=\"seen-pct\"></span>\\n            <div class=\"hide-seen\">\\n                <input id=\"hide-seen-top-250-india\" type=\"checkbox\">\\n                <label for=\"hide-seen-top-250-india\">Hide titles I\\'ve seen</label>\\n            </div>\\n</div></div>\\n\\n                        \\n        </span>\\n\\n\\n\\n            <script type=\"text/javascript\">\\n                if(typeof uex === \\'function\\'){uex(\\'ld\\',\\'HaveYouSeenWidget\\',{wb:1});}\\n            </script>\\n        \\n\\n\\n\\n\\n        </div>\\n    \\n\\n    \\n    \\n    \\n\\n    \\n    \\n    \\n\\n    \\n    \\n    \\n\\n    \\n    \\n    \\n\\n    \\n    \\n    \\n\\t\\n\\t<!-- no content received for slot: rhs_cornerstone -->\\n\\t\\n\\n    \\n    \\n    \\n\\n    \\n    \\n    \\n\\n    \\n    \\n    \\n\\n    \\n    \\n    \\n\\n    \\n    \\n    \\n\\n    \\n    \\n    \\n\\n    \\n    \\n    \\n\\n    \\n    \\n    \\n\\n    \\n    \\n    \\n\\n    \\n    \\n    \\n\\n    \\n    \\n    \\n\\n    \\n    \\n    \\n\\n    \\n    \\n        <a name=\"slot_right-15\"></a>\\n        <div class=\"aux-content-widget-2\">\\n        \\n    \\n        \\n                                \\n\\n    \\n            <script type=\"text/javascript\">if(typeof uet === \\'function\\'){uet(\\'bb\\',\\'LinksWidget\\',{wb:1});}</script>\\n                                \\n\\n                    \\n    \\n        <span class=\"ab_widget\">\\n            <div class=\"ab_links\">\\n<span class=\"widget_header\"> <span class=\"oneline\"> <h3> Trending Now in India</h3> </span> </span> <div class=\"widget_content no_inline_blurb\"> <div class=\"widget_nested\"> <div class=\"full-table\"> <div class=\"table-cell\"> <div class=\"full-table\"> <div class=\"table-row\"> <div class=\"table-cell primary\"> <a href=\"/india/upcoming/\" > Most Anticipated Indian Movies and Shows </a> </div> </div> <div class=\"table-row\"> <div class=\"table-cell primary\"> <a href=\"/india/tamil/\" > Trending Tamil Movies </a> </div> </div> <div class=\"table-row\"> <div class=\"table-cell primary\"> <a href=\"/india/telugu\" > Trending Telugu Movies </a> </div> </div> </div> </div> </div> </div> </div>    </div>\\n\\n                        \\n        </span>\\n\\n\\n\\n            <script type=\"text/javascript\">\\n                if(typeof uex === \\'function\\'){uex(\\'ld\\',\\'LinksWidget\\',{wb:1});}\\n            </script>\\n        \\n\\n\\n\\n\\n        </div>\\n    \\n\\n    \\n    \\n    \\n\\n    \\n    \\n    \\n\\n    \\n    \\n    \\n\\n    \\n    \\n    \\n\\n    \\n    \\n    \\n\\n    \\n    \\n    \\n\\n    \\n    \\n    \\n\\n    \\n    \\n    \\n\\n    \\n    \\n    \\n\\n    \\n    \\n    \\n\\n    \\n    \\n    \\n\\n    \\n    \\n    \\n\\n    \\n    \\n    \\n\\n    \\n    \\n    \\n\\n    \\n    \\n    \\n            </div>\\n            <br class=\"clear\" />\\n        </div>\\n\\n\\n    \\n    \\n    \\n\\n    \\n    \\n    \\n\\n\\n        <br class=\"clear\" />\\n    </div>\\n</div>\\n\\n\\n                    <div id=\"rvi-div\">\\n                        <div class=\"recently-viewed\">\\n                        <div class=\"header\">\\n                            <div class=\"rhs\">\\n                                <a id=\"clear_rvi\" href=\"#\">Clear your history</a>\\n                            </div>\\n                            <h3>Recently Viewed</h3>\\n                        </div>\\n                            <div class=\"items\">&nbsp;</div>\\n                        </div>\\n                    </div>\\n\\n\\t\\n\\t<!-- no content received for slot: bottom_ad -->\\n\\t\\n\\n    <script type=\"text/javascript\">\\n        try {\\n            window.lumierePlayer = window.lumierePlayer || {};\\n            window.lumierePlayer.weblab = JSON.parse(\\'{\"IMDB_VIDEO_PLAYER_162496\":\"C\"}\\');\\n        } catch (error) {\\n            if (window.ueLogError) {\\n                window.ueLogError(error, {\\n                    logLevel: \"WARN\",\\n                    attribution: \"videoplayer\",\\n                    message: \"Failed to parse weblabs for video player.\"\\n                });\\n            }\\n        }\\n    </script>\\n            </div>\\n        </div>\\n        \\n<script>\\n    if (typeof uet == \\'function\\') {\\n      uet(\"bb\", \"desktopFooter\", {wb: 1});\\n    }\\n</script>\\n    <div id=\"ff127664-f67e-4241-bcb0-25bd8ad5564f\">\\n       <footer class=\"imdb-footer VUGIPjGgHtzvbHiU19iTQ\"><div class=\"_32mc4FXftSbwhpJwmGCYUQ\"><div class=\"ipc-page-content-container ipc-page-content-container--center\" role=\"presentation\"><a class=\"ipc-button ipc-button--double-padding ipc-button--default-height ipc-button--core-accent1 ipc-button--theme-baseAlt imdb-footer__open-in-app-button\" role=\"button\" tabindex=\"0\" aria-disabled=\"false\" href=\"/whitelist-offsite?url=https%3A%2F%2Fslyb.app.link%2FSKdyQ6A449&amp;page-action=ft-gettheapp&amp;ref=ft_apps\"><div class=\"ipc-button__text\">Get the IMDb App</div></a></div></div><div class=\"ipc-page-content-container ipc-page-content-container--center _2AR8CsLqQAMCT1_Q7eidSY\" role=\"presentation\"><div class=\"imdb-footer__links\"><div class=\"_2Wc8yXs8SzGv7TVS-oOmhT\"><ul class=\"ipc-inline-list _1O3-k0VDASm1IeBrfofV4g baseAlt\" role=\"presentation\"><li role=\"presentation\" class=\"ipc-inline-list__item\"><a class=\"ipc-icon-link ipc-icon-link--baseAlt ipc-icon-link--onBase\" title=\"Facebook\" role=\"button\" tabindex=\"0\" aria-label=\"Facebook\" aria-disabled=\"false\" target=\"_blank\" rel=\"nofollow noopener\" href=\"/whitelist-offsite?url=https%3A%2F%2Ffacebook.com%2Fimdb&amp;page-action=fol_fb&amp;ref=ft_fol_fb\"><svg width=\"24\" height=\"24\" xmlns=\"http://www.w3.org/2000/svg\" class=\"ipc-icon ipc-icon--facebook\" viewBox=\"0 0 24 24\" fill=\"currentColor\" role=\"presentation\"><path d=\"M20.896 2H3.104C2.494 2 2 2.494 2 3.104v17.792C2 21.506 2.494 22 3.104 22h9.579v-7.745h-2.607v-3.018h2.607V9.01c0-2.584 1.577-3.99 3.882-3.99 1.104 0 2.052.082 2.329.119v2.7h-1.598c-1.254 0-1.496.595-1.496 1.47v1.927h2.989l-.39 3.018h-2.6V22h5.097c.61 0 1.104-.494 1.104-1.104V3.104C22 2.494 21.506 2 20.896 2\"></path></svg></a></li><li role=\"presentation\" class=\"ipc-inline-list__item\"><a class=\"ipc-icon-link ipc-icon-link--baseAlt ipc-icon-link--onBase\" title=\"Instagram\" role=\"button\" tabindex=\"0\" aria-label=\"Instagram\" aria-disabled=\"false\" target=\"_blank\" rel=\"nofollow noopener\" href=\"/whitelist-offsite?url=https%3A%2F%2Finstagram.com%2Fimdb&amp;page-action=fol_inst&amp;ref=ft_fol_inst\"><svg width=\"24\" height=\"24\" xmlns=\"http://www.w3.org/2000/svg\" class=\"ipc-icon ipc-icon--instagram\" viewBox=\"0 0 24 24\" fill=\"currentColor\" role=\"presentation\"><path d=\"M11.997 2.04c-2.715 0-3.056.011-4.122.06-1.064.048-1.79.217-2.426.463a4.901 4.901 0 0 0-1.771 1.151 4.89 4.89 0 0 0-1.153 1.767c-.247.635-.416 1.36-.465 2.422C2.011 8.967 2 9.307 2 12.017s.011 3.049.06 4.113c.049 1.062.218 1.787.465 2.422a4.89 4.89 0 0 0 1.153 1.767 4.901 4.901 0 0 0 1.77 1.15c.636.248 1.363.416 2.427.465 1.066.048 1.407.06 4.122.06s3.055-.012 4.122-.06c1.064-.049 1.79-.217 2.426-.464a4.901 4.901 0 0 0 1.77-1.15 4.89 4.89 0 0 0 1.154-1.768c.247-.635.416-1.36.465-2.422.048-1.064.06-1.404.06-4.113 0-2.71-.012-3.05-.06-4.114-.049-1.062-.218-1.787-.465-2.422a4.89 4.89 0 0 0-1.153-1.767 4.901 4.901 0 0 0-1.77-1.15c-.637-.247-1.363-.416-2.427-.464-1.067-.049-1.407-.06-4.122-.06m0 1.797c2.67 0 2.985.01 4.04.058.974.045 1.503.207 1.856.344.466.181.8.397 1.15.746.349.35.566.682.747 1.147.137.352.3.88.344 1.853.048 1.052.058 1.368.058 4.032 0 2.664-.01 2.98-.058 4.031-.044.973-.207 1.501-.344 1.853a3.09 3.09 0 0 1-.748 1.147c-.35.35-.683.565-1.15.746-.352.137-.88.3-1.856.344-1.054.048-1.37.058-4.04.058-2.669 0-2.985-.01-4.039-.058-.974-.044-1.504-.207-1.856-.344a3.098 3.098 0 0 1-1.15-.746 3.09 3.09 0 0 1-.747-1.147c-.137-.352-.3-.88-.344-1.853-.049-1.052-.059-1.367-.059-4.031 0-2.664.01-2.98.059-4.032.044-.973.207-1.501.344-1.853a3.09 3.09 0 0 1 .748-1.147c.35-.349.682-.565 1.149-.746.352-.137.882-.3 1.856-.344 1.054-.048 1.37-.058 4.04-.058\"></path><path d=\"M11.997 15.342a3.329 3.329 0 0 1-3.332-3.325 3.329 3.329 0 0 1 3.332-3.326 3.329 3.329 0 0 1 3.332 3.326 3.329 3.329 0 0 1-3.332 3.325m0-8.449a5.128 5.128 0 0 0-5.134 5.124 5.128 5.128 0 0 0 5.134 5.123 5.128 5.128 0 0 0 5.133-5.123 5.128 5.128 0 0 0-5.133-5.124m6.536-.203c0 .662-.537 1.198-1.2 1.198a1.198 1.198 0 1 1 1.2-1.197\"></path></svg></a></li><li role=\"presentation\" class=\"ipc-inline-list__item\"><a class=\"ipc-icon-link ipc-icon-link--baseAlt ipc-icon-link--onBase\" title=\"Twitch\" role=\"button\" tabindex=\"0\" aria-label=\"Twitch\" aria-disabled=\"false\" target=\"_blank\" rel=\"nofollow noopener\" href=\"/whitelist-offsite?url=https%3A%2F%2Ftwitch.tv%2FIMDb&amp;page-action=fol_twch&amp;ref=ft_fol_twch\"><svg width=\"24\" height=\"24\" xmlns=\"http://www.w3.org/2000/svg\" class=\"ipc-icon ipc-icon--twitch\" viewBox=\"0 0 24 24\" fill=\"currentColor\" role=\"presentation\"><path d=\"M3.406 2h18.596v12.814l-5.469 5.47H12.47L9.813 22.94H7.001v-2.657H2V5.594L3.406 2zm16.721 11.876v-10H5.125v13.126h4.22v2.656L12 17.002h5l3.126-3.126z\"></path><path d=\"M17.002 7.47v5.469h-1.875v-5.47zM12.001 7.47v5.469h-1.875v-5.47z\"></path></svg></a></li><li role=\"presentation\" class=\"ipc-inline-list__item\"><a class=\"ipc-icon-link ipc-icon-link--baseAlt ipc-icon-link--onBase\" title=\"Twitter\" role=\"button\" tabindex=\"0\" aria-label=\"Twitter\" aria-disabled=\"false\" target=\"_blank\" rel=\"nofollow noopener\" href=\"/whitelist-offsite?url=https%3A%2F%2Ftwitter.com%2Fimdb&amp;page-action=fol_tw&amp;ref=ft_fol_tw\"><svg width=\"24\" height=\"24\" xmlns=\"http://www.w3.org/2000/svg\" class=\"ipc-icon ipc-icon--twitter\" viewBox=\"0 0 24 24\" fill=\"currentColor\" role=\"presentation\"><path d=\"M8.29 19.936c7.547 0 11.675-6.13 11.675-11.446 0-.175-.004-.348-.012-.52A8.259 8.259 0 0 0 22 5.886a8.319 8.319 0 0 1-2.356.633 4.052 4.052 0 0 0 1.804-2.225c-.793.46-1.67.796-2.606.976A4.138 4.138 0 0 0 15.847 4c-2.266 0-4.104 1.802-4.104 4.023 0 .315.036.622.107.917a11.728 11.728 0 0 1-8.458-4.203 3.949 3.949 0 0 0-.556 2.022 4 4 0 0 0 1.826 3.348 4.136 4.136 0 0 1-1.858-.503l-.001.051c0 1.949 1.415 3.575 3.292 3.944a4.193 4.193 0 0 1-1.853.07c.522 1.597 2.037 2.76 3.833 2.793a8.34 8.34 0 0 1-5.096 1.722A8.51 8.51 0 0 1 2 18.13a11.785 11.785 0 0 0 6.29 1.807\"></path></svg></a></li><li role=\"presentation\" class=\"ipc-inline-list__item\"><a class=\"ipc-icon-link ipc-icon-link--baseAlt ipc-icon-link--onBase\" title=\"YouTube\" role=\"button\" tabindex=\"0\" aria-label=\"YouTube\" aria-disabled=\"false\" target=\"_blank\" rel=\"nofollow noopener\" href=\"/whitelist-offsite?url=https%3A%2F%2Fyoutube.com%2Fimdb%2F&amp;page-action=fol_yt&amp;ref=ft_fol_yt\"><svg width=\"24\" height=\"24\" xmlns=\"http://www.w3.org/2000/svg\" class=\"ipc-icon ipc-icon--youtube\" viewBox=\"0 0 24 24\" fill=\"currentColor\" role=\"presentation\"><path d=\"M9.955 14.955v-5.91L15.182 12l-5.227 2.955zm11.627-7.769a2.505 2.505 0 0 0-1.768-1.768C18.254 5 12 5 12 5s-6.254 0-7.814.418c-.86.23-1.538.908-1.768 1.768C2 8.746 2 12 2 12s0 3.254.418 4.814c.23.86.908 1.538 1.768 1.768C5.746 19 12 19 12 19s6.254 0 7.814-.418a2.505 2.505 0 0 0 1.768-1.768C22 15.254 22 12 22 12s0-3.254-.418-4.814z\"></path></svg></a></li></ul></div><div><ul class=\"ipc-inline-list _1O3-k0VDASm1IeBrfofV4g baseAlt\" role=\"presentation\"><li role=\"presentation\" class=\"ipc-inline-list__item zgFV3U-XECrqVQnyDbx2B\"><a href=\"/whitelist-offsite?url=https%3A%2F%2Fslyb.app.link%2FSKdyQ6A449&amp;page-action=ft-gettheapp&amp;ref=ft_apps\" target=\"_blank\" class=\"ipc-link ipc-link--baseAlt ipc-link--touch-target ipc-link--inherit-color ipc-link--launch\">Get the IMDb App<svg class=\"ipc-link__launch-icon\" width=\"10\" height=\"10\" viewBox=\"0 0 10 10\" xmlns=\"http://www.w3.org/2000/svg\" fill=\"#000000\"><g><path d=\"M9,9 L1,9 L1,1 L4,1 L4,0 L-1.42108547e-14,0 L-1.42108547e-14,10 L10,10 L10,6 L9,6 L9,9 Z M6,0 L6,1 L8,1 L2.998122,6.03786058 L3.998122,7.03786058 L9,2 L9,4 L10,4 L10,0 L6,0 Z\"></path></g></svg></a></li><li role=\"presentation\" class=\"ipc-inline-list__item X17C45Q1MH_7XboLL_EEG\"><a href=\"?mode=desktop&amp;ref_=m_ft_dsk\" class=\"ipc-link ipc-link--baseAlt ipc-link--touch-target ipc-link--inherit-color\">View Full Site</a></li><li role=\"presentation\" class=\"ipc-inline-list__item\"><a href=\"https://help.imdb.com/imdb?ref_=ft_hlp\" target=\"_blank\" class=\"ipc-link ipc-link--baseAlt ipc-link--touch-target ipc-link--inherit-color ipc-link--launch\">Help<svg class=\"ipc-link__launch-icon\" width=\"10\" height=\"10\" viewBox=\"0 0 10 10\" xmlns=\"http://www.w3.org/2000/svg\" fill=\"#000000\"><g><path d=\"M9,9 L1,9 L1,1 L4,1 L4,0 L-1.42108547e-14,0 L-1.42108547e-14,10 L10,10 L10,6 L9,6 L9,9 Z M6,0 L6,1 L8,1 L2.998122,6.03786058 L3.998122,7.03786058 L9,2 L9,4 L10,4 L10,0 L6,0 Z\"></path></g></svg></a></li><li role=\"presentation\" class=\"ipc-inline-list__item\"><a href=\"https://help.imdb.com/article/imdb/general-information/imdb-site-index/GNCX7BHNSPBTFALQ?ref_=ft_si#so\" target=\"_blank\" class=\"ipc-link ipc-link--baseAlt ipc-link--touch-target ipc-link--inherit-color ipc-link--launch\">Site Index<svg class=\"ipc-link__launch-icon\" width=\"10\" height=\"10\" viewBox=\"0 0 10 10\" xmlns=\"http://www.w3.org/2000/svg\" fill=\"#000000\"><g><path d=\"M9,9 L1,9 L1,1 L4,1 L4,0 L-1.42108547e-14,0 L-1.42108547e-14,10 L10,10 L10,6 L9,6 L9,9 Z M6,0 L6,1 L8,1 L2.998122,6.03786058 L3.998122,7.03786058 L9,2 L9,4 L10,4 L10,0 L6,0 Z\"></path></g></svg></a></li><li role=\"presentation\" class=\"ipc-inline-list__item\"><a href=\"https://pro.imdb.com?ref_=ft_pro&amp;rf=cons_tf_pro\" target=\"_blank\" class=\"ipc-link ipc-link--baseAlt ipc-link--touch-target ipc-link--inherit-color ipc-link--launch\">IMDbPro<svg class=\"ipc-link__launch-icon\" width=\"10\" height=\"10\" viewBox=\"0 0 10 10\" xmlns=\"http://www.w3.org/2000/svg\" fill=\"#000000\"><g><path d=\"M9,9 L1,9 L1,1 L4,1 L4,0 L-1.42108547e-14,0 L-1.42108547e-14,10 L10,10 L10,6 L9,6 L9,9 Z M6,0 L6,1 L8,1 L2.998122,6.03786058 L3.998122,7.03786058 L9,2 L9,4 L10,4 L10,0 L6,0 Z\"></path></g></svg></a></li><li role=\"presentation\" class=\"ipc-inline-list__item\"><a href=\"https://www.boxofficemojo.com\" target=\"_blank\" class=\"ipc-link ipc-link--baseAlt ipc-link--touch-target ipc-link--inherit-color ipc-link--launch\">Box Office Mojo<svg class=\"ipc-link__launch-icon\" width=\"10\" height=\"10\" viewBox=\"0 0 10 10\" xmlns=\"http://www.w3.org/2000/svg\" fill=\"#000000\"><g><path d=\"M9,9 L1,9 L1,1 L4,1 L4,0 L-1.42108547e-14,0 L-1.42108547e-14,10 L10,10 L10,6 L9,6 L9,9 Z M6,0 L6,1 L8,1 L2.998122,6.03786058 L3.998122,7.03786058 L9,2 L9,4 L10,4 L10,0 L6,0 Z\"></path></g></svg></a></li><li role=\"presentation\" class=\"ipc-inline-list__item\"><a href=\"https://developer.imdb.com/?ref=ft_ds\" target=\"_blank\" class=\"ipc-link ipc-link--baseAlt ipc-link--touch-target ipc-link--inherit-color ipc-link--launch\">IMDb Developer<svg class=\"ipc-link__launch-icon\" width=\"10\" height=\"10\" viewBox=\"0 0 10 10\" xmlns=\"http://www.w3.org/2000/svg\" fill=\"#000000\"><g><path d=\"M9,9 L1,9 L1,1 L4,1 L4,0 L-1.42108547e-14,0 L-1.42108547e-14,10 L10,10 L10,6 L9,6 L9,9 Z M6,0 L6,1 L8,1 L2.998122,6.03786058 L3.998122,7.03786058 L9,2 L9,4 L10,4 L10,0 L6,0 Z\"></path></g></svg></a></li></ul></div><div><ul class=\"ipc-inline-list _1O3-k0VDASm1IeBrfofV4g baseAlt\" role=\"presentation\"><li role=\"presentation\" class=\"ipc-inline-list__item\"><a href=\"https://www.imdb.com/pressroom/?ref_=ft_pr\" class=\"ipc-link ipc-link--baseAlt ipc-link--touch-target ipc-link--inherit-color\">Press Room</a></li><li role=\"presentation\" class=\"ipc-inline-list__item\"><a href=\"https://advertising.amazon.com/resources/ad-specs/imdb/?ref_=a20m_us_spcs_imdb\" target=\"_blank\" class=\"ipc-link ipc-link--baseAlt ipc-link--touch-target ipc-link--inherit-color ipc-link--launch\">Advertising<svg class=\"ipc-link__launch-icon\" width=\"10\" height=\"10\" viewBox=\"0 0 10 10\" xmlns=\"http://www.w3.org/2000/svg\" fill=\"#000000\"><g><path d=\"M9,9 L1,9 L1,1 L4,1 L4,0 L-1.42108547e-14,0 L-1.42108547e-14,10 L10,10 L10,6 L9,6 L9,9 Z M6,0 L6,1 L8,1 L2.998122,6.03786058 L3.998122,7.03786058 L9,2 L9,4 L10,4 L10,0 L6,0 Z\"></path></g></svg></a></li><li role=\"presentation\" class=\"ipc-inline-list__item\"><a href=\"https://www.amazon.jobs/en/teams/imdb?ref_=ft_jb\" target=\"_blank\" class=\"ipc-link ipc-link--baseAlt ipc-link--touch-target ipc-link--inherit-color ipc-link--launch\">Jobs<svg class=\"ipc-link__launch-icon\" width=\"10\" height=\"10\" viewBox=\"0 0 10 10\" xmlns=\"http://www.w3.org/2000/svg\" fill=\"#000000\"><g><path d=\"M9,9 L1,9 L1,1 L4,1 L4,0 L-1.42108547e-14,0 L-1.42108547e-14,10 L10,10 L10,6 L9,6 L9,9 Z M6,0 L6,1 L8,1 L2.998122,6.03786058 L3.998122,7.03786058 L9,2 L9,4 L10,4 L10,0 L6,0 Z\"></path></g></svg></a></li><li role=\"presentation\" class=\"ipc-inline-list__item\"><a href=\"/conditions?ref_=ft_cou\" class=\"ipc-link ipc-link--baseAlt ipc-link--touch-target ipc-link--inherit-color\">Conditions of Use</a></li><li role=\"presentation\" class=\"ipc-inline-list__item\"><a href=\"/privacy?ref_=ft_pvc\" class=\"ipc-link ipc-link--baseAlt ipc-link--touch-target ipc-link--inherit-color\">Privacy Policy</a></li><li role=\"presentation\" class=\"ipc-inline-list__item\"><a href=\"/whitelist-offsite?url=https%3A%2F%2Fwww.amazon.com%2Fb%2F%3F%26node%3D5160028011%26ref_%3Dft_iba&amp;page-action=ft-iba&amp;ref=ft_iba\" target=\"_blank\" class=\"ipc-link ipc-link--baseAlt ipc-link--touch-target ipc-link--inherit-color ipc-link--launch\">Interest-Based Ads<svg class=\"ipc-link__launch-icon\" width=\"10\" height=\"10\" viewBox=\"0 0 10 10\" xmlns=\"http://www.w3.org/2000/svg\" fill=\"#000000\"><g><path d=\"M9,9 L1,9 L1,1 L4,1 L4,0 L-1.42108547e-14,0 L-1.42108547e-14,10 L10,10 L10,6 L9,6 L9,9 Z M6,0 L6,1 L8,1 L2.998122,6.03786058 L3.998122,7.03786058 L9,2 L9,4 L10,4 L10,0 L6,0 Z\"></path></g></svg></a></li><li role=\"presentation\" class=\"ipc-inline-list__item\"><div id=\"teconsent\" class=\"_2mulh8fx3PjJyxvyLovP4w\"></div></li></ul></div></div><div class=\"imdb-footer__logo _1eKbSAFyeJgUyBUy2VbcS_\"><svg aria-label=\"IMDb, an Amazon company\" title=\"IMDb, an Amazon company\" width=\"160\" height=\"18\" xmlns=\"http://www.w3.org/2000/svg\" xmlns:xlink=\"http://www.w3.org/1999/xlink\"><defs><path d=\"M26.707 2.45c-3.227 2.374-7.906 3.637-11.935 3.637C9.125 6.087 4.04 4.006.193.542-.11.27.161-.101.523.109 4.675 2.517 9.81 3.968 15.111 3.968c3.577 0 7.51-.74 11.127-2.27.546-.23 1.003.358.47.752z\" id=\"ftr__a\"/><path d=\"M4.113 1.677C3.7 1.15 1.385 1.427.344 1.552c-.315.037-.364-.237-.08-.436C2.112-.178 5.138.196 5.49.629c.354.437-.093 3.462-1.824 4.906-.266.222-.52.104-.401-.19.39-.97 1.261-3.14.848-3.668z\" id=\"ftr__c\"/><path d=\"M.435 1.805V.548A.311.311 0 0 1 .755.23l5.65-.001c.181 0 .326.13.326.317v1.078c-.002.181-.154.417-.425.791L3.378 6.582c1.087-.026 2.236.137 3.224.69.222.125.282.309.3.49v1.342c0 .185-.203.398-.417.287-1.74-.908-4.047-1.008-5.97.011-.197.104-.403-.107-.403-.292V7.835c0-.204.004-.552.21-.863l3.392-4.85H.761a.314.314 0 0 1-.326-.317z\" id=\"ftr__e\"/><path d=\"M2.247 9.655H.528a.323.323 0 0 1-.307-.29L.222.569C.222.393.37.253.554.253h1.601a.323.323 0 0 1 .313.295v1.148h.031C2.917.586 3.703.067 4.762.067c1.075 0 1.75.518 2.23 1.629C7.41.586 8.358.067 9.369.067c.722 0 1.508.296 1.99.963.545.74.433 1.813.433 2.757l-.002 5.551a.324.324 0 0 1-.331.317H9.74a.321.321 0 0 1-.308-.316l-.001-4.663c0-.37.032-1.296-.048-1.647-.128-.593-.514-.76-1.011-.76-.418 0-.85.278-1.027.722-.177.445-.161 1.185-.161 1.685v4.662a.323.323 0 0 1-.331.317H5.137a.322.322 0 0 1-.31-.316l-.001-4.663c0-.981.16-2.424-1.059-2.424-1.236 0-1.188 1.406-1.188 2.424v4.662a.324.324 0 0 1-.332.317z\" id=\"ftr__g\"/><path d=\"M4.037.067c2.551 0 3.931 2.184 3.931 4.96 0 2.684-1.524 4.814-3.931 4.814C1.533 9.84.169 7.656.169 4.935.17 2.195 1.55.067 4.037.067zm.015 1.796c-1.267 0-1.347 1.721-1.347 2.795 0 1.073-.016 3.368 1.332 3.368 1.332 0 1.395-1.851 1.395-2.98 0-.74-.031-1.629-.256-2.332-.193-.61-.578-.851-1.124-.851z\" id=\"ftr__i\"/><path d=\"M2.206 9.655H.493a.321.321 0 0 1-.308-.316L.182.54a.325.325 0 0 1 .33-.287h1.595c.15.007.274.109.305.245v1.346h.033C2.926.641 3.6.067 4.788.067c.77 0 1.524.277 2.006 1.037.449.703.449 1.887.449 2.739v5.535a.325.325 0 0 1-.33.277H5.19a.324.324 0 0 1-.306-.277V4.602c0-.962.113-2.37-1.075-2.37-.418 0-.803.278-.995.704-.24.537-.273 1.074-.273 1.666v4.736a.328.328 0 0 1-.335.317z\" id=\"ftr__k\"/><path d=\"M8.314 8.295c.11.156.134.341-.006.455-.35.294-.974.834-1.318 1.139l-.004-.004a.357.357 0 0 1-.406.04c-.571-.473-.673-.692-.986-1.142-.943.958-1.611 1.246-2.834 1.246-1.447 0-2.573-.89-2.573-2.672 0-1.39.756-2.337 1.833-2.8.933-.409 2.235-.483 3.233-.595V3.74c0-.409.032-.89-.209-1.243-.21-.315-.611-.445-.965-.445-.656 0-1.238.335-1.382 1.029-.03.154-.143.307-.298.315l-1.667-.18c-.14-.032-.297-.144-.256-.358C.859.842 2.684.234 4.32.234c.837 0 1.93.222 2.59.853.836.78.755 1.818.755 2.95v2.67c0 .804.335 1.155.65 1.588zM5.253 5.706v-.37c-1.244 0-2.557.265-2.557 1.724 0 .742.386 1.244 1.045 1.244.483 0 .917-.297 1.19-.78.338-.593.322-1.15.322-1.818z\" id=\"ftr__m\"/><path d=\"M8.203 8.295c.11.156.135.341-.005.455-.352.294-.976.834-1.319 1.139l-.004-.004a.356.356 0 0 1-.406.04c-.571-.473-.673-.692-.985-1.142-.944.958-1.613 1.246-2.835 1.246-1.447 0-2.573-.89-2.573-2.672 0-1.39.756-2.337 1.833-2.8.933-.409 2.236-.483 3.233-.595V3.74c0-.409.032-.89-.21-1.243-.208-.315-.61-.445-.964-.445-.656 0-1.239.335-1.382 1.029-.03.154-.142.307-.298.315l-1.666-.18C.48 3.184.324 3.072.365 2.858.748.842 2.573.234 4.209.234c.836 0 1.93.222 2.59.853.835.78.755 1.818.755 2.95v2.67c0 .804.335 1.155.649 1.588zM5.142 5.706v-.37c-1.243 0-2.557.265-2.557 1.724 0 .742.386 1.244 1.045 1.244.482 0 .917-.297 1.19-.78.338-.593.322-1.15.322-1.818z\" id=\"ftr__o\"/><path d=\"M2.935 10.148c-.88 0-1.583-.25-2.11-.75-.527-.501-.79-1.171-.79-2.011 0-.902.322-1.622.967-2.159.644-.538 1.511-.806 2.602-.806.694 0 1.475.104 2.342.315V3.513c0-.667-.151-1.136-.455-1.408-.304-.271-.821-.407-1.553-.407-.855 0-1.691.123-2.509.37-.285.087-.464.13-.539.13-.148 0-.223-.111-.223-.334v-.5c0-.16.025-.278.075-.352C.79.938.89.87 1.039.808c.383-.173.87-.312 1.459-.417A9.997 9.997 0 0 1 4.255.234c1.177 0 2.045.244 2.602.731.557.489.836 1.233.836 2.233v6.338c0 .247-.124.37-.372.37h-.798c-.236 0-.373-.117-.41-.351l-.093-.612c-.445.383-.939.68-1.477.89-.54.21-1.076.315-1.608.315zm.446-1.39c.41 0 .836-.08 1.282-.241.447-.16.874-.395 1.283-.704v-1.89a8.408 8.408 0 0 0-1.97-.241c-1.401 0-2.1.537-2.1 1.612 0 .47.13.831.39 1.084.26.254.632.38 1.115.38z\" id=\"ftr__q\"/><path d=\"M.467 9.907c-.248 0-.372-.124-.372-.37V.883C.095.635.219.51.467.51h.817c.125 0 .22.026.288.075.068.05.115.142.14.277l.111.686C3 .672 4.24.234 5.541.234c.904 0 1.592.238 2.063.713.471.476.707 1.165.707 2.066v6.524c0 .246-.124.37-.372.37H6.842c-.248 0-.372-.124-.372-.37V3.625c0-.655-.133-1.137-.4-1.445-.266-.31-.684-.464-1.254-.464-.979 0-1.94.315-2.881.946v6.875c0 .246-.125.37-.372.37H.467z\" id=\"ftr__s\"/><path d=\"M4.641 9.859c-1.462 0-2.58-.417-3.355-1.251C.51 7.774.124 6.566.124 4.985c0-1.569.4-2.783 1.2-3.641C2.121.486 3.252.055 4.714.055c.67 0 1.326.118 1.971.353.136.05.232.111.288.185.056.074.083.198.083.37v.501c0 .248-.08.37-.241.37-.062 0-.162-.018-.297-.055a5.488 5.488 0 0 0-1.544-.222c-1.04 0-1.79.262-2.248.787-.459.526-.688 1.362-.688 2.511v.241c0 1.124.232 1.949.697 2.474.465.525 1.198.788 2.203.788a5.98 5.98 0 0 0 1.672-.26c.136-.037.23-.056.279-.056.161 0 .242.124.242.371v.5c0 .162-.025.279-.075.353-.05.074-.148.142-.297.204-.608.259-1.314.389-2.119.389z\" id=\"ftr__u\"/><path d=\"M4.598 10.185c-1.413 0-2.516-.438-3.31-1.316C.497 7.992.1 6.769.1 5.199c0-1.555.397-2.773 1.19-3.65C2.082.673 3.185.235 4.598.235c1.412 0 2.515.438 3.308 1.316.793.876 1.19 2.094 1.19 3.65 0 1.569-.397 2.792-1.19 3.669-.793.878-1.896 1.316-3.308 1.316zm0-1.483c1.747 0 2.62-1.167 2.62-3.502 0-2.323-.873-3.484-2.62-3.484S1.977 2.877 1.977 5.2c0 2.335.874 3.502 2.62 3.502z\" id=\"ftr__w\"/><path d=\"M.396 9.907c-.248 0-.371-.124-.371-.37V.883C.025.635.148.51.396.51h.818a.49.49 0 0 1 .288.075c.068.05.115.142.14.277l.111.594C2.943.64 4.102.234 5.23.234c1.152 0 1.934.438 2.342 1.315C8.798.672 10.025.234 11.25.234c.856 0 1.512.24 1.971.722.458.482.688 1.168.688 2.057v6.524c0 .246-.124.37-.372.37h-1.097c-.248 0-.371-.124-.371-.37V3.533c0-.618-.119-1.075-.354-1.372-.235-.297-.607-.445-1.115-.445-.904 0-1.815.278-2.732.834.012.087.018.18.018.278v6.709c0 .246-.124.37-.372.37H6.42c-.249 0-.372-.124-.372-.37V3.533c0-.618-.118-1.075-.353-1.372-.235-.297-.608-.445-1.115-.445-.942 0-1.847.272-2.714.815v7.006c0 .246-.125.37-.372.37H.396z\" id=\"ftr__y\"/><path d=\"M.617 13.724c-.248 0-.371-.124-.371-.37V.882c0-.247.123-.37.371-.37h.818c.248 0 .39.123.428.37l.093.594C2.897.648 3.944.234 5.096.234c1.203 0 2.15.435 2.845 1.307.693.87 1.04 2.053 1.04 3.548 0 1.52-.365 2.736-1.096 3.65-.731.915-1.704 1.372-2.918 1.372-1.116 0-2.076-.365-2.881-1.094v4.337c0 .246-.125.37-.372.37H.617zM4.54 8.628c1.71 0 2.566-1.149 2.566-3.447 0-1.173-.208-2.044-.624-2.612-.415-.569-1.05-.853-1.904-.853-.88 0-1.711.284-2.491.853v5.17c.805.593 1.623.889 2.453.889z\" id=\"ftr__A\"/><path d=\"M2.971 10.148c-.88 0-1.583-.25-2.11-.75-.526-.501-.79-1.171-.79-2.011 0-.902.322-1.622.967-2.159.644-.538 1.512-.806 2.602-.806.694 0 1.475.104 2.342.315V3.513c0-.667-.15-1.136-.455-1.408-.304-.271-.821-.407-1.552-.407-.855 0-1.692.123-2.509.37-.285.087-.465.13-.54.13-.148 0-.223-.111-.223-.334v-.5c0-.16.025-.278.075-.352.05-.074.148-.142.297-.204.384-.173.87-.312 1.46-.417A9.991 9.991 0 0 1 4.29.234c1.177 0 2.045.244 2.603.731.557.489.836 1.233.836 2.233v6.338c0 .247-.125.37-.372.37h-.799c-.236 0-.372-.117-.41-.351l-.092-.612a5.09 5.09 0 0 1-1.478.89 4.4 4.4 0 0 1-1.608.315zm.446-1.39c.41 0 .836-.08 1.283-.241.446-.16.874-.395 1.282-.704v-1.89a8.403 8.403 0 0 0-1.97-.241c-1.4 0-2.1.537-2.1 1.612 0 .47.13.831.39 1.084.26.254.632.38 1.115.38z\" id=\"ftr__C\"/><path d=\"M.503 9.907c-.248 0-.371-.124-.371-.37V.883C.132.635.255.51.503.51h.818a.49.49 0 0 1 .288.075c.068.05.115.142.14.277l.111.686C3.037.672 4.277.234 5.578.234c.904 0 1.592.238 2.063.713.47.476.706 1.165.706 2.066v6.524c0 .246-.123.37-.371.37H6.879c-.248 0-.372-.124-.372-.37V3.625c0-.655-.133-1.137-.4-1.445-.266-.31-.684-.464-1.254-.464-.98 0-1.94.315-2.882.946v6.875c0 .246-.124.37-.371.37H.503z\" id=\"ftr__E\"/><path d=\"M1.988 13.443c-.397 0-.75-.043-1.059-.13-.15-.037-.251-.1-.307-.185a.684.684 0 0 1-.084-.37v-.483c0-.234.093-.352.28-.352.06 0 .154.013.278.037.124.025.291.037.502.037.459 0 .82-.114 1.087-.343.266-.228.505-.633.716-1.213l.353-.945L.167.675C.08.465.037.316.037.23c0-.149.086-.222.26-.222h1.115c.198 0 .334.03.409.093.075.062.148.197.223.407l2.602 7.19 2.51-7.19c.074-.21.148-.345.222-.407.075-.062.211-.093.41-.093h1.04c.174 0 .261.073.261.222 0 .086-.044.235-.13.445l-4.09 10.377c-.334.853-.725 1.464-1.17 1.835-.446.37-1.017.556-1.711.556z\" id=\"ftr__G\"/></defs><g fill=\"none\" fill-rule=\"evenodd\"><g transform=\"translate(31.496 11.553)\"><mask id=\"ftr__b\" fill=\"currentColor\"><use xlink:href=\"#ftr__a\"/></mask><path fill=\"currentColor\" mask=\"url(#ftr__b)\" d=\"M.04 6.088h26.91V.04H.04z\"/></g><g transform=\"translate(55.433 10.797)\"><mask id=\"ftr__d\" fill=\"currentColor\"><use xlink:href=\"#ftr__c\"/></mask><path fill=\"currentColor\" mask=\"url(#ftr__d)\" d=\"M.05 5.664h5.564V.222H.05z\"/></g><g transform=\"translate(55.433 .97)\"><mask id=\"ftr__f\" fill=\"currentColor\"><use xlink:href=\"#ftr__e\"/></mask><path fill=\"currentColor\" mask=\"url(#ftr__f)\" d=\"M.11 9.444h6.804V.222H.111z\"/></g><g transform=\"translate(33.008 .97)\"><mask id=\"ftr__h\" fill=\"currentColor\"><use xlink:href=\"#ftr__g\"/></mask><path fill=\"currentColor\" mask=\"url(#ftr__h)\" d=\"M.191 9.655h11.611V.04H.192z\"/></g><g transform=\"translate(62.992 .97)\"><mask id=\"ftr__j\" fill=\"currentColor\"><use xlink:href=\"#ftr__i\"/></mask><path fill=\"currentColor\" mask=\"url(#ftr__j)\" d=\"M.141 9.867h7.831V.04H.142z\"/></g><g transform=\"translate(72.063 .97)\"><mask id=\"ftr__l\" fill=\"currentColor\"><use xlink:href=\"#ftr__k\"/></mask><path fill=\"currentColor\" mask=\"url(#ftr__l)\" d=\"M.171 9.655h7.076V.04H.17z\"/></g><g transform=\"translate(46.11 .718)\"><mask id=\"ftr__n\" fill=\"currentColor\"><use xlink:href=\"#ftr__m\"/></mask><path fill=\"currentColor\" mask=\"url(#ftr__n)\" d=\"M.181 10.059h8.225V.232H.18z\"/></g><g transform=\"translate(23.685 .718)\"><mask id=\"ftr__p\" fill=\"currentColor\"><use xlink:href=\"#ftr__o\"/></mask><path fill=\"currentColor\" mask=\"url(#ftr__p)\" d=\"M.05 10.059h8.255V.232H.05z\"/></g><g transform=\"translate(0 .718)\"><mask id=\"ftr__r\" fill=\"currentColor\"><use xlink:href=\"#ftr__q\"/></mask><path fill=\"currentColor\" mask=\"url(#ftr__r)\" d=\"M.03 10.15h7.68V.231H.03z\"/></g><g transform=\"translate(10.33 .718)\"><mask id=\"ftr__t\" fill=\"currentColor\"><use xlink:href=\"#ftr__s\"/></mask><path fill=\"currentColor\" mask=\"url(#ftr__t)\" d=\"M.07 9.907h8.255V.232H.071z\"/></g><g transform=\"translate(84.157 .97)\"><mask id=\"ftr__v\" fill=\"currentColor\"><use xlink:href=\"#ftr__u\"/></mask><path fill=\"currentColor\" mask=\"url(#ftr__v)\" d=\"M.11 9.867h7.046V.04H.11z\"/></g><g transform=\"translate(92.472 .718)\"><mask id=\"ftr__x\" fill=\"currentColor\"><use xlink:href=\"#ftr__w\"/></mask><path fill=\"currentColor\" mask=\"url(#ftr__x)\" d=\"M.08 10.21h9.041V.232H.081z\"/></g><g transform=\"translate(103.811 .718)\"><mask id=\"ftr__z\" fill=\"currentColor\"><use xlink:href=\"#ftr__y\"/></mask><path fill=\"currentColor\" mask=\"url(#ftr__z)\" d=\"M.02 9.907H13.93V.232H.02z\"/></g><g transform=\"translate(120.189 .718)\"><mask id=\"ftr__B\" fill=\"currentColor\"><use xlink:href=\"#ftr__A\"/></mask><path fill=\"currentColor\" mask=\"url(#ftr__B)\" d=\"M.242 13.747H9.01V.232H.242z\"/></g><g transform=\"translate(130.772 .718)\"><mask id=\"ftr__D\" fill=\"currentColor\"><use xlink:href=\"#ftr__C\"/></mask><path fill=\"currentColor\" mask=\"url(#ftr__D)\" d=\"M.06 10.15h7.68V.231H.06z\"/></g><g transform=\"translate(141.102 .718)\"><mask id=\"ftr__F\" fill=\"currentColor\"><use xlink:href=\"#ftr__E\"/></mask><path fill=\"currentColor\" mask=\"url(#ftr__F)\" d=\"M.131 9.907h8.224V.232H.131z\"/></g><g transform=\"translate(150.677 1.222)\"><mask id=\"ftr__H\" fill=\"currentColor\"><use xlink:href=\"#ftr__G\"/></mask><path fill=\"currentColor\" mask=\"url(#ftr__H)\" d=\"M.02 13.455h9.071V0H.021z\"/></g></g></svg></div><p class=\"imdb-footer__copyright _2-iNNCFskmr4l2OFN2DRsf\">\\xc2\\xa9 1990-<!-- -->2021<!-- --> by IMDb.com, Inc.</p></div></footer><svg style=\"width:0;height:0;overflow:hidden;display:block\" xmlns=\"http://www.w3.org/2000/svg\" version=\"1.1\"><defs><linearGradient id=\"ipc-svg-gradient-tv-logo-t\" x1=\"31.973%\" y1=\"53.409%\" x2=\"153.413%\" y2=\"-16.853%\"><stop stop-color=\"#D01F49\" offset=\"21.89%\"></stop><stop stop-color=\"#E8138B\" offset=\"83.44%\"></stop></linearGradient><linearGradient id=\"ipc-svg-gradient-tv-logo-v\" x1=\"-38.521%\" y1=\"84.997%\" x2=\"104.155%\" y2=\"14.735%\"><stop stop-color=\"#D01F49\" offset=\"21.89%\"></stop><stop stop-color=\"#E8138B\" offset=\"83.44%\"></stop></linearGradient></defs></svg>\\n    </div>\\n<script type=\"text/javascript\">\\n    if (!window.RadWidget) {\\n        window.RadWidget = {\\n            registerReactWidgetInstance: function(input) {\\n                window.RadWidget[input.widgetName] = window.RadWidget[input.widgetName] || [];\\n                window.RadWidget[input.widgetName].push({\\n                    id: input.instanceId,\\n                    props: JSON.stringify(input.model)\\n                })\\n            },\\n            getReactWidgetInstances: function(widgetName) {\\n                return window.RadWidget[widgetName] || []\\n            }\\n        };\\n    }\\n</script>    <script type=\"text/javascript\">\\n        window[\\'RadWidget\\'].registerReactWidgetInstance({\\n            widgetName: \"IMDbConsumerSiteFooterFeatureV1\",\\n            instanceId: \"ff127664-f67e-4241-bcb0-25bd8ad5564f\",\\n            model: {\"ResponsiveFooterModel\":{\"showIMDbTVLink\":false,\"desktopLink\":\"?mode=desktop&ref_=m_ft_dsk\",\"showDesktopLink\":true}}\\n        });\\n    </script>\\n<script>\\n    if (typeof uet == \\'function\\') {\\n      uet(\"be\", \"desktopFooter\", {wb: 1});\\n    }\\n</script>\\n<script>\\n    if (typeof uex == \\'function\\') {\\n      uex(\"ld\", \"desktopFooter\", {wb: 1});\\n    }\\n</script>\\n\\n<script>\\n    if (typeof uet == \\'function\\') {\\n      uet(\"bb\", \"LoadHeaderJS\", {wb: 1});\\n    }\\n</script>\\n\\n\\n\\n<script type=\"text/javascript\" src=\"https://m.media-amazon.com/images/S/sash/wDqcPWN-$punknn.js\"></script>\\n<script type=\"text/javascript\" src=\"https://m.media-amazon.com/images/S/sash/DDRPAgldLViW5fc.js\"></script>\\n<script type=\"text/javascript\" src=\"https://m.media-amazon.com/images/S/sash/NnwgjhsMUkDJ$zn.js\"></script>\\n<script type=\"text/javascript\" src=\"https://m.media-amazon.com/images/S/sash/fjwXPnBHqj7EVrv.js\"></script>\\n<script type=\"text/javascript\" src=\"https://m.media-amazon.com/images/S/sash/-3uUDX8rqDebnQe.js\"></script>\\n<script type=\"text/javascript\" src=\"https://m.media-amazon.com/images/S/sash/IN1G4OYdF4cqO-j.js\"></script>\\n<script type=\"text/javascript\" src=\"https://m.media-amazon.com/images/S/sash/80ZHiCGDhpk7mTI.js\"></script>\\n\\n            <script type=\"text/javascript\">\\n            function jQueryOnReady(remaining_count) {\\n                if (window.jQuery && typeof $.fn.watchlistRibbon !== \\'undefined\\') {\\n                    jQuery(\\n                                        function() {\\n                    window.imdb.CS.Chart.InitChart();\\n                }\\n\\n                    );\\n                    jQuery(\\n                        function() { $(\\'#content-2-wide\\').watchlistRibbon(\\'.ribbonize\\'); }\\n                    );\\n                } else if (remaining_count > 0) {\\n                    setTimeout(function() { jQueryOnReady(remaining_count-1) }, 100);\\n                }\\n            }\\n            jQueryOnReady(50);\\n            </script>\\n\\n\\n<script type=\"text/javascript\">window.webpackManifest_IMDbConsumerSiteFooterFeature={}</script><script type=\"text/javascript\">window.webpackManifest_IMDbConsumerSiteNavFeature={}</script><script crossorigin=\"anonymous\" type=\"text/javascript\" src=\"https://m.media-amazon.com/images/I/8146hC3LGEL.js\"></script><script crossorigin=\"anonymous\" type=\"text/javascript\" src=\"https://m.media-amazon.com/images/I/61SeeyqsNHL.js\"></script><script crossorigin=\"anonymous\" type=\"text/javascript\" src=\"https://m.media-amazon.com/images/I/31ROAIgElzL.js\"></script><script crossorigin=\"anonymous\" type=\"text/javascript\" src=\"https://m.media-amazon.com/images/I/01lfk7y+8rL.js\"></script><script crossorigin=\"anonymous\" type=\"text/javascript\" src=\"https://m.media-amazon.com/images/I/61Ka2ezTX9L.js\"></script><script crossorigin=\"anonymous\" type=\"text/javascript\" src=\"https://m.media-amazon.com/images/I/019vMGkrlkL.js\"></script><script crossorigin=\"anonymous\" type=\"text/javascript\" src=\"https://m.media-amazon.com/images/I/31VYLn8dVDL.js\"></script><script crossorigin=\"anonymous\" type=\"text/javascript\" src=\"https://m.media-amazon.com/images/I/01qhBQyMr+L.js\"></script><script crossorigin=\"anonymous\" type=\"text/javascript\" src=\"https://m.media-amazon.com/images/I/21QhnrxvhtL.js\"></script><script crossorigin=\"anonymous\" type=\"text/javascript\" src=\"https://m.media-amazon.com/images/I/01EjywnajPL.js\"></script><script crossorigin=\"anonymous\" type=\"text/javascript\" src=\"https://m.media-amazon.com/images/I/01eEXY1YetL.js\"></script><script crossorigin=\"anonymous\" type=\"text/javascript\" src=\"https://m.media-amazon.com/images/I/21a9eB+eAFL.js\"></script><script crossorigin=\"anonymous\" type=\"text/javascript\" src=\"https://m.media-amazon.com/images/I/41NHQD2gKEL.js\"></script><script crossorigin=\"anonymous\" type=\"text/javascript\" src=\"https://m.media-amazon.com/images/I/81BlGDzvkOL.js\"></script><script crossorigin=\"anonymous\" type=\"text/javascript\" src=\"https://m.media-amazon.com/images/I/61vDTVmJCNL.js\"></script><script crossorigin=\"anonymous\" type=\"text/javascript\" src=\"https://m.media-amazon.com/images/I/31827uXCh4L.js\"></script><script crossorigin=\"anonymous\" type=\"text/javascript\" src=\"https://m.media-amazon.com/images/I/31P6K1kIR-L.js\"></script><script crossorigin=\"anonymous\" type=\"text/javascript\" src=\"https://m.media-amazon.com/images/I/41Dm6cYzV6L.js\"></script><script crossorigin=\"anonymous\" type=\"text/javascript\" src=\"https://m.media-amazon.com/images/I/51GDom0+d0L.js\"></script><script crossorigin=\"anonymous\" type=\"text/javascript\" src=\"https://m.media-amazon.com/images/I/01ZyMmZoX7L.js\"></script><script crossorigin=\"anonymous\" type=\"text/javascript\" src=\"https://m.media-amazon.com/images/I/11UNuUz7BzL.js\"></script><script crossorigin=\"anonymous\" type=\"text/javascript\" src=\"https://m.media-amazon.com/images/I/21n5fdlWBhL.js\"></script><script crossorigin=\"anonymous\" type=\"text/javascript\" src=\"https://m.media-amazon.com/images/I/01X4+ME2ObL.js\"></script><script crossorigin=\"anonymous\" type=\"text/javascript\" src=\"https://m.media-amazon.com/images/I/61I7bE3sgdL.js\"></script>\\n\\n\\n<script>\\n    if (typeof uet == \\'function\\') {\\n      uet(\"be\", \"LoadFooterJS\", {wb: 1});\\n    }\\n</script>\\n<script>\\n    if (typeof uex == \\'function\\') {\\n      uex(\"ld\", \"LoadFooterJS\", {wb: 1});\\n    }\\n</script>\\n        \\n        <div id=\"servertime\" time=\"260\"/>\\n\\n\\n\\n<script>\\n    if (typeof uet == \\'function\\') {\\n      uet(\"be\");\\n    }\\n</script>\\n        \\n    </body>\\n</html>\\n'"
      ]
     },
     "execution_count": 25,
     "metadata": {},
     "output_type": "execute_result"
    }
   ],
   "source": [
    "page.content"
   ]
  },
  {
   "cell_type": "code",
   "execution_count": 26,
   "metadata": {},
   "outputs": [],
   "source": [
    "soup=BeautifulSoup(page.content,'html.parser')"
   ]
  },
  {
   "cell_type": "code",
   "execution_count": 27,
   "metadata": {},
   "outputs": [],
   "source": [
    "name=[]\n",
    "IMDB_Rating=[]"
   ]
  },
  {
   "cell_type": "code",
   "execution_count": 28,
   "metadata": {},
   "outputs": [],
   "source": [
    "#so lets extract all the tags having names\n",
    "Names=soup.find_all('td',class_=\"titleColumn\")"
   ]
  },
  {
   "cell_type": "code",
   "execution_count": 29,
   "metadata": {},
   "outputs": [
    {
     "data": {
      "text/plain": [
       "['      1.      Pather Panchali(1955)',\n",
       " '      2.      Ratsasan(2018)',\n",
       " '      3.      Gol Maal(1979)',\n",
       " '      4.      Nayakan(1987)',\n",
       " '      5.      Anbe Sivam(2003)',\n",
       " '      6.      Apur Sansar(1959)',\n",
       " '      7.      Natsamrat(2016)',\n",
       " '      8.      Kireedam(1989)',\n",
       " '      9.      Pariyerum Perumal(2018)',\n",
       " '      10.      Black Friday(2004)',\n",
       " '      11.      Manichitrathazhu(1993)',\n",
       " '      12.      Thevar Magan(1992)',\n",
       " '      13.      96(2018)',\n",
       " '      14.      Kumbalangi Nights(2019)',\n",
       " '      15.      3 Idiots(2009)',\n",
       " '      16.      Taare Zameen Par(2007)',\n",
       " '      17.      Visaaranai(2015)',\n",
       " '      18.      Dangal(2016)',\n",
       " '      19.      Anand(1971)',\n",
       " '      20.      Thalapathi(1991)',\n",
       " '      21.      Aparajito(1956)',\n",
       " '      22.      Jaane Bhi Do Yaaro(1983)',\n",
       " '      23.      Asuran(2019)',\n",
       " '      24.      Vikram Vedha(2017)',\n",
       " '      25.      Pyaasa(1957)',\n",
       " '      26.      Guide(1965)',\n",
       " '      27.      Kannathil Muthamittal(2002)',\n",
       " '      28.      Chupke Chupke(1975)',\n",
       " '      29.      Kaithi(2019)',\n",
       " '      30.      Jersey(2019)',\n",
       " '      31.      Thani Oruvan(2015)',\n",
       " '      32.      Vada Chennai(2018)',\n",
       " '      33.      Soorarai Pottru(2020)',\n",
       " '      34.      Drishyam(2013)',\n",
       " '      35.      Khosla Ka Ghosla!(2006)',\n",
       " '      36.      Aruvi(2016)',\n",
       " '      37.      Peranbu(2018)',\n",
       " '      38.      Super Deluxe(2019)',\n",
       " '      39.      Tumbbad(2018)',\n",
       " '      40.      Andhadhun(2018)',\n",
       " '      41.      Agent Sai Srinivasa Athreya(2019)',\n",
       " '      42.      Mahanati(2018)',\n",
       " '      43.      Kaakkaa Muttai(2014)',\n",
       " '      44.      Premam(2015)',\n",
       " '      45.      Dhuruvangal Pathinaaru(2016)',\n",
       " '      46.      Satya(1998)',\n",
       " '      47.      Shahid(2012)',\n",
       " '      48.      Bangalore Days(2014)',\n",
       " '      49.      Soodhu Kavvum(2013)',\n",
       " '      50.      Mudhalvan(1999)',\n",
       " '      51.      Anniyan(2005)',\n",
       " '      52.      Gangs of Wasseypur(2012)',\n",
       " '      53.      Papanasam(2015)',\n",
       " '      54.      Jigarthanda(2014)',\n",
       " '      55.      Talvar(2015)',\n",
       " '      56.      Paan Singh Tomar(2012)',\n",
       " '      57.      Bhaag Milkha Bhaag(2013)',\n",
       " '      58.      Swades: We, the People(2004)',\n",
       " '      59.      Nil Battey Sannata(2015)',\n",
       " '      60.      Hera Pheri(2000)',\n",
       " '      61.      Sholay(1975)',\n",
       " '      62.      Drishyam(2015)',\n",
       " '      63.      Pithamagan(2003)',\n",
       " '      64.      Black(2005)',\n",
       " '      65.      Chak De! India(2007)',\n",
       " '      66.      Jo Jeeta Wohi Sikandar(1992)',\n",
       " '      67.      Sairat(2016)',\n",
       " '      68.      Charulata(1964)',\n",
       " '      69.      Mughal-E-Azam(1960)',\n",
       " '      70.      Rang De Basanti(2006)',\n",
       " '      71.      Ustad Hotel(2012)',\n",
       " '      72.      Queen(2013)',\n",
       " '      73.      Udaan(2010)',\n",
       " '      74.      Article 15(2019)',\n",
       " '      75.      Zindagi Na Milegi Dobara(2011)',\n",
       " '      76.      A Wednesday(2008)',\n",
       " '      77.      Dil Chahta Hai(2001)',\n",
       " '      78.      Munna Bhai M.B.B.S.(2003)',\n",
       " '      79.      Sarfarosh(1999)',\n",
       " '      80.      Andaz Apna Apna(1994)',\n",
       " '      81.      Masaan(2015)',\n",
       " '      82.      OMG: Oh My God!(2012)',\n",
       " '      83.      Roja(1992)',\n",
       " '      84.      Lagaan: Once Upon a Time in India(2001)',\n",
       " '      85.      Maheshinte Prathikaaram(2016)',\n",
       " '      86.      Theeran adhigaaram ondru(2017)',\n",
       " '      87.      Kahaani(2012)',\n",
       " '      88.      Alai Payuthey(2000)',\n",
       " '      89.      PK(2014)',\n",
       " '      90.      Baasha(1995)',\n",
       " '      91.      Uri: The Surgical Strike(2018)',\n",
       " '      92.      Iqbal(2005)',\n",
       " '      93.      Pink(2016)',\n",
       " '      94.      Barfi!(2012)',\n",
       " '      95.      The Legend of Bhagat Singh(2002)',\n",
       " '      96.      Bommarillu(2006)',\n",
       " '      97.      Lucia(2013)',\n",
       " '      98.      Maqbool(2003)',\n",
       " '      99.      Bombay(1995)',\n",
       " '      100.      Omkara(2006)',\n",
       " '      101.      Section 375(2019)',\n",
       " '      102.      Lage Raho Munna Bhai(2006)',\n",
       " '      103.      Deewaar(1975)',\n",
       " '      104.      Indian(1996)',\n",
       " '      105.      Chhichhore(2019)',\n",
       " '      106.      Baahubali 2: The Conclusion(2017)',\n",
       " '      107.      Dilwale Dulhania Le Jayenge(1995)',\n",
       " '      108.      Gulaal(2009)',\n",
       " '      109.      Padosan(1968)',\n",
       " '      110.      Haider(2014)',\n",
       " '      111.      Pelli Choopulu(2016)',\n",
       " '      112.      Gully Boy(2019)',\n",
       " '      113.      Mother India(1957)',\n",
       " '      114.      Ugly(2013)',\n",
       " '      115.      Athadu(2005)',\n",
       " '      116.      Padayappa(1999)',\n",
       " '      117.      Special Chabbis(2013)',\n",
       " '      118.      Dev.D(2009)',\n",
       " '      119.      Rangasthalam(2018)',\n",
       " '      120.      Jalsaghar(1958)',\n",
       " '      121.      Badhaai ho(2018)',\n",
       " '      122.      Ship of Theseus(2012)',\n",
       " '      123.      Bajrangi Bhaijaan(2015)',\n",
       " '      124.      Vaastav: The Reality(1999)',\n",
       " '      125.      Ulidavaru Kandanthe(2014)',\n",
       " '      126.      Company(2002)',\n",
       " '      127.      Arjun Reddy(2017)',\n",
       " '      128.      Ankhon Dekhi(2013)',\n",
       " '      129.      Mukkabaaz(2017)',\n",
       " '      130.      Vaaranam Aayiram(2008)',\n",
       " '      131.      Vedam(2010)',\n",
       " '      132.      K.G.F: Chapter 1(2018)',\n",
       " '      133.      Manjhi: The Mountain Man(2015)',\n",
       " '      134.      Dil Bechara(2020)',\n",
       " '      135.      Pizza(2012)',\n",
       " '      136.      My Name Is Khan(2010)',\n",
       " '      137.      Kal Ho Naa Ho(2003)',\n",
       " '      138.      Jab We Met(2007)',\n",
       " '      139.      Mumbai Police(2013)',\n",
       " '      140.      Memories(2013)',\n",
       " '      141.      Unnaipol Oruvan(2009)',\n",
       " '      142.      Padman(2018)',\n",
       " '      143.      Border(1997)',\n",
       " '      144.      Bãhubali: The Beginning(2015)',\n",
       " '      145.      Lakshya(2004)',\n",
       " '      146.      Dor(2006)',\n",
       " '      147.      Super 30(2019)',\n",
       " '      148.      Airlift(2016)',\n",
       " '      149.      Vettaiyaadu Vilaiyaadu(2006)',\n",
       " '      150.      Baby(2015)',\n",
       " '      151.      Hey Ram(2000)',\n",
       " '      152.      Charlie(2015)',\n",
       " '      153.      English Vinglish(2012)',\n",
       " '      154.      Gangaajal(2003)',\n",
       " '      155.      Okkadu(2003)',\n",
       " '      156.      The Lunchbox(2013)',\n",
       " '      157.      Ab Tak Chhappan(2004)',\n",
       " '      158.      Hindi Medium(2017)',\n",
       " '      159.      Johnny Gaddaar(2007)',\n",
       " '      160.      Manam(2014)',\n",
       " '      161.      Secret Superstar(2017)',\n",
       " '      162.      Badla(2019)',\n",
       " '      163.      Sonchiriya(2019)',\n",
       " '      164.      Raazi(2018)',\n",
       " '      165.      Nayak: The Real Hero(2001)',\n",
       " '      166.      Vicky Donor(2012)',\n",
       " '      167.      Mr. India(1987)',\n",
       " '      168.      Udta Punjab(2016)',\n",
       " '      169.      Pokiri(2006)',\n",
       " '      170.      Don(1978)',\n",
       " '      171.      Stanley Ka Dabba(2011)',\n",
       " '      172.      Rock On!!(2008)',\n",
       " '      173.      Dasvidaniya(2008)',\n",
       " '      174.      Veer-Zaara(2004)',\n",
       " '      175.      RangiTaranga(2015)',\n",
       " '      176.      Samsara(2001)',\n",
       " '      177.      Aligarh(2015)',\n",
       " '      178.      Guru(2007)',\n",
       " '      179.      Arya(2004)',\n",
       " '      180.      Velaiilla Pattadhari(2014)',\n",
       " '      181.      Oye Lucky! Lucky Oye!(2008)',\n",
       " '      182.      Goodachari(2018)',\n",
       " '      183.      M.S. Dhoni: The Untold Story(2016)',\n",
       " '      184.      Mumbai Meri Jaan(2008)',\n",
       " '      185.      Kai po che!(2013)',\n",
       " '      186.      Kapoor & Sons(2016)',\n",
       " '      187.      Rockstar(2011)',\n",
       " '      188.      Aamir(2008)',\n",
       " '      189.      Eega(2012)',\n",
       " '      190.      Kabhi Haan Kabhi Naa(1994)',\n",
       " '      191.      Darr(1993)',\n",
       " '      192.      Newton(2017)',\n",
       " '      193.      24(2016)',\n",
       " '      194.      Ugramm(2014)',\n",
       " '      195.      Earth(1998)',\n",
       " '      196.      Madras Cafe(2013)',\n",
       " '      197.      Agneepath(1990)',\n",
       " '      198.      Pyaar Ka Punchnama(2011)',\n",
       " '      199.      Sarkar(2005)',\n",
       " '      200.      Neerja(2016)',\n",
       " '      201.      Bheja Fry(2007)',\n",
       " '      202.      The Tashkent Files(2019)',\n",
       " '      203.      Highway(2014)',\n",
       " '      204.      Thuppakki(2012)',\n",
       " '      205.      Manorama: Six Feet Under(2007)',\n",
       " '      206.      Detective Byomkesh Bakshy!(2015)',\n",
       " '      207.      Magadheera(2009)',\n",
       " '      208.      Baazigar(1993)',\n",
       " '      209.      Tanu Weds Manu Returns(2015)',\n",
       " '      210.      Saala Khadoos(2016)',\n",
       " '      211.      Wake Up Sid(2009)',\n",
       " '      212.      Piku(2015)',\n",
       " '      213.      Nerkonda Paarvai(2019)',\n",
       " '      214.      Kaththi(2014)',\n",
       " '      215.      Ludo(2020)',\n",
       " '      216.      Kuch Kuch Hota Hai(1998)',\n",
       " '      217.      Sanju(2018)',\n",
       " '      218.      1 - Nenokkadine(2014)',\n",
       " '      219.      Dhruva(2016)',\n",
       " '      220.      Delhi Belly(2011)',\n",
       " '      221.      Stree(2018)',\n",
       " '      222.      Devdas(2002)',\n",
       " '      223.      Jodhaa Akbar(2008)',\n",
       " '      224.      Lootcase(2020)',\n",
       " '      225.      Parmanu: The Story of Pokhran(2018)',\n",
       " '      226.      Raanjhanaa(2013)',\n",
       " '      227.      Trapped(2016)',\n",
       " '      228.      Dil Se..(1998)',\n",
       " '      229.      Ek Hasina Thi(2004)',\n",
       " '      230.      Rocket Singh: Salesman of the Year(2009)',\n",
       " '      231.      Bhavesh Joshi Superhero(2018)',\n",
       " '      232.      Hungama(2003)',\n",
       " '      233.      Do Dooni Chaar(2010)',\n",
       " '      234.      Madaari(2016)',\n",
       " '      235.      Geetha Govindam(2018)',\n",
       " '      236.      Rehnaa Hai Terre Dil Mein(2001)',\n",
       " '      237.      Jolly LLB(2013)',\n",
       " '      238.      Jallikattu(2019)',\n",
       " '      239.      The Ghazi Attack(2017)',\n",
       " '      240.      Ghilli(2004)',\n",
       " '      241.      Bareilly Ki Barfi(2017)',\n",
       " '      242.      Karwaan(2018)',\n",
       " '      243.      Phas Gaye Re Obama(2010)',\n",
       " '      244.      Ghajini(2005)',\n",
       " '      245.      Qayamat Se Qayamat Tak(1988)',\n",
       " '      246.      Dum Laga Ke Haisha(2015)',\n",
       " '      247.      The Sky Is Pink(2019)',\n",
       " '      248.      Sivaji(2007)',\n",
       " '      249.      Hichki(2018)',\n",
       " '      250.      October(2018)']"
      ]
     },
     "execution_count": 29,
     "metadata": {},
     "output_type": "execute_result"
    }
   ],
   "source": [
    "for i in Names:\n",
    "    name.append(i.get_text().replace(\"\\n\",\"\"))\n",
    "name"
   ]
  },
  {
   "cell_type": "code",
   "execution_count": 30,
   "metadata": {},
   "outputs": [
    {
     "data": {
      "text/plain": [
       "[<td class=\"ratingColumn imdbRating\">\n",
       " <strong title=\"8.5 based on 23,390 user ratings\">8.5</strong>\n",
       " </td>,\n",
       " <td class=\"ratingColumn imdbRating\">\n",
       " <strong title=\"8.5 based on 23,945 user ratings\">8.5</strong>\n",
       " </td>,\n",
       " <td class=\"ratingColumn imdbRating\">\n",
       " <strong title=\"8.5 based on 17,934 user ratings\">8.5</strong>\n",
       " </td>,\n",
       " <td class=\"ratingColumn imdbRating\">\n",
       " <strong title=\"8.5 based on 16,189 user ratings\">8.5</strong>\n",
       " </td>]"
      ]
     },
     "execution_count": 30,
     "metadata": {},
     "output_type": "execute_result"
    }
   ],
   "source": [
    "rats=soup.find_all('td',class_=\"ratingColumn imdbRating\")\n",
    "rats[0:4]"
   ]
  },
  {
   "cell_type": "code",
   "execution_count": 31,
   "metadata": {},
   "outputs": [
    {
     "data": {
      "text/plain": [
       "['8.5',\n",
       " '8.5',\n",
       " '8.5',\n",
       " '8.5',\n",
       " '8.5',\n",
       " '8.4',\n",
       " '8.4',\n",
       " '8.4',\n",
       " '8.4',\n",
       " '8.4',\n",
       " '8.4',\n",
       " '8.4',\n",
       " '8.4',\n",
       " '8.4',\n",
       " '8.4',\n",
       " '8.3',\n",
       " '8.3',\n",
       " '8.3',\n",
       " '8.3',\n",
       " '8.3',\n",
       " '8.3',\n",
       " '8.3',\n",
       " '8.3',\n",
       " '8.3',\n",
       " '8.3',\n",
       " '8.3',\n",
       " '8.2',\n",
       " '8.2',\n",
       " '8.2',\n",
       " '8.2',\n",
       " '8.2',\n",
       " '8.2',\n",
       " '8.2',\n",
       " '8.2',\n",
       " '8.2',\n",
       " '8.2',\n",
       " '8.2',\n",
       " '8.2',\n",
       " '8.2',\n",
       " '8.2',\n",
       " '8.2',\n",
       " '8.2',\n",
       " '8.2',\n",
       " '8.2',\n",
       " '8.2',\n",
       " '8.2',\n",
       " '8.2',\n",
       " '8.1',\n",
       " '8.1',\n",
       " '8.1',\n",
       " '8.1',\n",
       " '8.1',\n",
       " '8.1',\n",
       " '8.1',\n",
       " '8.1',\n",
       " '8.1',\n",
       " '8.1',\n",
       " '8.1',\n",
       " '8.1',\n",
       " '8.1',\n",
       " '8.1',\n",
       " '8.1',\n",
       " '8.1',\n",
       " '8.1',\n",
       " '8.1',\n",
       " '8.1',\n",
       " '8.1',\n",
       " '8.1',\n",
       " '8.1',\n",
       " '8.1',\n",
       " '8.1',\n",
       " '8.1',\n",
       " '8.1',\n",
       " '8.1',\n",
       " '8.1',\n",
       " '8.1',\n",
       " '8.1',\n",
       " '8.1',\n",
       " '8.1',\n",
       " '8.1',\n",
       " '8.1',\n",
       " '8.1',\n",
       " '8.1',\n",
       " '8.1',\n",
       " '8.1',\n",
       " '8.1',\n",
       " '8.1',\n",
       " '8.1',\n",
       " '8.1',\n",
       " '8.1',\n",
       " '8.1',\n",
       " '8.1',\n",
       " '8.1',\n",
       " '8.0',\n",
       " '8.0',\n",
       " '8.0',\n",
       " '8.0',\n",
       " '8.0',\n",
       " '8.0',\n",
       " '8.0',\n",
       " '8.0',\n",
       " '8.0',\n",
       " '8.0',\n",
       " '8.0',\n",
       " '8.0',\n",
       " '8.0',\n",
       " '8.0',\n",
       " '8.0',\n",
       " '8.0',\n",
       " '8.0',\n",
       " '8.0',\n",
       " '8.0',\n",
       " '8.0',\n",
       " '8.0',\n",
       " '8.0',\n",
       " '8.0',\n",
       " '7.9',\n",
       " '7.9',\n",
       " '7.9',\n",
       " '7.9',\n",
       " '7.9',\n",
       " '7.9',\n",
       " '7.9',\n",
       " '7.9',\n",
       " '7.9',\n",
       " '7.9',\n",
       " '7.9',\n",
       " '7.9',\n",
       " '7.9',\n",
       " '7.9',\n",
       " '7.9',\n",
       " '7.9',\n",
       " '7.9',\n",
       " '7.9',\n",
       " '7.9',\n",
       " '7.9',\n",
       " '7.9',\n",
       " '7.9',\n",
       " '7.9',\n",
       " '7.8',\n",
       " '7.8',\n",
       " '7.8',\n",
       " '7.8',\n",
       " '7.8',\n",
       " '7.8',\n",
       " '7.8',\n",
       " '7.8',\n",
       " '7.8',\n",
       " '7.8',\n",
       " '7.8',\n",
       " '7.8',\n",
       " '7.8',\n",
       " '7.8',\n",
       " '7.8',\n",
       " '7.8',\n",
       " '7.8',\n",
       " '7.8',\n",
       " '7.8',\n",
       " '7.8',\n",
       " '7.8',\n",
       " '7.8',\n",
       " '7.8',\n",
       " '7.7',\n",
       " '7.7',\n",
       " '7.7',\n",
       " '7.7',\n",
       " '7.7',\n",
       " '7.7',\n",
       " '7.7',\n",
       " '7.7',\n",
       " '7.7',\n",
       " '7.7',\n",
       " '7.7',\n",
       " '7.7',\n",
       " '7.7',\n",
       " '7.7',\n",
       " '7.7',\n",
       " '7.7',\n",
       " '7.7',\n",
       " '7.7',\n",
       " '7.7',\n",
       " '7.7',\n",
       " '7.7',\n",
       " '7.7',\n",
       " '7.6',\n",
       " '7.6',\n",
       " '7.6',\n",
       " '7.6',\n",
       " '7.6',\n",
       " '7.6',\n",
       " '7.6',\n",
       " '7.6',\n",
       " '7.6',\n",
       " '7.6',\n",
       " '7.6',\n",
       " '7.6',\n",
       " '7.6',\n",
       " '7.6',\n",
       " '7.6',\n",
       " '7.6',\n",
       " '7.6',\n",
       " '7.6',\n",
       " '7.6',\n",
       " '7.6',\n",
       " '7.6',\n",
       " '7.6',\n",
       " '7.6',\n",
       " '7.6',\n",
       " '7.6',\n",
       " '7.6',\n",
       " '7.6',\n",
       " '7.6',\n",
       " '7.5',\n",
       " '7.5',\n",
       " '7.5',\n",
       " '7.5',\n",
       " '7.5',\n",
       " '7.5',\n",
       " '7.5',\n",
       " '7.5',\n",
       " '7.5',\n",
       " '7.5',\n",
       " '7.5',\n",
       " '7.5',\n",
       " '7.5',\n",
       " '7.5',\n",
       " '7.5',\n",
       " '7.5',\n",
       " '7.5',\n",
       " '7.5',\n",
       " '7.5',\n",
       " '7.5',\n",
       " '7.5',\n",
       " '7.5',\n",
       " '7.5',\n",
       " '7.5',\n",
       " '7.5',\n",
       " '7.5',\n",
       " '7.5',\n",
       " '7.5',\n",
       " '7.5',\n",
       " '7.5',\n",
       " '7.5',\n",
       " '7.5',\n",
       " '7.5',\n",
       " '7.5',\n",
       " '7.5',\n",
       " '7.4',\n",
       " '7.4',\n",
       " '7.4']"
      ]
     },
     "execution_count": 31,
     "metadata": {},
     "output_type": "execute_result"
    }
   ],
   "source": [
    "for i in rats:\n",
    "    IMDB_Rating.append(i.get_text().replace(\"\\n\",\"\"))\n",
    "IMDB_Rating"
   ]
  },
  {
   "cell_type": "code",
   "execution_count": 32,
   "metadata": {},
   "outputs": [],
   "source": [
    "import pandas as pd\n",
    "imdb=pd.DataFrame({})\n",
    "imdb['name(year)']=name[0:]\n",
    "imdb['IMDB_Rating']=IMDB_Rating[0:]"
   ]
  },
  {
   "cell_type": "code",
   "execution_count": 33,
   "metadata": {},
   "outputs": [
    {
     "data": {
      "text/html": [
       "<div>\n",
       "<style scoped>\n",
       "    .dataframe tbody tr th:only-of-type {\n",
       "        vertical-align: middle;\n",
       "    }\n",
       "\n",
       "    .dataframe tbody tr th {\n",
       "        vertical-align: top;\n",
       "    }\n",
       "\n",
       "    .dataframe thead th {\n",
       "        text-align: right;\n",
       "    }\n",
       "</style>\n",
       "<table border=\"1\" class=\"dataframe\">\n",
       "  <thead>\n",
       "    <tr style=\"text-align: right;\">\n",
       "      <th></th>\n",
       "      <th>name(year)</th>\n",
       "      <th>IMDB_Rating</th>\n",
       "    </tr>\n",
       "  </thead>\n",
       "  <tbody>\n",
       "    <tr>\n",
       "      <th>0</th>\n",
       "      <td>1.      Pather Panchali(1955)</td>\n",
       "      <td>8.5</td>\n",
       "    </tr>\n",
       "    <tr>\n",
       "      <th>1</th>\n",
       "      <td>2.      Ratsasan(2018)</td>\n",
       "      <td>8.5</td>\n",
       "    </tr>\n",
       "    <tr>\n",
       "      <th>2</th>\n",
       "      <td>3.      Gol Maal(1979)</td>\n",
       "      <td>8.5</td>\n",
       "    </tr>\n",
       "    <tr>\n",
       "      <th>3</th>\n",
       "      <td>4.      Nayakan(1987)</td>\n",
       "      <td>8.5</td>\n",
       "    </tr>\n",
       "    <tr>\n",
       "      <th>4</th>\n",
       "      <td>5.      Anbe Sivam(2003)</td>\n",
       "      <td>8.5</td>\n",
       "    </tr>\n",
       "  </tbody>\n",
       "</table>\n",
       "</div>"
      ],
      "text/plain": [
       "                            name(year) IMDB_Rating\n",
       "0        1.      Pather Panchali(1955)         8.5\n",
       "1               2.      Ratsasan(2018)         8.5\n",
       "2               3.      Gol Maal(1979)         8.5\n",
       "3                4.      Nayakan(1987)         8.5\n",
       "4             5.      Anbe Sivam(2003)         8.5"
      ]
     },
     "execution_count": 33,
     "metadata": {},
     "output_type": "execute_result"
    }
   ],
   "source": [
    "imdb.head()"
   ]
  },
  {
   "cell_type": "code",
   "execution_count": 34,
   "metadata": {},
   "outputs": [],
   "source": [
    "#Saving a dataframe\n",
    "imdb.to_csv(\"wed scraping imdb1.csv\",index=False)"
   ]
  },
  {
   "cell_type": "markdown",
   "metadata": {},
   "source": [
    "## To scrap book name, author name, genre and book review of any 5 books"
   ]
  },
  {
   "cell_type": "code",
   "execution_count": 35,
   "metadata": {},
   "outputs": [],
   "source": [
    "from bs4 import BeautifulSoup\n",
    "import requests"
   ]
  },
  {
   "cell_type": "code",
   "execution_count": 36,
   "metadata": {},
   "outputs": [],
   "source": [
    "page=requests.get(\"https://bookpage.com/reviews\")"
   ]
  },
  {
   "cell_type": "code",
   "execution_count": 37,
   "metadata": {},
   "outputs": [
    {
     "data": {
      "text/plain": [
       "b'<!DOCTYPE html>\\n<html lang=\\'en\\' xmlns:fb=\\'http://www.facebook.com/2008/fbml\\' xmlns:og=\\'http://opengraphprotocol.org/schema/\\'>\\n<head>\\n<title>Book Reviews | BookPage</title>\\n<meta name=\"description\" content=\"Book recommendations of the best new books by genre and more.\">\\n<meta name=\"keywords\" content=\"book reviews, books and literature, writing and writers\">\\n<link rel=\"canonical\" href=\"https://bookpage.com/reviews\">\\n<meta property=\"og:site_name\" content=\"BookPage.com\">\\n<meta property=\"og:title\" content=\"Book Reviews\">\\n<meta property=\"og:description\" content=\"Book recommendations of the best new books by genre and more.\">\\n<meta property=\"og:type\" content=\"website\">\\n<meta property=\"og:url\" content=\"https://bookpage.com/reviews\">\\n<meta property=\"og:image\" content=\"//www.bookpage.com/default_image.jpg\">\\n<meta name=\"twitter:card\" content=\"summary\">\\n<meta name=\"twitter:site\" content=\"@bookpage\">\\n<meta name=\"twitter:creator\" content=\"@bookpage\">\\n<meta name=\"robots\" content=\"index,follow\">\\n<meta name=\"application-name\" content=\"BookPage\">\\n<meta name=\"msapplication-tooltip\" content=\"BookPage\">\\n<meta name=\"msapplication-starturl\" content=\"https://bookpage.com/\">\\n<meta name=\"msapplication-task\" content=\"name=BookPage;action-uri=https://bookpage.com;icon-uri=https://bookpage.com/favicon.ico\">\\n<meta name=\"msapplication-task\" content=\"name=BookPage on Twitter;action-uri=http://twitter.com/bookpage;icon-uri=http://twitter.com/favicon.ico\">\\n<meta name=\"msapplication-task\" content=\"name=BookPage on Facebook;action-uri=https://www.facebook.com/pages/BookPage/116675947874;icon-uri=https://s-static.ak.facebook.com/rsrc.php/yi/r/q9U99v3_saj.ico\">\\n<meta name=\"msapplication-task\" content=\"name=BookPage on Pinterest;action-uri=http://www.pinterest.com/bookpage/;icon-uri=http://www.pinterest.com/favicon.ico\">\\n<meta name=\"msapplication-task\" content=\"name=BookPage on YouTube;action-uri=http://www.youtube.com/BookPagedotcom;icon-uri=http://www.youtube.com/favicon.ico\">\\n<meta charset=\\'utf-8\\'>\\n<meta content=\\'IE=Edge,chrome=1\\' http-equiv=\\'X-UA-Compatible\\'>\\n<meta content=\\'width=device-width, initial-scale=1.0\\' name=\\'viewport\\'>\\n<meta name=\"csrf-param\" content=\"authenticity_token\" />\\n<meta name=\"csrf-token\" content=\"vy9z9YKEQEZehqaoUWtXnyHB4QhwBcMRQQYnjibQNZww+MUNXxPSU0/t3DdVzWAMYEns7aLRbbOfQdj5fs1MXg==\" />\\n<!-- Le HTML5 shim, for IE6-8 support of HTML elements -->\\n<!--[if lt IE 9]>\\n<script src=\"//html5shim.googlecode.com/svn/trunk/html5.js\"></script>\\n<![endif]-->\\n<link rel=\"stylesheet\" media=\"all\" href=\"/assets/application-b9f5cab7c2033d0b769ae1f7564d5c096ad9f82f5950241003f1b5d1bdae77ee.css\" />\\n<link href=\\'/apple-touch-icon-180x180.png\\' rel=\\'apple-touch-icon\\' sizes=\\'180x180\\'>\\n<link href=\\'/apple-touch-icon-152x152.png\\' rel=\\'apple-touch-icon\\' sizes=\\'152x152\\'>\\n<link href=\\'/apple-touch-icon-144x144.png\\' rel=\\'apple-touch-icon\\' sizes=\\'144x144\\'>\\n<link href=\\'/apple-touch-icon-120x120.png\\' rel=\\'apple-touch-icon\\' sizes=\\'120x120\\'>\\n<link href=\\'/apple-touch-icon-114x114.png\\' rel=\\'apple-touch-icon\\' sizes=\\'114x114\\'>\\n<link href=\\'/apple-touch-icon-76x76.png\\' rel=\\'apple-touch-icon\\' sizes=\\'76x76\\'>\\n<link href=\\'/apple-touch-icon-72x72.png\\' rel=\\'apple-touch-icon\\' sizes=\\'72x72\\'>\\n<link href=\\'/apple-touch-icon.png\\' rel=\\'apple-touch-icon\\'>\\n<link href=\\'/favicon.ico\\' rel=\\'shortcut icon\\'>\\n<meta content=\\'BookPage\\' name=\\'apple-mobile-web-app-title\\'>\\n<link rel=\"alternate\" type=\"application/atom+xml\" title=\"ATOM\" href=\"/feed\" />\\n<link rel=\"alternate\" type=\"application/rss+xml\" title=\"RSS\" href=\"/feed.rss\" />\\n<link href=\\'//fonts.googleapis.com/css?family=Open+Sans:400,600,700,800\\' rel=\\'stylesheet\\' type=\\'text/css\\'>\\n<link href=\\'//fonts.googleapis.com/css?family=Open+Sans+Condensed:700\\' rel=\\'stylesheet\\' type=\\'text/css\\'>\\n<script async=\\'async\\' src=\\'https://www.googletagservices.com/tag/js/gpt.js\\'></script>\\n<script>\\n var googletag = googletag || {};\\n googletag.cmd = googletag.cmd || [];\\n</script>\\n\\n<script>\\n googletag.cmd.push(function() {\\n   googletag.defineSlot(\\'/4655871/ATL\\', [970, 250], \\'div-gpt-ad-1515619791087-0\\').addService(googletag.pubads());\\n   googletag.pubads().enableSingleRequest();\\n   googletag.enableServices();\\n });\\n</script>\\n\\n<script src=\\'//d3c3cq33003psk.cloudfront.net/opentag-123939-1670854.js\\' async defer></script><script type=\"text/javascript\">\\n var googletag = googletag || {};\\ngoogletag.cmd = googletag.cmd || [];\\n(function() {\\nvar gads = document.createElement(\"script\");\\ngads.async = true;\\ngads.type = \"text/javascript\";\\nvar useSSL = \"https:\" == document.location.protocol;\\ngads.src = (useSSL ? \"https:\" : \"http:\") + \"//www.googletagservices.com/tag/js/gpt.js\";\\nvar node =document.getElementsByTagName(\"script\")[0];\\nnode.parentNode.insertBefore(gads, node);\\n})();\\n</script>\\n\\n<!-- Global site tag (gtag.js) - Google Analytics -->\\n<script async src=\"https://www.googletagmanager.com/gtag/js?id=GTM-P85NP22\"></script>\\n<script>\\n  window.dataLayer = window.dataLayer || [];\\n  function gtag(){dataLayer.push(arguments);}\\n  gtag(\\'js\\', new Date());\\n\\n  gtag(\\'config\\', \\'GTM-P85NP22\\');\\n</script>\\n\\n<script>\\n  (function(i,s,o,g,r,a,m){i[\\'GoogleAnalyticsObject\\']=r;i[r]=i[r]||function(){\\n  (i[r].q=i[r].q||[]).push(arguments)},i[r].l=1*new Date();a=s.createElement(o),\\n  m=s.getElementsByTagName(o)[0];a.async=1;a.src=g;m.parentNode.insertBefore(a,m)\\n  })(window,document,\\'script\\',\\'//www.google-analytics.com/analytics.js\\',\\'ga\\');\\n\\n  ga(\\'create\\', \\'UA-9261499-1\\', \\'auto\\');\\n  ga(\\'send\\', \\'pageview\\');\\n</script>\\n<!-- Google Tag Manager -->\\n<script>(function(w,d,s,l,i){w[l]=w[l]||[];w[l].push({\\'gtm.start\\':\\nnew Date().getTime(),event:\\'gtm.js\\'});var f=d.getElementsByTagName(s)[0],\\nj=d.createElement(s),dl=l!=\\'dataLayer\\'?\\'&l=\\'+l:\\'\\';j.async=true;j.src=\\n\\'https://www.googletagmanager.com/gtm.js?id=\\'+i+dl;f.parentNode.insertBefore(j,f);\\n})(window,document,\\'script\\',\\'dataLayer\\',\\'GTM-P85NP22\\');</script>\\n<!-- End Google Tag Manager -->\\n\\n<!-- Facebook Pixel Code -->\\n<script>\\n!function(f,b,e,v,n,t,s){if(f.fbq)return;n=f.fbq=function(){n.callMethod?\\nn.callMethod.apply(n,arguments):n.queue.push(arguments)};if(!f._fbq)f._fbq=n;\\nn.push=n;n.loaded=!0;n.version=\\'2.0\\';n.queue=[];t=b.createElement(e);t.async=!0;\\nt.src=v;s=b.getElementsByTagName(e)[0];s.parentNode.insertBefore(t,s)}(window,\\ndocument,\\'script\\',\\'//connect.facebook.net/en_US/fbevents.js\\');\\n\\nfbq(\\'init\\', \\'1746518832242335\\');\\nfbq(\\'track\\', \"PageView\");</script>\\n<noscript><img height=\"1\" width=\"1\" style=\"display:none\"\\nsrc=\"https://www.facebook.com/tr?id=1746518832242335&ev=PageView&noscript=1\"\\n/></noscript>\\n<!-- End Facebook Pixel Code -->\\n\\n<script>\\n    (function(h,o,t,j,a,r){\\n        h.hj=h.hj||function(){(h.hj.q=h.hj.q||[]).push(arguments)};\\n        h._hjSettings={hjid:1209228,hjsv:6};\\n        a=o.getElementsByTagName(\\'head\\')[0];\\n        r=o.createElement(\\'script\\');r.async=1;\\n        r.src=t+h._hjSettings.hjid+j+h._hjSettings.hjsv;\\n        a.appendChild(r);\\n    })(window,document,\\'https://static.hotjar.com/c/hotjar-\\',\\'.js?sv=\\');\\n</script>\\n\\n<!-- Facebook Pixel Code -->\\n<script>(function(){var s = document.createElement(\\'script\\'),e = ! document.body ? document.querySelector(\\'head\\') : document.body;s.src = \\'https://acsbapp.com/apps/app/assets/js/acsb.js\\';s.async = s.defer = true;s.onload = function(){acsbJS.init({statementLink : \\'\\',feedbackLink : \\'\\',footerHtml : \\'\\',hideMobile : false,hideTrigger : false,language : \\'en\\',position : \\'right\\',leadColor : \\'#146FF8\\',triggerColor : \\'#146FF8\\',triggerRadius : \\'50%\\',triggerPositionX : \\'right\\',triggerPositionY : \\'bottom\\',triggerIcon : \\'default\\',triggerSize : \\'medium\\',triggerOffsetX : 20,triggerOffsetY : 20,mobile : {triggerSize : \\'small\\',triggerPositionX : \\'right\\',triggerPositionY : \\'center\\',triggerOffsetX : 0,triggerOffsetY : 0,triggerRadius : \\'50%\\'}});};e.appendChild(s);}());</script>\\n<!-- End Facebook Pixel Code -->\\n\\n</head>\\n\\n<body>\\n<!-- Google Tag Manager -->\\n<noscript><iframe src=\"//www.googletagmanager.com/ns.html?id=GTM-T5GJ4V\"\\nheight=\"0\" width=\"0\" style=\"display:none;visibility:hidden\"></iframe></noscript>\\n<script>(function(w,d,s,l,i){w[l]=w[l]||[];w[l].push({\\'gtm.start\\':\\nnew Date().getTime(),event:\\'gtm.js\\'});var f=d.getElementsByTagName(s)[0],\\nj=d.createElement(s),dl=l!=\\'dataLayer\\'?\\'&l=\\'+l:\\'\\';j.async=true;j.src=\\n\\'//www.googletagmanager.com/gtm.js?id=\\'+i+dl;f.parentNode.insertBefore(j,f);\\n})(window,document,\\'script\\',\\'dataLayer\\',\\'GTM-T5GJ4V\\');</script>\\n<!-- End Google Tag Manager -->\\n\\n<!-- Google Tag Manager (noscript) -->\\n<noscript><iframe src=\"https://www.googletagmanager.com/ns.html?id=GTM-P85NP22\"\\nheight=\"0\" width=\"0\" style=\"display:none;visibility:hidden\"></iframe></noscript>\\n<!-- End Google Tag Manager (noscript) -->\\n\\n<!-- google ads -->\\n<script data-ad-client=\"ca-pub-1933750090033622\" async src=\"https://pagead2.googlesyndication.com/pagead/js/adsbygoogle.js\"></script>\\n\\n<div class=\\'container-fluid\\'>\\n<div class=\\'header\\'>\\n<div class=\\'navbar navbar-default navbar-fixed-top bp-nav\\'>\\n<div class=\\'row-fluid subscribe\\'>\\n<a class=\\'button\\' href=\\'https://signup.e2ma.net/signup/1896962/28888/\\' onclick=\"window.open(\\'https://signup.e2ma.net/signup/1896962/28888/\\', \\'signup\\', \\'menubar=no, location=no, toolbar=no, scrollbars=yes, height=800, width=500\\'); return false;\">Sign up for our newsletters!</a>\\n</div>\\n<div class=\\'navbar-inner\\'>\\n<a class=\\'btn btn-navbar\\' data-target=\\'.nav-collapse\\' data-toggle=\\'collapse\\'>\\n<i class=\\'zmdi zmdi-menu\\'></i>\\n</a>\\n<a href=\\'/\\'>\\n<img class=\"brand\" src=\"/assets/logos/logo_large-d48d8b33b2656c699a6815c500d328a7d0ee40edfde8536e957bfb739cfbf611.png\" alt=\"Logo large\" />\\n</a>\\n<div class=\\'nav-collapse\\'>\\n<ul class=\\'nav bp-navtext\\'>\\n<li class=\\'\\'><a href=\"/print-edition\">Print Edition</a></li>\\n<li class=\\'current dropdown\\'>\\n<a aria-expanded=\\'false\\' aria-haspopup=\\'true\\' class=\\'dropdown-toggle\\' data-toggle=\\'dropdown\\' href=\\'/reviews\\' role=\\'button\\'>Book Reviews</a>\\n<ul class=\\'dropdown-menu\\'>\\n<li><a href=\"/reviews\">All Reviews</a></li>\\n<li><a href=\"/reviews?book_genre=fiction&amp;page=1\">Fiction</a></li>\\n<li><a href=\"/reviews?book_genre=nonfiction&amp;page=1\">Nonfiction</a></li>\\n<li><a href=\"/reviews?book_genre=children_s&amp;page=1\">Children&#39;s</a></li>\\n<li><a href=\"/reviews?book_genre=ya&amp;page=1\">YA</a></li>\\n<li><a href=\"/reviews?book_genre=mystery_suspense&amp;page=1\">Mystery</a></li>\\n<li><a href=\"/reviews?book_genre=romance&amp;page=1\">Romance</a></li>\\n</ul>\\n</li>\\n<li class=\\'\\'><a href=\"/interviews\">Interviews</a></li>\\n<li class=\\'\\'><a href=\"/features\">Features</a></li>\\n<li class=\\'nav-last dropdown\\'>\\n<a aria-expanded=\\'false\\' aria-haspopup=\\'true\\' class=\\'dropdown-toggle\\' data-toggle=\\'dropdown\\' href=\\'/reviews\\' role=\\'button\\'>Subscribe</a>\\n<ul class=\\'dropdown-menu\\'>\\n<li><a target=\"_blank\" href=\"http://www.subscriptions.bookpage.com/library\">Library</a></li>\\n<li><a target=\"_blank\" href=\"http://www.subscriptions.bookpage.com/bookstore\">Bookstore</a></li>\\n<li><a target=\"_blank\" href=\"http://MIurl.cc/Z6eD1pmI\">Individual</a></li>\\n</ul>\\n</li>\\n<div class=\\'search-box\\'>\\n<form class=\"search-form\" action=\"/search/\" accept-charset=\"UTF-8\" method=\"get\"><input name=\"utf8\" type=\"hidden\" value=\"&#x2713;\" />\\n<div class=\\'input-prepend\\'>\\n<span class=\\'add-on add-on-custom\\'>\\n<i class=\\'fa fa-search\\'></i>\\n</span>\\n<input type=\"text\" name=\"query\" id=\"query\" class=\"input-medium query-input\" placeholder=\"Search BookPage\" />\\n</div>\\n</form>\\n\\n</div>\\n\\n</ul>\\n</div>\\n</div>\\n</div>\\n\\n</div>\\n<div class=\\'page-content\\'>\\n<!-- Main Content -->\\n<div class=\\'row-fluid articles-index\\'>\\n<div class=\\'row-fluid\\'>\\n<div class=\\'search-bar\\'>\\n<div class=\\'breadcrumbs\\'>\\n<p>\\n<a href=\"/\">Home</a>\\n&nbsp;<i class=\\'zmdi zmdi-chevron-right\\'></i>\\n<h1 class=\\'sans\\'>\\nBook reviews\\n</h1>\\n</p>\\n</div>\\n<br class=\\'clear\\'>\\n</div>\\n\\n</div>\\n<div class=\\'row-fluid\\'>\\n<!-- Articles Column -->\\n<div class=\\'span9\\'>\\n<div class=\\'bp-well\\'>\\n<div class=\\'row-fluid article-row\\'>\\n<div class=\\'bp-block article-info\\'>\\n<div class=\\'article-list-left\\'>\\n<a href=\"/reviews/25814-sarah-moss-summerwater-fiction\"><img src=\"https://t1.bookpage.com/books/images/fc626e849115d3ec6eb14e5bc15825bf/medium.jpg\" alt=\"Medium\" /></a>\\n</div>\\n<div class=\\'flex-article-content\\'>\\n<h4 class=\\'italic\\'>\\n<a href=\"/reviews/25814-sarah-moss-summerwater-fiction\">Summerwater</a>\\n</h4>\\n<p class=\\'sans bold\\'>\\nSarah Moss\\n</p>\\n<p class=\\'genre-links hidden-phone\\'>\\n<a href=\"/search?book_genre=fiction\">Fiction</a>\\n / \\n<a href=\"/search?book_genre=literary_fiction\">Literary Fiction</a>\\n</p>\\n\\n<p class=\\'excerpt\\'>\\n<p>Gabriel Garc&iacute;a M&aacute;rquez once wrote, &ldquo;Everyone has three lives: a private life, a public life, and a secret life.&rdquo; It&rsquo;s the latter of these we see on full display in British author Sarah Moss&rsquo; slender yet weighty <strong>Summerwater</strong>.</p>\\n</p>\\n<div class=\\'read-full\\'>\\n<a href=\"/reviews/25814-sarah-moss-summerwater-fiction\">Read the Review <i class=\\'zmdi zmdi-chevron-right\\'></i></a>\\n</div>\\n</div>\\n<br class=\\'clear\\'>\\n</div>\\n\\n</div>\\n<div class=\\'row-fluid article-row\\'>\\n<div class=\\'bp-block article-info\\'>\\n<div class=\\'article-list-left\\'>\\n<a href=\"/reviews/25888-kristin-cashore-winterkeep-ya\"><img src=\"https://t1.bookpage.com/books/images/c8f851446eba68d1ba4f771c1f8364e8/medium.jpg\" alt=\"Medium\" /></a>\\n</div>\\n<div class=\\'flex-article-content\\'>\\n<h4 class=\\'italic\\'>\\n<a href=\"/reviews/25888-kristin-cashore-winterkeep-ya\">Winterkeep</a>\\n</h4>\\n<p class=\\'sans bold\\'>\\nKristin Cashore\\n</p>\\n<p class=\\'genre-links hidden-phone\\'>\\n<a href=\"/search?book_genre=ya\">YA</a>\\n / \\n<a href=\"/search?book_genre=ya_fiction\">YA Fiction</a>\\n</p>\\n\\n<p class=\\'excerpt\\'>\\n<p>Fans of Kristin Cashore&rsquo;s previous books set in the fantastical world of the Seven Realms (<em>Graceling</em>, <em>Fire</em> and <em>Bitterblue</em>) will pick up <strong>Winterkeep</strong> with certain expectations. Breathe a sigh of relief now: <strong>Winterkeep</strong> does not disappoint.</p>\\n</p>\\n<div class=\\'read-full\\'>\\n<a href=\"/reviews/25888-kristin-cashore-winterkeep-ya\">Read the Review <i class=\\'zmdi zmdi-chevron-right\\'></i></a>\\n</div>\\n</div>\\n<br class=\\'clear\\'>\\n</div>\\n\\n</div>\\n<div class=\\'row-fluid article-row\\'>\\n<div class=\\'bp-block article-info\\'>\\n<div class=\\'article-list-left\\'>\\n<a href=\"/reviews/25894-b-b-alston-amari-night-brothers-childrens\"><img src=\"https://t1.bookpage.com/books/images/a9ed96f84faf0fef481ccf05dc432d1f/medium.jpg\" alt=\"Medium\" /></a>\\n</div>\\n<div class=\\'flex-article-content\\'>\\n<h4 class=\\'italic\\'>\\n<a href=\"/reviews/25894-b-b-alston-amari-night-brothers-childrens\">Amari and the Night Brothers</a>\\n</h4>\\n<p class=\\'sans bold\\'>\\nB. B. Alston\\n</p>\\n<p class=\\'genre-links hidden-phone\\'>\\n<a href=\"/search?book_genre=children_s\">Children&#39;s</a>\\n / \\n<a href=\"/search?book_genre=middle_grade\">Middle Grade</a>\\n</p>\\n\\n<p class=\\'excerpt\\'>\\n<p>Things are not going well for Amari Peters. Her scholarship to tony Jefferson Academy is being revoked on the last day of school because she shoved a classmate after being subjected to continuous bullying. And as if she didn&rsquo;t have enough to worry about, her older brother, Quinton, has been...</p>\\n</p>\\n<div class=\\'read-full\\'>\\n<a href=\"/reviews/25894-b-b-alston-amari-night-brothers-childrens\">Read the Review <i class=\\'zmdi zmdi-chevron-right\\'></i></a>\\n</div>\\n</div>\\n<br class=\\'clear\\'>\\n</div>\\n\\n</div>\\n<div class=\\'row-fluid article-row\\'>\\n<div class=\\'bp-block article-info\\'>\\n<div class=\\'article-list-left\\'>\\n<a href=\"/reviews/25797-james-oakes-crooked-path-to-abolition-history\"><img src=\"https://t1.bookpage.com/books/images/b02228098597a8a97e754249c3b4dc7c/medium.jpg\" alt=\"Medium\" /></a>\\n</div>\\n<div class=\\'flex-article-content\\'>\\n<h4 class=\\'italic\\'>\\n<a href=\"/reviews/25797-james-oakes-crooked-path-to-abolition-history\">The Crooked Path to Abolition</a>\\n</h4>\\n<p class=\\'sans bold\\'>\\nJames Oakes\\n</p>\\n<p class=\\'genre-links hidden-phone\\'>\\n<a href=\"/search?book_genre=nonfiction\">Nonfiction</a>\\n / \\n<a href=\"/search?book_genre=history\">History</a>\\n / \\n<a href=\"/search?book_genre=american_history\">American History</a>\\n</p>\\n\\n<p class=\\'excerpt\\'>\\n<p><strong>The Crooked Path to Abolition</strong> is richly rewarding and helps us see the full context of political decisions that put slavery, as Lincoln said, on &ldquo;a course of ultimate extinction.&rdquo;</p>\\n</p>\\n<div class=\\'read-full\\'>\\n<a href=\"/reviews/25797-james-oakes-crooked-path-to-abolition-nonfiction\">Read the Review <i class=\\'zmdi zmdi-chevron-right\\'></i></a>\\n</div>\\n</div>\\n<br class=\\'clear\\'>\\n</div>\\n\\n</div>\\n<div class=\\'row-fluid article-row\\'>\\n<div class=\\'bp-block article-info\\'>\\n<div class=\\'article-list-left\\'>\\n<a href=\"/reviews/25811-viola-ardone-childrens-train-fiction\"><img src=\"https://t1.bookpage.com/books/images/10613c3cdfd805edaae4a85b6bde7267/medium.jpg\" alt=\"Medium\" /></a>\\n</div>\\n<div class=\\'flex-article-content\\'>\\n<h4 class=\\'italic\\'>\\n<a href=\"/reviews/25811-viola-ardone-childrens-train-fiction\">The Children\\'s Train</a>\\n</h4>\\n<p class=\\'sans bold\\'>\\nViola Ardone, Clarissa Botsford\\n</p>\\n<p class=\\'genre-links hidden-phone\\'>\\n<a href=\"/search?book_genre=fiction\">Fiction</a>\\n / \\n<a href=\"/search?book_genre=historical_fiction\">Historical Fiction</a>\\n</p>\\n\\n<p class=\\'excerpt\\'>\\n<p>The displacement of children is a vexing problem in international and national politics. Italian author Viola Ardone&rsquo;s novel explores issues surrounding children who are separated from their parents, but in this case, the families willingly send their youngsters away to live in the care of...</p>\\n</p>\\n<div class=\\'read-full\\'>\\n<a href=\"/reviews/25811-viola-ardone-childrens-train-fiction\">Read the Review <i class=\\'zmdi zmdi-chevron-right\\'></i></a>\\n</div>\\n</div>\\n<br class=\\'clear\\'>\\n</div>\\n\\n</div>\\n<div class=\\'row-fluid article-row\\'>\\n<div class=\\'bp-block article-info\\'>\\n<div class=\\'article-list-left\\'>\\n<a href=\"/reviews/25855-jennifer-l-holm-lion-mars-childrens\"><img src=\"https://t1.bookpage.com/books/images/37a5d98f9c191156260d5aab9ec8cdee/medium.jpg\" alt=\"Medium\" /></a>\\n</div>\\n<div class=\\'flex-article-content\\'>\\n<h4 class=\\'italic\\'>\\n<a href=\"/reviews/25855-jennifer-l-holm-lion-mars-childrens\">The Lion of Mars</a>\\n</h4>\\n<p class=\\'sans bold\\'>\\nJennifer L. Holm\\n</p>\\n<p class=\\'genre-links hidden-phone\\'>\\n<a href=\"/search?book_genre=children_s\">Children&#39;s</a>\\n / \\n<a href=\"/search?book_genre=middle_grade\">Middle Grade</a>\\n</p>\\n\\n<p class=\\'excerpt\\'>\\n<p>In the year 2091, millions of miles away from Earth, 11-year-old Bell and a handful of other kids are growing up on Mars. Sent there as orphaned infants, they have never known another life, another home or another family. Along with several adults, they make up the American settlement, where...</p>\\n</p>\\n<div class=\\'read-full\\'>\\n<a href=\"/reviews/25855-jennifer-l-holm-lion-mars-childrens\">Read the Review <i class=\\'zmdi zmdi-chevron-right\\'></i></a>\\n</div>\\n</div>\\n<br class=\\'clear\\'>\\n</div>\\n\\n</div>\\n<div class=\\'row-fluid article-row\\'>\\n<div class=\\'bp-block article-info\\'>\\n<div class=\\'article-list-left\\'>\\n<a href=\"/reviews/25813-liese-ohalloran-schwarz-what-could-be-saved-fiction\"><img src=\"https://t1.bookpage.com/books/images/d1264414cfd089d61fc2912d174091b7/medium.jpg\" alt=\"Medium\" /></a>\\n</div>\\n<div class=\\'flex-article-content\\'>\\n<h4 class=\\'italic\\'>\\n<a href=\"/reviews/25813-liese-ohalloran-schwarz-what-could-be-saved-fiction\">What Could Be Saved</a>\\n</h4>\\n<p class=\\'sans bold\\'>\\nLiese O\\'Halloran Schwarz\\n</p>\\n<p class=\\'genre-links hidden-phone\\'>\\n<a href=\"/search?book_genre=fiction\">Fiction</a>\\n / \\n<a href=\"/search?book_genre=family_saga\">Family Saga</a>\\n</p>\\n\\n<p class=\\'excerpt\\'>\\n<p>At the heart of family novels there&rsquo;s often a secret, and how that secret plays out in family dynamics forms the heart of the story. Liese O&rsquo;Halloran Schwarz&rsquo;s third novel is no exception, with several secrets reverberating from the past.</p>\\n</p>\\n<div class=\\'read-full\\'>\\n<a href=\"/reviews/25813-liese-ohalloran-schwarz-what-could-be-saved-fiction\">Read the Review <i class=\\'zmdi zmdi-chevron-right\\'></i></a>\\n</div>\\n</div>\\n<br class=\\'clear\\'>\\n</div>\\n\\n</div>\\n<div class=\\'row-fluid article-row\\'>\\n<div class=\\'bp-block article-info\\'>\\n<div class=\\'article-list-left\\'>\\n<a href=\"/reviews/25793-nadia-owusu-aftershocks-biography-memoir\"><img src=\"https://t1.bookpage.com/books/images/cfad28e197a2c70d38abe27cc15e6694/medium.jpg\" alt=\"Medium\" /></a>\\n</div>\\n<div class=\\'flex-article-content\\'>\\n<h4 class=\\'italic\\'>\\n<a href=\"/reviews/25793-nadia-owusu-aftershocks-biography-memoir\">Aftershocks</a>\\n</h4>\\n<p class=\\'sans bold\\'>\\nNadia Owusu\\n</p>\\n<p class=\\'genre-links hidden-phone\\'>\\n<a href=\"/search?book_genre=nonfiction\">Nonfiction</a>\\n / \\n<a href=\"/search?book_genre=biography_memoir\">Biography &amp; Memoir</a>\\n / \\n<a href=\"/search?book_genre=memoir\">Memoir</a>\\n</p>\\n\\n<p class=\\'excerpt\\'>\\n<p><strong>Aftershocks</strong> is an intimate work told in an imaginative style, with the events that shaped its author rippling throughout her nonlinear story.</p>\\n</p>\\n<div class=\\'read-full\\'>\\n<a href=\"/reviews/25793-nadia-owusu-aftershocks-nonfiction\">Read the Review <i class=\\'zmdi zmdi-chevron-right\\'></i></a>\\n</div>\\n</div>\\n<br class=\\'clear\\'>\\n</div>\\n\\n</div>\\n<div class=\\'row-fluid article-row\\'>\\n<div class=\\'bp-block article-info\\'>\\n<div class=\\'article-list-left\\'>\\n<a href=\"/reviews/25816-mateo-askaripour-black-buck-fiction\"><img src=\"https://t1.bookpage.com/books/images/2818ba700e3047966efb14f54b8ae80d/medium.jpg\" alt=\"Medium\" /></a>\\n</div>\\n<div class=\\'flex-article-content\\'>\\n<h4 class=\\'italic\\'>\\n<a href=\"/reviews/25816-mateo-askaripour-black-buck-fiction\"> <span style=\\'font-style:normal;\\'>&#x2605 </span>Black Buck</a>\\n</h4>\\n<p class=\\'sans bold\\'>\\nMateo Askaripour\\n</p>\\n<p class=\\'genre-links hidden-phone\\'>\\n<a href=\"/search?book_genre=fiction\">Fiction</a>\\n / \\n<a href=\"/search?book_genre=satirical_fiction\">Satirical Fiction</a>\\n</p>\\n\\n<p class=\\'excerpt\\'>\\nIn his debut novel, Mateo Askaripour offers a witty yet thrilling examination of the complexities of race in corporate America.\\n</p>\\n<div class=\\'read-full\\'>\\n<a href=\"/reviews/25816-mateo-askaripour-black-buck-fiction\">Read the Review <i class=\\'zmdi zmdi-chevron-right\\'></i></a>\\n</div>\\n</div>\\n<br class=\\'clear\\'>\\n</div>\\n\\n</div>\\n<div class=\\'row-fluid article-row\\'>\\n<div class=\\'bp-block article-info\\'>\\n<div class=\\'article-list-left\\'>\\n<a href=\"/reviews/25783-cathy-bonidan-lost-manuscript-fiction\"><img src=\"https://t1.bookpage.com/books/images/78841a98a17e7b5b0415b3952c835274/medium.jpg\" alt=\"Medium\" /></a>\\n</div>\\n<div class=\\'flex-article-content\\'>\\n<h4 class=\\'italic\\'>\\n<a href=\"/reviews/25783-cathy-bonidan-lost-manuscript-fiction\">The Lost Manuscript</a>\\n</h4>\\n<p class=\\'sans bold\\'>\\nCathy Bonidan, Emma Ramadan\\n</p>\\n<p class=\\'genre-links hidden-phone\\'>\\n<a href=\"/search?book_genre=fiction\">Fiction</a>\\n / \\n<a href=\"/search?book_genre=popular_fiction\">Popular Fiction</a>\\n</p>\\n\\n<p class=\\'excerpt\\'>\\nIf you&rsquo;re the type of reader who self-soothes by losing yourself in a book and are in need of a potent comfort read, French author Cathy Bonidan&rsquo;s English-language debut novel is just what the doctor ordered.\\n</p>\\n<div class=\\'read-full\\'>\\n<a href=\"/reviews/25783-cathy-bonidan-lost-manuscript-fiction\">Read the Review <i class=\\'zmdi zmdi-chevron-right\\'></i></a>\\n</div>\\n</div>\\n<br class=\\'clear\\'>\\n</div>\\n\\n</div>\\n<div class=\\'pagination\\'>\\n<ul>\\n\\n\\n<li class=\\'active\\'>\\n<a href=\"#\">1</a>\\n</li>\\n\\n<li class=\\'\\'>\\n<a rel=\"next\" href=\"/reviews?page=2\">2</a>\\n</li>\\n\\n<li class=\\'\\'>\\n<a href=\"/reviews?page=3\">3</a>\\n</li>\\n\\n<li class=\\'disabled\\'>\\n<a href=\"#\">&hellip;</a>\\n</li>\\n\\n<li>\\n<a rel=\"next\" href=\"/reviews?page=2\">Next &rsaquo;</a>\\n</li>\\n\\n<li>\\n<a href=\"/reviews?page=1000\">Last &raquo;</a>\\n</li>\\n\\n</ul>\\n</div>\\n\\n</div>\\n</div>\\n<!-- Refinements Column -->\\n<div class=\\'span3\\'>\\n<div id=\\'facet-box\\'>\\n<div class=\\'hidden-phone\\'>\\n<div class=\\'sidebar-header facet-header\\'>\\n<span>\\nBrowse Book reviews\\n</span>\\n</div>\\n<div class=\\'sidebar-body\\'>\\n<div class=\\'facets\\'>\\n<p aria-controls=\\'Genres\\' aria-expanded=\\'false\\' data-target=\\'#Genres\\' data-toggle=\\'collapse\\'>\\nGenres <i class=\\'zmdi zmdi-chevron-down\\'></i>\\n</p>\\n<ul class=\\'collapse\\' id=\\'Genres\\'>\\n<li>\\n<a href=\"/reviews?book_genre=fiction&amp;page=1\">Fiction</a>\\n</li>\\n<li>\\n<a href=\"/reviews?book_genre=children_s&amp;page=1\">Children&#39;s</a>\\n</li>\\n<li>\\n<a href=\"/reviews?book_genre=nonfiction&amp;page=1\">Nonfiction</a>\\n</li>\\n<li>\\n<a href=\"/reviews?book_genre=biography_memoir&amp;page=1\">Biography Memoir</a>\\n</li>\\n<li>\\n<a href=\"/reviews?book_genre=ya&amp;page=1\">YA</a>\\n</li>\\n<li>\\n<a href=\"/reviews?book_genre=ya_fiction&amp;page=1\">YA Fiction</a>\\n</li>\\n<li>\\n<a href=\"/reviews?book_genre=memoir&amp;page=1\">Memoir</a>\\n</li>\\n<li>\\n<a href=\"/reviews?book_genre=mystery_suspense&amp;page=1\">Mystery Suspense</a>\\n</li>\\n<li>\\n<a href=\"/reviews?book_genre=children_s_chapter&amp;page=1\">Children&#39;s Chapter</a>\\n</li>\\n<li>\\n<a href=\"/reviews?book_genre=history&amp;page=1\">History</a>\\n</li>\\n<li>\\n<a href=\"/reviews?book_genre=children_s_picture&amp;page=1\">Children&#39;s Picture</a>\\n</li>\\n<li>\\n<a href=\"/reviews?book_genre=historical_fiction&amp;page=1\">Historical Fiction</a>\\n</li>\\n<li>\\n<a href=\"/reviews?book_genre=biography&amp;page=1\">Biography</a>\\n</li>\\n<li>\\n<a href=\"/reviews?book_genre=debut_fiction&amp;page=1\">Debut Fiction</a>\\n</li>\\n<li>\\n<a href=\"/reviews?book_genre=literary_fiction&amp;page=1\">Literary Fiction</a>\\n</li>\\n<li>\\n<a href=\"/reviews?book_genre=business_finance&amp;page=1\">Business Finance</a>\\n</li>\\n<li>\\n<a href=\"/reviews?book_genre=science_fiction_fantasy&amp;page=1\">Science Fiction Fantasy</a>\\n</li>\\n<li>\\n<a href=\"/reviews?book_genre=arts_culture&amp;page=1\">Arts Culture</a>\\n</li>\\n<li>\\n<a href=\"/reviews?book_genre=suspense&amp;page=1\">Suspense</a>\\n</li>\\n<li>\\n<a href=\"/reviews?book_genre=mystery&amp;page=1\">Mystery</a>\\n</li>\\n<li>\\n<a href=\"/reviews?book_genre=lifestyles&amp;page=1\">Lifestyles</a>\\n</li>\\n<li>\\n<a href=\"/reviews?book_genre=science_nature&amp;page=1\">Science Nature</a>\\n</li>\\n<li>\\n<a href=\"/reviews?book_genre=romance&amp;page=1\">Romance</a>\\n</li>\\n<li>\\n<a href=\"/reviews?book_genre=women_s_fiction&amp;page=1\">Women&#39;s Fiction</a>\\n</li>\\n<li>\\n<a href=\"/reviews?book_genre=fantasy&amp;page=1\">Fantasy</a>\\n</li>\\n<li>\\n<a href=\"/reviews?book_genre=sports&amp;page=1\">Sports</a>\\n</li>\\n<li>\\n<a href=\"/reviews?book_genre=science&amp;page=1\">Science</a>\\n</li>\\n<li>\\n<a href=\"/reviews?book_genre=family_relationships&amp;page=1\">Family Relationships</a>\\n</li>\\n<li>\\n<a href=\"/reviews?book_genre=travel&amp;page=1\">Travel</a>\\n</li>\\n<li>\\n<a href=\"/reviews?book_genre=science_fiction&amp;page=1\">Science Fiction</a>\\n</li>\\n</ul>\\n</div>\\n\\n\\n</div>\\n\\n</div>\\n<div class=\\'bp-well email-bar sidebar\\'>\\n<div class=\\'row-fluid text-content\\'>\\n<div class=\\'col\\'>\\n<a class=\\'button\\' href=\\'https://signup.e2ma.net/signup/1896962/28888/\\' onclick=\"window.open(\\'https://signup.e2ma.net/signup/1896962/28888/\\', \\'signup\\', \\'menubar=no, location=no, toolbar=no, scrollbars=yes, height=800, width=500\\'); return false;\">\\n<p>Sign up for our newsletters!</p>\\n</a>\\n</div>\\n</div>\\n</div>\\n\\n\\n</div>\\n<div class=\\'sq-ad btm-margin\\'>\\n<script type=\"text/javascript\" language=\"JavaScript\">\\n aj_server = \\'https://litbreaker.nui.media/pipeline/\\'; aj_tagver = \\'1.0\\';\\n aj_zone = \\'litbreaker\\'; aj_adspot = \\'519024\\'; aj_page = \\'0\\'; aj_dim =\\'514841\\'; aj_ch = \\'\\'; aj_ct = \\'\\'; aj_kw = \\'\\';\\n aj_pv = true; aj_click = \\'\\';\\n</script><script type=\"text/javascript\" language=\"JavaScript\" src=\"https://img.nui.media/banners/ajtg.js\"></script>\\n\\n</div>\\n</div>\\n</div>\\n<div class=\\'row-fluid button-row\\'>\\n\\n<!-- billboard size -->\\n<script type=\"text/javascript\" language=\"JavaScript\">\\nif (window.innerWidth <= 600) {\\nvar aj_dim = 514841;\\n} else if (window.innerWidth >= 1000) {\\nvar aj_dim = \\'514838,514839\\';\\n} else {\\nvar aj_dim = 514839;\\n};\\naj_server = \\'https://litbreaker.nui.media/pipeline/\\'; aj_tagver = \\'1.0\\';\\naj_zone = \\'litbreaker\\'; aj_adspot = \\'518299\\'; aj_page = \\'0\\'; aj_ch = \\'\\'; aj_kw = \\'\\';\\naj_pv = true; aj_click = \\'\\';\\n</script><script type=\"text/javascript\" language=\"JavaScript\" src=\"https://img.nui.media/banners/ajtg.js\"></script>\\n\\n<!-- <script type=\"text/javascript\" language=\"JavaScript\">\\naj_server = \\'https://litbreaker.nui.media/pipeline/\\'; aj_tagver = \\'1.0\\';\\naj_zone = \\'litbreaker\\'; aj_adspot = \\'518299\\'; aj_page = \\'0\\'; aj_dim =\\'514838,514839\\'; aj_ch = \\'\\'; aj_ct = \\'\\'; aj_kw = \\'\\';\\naj_pv = true; aj_click = \\'\\';\\n</script><script type=\"text/javascript\" language=\"JavaScript\" src=\"https://img.nui.media/banners/ajtg.js\"></script>\\n-->\\n\\n<!-- <script type=\"text/javascript\" language=\"JavaScript\">\\naj_server = \\'https://litbreaker.nui.media/pipeline/\\'; aj_tagver = \\'1.0\\';\\naj_zone = \\'litbreaker\\'; aj_adspot = \\'557205\\'; aj_page = \\'0\\'; aj_dim =\\'514838\\'; aj_ch = \\'\\'; aj_ct = \\'\\'; aj_kw = \\'\\';\\naj_pv = true; aj_click = \\'\\';\\n</script><script type=\"text/javascript\" language=\"JavaScript\" src=\"https://img.nui.media/banners/ajtg.js\"></script> -->\\n\\n</div>\\n</div>\\n\\n</div>\\n</div>\\n<div class=\\'container-fluid no-padding\\'>\\n<div class=\\'footer row-fluid\\'>\\n<div class=\\'dark-block span12\\'>\\n<footer>\\n<div class=\\'row-fluid brand\\'>\\n<div class=\\'span3\\'></div>\\n<div class=\\'span6 middle\\'>\\n<img width=\"156\" height=\"36\" class=\"brand\" src=\"/assets/logos/logo_gray-895f864507d68e549bee2b02a0872a197ce42fe59b407ad4651db8acf446f06b.png\" alt=\"Logo gray\" />\\n</div>\\n</div>\\n<div class=\\'row-fluid\\'>\\n<p class=\\'list-header\\'>Subscriptions</p>\\n<p class=\\'sitemap\\'>\\n<a target=\"_blank\" href=\"http://www.subscriptions.bookpage.com/bookstore\">Bookstore</a>\\n\\xe2\\x80\\xa2\\n<a target=\"_blank\" href=\"http://www.subscriptions.bookpage.com/library\">Library</a>\\n\\xe2\\x80\\xa2\\n<a target=\"_blank\" href=\"http://MIurl.cc/Z6eD1pmI\">Individual</a>\\n\\xe2\\x80\\xa2\\n<a href=\"https://www.amazon.com/BookPage/dp/B00ATRKG30/ref=sr_1_1?ie=UTF8&amp;qid=1533306733&amp;sr=8-1&amp;keywords=bookpage\">Digital\\n</a>\\xe2\\x80\\xa2\\n<a href=\"/content/locations\">Find BookPage\\n</a></p>\\n</div>\\n<div class=\\'row-fluid\\'>\\n<p class=\\'list-header\\'>Company</p>\\n<p class=\\'sitemap\\'>\\n<a href=\"/content/about-us\">About BookPage\\n</a>\\xe2\\x80\\xa2\\n<a href=\"/content/advertise\">Advertise\\n</a>\\xe2\\x80\\xa2\\n<a href=\"/content/contact-us\">Contact Us\\n</a>\\xe2\\x80\\xa2\\n<a href=\"/content/privacy\">Privacy Policy\\n</a>\\xe2\\x80\\xa2\\n<a href=\"/content/submission-guidelines\">Submission Guidelines\\n</a></p>\\n</div>\\n<div class=\\'row-fluid\\'>\\n<div class=\\'social-block\\'>\\n<a href=\"https://www.facebook.com/pages/BookPage/116675947874\"><i class=\\'zmdi zmdi-facebook-box\\'></i></a>\\n<a href=\"https://twitter.com/bookpage\"><i class=\\'zmdi zmdi-twitter-box\\'></i></a>\\n<a href=\"https://www.instagram.com/readbookpage/?hl=en\"><i class=\\'zmdi zmdi-instagram\\'></i></a>\\n</div>\\n</div>\\n<div class=\\'row-fluid copyright\\'>\\n<p>&copy; 1996-2021 BookPage and ProMotion, inc. | 2143 Belcourt Avenue, Nashville, TN 37212</p>\\n</div>\\n</footer>\\n</div>\\n</div>\\n\\n</div>\\n<script src=\"/assets/application-8a7d9ed6d528157c163702ce8da91235bc386358e07d32fbb4658ae48c768826.js\"></script>\\n<script id=\"e2ma-embed\" type=\"text/javascript\">window.e2ma=window.e2ma||{};e2ma.accountId=\\'28888\\';</script>\\n<script src=\"//dk98ddgl0znzm.cloudfront.net/e2ma.js\" async=\"async\"></script>\\n\\n</body>\\n</html>\\n'"
      ]
     },
     "execution_count": 37,
     "metadata": {},
     "output_type": "execute_result"
    }
   ],
   "source": [
    "page.content"
   ]
  },
  {
   "cell_type": "code",
   "execution_count": 38,
   "metadata": {},
   "outputs": [],
   "source": [
    "soup=BeautifulSoup(page.content,'html.parser')"
   ]
  },
  {
   "cell_type": "code",
   "execution_count": 39,
   "metadata": {},
   "outputs": [],
   "source": [
    "name=[]\n",
    "author_name=[]\n",
    "genre=[]\n",
    "book_review=[]"
   ]
  },
  {
   "cell_type": "code",
   "execution_count": 40,
   "metadata": {},
   "outputs": [
    {
     "data": {
      "text/plain": [
       "[<h4 class=\"italic\">\n",
       " <a href=\"/reviews/25814-sarah-moss-summerwater-fiction\">Summerwater</a>\n",
       " </h4>,\n",
       " <h4 class=\"italic\">\n",
       " <a href=\"/reviews/25888-kristin-cashore-winterkeep-ya\">Winterkeep</a>\n",
       " </h4>,\n",
       " <h4 class=\"italic\">\n",
       " <a href=\"/reviews/25894-b-b-alston-amari-night-brothers-childrens\">Amari and the Night Brothers</a>\n",
       " </h4>,\n",
       " <h4 class=\"italic\">\n",
       " <a href=\"/reviews/25797-james-oakes-crooked-path-to-abolition-history\">The Crooked Path to Abolition</a>\n",
       " </h4>,\n",
       " <h4 class=\"italic\">\n",
       " <a href=\"/reviews/25811-viola-ardone-childrens-train-fiction\">The Children's Train</a>\n",
       " </h4>,\n",
       " <h4 class=\"italic\">\n",
       " <a href=\"/reviews/25855-jennifer-l-holm-lion-mars-childrens\">The Lion of Mars</a>\n",
       " </h4>]"
      ]
     },
     "execution_count": 40,
     "metadata": {},
     "output_type": "execute_result"
    }
   ],
   "source": [
    "names=soup.find_all('h4',class_=\"italic\")\n",
    "names[0:6]"
   ]
  },
  {
   "cell_type": "code",
   "execution_count": 41,
   "metadata": {},
   "outputs": [
    {
     "data": {
      "text/plain": [
       "['Summerwater',\n",
       " 'Winterkeep',\n",
       " 'Amari and the Night Brothers',\n",
       " 'The Crooked Path to Abolition',\n",
       " \"The Children's Train\"]"
      ]
     },
     "execution_count": 41,
     "metadata": {},
     "output_type": "execute_result"
    }
   ],
   "source": [
    "for i in names:\n",
    "    name.append(i.get_text().replace(\"\\n\",\"\"))\n",
    "name[0:5]"
   ]
  },
  {
   "cell_type": "code",
   "execution_count": 42,
   "metadata": {},
   "outputs": [
    {
     "data": {
      "text/plain": [
       "[<p class=\"sans bold\">\n",
       " Sarah Moss\n",
       " </p>,\n",
       " <p class=\"sans bold\">\n",
       " Kristin Cashore\n",
       " </p>,\n",
       " <p class=\"sans bold\">\n",
       " B. B. Alston\n",
       " </p>,\n",
       " <p class=\"sans bold\">\n",
       " James Oakes\n",
       " </p>]"
      ]
     },
     "execution_count": 42,
     "metadata": {},
     "output_type": "execute_result"
    }
   ],
   "source": [
    "auth_names=soup.find_all('p',class_=\"sans bold\")\n",
    "auth_names[0:4]"
   ]
  },
  {
   "cell_type": "code",
   "execution_count": 43,
   "metadata": {},
   "outputs": [
    {
     "data": {
      "text/plain": [
       "['Sarah Moss',\n",
       " 'Kristin Cashore',\n",
       " 'B. B. Alston',\n",
       " 'James Oakes',\n",
       " 'Viola Ardone, Clarissa Botsford']"
      ]
     },
     "execution_count": 43,
     "metadata": {},
     "output_type": "execute_result"
    }
   ],
   "source": [
    "for i in auth_names:\n",
    "    author_name.append(i.get_text().replace(\"\\n\",\"\"))\n",
    "author_name[0:5]"
   ]
  },
  {
   "cell_type": "code",
   "execution_count": 44,
   "metadata": {},
   "outputs": [
    {
     "data": {
      "text/plain": [
       "[<p class=\"genre-links hidden-phone\">\n",
       " <a href=\"/search?book_genre=fiction\">Fiction</a>\n",
       "  / \n",
       " <a href=\"/search?book_genre=literary_fiction\">Literary Fiction</a>\n",
       " </p>,\n",
       " <p class=\"genre-links hidden-phone\">\n",
       " <a href=\"/search?book_genre=ya\">YA</a>\n",
       "  / \n",
       " <a href=\"/search?book_genre=ya_fiction\">YA Fiction</a>\n",
       " </p>,\n",
       " <p class=\"genre-links hidden-phone\">\n",
       " <a href=\"/search?book_genre=children_s\">Children's</a>\n",
       "  / \n",
       " <a href=\"/search?book_genre=middle_grade\">Middle Grade</a>\n",
       " </p>,\n",
       " <p class=\"genre-links hidden-phone\">\n",
       " <a href=\"/search?book_genre=nonfiction\">Nonfiction</a>\n",
       "  / \n",
       " <a href=\"/search?book_genre=history\">History</a>\n",
       "  / \n",
       " <a href=\"/search?book_genre=american_history\">American History</a>\n",
       " </p>,\n",
       " <p class=\"genre-links hidden-phone\">\n",
       " <a href=\"/search?book_genre=fiction\">Fiction</a>\n",
       "  / \n",
       " <a href=\"/search?book_genre=historical_fiction\">Historical Fiction</a>\n",
       " </p>]"
      ]
     },
     "execution_count": 44,
     "metadata": {},
     "output_type": "execute_result"
    }
   ],
   "source": [
    "genres=soup.find_all('p',class_=\"genre-links hidden-phone\")\n",
    "genres[0:5]"
   ]
  },
  {
   "cell_type": "code",
   "execution_count": 45,
   "metadata": {},
   "outputs": [
    {
     "data": {
      "text/plain": [
       "['Fiction / Literary Fiction',\n",
       " 'YA / YA Fiction',\n",
       " \"Children's / Middle Grade\",\n",
       " 'Nonfiction / History / American History',\n",
       " 'Fiction / Historical Fiction']"
      ]
     },
     "execution_count": 45,
     "metadata": {},
     "output_type": "execute_result"
    }
   ],
   "source": [
    "for i in genres:\n",
    "    genre.append(i.get_text().replace(\"\\n\",\"\"))\n",
    "genre[0:5]"
   ]
  },
  {
   "cell_type": "code",
   "execution_count": 46,
   "metadata": {},
   "outputs": [
    {
     "data": {
      "text/plain": [
       "[<p class=\"excerpt\">\n",
       " <p>Gabriel García Márquez once wrote, “Everyone has three lives: a private life, a public life, and a secret life.” It’s the latter of these we see on full display in British author Sarah Moss’ slender yet weighty <strong>Summerwater</strong>.</p>\n",
       " </p>,\n",
       " <p class=\"excerpt\">\n",
       " <p>Fans of Kristin Cashore’s previous books set in the fantastical world of the Seven Realms (<em>Graceling</em>, <em>Fire</em> and <em>Bitterblue</em>) will pick up <strong>Winterkeep</strong> with certain expectations. Breathe a sigh of relief now: <strong>Winterkeep</strong> does not disappoint.</p>\n",
       " </p>,\n",
       " <p class=\"excerpt\">\n",
       " <p>Things are not going well for Amari Peters. Her scholarship to tony Jefferson Academy is being revoked on the last day of school because she shoved a classmate after being subjected to continuous bullying. And as if she didn’t have enough to worry about, her older brother, Quinton, has been...</p>\n",
       " </p>,\n",
       " <p class=\"excerpt\">\n",
       " <p><strong>The Crooked Path to Abolition</strong> is richly rewarding and helps us see the full context of political decisions that put slavery, as Lincoln said, on “a course of ultimate extinction.”</p>\n",
       " </p>,\n",
       " <p class=\"excerpt\">\n",
       " <p>The displacement of children is a vexing problem in international and national politics. Italian author Viola Ardone’s novel explores issues surrounding children who are separated from their parents, but in this case, the families willingly send their youngsters away to live in the care of...</p>\n",
       " </p>]"
      ]
     },
     "execution_count": 46,
     "metadata": {},
     "output_type": "execute_result"
    }
   ],
   "source": [
    "reviews=soup.find_all('p',class_=\"excerpt\")\n",
    "reviews[0:5]"
   ]
  },
  {
   "cell_type": "code",
   "execution_count": 47,
   "metadata": {},
   "outputs": [
    {
     "data": {
      "text/plain": [
       "['Gabriel García Márquez once wrote, “Everyone has three lives: a private life, a public life, and a secret life.” It’s the latter of these we see on full display in British author Sarah Moss’ slender yet weighty Summerwater.',\n",
       " 'Fans of Kristin Cashore’s previous books set in the fantastical world of the Seven Realms (Graceling, Fire and Bitterblue) will pick up Winterkeep with certain expectations. Breathe a sigh of relief now: Winterkeep does not disappoint.',\n",
       " 'Things are not going well for Amari Peters. Her scholarship to tony Jefferson Academy is being revoked on the last day of school because she shoved a classmate after being subjected to continuous bullying. And as if she didn’t have enough to worry about, her older brother, Quinton, has been...',\n",
       " 'The Crooked Path to Abolition is richly rewarding and helps us see the full context of political decisions that put slavery, as Lincoln said, on “a course of ultimate extinction.”',\n",
       " 'The displacement of children is a vexing problem in international and national politics. Italian author Viola Ardone’s novel explores issues surrounding children who are separated from their parents, but in this case, the families willingly send their youngsters away to live in the care of...']"
      ]
     },
     "execution_count": 47,
     "metadata": {},
     "output_type": "execute_result"
    }
   ],
   "source": [
    "for i in reviews:\n",
    "    book_review.append(i.get_text().replace(\"\\n\",\"\"))\n",
    "book_review[0:5]"
   ]
  },
  {
   "cell_type": "code",
   "execution_count": 48,
   "metadata": {},
   "outputs": [],
   "source": [
    "book_reviews=pd.DataFrame({})\n",
    "book_reviews['book_name']=name[0:5]\n",
    "book_reviews['author_name']=author_name[0:5]\n",
    "book_reviews['genres']=genre[0:5]\n",
    "book_reviews['book_review']=book_review[0:5]"
   ]
  },
  {
   "cell_type": "code",
   "execution_count": 49,
   "metadata": {},
   "outputs": [
    {
     "data": {
      "text/html": [
       "<div>\n",
       "<style scoped>\n",
       "    .dataframe tbody tr th:only-of-type {\n",
       "        vertical-align: middle;\n",
       "    }\n",
       "\n",
       "    .dataframe tbody tr th {\n",
       "        vertical-align: top;\n",
       "    }\n",
       "\n",
       "    .dataframe thead th {\n",
       "        text-align: right;\n",
       "    }\n",
       "</style>\n",
       "<table border=\"1\" class=\"dataframe\">\n",
       "  <thead>\n",
       "    <tr style=\"text-align: right;\">\n",
       "      <th></th>\n",
       "      <th>book_name</th>\n",
       "      <th>author_name</th>\n",
       "      <th>genres</th>\n",
       "      <th>book_review</th>\n",
       "    </tr>\n",
       "  </thead>\n",
       "  <tbody>\n",
       "    <tr>\n",
       "      <th>0</th>\n",
       "      <td>Summerwater</td>\n",
       "      <td>Sarah Moss</td>\n",
       "      <td>Fiction / Literary Fiction</td>\n",
       "      <td>Gabriel García Márquez once wrote, “Everyone h...</td>\n",
       "    </tr>\n",
       "    <tr>\n",
       "      <th>1</th>\n",
       "      <td>Winterkeep</td>\n",
       "      <td>Kristin Cashore</td>\n",
       "      <td>YA / YA Fiction</td>\n",
       "      <td>Fans of Kristin Cashore’s previous books set i...</td>\n",
       "    </tr>\n",
       "    <tr>\n",
       "      <th>2</th>\n",
       "      <td>Amari and the Night Brothers</td>\n",
       "      <td>B. B. Alston</td>\n",
       "      <td>Children's / Middle Grade</td>\n",
       "      <td>Things are not going well for Amari Peters. He...</td>\n",
       "    </tr>\n",
       "    <tr>\n",
       "      <th>3</th>\n",
       "      <td>The Crooked Path to Abolition</td>\n",
       "      <td>James Oakes</td>\n",
       "      <td>Nonfiction / History / American History</td>\n",
       "      <td>The Crooked Path to Abolition is richly reward...</td>\n",
       "    </tr>\n",
       "    <tr>\n",
       "      <th>4</th>\n",
       "      <td>The Children's Train</td>\n",
       "      <td>Viola Ardone, Clarissa Botsford</td>\n",
       "      <td>Fiction / Historical Fiction</td>\n",
       "      <td>The displacement of children is a vexing probl...</td>\n",
       "    </tr>\n",
       "  </tbody>\n",
       "</table>\n",
       "</div>"
      ],
      "text/plain": [
       "                       book_name                      author_name  \\\n",
       "0                    Summerwater                       Sarah Moss   \n",
       "1                     Winterkeep                  Kristin Cashore   \n",
       "2   Amari and the Night Brothers                     B. B. Alston   \n",
       "3  The Crooked Path to Abolition                      James Oakes   \n",
       "4           The Children's Train  Viola Ardone, Clarissa Botsford   \n",
       "\n",
       "                                    genres  \\\n",
       "0               Fiction / Literary Fiction   \n",
       "1                          YA / YA Fiction   \n",
       "2                Children's / Middle Grade   \n",
       "3  Nonfiction / History / American History   \n",
       "4             Fiction / Historical Fiction   \n",
       "\n",
       "                                         book_review  \n",
       "0  Gabriel García Márquez once wrote, “Everyone h...  \n",
       "1  Fans of Kristin Cashore’s previous books set i...  \n",
       "2  Things are not going well for Amari Peters. He...  \n",
       "3  The Crooked Path to Abolition is richly reward...  \n",
       "4  The displacement of children is a vexing probl...  "
      ]
     },
     "execution_count": 49,
     "metadata": {},
     "output_type": "execute_result"
    }
   ],
   "source": [
    "book_reviews"
   ]
  },
  {
   "cell_type": "markdown",
   "metadata": {},
   "source": [
    "## To scrape Cricket ratings"
   ]
  },
  {
   "cell_type": "markdown",
   "metadata": {},
   "source": [
    "## 6.i)Top 10 ODI teams in men’s\n"
   ]
  },
  {
   "cell_type": "code",
   "execution_count": 50,
   "metadata": {},
   "outputs": [],
   "source": [
    "import selenium\n",
    "import pandas as pd\n",
    "from selenium import webdriver"
   ]
  },
  {
   "cell_type": "code",
   "execution_count": 51,
   "metadata": {},
   "outputs": [],
   "source": [
    "#lets connect to the webdriver\n",
    "driver=webdriver.Chrome(r\"C:\\Users\\Hp\\Desktop\\chromedriver.exe\")"
   ]
  },
  {
   "cell_type": "code",
   "execution_count": 52,
   "metadata": {},
   "outputs": [],
   "source": [
    "#specifying the url of the webpage to be scraped\n",
    "url=\"https://www.icc-cricket.com/rankings/mens/team-rankings/odi\""
   ]
  },
  {
   "cell_type": "code",
   "execution_count": 53,
   "metadata": {},
   "outputs": [],
   "source": [
    "#lets open driver\n",
    "driver.get(url)"
   ]
  },
  {
   "cell_type": "code",
   "execution_count": 54,
   "metadata": {},
   "outputs": [],
   "source": [
    "team=[]\n",
    "matches=[]\n",
    "points=[]\n",
    "rating=[]"
   ]
  },
  {
   "cell_type": "code",
   "execution_count": 55,
   "metadata": {},
   "outputs": [
    {
     "data": {
      "text/plain": [
       "['England',\n",
       " 'India',\n",
       " 'New Zealand',\n",
       " 'Australia',\n",
       " 'South Africa',\n",
       " 'Pakistan',\n",
       " 'Bangladesh',\n",
       " 'Sri Lanka',\n",
       " 'West Indies',\n",
       " 'Afghanistan',\n",
       " 'Ireland',\n",
       " 'Netherlands',\n",
       " 'Zimbabwe',\n",
       " 'Oman',\n",
       " 'Scotland',\n",
       " 'Nepal',\n",
       " 'UAE',\n",
       " 'Namibia',\n",
       " 'United States',\n",
       " 'Papua New Guinea']"
      ]
     },
     "execution_count": 55,
     "metadata": {},
     "output_type": "execute_result"
    }
   ],
   "source": [
    "team_tags=driver.find_elements_by_xpath(\"//span[@class='u-hide-phablet']\")\n",
    "team_tags\n",
    "for i in team_tags:\n",
    "    title=i.text\n",
    "    team.append(title)\n",
    "team"
   ]
  },
  {
   "cell_type": "code",
   "execution_count": 56,
   "metadata": {},
   "outputs": [
    {
     "data": {
      "text/plain": [
       "['44']"
      ]
     },
     "execution_count": 56,
     "metadata": {},
     "output_type": "execute_result"
    }
   ],
   "source": [
    "match_tags=driver.find_elements_by_xpath(\"//td[@class='rankings-block__banner--matches']\")\n",
    "match_tags\n",
    "for i in match_tags:\n",
    "    title=i.text\n",
    "    matches.append(title)\n",
    "matches"
   ]
  },
  {
   "cell_type": "code",
   "execution_count": 57,
   "metadata": {},
   "outputs": [
    {
     "data": {
      "text/plain": [
       "['52',\n",
       " '6,102',\n",
       " '32',\n",
       " '3,716',\n",
       " '39',\n",
       " '4,344',\n",
       " '31',\n",
       " '3,345',\n",
       " '35',\n",
       " '3,490',\n",
       " '34',\n",
       " '2,989',\n",
       " '39',\n",
       " '3,297',\n",
       " '43',\n",
       " '3,285',\n",
       " '28',\n",
       " '1,549',\n",
       " '24',\n",
       " '1,256',\n",
       " '5',\n",
       " '222',\n",
       " '27',\n",
       " '1,121',\n",
       " '12',\n",
       " '479',\n",
       " '16',\n",
       " '419',\n",
       " '9',\n",
       " '161',\n",
       " '15',\n",
       " '259',\n",
       " '9',\n",
       " '152',\n",
       " '14',\n",
       " '185',\n",
       " '14',\n",
       " '0']"
      ]
     },
     "execution_count": 57,
     "metadata": {},
     "output_type": "execute_result"
    }
   ],
   "source": [
    "match=[]\n",
    "match_tags=driver.find_elements_by_xpath(\"//td[@class='table-body__cell u-center-text']\")\n",
    "match_tags\n",
    "for i in match_tags:\n",
    "    title=i.text\n",
    "    match.append(title)\n",
    "match"
   ]
  },
  {
   "cell_type": "code",
   "execution_count": 58,
   "metadata": {},
   "outputs": [],
   "source": [
    "def split(match):\n",
    "    return match[::2],match[1::2]\n"
   ]
  },
  {
   "cell_type": "code",
   "execution_count": 59,
   "metadata": {},
   "outputs": [],
   "source": [
    "matchess=match[::2]\n",
    "points=match[1::2]"
   ]
  },
  {
   "cell_type": "code",
   "execution_count": 60,
   "metadata": {},
   "outputs": [
    {
     "data": {
      "text/plain": [
       "['44',\n",
       " ['52',\n",
       "  '32',\n",
       "  '39',\n",
       "  '31',\n",
       "  '35',\n",
       "  '34',\n",
       "  '39',\n",
       "  '43',\n",
       "  '28',\n",
       "  '24',\n",
       "  '5',\n",
       "  '27',\n",
       "  '12',\n",
       "  '16',\n",
       "  '9',\n",
       "  '15',\n",
       "  '9',\n",
       "  '14',\n",
       "  '14']]"
      ]
     },
     "execution_count": 60,
     "metadata": {},
     "output_type": "execute_result"
    }
   ],
   "source": [
    "matches.append(matchess)\n",
    "matches              "
   ]
  },
  {
   "cell_type": "code",
   "execution_count": 61,
   "metadata": {},
   "outputs": [],
   "source": [
    "from nltk import flatten\n",
    "new_matches=flatten(matches)\n"
   ]
  },
  {
   "cell_type": "code",
   "execution_count": 62,
   "metadata": {},
   "outputs": [
    {
     "data": {
      "text/plain": [
       "[<selenium.webdriver.remote.webelement.WebElement (session=\"eebe6bde7ea0498177539bcaf01c322a\", element=\"1addd6e6-0975-4041-a2ec-d73535d472a7\")>]"
      ]
     },
     "execution_count": 62,
     "metadata": {},
     "output_type": "execute_result"
    }
   ],
   "source": [
    "point_tags=driver.find_elements_by_xpath(\"//td[@class='rankings-block__banner--points']\")\n",
    "point_tags[0:4]"
   ]
  },
  {
   "cell_type": "code",
   "execution_count": 63,
   "metadata": {},
   "outputs": [
    {
     "data": {
      "text/plain": [
       "['5,405']"
      ]
     },
     "execution_count": 63,
     "metadata": {},
     "output_type": "execute_result"
    }
   ],
   "source": [
    "point=[]\n",
    "for i in point_tags:\n",
    "    title=i.text\n",
    "    point.append(title)\n",
    "point"
   ]
  },
  {
   "cell_type": "code",
   "execution_count": 64,
   "metadata": {},
   "outputs": [
    {
     "data": {
      "text/plain": [
       "['5,405',\n",
       " ['6,102',\n",
       "  '3,716',\n",
       "  '4,344',\n",
       "  '3,345',\n",
       "  '3,490',\n",
       "  '2,989',\n",
       "  '3,297',\n",
       "  '3,285',\n",
       "  '1,549',\n",
       "  '1,256',\n",
       "  '222',\n",
       "  '1,121',\n",
       "  '479',\n",
       "  '419',\n",
       "  '161',\n",
       "  '259',\n",
       "  '152',\n",
       "  '185',\n",
       "  '0']]"
      ]
     },
     "execution_count": 64,
     "metadata": {},
     "output_type": "execute_result"
    }
   ],
   "source": [
    "point.append(points)\n",
    "point"
   ]
  },
  {
   "cell_type": "code",
   "execution_count": 65,
   "metadata": {},
   "outputs": [
    {
     "data": {
      "text/plain": [
       "['5,405',\n",
       " '6,102',\n",
       " '3,716',\n",
       " '4,344',\n",
       " '3,345',\n",
       " '3,490',\n",
       " '2,989',\n",
       " '3,297',\n",
       " '3,285',\n",
       " '1,549',\n",
       " '1,256',\n",
       " '222',\n",
       " '1,121',\n",
       " '479',\n",
       " '419',\n",
       " '161',\n",
       " '259',\n",
       " '152',\n",
       " '185',\n",
       " '0']"
      ]
     },
     "execution_count": 65,
     "metadata": {},
     "output_type": "execute_result"
    }
   ],
   "source": [
    "from nltk import flatten\n",
    "new_points=flatten(point)\n",
    "new_points"
   ]
  },
  {
   "cell_type": "code",
   "execution_count": 66,
   "metadata": {},
   "outputs": [
    {
     "data": {
      "text/plain": [
       "['123']"
      ]
     },
     "execution_count": 66,
     "metadata": {},
     "output_type": "execute_result"
    }
   ],
   "source": [
    "rating_tags=driver.find_elements_by_xpath(\"//td[@class='rankings-block__banner--rating u-text-right']\")\n",
    "rat=[]\n",
    "for i in rating_tags:\n",
    "    title=i.text\n",
    "    rat.append(title)\n",
    "rat"
   ]
  },
  {
   "cell_type": "code",
   "execution_count": 67,
   "metadata": {},
   "outputs": [
    {
     "data": {
      "text/plain": [
       "[<selenium.webdriver.remote.webelement.WebElement (session=\"eebe6bde7ea0498177539bcaf01c322a\", element=\"9fcd1fe2-9524-45d7-b961-a730f259777d\")>,\n",
       " <selenium.webdriver.remote.webelement.WebElement (session=\"eebe6bde7ea0498177539bcaf01c322a\", element=\"49d1cb28-78c7-4a53-ac8a-52e4c7087e5a\")>,\n",
       " <selenium.webdriver.remote.webelement.WebElement (session=\"eebe6bde7ea0498177539bcaf01c322a\", element=\"babe69dd-a66d-49bf-bce7-312d67ede02b\")>,\n",
       " <selenium.webdriver.remote.webelement.WebElement (session=\"eebe6bde7ea0498177539bcaf01c322a\", element=\"aec20269-736d-42e5-93c7-3bb12db46b8d\")>]"
      ]
     },
     "execution_count": 67,
     "metadata": {},
     "output_type": "execute_result"
    }
   ],
   "source": [
    "rating_tags=driver.find_elements_by_xpath(\"//tr[@class='table-body']/td[5]\")\n",
    "rating_tags[0:4]"
   ]
  },
  {
   "cell_type": "code",
   "execution_count": 68,
   "metadata": {},
   "outputs": [
    {
     "data": {
      "text/plain": [
       "['117', '116', '111', '108', '100', '88', '85', '76', '55', '52']"
      ]
     },
     "execution_count": 68,
     "metadata": {},
     "output_type": "execute_result"
    }
   ],
   "source": [
    "for i in rating_tags:\n",
    "    title=i.text\n",
    "    rating.append(title)\n",
    "rating[0:10]"
   ]
  },
  {
   "cell_type": "code",
   "execution_count": 69,
   "metadata": {},
   "outputs": [
    {
     "data": {
      "text/plain": [
       "['123',\n",
       " ['117',\n",
       "  '116',\n",
       "  '111',\n",
       "  '108',\n",
       "  '100',\n",
       "  '88',\n",
       "  '85',\n",
       "  '76',\n",
       "  '55',\n",
       "  '52',\n",
       "  '44',\n",
       "  '42',\n",
       "  '40',\n",
       "  '26',\n",
       "  '18',\n",
       "  '17',\n",
       "  '17',\n",
       "  '13',\n",
       "  '0']]"
      ]
     },
     "execution_count": 69,
     "metadata": {},
     "output_type": "execute_result"
    }
   ],
   "source": [
    "rat.append(rating)\n",
    "rat[0:10]"
   ]
  },
  {
   "cell_type": "code",
   "execution_count": 70,
   "metadata": {},
   "outputs": [],
   "source": [
    "new_rating=flatten(rat)"
   ]
  },
  {
   "cell_type": "code",
   "execution_count": 71,
   "metadata": {},
   "outputs": [
    {
     "data": {
      "text/html": [
       "<div>\n",
       "<style scoped>\n",
       "    .dataframe tbody tr th:only-of-type {\n",
       "        vertical-align: middle;\n",
       "    }\n",
       "\n",
       "    .dataframe tbody tr th {\n",
       "        vertical-align: top;\n",
       "    }\n",
       "\n",
       "    .dataframe thead th {\n",
       "        text-align: right;\n",
       "    }\n",
       "</style>\n",
       "<table border=\"1\" class=\"dataframe\">\n",
       "  <thead>\n",
       "    <tr style=\"text-align: right;\">\n",
       "      <th></th>\n",
       "      <th>team</th>\n",
       "      <th>matches</th>\n",
       "      <th>points</th>\n",
       "      <th>rating</th>\n",
       "    </tr>\n",
       "  </thead>\n",
       "  <tbody>\n",
       "    <tr>\n",
       "      <th>0</th>\n",
       "      <td>England</td>\n",
       "      <td>44</td>\n",
       "      <td>5,405</td>\n",
       "      <td>123</td>\n",
       "    </tr>\n",
       "    <tr>\n",
       "      <th>1</th>\n",
       "      <td>India</td>\n",
       "      <td>52</td>\n",
       "      <td>6,102</td>\n",
       "      <td>117</td>\n",
       "    </tr>\n",
       "    <tr>\n",
       "      <th>2</th>\n",
       "      <td>New Zealand</td>\n",
       "      <td>32</td>\n",
       "      <td>3,716</td>\n",
       "      <td>116</td>\n",
       "    </tr>\n",
       "    <tr>\n",
       "      <th>3</th>\n",
       "      <td>Australia</td>\n",
       "      <td>39</td>\n",
       "      <td>4,344</td>\n",
       "      <td>111</td>\n",
       "    </tr>\n",
       "    <tr>\n",
       "      <th>4</th>\n",
       "      <td>South Africa</td>\n",
       "      <td>31</td>\n",
       "      <td>3,345</td>\n",
       "      <td>108</td>\n",
       "    </tr>\n",
       "    <tr>\n",
       "      <th>5</th>\n",
       "      <td>Pakistan</td>\n",
       "      <td>35</td>\n",
       "      <td>3,490</td>\n",
       "      <td>100</td>\n",
       "    </tr>\n",
       "    <tr>\n",
       "      <th>6</th>\n",
       "      <td>Bangladesh</td>\n",
       "      <td>34</td>\n",
       "      <td>2,989</td>\n",
       "      <td>88</td>\n",
       "    </tr>\n",
       "    <tr>\n",
       "      <th>7</th>\n",
       "      <td>Sri Lanka</td>\n",
       "      <td>39</td>\n",
       "      <td>3,297</td>\n",
       "      <td>85</td>\n",
       "    </tr>\n",
       "    <tr>\n",
       "      <th>8</th>\n",
       "      <td>West Indies</td>\n",
       "      <td>43</td>\n",
       "      <td>3,285</td>\n",
       "      <td>76</td>\n",
       "    </tr>\n",
       "    <tr>\n",
       "      <th>9</th>\n",
       "      <td>Afghanistan</td>\n",
       "      <td>28</td>\n",
       "      <td>1,549</td>\n",
       "      <td>55</td>\n",
       "    </tr>\n",
       "  </tbody>\n",
       "</table>\n",
       "</div>"
      ],
      "text/plain": [
       "           team matches points rating\n",
       "0       England      44  5,405    123\n",
       "1         India      52  6,102    117\n",
       "2   New Zealand      32  3,716    116\n",
       "3     Australia      39  4,344    111\n",
       "4  South Africa      31  3,345    108\n",
       "5      Pakistan      35  3,490    100\n",
       "6    Bangladesh      34  2,989     88\n",
       "7     Sri Lanka      39  3,297     85\n",
       "8   West Indies      43  3,285     76\n",
       "9   Afghanistan      28  1,549     55"
      ]
     },
     "execution_count": 71,
     "metadata": {},
     "output_type": "execute_result"
    }
   ],
   "source": [
    "mens_odi=pd.DataFrame({})\n",
    "mens_odi['team']=team[0:10]\n",
    "mens_odi['matches']=new_matches[0:10]\n",
    "mens_odi['points']=new_points[0:10]\n",
    "mens_odi['rating']=new_rating[0:10]\n",
    "mens_odi"
   ]
  },
  {
   "cell_type": "markdown",
   "metadata": {},
   "source": [
    "## ii)ODI Batting Rankings"
   ]
  },
  {
   "cell_type": "code",
   "execution_count": 72,
   "metadata": {},
   "outputs": [],
   "source": [
    "#specifying the url of the webpage to be scraped\n",
    "url1=\"https://www.icc-cricket.com/rankings/mens/player-rankings/odi/batting\""
   ]
  },
  {
   "cell_type": "code",
   "execution_count": 73,
   "metadata": {},
   "outputs": [],
   "source": [
    "#lets open driver\n",
    "driver.get(url1)"
   ]
  },
  {
   "cell_type": "code",
   "execution_count": 74,
   "metadata": {},
   "outputs": [],
   "source": [
    "batsmens=[]\n",
    "team=[]\n",
    "rating=[]"
   ]
  },
  {
   "cell_type": "code",
   "execution_count": 75,
   "metadata": {},
   "outputs": [
    {
     "data": {
      "text/plain": [
       "[<selenium.webdriver.remote.webelement.WebElement (session=\"eebe6bde7ea0498177539bcaf01c322a\", element=\"297009c6-a4ab-4845-b82f-3a0d6305d721\")>]"
      ]
     },
     "execution_count": 75,
     "metadata": {},
     "output_type": "execute_result"
    }
   ],
   "source": [
    "batsmens_tags=driver.find_elements_by_xpath(\"//div[@class='rankings-block__banner--name-large']\")\n",
    "batsmens_tags"
   ]
  },
  {
   "cell_type": "code",
   "execution_count": 76,
   "metadata": {},
   "outputs": [
    {
     "data": {
      "text/plain": [
       "['Virat Kohli']"
      ]
     },
     "execution_count": 76,
     "metadata": {},
     "output_type": "execute_result"
    }
   ],
   "source": [
    "for i in batsmens_tags:\n",
    "    title=i.text\n",
    "    batsmens.append(title)\n",
    "batsmens"
   ]
  },
  {
   "cell_type": "code",
   "execution_count": 77,
   "metadata": {},
   "outputs": [
    {
     "data": {
      "text/plain": [
       "[<selenium.webdriver.remote.webelement.WebElement (session=\"eebe6bde7ea0498177539bcaf01c322a\", element=\"a84bb38c-37dc-4d74-8770-0c637a9e415e\")>,\n",
       " <selenium.webdriver.remote.webelement.WebElement (session=\"eebe6bde7ea0498177539bcaf01c322a\", element=\"c3c552c0-855a-430e-8f2d-3b97d46ce4f2\")>,\n",
       " <selenium.webdriver.remote.webelement.WebElement (session=\"eebe6bde7ea0498177539bcaf01c322a\", element=\"62488b67-4b81-4a20-94d3-2c72fa30b411\")>,\n",
       " <selenium.webdriver.remote.webelement.WebElement (session=\"eebe6bde7ea0498177539bcaf01c322a\", element=\"2d9e4c01-988b-4ab4-84f1-a95ee7e6de26\")>]"
      ]
     },
     "execution_count": 77,
     "metadata": {},
     "output_type": "execute_result"
    }
   ],
   "source": [
    "batsmen_tags=driver.find_elements_by_xpath(\"//td[@class='table-body__cell rankings-table__name name']\")\n",
    "batsmen_tags[0:4]"
   ]
  },
  {
   "cell_type": "code",
   "execution_count": 78,
   "metadata": {},
   "outputs": [
    {
     "data": {
      "text/plain": [
       "['Rohit Sharma',\n",
       " 'Babar Azam',\n",
       " 'Ross Taylor',\n",
       " 'Aaron Finch',\n",
       " 'Francois du Plessis',\n",
       " 'David Warner',\n",
       " 'Kane Williamson',\n",
       " 'Quinton de Kock',\n",
       " 'Jonny Bairstow',\n",
       " 'Shai Hope',\n",
       " 'Imam-ul-Haq',\n",
       " 'Joe Root',\n",
       " 'Martin Guptill',\n",
       " 'Steve Smith',\n",
       " 'Shikhar Dhawan',\n",
       " 'Mushfiqur Rahim',\n",
       " 'Jason Roy',\n",
       " 'Fakhar Zaman',\n",
       " 'Glenn Maxwell',\n",
       " 'Usman Khawaja',\n",
       " 'Eoin Morgan',\n",
       " 'Tamim Iqbal',\n",
       " 'Shakib Al Hasan',\n",
       " 'Jos Buttler',\n",
       " 'Ben Stokes',\n",
       " 'Shimron Hetmyer',\n",
       " 'Paul Stirling',\n",
       " 'Alex Carey',\n",
       " 'David Miller',\n",
       " 'Rassie van der Dussen',\n",
       " 'Nicholas Pooran',\n",
       " 'Haris Sohail',\n",
       " 'Lokesh Rahul',\n",
       " 'Tom Latham',\n",
       " 'Angelo Mathews',\n",
       " 'Kyle Coetzer',\n",
       " 'Henry Nicholls',\n",
       " 'Aqib Ilyas',\n",
       " 'Litton Das',\n",
       " 'Brendan Taylor',\n",
       " 'Kedar Jadhav',\n",
       " 'Soumya Sarkar',\n",
       " 'Rahmat Shah',\n",
       " 'Andrew Balbirnie',\n",
       " 'Sean Williams',\n",
       " 'Kusal Mendis',\n",
       " 'Mohammad Hafeez',\n",
       " 'Hardik Pandya',\n",
       " 'Imad Wasim',\n",
       " 'Evin Lewis',\n",
       " 'Kusal Perera',\n",
       " 'Sikandar Raza',\n",
       " 'Mahmudullah',\n",
       " 'Mohammad Shahzad',\n",
       " 'Marcus Stoinis',\n",
       " 'Calum MacLeod',\n",
       " 'Sarfaraz Ahmed',\n",
       " 'Chris Gayle',\n",
       " \"Kevin O'Brien\",\n",
       " 'Najibullah Zadran',\n",
       " 'Colin de Grandhomme',\n",
       " 'Avishka Fernando',\n",
       " 'Marnus Labuschagne',\n",
       " 'Jimmy Neesham',\n",
       " 'Mohammad Nabi',\n",
       " 'Heinrich Klaasen',\n",
       " 'Shreyas Iyer',\n",
       " 'Shaun Marsh',\n",
       " 'Hashmatullah Shaidi',\n",
       " 'Danushka Gunathilaka',\n",
       " 'William Porterfield',\n",
       " 'Mitchell Marsh',\n",
       " 'Peter Handscomb',\n",
       " 'Asghar Afghan',\n",
       " 'Richard Berrington',\n",
       " 'Colin Munro',\n",
       " 'Craig Ervine',\n",
       " 'Lahiru Thirimanne',\n",
       " 'Mitchell Santner',\n",
       " 'Thisara Perera',\n",
       " 'Sabbir Rahman',\n",
       " 'Muhammad Usman',\n",
       " 'Jason Holder',\n",
       " 'Ravindra Jadeja',\n",
       " 'Dhananjaya de Silva',\n",
       " 'Assad Vala',\n",
       " 'Aiden Markram',\n",
       " 'Andile Phehlukwayo',\n",
       " 'Mithun Ali',\n",
       " 'Gulbadin Naib',\n",
       " 'Chris Woakes',\n",
       " 'Matthew Cross',\n",
       " 'Sam Billings',\n",
       " 'Tony Ura',\n",
       " 'Rashid Khan',\n",
       " 'Moeen Ali',\n",
       " 'Kieron Pollard',\n",
       " 'Dimuth Karunaratne',\n",
       " 'Adil Rashid']"
      ]
     },
     "execution_count": 78,
     "metadata": {},
     "output_type": "execute_result"
    }
   ],
   "source": [
    "bat=[]\n",
    "for i in batsmen_tags:\n",
    "    title=i.text\n",
    "    bat.append(title)\n",
    "bat"
   ]
  },
  {
   "cell_type": "code",
   "execution_count": 79,
   "metadata": {},
   "outputs": [
    {
     "data": {
      "text/plain": [
       "['Virat Kohli',\n",
       " 'Rohit Sharma',\n",
       " 'Babar Azam',\n",
       " 'Ross Taylor',\n",
       " 'Aaron Finch',\n",
       " 'Francois du Plessis',\n",
       " 'David Warner',\n",
       " 'Kane Williamson',\n",
       " 'Quinton de Kock',\n",
       " 'Jonny Bairstow']"
      ]
     },
     "execution_count": 79,
     "metadata": {},
     "output_type": "execute_result"
    }
   ],
   "source": [
    "batsmens.append(bat)\n",
    "batmen=flatten(batsmens)\n",
    "batmen[0:10]\n"
   ]
  },
  {
   "cell_type": "code",
   "execution_count": 80,
   "metadata": {},
   "outputs": [
    {
     "data": {
      "text/plain": [
       "['IND']"
      ]
     },
     "execution_count": 80,
     "metadata": {},
     "output_type": "execute_result"
    }
   ],
   "source": [
    "team_tags=driver.find_elements_by_xpath(\"//div[@class='rankings-block__banner--nationality']\")\n",
    "team_tags\n",
    "for i in team_tags:\n",
    "    title=i.text\n",
    "    team.append(title)\n",
    "team"
   ]
  },
  {
   "cell_type": "code",
   "execution_count": 81,
   "metadata": {},
   "outputs": [
    {
     "data": {
      "text/plain": [
       "['IND', 'PAK', 'NZ', 'AUS', 'SA', 'AUS', 'NZ', 'SA', 'ENG', 'WI']"
      ]
     },
     "execution_count": 81,
     "metadata": {},
     "output_type": "execute_result"
    }
   ],
   "source": [
    "teams=[]\n",
    "team_tags=driver.find_elements_by_xpath(\"//span[@class='table-body__logo-text']\")\n",
    "team_tags\n",
    "for i in team_tags:\n",
    "    title=i.text\n",
    "    teams.append(title)\n",
    "teams[0:10]"
   ]
  },
  {
   "cell_type": "code",
   "execution_count": 82,
   "metadata": {},
   "outputs": [
    {
     "data": {
      "text/plain": [
       "['IND', 'IND', 'PAK', 'NZ', 'AUS', 'SA', 'AUS', 'NZ', 'SA', 'ENG']"
      ]
     },
     "execution_count": 82,
     "metadata": {},
     "output_type": "execute_result"
    }
   ],
   "source": [
    "team.append(teams)\n",
    "new_team=flatten(team)\n",
    "new_team[0:10]"
   ]
  },
  {
   "cell_type": "code",
   "execution_count": 83,
   "metadata": {},
   "outputs": [
    {
     "data": {
      "text/plain": [
       "['870']"
      ]
     },
     "execution_count": 83,
     "metadata": {},
     "output_type": "execute_result"
    }
   ],
   "source": [
    "ra_tags=driver.find_elements_by_xpath(\"//div[@class='rankings-block__banner--rating']\")\n",
    "ra_tags[0:4]\n",
    "for i in ra_tags:\n",
    "    title=i.text\n",
    "    rating.append(title)\n",
    "rating\n"
   ]
  },
  {
   "cell_type": "code",
   "execution_count": 84,
   "metadata": {},
   "outputs": [
    {
     "data": {
      "text/plain": [
       "['842', '837', '818', '791', '790', '773', '765', '755', '754', '750']"
      ]
     },
     "execution_count": 84,
     "metadata": {},
     "output_type": "execute_result"
    }
   ],
   "source": [
    "rat=[]\n",
    "ra_tags=driver.find_elements_by_xpath(\"//td[@class='table-body__cell rating']\")\n",
    "ra_tags[0:4]\n",
    "for i in ra_tags:\n",
    "    title=i.text\n",
    "    rat.append(title)\n",
    "rat[0:10]\n"
   ]
  },
  {
   "cell_type": "code",
   "execution_count": 85,
   "metadata": {},
   "outputs": [
    {
     "data": {
      "text/plain": [
       "['870', '842', '837', '818', '791', '790', '773', '765', '755', '754']"
      ]
     },
     "execution_count": 85,
     "metadata": {},
     "output_type": "execute_result"
    }
   ],
   "source": [
    "rating.append(rat)\n",
    "new_rating=flatten(rating)\n",
    "new_rating[0:10]"
   ]
  },
  {
   "cell_type": "code",
   "execution_count": 86,
   "metadata": {},
   "outputs": [
    {
     "data": {
      "text/html": [
       "<div>\n",
       "<style scoped>\n",
       "    .dataframe tbody tr th:only-of-type {\n",
       "        vertical-align: middle;\n",
       "    }\n",
       "\n",
       "    .dataframe tbody tr th {\n",
       "        vertical-align: top;\n",
       "    }\n",
       "\n",
       "    .dataframe thead th {\n",
       "        text-align: right;\n",
       "    }\n",
       "</style>\n",
       "<table border=\"1\" class=\"dataframe\">\n",
       "  <thead>\n",
       "    <tr style=\"text-align: right;\">\n",
       "      <th></th>\n",
       "      <th>batmen</th>\n",
       "      <th>team</th>\n",
       "      <th>rating</th>\n",
       "    </tr>\n",
       "  </thead>\n",
       "  <tbody>\n",
       "    <tr>\n",
       "      <th>0</th>\n",
       "      <td>Virat Kohli</td>\n",
       "      <td>IND</td>\n",
       "      <td>870</td>\n",
       "    </tr>\n",
       "    <tr>\n",
       "      <th>1</th>\n",
       "      <td>Rohit Sharma</td>\n",
       "      <td>IND</td>\n",
       "      <td>842</td>\n",
       "    </tr>\n",
       "    <tr>\n",
       "      <th>2</th>\n",
       "      <td>Babar Azam</td>\n",
       "      <td>PAK</td>\n",
       "      <td>837</td>\n",
       "    </tr>\n",
       "    <tr>\n",
       "      <th>3</th>\n",
       "      <td>Ross Taylor</td>\n",
       "      <td>NZ</td>\n",
       "      <td>818</td>\n",
       "    </tr>\n",
       "    <tr>\n",
       "      <th>4</th>\n",
       "      <td>Aaron Finch</td>\n",
       "      <td>AUS</td>\n",
       "      <td>791</td>\n",
       "    </tr>\n",
       "    <tr>\n",
       "      <th>5</th>\n",
       "      <td>Francois du Plessis</td>\n",
       "      <td>SA</td>\n",
       "      <td>790</td>\n",
       "    </tr>\n",
       "    <tr>\n",
       "      <th>6</th>\n",
       "      <td>David Warner</td>\n",
       "      <td>AUS</td>\n",
       "      <td>773</td>\n",
       "    </tr>\n",
       "    <tr>\n",
       "      <th>7</th>\n",
       "      <td>Kane Williamson</td>\n",
       "      <td>NZ</td>\n",
       "      <td>765</td>\n",
       "    </tr>\n",
       "    <tr>\n",
       "      <th>8</th>\n",
       "      <td>Quinton de Kock</td>\n",
       "      <td>SA</td>\n",
       "      <td>755</td>\n",
       "    </tr>\n",
       "    <tr>\n",
       "      <th>9</th>\n",
       "      <td>Jonny Bairstow</td>\n",
       "      <td>ENG</td>\n",
       "      <td>754</td>\n",
       "    </tr>\n",
       "  </tbody>\n",
       "</table>\n",
       "</div>"
      ],
      "text/plain": [
       "                batmen team rating\n",
       "0          Virat Kohli  IND    870\n",
       "1         Rohit Sharma  IND    842\n",
       "2           Babar Azam  PAK    837\n",
       "3          Ross Taylor   NZ    818\n",
       "4          Aaron Finch  AUS    791\n",
       "5  Francois du Plessis   SA    790\n",
       "6         David Warner  AUS    773\n",
       "7      Kane Williamson   NZ    765\n",
       "8      Quinton de Kock   SA    755\n",
       "9       Jonny Bairstow  ENG    754"
      ]
     },
     "execution_count": 86,
     "metadata": {},
     "output_type": "execute_result"
    }
   ],
   "source": [
    "mens_odi_batting=pd.DataFrame({})\n",
    "mens_odi_batting['batmen']=batmen[0:10]\n",
    "mens_odi_batting['team']=new_team[0:10]\n",
    "mens_odi_batting['rating']=new_rating[0:10]\n",
    "mens_odi_batting"
   ]
  },
  {
   "cell_type": "markdown",
   "metadata": {},
   "source": [
    "## iii) TOP 10 ODI Bowlers"
   ]
  },
  {
   "cell_type": "code",
   "execution_count": 87,
   "metadata": {},
   "outputs": [],
   "source": [
    "#specifying the url of the webpage to be scraped\n",
    "url1=\"https://www.icc-cricket.com/rankings/mens/player-rankings/odi/bowling\""
   ]
  },
  {
   "cell_type": "code",
   "execution_count": 88,
   "metadata": {},
   "outputs": [],
   "source": [
    "#lets open driver\n",
    "driver.get(url1)"
   ]
  },
  {
   "cell_type": "code",
   "execution_count": 89,
   "metadata": {},
   "outputs": [],
   "source": [
    "bowlers=[]\n",
    "team=[]\n",
    "rating=[]"
   ]
  },
  {
   "cell_type": "code",
   "execution_count": 90,
   "metadata": {},
   "outputs": [
    {
     "data": {
      "text/plain": [
       "['Trent Boult']"
      ]
     },
     "execution_count": 90,
     "metadata": {},
     "output_type": "execute_result"
    }
   ],
   "source": [
    "bowl_tags=driver.find_elements_by_xpath(\"//div[@class='rankings-block__banner--name-large']\")\n",
    "\n",
    "for i in bowl_tags:\n",
    "    title=i.text\n",
    "    bowlers.append(title)\n",
    "bowlers\n"
   ]
  },
  {
   "cell_type": "code",
   "execution_count": 91,
   "metadata": {},
   "outputs": [
    {
     "data": {
      "text/plain": [
       "['Mujeeb Ur Rahman',\n",
       " 'Jasprit Bumrah',\n",
       " 'Chris Woakes',\n",
       " 'Kagiso Rabada',\n",
       " 'Josh Hazlewood']"
      ]
     },
     "execution_count": 91,
     "metadata": {},
     "output_type": "execute_result"
    }
   ],
   "source": [
    "bowl=[]\n",
    "bowl_tags=driver.find_elements_by_xpath(\"//td[@class='table-body__cell rankings-table__name name']\")\n",
    "\n",
    "for i in bowl_tags:\n",
    "    title=i.text\n",
    "    bowl.append(title)\n",
    "bowl[0:5]\n"
   ]
  },
  {
   "cell_type": "code",
   "execution_count": 92,
   "metadata": {},
   "outputs": [
    {
     "data": {
      "text/plain": [
       "['Trent Boult',\n",
       " 'Mujeeb Ur Rahman',\n",
       " 'Jasprit Bumrah',\n",
       " 'Chris Woakes',\n",
       " 'Kagiso Rabada']"
      ]
     },
     "execution_count": 92,
     "metadata": {},
     "output_type": "execute_result"
    }
   ],
   "source": [
    "bowlers.append(bowl)\n",
    "new_bowler=flatten(bowlers)\n",
    "new_bowler[0:5]"
   ]
  },
  {
   "cell_type": "code",
   "execution_count": 93,
   "metadata": {},
   "outputs": [
    {
     "data": {
      "text/plain": [
       "['NZ']"
      ]
     },
     "execution_count": 93,
     "metadata": {},
     "output_type": "execute_result"
    }
   ],
   "source": [
    "team_tags=driver.find_elements_by_xpath(\"//div[@class='rankings-block__banner--nationality']\")\n",
    "team_tags\n",
    "for i in team_tags:\n",
    "    title=i.text\n",
    "    team.append(title)\n",
    "team"
   ]
  },
  {
   "cell_type": "code",
   "execution_count": 94,
   "metadata": {},
   "outputs": [
    {
     "data": {
      "text/plain": [
       "['AFG', 'IND', 'ENG', 'SA', 'AUS', 'PAK', 'AUS', 'NZ', 'ENG', 'AFG']"
      ]
     },
     "execution_count": 94,
     "metadata": {},
     "output_type": "execute_result"
    }
   ],
   "source": [
    "teams=[]\n",
    "team_tags=driver.find_elements_by_xpath(\"//span[@class='table-body__logo-text']\")\n",
    "team_tags\n",
    "for i in team_tags:\n",
    "    title=i.text\n",
    "    teams.append(title)\n",
    "teams[0:10]"
   ]
  },
  {
   "cell_type": "code",
   "execution_count": 95,
   "metadata": {},
   "outputs": [
    {
     "data": {
      "text/plain": [
       "['NZ', 'AFG', 'IND', 'ENG', 'SA', 'AUS', 'PAK', 'AUS', 'NZ', 'ENG']"
      ]
     },
     "execution_count": 95,
     "metadata": {},
     "output_type": "execute_result"
    }
   ],
   "source": [
    "team.append(teams)\n",
    "new_team=flatten(team)\n",
    "new_team[0:10]"
   ]
  },
  {
   "cell_type": "code",
   "execution_count": 96,
   "metadata": {},
   "outputs": [
    {
     "data": {
      "text/plain": [
       "['722']"
      ]
     },
     "execution_count": 96,
     "metadata": {},
     "output_type": "execute_result"
    }
   ],
   "source": [
    "ra_tags=driver.find_elements_by_xpath(\"//div[@class='rankings-block__banner--rating']\")\n",
    "ra_tags[0:4]\n",
    "for i in ra_tags:\n",
    "    title=i.text\n",
    "    rating.append(title)\n",
    "rating"
   ]
  },
  {
   "cell_type": "code",
   "execution_count": 97,
   "metadata": {},
   "outputs": [
    {
     "data": {
      "text/plain": [
       "[<selenium.webdriver.remote.webelement.WebElement (session=\"eebe6bde7ea0498177539bcaf01c322a\", element=\"2a9a5dfa-d3cb-4a1d-9bf5-e8e696cb5225\")>,\n",
       " <selenium.webdriver.remote.webelement.WebElement (session=\"eebe6bde7ea0498177539bcaf01c322a\", element=\"f9fa6484-59d9-4487-9433-2b9699d63087\")>,\n",
       " <selenium.webdriver.remote.webelement.WebElement (session=\"eebe6bde7ea0498177539bcaf01c322a\", element=\"3f4c7c30-6cf3-46ab-ac96-2238143913c9\")>,\n",
       " <selenium.webdriver.remote.webelement.WebElement (session=\"eebe6bde7ea0498177539bcaf01c322a\", element=\"b786e6b5-61ab-44e3-925b-97e5caae7dfe\")>,\n",
       " <selenium.webdriver.remote.webelement.WebElement (session=\"eebe6bde7ea0498177539bcaf01c322a\", element=\"f9c2d52f-998a-4a7d-b24f-f240fbfe4b55\")>,\n",
       " <selenium.webdriver.remote.webelement.WebElement (session=\"eebe6bde7ea0498177539bcaf01c322a\", element=\"34f62787-f891-4163-b2f5-9a915024515e\")>,\n",
       " <selenium.webdriver.remote.webelement.WebElement (session=\"eebe6bde7ea0498177539bcaf01c322a\", element=\"29ec83a0-17d6-4599-acac-039576e488ad\")>,\n",
       " <selenium.webdriver.remote.webelement.WebElement (session=\"eebe6bde7ea0498177539bcaf01c322a\", element=\"99fbc704-0653-4612-bbb4-eb6a5eef7597\")>,\n",
       " <selenium.webdriver.remote.webelement.WebElement (session=\"eebe6bde7ea0498177539bcaf01c322a\", element=\"ab12caff-14cf-4933-9f23-bcc76569bc78\")>,\n",
       " <selenium.webdriver.remote.webelement.WebElement (session=\"eebe6bde7ea0498177539bcaf01c322a\", element=\"740559eb-54c3-409e-adf2-ef12a0395e3d\")>,\n",
       " <selenium.webdriver.remote.webelement.WebElement (session=\"eebe6bde7ea0498177539bcaf01c322a\", element=\"9c4cb7b3-e687-4b9a-9767-bef57c6ab5c1\")>,\n",
       " <selenium.webdriver.remote.webelement.WebElement (session=\"eebe6bde7ea0498177539bcaf01c322a\", element=\"49791faf-60e2-4c11-baad-95d20f71fc38\")>,\n",
       " <selenium.webdriver.remote.webelement.WebElement (session=\"eebe6bde7ea0498177539bcaf01c322a\", element=\"b2d149d0-0f14-4f68-99e5-527e14628451\")>,\n",
       " <selenium.webdriver.remote.webelement.WebElement (session=\"eebe6bde7ea0498177539bcaf01c322a\", element=\"834b5c1c-a87c-4a8a-9e11-a55e7cd0765b\")>,\n",
       " <selenium.webdriver.remote.webelement.WebElement (session=\"eebe6bde7ea0498177539bcaf01c322a\", element=\"85adda17-e4e0-40f2-bb34-1eb17a1dfe8d\")>,\n",
       " <selenium.webdriver.remote.webelement.WebElement (session=\"eebe6bde7ea0498177539bcaf01c322a\", element=\"862a5cfa-641d-4091-9645-8d892ad0e4d1\")>,\n",
       " <selenium.webdriver.remote.webelement.WebElement (session=\"eebe6bde7ea0498177539bcaf01c322a\", element=\"d0cc9fd0-b7bf-402a-b86e-d437fe4abf2a\")>,\n",
       " <selenium.webdriver.remote.webelement.WebElement (session=\"eebe6bde7ea0498177539bcaf01c322a\", element=\"323a82bf-01f1-4dec-a748-9ff348eed329\")>,\n",
       " <selenium.webdriver.remote.webelement.WebElement (session=\"eebe6bde7ea0498177539bcaf01c322a\", element=\"efdd534d-e66b-4c6c-9f93-357213f5c580\")>,\n",
       " <selenium.webdriver.remote.webelement.WebElement (session=\"eebe6bde7ea0498177539bcaf01c322a\", element=\"a07ac2c3-f8ff-49d3-8f38-0fc500958166\")>,\n",
       " <selenium.webdriver.remote.webelement.WebElement (session=\"eebe6bde7ea0498177539bcaf01c322a\", element=\"84fc5cd0-bd62-4843-b74c-4bd041e75629\")>,\n",
       " <selenium.webdriver.remote.webelement.WebElement (session=\"eebe6bde7ea0498177539bcaf01c322a\", element=\"630d9ee3-8fdc-4454-ab18-53270a2b5c15\")>,\n",
       " <selenium.webdriver.remote.webelement.WebElement (session=\"eebe6bde7ea0498177539bcaf01c322a\", element=\"76f49d5b-aaa6-4eec-bdb8-a505b83fb2d9\")>,\n",
       " <selenium.webdriver.remote.webelement.WebElement (session=\"eebe6bde7ea0498177539bcaf01c322a\", element=\"22caa24f-9a75-4389-9f64-407c0c8fcdab\")>,\n",
       " <selenium.webdriver.remote.webelement.WebElement (session=\"eebe6bde7ea0498177539bcaf01c322a\", element=\"9ea59aa5-03ed-4c80-8bc5-8b205c4bfa7e\")>,\n",
       " <selenium.webdriver.remote.webelement.WebElement (session=\"eebe6bde7ea0498177539bcaf01c322a\", element=\"325feb5a-02ea-4d7a-b0a5-f1af6f252f6e\")>,\n",
       " <selenium.webdriver.remote.webelement.WebElement (session=\"eebe6bde7ea0498177539bcaf01c322a\", element=\"1642aaec-26c9-4687-b402-053735749608\")>,\n",
       " <selenium.webdriver.remote.webelement.WebElement (session=\"eebe6bde7ea0498177539bcaf01c322a\", element=\"e1e68f8f-a2d9-4a05-b8fa-14ceb739add3\")>,\n",
       " <selenium.webdriver.remote.webelement.WebElement (session=\"eebe6bde7ea0498177539bcaf01c322a\", element=\"a57d946b-5786-458f-9bb3-3d231eaa43de\")>,\n",
       " <selenium.webdriver.remote.webelement.WebElement (session=\"eebe6bde7ea0498177539bcaf01c322a\", element=\"ea666f9a-3fdb-4e48-b897-e5edbd2b616c\")>,\n",
       " <selenium.webdriver.remote.webelement.WebElement (session=\"eebe6bde7ea0498177539bcaf01c322a\", element=\"293260e2-21aa-4ff8-9854-f79b5ed5a945\")>,\n",
       " <selenium.webdriver.remote.webelement.WebElement (session=\"eebe6bde7ea0498177539bcaf01c322a\", element=\"4631b722-04e7-4976-ade6-65c99a51a38a\")>,\n",
       " <selenium.webdriver.remote.webelement.WebElement (session=\"eebe6bde7ea0498177539bcaf01c322a\", element=\"47f41122-81a3-4d03-86d1-55eb3ebf0cc8\")>,\n",
       " <selenium.webdriver.remote.webelement.WebElement (session=\"eebe6bde7ea0498177539bcaf01c322a\", element=\"eb0d90ea-3f10-4075-a4cb-de735c2c8ad0\")>,\n",
       " <selenium.webdriver.remote.webelement.WebElement (session=\"eebe6bde7ea0498177539bcaf01c322a\", element=\"0480d9fb-27dc-411e-b8a5-566449f4ab0e\")>,\n",
       " <selenium.webdriver.remote.webelement.WebElement (session=\"eebe6bde7ea0498177539bcaf01c322a\", element=\"7e4823ee-3f42-4c82-988e-6e6934f683c4\")>,\n",
       " <selenium.webdriver.remote.webelement.WebElement (session=\"eebe6bde7ea0498177539bcaf01c322a\", element=\"f27c6bf1-3761-41e5-a793-556c7b9e0f9e\")>,\n",
       " <selenium.webdriver.remote.webelement.WebElement (session=\"eebe6bde7ea0498177539bcaf01c322a\", element=\"670a70bd-19a2-40e8-be6c-2e8ea57c3eea\")>,\n",
       " <selenium.webdriver.remote.webelement.WebElement (session=\"eebe6bde7ea0498177539bcaf01c322a\", element=\"30f95e15-24a1-46fb-8156-6040829d39e3\")>,\n",
       " <selenium.webdriver.remote.webelement.WebElement (session=\"eebe6bde7ea0498177539bcaf01c322a\", element=\"95bd491d-987e-46c9-b9cc-1b75e61c3c26\")>,\n",
       " <selenium.webdriver.remote.webelement.WebElement (session=\"eebe6bde7ea0498177539bcaf01c322a\", element=\"ae9dd2be-ea41-41b9-8e55-0b5046e17a70\")>,\n",
       " <selenium.webdriver.remote.webelement.WebElement (session=\"eebe6bde7ea0498177539bcaf01c322a\", element=\"7819d00a-6b18-4295-99ef-eec2bef6489f\")>,\n",
       " <selenium.webdriver.remote.webelement.WebElement (session=\"eebe6bde7ea0498177539bcaf01c322a\", element=\"75792f5f-fc8f-41d4-b36d-557a1bad576b\")>,\n",
       " <selenium.webdriver.remote.webelement.WebElement (session=\"eebe6bde7ea0498177539bcaf01c322a\", element=\"18de5d75-2423-4d58-be14-2cf8ddb774e6\")>,\n",
       " <selenium.webdriver.remote.webelement.WebElement (session=\"eebe6bde7ea0498177539bcaf01c322a\", element=\"70cc055e-5bcc-4757-98f6-0cc2cb773044\")>,\n",
       " <selenium.webdriver.remote.webelement.WebElement (session=\"eebe6bde7ea0498177539bcaf01c322a\", element=\"785ba20e-4dfe-4af4-aa18-de85f23d81b5\")>,\n",
       " <selenium.webdriver.remote.webelement.WebElement (session=\"eebe6bde7ea0498177539bcaf01c322a\", element=\"ad4b2eae-c398-4c70-980c-80e4828d0788\")>,\n",
       " <selenium.webdriver.remote.webelement.WebElement (session=\"eebe6bde7ea0498177539bcaf01c322a\", element=\"632453cf-af91-4a1e-aacc-2460f9626193\")>,\n",
       " <selenium.webdriver.remote.webelement.WebElement (session=\"eebe6bde7ea0498177539bcaf01c322a\", element=\"5d333c6d-f3fd-4673-9946-474416a1df6b\")>,\n",
       " <selenium.webdriver.remote.webelement.WebElement (session=\"eebe6bde7ea0498177539bcaf01c322a\", element=\"151c47e2-7ae2-465b-96f1-b9ad8a8d4026\")>,\n",
       " <selenium.webdriver.remote.webelement.WebElement (session=\"eebe6bde7ea0498177539bcaf01c322a\", element=\"cc60030f-5c88-4dec-876c-7bd400533ed6\")>,\n",
       " <selenium.webdriver.remote.webelement.WebElement (session=\"eebe6bde7ea0498177539bcaf01c322a\", element=\"d227aef4-4a99-4556-98c4-e8fbae6c5814\")>,\n",
       " <selenium.webdriver.remote.webelement.WebElement (session=\"eebe6bde7ea0498177539bcaf01c322a\", element=\"62852419-c7a3-44f4-98e7-2e9dd3a84bf1\")>,\n",
       " <selenium.webdriver.remote.webelement.WebElement (session=\"eebe6bde7ea0498177539bcaf01c322a\", element=\"e1a45c06-d5a2-405f-a060-2880601fcb08\")>,\n",
       " <selenium.webdriver.remote.webelement.WebElement (session=\"eebe6bde7ea0498177539bcaf01c322a\", element=\"d9bd7a9a-fd21-4373-9036-e9e916d43dfe\")>,\n",
       " <selenium.webdriver.remote.webelement.WebElement (session=\"eebe6bde7ea0498177539bcaf01c322a\", element=\"7d2d401f-e1dd-4053-a298-31082ae1c0d8\")>,\n",
       " <selenium.webdriver.remote.webelement.WebElement (session=\"eebe6bde7ea0498177539bcaf01c322a\", element=\"b62f83c7-43bc-4d51-930d-89ed5c524a36\")>,\n",
       " <selenium.webdriver.remote.webelement.WebElement (session=\"eebe6bde7ea0498177539bcaf01c322a\", element=\"cb9769a0-53e6-4f74-80cc-d288465856dd\")>,\n",
       " <selenium.webdriver.remote.webelement.WebElement (session=\"eebe6bde7ea0498177539bcaf01c322a\", element=\"b01b04bf-9bc7-4730-8f24-b81026cea95b\")>,\n",
       " <selenium.webdriver.remote.webelement.WebElement (session=\"eebe6bde7ea0498177539bcaf01c322a\", element=\"be371d57-66ad-4c9c-ab81-4622cd503521\")>,\n",
       " <selenium.webdriver.remote.webelement.WebElement (session=\"eebe6bde7ea0498177539bcaf01c322a\", element=\"93ada626-e291-49ee-b988-d2afca5dd102\")>,\n",
       " <selenium.webdriver.remote.webelement.WebElement (session=\"eebe6bde7ea0498177539bcaf01c322a\", element=\"88aee83f-ee98-412f-842c-3f02961ae76c\")>,\n",
       " <selenium.webdriver.remote.webelement.WebElement (session=\"eebe6bde7ea0498177539bcaf01c322a\", element=\"f55f71c2-18ac-4fa2-93e6-0714686a1a75\")>,\n",
       " <selenium.webdriver.remote.webelement.WebElement (session=\"eebe6bde7ea0498177539bcaf01c322a\", element=\"76e04f1e-2b6d-4b1e-9ad6-3812696e3299\")>,\n",
       " <selenium.webdriver.remote.webelement.WebElement (session=\"eebe6bde7ea0498177539bcaf01c322a\", element=\"7a48b32d-9462-46f8-8d74-509f4b06ec3d\")>,\n",
       " <selenium.webdriver.remote.webelement.WebElement (session=\"eebe6bde7ea0498177539bcaf01c322a\", element=\"f0ae6ff2-9566-4061-bc6b-ce386a52cbc3\")>,\n",
       " <selenium.webdriver.remote.webelement.WebElement (session=\"eebe6bde7ea0498177539bcaf01c322a\", element=\"671c90b4-b87a-43be-a790-1cf417c729d9\")>,\n",
       " <selenium.webdriver.remote.webelement.WebElement (session=\"eebe6bde7ea0498177539bcaf01c322a\", element=\"e8fad351-3f86-44bb-b138-d00262104fdd\")>,\n",
       " <selenium.webdriver.remote.webelement.WebElement (session=\"eebe6bde7ea0498177539bcaf01c322a\", element=\"eb6e3dfb-8a9b-4415-96f1-071f676d6616\")>,\n",
       " <selenium.webdriver.remote.webelement.WebElement (session=\"eebe6bde7ea0498177539bcaf01c322a\", element=\"e5c519ea-79ed-4352-bc6e-3d73eb909ee5\")>,\n",
       " <selenium.webdriver.remote.webelement.WebElement (session=\"eebe6bde7ea0498177539bcaf01c322a\", element=\"30a4e7e0-c374-4179-bdde-be99cb045936\")>,\n",
       " <selenium.webdriver.remote.webelement.WebElement (session=\"eebe6bde7ea0498177539bcaf01c322a\", element=\"1b74239b-f4f8-4f67-8e1a-f49f99eee9a6\")>,\n",
       " <selenium.webdriver.remote.webelement.WebElement (session=\"eebe6bde7ea0498177539bcaf01c322a\", element=\"7fb49c07-b4da-4bd0-a0c4-f50e0c78f9a3\")>,\n",
       " <selenium.webdriver.remote.webelement.WebElement (session=\"eebe6bde7ea0498177539bcaf01c322a\", element=\"a53309b1-b9b2-4c46-b0e5-10298d5577d4\")>,\n",
       " <selenium.webdriver.remote.webelement.WebElement (session=\"eebe6bde7ea0498177539bcaf01c322a\", element=\"7d595652-5882-4dc4-b522-8d77b765aac7\")>,\n",
       " <selenium.webdriver.remote.webelement.WebElement (session=\"eebe6bde7ea0498177539bcaf01c322a\", element=\"81e8ee6b-9bd6-4d65-a3f9-58411abe872c\")>,\n",
       " <selenium.webdriver.remote.webelement.WebElement (session=\"eebe6bde7ea0498177539bcaf01c322a\", element=\"b2429d98-6780-4f21-91a7-6759c77d18c5\")>,\n",
       " <selenium.webdriver.remote.webelement.WebElement (session=\"eebe6bde7ea0498177539bcaf01c322a\", element=\"1b1db88f-33cf-4334-bb98-4e288d58740c\")>,\n",
       " <selenium.webdriver.remote.webelement.WebElement (session=\"eebe6bde7ea0498177539bcaf01c322a\", element=\"c7bebd94-a703-48e5-8cf7-d063b7415b32\")>,\n",
       " <selenium.webdriver.remote.webelement.WebElement (session=\"eebe6bde7ea0498177539bcaf01c322a\", element=\"800dbee8-b5b1-4019-9cea-4929294a154c\")>,\n",
       " <selenium.webdriver.remote.webelement.WebElement (session=\"eebe6bde7ea0498177539bcaf01c322a\", element=\"780252a0-179d-4e68-9fff-acae99f26545\")>,\n",
       " <selenium.webdriver.remote.webelement.WebElement (session=\"eebe6bde7ea0498177539bcaf01c322a\", element=\"92d79249-b648-40de-b25a-7b1f07c887a4\")>,\n",
       " <selenium.webdriver.remote.webelement.WebElement (session=\"eebe6bde7ea0498177539bcaf01c322a\", element=\"f31b4d91-a1a4-46cf-a9ad-27aa140be963\")>,\n",
       " <selenium.webdriver.remote.webelement.WebElement (session=\"eebe6bde7ea0498177539bcaf01c322a\", element=\"ebc6d0c5-651e-4428-80ea-eeca9c16ebd4\")>,\n",
       " <selenium.webdriver.remote.webelement.WebElement (session=\"eebe6bde7ea0498177539bcaf01c322a\", element=\"c96860de-cee9-4787-8b06-5ab90dae9e2d\")>,\n",
       " <selenium.webdriver.remote.webelement.WebElement (session=\"eebe6bde7ea0498177539bcaf01c322a\", element=\"52d5b55c-d6dc-4454-aaec-c886b865947a\")>,\n",
       " <selenium.webdriver.remote.webelement.WebElement (session=\"eebe6bde7ea0498177539bcaf01c322a\", element=\"26324e5c-fce9-4758-a430-7ab7205737ff\")>,\n",
       " <selenium.webdriver.remote.webelement.WebElement (session=\"eebe6bde7ea0498177539bcaf01c322a\", element=\"20203e5b-a765-4eae-b4e0-36f81eb1a406\")>,\n",
       " <selenium.webdriver.remote.webelement.WebElement (session=\"eebe6bde7ea0498177539bcaf01c322a\", element=\"f8c224dd-a28c-460e-aac1-af81b91b19a1\")>,\n",
       " <selenium.webdriver.remote.webelement.WebElement (session=\"eebe6bde7ea0498177539bcaf01c322a\", element=\"29567bed-0b7c-4e68-9fbc-b79766e8e00d\")>,\n",
       " <selenium.webdriver.remote.webelement.WebElement (session=\"eebe6bde7ea0498177539bcaf01c322a\", element=\"2596aabf-f454-4d85-8b0e-42dccb3e80e7\")>,\n",
       " <selenium.webdriver.remote.webelement.WebElement (session=\"eebe6bde7ea0498177539bcaf01c322a\", element=\"532e0209-b350-4e8e-a477-0675b418a95f\")>,\n",
       " <selenium.webdriver.remote.webelement.WebElement (session=\"eebe6bde7ea0498177539bcaf01c322a\", element=\"c194a8a7-aaa8-48d0-903d-7345dd1fcd3b\")>,\n",
       " <selenium.webdriver.remote.webelement.WebElement (session=\"eebe6bde7ea0498177539bcaf01c322a\", element=\"a4c49639-e73e-42fd-9c99-31481bb75ffc\")>,\n",
       " <selenium.webdriver.remote.webelement.WebElement (session=\"eebe6bde7ea0498177539bcaf01c322a\", element=\"a39dbf9e-ff6e-4da2-968c-8ed02685bef0\")>,\n",
       " <selenium.webdriver.remote.webelement.WebElement (session=\"eebe6bde7ea0498177539bcaf01c322a\", element=\"fc51ff5e-1ac3-4999-b6af-5e2e07eaf69d\")>,\n",
       " <selenium.webdriver.remote.webelement.WebElement (session=\"eebe6bde7ea0498177539bcaf01c322a\", element=\"76fad78b-030b-40f3-b8f8-aa61c40eaf26\")>,\n",
       " <selenium.webdriver.remote.webelement.WebElement (session=\"eebe6bde7ea0498177539bcaf01c322a\", element=\"5520b9d2-9876-43ff-8763-6e7b2e47f763\")>,\n",
       " <selenium.webdriver.remote.webelement.WebElement (session=\"eebe6bde7ea0498177539bcaf01c322a\", element=\"a4ff3e7a-1543-464b-a974-635ef73a392d\")>]"
      ]
     },
     "execution_count": 97,
     "metadata": {},
     "output_type": "execute_result"
    }
   ],
   "source": [
    "rating_tags=driver.find_elements_by_xpath(\"//td[@class='table-body__cell rating']\")\n",
    "rating_tags"
   ]
  },
  {
   "cell_type": "code",
   "execution_count": 98,
   "metadata": {},
   "outputs": [
    {
     "data": {
      "text/plain": [
       "['701', '700', '675', '665', '660', '647', '646', '641', '637', '630']"
      ]
     },
     "execution_count": 98,
     "metadata": {},
     "output_type": "execute_result"
    }
   ],
   "source": [
    "rat=[]\n",
    "for i in rating_tags:\n",
    "    title=i.text\n",
    "    rat.append(title)\n",
    "rat[0:10]"
   ]
  },
  {
   "cell_type": "code",
   "execution_count": 99,
   "metadata": {},
   "outputs": [
    {
     "data": {
      "text/plain": [
       "['722', '701', '700', '675', '665', '660', '647', '646', '641', '637']"
      ]
     },
     "execution_count": 99,
     "metadata": {},
     "output_type": "execute_result"
    }
   ],
   "source": [
    "rating.append(rat)\n",
    "new_rating=flatten(rating)\n",
    "new_rating[0:10]"
   ]
  },
  {
   "cell_type": "code",
   "execution_count": 100,
   "metadata": {},
   "outputs": [
    {
     "data": {
      "text/html": [
       "<div>\n",
       "<style scoped>\n",
       "    .dataframe tbody tr th:only-of-type {\n",
       "        vertical-align: middle;\n",
       "    }\n",
       "\n",
       "    .dataframe tbody tr th {\n",
       "        vertical-align: top;\n",
       "    }\n",
       "\n",
       "    .dataframe thead th {\n",
       "        text-align: right;\n",
       "    }\n",
       "</style>\n",
       "<table border=\"1\" class=\"dataframe\">\n",
       "  <thead>\n",
       "    <tr style=\"text-align: right;\">\n",
       "      <th></th>\n",
       "      <th>bowler</th>\n",
       "      <th>team</th>\n",
       "      <th>rating</th>\n",
       "    </tr>\n",
       "  </thead>\n",
       "  <tbody>\n",
       "    <tr>\n",
       "      <th>0</th>\n",
       "      <td>Trent Boult</td>\n",
       "      <td>NZ</td>\n",
       "      <td>722</td>\n",
       "    </tr>\n",
       "    <tr>\n",
       "      <th>1</th>\n",
       "      <td>Mujeeb Ur Rahman</td>\n",
       "      <td>AFG</td>\n",
       "      <td>701</td>\n",
       "    </tr>\n",
       "    <tr>\n",
       "      <th>2</th>\n",
       "      <td>Jasprit Bumrah</td>\n",
       "      <td>IND</td>\n",
       "      <td>700</td>\n",
       "    </tr>\n",
       "    <tr>\n",
       "      <th>3</th>\n",
       "      <td>Chris Woakes</td>\n",
       "      <td>ENG</td>\n",
       "      <td>675</td>\n",
       "    </tr>\n",
       "    <tr>\n",
       "      <th>4</th>\n",
       "      <td>Kagiso Rabada</td>\n",
       "      <td>SA</td>\n",
       "      <td>665</td>\n",
       "    </tr>\n",
       "    <tr>\n",
       "      <th>5</th>\n",
       "      <td>Josh Hazlewood</td>\n",
       "      <td>AUS</td>\n",
       "      <td>660</td>\n",
       "    </tr>\n",
       "    <tr>\n",
       "      <th>6</th>\n",
       "      <td>Mohammad Amir</td>\n",
       "      <td>PAK</td>\n",
       "      <td>647</td>\n",
       "    </tr>\n",
       "    <tr>\n",
       "      <th>7</th>\n",
       "      <td>Pat Cummins</td>\n",
       "      <td>AUS</td>\n",
       "      <td>646</td>\n",
       "    </tr>\n",
       "    <tr>\n",
       "      <th>8</th>\n",
       "      <td>Matt Henry</td>\n",
       "      <td>NZ</td>\n",
       "      <td>641</td>\n",
       "    </tr>\n",
       "    <tr>\n",
       "      <th>9</th>\n",
       "      <td>Jofra Archer</td>\n",
       "      <td>ENG</td>\n",
       "      <td>637</td>\n",
       "    </tr>\n",
       "  </tbody>\n",
       "</table>\n",
       "</div>"
      ],
      "text/plain": [
       "             bowler team rating\n",
       "0       Trent Boult   NZ    722\n",
       "1  Mujeeb Ur Rahman  AFG    701\n",
       "2    Jasprit Bumrah  IND    700\n",
       "3      Chris Woakes  ENG    675\n",
       "4     Kagiso Rabada   SA    665\n",
       "5    Josh Hazlewood  AUS    660\n",
       "6     Mohammad Amir  PAK    647\n",
       "7       Pat Cummins  AUS    646\n",
       "8        Matt Henry   NZ    641\n",
       "9      Jofra Archer  ENG    637"
      ]
     },
     "execution_count": 100,
     "metadata": {},
     "output_type": "execute_result"
    }
   ],
   "source": [
    "mens_odi_bowling=pd.DataFrame({})\n",
    "mens_odi_bowling['bowler']=new_bowler[0:10]\n",
    "mens_odi_bowling['team']=new_team[0:10]\n",
    "mens_odi_bowling['rating']=new_rating[0:10]\n",
    "mens_odi_bowling"
   ]
  },
  {
   "cell_type": "markdown",
   "metadata": {},
   "source": [
    "## 6.womens ODI Team Rankings"
   ]
  },
  {
   "cell_type": "markdown",
   "metadata": {},
   "source": [
    "## i)Top 10 ODI teams in women’s cricket"
   ]
  },
  {
   "cell_type": "code",
   "execution_count": 101,
   "metadata": {},
   "outputs": [],
   "source": [
    "import selenium\n",
    "import pandas as pd\n",
    "from selenium import webdriver"
   ]
  },
  {
   "cell_type": "code",
   "execution_count": 102,
   "metadata": {},
   "outputs": [],
   "source": [
    "#lets connect to the webdriver\n",
    "driver=webdriver.Chrome(r\"C:\\Users\\Hp\\Desktop\\chromedriver.exe\")"
   ]
  },
  {
   "cell_type": "code",
   "execution_count": 103,
   "metadata": {},
   "outputs": [],
   "source": [
    "#specifying the url of the webpage to be scraped\n",
    "url=\"https://www.icc-cricket.com/rankings/womens/team-rankings/odi\""
   ]
  },
  {
   "cell_type": "code",
   "execution_count": 104,
   "metadata": {},
   "outputs": [],
   "source": [
    "#lets open driver\n",
    "driver.get(url)"
   ]
  },
  {
   "cell_type": "code",
   "execution_count": 105,
   "metadata": {},
   "outputs": [],
   "source": [
    "team=[]\n",
    "matches=[]\n",
    "points=[]\n",
    "rating=[]"
   ]
  },
  {
   "cell_type": "code",
   "execution_count": 106,
   "metadata": {},
   "outputs": [
    {
     "data": {
      "text/plain": [
       "['Australia',\n",
       " 'India',\n",
       " 'England',\n",
       " 'South Africa',\n",
       " 'New Zealand',\n",
       " 'West Indies',\n",
       " 'Pakistan',\n",
       " 'Bangladesh',\n",
       " 'Sri Lanka',\n",
       " 'Ireland']"
      ]
     },
     "execution_count": 106,
     "metadata": {},
     "output_type": "execute_result"
    }
   ],
   "source": [
    "team_tags=driver.find_elements_by_xpath(\"//span[@class='u-hide-phablet']\")\n",
    "team_tags[0:4]\n",
    "for i in team_tags:\n",
    "    title=i.text\n",
    "    team.append(title)\n",
    "team"
   ]
  },
  {
   "cell_type": "code",
   "execution_count": 107,
   "metadata": {},
   "outputs": [
    {
     "data": {
      "text/plain": [
       "['15']"
      ]
     },
     "execution_count": 107,
     "metadata": {},
     "output_type": "execute_result"
    }
   ],
   "source": [
    "matches_tags=driver.find_elements_by_xpath(\"//td[@class='rankings-block__banner--matches']\")\n",
    "matches_tags\n",
    "match=[]\n",
    "for i in matches_tags:\n",
    "    title=i.text\n",
    "    match.append(title)\n",
    "match"
   ]
  },
  {
   "cell_type": "code",
   "execution_count": 108,
   "metadata": {},
   "outputs": [
    {
     "data": {
      "text/plain": [
       "['15',\n",
       " '1,812',\n",
       " '14',\n",
       " '1,670',\n",
       " '16',\n",
       " '1,713',\n",
       " '15',\n",
       " '1,384',\n",
       " '12',\n",
       " '1,025',\n",
       " '12',\n",
       " '927',\n",
       " '5',\n",
       " '306',\n",
       " '11',\n",
       " '519',\n",
       " '2',\n",
       " '25']"
      ]
     },
     "execution_count": 108,
     "metadata": {},
     "output_type": "execute_result"
    }
   ],
   "source": [
    "matches_tags=driver.find_elements_by_xpath(\"//td[@class='table-body__cell u-center-text']\")\n",
    "matches_tags[0:4]\n",
    "for i in matches_tags:\n",
    "    title=i.text\n",
    "    matches.append(title)\n",
    "matches"
   ]
  },
  {
   "cell_type": "code",
   "execution_count": 109,
   "metadata": {},
   "outputs": [],
   "source": [
    "def split(matches):\n",
    "    return matches[::2],matches[1::2]\n"
   ]
  },
  {
   "cell_type": "code",
   "execution_count": 110,
   "metadata": {},
   "outputs": [
    {
     "data": {
      "text/plain": [
       "['1,812', '1,670', '1,713', '1,384', '1,025', '927', '306', '519', '25']"
      ]
     },
     "execution_count": 110,
     "metadata": {},
     "output_type": "execute_result"
    }
   ],
   "source": [
    "matchess=matches[::2]\n",
    "matchess\n",
    "point=matches[1::2]\n",
    "point"
   ]
  },
  {
   "cell_type": "code",
   "execution_count": 111,
   "metadata": {},
   "outputs": [
    {
     "data": {
      "text/plain": [
       "['15', '15', '14', '16', '15', '12', '12', '5', '11', '2']"
      ]
     },
     "execution_count": 111,
     "metadata": {},
     "output_type": "execute_result"
    }
   ],
   "source": [
    "match.append(matchess)\n",
    "from nltk import flatten\n",
    "new_matches=flatten(match)\n",
    "new_matches"
   ]
  },
  {
   "cell_type": "code",
   "execution_count": 112,
   "metadata": {},
   "outputs": [
    {
     "data": {
      "text/plain": [
       "['2,436']"
      ]
     },
     "execution_count": 112,
     "metadata": {},
     "output_type": "execute_result"
    }
   ],
   "source": [
    "points_tag=driver.find_elements_by_xpath(\"//td[@class='rankings-block__banner--points']\")\n",
    "points_tag\n",
    "for i in points_tag:\n",
    "    title=i.text\n",
    "    points.append(title)\n",
    "points"
   ]
  },
  {
   "cell_type": "code",
   "execution_count": 113,
   "metadata": {},
   "outputs": [
    {
     "data": {
      "text/plain": [
       "['2,436',\n",
       " '1,812',\n",
       " '1,670',\n",
       " '1,713',\n",
       " '1,384',\n",
       " '1,025',\n",
       " '927',\n",
       " '306',\n",
       " '519',\n",
       " '25']"
      ]
     },
     "execution_count": 113,
     "metadata": {},
     "output_type": "execute_result"
    }
   ],
   "source": [
    "points.append(point)\n",
    "from nltk import flatten\n",
    "new_points=flatten(points)\n",
    "new_points"
   ]
  },
  {
   "cell_type": "code",
   "execution_count": 114,
   "metadata": {},
   "outputs": [
    {
     "data": {
      "text/plain": [
       "['162']"
      ]
     },
     "execution_count": 114,
     "metadata": {},
     "output_type": "execute_result"
    }
   ],
   "source": [
    "rating_tag=driver.find_elements_by_xpath(\"//td[@class='rankings-block__banner--rating u-text-right']\")\n",
    "rating_tag[0:4]\n",
    "for i in rating_tag:\n",
    "    title=i.text\n",
    "    rating.append(title)\n",
    "rating"
   ]
  },
  {
   "cell_type": "code",
   "execution_count": 115,
   "metadata": {},
   "outputs": [
    {
     "data": {
      "text/plain": [
       "[<selenium.webdriver.remote.webelement.WebElement (session=\"8e9d70651f8c1791648a0227454fc4ce\", element=\"50cc0464-d851-431d-8eee-23713fce7233\")>,\n",
       " <selenium.webdriver.remote.webelement.WebElement (session=\"8e9d70651f8c1791648a0227454fc4ce\", element=\"72c61bbf-6991-4d3b-87bf-0bd6da12cbe2\")>,\n",
       " <selenium.webdriver.remote.webelement.WebElement (session=\"8e9d70651f8c1791648a0227454fc4ce\", element=\"9e436aec-380f-4058-914d-2df51428cbf4\")>,\n",
       " <selenium.webdriver.remote.webelement.WebElement (session=\"8e9d70651f8c1791648a0227454fc4ce\", element=\"0a8f4344-d5f7-4357-ae6a-360af51372ba\")>]"
      ]
     },
     "execution_count": 115,
     "metadata": {},
     "output_type": "execute_result"
    }
   ],
   "source": [
    "rating_tag=driver.find_elements_by_xpath(\"//td[@class='table-body__cell u-text-right rating']\")\n",
    "rating_tag[0:4]"
   ]
  },
  {
   "cell_type": "code",
   "execution_count": 116,
   "metadata": {},
   "outputs": [
    {
     "data": {
      "text/plain": [
       "['121', '119', '107', '92', '85', '77', '61', '47', '13']"
      ]
     },
     "execution_count": 116,
     "metadata": {},
     "output_type": "execute_result"
    }
   ],
   "source": [
    "rat=[]\n",
    "for i in rating_tag:\n",
    "    title=i.text\n",
    "    rat.append(title)\n",
    "rat"
   ]
  },
  {
   "cell_type": "code",
   "execution_count": 117,
   "metadata": {},
   "outputs": [
    {
     "data": {
      "text/plain": [
       "['162', '121', '119', '107', '92', '85', '77', '61', '47', '13']"
      ]
     },
     "execution_count": 117,
     "metadata": {},
     "output_type": "execute_result"
    }
   ],
   "source": [
    "rating.append(rat)\n",
    "rating\n",
    "from nltk import flatten\n",
    "ratings=flatten(rating)\n",
    "ratings"
   ]
  },
  {
   "cell_type": "code",
   "execution_count": 118,
   "metadata": {},
   "outputs": [
    {
     "data": {
      "text/html": [
       "<div>\n",
       "<style scoped>\n",
       "    .dataframe tbody tr th:only-of-type {\n",
       "        vertical-align: middle;\n",
       "    }\n",
       "\n",
       "    .dataframe tbody tr th {\n",
       "        vertical-align: top;\n",
       "    }\n",
       "\n",
       "    .dataframe thead th {\n",
       "        text-align: right;\n",
       "    }\n",
       "</style>\n",
       "<table border=\"1\" class=\"dataframe\">\n",
       "  <thead>\n",
       "    <tr style=\"text-align: right;\">\n",
       "      <th></th>\n",
       "      <th>team</th>\n",
       "      <th>matches</th>\n",
       "      <th>points</th>\n",
       "      <th>rating</th>\n",
       "    </tr>\n",
       "  </thead>\n",
       "  <tbody>\n",
       "    <tr>\n",
       "      <th>0</th>\n",
       "      <td>Australia</td>\n",
       "      <td>15</td>\n",
       "      <td>2,436</td>\n",
       "      <td>162</td>\n",
       "    </tr>\n",
       "    <tr>\n",
       "      <th>1</th>\n",
       "      <td>India</td>\n",
       "      <td>15</td>\n",
       "      <td>1,812</td>\n",
       "      <td>121</td>\n",
       "    </tr>\n",
       "    <tr>\n",
       "      <th>2</th>\n",
       "      <td>England</td>\n",
       "      <td>14</td>\n",
       "      <td>1,670</td>\n",
       "      <td>119</td>\n",
       "    </tr>\n",
       "    <tr>\n",
       "      <th>3</th>\n",
       "      <td>South Africa</td>\n",
       "      <td>16</td>\n",
       "      <td>1,713</td>\n",
       "      <td>107</td>\n",
       "    </tr>\n",
       "    <tr>\n",
       "      <th>4</th>\n",
       "      <td>New Zealand</td>\n",
       "      <td>15</td>\n",
       "      <td>1,384</td>\n",
       "      <td>92</td>\n",
       "    </tr>\n",
       "    <tr>\n",
       "      <th>5</th>\n",
       "      <td>West Indies</td>\n",
       "      <td>12</td>\n",
       "      <td>1,025</td>\n",
       "      <td>85</td>\n",
       "    </tr>\n",
       "    <tr>\n",
       "      <th>6</th>\n",
       "      <td>Pakistan</td>\n",
       "      <td>12</td>\n",
       "      <td>927</td>\n",
       "      <td>77</td>\n",
       "    </tr>\n",
       "    <tr>\n",
       "      <th>7</th>\n",
       "      <td>Bangladesh</td>\n",
       "      <td>5</td>\n",
       "      <td>306</td>\n",
       "      <td>61</td>\n",
       "    </tr>\n",
       "    <tr>\n",
       "      <th>8</th>\n",
       "      <td>Sri Lanka</td>\n",
       "      <td>11</td>\n",
       "      <td>519</td>\n",
       "      <td>47</td>\n",
       "    </tr>\n",
       "    <tr>\n",
       "      <th>9</th>\n",
       "      <td>Ireland</td>\n",
       "      <td>2</td>\n",
       "      <td>25</td>\n",
       "      <td>13</td>\n",
       "    </tr>\n",
       "  </tbody>\n",
       "</table>\n",
       "</div>"
      ],
      "text/plain": [
       "           team matches points rating\n",
       "0     Australia      15  2,436    162\n",
       "1         India      15  1,812    121\n",
       "2       England      14  1,670    119\n",
       "3  South Africa      16  1,713    107\n",
       "4   New Zealand      15  1,384     92\n",
       "5   West Indies      12  1,025     85\n",
       "6      Pakistan      12    927     77\n",
       "7    Bangladesh       5    306     61\n",
       "8     Sri Lanka      11    519     47\n",
       "9       Ireland       2     25     13"
      ]
     },
     "execution_count": 118,
     "metadata": {},
     "output_type": "execute_result"
    }
   ],
   "source": [
    "odi_women_ranking=pd.DataFrame({})\n",
    "odi_women_ranking['team']=team[0:]\n",
    "odi_women_ranking['matches']=new_matches[0:]\n",
    "odi_women_ranking['points']=new_points[0:]\n",
    "odi_women_ranking['rating']=ratings[0:]\n",
    "odi_women_ranking"
   ]
  },
  {
   "cell_type": "markdown",
   "metadata": {},
   "source": [
    "## ii)Top 10 women’s ODI players"
   ]
  },
  {
   "cell_type": "code",
   "execution_count": 119,
   "metadata": {},
   "outputs": [],
   "source": [
    "#specifying the url of the webpage to be scraped\n",
    "url=\"https://www.icc-cricket.com/rankings/womens/player-rankings/odi/batting\""
   ]
  },
  {
   "cell_type": "code",
   "execution_count": 120,
   "metadata": {},
   "outputs": [],
   "source": [
    "driver.get(url)"
   ]
  },
  {
   "cell_type": "code",
   "execution_count": 121,
   "metadata": {},
   "outputs": [],
   "source": [
    "player=[]\n",
    "team=[]\n",
    "rating=[]"
   ]
  },
  {
   "cell_type": "code",
   "execution_count": 122,
   "metadata": {},
   "outputs": [
    {
     "data": {
      "text/plain": [
       "['Meg Lanning']"
      ]
     },
     "execution_count": 122,
     "metadata": {},
     "output_type": "execute_result"
    }
   ],
   "source": [
    "player_tags=driver.find_elements_by_xpath(\"//div[@class='rankings-block__banner--name-large']\")\n",
    "player_tags\n",
    "for i in player_tags:\n",
    "    title=i.text\n",
    "    player.append(title)\n",
    "player"
   ]
  },
  {
   "cell_type": "code",
   "execution_count": 123,
   "metadata": {},
   "outputs": [
    {
     "data": {
      "text/plain": [
       "['Stafanie Taylor',\n",
       " 'Alyssa Healy',\n",
       " 'Smriti Mandhana',\n",
       " 'Amy Satterthwaite',\n",
       " 'Tammy Beaumont',\n",
       " 'Ellyse Perry',\n",
       " 'Lizelle Lee',\n",
       " 'Laura Wolvaardt',\n",
       " 'Mithali Raj',\n",
       " 'Natalie Sciver',\n",
       " 'Chamari Athapaththu',\n",
       " 'Rachael Haynes',\n",
       " 'Suzie Bates',\n",
       " 'Sophie Devine',\n",
       " 'Heather Knight',\n",
       " 'Beth Mooney',\n",
       " 'Nahida Khan',\n",
       " 'Mignon du Preez',\n",
       " 'Harmanpreet Kaur',\n",
       " 'Dane van Niekerk',\n",
       " 'Deepti Sharma',\n",
       " 'Bismah Maroof',\n",
       " 'Javeria Khan',\n",
       " 'Poonam Raut',\n",
       " 'Marizanne Kapp',\n",
       " 'Chloe-Lesleigh Tryon',\n",
       " 'Amy Jones',\n",
       " 'Nicole Bolton',\n",
       " 'Katie Perkins',\n",
       " 'Hayley Matthews',\n",
       " 'Danielle Wyatt',\n",
       " 'Fargana Hoque',\n",
       " 'Sune Luus',\n",
       " 'Rumana Ahmed',\n",
       " 'Jemimah Rodriques',\n",
       " 'Ashleigh Gardner',\n",
       " 'Katey Martin',\n",
       " 'Trisha Chetty',\n",
       " 'Jess Jonassen',\n",
       " 'Shikha Pandey',\n",
       " 'Katherine Brunt',\n",
       " 'Harshitha Madavi',\n",
       " 'Fran Wilson',\n",
       " 'Jhulan Goswami',\n",
       " 'Rachel Priest',\n",
       " 'Maddie Green',\n",
       " 'Shemaine Campbelle',\n",
       " 'Dilani Manodara',\n",
       " 'Nigar Sultana',\n",
       " 'Aliya Riaz',\n",
       " 'Chedean Nation',\n",
       " 'Kyshona Knight',\n",
       " 'Sidra Ameen',\n",
       " 'Nida Dar',\n",
       " 'Kycia Knight',\n",
       " 'Andrie Steyn',\n",
       " 'Priya Punia',\n",
       " 'Amelia Kerr',\n",
       " 'Taniya Bhatia',\n",
       " 'Nilakshi Silva',\n",
       " 'Sheneta Grimmond',\n",
       " 'Poonam Yadav',\n",
       " 'Salma Khatun',\n",
       " 'Leigh Kasperek',\n",
       " 'Anya Shrubsole',\n",
       " 'Nicola Carey',\n",
       " 'Umaima Sohail',\n",
       " 'Avanthika Mendis',\n",
       " 'Natasha McLean',\n",
       " 'Sharmin Supta',\n",
       " 'Anushka Sanjeewani',\n",
       " 'Kate Cross',\n",
       " 'Inoka Ranaweera',\n",
       " 'Stacy-Ann King',\n",
       " 'Rajeshwari Gayakwad',\n",
       " 'Megan Schutt',\n",
       " 'Oshadi Ranasinghe',\n",
       " 'Lara Goodall',\n",
       " 'Hayley Jensen',\n",
       " 'Chinelle Henry',\n",
       " 'Nashra Sandhu',\n",
       " 'Shamilia Connell',\n",
       " 'Lea Tahuhu',\n",
       " 'Sanjida Islam',\n",
       " 'Sophie Ecclestone',\n",
       " 'Bernadine Bezuidenhout',\n",
       " 'Afy Fletcher',\n",
       " 'Shabnim Ismail',\n",
       " 'Panna Ghosh',\n",
       " 'Holly Huddleston',\n",
       " 'Georgia Wareham',\n",
       " 'Hannah Rowe',\n",
       " 'Ekta Bisht',\n",
       " 'Ama Kanchana',\n",
       " 'Anisa Mohammed',\n",
       " 'Ayabonga Khaka',\n",
       " 'Britney Cooper',\n",
       " 'Tahlia McGrath',\n",
       " 'Sidra Nawaz']"
      ]
     },
     "execution_count": 123,
     "metadata": {},
     "output_type": "execute_result"
    }
   ],
   "source": [
    "players=[]\n",
    "player_tags=driver.find_elements_by_xpath(\"//td[@class='table-body__cell rankings-table__name name']\")\n",
    "player_tags\n",
    "for i in player_tags:\n",
    "    title=i.text\n",
    "    players.append(title)\n",
    "players"
   ]
  },
  {
   "cell_type": "code",
   "execution_count": 124,
   "metadata": {},
   "outputs": [
    {
     "data": {
      "text/plain": [
       "['Meg Lanning',\n",
       " 'Stafanie Taylor',\n",
       " 'Alyssa Healy',\n",
       " 'Smriti Mandhana',\n",
       " 'Amy Satterthwaite',\n",
       " 'Tammy Beaumont',\n",
       " 'Ellyse Perry',\n",
       " 'Lizelle Lee',\n",
       " 'Laura Wolvaardt',\n",
       " 'Mithali Raj',\n",
       " 'Natalie Sciver',\n",
       " 'Chamari Athapaththu',\n",
       " 'Rachael Haynes',\n",
       " 'Suzie Bates',\n",
       " 'Sophie Devine',\n",
       " 'Heather Knight',\n",
       " 'Beth Mooney',\n",
       " 'Nahida Khan',\n",
       " 'Mignon du Preez',\n",
       " 'Harmanpreet Kaur',\n",
       " 'Dane van Niekerk',\n",
       " 'Deepti Sharma',\n",
       " 'Bismah Maroof',\n",
       " 'Javeria Khan',\n",
       " 'Poonam Raut',\n",
       " 'Marizanne Kapp',\n",
       " 'Chloe-Lesleigh Tryon',\n",
       " 'Amy Jones',\n",
       " 'Nicole Bolton',\n",
       " 'Katie Perkins',\n",
       " 'Hayley Matthews',\n",
       " 'Danielle Wyatt',\n",
       " 'Fargana Hoque',\n",
       " 'Sune Luus',\n",
       " 'Rumana Ahmed',\n",
       " 'Jemimah Rodriques',\n",
       " 'Ashleigh Gardner',\n",
       " 'Katey Martin',\n",
       " 'Trisha Chetty',\n",
       " 'Jess Jonassen',\n",
       " 'Shikha Pandey',\n",
       " 'Katherine Brunt',\n",
       " 'Harshitha Madavi',\n",
       " 'Fran Wilson',\n",
       " 'Jhulan Goswami',\n",
       " 'Rachel Priest',\n",
       " 'Maddie Green',\n",
       " 'Shemaine Campbelle',\n",
       " 'Dilani Manodara',\n",
       " 'Nigar Sultana',\n",
       " 'Aliya Riaz',\n",
       " 'Chedean Nation',\n",
       " 'Kyshona Knight',\n",
       " 'Sidra Ameen',\n",
       " 'Nida Dar',\n",
       " 'Kycia Knight',\n",
       " 'Andrie Steyn',\n",
       " 'Priya Punia',\n",
       " 'Amelia Kerr',\n",
       " 'Taniya Bhatia',\n",
       " 'Nilakshi Silva',\n",
       " 'Sheneta Grimmond',\n",
       " 'Poonam Yadav',\n",
       " 'Salma Khatun',\n",
       " 'Leigh Kasperek',\n",
       " 'Anya Shrubsole',\n",
       " 'Nicola Carey',\n",
       " 'Umaima Sohail',\n",
       " 'Avanthika Mendis',\n",
       " 'Natasha McLean',\n",
       " 'Sharmin Supta',\n",
       " 'Anushka Sanjeewani',\n",
       " 'Kate Cross',\n",
       " 'Inoka Ranaweera',\n",
       " 'Stacy-Ann King',\n",
       " 'Rajeshwari Gayakwad',\n",
       " 'Megan Schutt',\n",
       " 'Oshadi Ranasinghe',\n",
       " 'Lara Goodall',\n",
       " 'Hayley Jensen',\n",
       " 'Chinelle Henry',\n",
       " 'Nashra Sandhu',\n",
       " 'Shamilia Connell',\n",
       " 'Lea Tahuhu',\n",
       " 'Sanjida Islam',\n",
       " 'Sophie Ecclestone',\n",
       " 'Bernadine Bezuidenhout',\n",
       " 'Afy Fletcher',\n",
       " 'Shabnim Ismail',\n",
       " 'Panna Ghosh',\n",
       " 'Holly Huddleston',\n",
       " 'Georgia Wareham',\n",
       " 'Hannah Rowe',\n",
       " 'Ekta Bisht',\n",
       " 'Ama Kanchana',\n",
       " 'Anisa Mohammed',\n",
       " 'Ayabonga Khaka',\n",
       " 'Britney Cooper',\n",
       " 'Tahlia McGrath',\n",
       " 'Sidra Nawaz']"
      ]
     },
     "execution_count": 124,
     "metadata": {},
     "output_type": "execute_result"
    }
   ],
   "source": [
    "player.append(players)\n",
    "player\n",
    "from nltk import flatten\n",
    "new_player=flatten(player)\n",
    "new_player"
   ]
  },
  {
   "cell_type": "code",
   "execution_count": 125,
   "metadata": {},
   "outputs": [
    {
     "data": {
      "text/plain": [
       "['AUS']"
      ]
     },
     "execution_count": 125,
     "metadata": {},
     "output_type": "execute_result"
    }
   ],
   "source": [
    "team_tags=driver.find_elements_by_xpath(\"//div[@class='rankings-block__banner--nationality']\")\n",
    "team_tags[0:4]\n",
    "for i in team_tags:\n",
    "    title=i.text\n",
    "    team.append(title)\n",
    "team"
   ]
  },
  {
   "cell_type": "code",
   "execution_count": 126,
   "metadata": {},
   "outputs": [
    {
     "data": {
      "text/plain": [
       "['WI',\n",
       " 'AUS',\n",
       " 'IND',\n",
       " 'NZ',\n",
       " 'ENG',\n",
       " 'AUS',\n",
       " 'SA',\n",
       " 'SA',\n",
       " 'IND',\n",
       " 'ENG',\n",
       " 'SL',\n",
       " 'AUS',\n",
       " 'NZ',\n",
       " 'NZ',\n",
       " 'ENG',\n",
       " 'AUS',\n",
       " 'PAK',\n",
       " 'SA',\n",
       " 'IND',\n",
       " 'SA',\n",
       " 'IND',\n",
       " 'PAK',\n",
       " 'PAK',\n",
       " 'IND',\n",
       " 'SA',\n",
       " 'SA',\n",
       " 'ENG',\n",
       " 'AUS',\n",
       " 'NZ',\n",
       " 'WI',\n",
       " 'ENG',\n",
       " 'BAN',\n",
       " 'SA',\n",
       " 'BAN',\n",
       " 'IND',\n",
       " 'AUS',\n",
       " 'NZ',\n",
       " 'SA',\n",
       " 'AUS',\n",
       " 'IND',\n",
       " 'ENG',\n",
       " 'SL',\n",
       " 'ENG',\n",
       " 'IND',\n",
       " 'NZ',\n",
       " 'NZ',\n",
       " 'WI',\n",
       " 'SL',\n",
       " 'BAN',\n",
       " 'PAK',\n",
       " 'WI',\n",
       " 'WI',\n",
       " 'PAK',\n",
       " 'PAK',\n",
       " 'WI',\n",
       " 'SA',\n",
       " 'IND',\n",
       " 'NZ',\n",
       " 'IND',\n",
       " 'SL',\n",
       " 'WI',\n",
       " 'IND',\n",
       " 'BAN',\n",
       " 'NZ',\n",
       " 'ENG',\n",
       " 'AUS',\n",
       " 'PAK',\n",
       " 'SL',\n",
       " 'WI',\n",
       " 'BAN',\n",
       " 'SL',\n",
       " 'ENG',\n",
       " 'SL',\n",
       " 'WI',\n",
       " 'IND',\n",
       " 'AUS',\n",
       " 'SL',\n",
       " 'SA',\n",
       " 'NZ',\n",
       " 'WI',\n",
       " 'PAK',\n",
       " 'WI',\n",
       " 'NZ',\n",
       " 'BAN',\n",
       " 'ENG',\n",
       " 'NZ',\n",
       " 'WI',\n",
       " 'SA',\n",
       " 'BAN',\n",
       " 'NZ',\n",
       " 'AUS',\n",
       " 'NZ',\n",
       " 'IND',\n",
       " 'SL',\n",
       " 'WI',\n",
       " 'SA',\n",
       " 'WI',\n",
       " 'AUS',\n",
       " 'PAK']"
      ]
     },
     "execution_count": 126,
     "metadata": {},
     "output_type": "execute_result"
    }
   ],
   "source": [
    "teams=[]\n",
    "team_tags=driver.find_elements_by_xpath(\"//span[@class='table-body__logo-text']\")\n",
    "team_tags[0:4]\n",
    "for i in team_tags:\n",
    "    title=i.text\n",
    "    teams.append(title)\n",
    "teams"
   ]
  },
  {
   "cell_type": "code",
   "execution_count": 127,
   "metadata": {},
   "outputs": [],
   "source": [
    "team.append(teams)\n",
    "from nltk import flatten\n",
    "new_team=flatten(team)\n"
   ]
  },
  {
   "cell_type": "code",
   "execution_count": 128,
   "metadata": {},
   "outputs": [
    {
     "data": {
      "text/plain": [
       "['749']"
      ]
     },
     "execution_count": 128,
     "metadata": {},
     "output_type": "execute_result"
    }
   ],
   "source": [
    "rating_tag=driver.find_elements_by_xpath(\"//div[@class='rankings-block__banner--rating']\")\n",
    "rating_tag[0:4]\n",
    "for i in rating_tag:\n",
    "    title=i.text\n",
    "    rating.append(title)\n",
    "rating"
   ]
  },
  {
   "cell_type": "code",
   "execution_count": 129,
   "metadata": {},
   "outputs": [
    {
     "data": {
      "text/plain": [
       "['746',\n",
       " '741',\n",
       " '732',\n",
       " '723',\n",
       " '716',\n",
       " '691',\n",
       " '690',\n",
       " '689',\n",
       " '687',\n",
       " '670',\n",
       " '667',\n",
       " '655',\n",
       " '651',\n",
       " '649',\n",
       " '641',\n",
       " '603',\n",
       " '600',\n",
       " '597',\n",
       " '594',\n",
       " '585',\n",
       " '562',\n",
       " '553',\n",
       " '551',\n",
       " '543',\n",
       " '528',\n",
       " '514',\n",
       " '511',\n",
       " '484',\n",
       " '466',\n",
       " '461',\n",
       " '448',\n",
       " '445',\n",
       " '437',\n",
       " '437',\n",
       " '409',\n",
       " '399',\n",
       " '396',\n",
       " '385',\n",
       " '375',\n",
       " '371',\n",
       " '368',\n",
       " '353',\n",
       " '352',\n",
       " '325',\n",
       " '322',\n",
       " '320',\n",
       " '319',\n",
       " '319',\n",
       " '317',\n",
       " '299',\n",
       " '292',\n",
       " '281',\n",
       " '280',\n",
       " '280',\n",
       " '276',\n",
       " '275',\n",
       " '269',\n",
       " '269',\n",
       " '266',\n",
       " '261',\n",
       " '252',\n",
       " '248',\n",
       " '244',\n",
       " '240',\n",
       " '239',\n",
       " '236',\n",
       " '227',\n",
       " '226',\n",
       " '224',\n",
       " '221',\n",
       " '211',\n",
       " '208',\n",
       " '205',\n",
       " '201',\n",
       " '198',\n",
       " '195',\n",
       " '195',\n",
       " '191',\n",
       " '191',\n",
       " '188',\n",
       " '186',\n",
       " '186',\n",
       " '184',\n",
       " '181',\n",
       " '179',\n",
       " '177',\n",
       " '175',\n",
       " '170',\n",
       " '166',\n",
       " '164',\n",
       " '163',\n",
       " '162',\n",
       " '162',\n",
       " '161',\n",
       " '161',\n",
       " '151',\n",
       " '149',\n",
       " '145',\n",
       " '145']"
      ]
     },
     "execution_count": 129,
     "metadata": {},
     "output_type": "execute_result"
    }
   ],
   "source": [
    "rating_tag=driver.find_elements_by_xpath(\"//td[@class='table-body__cell rating']\")\n",
    "rating_tag[0:4]\n",
    "rat=[]\n",
    "for i in rating_tag:\n",
    "    title=i.text\n",
    "    rat.append(title)\n",
    "rat"
   ]
  },
  {
   "cell_type": "code",
   "execution_count": 130,
   "metadata": {},
   "outputs": [],
   "source": [
    "rating.append(rat)\n",
    "from nltk import flatten\n",
    "new_rating=flatten(rating)\n"
   ]
  },
  {
   "cell_type": "code",
   "execution_count": 131,
   "metadata": {},
   "outputs": [
    {
     "data": {
      "text/html": [
       "<div>\n",
       "<style scoped>\n",
       "    .dataframe tbody tr th:only-of-type {\n",
       "        vertical-align: middle;\n",
       "    }\n",
       "\n",
       "    .dataframe tbody tr th {\n",
       "        vertical-align: top;\n",
       "    }\n",
       "\n",
       "    .dataframe thead th {\n",
       "        text-align: right;\n",
       "    }\n",
       "</style>\n",
       "<table border=\"1\" class=\"dataframe\">\n",
       "  <thead>\n",
       "    <tr style=\"text-align: right;\">\n",
       "      <th></th>\n",
       "      <th>players</th>\n",
       "      <th>team</th>\n",
       "      <th>rating</th>\n",
       "    </tr>\n",
       "  </thead>\n",
       "  <tbody>\n",
       "    <tr>\n",
       "      <th>0</th>\n",
       "      <td>Meg Lanning</td>\n",
       "      <td>AUS</td>\n",
       "      <td>749</td>\n",
       "    </tr>\n",
       "    <tr>\n",
       "      <th>1</th>\n",
       "      <td>Stafanie Taylor</td>\n",
       "      <td>WI</td>\n",
       "      <td>746</td>\n",
       "    </tr>\n",
       "    <tr>\n",
       "      <th>2</th>\n",
       "      <td>Alyssa Healy</td>\n",
       "      <td>AUS</td>\n",
       "      <td>741</td>\n",
       "    </tr>\n",
       "    <tr>\n",
       "      <th>3</th>\n",
       "      <td>Smriti Mandhana</td>\n",
       "      <td>IND</td>\n",
       "      <td>732</td>\n",
       "    </tr>\n",
       "    <tr>\n",
       "      <th>4</th>\n",
       "      <td>Amy Satterthwaite</td>\n",
       "      <td>NZ</td>\n",
       "      <td>723</td>\n",
       "    </tr>\n",
       "    <tr>\n",
       "      <th>5</th>\n",
       "      <td>Tammy Beaumont</td>\n",
       "      <td>ENG</td>\n",
       "      <td>716</td>\n",
       "    </tr>\n",
       "    <tr>\n",
       "      <th>6</th>\n",
       "      <td>Ellyse Perry</td>\n",
       "      <td>AUS</td>\n",
       "      <td>691</td>\n",
       "    </tr>\n",
       "    <tr>\n",
       "      <th>7</th>\n",
       "      <td>Lizelle Lee</td>\n",
       "      <td>SA</td>\n",
       "      <td>690</td>\n",
       "    </tr>\n",
       "    <tr>\n",
       "      <th>8</th>\n",
       "      <td>Laura Wolvaardt</td>\n",
       "      <td>SA</td>\n",
       "      <td>689</td>\n",
       "    </tr>\n",
       "    <tr>\n",
       "      <th>9</th>\n",
       "      <td>Mithali Raj</td>\n",
       "      <td>IND</td>\n",
       "      <td>687</td>\n",
       "    </tr>\n",
       "  </tbody>\n",
       "</table>\n",
       "</div>"
      ],
      "text/plain": [
       "             players team rating\n",
       "0        Meg Lanning  AUS    749\n",
       "1    Stafanie Taylor   WI    746\n",
       "2       Alyssa Healy  AUS    741\n",
       "3    Smriti Mandhana  IND    732\n",
       "4  Amy Satterthwaite   NZ    723\n",
       "5     Tammy Beaumont  ENG    716\n",
       "6       Ellyse Perry  AUS    691\n",
       "7        Lizelle Lee   SA    690\n",
       "8    Laura Wolvaardt   SA    689\n",
       "9        Mithali Raj  IND    687"
      ]
     },
     "execution_count": 131,
     "metadata": {},
     "output_type": "execute_result"
    }
   ],
   "source": [
    "odi_women_players=pd.DataFrame({})\n",
    "odi_women_players['players']=new_player[0:10]\n",
    "odi_women_players['team']=new_team[0:10]\n",
    "odi_women_players['rating']=new_rating[0:10]\n",
    "odi_women_players"
   ]
  },
  {
   "cell_type": "markdown",
   "metadata": {},
   "source": [
    "## iii)Top 10 women’s ODI all-rounder"
   ]
  },
  {
   "cell_type": "code",
   "execution_count": 132,
   "metadata": {},
   "outputs": [],
   "source": [
    "#specifying the url of the webpage to be scraped\n",
    "url=\"https://www.icc-cricket.com/rankings/womens/player-rankings/odi/all-rounder\""
   ]
  },
  {
   "cell_type": "code",
   "execution_count": 133,
   "metadata": {},
   "outputs": [],
   "source": [
    "driver.get(url)\n"
   ]
  },
  {
   "cell_type": "code",
   "execution_count": 134,
   "metadata": {},
   "outputs": [],
   "source": [
    "players=[]\n",
    "team=[]\n",
    "rating=[]"
   ]
  },
  {
   "cell_type": "code",
   "execution_count": 135,
   "metadata": {},
   "outputs": [
    {
     "data": {
      "text/plain": [
       "['Ellyse Perry']"
      ]
     },
     "execution_count": 135,
     "metadata": {},
     "output_type": "execute_result"
    }
   ],
   "source": [
    "player_tags=driver.find_elements_by_xpath(\"//div[@class='rankings-block__banner--name-large']\")\n",
    "player_tags\n",
    "for i in player_tags:\n",
    "    title=i.text\n",
    "    players.append(title)\n",
    "players"
   ]
  },
  {
   "cell_type": "code",
   "execution_count": 136,
   "metadata": {},
   "outputs": [],
   "source": [
    "playerss=[]\n",
    "player_tags=driver.find_elements_by_xpath(\"//td[@class='table-body__cell rankings-table__name name']\")\n",
    "player_tags\n",
    "for i in player_tags:\n",
    "    title=i.text\n",
    "    playerss.append(title)"
   ]
  },
  {
   "cell_type": "code",
   "execution_count": 137,
   "metadata": {},
   "outputs": [
    {
     "data": {
      "text/plain": [
       "['Ellyse Perry',\n",
       " ['Stafanie Taylor',\n",
       "  'Marizanne Kapp',\n",
       "  'Deepti Sharma',\n",
       "  'Dane van Niekerk',\n",
       "  'Jess Jonassen',\n",
       "  'Sophie Devine',\n",
       "  'Natalie Sciver',\n",
       "  'Shikha Pandey',\n",
       "  'Katherine Brunt',\n",
       "  'Jhulan Goswami',\n",
       "  'Ashleigh Gardner',\n",
       "  'Sune Luus',\n",
       "  'Rumana Ahmed',\n",
       "  'Heather Knight',\n",
       "  'Hayley Matthews',\n",
       "  'Poonam Yadav',\n",
       "  'Chamari Athapaththu',\n",
       "  'Amelia Kerr',\n",
       "  'Anya Shrubsole']]"
      ]
     },
     "execution_count": 137,
     "metadata": {},
     "output_type": "execute_result"
    }
   ],
   "source": [
    "players.append(playerss)\n",
    "players"
   ]
  },
  {
   "cell_type": "code",
   "execution_count": 138,
   "metadata": {},
   "outputs": [],
   "source": [
    "from nltk import flatten\n",
    "new_player=flatten(players)\n"
   ]
  },
  {
   "cell_type": "code",
   "execution_count": 139,
   "metadata": {},
   "outputs": [
    {
     "data": {
      "text/plain": [
       "['AUS']"
      ]
     },
     "execution_count": 139,
     "metadata": {},
     "output_type": "execute_result"
    }
   ],
   "source": [
    "team_tags=driver.find_elements_by_xpath(\"//div[@class='rankings-block__banner--nationality']\")\n",
    "team_tags[0:4]\n",
    "for i in team_tags:\n",
    "    title=i.text\n",
    "    team.append(title)\n",
    "team"
   ]
  },
  {
   "cell_type": "code",
   "execution_count": 140,
   "metadata": {},
   "outputs": [],
   "source": [
    "teams=[]\n",
    "team_tags=driver.find_elements_by_xpath(\"//span[@class='table-body__logo-text']\")\n",
    "team_tags[0:4]\n",
    "for i in team_tags:\n",
    "    title=i.text\n",
    "    teams.append(title)"
   ]
  },
  {
   "cell_type": "code",
   "execution_count": 141,
   "metadata": {},
   "outputs": [
    {
     "data": {
      "text/plain": [
       "['AUS',\n",
       " 'WI',\n",
       " 'SA',\n",
       " 'IND',\n",
       " 'SA',\n",
       " 'AUS',\n",
       " 'NZ',\n",
       " 'ENG',\n",
       " 'IND',\n",
       " 'ENG',\n",
       " 'IND',\n",
       " 'AUS',\n",
       " 'SA',\n",
       " 'BAN',\n",
       " 'ENG',\n",
       " 'WI',\n",
       " 'IND',\n",
       " 'SL',\n",
       " 'NZ',\n",
       " 'ENG']"
      ]
     },
     "execution_count": 141,
     "metadata": {},
     "output_type": "execute_result"
    }
   ],
   "source": [
    "team.append(teams)\n",
    "new_team=flatten(team)\n",
    "new_team\n"
   ]
  },
  {
   "cell_type": "code",
   "execution_count": 142,
   "metadata": {},
   "outputs": [
    {
     "data": {
      "text/plain": [
       "['460']"
      ]
     },
     "execution_count": 142,
     "metadata": {},
     "output_type": "execute_result"
    }
   ],
   "source": [
    "rating_tag=driver.find_elements_by_xpath(\"//div[@class='rankings-block__banner--rating']\")\n",
    "rating_tag[0:4]\n",
    "for i in rating_tag:\n",
    "    title=i.text\n",
    "    rating.append(title)\n",
    "rating"
   ]
  },
  {
   "cell_type": "code",
   "execution_count": 143,
   "metadata": {},
   "outputs": [],
   "source": [
    "rating_tag=driver.find_elements_by_xpath(\"//td[@class='table-body__cell rating']\")\n",
    "rating_tag[0:4]\n",
    "rat=[]\n",
    "for i in rating_tag:\n",
    "    title=i.text\n",
    "    rat.append(title)"
   ]
  },
  {
   "cell_type": "code",
   "execution_count": 144,
   "metadata": {},
   "outputs": [],
   "source": [
    "rating.append(rat)\n",
    "from nltk import flatten\n",
    "new_rating=flatten(rating)\n"
   ]
  },
  {
   "cell_type": "code",
   "execution_count": 145,
   "metadata": {},
   "outputs": [
    {
     "data": {
      "text/html": [
       "<div>\n",
       "<style scoped>\n",
       "    .dataframe tbody tr th:only-of-type {\n",
       "        vertical-align: middle;\n",
       "    }\n",
       "\n",
       "    .dataframe tbody tr th {\n",
       "        vertical-align: top;\n",
       "    }\n",
       "\n",
       "    .dataframe thead th {\n",
       "        text-align: right;\n",
       "    }\n",
       "</style>\n",
       "<table border=\"1\" class=\"dataframe\">\n",
       "  <thead>\n",
       "    <tr style=\"text-align: right;\">\n",
       "      <th></th>\n",
       "      <th>players</th>\n",
       "      <th>team</th>\n",
       "      <th>rating</th>\n",
       "    </tr>\n",
       "  </thead>\n",
       "  <tbody>\n",
       "    <tr>\n",
       "      <th>0</th>\n",
       "      <td>Ellyse Perry</td>\n",
       "      <td>AUS</td>\n",
       "      <td>460</td>\n",
       "    </tr>\n",
       "    <tr>\n",
       "      <th>1</th>\n",
       "      <td>Stafanie Taylor</td>\n",
       "      <td>WI</td>\n",
       "      <td>410</td>\n",
       "    </tr>\n",
       "    <tr>\n",
       "      <th>2</th>\n",
       "      <td>Marizanne Kapp</td>\n",
       "      <td>SA</td>\n",
       "      <td>389</td>\n",
       "    </tr>\n",
       "    <tr>\n",
       "      <th>3</th>\n",
       "      <td>Deepti Sharma</td>\n",
       "      <td>IND</td>\n",
       "      <td>359</td>\n",
       "    </tr>\n",
       "    <tr>\n",
       "      <th>4</th>\n",
       "      <td>Dane van Niekerk</td>\n",
       "      <td>SA</td>\n",
       "      <td>335</td>\n",
       "    </tr>\n",
       "    <tr>\n",
       "      <th>5</th>\n",
       "      <td>Jess Jonassen</td>\n",
       "      <td>AUS</td>\n",
       "      <td>301</td>\n",
       "    </tr>\n",
       "    <tr>\n",
       "      <th>6</th>\n",
       "      <td>Sophie Devine</td>\n",
       "      <td>NZ</td>\n",
       "      <td>289</td>\n",
       "    </tr>\n",
       "    <tr>\n",
       "      <th>7</th>\n",
       "      <td>Natalie Sciver</td>\n",
       "      <td>ENG</td>\n",
       "      <td>273</td>\n",
       "    </tr>\n",
       "    <tr>\n",
       "      <th>8</th>\n",
       "      <td>Shikha Pandey</td>\n",
       "      <td>IND</td>\n",
       "      <td>250</td>\n",
       "    </tr>\n",
       "    <tr>\n",
       "      <th>9</th>\n",
       "      <td>Katherine Brunt</td>\n",
       "      <td>ENG</td>\n",
       "      <td>232</td>\n",
       "    </tr>\n",
       "  </tbody>\n",
       "</table>\n",
       "</div>"
      ],
      "text/plain": [
       "            players team rating\n",
       "0      Ellyse Perry  AUS    460\n",
       "1   Stafanie Taylor   WI    410\n",
       "2    Marizanne Kapp   SA    389\n",
       "3     Deepti Sharma  IND    359\n",
       "4  Dane van Niekerk   SA    335\n",
       "5     Jess Jonassen  AUS    301\n",
       "6     Sophie Devine   NZ    289\n",
       "7    Natalie Sciver  ENG    273\n",
       "8     Shikha Pandey  IND    250\n",
       "9   Katherine Brunt  ENG    232"
      ]
     },
     "execution_count": 145,
     "metadata": {},
     "output_type": "execute_result"
    }
   ],
   "source": [
    "odi_women_allrounder_players=pd.DataFrame({})\n",
    "odi_women_allrounder_players['players']=new_player[0:10]\n",
    "odi_women_allrounder_players['team']=new_team[0:10]\n",
    "odi_women_allrounder_players['rating']=new_rating[0:10]\n",
    "odi_women_allrounder_players"
   ]
  },
  {
   "cell_type": "markdown",
   "metadata": {},
   "source": [
    "## 7.To scrape details of all the mobile phones under Rs. 20,000"
   ]
  },
  {
   "cell_type": "code",
   "execution_count": 146,
   "metadata": {},
   "outputs": [],
   "source": [
    "#lets connect to the webdriver\n",
    "driver=webdriver.Chrome(r\"C:\\Users\\Hp\\Desktop\\chromedriver.exe\")"
   ]
  },
  {
   "cell_type": "code",
   "execution_count": 147,
   "metadata": {},
   "outputs": [],
   "source": [
    "#specifying the url of the webpage to be scraped\n",
    "url=\"https://www.amazon.in/s?bbn=1389401031&rh=n%3A1389401031%2Cp_36%3A1318506031&dc&qid=1610700174&rnid=1318502031&ref=lp_1389401031_nr_p_36_3\""
   ]
  },
  {
   "cell_type": "code",
   "execution_count": 148,
   "metadata": {},
   "outputs": [],
   "source": [
    "#lets open driver\n",
    "driver.get(url)"
   ]
  },
  {
   "cell_type": "code",
   "execution_count": 149,
   "metadata": {},
   "outputs": [],
   "source": [
    "name=[]\n",
    "price=[]\n",
    "image_url=[]\n",
    "avg_rating=[]"
   ]
  },
  {
   "cell_type": "code",
   "execution_count": 150,
   "metadata": {},
   "outputs": [
    {
     "data": {
      "text/plain": [
       "[<selenium.webdriver.remote.webelement.WebElement (session=\"e6686c24efe818bbfeee1222351ac51e\", element=\"d184d72c-c3c4-4f5e-a555-501f07d55036\")>,\n",
       " <selenium.webdriver.remote.webelement.WebElement (session=\"e6686c24efe818bbfeee1222351ac51e\", element=\"68275161-a99f-47de-a55c-41c1d9e0670a\")>,\n",
       " <selenium.webdriver.remote.webelement.WebElement (session=\"e6686c24efe818bbfeee1222351ac51e\", element=\"b963ab57-d634-4499-ad6b-2ad3c812b829\")>,\n",
       " <selenium.webdriver.remote.webelement.WebElement (session=\"e6686c24efe818bbfeee1222351ac51e\", element=\"77170490-bc9f-4e95-82d9-b5dc7a47e0a2\")>]"
      ]
     },
     "execution_count": 150,
     "metadata": {},
     "output_type": "execute_result"
    }
   ],
   "source": [
    "name_tags=driver.find_elements_by_xpath(\"//span[@class='a-size-medium a-color-base a-text-normal']\")\n",
    "name_tags[0:4]"
   ]
  },
  {
   "cell_type": "code",
   "execution_count": 151,
   "metadata": {},
   "outputs": [
    {
     "data": {
      "text/plain": [
       "['Lutron Am-4221 Electronic Cup Anemometer',\n",
       " 'LG Tone Free Wireless Earbuds 99.9% Bacteria Free, Prestigious British Meridian Sound with ANC, Triple Microphones in Each Earbud and IPX4 Water Resistance (FN7, Black)',\n",
       " 'Redmi Note 9 Pro (Aurora Blue, 4GB RAM, 64GB Storage) - Latest 8nm Snapdragon 720G & Alexa Hands-Free | Upto 6 Months No Cost EMI',\n",
       " 'Samsung Galaxy M31 (Ocean Blue, 6GB RAM, 128GB Storage)',\n",
       " 'Redmi Note 9 Pro (Interstellar Black, 4GB RAM, 64GB Storage)- Latest 8nm Snapdragon 720G & Alexa Hands-Free | Upto 6 Months No Cost EMI',\n",
       " 'Samsung Galaxy M31 Prime Edition (Space Black, 6GB RAM, 128GB Storage)',\n",
       " 'Redmi 9 Power (Blazing Blue, 4GB RAM, 64GB Storage) - 6000mAh Battery | 48MP Quad Camera | Snapdragon 662 Processor',\n",
       " 'Redmi 9 Power (Mighty Black 4GB RAM 64GB Storage) - 6000mAh Battery | 48MP Quad Camera | Snapdragon 662 Processor',\n",
       " 'Redmi 9 Power (Electric Green, 4GB RAM, 64GB Storage) - 6000mAh Battery | 48MP Quad Camera | Snapdragon 662 Processor',\n",
       " 'Redmi Note 9 Pro Max (Aurora Blue, 6GB RAM, 64GB Storage)- 64MP Quad Camera & Latest 8nm Snapdragon 720G & Alexa Hands-Free | Upto 12 Months No Cost EMI',\n",
       " 'Redmi 9 Power (Blazing Blue, 4GB RAM, 128GB Storage) - 6000mAh Battery | 48MP Quad Camera | Snapdragon 662 Processor',\n",
       " 'Samsung Galaxy M21 (Midnight Blue, 4GB RAM, 64GB Storage)',\n",
       " 'Redmi Note 9 Pro Max (Aurora Blue, 6GB RAM, 128GB Storage) - 64MP Quad Camera & Latest 8nm Snapdragon 720G & Alexa Hands-Free | Extra Upto INR 1500 Off on Exchange | Upto 12 Months No Cost EMI',\n",
       " 'Redmi Note 9 (Pebble Grey, 4GB RAM 64GB Storage) - 48MP Quad Camera & Full HD+ Display',\n",
       " 'Samsung Galaxy M21 (Raven Black, 4GB RAM, 64GB Storage)',\n",
       " 'Redmi 9 Power (Mighty Black, 4GB RAM, 128GB Storage) - 6000mAh Battery | 48MP Quad Camera | Snapdragon 662 Processor',\n",
       " 'Redmi Note 9 Pro Max (Interstellar Black, 6GB RAM, 64GB Storage) - 64MP Quad Camera & Latest 8nm Snapdragon 720G & Alexa Hands-Free | Upto 12 Months No Cost EMI',\n",
       " 'Redmi 9 Power (Electric Green, 4GB RAM, 128GB Storage) - 6000mAh Battery | 48MP Quad Camera | Snapdragon 662 Processor',\n",
       " 'Oppo A31 (Mystery Black, 6GB RAM, 128GB Storage) with No Cost EMI/Additional Exchange Offers',\n",
       " 'Samsung Galaxy M31 (Space Black, 6GB RAM, 128GB Storage)',\n",
       " 'Redmi Note 9 Pro Max (Interstellar Black, 6GB RAM, 128GB Storage) - 64MP Quad Camera & Latest 8nm Snapdragon 720G & Alexa Hands-Free | Extra Upto INR 1500 Off on Exchange | Upto 12 Months No Cost EMI',\n",
       " 'Redmi Note 9 Pro (Glacier White, 4GB RAM, 64GB Storage) - Latest 8nm Snapdragon 720G & Alexa Hands-Free | Upto 6 Months No Cost EMI',\n",
       " 'Redmi Note 9 Pro (Aurora Blue, 4GB RAM, 128GB Storage) - Latest 8nm Snapdragon 720G & Alexa Hands-Free | Upto 6 Months No Cost EMI | Extra Upto INR 1000 Off on Exchange',\n",
       " 'Redmi Note 9 (Shadow Black, 4GB RAM, 64GB Storage)',\n",
       " 'Redmi 9 Prime (Sunrise Flare, 4GB RAM, 128GB Storage) - Full HD+ Display & AI Quad Camera',\n",
       " 'Redmi 9 Prime (Matte Black, 4GB RAM, 128GB Storage) - Full HD+ Display & AI Quad Camera']"
      ]
     },
     "execution_count": 151,
     "metadata": {},
     "output_type": "execute_result"
    }
   ],
   "source": [
    "for i in name_tags:\n",
    "    title=i.text\n",
    "    name.append(title)\n",
    "name"
   ]
  },
  {
   "cell_type": "code",
   "execution_count": 152,
   "metadata": {},
   "outputs": [
    {
     "data": {
      "text/plain": [
       "[<selenium.webdriver.remote.webelement.WebElement (session=\"e6686c24efe818bbfeee1222351ac51e\", element=\"3186265d-4869-448e-aee5-9aad812daeac\")>,\n",
       " <selenium.webdriver.remote.webelement.WebElement (session=\"e6686c24efe818bbfeee1222351ac51e\", element=\"d49002db-a198-4213-8acf-c947c551a92d\")>,\n",
       " <selenium.webdriver.remote.webelement.WebElement (session=\"e6686c24efe818bbfeee1222351ac51e\", element=\"0bd153bd-0610-4e89-9190-00082fe9ab2e\")>,\n",
       " <selenium.webdriver.remote.webelement.WebElement (session=\"e6686c24efe818bbfeee1222351ac51e\", element=\"23d67d19-c1ba-4832-b28f-91ca93042e47\")>]"
      ]
     },
     "execution_count": 152,
     "metadata": {},
     "output_type": "execute_result"
    }
   ],
   "source": [
    "price_tags=driver.find_elements_by_xpath(\"//span[@class='a-price-whole']\")\n",
    "price_tags[0:4]"
   ]
  },
  {
   "cell_type": "code",
   "execution_count": 153,
   "metadata": {},
   "outputs": [
    {
     "data": {
      "text/plain": [
       "['10,173',\n",
       " '19,990',\n",
       " '12,999',\n",
       " '16,499',\n",
       " '12,999',\n",
       " '16,499',\n",
       " '10,999',\n",
       " '10,999',\n",
       " '10,999',\n",
       " '15,999']"
      ]
     },
     "execution_count": 153,
     "metadata": {},
     "output_type": "execute_result"
    }
   ],
   "source": [
    "for i in price_tags:\n",
    "    title=i.text\n",
    "    price.append(title)\n",
    "price[0:10]"
   ]
  },
  {
   "cell_type": "code",
   "execution_count": 154,
   "metadata": {},
   "outputs": [
    {
     "data": {
      "text/plain": [
       "[<selenium.webdriver.remote.webelement.WebElement (session=\"e6686c24efe818bbfeee1222351ac51e\", element=\"b31cd2d3-4be8-4c3d-8c90-edb583df6908\")>,\n",
       " <selenium.webdriver.remote.webelement.WebElement (session=\"e6686c24efe818bbfeee1222351ac51e\", element=\"b7f480f7-8b55-46be-988f-147c2e00b47a\")>,\n",
       " <selenium.webdriver.remote.webelement.WebElement (session=\"e6686c24efe818bbfeee1222351ac51e\", element=\"6118a48b-410c-431a-abdf-5947b815b198\")>,\n",
       " <selenium.webdriver.remote.webelement.WebElement (session=\"e6686c24efe818bbfeee1222351ac51e\", element=\"b5f6cf51-5208-4b03-95d8-127534e8fbbf\")>]"
      ]
     },
     "execution_count": 154,
     "metadata": {},
     "output_type": "execute_result"
    }
   ],
   "source": [
    "image_tags=driver.find_elements_by_xpath(\"//div[@class='a-section aok-relative s-image-fixed-height']/img\")\n",
    "image_tags[0:4]"
   ]
  },
  {
   "cell_type": "code",
   "execution_count": 155,
   "metadata": {},
   "outputs": [
    {
     "data": {
      "text/plain": [
       "['https://m.media-amazon.com/images/I/61lYJaV2iiL._AC_UY218_.jpg',\n",
       " 'https://m.media-amazon.com/images/I/71hXPj4pPdL._AC_UY218_.jpg',\n",
       " 'https://m.media-amazon.com/images/I/81pzsRpE5GL._AC_UY218_.jpg',\n",
       " 'https://m.media-amazon.com/images/I/71-Su4Wr0HL._AC_UY218_.jpg',\n",
       " 'https://m.media-amazon.com/images/I/91Lr-OxVKjL._AC_UY218_.jpg',\n",
       " 'https://m.media-amazon.com/images/I/71Sinqbw35L._AC_UY218_.jpg',\n",
       " 'https://m.media-amazon.com/images/I/71XbGanz3qL._AC_UY218_.jpg',\n",
       " 'https://m.media-amazon.com/images/I/71Mg51D9C6L._AC_UY218_.jpg',\n",
       " 'https://m.media-amazon.com/images/I/71anKhv48FL._AC_UY218_.jpg',\n",
       " 'https://m.media-amazon.com/images/I/81DvimWN5xL._AC_UY218_.jpg',\n",
       " 'https://m.media-amazon.com/images/I/71XbGanz3qL._AC_UY218_.jpg',\n",
       " 'https://m.media-amazon.com/images/I/71dujTTJDZL._AC_UY218_.jpg',\n",
       " 'https://m.media-amazon.com/images/I/81DvimWN5xL._AC_UY218_.jpg',\n",
       " 'https://m.media-amazon.com/images/I/81mtDLql+XL._AC_UY218_.jpg',\n",
       " 'https://m.media-amazon.com/images/I/71QLvGIAq5L._AC_UY218_.jpg',\n",
       " 'https://m.media-amazon.com/images/I/71Mg51D9C6L._AC_UY218_.jpg',\n",
       " 'https://m.media-amazon.com/images/I/81u6E5niDiL._AC_UY218_.jpg',\n",
       " 'https://m.media-amazon.com/images/I/71anKhv48FL._AC_UY218_.jpg',\n",
       " 'https://m.media-amazon.com/images/I/71KCwNV6MuL._AC_UY218_.jpg',\n",
       " 'https://m.media-amazon.com/images/I/71OxJeyywSL._AC_UY218_.jpg',\n",
       " 'https://m.media-amazon.com/images/I/81u6E5niDiL._AC_UY218_.jpg',\n",
       " 'https://m.media-amazon.com/images/I/81rpzlanj1L._AC_UY218_.jpg',\n",
       " 'https://m.media-amazon.com/images/I/81pzsRpE5GL._AC_UY218_.jpg',\n",
       " 'https://m.media-amazon.com/images/I/81CSa7tuHwL._AC_UY218_.jpg',\n",
       " 'https://m.media-amazon.com/images/I/71GqB5VJFgL._AC_UY218_.jpg',\n",
       " 'https://m.media-amazon.com/images/I/711+lAQXogL._AC_UY218_.jpg']"
      ]
     },
     "execution_count": 155,
     "metadata": {},
     "output_type": "execute_result"
    }
   ],
   "source": [
    "for i in image_tags:\n",
    "    image_url.append(i.get_attribute('src'))\n",
    "image_url"
   ]
  },
  {
   "cell_type": "code",
   "execution_count": 156,
   "metadata": {},
   "outputs": [
    {
     "data": {
      "text/html": [
       "<div>\n",
       "<style scoped>\n",
       "    .dataframe tbody tr th:only-of-type {\n",
       "        vertical-align: middle;\n",
       "    }\n",
       "\n",
       "    .dataframe tbody tr th {\n",
       "        vertical-align: top;\n",
       "    }\n",
       "\n",
       "    .dataframe thead th {\n",
       "        text-align: right;\n",
       "    }\n",
       "</style>\n",
       "<table border=\"1\" class=\"dataframe\">\n",
       "  <thead>\n",
       "    <tr style=\"text-align: right;\">\n",
       "      <th></th>\n",
       "      <th>name</th>\n",
       "      <th>price</th>\n",
       "      <th>URL</th>\n",
       "    </tr>\n",
       "  </thead>\n",
       "  <tbody>\n",
       "    <tr>\n",
       "      <th>0</th>\n",
       "      <td>Lutron Am-4221 Electronic Cup Anemometer</td>\n",
       "      <td>10,173</td>\n",
       "      <td>https://m.media-amazon.com/images/I/61lYJaV2ii...</td>\n",
       "    </tr>\n",
       "    <tr>\n",
       "      <th>1</th>\n",
       "      <td>LG Tone Free Wireless Earbuds 99.9% Bacteria F...</td>\n",
       "      <td>19,990</td>\n",
       "      <td>https://m.media-amazon.com/images/I/71hXPj4pPd...</td>\n",
       "    </tr>\n",
       "    <tr>\n",
       "      <th>2</th>\n",
       "      <td>Redmi Note 9 Pro (Aurora Blue, 4GB RAM, 64GB S...</td>\n",
       "      <td>12,999</td>\n",
       "      <td>https://m.media-amazon.com/images/I/81pzsRpE5G...</td>\n",
       "    </tr>\n",
       "    <tr>\n",
       "      <th>3</th>\n",
       "      <td>Samsung Galaxy M31 (Ocean Blue, 6GB RAM, 128GB...</td>\n",
       "      <td>16,499</td>\n",
       "      <td>https://m.media-amazon.com/images/I/71-Su4Wr0H...</td>\n",
       "    </tr>\n",
       "    <tr>\n",
       "      <th>4</th>\n",
       "      <td>Redmi Note 9 Pro (Interstellar Black, 4GB RAM,...</td>\n",
       "      <td>12,999</td>\n",
       "      <td>https://m.media-amazon.com/images/I/91Lr-OxVKj...</td>\n",
       "    </tr>\n",
       "    <tr>\n",
       "      <th>5</th>\n",
       "      <td>Samsung Galaxy M31 Prime Edition (Space Black,...</td>\n",
       "      <td>16,499</td>\n",
       "      <td>https://m.media-amazon.com/images/I/71Sinqbw35...</td>\n",
       "    </tr>\n",
       "    <tr>\n",
       "      <th>6</th>\n",
       "      <td>Redmi 9 Power (Blazing Blue, 4GB RAM, 64GB Sto...</td>\n",
       "      <td>10,999</td>\n",
       "      <td>https://m.media-amazon.com/images/I/71XbGanz3q...</td>\n",
       "    </tr>\n",
       "    <tr>\n",
       "      <th>7</th>\n",
       "      <td>Redmi 9 Power (Mighty Black 4GB RAM 64GB Stora...</td>\n",
       "      <td>10,999</td>\n",
       "      <td>https://m.media-amazon.com/images/I/71Mg51D9C6...</td>\n",
       "    </tr>\n",
       "    <tr>\n",
       "      <th>8</th>\n",
       "      <td>Redmi 9 Power (Electric Green, 4GB RAM, 64GB S...</td>\n",
       "      <td>10,999</td>\n",
       "      <td>https://m.media-amazon.com/images/I/71anKhv48F...</td>\n",
       "    </tr>\n",
       "    <tr>\n",
       "      <th>9</th>\n",
       "      <td>Redmi Note 9 Pro Max (Aurora Blue, 6GB RAM, 64...</td>\n",
       "      <td>15,999</td>\n",
       "      <td>https://m.media-amazon.com/images/I/81DvimWN5x...</td>\n",
       "    </tr>\n",
       "    <tr>\n",
       "      <th>10</th>\n",
       "      <td>Redmi 9 Power (Blazing Blue, 4GB RAM, 128GB St...</td>\n",
       "      <td>11,999</td>\n",
       "      <td>https://m.media-amazon.com/images/I/71XbGanz3q...</td>\n",
       "    </tr>\n",
       "    <tr>\n",
       "      <th>11</th>\n",
       "      <td>Samsung Galaxy M21 (Midnight Blue, 4GB RAM, 64...</td>\n",
       "      <td>13,999</td>\n",
       "      <td>https://m.media-amazon.com/images/I/71dujTTJDZ...</td>\n",
       "    </tr>\n",
       "    <tr>\n",
       "      <th>12</th>\n",
       "      <td>Redmi Note 9 Pro Max (Aurora Blue, 6GB RAM, 12...</td>\n",
       "      <td>18,499</td>\n",
       "      <td>https://m.media-amazon.com/images/I/81DvimWN5x...</td>\n",
       "    </tr>\n",
       "    <tr>\n",
       "      <th>13</th>\n",
       "      <td>Redmi Note 9 (Pebble Grey, 4GB RAM 64GB Storag...</td>\n",
       "      <td>11,999</td>\n",
       "      <td>https://m.media-amazon.com/images/I/81mtDLql+X...</td>\n",
       "    </tr>\n",
       "    <tr>\n",
       "      <th>14</th>\n",
       "      <td>Samsung Galaxy M21 (Raven Black, 4GB RAM, 64GB...</td>\n",
       "      <td>13,999</td>\n",
       "      <td>https://m.media-amazon.com/images/I/71QLvGIAq5...</td>\n",
       "    </tr>\n",
       "  </tbody>\n",
       "</table>\n",
       "</div>"
      ],
      "text/plain": [
       "                                                 name   price  \\\n",
       "0            Lutron Am-4221 Electronic Cup Anemometer  10,173   \n",
       "1   LG Tone Free Wireless Earbuds 99.9% Bacteria F...  19,990   \n",
       "2   Redmi Note 9 Pro (Aurora Blue, 4GB RAM, 64GB S...  12,999   \n",
       "3   Samsung Galaxy M31 (Ocean Blue, 6GB RAM, 128GB...  16,499   \n",
       "4   Redmi Note 9 Pro (Interstellar Black, 4GB RAM,...  12,999   \n",
       "5   Samsung Galaxy M31 Prime Edition (Space Black,...  16,499   \n",
       "6   Redmi 9 Power (Blazing Blue, 4GB RAM, 64GB Sto...  10,999   \n",
       "7   Redmi 9 Power (Mighty Black 4GB RAM 64GB Stora...  10,999   \n",
       "8   Redmi 9 Power (Electric Green, 4GB RAM, 64GB S...  10,999   \n",
       "9   Redmi Note 9 Pro Max (Aurora Blue, 6GB RAM, 64...  15,999   \n",
       "10  Redmi 9 Power (Blazing Blue, 4GB RAM, 128GB St...  11,999   \n",
       "11  Samsung Galaxy M21 (Midnight Blue, 4GB RAM, 64...  13,999   \n",
       "12  Redmi Note 9 Pro Max (Aurora Blue, 6GB RAM, 12...  18,499   \n",
       "13  Redmi Note 9 (Pebble Grey, 4GB RAM 64GB Storag...  11,999   \n",
       "14  Samsung Galaxy M21 (Raven Black, 4GB RAM, 64GB...  13,999   \n",
       "\n",
       "                                                  URL  \n",
       "0   https://m.media-amazon.com/images/I/61lYJaV2ii...  \n",
       "1   https://m.media-amazon.com/images/I/71hXPj4pPd...  \n",
       "2   https://m.media-amazon.com/images/I/81pzsRpE5G...  \n",
       "3   https://m.media-amazon.com/images/I/71-Su4Wr0H...  \n",
       "4   https://m.media-amazon.com/images/I/91Lr-OxVKj...  \n",
       "5   https://m.media-amazon.com/images/I/71Sinqbw35...  \n",
       "6   https://m.media-amazon.com/images/I/71XbGanz3q...  \n",
       "7   https://m.media-amazon.com/images/I/71Mg51D9C6...  \n",
       "8   https://m.media-amazon.com/images/I/71anKhv48F...  \n",
       "9   https://m.media-amazon.com/images/I/81DvimWN5x...  \n",
       "10  https://m.media-amazon.com/images/I/71XbGanz3q...  \n",
       "11  https://m.media-amazon.com/images/I/71dujTTJDZ...  \n",
       "12  https://m.media-amazon.com/images/I/81DvimWN5x...  \n",
       "13  https://m.media-amazon.com/images/I/81mtDLql+X...  \n",
       "14  https://m.media-amazon.com/images/I/71QLvGIAq5...  "
      ]
     },
     "execution_count": 156,
     "metadata": {},
     "output_type": "execute_result"
    }
   ],
   "source": [
    "mobiles=pd.DataFrame({})\n",
    "mobiles['name']=name[0:15]\n",
    "mobiles['price']=price[0:15]\n",
    "mobiles['URL']=image_url[0:15]\n",
    "mobiles"
   ]
  },
  {
   "cell_type": "markdown",
   "metadata": {},
   "source": [
    "## 8. 7 day extended forecast display for the city San Francisco"
   ]
  },
  {
   "cell_type": "code",
   "execution_count": 157,
   "metadata": {},
   "outputs": [],
   "source": [
    "#lets connect to the webdriver\n",
    "driver=webdriver.Chrome(r\"C:\\Users\\Hp\\Desktop\\chromedriver.exe\")"
   ]
  },
  {
   "cell_type": "code",
   "execution_count": 158,
   "metadata": {},
   "outputs": [],
   "source": [
    "#url of the webpage to be scraped\n",
    "url=\"https://forecast.weather.gov/MapClick.php?lat=37.7771&lon=-122.4196#.YAFnbnYzbIU\""
   ]
  },
  {
   "cell_type": "code",
   "execution_count": 159,
   "metadata": {},
   "outputs": [],
   "source": [
    "#lets open driver\n",
    "driver.get(url)"
   ]
  },
  {
   "cell_type": "code",
   "execution_count": 160,
   "metadata": {},
   "outputs": [],
   "source": [
    "period=[]\n",
    "short_description=[]\n",
    "temp=[]\n",
    "description=[]"
   ]
  },
  {
   "cell_type": "code",
   "execution_count": 161,
   "metadata": {},
   "outputs": [
    {
     "data": {
      "text/plain": [
       "[<selenium.webdriver.remote.webelement.WebElement (session=\"dcf35aa74e26e40b11d47f57327ed3be\", element=\"d5322e6e-b1f7-4f5a-82f8-97d655517c49\")>,\n",
       " <selenium.webdriver.remote.webelement.WebElement (session=\"dcf35aa74e26e40b11d47f57327ed3be\", element=\"333db143-3752-4c0c-ab11-a39f5980eaf3\")>,\n",
       " <selenium.webdriver.remote.webelement.WebElement (session=\"dcf35aa74e26e40b11d47f57327ed3be\", element=\"67f38c54-c58c-407b-817d-64ef79522259\")>,\n",
       " <selenium.webdriver.remote.webelement.WebElement (session=\"dcf35aa74e26e40b11d47f57327ed3be\", element=\"6390ec08-ff4c-4525-8185-18e4d82d9aad\")>]"
      ]
     },
     "execution_count": 161,
     "metadata": {},
     "output_type": "execute_result"
    }
   ],
   "source": [
    "period_tags=driver.find_elements_by_xpath(\"//div[@class='tombstone-container']/p[1]\")\n",
    "period_tags[0:4]"
   ]
  },
  {
   "cell_type": "code",
   "execution_count": 162,
   "metadata": {},
   "outputs": [
    {
     "data": {
      "text/plain": [
       "['NOW until 3:00pm Mon',\n",
       " 'Tonight',\n",
       " 'M.L.King Day',\n",
       " 'Monday Night',\n",
       " 'Tuesday',\n",
       " 'Tuesday Night',\n",
       " 'Wednesday',\n",
       " 'Wednesday Night',\n",
       " 'Thursday']"
      ]
     },
     "execution_count": 162,
     "metadata": {},
     "output_type": "execute_result"
    }
   ],
   "source": [
    "for i in period_tags:\n",
    "    title=i.text.replace(\"\\n\",\" \")\n",
    "    period.append(title)\n",
    "period"
   ]
  },
  {
   "cell_type": "code",
   "execution_count": 163,
   "metadata": {},
   "outputs": [
    {
     "data": {
      "text/plain": [
       "[<selenium.webdriver.remote.webelement.WebElement (session=\"dcf35aa74e26e40b11d47f57327ed3be\", element=\"c4247bf0-e07d-46df-800d-9ba4be2bbd61\")>,\n",
       " <selenium.webdriver.remote.webelement.WebElement (session=\"dcf35aa74e26e40b11d47f57327ed3be\", element=\"c34e9b55-fb65-4545-b52e-2e8e3c70fc2a\")>,\n",
       " <selenium.webdriver.remote.webelement.WebElement (session=\"dcf35aa74e26e40b11d47f57327ed3be\", element=\"a8f0903e-68ec-47dd-ba31-8ef5c980b36b\")>,\n",
       " <selenium.webdriver.remote.webelement.WebElement (session=\"dcf35aa74e26e40b11d47f57327ed3be\", element=\"625f56fc-f603-4ba9-b8fb-db28f5bda09c\")>]"
      ]
     },
     "execution_count": 163,
     "metadata": {},
     "output_type": "execute_result"
    }
   ],
   "source": [
    "sdesc_tags=driver.find_elements_by_xpath(\"//div[@class='tombstone-container']/p[3]\")\n",
    "sdesc_tags[0:4]"
   ]
  },
  {
   "cell_type": "code",
   "execution_count": 164,
   "metadata": {},
   "outputs": [
    {
     "data": {
      "text/plain": [
       "['High Surf Advisory',\n",
       " 'Partly Cloudy',\n",
       " 'Sunny',\n",
       " 'Clear then Mostly Clear and Breezy',\n",
       " 'Sunny and Breezy then Sunny',\n",
       " 'Clear',\n",
       " 'Sunny',\n",
       " 'Mostly Clear',\n",
       " 'Mostly Sunny']"
      ]
     },
     "execution_count": 164,
     "metadata": {},
     "output_type": "execute_result"
    }
   ],
   "source": [
    "for i in sdesc_tags:\n",
    "    title=i.text.replace(\"\\n\",\" \")\n",
    "    short_description.append(title)\n",
    "short_description"
   ]
  },
  {
   "cell_type": "code",
   "execution_count": 165,
   "metadata": {},
   "outputs": [
    {
     "data": {
      "text/plain": [
       "[<selenium.webdriver.remote.webelement.WebElement (session=\"dcf35aa74e26e40b11d47f57327ed3be\", element=\"063e59a5-3be0-4354-af68-6f5f5c7a137b\")>,\n",
       " <selenium.webdriver.remote.webelement.WebElement (session=\"dcf35aa74e26e40b11d47f57327ed3be\", element=\"2e3faa0d-b60a-4a4b-95f3-1271e3851497\")>,\n",
       " <selenium.webdriver.remote.webelement.WebElement (session=\"dcf35aa74e26e40b11d47f57327ed3be\", element=\"5af46fae-d989-4d5f-a65c-1bd5e5039e31\")>,\n",
       " <selenium.webdriver.remote.webelement.WebElement (session=\"dcf35aa74e26e40b11d47f57327ed3be\", element=\"63764d1e-4783-4e43-b7e6-5d067eaa1b01\")>]"
      ]
     },
     "execution_count": 165,
     "metadata": {},
     "output_type": "execute_result"
    }
   ],
   "source": [
    "temp_tags=driver.find_elements_by_xpath(\"//div[@class='tombstone-container']/p[4]\")\n",
    "temp_tags[0:4]"
   ]
  },
  {
   "cell_type": "code",
   "execution_count": 166,
   "metadata": {},
   "outputs": [
    {
     "data": {
      "text/plain": [
       "['Low: 51 °F',\n",
       " 'High: 71 °F',\n",
       " 'Low: 51 °F',\n",
       " 'High: 68 °F',\n",
       " 'Low: 46 °F',\n",
       " 'High: 63 °F',\n",
       " 'Low: 45 °F',\n",
       " 'High: 60 °F']"
      ]
     },
     "execution_count": 166,
     "metadata": {},
     "output_type": "execute_result"
    }
   ],
   "source": [
    "for i in temp_tags:\n",
    "    title=i.text\n",
    "    temp.append(title)\n",
    "temp"
   ]
  },
  {
   "cell_type": "code",
   "execution_count": 167,
   "metadata": {},
   "outputs": [
    {
     "data": {
      "text/plain": [
       "[<selenium.webdriver.remote.webelement.WebElement (session=\"dcf35aa74e26e40b11d47f57327ed3be\", element=\"dd869d0f-60e6-4f41-b74e-7015861b4623\")>,\n",
       " <selenium.webdriver.remote.webelement.WebElement (session=\"dcf35aa74e26e40b11d47f57327ed3be\", element=\"aede2d12-dabe-46ad-8cf1-40ec5e8b2619\")>,\n",
       " <selenium.webdriver.remote.webelement.WebElement (session=\"dcf35aa74e26e40b11d47f57327ed3be\", element=\"cb5fae84-7c42-4a79-8aa3-867bcac0c66d\")>,\n",
       " <selenium.webdriver.remote.webelement.WebElement (session=\"dcf35aa74e26e40b11d47f57327ed3be\", element=\"031722a4-7e81-4a05-b4e3-db69ff094b13\")>]"
      ]
     },
     "execution_count": 167,
     "metadata": {},
     "output_type": "execute_result"
    }
   ],
   "source": [
    "desc_tags=driver.find_elements_by_xpath(\"//div[@class='col-sm-10 forecast-text']\")\n",
    "desc_tags[0:4]"
   ]
  },
  {
   "cell_type": "code",
   "execution_count": 168,
   "metadata": {},
   "outputs": [
    {
     "data": {
      "text/plain": [
       "['Partly cloudy, with a low around 51. West southwest wind around 5 mph becoming calm in the evening.',\n",
       " 'Sunny, with a high near 71. North wind 8 to 14 mph, with gusts as high as 30 mph.',\n",
       " 'Mostly clear, with a low around 51. Breezy, with a north wind 17 to 25 mph, with gusts as high as 44 mph.',\n",
       " 'Sunny, with a high near 68. Breezy, with a north northeast wind 20 to 24 mph, with gusts as high as 41 mph.',\n",
       " 'Clear, with a low around 46. North northeast wind 3 to 6 mph. Winds could gust as high as 30 mph.',\n",
       " 'Sunny, with a high near 63.',\n",
       " 'Mostly clear, with a low around 45.',\n",
       " 'Mostly sunny, with a high near 60.',\n",
       " 'Partly cloudy, with a low around 46.',\n",
       " 'A slight chance of rain. Mostly sunny, with a high near 57.',\n",
       " 'A slight chance of rain. Partly cloudy, with a low around 44.',\n",
       " 'Sunny, with a high near 58.',\n",
       " 'A slight chance of rain. Mostly clear, with a low around 44.',\n",
       " 'A chance of rain. Partly sunny, with a high near 56.']"
      ]
     },
     "execution_count": 168,
     "metadata": {},
     "output_type": "execute_result"
    }
   ],
   "source": [
    "for i in desc_tags:\n",
    "    title=i.text\n",
    "    description.append(title)\n",
    "description"
   ]
  },
  {
   "cell_type": "code",
   "execution_count": 170,
   "metadata": {},
   "outputs": [
    {
     "data": {
      "text/html": [
       "<div>\n",
       "<style scoped>\n",
       "    .dataframe tbody tr th:only-of-type {\n",
       "        vertical-align: middle;\n",
       "    }\n",
       "\n",
       "    .dataframe tbody tr th {\n",
       "        vertical-align: top;\n",
       "    }\n",
       "\n",
       "    .dataframe thead th {\n",
       "        text-align: right;\n",
       "    }\n",
       "</style>\n",
       "<table border=\"1\" class=\"dataframe\">\n",
       "  <thead>\n",
       "    <tr style=\"text-align: right;\">\n",
       "      <th></th>\n",
       "      <th>period</th>\n",
       "      <th>short_description</th>\n",
       "      <th>temp</th>\n",
       "      <th>description</th>\n",
       "    </tr>\n",
       "  </thead>\n",
       "  <tbody>\n",
       "    <tr>\n",
       "      <th>0</th>\n",
       "      <td>NOW until 3:00pm Mon</td>\n",
       "      <td>High Surf Advisory</td>\n",
       "      <td>Low: 51 °F</td>\n",
       "      <td>Partly cloudy, with a low around 51. West sout...</td>\n",
       "    </tr>\n",
       "    <tr>\n",
       "      <th>1</th>\n",
       "      <td>Tonight</td>\n",
       "      <td>Partly Cloudy</td>\n",
       "      <td>High: 71 °F</td>\n",
       "      <td>Sunny, with a high near 71. North wind 8 to 14...</td>\n",
       "    </tr>\n",
       "    <tr>\n",
       "      <th>2</th>\n",
       "      <td>M.L.King Day</td>\n",
       "      <td>Sunny</td>\n",
       "      <td>Low: 51 °F</td>\n",
       "      <td>Mostly clear, with a low around 51. Breezy, wi...</td>\n",
       "    </tr>\n",
       "    <tr>\n",
       "      <th>3</th>\n",
       "      <td>Monday Night</td>\n",
       "      <td>Clear then Mostly Clear and Breezy</td>\n",
       "      <td>High: 68 °F</td>\n",
       "      <td>Sunny, with a high near 68. Breezy, with a nor...</td>\n",
       "    </tr>\n",
       "    <tr>\n",
       "      <th>4</th>\n",
       "      <td>Tuesday</td>\n",
       "      <td>Sunny and Breezy then Sunny</td>\n",
       "      <td>Low: 46 °F</td>\n",
       "      <td>Clear, with a low around 46. North northeast w...</td>\n",
       "    </tr>\n",
       "    <tr>\n",
       "      <th>5</th>\n",
       "      <td>Tuesday Night</td>\n",
       "      <td>Clear</td>\n",
       "      <td>High: 63 °F</td>\n",
       "      <td>Sunny, with a high near 63.</td>\n",
       "    </tr>\n",
       "    <tr>\n",
       "      <th>6</th>\n",
       "      <td>Wednesday</td>\n",
       "      <td>Sunny</td>\n",
       "      <td>Low: 45 °F</td>\n",
       "      <td>Mostly clear, with a low around 45.</td>\n",
       "    </tr>\n",
       "    <tr>\n",
       "      <th>7</th>\n",
       "      <td>Wednesday Night</td>\n",
       "      <td>Mostly Clear</td>\n",
       "      <td>High: 60 °F</td>\n",
       "      <td>Mostly sunny, with a high near 60.</td>\n",
       "    </tr>\n",
       "  </tbody>\n",
       "</table>\n",
       "</div>"
      ],
      "text/plain": [
       "                 period                   short_description         temp  \\\n",
       "0  NOW until 3:00pm Mon                  High Surf Advisory   Low: 51 °F   \n",
       "1               Tonight                       Partly Cloudy  High: 71 °F   \n",
       "2          M.L.King Day                               Sunny   Low: 51 °F   \n",
       "3          Monday Night  Clear then Mostly Clear and Breezy  High: 68 °F   \n",
       "4               Tuesday         Sunny and Breezy then Sunny   Low: 46 °F   \n",
       "5         Tuesday Night                               Clear  High: 63 °F   \n",
       "6             Wednesday                               Sunny   Low: 45 °F   \n",
       "7       Wednesday Night                        Mostly Clear  High: 60 °F   \n",
       "\n",
       "                                         description  \n",
       "0  Partly cloudy, with a low around 51. West sout...  \n",
       "1  Sunny, with a high near 71. North wind 8 to 14...  \n",
       "2  Mostly clear, with a low around 51. Breezy, wi...  \n",
       "3  Sunny, with a high near 68. Breezy, with a nor...  \n",
       "4  Clear, with a low around 46. North northeast w...  \n",
       "5                        Sunny, with a high near 63.  \n",
       "6                Mostly clear, with a low around 45.  \n",
       "7                 Mostly sunny, with a high near 60.  "
      ]
     },
     "execution_count": 170,
     "metadata": {},
     "output_type": "execute_result"
    }
   ],
   "source": [
    "weather_forecast=pd.DataFrame({})\n",
    "weather_forecast['period']=period[0:8]\n",
    "weather_forecast['short_description']=short_description[0:8]\n",
    "weather_forecast['temp']=temp[0:8]\n",
    "weather_forecast['description']=description[0:8]\n",
    "weather_forecast"
   ]
  }
 ],
 "metadata": {
  "kernelspec": {
   "display_name": "Python 3",
   "language": "python",
   "name": "python3"
  },
  "language_info": {
   "codemirror_mode": {
    "name": "ipython",
    "version": 3
   },
   "file_extension": ".py",
   "mimetype": "text/x-python",
   "name": "python",
   "nbconvert_exporter": "python",
   "pygments_lexer": "ipython3",
   "version": "3.7.6"
  }
 },
 "nbformat": 4,
 "nbformat_minor": 4
}
